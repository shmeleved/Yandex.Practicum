{
 "cells": [
  {
   "cell_type": "markdown",
   "metadata": {},
   "source": [
    "# Investigation of the reliability of borrowers"
   ]
  },
  {
   "cell_type": "markdown",
   "metadata": {},
   "source": [
    "The customer is the credit department of the bank. It is necessary to understand whether the marital status and the number of children of the client affect the fact of repayment of the loan on time. Input data from the bank — statistics on the solvency of customers.\n",
    "\n",
    "The results of the study will be taken into account when building a credit scoring model — a special system that evaluates the ability of a potential borrower to repay a loan to a bank."
   ]
  },
  {
   "cell_type": "markdown",
   "metadata": {},
   "source": [
    "We will also answer the following questions:\n",
    "\n",
    "* Is there a relationship between the number of children and credit repayment on time?\n",
    "* Is there a relationship between marital status and loan repayment on time?\n",
    "* Is there a relationship between income level and credit repayment on time?\n",
    "* How do different loan goals affect its repayment on time?"
   ]
  },
  {
   "cell_type": "markdown",
   "metadata": {},
   "source": [
    "## Step 1. Data Overview"
   ]
  },
  {
   "cell_type": "code",
   "execution_count": 1,
   "metadata": {},
   "outputs": [],
   "source": [
    "import pandas as pd"
   ]
  },
  {
   "cell_type": "code",
   "execution_count": 2,
   "metadata": {},
   "outputs": [
    {
     "data": {
      "text/html": [
       "<div>\n",
       "<style scoped>\n",
       "    .dataframe tbody tr th:only-of-type {\n",
       "        vertical-align: middle;\n",
       "    }\n",
       "\n",
       "    .dataframe tbody tr th {\n",
       "        vertical-align: top;\n",
       "    }\n",
       "\n",
       "    .dataframe thead th {\n",
       "        text-align: right;\n",
       "    }\n",
       "</style>\n",
       "<table border=\"1\" class=\"dataframe\">\n",
       "  <thead>\n",
       "    <tr style=\"text-align: right;\">\n",
       "      <th></th>\n",
       "      <th>children</th>\n",
       "      <th>days_employed</th>\n",
       "      <th>dob_years</th>\n",
       "      <th>education</th>\n",
       "      <th>education_id</th>\n",
       "      <th>family_status</th>\n",
       "      <th>family_status_id</th>\n",
       "      <th>gender</th>\n",
       "      <th>income_type</th>\n",
       "      <th>debt</th>\n",
       "      <th>total_income</th>\n",
       "      <th>purpose</th>\n",
       "    </tr>\n",
       "  </thead>\n",
       "  <tbody>\n",
       "    <tr>\n",
       "      <th>0</th>\n",
       "      <td>1</td>\n",
       "      <td>-8437.673028</td>\n",
       "      <td>42</td>\n",
       "      <td>высшее</td>\n",
       "      <td>0</td>\n",
       "      <td>женат / замужем</td>\n",
       "      <td>0</td>\n",
       "      <td>F</td>\n",
       "      <td>сотрудник</td>\n",
       "      <td>0</td>\n",
       "      <td>253875.639453</td>\n",
       "      <td>покупка жилья</td>\n",
       "    </tr>\n",
       "    <tr>\n",
       "      <th>1</th>\n",
       "      <td>1</td>\n",
       "      <td>-4024.803754</td>\n",
       "      <td>36</td>\n",
       "      <td>среднее</td>\n",
       "      <td>1</td>\n",
       "      <td>женат / замужем</td>\n",
       "      <td>0</td>\n",
       "      <td>F</td>\n",
       "      <td>сотрудник</td>\n",
       "      <td>0</td>\n",
       "      <td>112080.014102</td>\n",
       "      <td>приобретение автомобиля</td>\n",
       "    </tr>\n",
       "    <tr>\n",
       "      <th>2</th>\n",
       "      <td>0</td>\n",
       "      <td>-5623.422610</td>\n",
       "      <td>33</td>\n",
       "      <td>Среднее</td>\n",
       "      <td>1</td>\n",
       "      <td>женат / замужем</td>\n",
       "      <td>0</td>\n",
       "      <td>M</td>\n",
       "      <td>сотрудник</td>\n",
       "      <td>0</td>\n",
       "      <td>145885.952297</td>\n",
       "      <td>покупка жилья</td>\n",
       "    </tr>\n",
       "    <tr>\n",
       "      <th>3</th>\n",
       "      <td>3</td>\n",
       "      <td>-4124.747207</td>\n",
       "      <td>32</td>\n",
       "      <td>среднее</td>\n",
       "      <td>1</td>\n",
       "      <td>женат / замужем</td>\n",
       "      <td>0</td>\n",
       "      <td>M</td>\n",
       "      <td>сотрудник</td>\n",
       "      <td>0</td>\n",
       "      <td>267628.550329</td>\n",
       "      <td>дополнительное образование</td>\n",
       "    </tr>\n",
       "    <tr>\n",
       "      <th>4</th>\n",
       "      <td>0</td>\n",
       "      <td>340266.072047</td>\n",
       "      <td>53</td>\n",
       "      <td>среднее</td>\n",
       "      <td>1</td>\n",
       "      <td>гражданский брак</td>\n",
       "      <td>1</td>\n",
       "      <td>F</td>\n",
       "      <td>пенсионер</td>\n",
       "      <td>0</td>\n",
       "      <td>158616.077870</td>\n",
       "      <td>сыграть свадьбу</td>\n",
       "    </tr>\n",
       "  </tbody>\n",
       "</table>\n",
       "</div>"
      ],
      "text/plain": [
       "   children  days_employed  dob_years education  education_id  \\\n",
       "0         1   -8437.673028         42    высшее             0   \n",
       "1         1   -4024.803754         36   среднее             1   \n",
       "2         0   -5623.422610         33   Среднее             1   \n",
       "3         3   -4124.747207         32   среднее             1   \n",
       "4         0  340266.072047         53   среднее             1   \n",
       "\n",
       "      family_status  family_status_id gender income_type  debt   total_income  \\\n",
       "0   женат / замужем                 0      F   сотрудник     0  253875.639453   \n",
       "1   женат / замужем                 0      F   сотрудник     0  112080.014102   \n",
       "2   женат / замужем                 0      M   сотрудник     0  145885.952297   \n",
       "3   женат / замужем                 0      M   сотрудник     0  267628.550329   \n",
       "4  гражданский брак                 1      F   пенсионер     0  158616.077870   \n",
       "\n",
       "                      purpose  \n",
       "0               покупка жилья  \n",
       "1     приобретение автомобиля  \n",
       "2               покупка жилья  \n",
       "3  дополнительное образование  \n",
       "4             сыграть свадьбу  "
      ]
     },
     "execution_count": 2,
     "metadata": {},
     "output_type": "execute_result"
    }
   ],
   "source": [
    "data = pd.read_csv('datasets/data.csv')\n",
    "data.head()"
   ]
  },
  {
   "cell_type": "code",
   "execution_count": 3,
   "metadata": {},
   "outputs": [
    {
     "data": {
      "text/html": [
       "<div>\n",
       "<style scoped>\n",
       "    .dataframe tbody tr th:only-of-type {\n",
       "        vertical-align: middle;\n",
       "    }\n",
       "\n",
       "    .dataframe tbody tr th {\n",
       "        vertical-align: top;\n",
       "    }\n",
       "\n",
       "    .dataframe thead th {\n",
       "        text-align: right;\n",
       "    }\n",
       "</style>\n",
       "<table border=\"1\" class=\"dataframe\">\n",
       "  <thead>\n",
       "    <tr style=\"text-align: right;\">\n",
       "      <th></th>\n",
       "      <th>children</th>\n",
       "      <th>days_employed</th>\n",
       "      <th>dob_years</th>\n",
       "      <th>education_id</th>\n",
       "      <th>family_status_id</th>\n",
       "      <th>debt</th>\n",
       "      <th>total_income</th>\n",
       "    </tr>\n",
       "  </thead>\n",
       "  <tbody>\n",
       "    <tr>\n",
       "      <th>count</th>\n",
       "      <td>21525.000000</td>\n",
       "      <td>19351.000000</td>\n",
       "      <td>21525.000000</td>\n",
       "      <td>21525.000000</td>\n",
       "      <td>21525.000000</td>\n",
       "      <td>21525.000000</td>\n",
       "      <td>1.935100e+04</td>\n",
       "    </tr>\n",
       "    <tr>\n",
       "      <th>mean</th>\n",
       "      <td>0.538908</td>\n",
       "      <td>63046.497661</td>\n",
       "      <td>43.293380</td>\n",
       "      <td>0.817236</td>\n",
       "      <td>0.972544</td>\n",
       "      <td>0.080883</td>\n",
       "      <td>1.674223e+05</td>\n",
       "    </tr>\n",
       "    <tr>\n",
       "      <th>std</th>\n",
       "      <td>1.381587</td>\n",
       "      <td>140827.311974</td>\n",
       "      <td>12.574584</td>\n",
       "      <td>0.548138</td>\n",
       "      <td>1.420324</td>\n",
       "      <td>0.272661</td>\n",
       "      <td>1.029716e+05</td>\n",
       "    </tr>\n",
       "    <tr>\n",
       "      <th>min</th>\n",
       "      <td>-1.000000</td>\n",
       "      <td>-18388.949901</td>\n",
       "      <td>0.000000</td>\n",
       "      <td>0.000000</td>\n",
       "      <td>0.000000</td>\n",
       "      <td>0.000000</td>\n",
       "      <td>2.066726e+04</td>\n",
       "    </tr>\n",
       "    <tr>\n",
       "      <th>25%</th>\n",
       "      <td>0.000000</td>\n",
       "      <td>-2747.423625</td>\n",
       "      <td>33.000000</td>\n",
       "      <td>1.000000</td>\n",
       "      <td>0.000000</td>\n",
       "      <td>0.000000</td>\n",
       "      <td>1.030532e+05</td>\n",
       "    </tr>\n",
       "    <tr>\n",
       "      <th>50%</th>\n",
       "      <td>0.000000</td>\n",
       "      <td>-1203.369529</td>\n",
       "      <td>42.000000</td>\n",
       "      <td>1.000000</td>\n",
       "      <td>0.000000</td>\n",
       "      <td>0.000000</td>\n",
       "      <td>1.450179e+05</td>\n",
       "    </tr>\n",
       "    <tr>\n",
       "      <th>75%</th>\n",
       "      <td>1.000000</td>\n",
       "      <td>-291.095954</td>\n",
       "      <td>53.000000</td>\n",
       "      <td>1.000000</td>\n",
       "      <td>1.000000</td>\n",
       "      <td>0.000000</td>\n",
       "      <td>2.034351e+05</td>\n",
       "    </tr>\n",
       "    <tr>\n",
       "      <th>max</th>\n",
       "      <td>20.000000</td>\n",
       "      <td>401755.400475</td>\n",
       "      <td>75.000000</td>\n",
       "      <td>4.000000</td>\n",
       "      <td>4.000000</td>\n",
       "      <td>1.000000</td>\n",
       "      <td>2.265604e+06</td>\n",
       "    </tr>\n",
       "  </tbody>\n",
       "</table>\n",
       "</div>"
      ],
      "text/plain": [
       "           children  days_employed     dob_years  education_id  \\\n",
       "count  21525.000000   19351.000000  21525.000000  21525.000000   \n",
       "mean       0.538908   63046.497661     43.293380      0.817236   \n",
       "std        1.381587  140827.311974     12.574584      0.548138   \n",
       "min       -1.000000  -18388.949901      0.000000      0.000000   \n",
       "25%        0.000000   -2747.423625     33.000000      1.000000   \n",
       "50%        0.000000   -1203.369529     42.000000      1.000000   \n",
       "75%        1.000000    -291.095954     53.000000      1.000000   \n",
       "max       20.000000  401755.400475     75.000000      4.000000   \n",
       "\n",
       "       family_status_id          debt  total_income  \n",
       "count      21525.000000  21525.000000  1.935100e+04  \n",
       "mean           0.972544      0.080883  1.674223e+05  \n",
       "std            1.420324      0.272661  1.029716e+05  \n",
       "min            0.000000      0.000000  2.066726e+04  \n",
       "25%            0.000000      0.000000  1.030532e+05  \n",
       "50%            0.000000      0.000000  1.450179e+05  \n",
       "75%            1.000000      0.000000  2.034351e+05  \n",
       "max            4.000000      1.000000  2.265604e+06  "
      ]
     },
     "execution_count": 3,
     "metadata": {},
     "output_type": "execute_result"
    }
   ],
   "source": [
    "data.describe()"
   ]
  },
  {
   "cell_type": "code",
   "execution_count": 4,
   "metadata": {},
   "outputs": [
    {
     "name": "stdout",
     "output_type": "stream",
     "text": [
      "<class 'pandas.core.frame.DataFrame'>\n",
      "RangeIndex: 21525 entries, 0 to 21524\n",
      "Data columns (total 12 columns):\n",
      " #   Column            Non-Null Count  Dtype  \n",
      "---  ------            --------------  -----  \n",
      " 0   children          21525 non-null  int64  \n",
      " 1   days_employed     19351 non-null  float64\n",
      " 2   dob_years         21525 non-null  int64  \n",
      " 3   education         21525 non-null  object \n",
      " 4   education_id      21525 non-null  int64  \n",
      " 5   family_status     21525 non-null  object \n",
      " 6   family_status_id  21525 non-null  int64  \n",
      " 7   gender            21525 non-null  object \n",
      " 8   income_type       21525 non-null  object \n",
      " 9   debt              21525 non-null  int64  \n",
      " 10  total_income      19351 non-null  float64\n",
      " 11  purpose           21525 non-null  object \n",
      "dtypes: float64(2), int64(5), object(5)\n",
      "memory usage: 2.0+ MB\n"
     ]
    }
   ],
   "source": [
    "data.info()"
   ]
  },
  {
   "cell_type": "markdown",
   "metadata": {},
   "source": [
    "**According to the data documentation:**\n",
    "\n",
    "* `children` — the number of children in the family;\n",
    "* `days_employed` — total work experience in days;\n",
    "* `dob_years` — client's age in years;\n",
    "* `education` — the level of education of the client;\n",
    "* `education_id` — identifier of the level of education;\n",
    "* `family_status` — marital status;\n",
    "* `family_status_id` — id of marital status;\n",
    "* `gender` — the gender of the client;\n",
    "* `income_type` — type of employment;\n",
    "* `debt` — whether there was a debt on repayment of loans;\n",
    "* `total_income` — monthly income;\n",
    "* `purpose` — the purpose of obtaining a loan."
   ]
  },
  {
   "cell_type": "markdown",
   "metadata": {},
   "source": [
    "### Conclusion"
   ]
  },
  {
   "cell_type": "markdown",
   "metadata": {},
   "source": [
    "The data file contains 12 columns (5 integer columns, 5 floating point columns and 5 objects) and 21525 rows of data.\n",
    "\n",
    "At first sight, the column names look appropriate and do not contain any flaws.\n",
    "\n",
    "The days_employed and total_income columns contain missing values. Moreover, their number is the same, perhaps this is important, it will need to be paid attention to when preprocessing data."
   ]
  },
  {
   "cell_type": "markdown",
   "metadata": {},
   "source": [
    "## Step 2. Data Preprocessing"
   ]
  },
  {
   "cell_type": "markdown",
   "metadata": {},
   "source": [
    "### Filling the gaps"
   ]
  },
  {
   "cell_type": "code",
   "execution_count": 5,
   "metadata": {},
   "outputs": [],
   "source": [
    "days_employed_NaN = data[data['days_employed'].isna()].shape[0]\n",
    "total_income_NaN = data[data['total_income'].isna()].shape[0]"
   ]
  },
  {
   "cell_type": "code",
   "execution_count": 6,
   "metadata": {
    "scrolled": false
   },
   "outputs": [
    {
     "name": "stdout",
     "output_type": "stream",
     "text": [
      "Missing rows in the days_employed: 2174\n",
      "Missing rows in the total_income: 2174\n",
      "Percentage of missing values: 10%\n"
     ]
    },
    {
     "data": {
      "text/html": [
       "<div>\n",
       "<style scoped>\n",
       "    .dataframe tbody tr th:only-of-type {\n",
       "        vertical-align: middle;\n",
       "    }\n",
       "\n",
       "    .dataframe tbody tr th {\n",
       "        vertical-align: top;\n",
       "    }\n",
       "\n",
       "    .dataframe thead th {\n",
       "        text-align: right;\n",
       "    }\n",
       "</style>\n",
       "<table border=\"1\" class=\"dataframe\">\n",
       "  <thead>\n",
       "    <tr style=\"text-align: right;\">\n",
       "      <th></th>\n",
       "      <th>children</th>\n",
       "      <th>days_employed</th>\n",
       "      <th>dob_years</th>\n",
       "      <th>education</th>\n",
       "      <th>education_id</th>\n",
       "      <th>family_status</th>\n",
       "      <th>family_status_id</th>\n",
       "      <th>gender</th>\n",
       "      <th>income_type</th>\n",
       "      <th>debt</th>\n",
       "      <th>total_income</th>\n",
       "      <th>purpose</th>\n",
       "    </tr>\n",
       "  </thead>\n",
       "  <tbody>\n",
       "    <tr>\n",
       "      <th>12</th>\n",
       "      <td>0</td>\n",
       "      <td>NaN</td>\n",
       "      <td>65</td>\n",
       "      <td>среднее</td>\n",
       "      <td>1</td>\n",
       "      <td>гражданский брак</td>\n",
       "      <td>1</td>\n",
       "      <td>M</td>\n",
       "      <td>пенсионер</td>\n",
       "      <td>0</td>\n",
       "      <td>NaN</td>\n",
       "      <td>сыграть свадьбу</td>\n",
       "    </tr>\n",
       "    <tr>\n",
       "      <th>26</th>\n",
       "      <td>0</td>\n",
       "      <td>NaN</td>\n",
       "      <td>41</td>\n",
       "      <td>среднее</td>\n",
       "      <td>1</td>\n",
       "      <td>женат / замужем</td>\n",
       "      <td>0</td>\n",
       "      <td>M</td>\n",
       "      <td>госслужащий</td>\n",
       "      <td>0</td>\n",
       "      <td>NaN</td>\n",
       "      <td>образование</td>\n",
       "    </tr>\n",
       "    <tr>\n",
       "      <th>29</th>\n",
       "      <td>0</td>\n",
       "      <td>NaN</td>\n",
       "      <td>63</td>\n",
       "      <td>среднее</td>\n",
       "      <td>1</td>\n",
       "      <td>Не женат / не замужем</td>\n",
       "      <td>4</td>\n",
       "      <td>F</td>\n",
       "      <td>пенсионер</td>\n",
       "      <td>0</td>\n",
       "      <td>NaN</td>\n",
       "      <td>строительство жилой недвижимости</td>\n",
       "    </tr>\n",
       "    <tr>\n",
       "      <th>41</th>\n",
       "      <td>0</td>\n",
       "      <td>NaN</td>\n",
       "      <td>50</td>\n",
       "      <td>среднее</td>\n",
       "      <td>1</td>\n",
       "      <td>женат / замужем</td>\n",
       "      <td>0</td>\n",
       "      <td>F</td>\n",
       "      <td>госслужащий</td>\n",
       "      <td>0</td>\n",
       "      <td>NaN</td>\n",
       "      <td>сделка с подержанным автомобилем</td>\n",
       "    </tr>\n",
       "    <tr>\n",
       "      <th>55</th>\n",
       "      <td>0</td>\n",
       "      <td>NaN</td>\n",
       "      <td>54</td>\n",
       "      <td>среднее</td>\n",
       "      <td>1</td>\n",
       "      <td>гражданский брак</td>\n",
       "      <td>1</td>\n",
       "      <td>F</td>\n",
       "      <td>пенсионер</td>\n",
       "      <td>1</td>\n",
       "      <td>NaN</td>\n",
       "      <td>сыграть свадьбу</td>\n",
       "    </tr>\n",
       "  </tbody>\n",
       "</table>\n",
       "</div>"
      ],
      "text/plain": [
       "    children  days_employed  dob_years education  education_id  \\\n",
       "12         0            NaN         65   среднее             1   \n",
       "26         0            NaN         41   среднее             1   \n",
       "29         0            NaN         63   среднее             1   \n",
       "41         0            NaN         50   среднее             1   \n",
       "55         0            NaN         54   среднее             1   \n",
       "\n",
       "            family_status  family_status_id gender  income_type  debt  \\\n",
       "12       гражданский брак                 1      M    пенсионер     0   \n",
       "26        женат / замужем                 0      M  госслужащий     0   \n",
       "29  Не женат / не замужем                 4      F    пенсионер     0   \n",
       "41        женат / замужем                 0      F  госслужащий     0   \n",
       "55       гражданский брак                 1      F    пенсионер     1   \n",
       "\n",
       "    total_income                           purpose  \n",
       "12           NaN                   сыграть свадьбу  \n",
       "26           NaN                       образование  \n",
       "29           NaN  строительство жилой недвижимости  \n",
       "41           NaN  сделка с подержанным автомобилем  \n",
       "55           NaN                   сыграть свадьбу  "
      ]
     },
     "metadata": {},
     "output_type": "display_data"
    },
    {
     "data": {
      "text/html": [
       "<div>\n",
       "<style scoped>\n",
       "    .dataframe tbody tr th:only-of-type {\n",
       "        vertical-align: middle;\n",
       "    }\n",
       "\n",
       "    .dataframe tbody tr th {\n",
       "        vertical-align: top;\n",
       "    }\n",
       "\n",
       "    .dataframe thead th {\n",
       "        text-align: right;\n",
       "    }\n",
       "</style>\n",
       "<table border=\"1\" class=\"dataframe\">\n",
       "  <thead>\n",
       "    <tr style=\"text-align: right;\">\n",
       "      <th></th>\n",
       "      <th>children</th>\n",
       "      <th>days_employed</th>\n",
       "      <th>dob_years</th>\n",
       "      <th>education</th>\n",
       "      <th>education_id</th>\n",
       "      <th>family_status</th>\n",
       "      <th>family_status_id</th>\n",
       "      <th>gender</th>\n",
       "      <th>income_type</th>\n",
       "      <th>debt</th>\n",
       "      <th>total_income</th>\n",
       "      <th>purpose</th>\n",
       "    </tr>\n",
       "  </thead>\n",
       "  <tbody>\n",
       "    <tr>\n",
       "      <th>12</th>\n",
       "      <td>0</td>\n",
       "      <td>NaN</td>\n",
       "      <td>65</td>\n",
       "      <td>среднее</td>\n",
       "      <td>1</td>\n",
       "      <td>гражданский брак</td>\n",
       "      <td>1</td>\n",
       "      <td>M</td>\n",
       "      <td>пенсионер</td>\n",
       "      <td>0</td>\n",
       "      <td>NaN</td>\n",
       "      <td>сыграть свадьбу</td>\n",
       "    </tr>\n",
       "    <tr>\n",
       "      <th>26</th>\n",
       "      <td>0</td>\n",
       "      <td>NaN</td>\n",
       "      <td>41</td>\n",
       "      <td>среднее</td>\n",
       "      <td>1</td>\n",
       "      <td>женат / замужем</td>\n",
       "      <td>0</td>\n",
       "      <td>M</td>\n",
       "      <td>госслужащий</td>\n",
       "      <td>0</td>\n",
       "      <td>NaN</td>\n",
       "      <td>образование</td>\n",
       "    </tr>\n",
       "    <tr>\n",
       "      <th>29</th>\n",
       "      <td>0</td>\n",
       "      <td>NaN</td>\n",
       "      <td>63</td>\n",
       "      <td>среднее</td>\n",
       "      <td>1</td>\n",
       "      <td>Не женат / не замужем</td>\n",
       "      <td>4</td>\n",
       "      <td>F</td>\n",
       "      <td>пенсионер</td>\n",
       "      <td>0</td>\n",
       "      <td>NaN</td>\n",
       "      <td>строительство жилой недвижимости</td>\n",
       "    </tr>\n",
       "    <tr>\n",
       "      <th>41</th>\n",
       "      <td>0</td>\n",
       "      <td>NaN</td>\n",
       "      <td>50</td>\n",
       "      <td>среднее</td>\n",
       "      <td>1</td>\n",
       "      <td>женат / замужем</td>\n",
       "      <td>0</td>\n",
       "      <td>F</td>\n",
       "      <td>госслужащий</td>\n",
       "      <td>0</td>\n",
       "      <td>NaN</td>\n",
       "      <td>сделка с подержанным автомобилем</td>\n",
       "    </tr>\n",
       "    <tr>\n",
       "      <th>55</th>\n",
       "      <td>0</td>\n",
       "      <td>NaN</td>\n",
       "      <td>54</td>\n",
       "      <td>среднее</td>\n",
       "      <td>1</td>\n",
       "      <td>гражданский брак</td>\n",
       "      <td>1</td>\n",
       "      <td>F</td>\n",
       "      <td>пенсионер</td>\n",
       "      <td>1</td>\n",
       "      <td>NaN</td>\n",
       "      <td>сыграть свадьбу</td>\n",
       "    </tr>\n",
       "  </tbody>\n",
       "</table>\n",
       "</div>"
      ],
      "text/plain": [
       "    children  days_employed  dob_years education  education_id  \\\n",
       "12         0            NaN         65   среднее             1   \n",
       "26         0            NaN         41   среднее             1   \n",
       "29         0            NaN         63   среднее             1   \n",
       "41         0            NaN         50   среднее             1   \n",
       "55         0            NaN         54   среднее             1   \n",
       "\n",
       "            family_status  family_status_id gender  income_type  debt  \\\n",
       "12       гражданский брак                 1      M    пенсионер     0   \n",
       "26        женат / замужем                 0      M  госслужащий     0   \n",
       "29  Не женат / не замужем                 4      F    пенсионер     0   \n",
       "41        женат / замужем                 0      F  госслужащий     0   \n",
       "55       гражданский брак                 1      F    пенсионер     1   \n",
       "\n",
       "    total_income                           purpose  \n",
       "12           NaN                   сыграть свадьбу  \n",
       "26           NaN                       образование  \n",
       "29           NaN  строительство жилой недвижимости  \n",
       "41           NaN  сделка с подержанным автомобилем  \n",
       "55           NaN                   сыграть свадьбу  "
      ]
     },
     "metadata": {},
     "output_type": "display_data"
    }
   ],
   "source": [
    "print(f'Missing rows in the days_employed: {days_employed_NaN}')\n",
    "print(f'Missing rows in the total_income: {total_income_NaN}')\n",
    "print(f'Percentage of missing values: {days_employed_NaN/data.shape[0]:0.0%}')\n",
    "display(data[data['days_employed'].isna()].head(5))\n",
    "display(data[data['total_income'].isna()].head(5))"
   ]
  },
  {
   "cell_type": "markdown",
   "metadata": {},
   "source": [
    "Missing data was found in the days_employed and total_income columns, the percentage of missing values is about **10%**, which can significantly affect the result of the data research."
   ]
  },
  {
   "cell_type": "markdown",
   "metadata": {},
   "source": [
    "It is possible that omissions in the data arose due to the human factor, or due to some technical failure, since omissions are in both columns in the same lines."
   ]
  },
  {
   "cell_type": "markdown",
   "metadata": {},
   "source": [
    "We replace omissions with **median values**, because the median value is less sensitive to emissions than the arithmetic mean."
   ]
  },
  {
   "cell_type": "code",
   "execution_count": 7,
   "metadata": {},
   "outputs": [],
   "source": [
    "data['days_employed'] = data['days_employed'].fillna(data['days_employed'].median())\n",
    "data['total_income'] = data['total_income'].fillna(data['total_income'].median())\n",
    "\n",
    "days_employed_NaN = data[data['days_employed'].isna()].shape[0]\n",
    "total_income_NaN = data[data['total_income'].isna()].shape[0]"
   ]
  },
  {
   "cell_type": "code",
   "execution_count": 8,
   "metadata": {},
   "outputs": [
    {
     "name": "stdout",
     "output_type": "stream",
     "text": [
      "Missing rows in the days_employed: 0\n",
      "Missing rows in the total_income: 0\n",
      "Percentage of missing values: 0%\n",
      "\n",
      "<class 'pandas.core.frame.DataFrame'>\n",
      "RangeIndex: 21525 entries, 0 to 21524\n",
      "Data columns (total 12 columns):\n",
      " #   Column            Non-Null Count  Dtype  \n",
      "---  ------            --------------  -----  \n",
      " 0   children          21525 non-null  int64  \n",
      " 1   days_employed     21525 non-null  float64\n",
      " 2   dob_years         21525 non-null  int64  \n",
      " 3   education         21525 non-null  object \n",
      " 4   education_id      21525 non-null  int64  \n",
      " 5   family_status     21525 non-null  object \n",
      " 6   family_status_id  21525 non-null  int64  \n",
      " 7   gender            21525 non-null  object \n",
      " 8   income_type       21525 non-null  object \n",
      " 9   debt              21525 non-null  int64  \n",
      " 10  total_income      21525 non-null  float64\n",
      " 11  purpose           21525 non-null  object \n",
      "dtypes: float64(2), int64(5), object(5)\n",
      "memory usage: 2.0+ MB\n"
     ]
    }
   ],
   "source": [
    "print(f'Missing rows in the days_employed: {days_employed_NaN}')\n",
    "print(f'Missing rows in the total_income: {total_income_NaN}')\n",
    "print(f'Percentage of missing values: {days_employed_NaN/data.shape[0]:0.0%}')\n",
    "print()\n",
    "data.info()"
   ]
  },
  {
   "cell_type": "markdown",
   "metadata": {},
   "source": [
    "### Check data for anomalies and corrections."
   ]
  },
  {
   "cell_type": "markdown",
   "metadata": {},
   "source": [
    "**Negative** values found in column `days_employed` (18080 rows)."
   ]
  },
  {
   "cell_type": "code",
   "execution_count": 9,
   "metadata": {},
   "outputs": [
    {
     "data": {
      "text/html": [
       "<div>\n",
       "<style scoped>\n",
       "    .dataframe tbody tr th:only-of-type {\n",
       "        vertical-align: middle;\n",
       "    }\n",
       "\n",
       "    .dataframe tbody tr th {\n",
       "        vertical-align: top;\n",
       "    }\n",
       "\n",
       "    .dataframe thead th {\n",
       "        text-align: right;\n",
       "    }\n",
       "</style>\n",
       "<table border=\"1\" class=\"dataframe\">\n",
       "  <thead>\n",
       "    <tr style=\"text-align: right;\">\n",
       "      <th></th>\n",
       "      <th>children</th>\n",
       "      <th>days_employed</th>\n",
       "      <th>dob_years</th>\n",
       "      <th>education</th>\n",
       "      <th>education_id</th>\n",
       "      <th>family_status</th>\n",
       "      <th>family_status_id</th>\n",
       "      <th>gender</th>\n",
       "      <th>income_type</th>\n",
       "      <th>debt</th>\n",
       "      <th>total_income</th>\n",
       "      <th>purpose</th>\n",
       "    </tr>\n",
       "  </thead>\n",
       "  <tbody>\n",
       "    <tr>\n",
       "      <th>0</th>\n",
       "      <td>1</td>\n",
       "      <td>-8437.673028</td>\n",
       "      <td>42</td>\n",
       "      <td>высшее</td>\n",
       "      <td>0</td>\n",
       "      <td>женат / замужем</td>\n",
       "      <td>0</td>\n",
       "      <td>F</td>\n",
       "      <td>сотрудник</td>\n",
       "      <td>0</td>\n",
       "      <td>253875.639453</td>\n",
       "      <td>покупка жилья</td>\n",
       "    </tr>\n",
       "    <tr>\n",
       "      <th>1</th>\n",
       "      <td>1</td>\n",
       "      <td>-4024.803754</td>\n",
       "      <td>36</td>\n",
       "      <td>среднее</td>\n",
       "      <td>1</td>\n",
       "      <td>женат / замужем</td>\n",
       "      <td>0</td>\n",
       "      <td>F</td>\n",
       "      <td>сотрудник</td>\n",
       "      <td>0</td>\n",
       "      <td>112080.014102</td>\n",
       "      <td>приобретение автомобиля</td>\n",
       "    </tr>\n",
       "    <tr>\n",
       "      <th>2</th>\n",
       "      <td>0</td>\n",
       "      <td>-5623.422610</td>\n",
       "      <td>33</td>\n",
       "      <td>Среднее</td>\n",
       "      <td>1</td>\n",
       "      <td>женат / замужем</td>\n",
       "      <td>0</td>\n",
       "      <td>M</td>\n",
       "      <td>сотрудник</td>\n",
       "      <td>0</td>\n",
       "      <td>145885.952297</td>\n",
       "      <td>покупка жилья</td>\n",
       "    </tr>\n",
       "    <tr>\n",
       "      <th>3</th>\n",
       "      <td>3</td>\n",
       "      <td>-4124.747207</td>\n",
       "      <td>32</td>\n",
       "      <td>среднее</td>\n",
       "      <td>1</td>\n",
       "      <td>женат / замужем</td>\n",
       "      <td>0</td>\n",
       "      <td>M</td>\n",
       "      <td>сотрудник</td>\n",
       "      <td>0</td>\n",
       "      <td>267628.550329</td>\n",
       "      <td>дополнительное образование</td>\n",
       "    </tr>\n",
       "    <tr>\n",
       "      <th>5</th>\n",
       "      <td>0</td>\n",
       "      <td>-926.185831</td>\n",
       "      <td>27</td>\n",
       "      <td>высшее</td>\n",
       "      <td>0</td>\n",
       "      <td>гражданский брак</td>\n",
       "      <td>1</td>\n",
       "      <td>M</td>\n",
       "      <td>компаньон</td>\n",
       "      <td>0</td>\n",
       "      <td>255763.565419</td>\n",
       "      <td>покупка жилья</td>\n",
       "    </tr>\n",
       "    <tr>\n",
       "      <th>...</th>\n",
       "      <td>...</td>\n",
       "      <td>...</td>\n",
       "      <td>...</td>\n",
       "      <td>...</td>\n",
       "      <td>...</td>\n",
       "      <td>...</td>\n",
       "      <td>...</td>\n",
       "      <td>...</td>\n",
       "      <td>...</td>\n",
       "      <td>...</td>\n",
       "      <td>...</td>\n",
       "      <td>...</td>\n",
       "    </tr>\n",
       "    <tr>\n",
       "      <th>21519</th>\n",
       "      <td>1</td>\n",
       "      <td>-2351.431934</td>\n",
       "      <td>37</td>\n",
       "      <td>ученая степень</td>\n",
       "      <td>4</td>\n",
       "      <td>в разводе</td>\n",
       "      <td>3</td>\n",
       "      <td>M</td>\n",
       "      <td>сотрудник</td>\n",
       "      <td>0</td>\n",
       "      <td>115949.039788</td>\n",
       "      <td>покупка коммерческой недвижимости</td>\n",
       "    </tr>\n",
       "    <tr>\n",
       "      <th>21520</th>\n",
       "      <td>1</td>\n",
       "      <td>-4529.316663</td>\n",
       "      <td>43</td>\n",
       "      <td>среднее</td>\n",
       "      <td>1</td>\n",
       "      <td>гражданский брак</td>\n",
       "      <td>1</td>\n",
       "      <td>F</td>\n",
       "      <td>компаньон</td>\n",
       "      <td>0</td>\n",
       "      <td>224791.862382</td>\n",
       "      <td>операции с жильем</td>\n",
       "    </tr>\n",
       "    <tr>\n",
       "      <th>21522</th>\n",
       "      <td>1</td>\n",
       "      <td>-2113.346888</td>\n",
       "      <td>38</td>\n",
       "      <td>среднее</td>\n",
       "      <td>1</td>\n",
       "      <td>гражданский брак</td>\n",
       "      <td>1</td>\n",
       "      <td>M</td>\n",
       "      <td>сотрудник</td>\n",
       "      <td>1</td>\n",
       "      <td>89672.561153</td>\n",
       "      <td>недвижимость</td>\n",
       "    </tr>\n",
       "    <tr>\n",
       "      <th>21523</th>\n",
       "      <td>3</td>\n",
       "      <td>-3112.481705</td>\n",
       "      <td>38</td>\n",
       "      <td>среднее</td>\n",
       "      <td>1</td>\n",
       "      <td>женат / замужем</td>\n",
       "      <td>0</td>\n",
       "      <td>M</td>\n",
       "      <td>сотрудник</td>\n",
       "      <td>1</td>\n",
       "      <td>244093.050500</td>\n",
       "      <td>на покупку своего автомобиля</td>\n",
       "    </tr>\n",
       "    <tr>\n",
       "      <th>21524</th>\n",
       "      <td>2</td>\n",
       "      <td>-1984.507589</td>\n",
       "      <td>40</td>\n",
       "      <td>среднее</td>\n",
       "      <td>1</td>\n",
       "      <td>женат / замужем</td>\n",
       "      <td>0</td>\n",
       "      <td>F</td>\n",
       "      <td>сотрудник</td>\n",
       "      <td>0</td>\n",
       "      <td>82047.418899</td>\n",
       "      <td>на покупку автомобиля</td>\n",
       "    </tr>\n",
       "  </tbody>\n",
       "</table>\n",
       "<p>18080 rows × 12 columns</p>\n",
       "</div>"
      ],
      "text/plain": [
       "       children  days_employed  dob_years       education  education_id  \\\n",
       "0             1   -8437.673028         42          высшее             0   \n",
       "1             1   -4024.803754         36         среднее             1   \n",
       "2             0   -5623.422610         33         Среднее             1   \n",
       "3             3   -4124.747207         32         среднее             1   \n",
       "5             0    -926.185831         27          высшее             0   \n",
       "...         ...            ...        ...             ...           ...   \n",
       "21519         1   -2351.431934         37  ученая степень             4   \n",
       "21520         1   -4529.316663         43         среднее             1   \n",
       "21522         1   -2113.346888         38         среднее             1   \n",
       "21523         3   -3112.481705         38         среднее             1   \n",
       "21524         2   -1984.507589         40         среднее             1   \n",
       "\n",
       "          family_status  family_status_id gender income_type  debt  \\\n",
       "0       женат / замужем                 0      F   сотрудник     0   \n",
       "1       женат / замужем                 0      F   сотрудник     0   \n",
       "2       женат / замужем                 0      M   сотрудник     0   \n",
       "3       женат / замужем                 0      M   сотрудник     0   \n",
       "5      гражданский брак                 1      M   компаньон     0   \n",
       "...                 ...               ...    ...         ...   ...   \n",
       "21519         в разводе                 3      M   сотрудник     0   \n",
       "21520  гражданский брак                 1      F   компаньон     0   \n",
       "21522  гражданский брак                 1      M   сотрудник     1   \n",
       "21523   женат / замужем                 0      M   сотрудник     1   \n",
       "21524   женат / замужем                 0      F   сотрудник     0   \n",
       "\n",
       "        total_income                            purpose  \n",
       "0      253875.639453                      покупка жилья  \n",
       "1      112080.014102            приобретение автомобиля  \n",
       "2      145885.952297                      покупка жилья  \n",
       "3      267628.550329         дополнительное образование  \n",
       "5      255763.565419                      покупка жилья  \n",
       "...              ...                                ...  \n",
       "21519  115949.039788  покупка коммерческой недвижимости  \n",
       "21520  224791.862382                  операции с жильем  \n",
       "21522   89672.561153                       недвижимость  \n",
       "21523  244093.050500       на покупку своего автомобиля  \n",
       "21524   82047.418899              на покупку автомобиля  \n",
       "\n",
       "[18080 rows x 12 columns]"
      ]
     },
     "execution_count": 9,
     "metadata": {},
     "output_type": "execute_result"
    }
   ],
   "source": [
    "data[data['days_employed']<0]"
   ]
  },
  {
   "cell_type": "code",
   "execution_count": 10,
   "metadata": {},
   "outputs": [],
   "source": [
    "# Corrections of records with negative values\n",
    "data.loc[data['days_employed'] < 0, 'days_employed'] = data[data['days_employed'] < 0]['days_employed'] * -1"
   ]
  },
  {
   "cell_type": "markdown",
   "metadata": {},
   "source": [
    "Negative values in the `days_employed` column may have been caused by an error in the seniority calculation."
   ]
  },
  {
   "cell_type": "markdown",
   "metadata": {},
   "source": [
    "**Negative** values found in column `children` (47 rows)."
   ]
  },
  {
   "cell_type": "code",
   "execution_count": 11,
   "metadata": {},
   "outputs": [
    {
     "data": {
      "text/plain": [
       " 0     14149\n",
       " 1      4818\n",
       " 2      2055\n",
       " 3       330\n",
       " 20       76\n",
       "-1        47\n",
       " 4        41\n",
       " 5         9\n",
       "Name: children, dtype: int64"
      ]
     },
     "execution_count": 11,
     "metadata": {},
     "output_type": "execute_result"
    }
   ],
   "source": [
    "data['children'].value_counts()"
   ]
  },
  {
   "cell_type": "code",
   "execution_count": 12,
   "metadata": {
    "scrolled": true
   },
   "outputs": [],
   "source": [
    "# Corrections of records with negative values\n",
    "data['children']=data['children'].replace(to_replace=-1, value=1)"
   ]
  },
  {
   "cell_type": "code",
   "execution_count": 13,
   "metadata": {},
   "outputs": [
    {
     "data": {
      "text/plain": [
       "0     14149\n",
       "1      4865\n",
       "2      2055\n",
       "3       330\n",
       "20       76\n",
       "4        41\n",
       "5         9\n",
       "Name: children, dtype: int64"
      ]
     },
     "execution_count": 13,
     "metadata": {},
     "output_type": "execute_result"
    }
   ],
   "source": [
    "data['children'].value_counts()"
   ]
  },
  {
   "cell_type": "markdown",
   "metadata": {},
   "source": [
    "In the `children` column there were negative values (-1), they were replaced with positive ones."
   ]
  },
  {
   "cell_type": "markdown",
   "metadata": {},
   "source": [
    "In the `children` column, the value **\"20\"** was found 76 times, indicating an error in the data. Probably, \"0\" was added by mistake, so the data was replaced with the value - **\"2\"**"
   ]
  },
  {
   "cell_type": "code",
   "execution_count": 14,
   "metadata": {
    "scrolled": true
   },
   "outputs": [],
   "source": [
    "data['children']=data['children'].replace(to_replace=20, value=2)"
   ]
  },
  {
   "cell_type": "code",
   "execution_count": 15,
   "metadata": {},
   "outputs": [
    {
     "data": {
      "text/plain": [
       "0    14149\n",
       "1     4865\n",
       "2     2131\n",
       "3      330\n",
       "4       41\n",
       "5        9\n",
       "Name: children, dtype: int64"
      ]
     },
     "execution_count": 15,
     "metadata": {},
     "output_type": "execute_result"
    }
   ],
   "source": [
    "data['children'].value_counts()"
   ]
  },
  {
   "cell_type": "code",
   "execution_count": 16,
   "metadata": {},
   "outputs": [
    {
     "data": {
      "text/plain": [
       "F      14236\n",
       "M       7288\n",
       "XNA        1\n",
       "Name: gender, dtype: int64"
      ]
     },
     "execution_count": 16,
     "metadata": {},
     "output_type": "execute_result"
    }
   ],
   "source": [
    "data['gender'].value_counts()"
   ]
  },
  {
   "cell_type": "markdown",
   "metadata": {},
   "source": [
    "There is also one empty cell in the `gender` column, perhaps someone forgot to specify a field. This will not greatly affect the evaluation of the data."
   ]
  },
  {
   "cell_type": "markdown",
   "metadata": {},
   "source": [
    "### Change data types"
   ]
  },
  {
   "cell_type": "code",
   "execution_count": 17,
   "metadata": {},
   "outputs": [],
   "source": [
    "data['total_income']=data['total_income'].astype(int)\n",
    "data['days_employed']=data['days_employed'].astype(int)"
   ]
  },
  {
   "cell_type": "code",
   "execution_count": 18,
   "metadata": {},
   "outputs": [
    {
     "name": "stdout",
     "output_type": "stream",
     "text": [
      "<class 'pandas.core.frame.DataFrame'>\n",
      "RangeIndex: 21525 entries, 0 to 21524\n",
      "Data columns (total 12 columns):\n",
      " #   Column            Non-Null Count  Dtype \n",
      "---  ------            --------------  ----- \n",
      " 0   children          21525 non-null  int64 \n",
      " 1   days_employed     21525 non-null  int32 \n",
      " 2   dob_years         21525 non-null  int64 \n",
      " 3   education         21525 non-null  object\n",
      " 4   education_id      21525 non-null  int64 \n",
      " 5   family_status     21525 non-null  object\n",
      " 6   family_status_id  21525 non-null  int64 \n",
      " 7   gender            21525 non-null  object\n",
      " 8   income_type       21525 non-null  object\n",
      " 9   debt              21525 non-null  int64 \n",
      " 10  total_income      21525 non-null  int32 \n",
      " 11  purpose           21525 non-null  object\n",
      "dtypes: int32(2), int64(5), object(5)\n",
      "memory usage: 1.8+ MB\n"
     ]
    }
   ],
   "source": [
    "data.info()"
   ]
  },
  {
   "cell_type": "markdown",
   "metadata": {},
   "source": [
    "### Processing duplicates"
   ]
  },
  {
   "cell_type": "code",
   "execution_count": 19,
   "metadata": {},
   "outputs": [
    {
     "data": {
      "text/plain": [
       "children            54\n",
       "days_employed       54\n",
       "dob_years           54\n",
       "education           54\n",
       "education_id        54\n",
       "family_status       54\n",
       "family_status_id    54\n",
       "gender              54\n",
       "income_type         54\n",
       "debt                54\n",
       "total_income        54\n",
       "purpose             54\n",
       "dtype: int64"
      ]
     },
     "execution_count": 19,
     "metadata": {},
     "output_type": "execute_result"
    }
   ],
   "source": [
    "data[data.duplicated()].count()"
   ]
  },
  {
   "cell_type": "code",
   "execution_count": 20,
   "metadata": {},
   "outputs": [
    {
     "name": "stdout",
     "output_type": "stream",
     "text": [
      "<class 'pandas.core.frame.DataFrame'>\n",
      "RangeIndex: 21471 entries, 0 to 21470\n",
      "Data columns (total 12 columns):\n",
      " #   Column            Non-Null Count  Dtype \n",
      "---  ------            --------------  ----- \n",
      " 0   children          21471 non-null  int64 \n",
      " 1   days_employed     21471 non-null  int32 \n",
      " 2   dob_years         21471 non-null  int64 \n",
      " 3   education         21471 non-null  object\n",
      " 4   education_id      21471 non-null  int64 \n",
      " 5   family_status     21471 non-null  object\n",
      " 6   family_status_id  21471 non-null  int64 \n",
      " 7   gender            21471 non-null  object\n",
      " 8   income_type       21471 non-null  object\n",
      " 9   debt              21471 non-null  int64 \n",
      " 10  total_income      21471 non-null  int32 \n",
      " 11  purpose           21471 non-null  object\n",
      "dtypes: int32(2), int64(5), object(5)\n",
      "memory usage: 1.8+ MB\n"
     ]
    }
   ],
   "source": [
    "data=data.drop_duplicates().reset_index(drop=True)\n",
    "data.info()"
   ]
  },
  {
   "cell_type": "markdown",
   "metadata": {},
   "source": [
    "Obvious duplicates were removed using the **drop_duplicates + reset_index** combination. Obvious duplicates appeared due to accidental data duplication."
   ]
  },
  {
   "cell_type": "code",
   "execution_count": 21,
   "metadata": {},
   "outputs": [
    {
     "data": {
      "text/plain": [
       "среднее                13705\n",
       "высшее                  4710\n",
       "СРЕДНЕЕ                  772\n",
       "Среднее                  711\n",
       "неоконченное высшее      668\n",
       "ВЫСШЕЕ                   273\n",
       "Высшее                   268\n",
       "начальное                250\n",
       "Неоконченное высшее       47\n",
       "НЕОКОНЧЕННОЕ ВЫСШЕЕ       29\n",
       "НАЧАЛЬНОЕ                 17\n",
       "Начальное                 15\n",
       "ученая степень             4\n",
       "Ученая степень             1\n",
       "УЧЕНАЯ СТЕПЕНЬ             1\n",
       "Name: education, dtype: int64"
      ]
     },
     "execution_count": 21,
     "metadata": {},
     "output_type": "execute_result"
    }
   ],
   "source": [
    "data['education'].value_counts()"
   ]
  },
  {
   "cell_type": "code",
   "execution_count": 22,
   "metadata": {
    "scrolled": true
   },
   "outputs": [
    {
     "data": {
      "text/plain": [
       "среднее                15188\n",
       "высшее                  5251\n",
       "неоконченное высшее      744\n",
       "начальное                282\n",
       "ученая степень             6\n",
       "Name: education, dtype: int64"
      ]
     },
     "execution_count": 22,
     "metadata": {},
     "output_type": "execute_result"
    }
   ],
   "source": [
    "data['education'] = data['education'].str.lower()\n",
    "data['education'].value_counts()"
   ]
  },
  {
   "cell_type": "markdown",
   "metadata": {},
   "source": [
    "Information in the `education` column is assigned to a **single register**."
   ]
  },
  {
   "cell_type": "code",
   "execution_count": 23,
   "metadata": {},
   "outputs": [
    {
     "data": {
      "text/plain": [
       "женат / замужем          12344\n",
       "гражданский брак          4163\n",
       "Не женат / не замужем     2810\n",
       "в разводе                 1195\n",
       "вдовец / вдова             959\n",
       "Name: family_status, dtype: int64"
      ]
     },
     "execution_count": 23,
     "metadata": {},
     "output_type": "execute_result"
    }
   ],
   "source": [
    "data['family_status'].value_counts()"
   ]
  },
  {
   "cell_type": "code",
   "execution_count": 24,
   "metadata": {},
   "outputs": [
    {
     "data": {
      "text/plain": [
       "сотрудник          11091\n",
       "компаньон           5080\n",
       "пенсионер           3837\n",
       "госслужащий         1457\n",
       "безработный            2\n",
       "предприниматель        2\n",
       "студент                1\n",
       "в декрете              1\n",
       "Name: income_type, dtype: int64"
      ]
     },
     "execution_count": 24,
     "metadata": {},
     "output_type": "execute_result"
    }
   ],
   "source": [
    "data['income_type'].value_counts()"
   ]
  },
  {
   "cell_type": "markdown",
   "metadata": {},
   "source": [
    "No other implicit duplicates were detected (except for the `purpose` column, which will be processed later)."
   ]
  },
  {
   "cell_type": "markdown",
   "metadata": {},
   "source": [
    "### Creation of additional dictionary dataframes, decomposition of the original dataframe."
   ]
  },
  {
   "cell_type": "code",
   "execution_count": 25,
   "metadata": {},
   "outputs": [
    {
     "data": {
      "text/html": [
       "<div>\n",
       "<style scoped>\n",
       "    .dataframe tbody tr th:only-of-type {\n",
       "        vertical-align: middle;\n",
       "    }\n",
       "\n",
       "    .dataframe tbody tr th {\n",
       "        vertical-align: top;\n",
       "    }\n",
       "\n",
       "    .dataframe thead th {\n",
       "        text-align: right;\n",
       "    }\n",
       "</style>\n",
       "<table border=\"1\" class=\"dataframe\">\n",
       "  <thead>\n",
       "    <tr style=\"text-align: right;\">\n",
       "      <th></th>\n",
       "      <th>education_id</th>\n",
       "    </tr>\n",
       "    <tr>\n",
       "      <th>education</th>\n",
       "      <th></th>\n",
       "    </tr>\n",
       "  </thead>\n",
       "  <tbody>\n",
       "    <tr>\n",
       "      <th>высшее</th>\n",
       "      <td>0.0</td>\n",
       "    </tr>\n",
       "    <tr>\n",
       "      <th>начальное</th>\n",
       "      <td>3.0</td>\n",
       "    </tr>\n",
       "    <tr>\n",
       "      <th>неоконченное высшее</th>\n",
       "      <td>2.0</td>\n",
       "    </tr>\n",
       "    <tr>\n",
       "      <th>среднее</th>\n",
       "      <td>1.0</td>\n",
       "    </tr>\n",
       "    <tr>\n",
       "      <th>ученая степень</th>\n",
       "      <td>4.0</td>\n",
       "    </tr>\n",
       "  </tbody>\n",
       "</table>\n",
       "</div>"
      ],
      "text/plain": [
       "                     education_id\n",
       "education                        \n",
       "высшее                        0.0\n",
       "начальное                     3.0\n",
       "неоконченное высшее           2.0\n",
       "среднее                       1.0\n",
       "ученая степень                4.0"
      ]
     },
     "execution_count": 25,
     "metadata": {},
     "output_type": "execute_result"
    }
   ],
   "source": [
    "dic_1 = data[['education','education_id']]\n",
    "dic_1 = dic_1.groupby('education').mean()\n",
    "dic_1"
   ]
  },
  {
   "cell_type": "code",
   "execution_count": 26,
   "metadata": {},
   "outputs": [
    {
     "data": {
      "text/html": [
       "<div>\n",
       "<style scoped>\n",
       "    .dataframe tbody tr th:only-of-type {\n",
       "        vertical-align: middle;\n",
       "    }\n",
       "\n",
       "    .dataframe tbody tr th {\n",
       "        vertical-align: top;\n",
       "    }\n",
       "\n",
       "    .dataframe thead th {\n",
       "        text-align: right;\n",
       "    }\n",
       "</style>\n",
       "<table border=\"1\" class=\"dataframe\">\n",
       "  <thead>\n",
       "    <tr style=\"text-align: right;\">\n",
       "      <th></th>\n",
       "      <th>family_status_id</th>\n",
       "    </tr>\n",
       "    <tr>\n",
       "      <th>family_status</th>\n",
       "      <th></th>\n",
       "    </tr>\n",
       "  </thead>\n",
       "  <tbody>\n",
       "    <tr>\n",
       "      <th>Не женат / не замужем</th>\n",
       "      <td>4.0</td>\n",
       "    </tr>\n",
       "    <tr>\n",
       "      <th>в разводе</th>\n",
       "      <td>3.0</td>\n",
       "    </tr>\n",
       "    <tr>\n",
       "      <th>вдовец / вдова</th>\n",
       "      <td>2.0</td>\n",
       "    </tr>\n",
       "    <tr>\n",
       "      <th>гражданский брак</th>\n",
       "      <td>1.0</td>\n",
       "    </tr>\n",
       "    <tr>\n",
       "      <th>женат / замужем</th>\n",
       "      <td>0.0</td>\n",
       "    </tr>\n",
       "  </tbody>\n",
       "</table>\n",
       "</div>"
      ],
      "text/plain": [
       "                       family_status_id\n",
       "family_status                          \n",
       "Не женат / не замужем               4.0\n",
       "в разводе                           3.0\n",
       "вдовец / вдова                      2.0\n",
       "гражданский брак                    1.0\n",
       "женат / замужем                     0.0"
      ]
     },
     "execution_count": 26,
     "metadata": {},
     "output_type": "execute_result"
    }
   ],
   "source": [
    "dic_2 = data[['family_status', 'family_status_id']]\n",
    "dic_2 = dic_2.groupby('family_status').mean()\n",
    "dic_2"
   ]
  },
  {
   "cell_type": "code",
   "execution_count": 27,
   "metadata": {},
   "outputs": [
    {
     "data": {
      "text/html": [
       "<div>\n",
       "<style scoped>\n",
       "    .dataframe tbody tr th:only-of-type {\n",
       "        vertical-align: middle;\n",
       "    }\n",
       "\n",
       "    .dataframe tbody tr th {\n",
       "        vertical-align: top;\n",
       "    }\n",
       "\n",
       "    .dataframe thead th {\n",
       "        text-align: right;\n",
       "    }\n",
       "</style>\n",
       "<table border=\"1\" class=\"dataframe\">\n",
       "  <thead>\n",
       "    <tr style=\"text-align: right;\">\n",
       "      <th></th>\n",
       "      <th>children</th>\n",
       "      <th>days_employed</th>\n",
       "      <th>dob_years</th>\n",
       "      <th>education_id</th>\n",
       "      <th>family_status_id</th>\n",
       "      <th>gender</th>\n",
       "      <th>income_type</th>\n",
       "      <th>debt</th>\n",
       "      <th>total_income</th>\n",
       "      <th>purpose</th>\n",
       "    </tr>\n",
       "  </thead>\n",
       "  <tbody>\n",
       "    <tr>\n",
       "      <th>0</th>\n",
       "      <td>1</td>\n",
       "      <td>8437</td>\n",
       "      <td>42</td>\n",
       "      <td>0</td>\n",
       "      <td>0</td>\n",
       "      <td>F</td>\n",
       "      <td>сотрудник</td>\n",
       "      <td>0</td>\n",
       "      <td>253875</td>\n",
       "      <td>покупка жилья</td>\n",
       "    </tr>\n",
       "    <tr>\n",
       "      <th>1</th>\n",
       "      <td>1</td>\n",
       "      <td>4024</td>\n",
       "      <td>36</td>\n",
       "      <td>1</td>\n",
       "      <td>0</td>\n",
       "      <td>F</td>\n",
       "      <td>сотрудник</td>\n",
       "      <td>0</td>\n",
       "      <td>112080</td>\n",
       "      <td>приобретение автомобиля</td>\n",
       "    </tr>\n",
       "    <tr>\n",
       "      <th>2</th>\n",
       "      <td>0</td>\n",
       "      <td>5623</td>\n",
       "      <td>33</td>\n",
       "      <td>1</td>\n",
       "      <td>0</td>\n",
       "      <td>M</td>\n",
       "      <td>сотрудник</td>\n",
       "      <td>0</td>\n",
       "      <td>145885</td>\n",
       "      <td>покупка жилья</td>\n",
       "    </tr>\n",
       "    <tr>\n",
       "      <th>3</th>\n",
       "      <td>3</td>\n",
       "      <td>4124</td>\n",
       "      <td>32</td>\n",
       "      <td>1</td>\n",
       "      <td>0</td>\n",
       "      <td>M</td>\n",
       "      <td>сотрудник</td>\n",
       "      <td>0</td>\n",
       "      <td>267628</td>\n",
       "      <td>дополнительное образование</td>\n",
       "    </tr>\n",
       "    <tr>\n",
       "      <th>4</th>\n",
       "      <td>0</td>\n",
       "      <td>340266</td>\n",
       "      <td>53</td>\n",
       "      <td>1</td>\n",
       "      <td>1</td>\n",
       "      <td>F</td>\n",
       "      <td>пенсионер</td>\n",
       "      <td>0</td>\n",
       "      <td>158616</td>\n",
       "      <td>сыграть свадьбу</td>\n",
       "    </tr>\n",
       "  </tbody>\n",
       "</table>\n",
       "</div>"
      ],
      "text/plain": [
       "   children  days_employed  dob_years  education_id  family_status_id gender  \\\n",
       "0         1           8437         42             0                 0      F   \n",
       "1         1           4024         36             1                 0      F   \n",
       "2         0           5623         33             1                 0      M   \n",
       "3         3           4124         32             1                 0      M   \n",
       "4         0         340266         53             1                 1      F   \n",
       "\n",
       "  income_type  debt  total_income                     purpose  \n",
       "0   сотрудник     0        253875               покупка жилья  \n",
       "1   сотрудник     0        112080     приобретение автомобиля  \n",
       "2   сотрудник     0        145885               покупка жилья  \n",
       "3   сотрудник     0        267628  дополнительное образование  \n",
       "4   пенсионер     0        158616             сыграть свадьбу  "
      ]
     },
     "execution_count": 27,
     "metadata": {},
     "output_type": "execute_result"
    }
   ],
   "source": [
    "data = data.drop(['education','family_status'], axis=1)\n",
    "data.head(5)"
   ]
  },
  {
   "cell_type": "markdown",
   "metadata": {},
   "source": [
    "### Income categorization."
   ]
  },
  {
   "cell_type": "markdown",
   "metadata": {},
   "source": [
    "Creating the `income_estimation()` function for income categorization"
   ]
  },
  {
   "cell_type": "code",
   "execution_count": 28,
   "metadata": {},
   "outputs": [],
   "source": [
    "def income_estimation(income):\n",
    "    if 0 <= income <= 30000:\n",
    "        return 'E'\n",
    "    elif 30001 <= income <= 50000:\n",
    "        return 'D'\n",
    "    elif 50001 <= income <= 200000:\n",
    "        return 'C'\n",
    "    elif 200001 <= income <= 1000000:\n",
    "        return 'B'\n",
    "    elif income >= 1000001:\n",
    "        return 'A'\n",
    "    else:\n",
    "        return 'Negative value!'"
   ]
  },
  {
   "cell_type": "code",
   "execution_count": 29,
   "metadata": {},
   "outputs": [
    {
     "data": {
      "text/plain": [
       "C    16033\n",
       "B     5041\n",
       "D      350\n",
       "A       25\n",
       "E       22\n",
       "Name: total_income_category, dtype: int64"
      ]
     },
     "execution_count": 29,
     "metadata": {},
     "output_type": "execute_result"
    }
   ],
   "source": [
    "data['total_income_category'] = data['total_income'].apply(income_estimation)\n",
    "data['total_income_category'].value_counts()"
   ]
  },
  {
   "cell_type": "markdown",
   "metadata": {},
   "source": [
    "The data is divided into 5 categories, depending on the level of income"
   ]
  },
  {
   "cell_type": "markdown",
   "metadata": {},
   "source": [
    "### Purpose categorization."
   ]
  },
  {
   "cell_type": "code",
   "execution_count": 30,
   "metadata": {},
   "outputs": [
    {
     "data": {
      "text/plain": [
       "purpose\n",
       "автомобили                                478\n",
       "автомобиль                                494\n",
       "высшее образование                        452\n",
       "дополнительное образование                460\n",
       "жилье                                     646\n",
       "заняться высшим образованием              496\n",
       "заняться образованием                     408\n",
       "на покупку автомобиля                     472\n",
       "на покупку подержанного автомобиля        478\n",
       "на покупку своего автомобиля              505\n",
       "на проведение свадьбы                     773\n",
       "недвижимость                              633\n",
       "образование                               447\n",
       "операции с жильем                         652\n",
       "операции с коммерческой недвижимостью     650\n",
       "операции с недвижимостью                  675\n",
       "операции со своей недвижимостью           627\n",
       "покупка жилой недвижимости                606\n",
       "покупка жилья                             646\n",
       "покупка жилья для сдачи                   652\n",
       "покупка жилья для семьи                   638\n",
       "покупка коммерческой недвижимости         662\n",
       "покупка недвижимости                      621\n",
       "покупка своего жилья                      620\n",
       "получение высшего образования             426\n",
       "получение дополнительного образования     447\n",
       "получение образования                     442\n",
       "приобретение автомобиля                   461\n",
       "профильное образование                    436\n",
       "ремонт жилью                              607\n",
       "свадьба                                   793\n",
       "свой автомобиль                           479\n",
       "сделка с автомобилем                      455\n",
       "сделка с подержанным автомобилем          486\n",
       "строительство жилой недвижимости          625\n",
       "строительство недвижимости                619\n",
       "строительство собственной недвижимости    635\n",
       "сыграть свадьбу                           769\n",
       "Name: purpose, dtype: int64"
      ]
     },
     "execution_count": 30,
     "metadata": {},
     "output_type": "execute_result"
    }
   ],
   "source": [
    "data.groupby('purpose')['purpose'].count()"
   ]
  },
  {
   "cell_type": "markdown",
   "metadata": {},
   "source": [
    "Let's create the function `purpose_category()`, which will help process the column `purpose` and divide the data into 4 categories:\n",
    "\n",
    "* car operations;\n",
    "* real estate transactions;\n",
    "* wedding;\n",
    "* education."
   ]
  },
  {
   "cell_type": "code",
   "execution_count": 31,
   "metadata": {},
   "outputs": [],
   "source": [
    "def purpose_category(text):\n",
    "    if 'автомоб' in text:\n",
    "        return 'car operations'\n",
    "    elif 'жил' in text or 'недвиж' in text:\n",
    "        return 'real estate transactions'\n",
    "    elif 'свадь' in text:\n",
    "        return 'wedding'\n",
    "    elif 'образован' in text:\n",
    "        return 'education'\n",
    "    else:\n",
    "        return 'Failed to generalize purpose!'"
   ]
  },
  {
   "cell_type": "code",
   "execution_count": 32,
   "metadata": {},
   "outputs": [
    {
     "data": {
      "text/plain": [
       "real estate transactions    10814\n",
       "car operations               4308\n",
       "education                    4014\n",
       "wedding                      2335\n",
       "Name: purpose_category, dtype: int64"
      ]
     },
     "execution_count": 32,
     "metadata": {},
     "output_type": "execute_result"
    }
   ],
   "source": [
    "data['purpose_category'] = data['purpose'].apply(purpose_category)\n",
    "data['purpose_category'].value_counts()"
   ]
  },
  {
   "cell_type": "code",
   "execution_count": 33,
   "metadata": {},
   "outputs": [
    {
     "data": {
      "text/html": [
       "<div>\n",
       "<style scoped>\n",
       "    .dataframe tbody tr th:only-of-type {\n",
       "        vertical-align: middle;\n",
       "    }\n",
       "\n",
       "    .dataframe tbody tr th {\n",
       "        vertical-align: top;\n",
       "    }\n",
       "\n",
       "    .dataframe thead th {\n",
       "        text-align: right;\n",
       "    }\n",
       "</style>\n",
       "<table border=\"1\" class=\"dataframe\">\n",
       "  <thead>\n",
       "    <tr style=\"text-align: right;\">\n",
       "      <th></th>\n",
       "      <th>children</th>\n",
       "      <th>days_employed</th>\n",
       "      <th>dob_years</th>\n",
       "      <th>education_id</th>\n",
       "      <th>family_status_id</th>\n",
       "      <th>gender</th>\n",
       "      <th>income_type</th>\n",
       "      <th>debt</th>\n",
       "      <th>total_income</th>\n",
       "      <th>purpose</th>\n",
       "      <th>total_income_category</th>\n",
       "      <th>purpose_category</th>\n",
       "    </tr>\n",
       "  </thead>\n",
       "  <tbody>\n",
       "    <tr>\n",
       "      <th>0</th>\n",
       "      <td>1</td>\n",
       "      <td>8437</td>\n",
       "      <td>42</td>\n",
       "      <td>0</td>\n",
       "      <td>0</td>\n",
       "      <td>F</td>\n",
       "      <td>сотрудник</td>\n",
       "      <td>0</td>\n",
       "      <td>253875</td>\n",
       "      <td>покупка жилья</td>\n",
       "      <td>B</td>\n",
       "      <td>real estate transactions</td>\n",
       "    </tr>\n",
       "    <tr>\n",
       "      <th>1</th>\n",
       "      <td>1</td>\n",
       "      <td>4024</td>\n",
       "      <td>36</td>\n",
       "      <td>1</td>\n",
       "      <td>0</td>\n",
       "      <td>F</td>\n",
       "      <td>сотрудник</td>\n",
       "      <td>0</td>\n",
       "      <td>112080</td>\n",
       "      <td>приобретение автомобиля</td>\n",
       "      <td>C</td>\n",
       "      <td>car operations</td>\n",
       "    </tr>\n",
       "    <tr>\n",
       "      <th>2</th>\n",
       "      <td>0</td>\n",
       "      <td>5623</td>\n",
       "      <td>33</td>\n",
       "      <td>1</td>\n",
       "      <td>0</td>\n",
       "      <td>M</td>\n",
       "      <td>сотрудник</td>\n",
       "      <td>0</td>\n",
       "      <td>145885</td>\n",
       "      <td>покупка жилья</td>\n",
       "      <td>C</td>\n",
       "      <td>real estate transactions</td>\n",
       "    </tr>\n",
       "    <tr>\n",
       "      <th>3</th>\n",
       "      <td>3</td>\n",
       "      <td>4124</td>\n",
       "      <td>32</td>\n",
       "      <td>1</td>\n",
       "      <td>0</td>\n",
       "      <td>M</td>\n",
       "      <td>сотрудник</td>\n",
       "      <td>0</td>\n",
       "      <td>267628</td>\n",
       "      <td>дополнительное образование</td>\n",
       "      <td>B</td>\n",
       "      <td>education</td>\n",
       "    </tr>\n",
       "    <tr>\n",
       "      <th>4</th>\n",
       "      <td>0</td>\n",
       "      <td>340266</td>\n",
       "      <td>53</td>\n",
       "      <td>1</td>\n",
       "      <td>1</td>\n",
       "      <td>F</td>\n",
       "      <td>пенсионер</td>\n",
       "      <td>0</td>\n",
       "      <td>158616</td>\n",
       "      <td>сыграть свадьбу</td>\n",
       "      <td>C</td>\n",
       "      <td>wedding</td>\n",
       "    </tr>\n",
       "  </tbody>\n",
       "</table>\n",
       "</div>"
      ],
      "text/plain": [
       "   children  days_employed  dob_years  education_id  family_status_id gender  \\\n",
       "0         1           8437         42             0                 0      F   \n",
       "1         1           4024         36             1                 0      F   \n",
       "2         0           5623         33             1                 0      M   \n",
       "3         3           4124         32             1                 0      M   \n",
       "4         0         340266         53             1                 1      F   \n",
       "\n",
       "  income_type  debt  total_income                     purpose  \\\n",
       "0   сотрудник     0        253875               покупка жилья   \n",
       "1   сотрудник     0        112080     приобретение автомобиля   \n",
       "2   сотрудник     0        145885               покупка жилья   \n",
       "3   сотрудник     0        267628  дополнительное образование   \n",
       "4   пенсионер     0        158616             сыграть свадьбу   \n",
       "\n",
       "  total_income_category          purpose_category  \n",
       "0                     B  real estate transactions  \n",
       "1                     C            car operations  \n",
       "2                     C  real estate transactions  \n",
       "3                     B                 education  \n",
       "4                     C                   wedding  "
      ]
     },
     "execution_count": 33,
     "metadata": {},
     "output_type": "execute_result"
    }
   ],
   "source": [
    "data.head()"
   ]
  },
  {
   "cell_type": "markdown",
   "metadata": {},
   "source": [
    "## Step 3. Answers to questions."
   ]
  },
  {
   "cell_type": "markdown",
   "metadata": {},
   "source": [
    "### Question 1:"
   ]
  },
  {
   "cell_type": "markdown",
   "metadata": {},
   "source": [
    "Is there a relationship between the number of children and credit repayment on time?"
   ]
  },
  {
   "cell_type": "markdown",
   "metadata": {},
   "source": [
    "### Answer 1:"
   ]
  },
  {
   "cell_type": "code",
   "execution_count": 34,
   "metadata": {
    "scrolled": true
   },
   "outputs": [
    {
     "data": {
      "text/plain": [
       "children\n",
       "0    0.075353\n",
       "1    0.091639\n",
       "2    0.094925\n",
       "3    0.081818\n",
       "4    0.097561\n",
       "5    0.000000\n",
       "Name: debt, dtype: float64"
      ]
     },
     "execution_count": 34,
     "metadata": {},
     "output_type": "execute_result"
    }
   ],
   "source": [
    "data.groupby('children')['debt'].mean()"
   ]
  },
  {
   "cell_type": "code",
   "execution_count": 35,
   "metadata": {},
   "outputs": [
    {
     "data": {
      "text/plain": [
       "<AxesSubplot:xlabel='children', ylabel='mean_debt'>"
      ]
     },
     "execution_count": 35,
     "metadata": {},
     "output_type": "execute_result"
    },
    {
     "data": {
      "image/png": "[encoded data removed]",
      "text/plain": [
       "<Figure size 432x288 with 1 Axes>"
      ]
     },
     "metadata": {
      "needs_background": "light"
     },
     "output_type": "display_data"
    }
   ],
   "source": [
    "data.groupby('children')['debt'].mean().plot(kind='bar',ylabel='mean_debt')"
   ]
  },
  {
   "cell_type": "markdown",
   "metadata": {},
   "source": [
    "It is impossible to make an definite conclusion based on these data, there are contradictions. \n",
    "\n",
    "There is some tendency: with the increase of children, the number of debts increases, but people with 5 children had no debts at all, and people with 3 children had less debts than people with 1,2 and 4 children."
   ]
  },
  {
   "cell_type": "markdown",
   "metadata": {},
   "source": [
    "### Question 2:"
   ]
  },
  {
   "cell_type": "markdown",
   "metadata": {},
   "source": [
    "Is there a relationship between marital status and loan repayment on time?"
   ]
  },
  {
   "cell_type": "markdown",
   "metadata": {},
   "source": [
    "### Answer 2:"
   ]
  },
  {
   "cell_type": "code",
   "execution_count": 36,
   "metadata": {},
   "outputs": [],
   "source": [
    "dic_2.reset_index(inplace=True)\n",
    "dic_2['family_status_eng'] = ['not married','divorced','widower/widow','civil marriage','married']"
   ]
  },
  {
   "cell_type": "code",
   "execution_count": 37,
   "metadata": {},
   "outputs": [
    {
     "data": {
      "text/html": [
       "<div>\n",
       "<style scoped>\n",
       "    .dataframe tbody tr th:only-of-type {\n",
       "        vertical-align: middle;\n",
       "    }\n",
       "\n",
       "    .dataframe tbody tr th {\n",
       "        vertical-align: top;\n",
       "    }\n",
       "\n",
       "    .dataframe thead th {\n",
       "        text-align: right;\n",
       "    }\n",
       "</style>\n",
       "<table border=\"1\" class=\"dataframe\">\n",
       "  <thead>\n",
       "    <tr style=\"text-align: right;\">\n",
       "      <th></th>\n",
       "      <th>family_status</th>\n",
       "      <th>family_status_id</th>\n",
       "      <th>family_status_eng</th>\n",
       "    </tr>\n",
       "  </thead>\n",
       "  <tbody>\n",
       "    <tr>\n",
       "      <th>0</th>\n",
       "      <td>Не женат / не замужем</td>\n",
       "      <td>4.0</td>\n",
       "      <td>not married</td>\n",
       "    </tr>\n",
       "    <tr>\n",
       "      <th>1</th>\n",
       "      <td>в разводе</td>\n",
       "      <td>3.0</td>\n",
       "      <td>divorced</td>\n",
       "    </tr>\n",
       "    <tr>\n",
       "      <th>2</th>\n",
       "      <td>вдовец / вдова</td>\n",
       "      <td>2.0</td>\n",
       "      <td>widower/widow</td>\n",
       "    </tr>\n",
       "    <tr>\n",
       "      <th>3</th>\n",
       "      <td>гражданский брак</td>\n",
       "      <td>1.0</td>\n",
       "      <td>civil marriage</td>\n",
       "    </tr>\n",
       "    <tr>\n",
       "      <th>4</th>\n",
       "      <td>женат / замужем</td>\n",
       "      <td>0.0</td>\n",
       "      <td>married</td>\n",
       "    </tr>\n",
       "  </tbody>\n",
       "</table>\n",
       "</div>"
      ],
      "text/plain": [
       "           family_status  family_status_id family_status_eng\n",
       "0  Не женат / не замужем               4.0       not married\n",
       "1              в разводе               3.0          divorced\n",
       "2         вдовец / вдова               2.0     widower/widow\n",
       "3       гражданский брак               1.0    civil marriage\n",
       "4        женат / замужем               0.0           married"
      ]
     },
     "execution_count": 37,
     "metadata": {},
     "output_type": "execute_result"
    }
   ],
   "source": [
    "dic_2"
   ]
  },
  {
   "cell_type": "code",
   "execution_count": 38,
   "metadata": {},
   "outputs": [
    {
     "data": {
      "text/html": [
       "<div>\n",
       "<style scoped>\n",
       "    .dataframe tbody tr th:only-of-type {\n",
       "        vertical-align: middle;\n",
       "    }\n",
       "\n",
       "    .dataframe tbody tr th {\n",
       "        vertical-align: top;\n",
       "    }\n",
       "\n",
       "    .dataframe thead th {\n",
       "        text-align: right;\n",
       "    }\n",
       "</style>\n",
       "<table border=\"1\" class=\"dataframe\">\n",
       "  <thead>\n",
       "    <tr style=\"text-align: right;\">\n",
       "      <th></th>\n",
       "      <th>family_status</th>\n",
       "      <th>family_status_id</th>\n",
       "      <th>family_status_eng</th>\n",
       "      <th>debt</th>\n",
       "    </tr>\n",
       "  </thead>\n",
       "  <tbody>\n",
       "    <tr>\n",
       "      <th>0</th>\n",
       "      <td>Не женат / не замужем</td>\n",
       "      <td>4.0</td>\n",
       "      <td>not married</td>\n",
       "      <td>0.097509</td>\n",
       "    </tr>\n",
       "    <tr>\n",
       "      <th>1</th>\n",
       "      <td>в разводе</td>\n",
       "      <td>3.0</td>\n",
       "      <td>divorced</td>\n",
       "      <td>0.071130</td>\n",
       "    </tr>\n",
       "    <tr>\n",
       "      <th>2</th>\n",
       "      <td>вдовец / вдова</td>\n",
       "      <td>2.0</td>\n",
       "      <td>widower/widow</td>\n",
       "      <td>0.065693</td>\n",
       "    </tr>\n",
       "    <tr>\n",
       "      <th>3</th>\n",
       "      <td>гражданский брак</td>\n",
       "      <td>1.0</td>\n",
       "      <td>civil marriage</td>\n",
       "      <td>0.093202</td>\n",
       "    </tr>\n",
       "    <tr>\n",
       "      <th>4</th>\n",
       "      <td>женат / замужем</td>\n",
       "      <td>0.0</td>\n",
       "      <td>married</td>\n",
       "      <td>0.075421</td>\n",
       "    </tr>\n",
       "  </tbody>\n",
       "</table>\n",
       "</div>"
      ],
      "text/plain": [
       "           family_status  family_status_id family_status_eng      debt\n",
       "0  Не женат / не замужем               4.0       not married  0.097509\n",
       "1              в разводе               3.0          divorced  0.071130\n",
       "2         вдовец / вдова               2.0     widower/widow  0.065693\n",
       "3       гражданский брак               1.0    civil marriage  0.093202\n",
       "4        женат / замужем               0.0           married  0.075421"
      ]
     },
     "execution_count": 38,
     "metadata": {},
     "output_type": "execute_result"
    }
   ],
   "source": [
    "dic_2.merge(data.groupby('family_status_id')['debt'].mean().reset_index(), on='family_status_id')"
   ]
  },
  {
   "cell_type": "code",
   "execution_count": 39,
   "metadata": {},
   "outputs": [
    {
     "data": {
      "text/plain": [
       "<AxesSubplot:xlabel='family_status_eng', ylabel='mean_debt'>"
      ]
     },
     "execution_count": 39,
     "metadata": {},
     "output_type": "execute_result"
    },
    {
     "data": {
      "image/png": "[encoded data removed]",
      "text/plain": [
       "<Figure size 432x288 with 1 Axes>"
      ]
     },
     "metadata": {
      "needs_background": "light"
     },
     "output_type": "display_data"
    }
   ],
   "source": [
    "dic_2.merge(data.groupby('family_status_id')['debt'].mean().reset_index(), on='family_status_id').plot(kind='bar',x='family_status_eng',y='debt', ylabel='mean_debt')"
   ]
  },
  {
   "cell_type": "markdown",
   "metadata": {},
   "source": [
    "It can be said that **widows/widowers** were the least likely to have debts on loans, and those who were **not married** and who were in a **civil marriage** had the most debts."
   ]
  },
  {
   "cell_type": "markdown",
   "metadata": {},
   "source": [
    "### Question 3:"
   ]
  },
  {
   "cell_type": "markdown",
   "metadata": {},
   "source": [
    "Is there a relationship between income level and credit repayment on time?"
   ]
  },
  {
   "cell_type": "markdown",
   "metadata": {},
   "source": [
    "### Answer 3:"
   ]
  },
  {
   "cell_type": "code",
   "execution_count": 40,
   "metadata": {},
   "outputs": [
    {
     "data": {
      "text/plain": [
       "total_income_category\n",
       "A    0.080000\n",
       "B    0.070621\n",
       "C    0.084825\n",
       "D    0.060000\n",
       "E    0.090909\n",
       "Name: debt, dtype: float64"
      ]
     },
     "execution_count": 40,
     "metadata": {},
     "output_type": "execute_result"
    }
   ],
   "source": [
    "data.groupby('total_income_category')['debt'].mean()"
   ]
  },
  {
   "cell_type": "code",
   "execution_count": 41,
   "metadata": {},
   "outputs": [
    {
     "data": {
      "text/plain": [
       "<AxesSubplot:xlabel='total_income_category', ylabel='mean_debt'>"
      ]
     },
     "execution_count": 41,
     "metadata": {},
     "output_type": "execute_result"
    },
    {
     "data": {
      "image/png": "[encoded data removed]",
      "text/plain": [
       "<Figure size 432x288 with 1 Axes>"
      ]
     },
     "metadata": {
      "needs_background": "light"
     },
     "output_type": "display_data"
    }
   ],
   "source": [
    "data.groupby('total_income_category')['debt'].mean().plot(kind='bar',ylabel='mean_debt')"
   ]
  },
  {
   "cell_type": "markdown",
   "metadata": {},
   "source": [
    "There is no definite correlation particularly between these two parameters for this selection. \n",
    "\n",
    "We can say that **group D had the least of all debts, and group E had the most**"
   ]
  },
  {
   "cell_type": "markdown",
   "metadata": {},
   "source": [
    "### Question 4:"
   ]
  },
  {
   "cell_type": "markdown",
   "metadata": {},
   "source": [
    "How do different loan goals affect its repayment on time?"
   ]
  },
  {
   "cell_type": "markdown",
   "metadata": {},
   "source": [
    "### Answer 4:"
   ]
  },
  {
   "cell_type": "code",
   "execution_count": 42,
   "metadata": {},
   "outputs": [
    {
     "data": {
      "text/plain": [
       "purpose_category\n",
       "car operations              0.093547\n",
       "education                   0.092177\n",
       "real estate transactions    0.072314\n",
       "wedding                     0.079657\n",
       "Name: debt, dtype: float64"
      ]
     },
     "execution_count": 42,
     "metadata": {},
     "output_type": "execute_result"
    }
   ],
   "source": [
    "data.groupby('purpose_category')['debt'].mean()"
   ]
  },
  {
   "cell_type": "code",
   "execution_count": 43,
   "metadata": {},
   "outputs": [
    {
     "data": {
      "text/plain": [
       "<AxesSubplot:xlabel='purpose_category', ylabel='mean_debt'>"
      ]
     },
     "execution_count": 43,
     "metadata": {},
     "output_type": "execute_result"
    },
    {
     "data": {
      "image/png": "[encoded data removed]",
      "text/plain": [
       "<Figure size 432x288 with 1 Axes>"
      ]
     },
     "metadata": {
      "needs_background": "light"
     },
     "output_type": "display_data"
    }
   ],
   "source": [
    "data.groupby('purpose_category')['debt'].mean().plot(kind='bar', ylabel='mean_debt')"
   ]
  },
  {
   "cell_type": "markdown",
   "metadata": {},
   "source": [
    "It can be concluded that people who took out loans for **real estate and for a wedding - had debts less often than other groups**."
   ]
  },
  {
   "cell_type": "markdown",
   "metadata": {},
   "source": [
    "## General conclusion:"
   ]
  },
  {
   "cell_type": "markdown",
   "metadata": {},
   "source": [
    "Summing up, we can say that the client who is least likely to have a loan debt is a **married/divorced/widowed, preferably with an income level above category E, taking a loan preferably for real estate or a wedding**"
   ]
  }
 ],
 "metadata": {
  "ExecuteTimeLog": [
   {
    "duration": 645,
    "start_time": "2022-02-05T05:26:18.499Z"
   },
   {
    "duration": 63,
    "start_time": "2022-02-05T05:26:27.381Z"
   },
   {
    "duration": 11,
    "start_time": "2022-02-05T05:26:38.056Z"
   },
   {
    "duration": 23,
    "start_time": "2022-02-05T05:32:22.062Z"
   },
   {
    "duration": 707,
    "start_time": "2022-02-05T05:32:45.704Z"
   },
   {
    "duration": 4811,
    "start_time": "2022-02-05T05:32:50.433Z"
   },
   {
    "duration": 221,
    "start_time": "2022-02-05T05:33:02.077Z"
   },
   {
    "duration": 201,
    "start_time": "2022-02-05T05:33:06.967Z"
   },
   {
    "duration": 22,
    "start_time": "2022-02-05T05:33:10.464Z"
   },
   {
    "duration": 201,
    "start_time": "2022-02-05T05:33:24.155Z"
   },
   {
    "duration": 7,
    "start_time": "2022-02-05T05:33:27.690Z"
   },
   {
    "duration": 22,
    "start_time": "2022-02-05T05:34:23.643Z"
   },
   {
    "duration": 13,
    "start_time": "2022-02-05T05:34:29.074Z"
   },
   {
    "duration": 13,
    "start_time": "2022-02-05T05:34:51.410Z"
   },
   {
    "duration": 66,
    "start_time": "2022-02-05T05:37:18.941Z"
   },
   {
    "duration": 64,
    "start_time": "2022-02-05T05:37:27.293Z"
   },
   {
    "duration": 6,
    "start_time": "2022-02-05T05:37:49.398Z"
   },
   {
    "duration": 6,
    "start_time": "2022-02-05T05:37:53.177Z"
   },
   {
    "duration": 76,
    "start_time": "2022-02-05T05:37:58.677Z"
   },
   {
    "duration": 6,
    "start_time": "2022-02-05T05:39:21.485Z"
   },
   {
    "duration": 14,
    "start_time": "2022-02-05T05:39:33.747Z"
   },
   {
    "duration": 14,
    "start_time": "2022-02-05T05:40:06.598Z"
   },
   {
    "duration": 14,
    "start_time": "2022-02-05T05:40:31.259Z"
   },
   {
    "duration": 15,
    "start_time": "2022-02-05T05:40:35.109Z"
   },
   {
    "duration": 15,
    "start_time": "2022-02-05T05:41:25.430Z"
   },
   {
    "duration": 16,
    "start_time": "2022-02-05T05:49:46.946Z"
   },
   {
    "duration": 14,
    "start_time": "2022-02-05T05:49:52.722Z"
   },
   {
    "duration": 14,
    "start_time": "2022-02-05T05:49:57.578Z"
   },
   {
    "duration": 15,
    "start_time": "2022-02-05T05:50:04.631Z"
   },
   {
    "duration": 14,
    "start_time": "2022-02-05T05:50:08.574Z"
   },
   {
    "duration": 15,
    "start_time": "2022-02-05T05:50:14.113Z"
   },
   {
    "duration": 14,
    "start_time": "2022-02-05T05:50:57.504Z"
   },
   {
    "duration": 25,
    "start_time": "2022-02-05T05:51:24.183Z"
   },
   {
    "duration": 211,
    "start_time": "2022-02-05T05:53:09.538Z"
   },
   {
    "duration": 4,
    "start_time": "2022-02-05T05:53:21.389Z"
   },
   {
    "duration": 23,
    "start_time": "2022-02-05T05:53:52.110Z"
   },
   {
    "duration": 24,
    "start_time": "2022-02-05T05:54:17.626Z"
   },
   {
    "duration": 300,
    "start_time": "2022-02-05T05:54:36.572Z"
   },
   {
    "duration": 24,
    "start_time": "2022-02-05T05:54:40.323Z"
   },
   {
    "duration": 63,
    "start_time": "2022-02-05T05:54:50.827Z"
   },
   {
    "duration": 23,
    "start_time": "2022-02-05T05:55:01.139Z"
   },
   {
    "duration": 12,
    "start_time": "2022-02-05T05:55:16.713Z"
   },
   {
    "duration": 8,
    "start_time": "2022-02-05T05:55:21.397Z"
   },
   {
    "duration": 8,
    "start_time": "2022-02-05T05:55:49.028Z"
   },
   {
    "duration": 22,
    "start_time": "2022-02-05T05:55:51.668Z"
   },
   {
    "duration": 23,
    "start_time": "2022-02-05T05:56:20.360Z"
   },
   {
    "duration": 8,
    "start_time": "2022-02-05T05:56:24.762Z"
   },
   {
    "duration": 24,
    "start_time": "2022-02-05T05:56:27.520Z"
   },
   {
    "duration": 6,
    "start_time": "2022-02-05T05:56:40.495Z"
   },
   {
    "duration": 22,
    "start_time": "2022-02-05T05:56:51.942Z"
   },
   {
    "duration": 206,
    "start_time": "2022-02-05T05:57:07.906Z"
   },
   {
    "duration": 24,
    "start_time": "2022-02-05T05:57:16.886Z"
   },
   {
    "duration": 9,
    "start_time": "2022-02-05T05:57:29.486Z"
   },
   {
    "duration": 21,
    "start_time": "2022-02-05T05:57:34.208Z"
   },
   {
    "duration": 185,
    "start_time": "2022-02-05T05:58:14.453Z"
   },
   {
    "duration": 190,
    "start_time": "2022-02-05T05:58:17.031Z"
   },
   {
    "duration": 6,
    "start_time": "2022-02-05T05:58:22.917Z"
   },
   {
    "duration": 4,
    "start_time": "2022-02-05T05:59:51.897Z"
   },
   {
    "duration": 211,
    "start_time": "2022-02-05T05:59:54.664Z"
   },
   {
    "duration": 23,
    "start_time": "2022-02-05T05:59:57.073Z"
   },
   {
    "duration": 1296,
    "start_time": "2022-02-05T06:01:02.532Z"
   },
   {
    "duration": 66,
    "start_time": "2022-02-05T06:01:17.337Z"
   },
   {
    "duration": 1328,
    "start_time": "2022-02-05T06:01:22.794Z"
   },
   {
    "duration": 9,
    "start_time": "2022-02-05T06:01:57.979Z"
   },
   {
    "duration": 10,
    "start_time": "2022-02-05T06:02:08.171Z"
   },
   {
    "duration": 9,
    "start_time": "2022-02-05T06:02:17.160Z"
   },
   {
    "duration": 9,
    "start_time": "2022-02-05T06:02:23.751Z"
   },
   {
    "duration": 190,
    "start_time": "2022-02-05T06:03:38.819Z"
   },
   {
    "duration": 5,
    "start_time": "2022-02-05T06:03:50.497Z"
   },
   {
    "duration": 54,
    "start_time": "2022-02-05T06:04:56.083Z"
   },
   {
    "duration": 9,
    "start_time": "2022-02-05T06:04:56.139Z"
   },
   {
    "duration": 5,
    "start_time": "2022-02-05T06:04:56.150Z"
   },
   {
    "duration": 25,
    "start_time": "2022-02-05T06:04:56.157Z"
   },
   {
    "duration": 73,
    "start_time": "2022-02-05T06:05:03.297Z"
   },
   {
    "duration": 8,
    "start_time": "2022-02-05T06:06:29.582Z"
   },
   {
    "duration": 23,
    "start_time": "2022-02-05T06:06:31.124Z"
   },
   {
    "duration": 12,
    "start_time": "2022-02-05T06:07:20.727Z"
   },
   {
    "duration": 7,
    "start_time": "2022-02-05T06:07:39.839Z"
   },
   {
    "duration": 6,
    "start_time": "2022-02-05T06:07:45.522Z"
   },
   {
    "duration": 9,
    "start_time": "2022-02-05T06:08:22.382Z"
   },
   {
    "duration": 8,
    "start_time": "2022-02-05T06:11:01.826Z"
   },
   {
    "duration": 15,
    "start_time": "2022-02-05T06:11:08.310Z"
   },
   {
    "duration": 17,
    "start_time": "2022-02-05T06:12:17.183Z"
   },
   {
    "duration": 16,
    "start_time": "2022-02-05T06:12:40.470Z"
   },
   {
    "duration": 13,
    "start_time": "2022-02-05T06:13:05.435Z"
   },
   {
    "duration": 14,
    "start_time": "2022-02-05T06:13:26.763Z"
   },
   {
    "duration": 11,
    "start_time": "2022-02-05T06:13:43.138Z"
   },
   {
    "duration": 62,
    "start_time": "2022-02-05T06:24:08.702Z"
   },
   {
    "duration": 23,
    "start_time": "2022-02-05T06:30:06.708Z"
   },
   {
    "duration": 33,
    "start_time": "2022-02-05T06:30:46.228Z"
   },
   {
    "duration": 27,
    "start_time": "2022-02-05T06:30:56.641Z"
   },
   {
    "duration": 8,
    "start_time": "2022-02-05T06:31:50.490Z"
   },
   {
    "duration": 12,
    "start_time": "2022-02-05T06:32:07.966Z"
   },
   {
    "duration": 23,
    "start_time": "2022-02-05T06:33:09.589Z"
   },
   {
    "duration": 58,
    "start_time": "2022-02-05T06:35:13.240Z"
   },
   {
    "duration": 4,
    "start_time": "2022-02-05T06:35:24.994Z"
   },
   {
    "duration": 22,
    "start_time": "2022-02-05T06:35:27.577Z"
   },
   {
    "duration": 55,
    "start_time": "2022-02-05T06:35:41.712Z"
   },
   {
    "duration": 10,
    "start_time": "2022-02-05T06:35:41.769Z"
   },
   {
    "duration": 5,
    "start_time": "2022-02-05T06:35:41.781Z"
   },
   {
    "duration": 35,
    "start_time": "2022-02-05T06:35:41.788Z"
   },
   {
    "duration": 7,
    "start_time": "2022-02-05T06:35:41.825Z"
   },
   {
    "duration": 10,
    "start_time": "2022-02-05T06:35:41.834Z"
   },
   {
    "duration": 7,
    "start_time": "2022-02-05T06:36:23.068Z"
   },
   {
    "duration": 9,
    "start_time": "2022-02-05T06:36:25.717Z"
   },
   {
    "duration": 20,
    "start_time": "2022-02-05T06:36:39.613Z"
   },
   {
    "duration": 11,
    "start_time": "2022-02-05T06:37:01.061Z"
   },
   {
    "duration": 54,
    "start_time": "2022-02-05T06:37:42.546Z"
   },
   {
    "duration": 11,
    "start_time": "2022-02-05T06:37:42.601Z"
   },
   {
    "duration": 5,
    "start_time": "2022-02-05T06:37:42.615Z"
   },
   {
    "duration": 23,
    "start_time": "2022-02-05T06:37:42.621Z"
   },
   {
    "duration": 8,
    "start_time": "2022-02-05T06:37:42.645Z"
   },
   {
    "duration": 11,
    "start_time": "2022-02-05T06:37:42.654Z"
   },
   {
    "duration": 8,
    "start_time": "2022-02-05T06:38:07.852Z"
   },
   {
    "duration": 11,
    "start_time": "2022-02-05T06:38:22.835Z"
   },
   {
    "duration": 23,
    "start_time": "2022-02-05T06:38:32.157Z"
   },
   {
    "duration": 8,
    "start_time": "2022-02-05T06:38:52.466Z"
   },
   {
    "duration": 9,
    "start_time": "2022-02-05T06:39:02.261Z"
   },
   {
    "duration": 4817,
    "start_time": "2022-02-05T06:39:57.107Z"
   },
   {
    "duration": 61,
    "start_time": "2022-02-05T06:40:13.126Z"
   },
   {
    "duration": 5,
    "start_time": "2022-02-05T06:40:32.915Z"
   },
   {
    "duration": 4,
    "start_time": "2022-02-05T06:40:36.636Z"
   },
   {
    "duration": 9,
    "start_time": "2022-02-05T06:41:46.706Z"
   },
   {
    "duration": 56,
    "start_time": "2022-02-05T06:41:57.124Z"
   },
   {
    "duration": 10,
    "start_time": "2022-02-05T06:41:57.315Z"
   },
   {
    "duration": 5,
    "start_time": "2022-02-05T06:41:57.326Z"
   },
   {
    "duration": 22,
    "start_time": "2022-02-05T06:41:57.333Z"
   },
   {
    "duration": 7,
    "start_time": "2022-02-05T06:41:57.356Z"
   },
   {
    "duration": 10,
    "start_time": "2022-02-05T06:41:57.364Z"
   },
   {
    "duration": 1464,
    "start_time": "2022-02-05T06:42:01.648Z"
   },
   {
    "duration": 56,
    "start_time": "2022-02-05T06:42:22.302Z"
   },
   {
    "duration": 10,
    "start_time": "2022-02-05T06:42:22.360Z"
   },
   {
    "duration": 6,
    "start_time": "2022-02-05T06:42:22.371Z"
   },
   {
    "duration": 45,
    "start_time": "2022-02-05T06:42:22.378Z"
   },
   {
    "duration": 8,
    "start_time": "2022-02-05T06:42:22.425Z"
   },
   {
    "duration": 13,
    "start_time": "2022-02-05T06:42:22.434Z"
   },
   {
    "duration": 1646,
    "start_time": "2022-02-05T06:42:25.434Z"
   },
   {
    "duration": 10,
    "start_time": "2022-02-05T06:42:33.474Z"
   },
   {
    "duration": 19,
    "start_time": "2022-02-05T06:42:38.324Z"
   },
   {
    "duration": 203,
    "start_time": "2022-02-05T06:43:05.854Z"
   },
   {
    "duration": 191,
    "start_time": "2022-02-05T06:43:10.677Z"
   },
   {
    "duration": 19,
    "start_time": "2022-02-05T06:43:10.869Z"
   },
   {
    "duration": 56,
    "start_time": "2022-02-05T06:43:20.813Z"
   },
   {
    "duration": 10,
    "start_time": "2022-02-05T06:43:20.872Z"
   },
   {
    "duration": 5,
    "start_time": "2022-02-05T06:43:20.884Z"
   },
   {
    "duration": 40,
    "start_time": "2022-02-05T06:43:20.891Z"
   },
   {
    "duration": 9,
    "start_time": "2022-02-05T06:43:20.933Z"
   },
   {
    "duration": 17,
    "start_time": "2022-02-05T06:43:20.943Z"
   },
   {
    "duration": 1517,
    "start_time": "2022-02-05T06:43:23.408Z"
   },
   {
    "duration": 21,
    "start_time": "2022-02-05T06:43:45.016Z"
   },
   {
    "duration": 194,
    "start_time": "2022-02-05T06:44:53.732Z"
   },
   {
    "duration": 21,
    "start_time": "2022-02-05T06:44:58.038Z"
   },
   {
    "duration": 5,
    "start_time": "2022-02-05T06:45:34.258Z"
   },
   {
    "duration": 10,
    "start_time": "2022-02-05T06:45:53.965Z"
   },
   {
    "duration": 7,
    "start_time": "2022-02-05T06:45:59.768Z"
   },
   {
    "duration": 5,
    "start_time": "2022-02-05T06:46:09.466Z"
   },
   {
    "duration": 7,
    "start_time": "2022-02-05T06:46:15.626Z"
   },
   {
    "duration": 7,
    "start_time": "2022-02-05T06:46:25.834Z"
   },
   {
    "duration": 7,
    "start_time": "2022-02-05T06:46:39.541Z"
   },
   {
    "duration": 8,
    "start_time": "2022-02-05T06:46:49.177Z"
   },
   {
    "duration": 8,
    "start_time": "2022-02-05T06:47:01.914Z"
   },
   {
    "duration": 7,
    "start_time": "2022-02-05T06:47:09.170Z"
   },
   {
    "duration": 12,
    "start_time": "2022-02-05T06:47:48.953Z"
   },
   {
    "duration": 55,
    "start_time": "2022-02-05T06:56:36.519Z"
   },
   {
    "duration": 10,
    "start_time": "2022-02-05T06:56:36.576Z"
   },
   {
    "duration": 5,
    "start_time": "2022-02-05T06:56:36.588Z"
   },
   {
    "duration": 31,
    "start_time": "2022-02-05T06:56:36.594Z"
   },
   {
    "duration": 7,
    "start_time": "2022-02-05T06:56:36.626Z"
   },
   {
    "duration": 10,
    "start_time": "2022-02-05T06:56:36.635Z"
   },
   {
    "duration": 1437,
    "start_time": "2022-02-05T06:56:36.647Z"
   },
   {
    "duration": 6,
    "start_time": "2022-02-05T06:56:38.086Z"
   },
   {
    "duration": 201,
    "start_time": "2022-02-05T06:57:08.594Z"
   },
   {
    "duration": 58,
    "start_time": "2022-02-05T06:57:12.097Z"
   },
   {
    "duration": 11,
    "start_time": "2022-02-05T06:57:12.156Z"
   },
   {
    "duration": 5,
    "start_time": "2022-02-05T06:57:12.169Z"
   },
   {
    "duration": 44,
    "start_time": "2022-02-05T06:57:12.176Z"
   },
   {
    "duration": 8,
    "start_time": "2022-02-05T06:57:12.221Z"
   },
   {
    "duration": 10,
    "start_time": "2022-02-05T06:57:12.231Z"
   },
   {
    "duration": 1516,
    "start_time": "2022-02-05T06:57:12.243Z"
   },
   {
    "duration": 58,
    "start_time": "2022-02-05T06:57:25.090Z"
   },
   {
    "duration": 10,
    "start_time": "2022-02-05T06:57:25.149Z"
   },
   {
    "duration": 5,
    "start_time": "2022-02-05T06:57:25.161Z"
   },
   {
    "duration": 48,
    "start_time": "2022-02-05T06:57:25.168Z"
   },
   {
    "duration": 8,
    "start_time": "2022-02-05T06:57:25.217Z"
   },
   {
    "duration": 10,
    "start_time": "2022-02-05T06:57:25.226Z"
   },
   {
    "duration": 1619,
    "start_time": "2022-02-05T06:57:25.238Z"
   },
   {
    "duration": 11,
    "start_time": "2022-02-05T07:00:29.915Z"
   },
   {
    "duration": 5,
    "start_time": "2022-02-05T07:01:31.796Z"
   },
   {
    "duration": 4,
    "start_time": "2022-02-05T07:01:42.198Z"
   },
   {
    "duration": 12,
    "start_time": "2022-02-05T07:01:47.803Z"
   },
   {
    "duration": 58,
    "start_time": "2022-02-05T07:02:21.469Z"
   },
   {
    "duration": 9,
    "start_time": "2022-02-05T07:02:21.529Z"
   },
   {
    "duration": 6,
    "start_time": "2022-02-05T07:02:21.540Z"
   },
   {
    "duration": 23,
    "start_time": "2022-02-05T07:02:21.547Z"
   },
   {
    "duration": 7,
    "start_time": "2022-02-05T07:02:21.572Z"
   },
   {
    "duration": 40,
    "start_time": "2022-02-05T07:02:21.580Z"
   },
   {
    "duration": 1530,
    "start_time": "2022-02-05T07:02:21.622Z"
   },
   {
    "duration": 7,
    "start_time": "2022-02-05T07:02:23.154Z"
   },
   {
    "duration": 6,
    "start_time": "2022-02-05T07:02:23.163Z"
   },
   {
    "duration": 12,
    "start_time": "2022-02-05T07:02:23.171Z"
   },
   {
    "duration": 14,
    "start_time": "2022-02-05T07:02:57.236Z"
   },
   {
    "duration": 32,
    "start_time": "2022-02-05T07:03:09.677Z"
   },
   {
    "duration": 17,
    "start_time": "2022-02-05T07:03:20.227Z"
   },
   {
    "duration": 210,
    "start_time": "2022-02-05T07:10:04.307Z"
   },
   {
    "duration": 35,
    "start_time": "2022-02-05T07:11:18.681Z"
   },
   {
    "duration": 7,
    "start_time": "2022-02-05T07:13:37.081Z"
   },
   {
    "duration": 219,
    "start_time": "2022-02-05T07:17:55.037Z"
   },
   {
    "duration": 183,
    "start_time": "2022-02-05T07:18:07.338Z"
   },
   {
    "duration": 12,
    "start_time": "2022-02-05T07:18:09.791Z"
   },
   {
    "duration": 16,
    "start_time": "2022-02-05T07:18:17.949Z"
   },
   {
    "duration": 16,
    "start_time": "2022-02-05T07:18:33.113Z"
   },
   {
    "duration": 16,
    "start_time": "2022-02-05T07:19:01.067Z"
   },
   {
    "duration": 56,
    "start_time": "2022-02-05T07:19:50.203Z"
   },
   {
    "duration": 10,
    "start_time": "2022-02-05T07:19:50.260Z"
   },
   {
    "duration": 5,
    "start_time": "2022-02-05T07:19:50.272Z"
   },
   {
    "duration": 44,
    "start_time": "2022-02-05T07:19:50.279Z"
   },
   {
    "duration": 7,
    "start_time": "2022-02-05T07:19:50.325Z"
   },
   {
    "duration": 11,
    "start_time": "2022-02-05T07:19:50.334Z"
   },
   {
    "duration": 1523,
    "start_time": "2022-02-05T07:19:50.347Z"
   },
   {
    "duration": 7,
    "start_time": "2022-02-05T07:19:51.872Z"
   },
   {
    "duration": 9,
    "start_time": "2022-02-05T07:19:51.881Z"
   },
   {
    "duration": 21,
    "start_time": "2022-02-05T07:19:51.891Z"
   },
   {
    "duration": 16,
    "start_time": "2022-02-05T07:19:51.914Z"
   },
   {
    "duration": 22,
    "start_time": "2022-02-05T07:20:00.027Z"
   },
   {
    "duration": 16,
    "start_time": "2022-02-05T07:21:11.981Z"
   },
   {
    "duration": 17,
    "start_time": "2022-02-05T07:21:19.272Z"
   },
   {
    "duration": 59,
    "start_time": "2022-02-05T07:21:48.337Z"
   },
   {
    "duration": 11,
    "start_time": "2022-02-05T07:21:48.399Z"
   },
   {
    "duration": 6,
    "start_time": "2022-02-05T07:21:48.413Z"
   },
   {
    "duration": 27,
    "start_time": "2022-02-05T07:21:48.421Z"
   },
   {
    "duration": 9,
    "start_time": "2022-02-05T07:21:48.450Z"
   },
   {
    "duration": 12,
    "start_time": "2022-02-05T07:21:48.461Z"
   },
   {
    "duration": 1543,
    "start_time": "2022-02-05T07:21:48.475Z"
   },
   {
    "duration": 8,
    "start_time": "2022-02-05T07:21:50.021Z"
   },
   {
    "duration": 7,
    "start_time": "2022-02-05T07:21:50.031Z"
   },
   {
    "duration": 14,
    "start_time": "2022-02-05T07:21:50.040Z"
   },
   {
    "duration": 16,
    "start_time": "2022-02-05T07:21:50.057Z"
   },
   {
    "duration": 31,
    "start_time": "2022-02-05T07:21:56.379Z"
   },
   {
    "duration": 198,
    "start_time": "2022-02-05T07:23:59.606Z"
   },
   {
    "duration": 199,
    "start_time": "2022-02-05T07:24:38.266Z"
   },
   {
    "duration": 18,
    "start_time": "2022-02-05T07:24:43.803Z"
   },
   {
    "duration": 7,
    "start_time": "2022-02-05T07:26:12.186Z"
   },
   {
    "duration": 7,
    "start_time": "2022-02-05T07:27:11.559Z"
   },
   {
    "duration": 9,
    "start_time": "2022-02-05T07:27:39.827Z"
   },
   {
    "duration": 221,
    "start_time": "2022-02-05T07:38:13.617Z"
   },
   {
    "duration": 6,
    "start_time": "2022-02-05T07:38:18.576Z"
   },
   {
    "duration": 11,
    "start_time": "2022-02-05T07:38:23.547Z"
   },
   {
    "duration": 20,
    "start_time": "2022-02-05T07:39:00.465Z"
   },
   {
    "duration": 5,
    "start_time": "2022-02-05T07:39:16.268Z"
   },
   {
    "duration": 6,
    "start_time": "2022-02-05T07:39:57.126Z"
   },
   {
    "duration": 10,
    "start_time": "2022-02-05T07:45:28.317Z"
   },
   {
    "duration": 11,
    "start_time": "2022-02-05T07:45:35.901Z"
   },
   {
    "duration": 182,
    "start_time": "2022-02-05T07:54:23.080Z"
   },
   {
    "duration": 6,
    "start_time": "2022-02-05T07:55:45.710Z"
   },
   {
    "duration": 22,
    "start_time": "2022-02-05T07:55:49.298Z"
   },
   {
    "duration": 15,
    "start_time": "2022-02-05T07:57:03.453Z"
   },
   {
    "duration": 10,
    "start_time": "2022-02-05T07:57:34.681Z"
   },
   {
    "duration": 12,
    "start_time": "2022-02-05T07:58:12.560Z"
   },
   {
    "duration": 6,
    "start_time": "2022-02-05T07:58:21.151Z"
   },
   {
    "duration": 13,
    "start_time": "2022-02-05T07:58:55.364Z"
   },
   {
    "duration": 204,
    "start_time": "2022-02-05T07:59:58.740Z"
   },
   {
    "duration": 23,
    "start_time": "2022-02-05T08:00:05.581Z"
   },
   {
    "duration": 63,
    "start_time": "2022-02-05T08:09:48.635Z"
   },
   {
    "duration": 4,
    "start_time": "2022-02-05T08:09:56.653Z"
   },
   {
    "duration": 4,
    "start_time": "2022-02-05T08:10:07.885Z"
   },
   {
    "duration": 4,
    "start_time": "2022-02-05T08:10:11.653Z"
   },
   {
    "duration": 4,
    "start_time": "2022-02-05T08:10:14.117Z"
   },
   {
    "duration": 4,
    "start_time": "2022-02-05T08:10:54.414Z"
   },
   {
    "duration": 4,
    "start_time": "2022-02-05T08:11:04.777Z"
   },
   {
    "duration": 26,
    "start_time": "2022-02-05T08:11:54.233Z"
   },
   {
    "duration": 30,
    "start_time": "2022-02-05T08:12:42.407Z"
   },
   {
    "duration": 203,
    "start_time": "2022-02-05T08:13:09.332Z"
   },
   {
    "duration": 16,
    "start_time": "2022-02-05T08:13:21.758Z"
   },
   {
    "duration": 184,
    "start_time": "2022-02-05T08:13:43.118Z"
   },
   {
    "duration": 16,
    "start_time": "2022-02-05T08:13:48.260Z"
   },
   {
    "duration": 7,
    "start_time": "2022-02-05T08:15:22.009Z"
   },
   {
    "duration": 23,
    "start_time": "2022-02-05T08:15:28.135Z"
   },
   {
    "duration": 9,
    "start_time": "2022-02-05T08:15:38.267Z"
   },
   {
    "duration": 5,
    "start_time": "2022-02-05T08:19:01.693Z"
   },
   {
    "duration": 4,
    "start_time": "2022-02-05T08:19:13.966Z"
   },
   {
    "duration": 4,
    "start_time": "2022-02-05T08:20:34.580Z"
   },
   {
    "duration": 4,
    "start_time": "2022-02-05T08:20:42.563Z"
   },
   {
    "duration": 4,
    "start_time": "2022-02-05T08:20:49.628Z"
   },
   {
    "duration": 4,
    "start_time": "2022-02-05T08:24:41.947Z"
   },
   {
    "duration": 4,
    "start_time": "2022-02-05T08:25:11.881Z"
   },
   {
    "duration": 4,
    "start_time": "2022-02-05T08:25:56.965Z"
   },
   {
    "duration": 5,
    "start_time": "2022-02-05T08:26:00.453Z"
   },
   {
    "duration": 4,
    "start_time": "2022-02-05T08:26:05.142Z"
   },
   {
    "duration": 3,
    "start_time": "2022-02-05T08:26:26.378Z"
   },
   {
    "duration": 3,
    "start_time": "2022-02-05T08:26:28.227Z"
   },
   {
    "duration": 3,
    "start_time": "2022-02-05T08:26:36.621Z"
   },
   {
    "duration": 3,
    "start_time": "2022-02-05T08:26:48.491Z"
   },
   {
    "duration": 3,
    "start_time": "2022-02-05T08:27:37.003Z"
   },
   {
    "duration": 4,
    "start_time": "2022-02-05T08:27:41.210Z"
   },
   {
    "duration": 4,
    "start_time": "2022-02-05T08:27:46.345Z"
   },
   {
    "duration": 4,
    "start_time": "2022-02-05T08:27:59.622Z"
   },
   {
    "duration": 3,
    "start_time": "2022-02-05T08:28:09.119Z"
   },
   {
    "duration": 4,
    "start_time": "2022-02-05T08:28:18.878Z"
   },
   {
    "duration": 4,
    "start_time": "2022-02-05T08:28:25.629Z"
   },
   {
    "duration": 5,
    "start_time": "2022-02-05T08:28:31.762Z"
   },
   {
    "duration": 4,
    "start_time": "2022-02-05T08:28:40.300Z"
   },
   {
    "duration": 4,
    "start_time": "2022-02-05T08:28:56.050Z"
   },
   {
    "duration": 4,
    "start_time": "2022-02-05T08:29:01.218Z"
   },
   {
    "duration": 4,
    "start_time": "2022-02-05T08:29:06.455Z"
   },
   {
    "duration": 4,
    "start_time": "2022-02-05T08:29:17.839Z"
   },
   {
    "duration": 4,
    "start_time": "2022-02-05T08:29:30.161Z"
   },
   {
    "duration": 4,
    "start_time": "2022-02-05T08:29:49.109Z"
   },
   {
    "duration": 4,
    "start_time": "2022-02-05T08:30:14.715Z"
   },
   {
    "duration": 4,
    "start_time": "2022-02-05T08:30:27.755Z"
   },
   {
    "duration": 4,
    "start_time": "2022-02-05T08:31:10.153Z"
   },
   {
    "duration": 4,
    "start_time": "2022-02-05T08:31:13.689Z"
   },
   {
    "duration": 4,
    "start_time": "2022-02-05T08:31:52.550Z"
   },
   {
    "duration": 4,
    "start_time": "2022-02-05T08:32:13.033Z"
   },
   {
    "duration": 4,
    "start_time": "2022-02-05T08:32:38.031Z"
   },
   {
    "duration": 4,
    "start_time": "2022-02-05T08:35:32.368Z"
   },
   {
    "duration": 4,
    "start_time": "2022-02-05T08:35:47.320Z"
   },
   {
    "duration": 4,
    "start_time": "2022-02-05T08:35:52.895Z"
   },
   {
    "duration": 5,
    "start_time": "2022-02-05T08:36:10.401Z"
   },
   {
    "duration": 29,
    "start_time": "2022-02-05T08:37:22.078Z"
   },
   {
    "duration": 15,
    "start_time": "2022-02-05T08:38:02.282Z"
   },
   {
    "duration": 20,
    "start_time": "2022-02-05T08:39:12.212Z"
   },
   {
    "duration": 28,
    "start_time": "2022-02-05T08:39:26.816Z"
   },
   {
    "duration": 24,
    "start_time": "2022-02-05T08:39:36.610Z"
   },
   {
    "duration": 58,
    "start_time": "2022-02-05T08:40:03.642Z"
   },
   {
    "duration": 44,
    "start_time": "2022-02-05T08:40:03.702Z"
   },
   {
    "duration": 105,
    "start_time": "2022-02-05T08:40:03.748Z"
   },
   {
    "duration": 212,
    "start_time": "2022-02-05T08:40:03.855Z"
   },
   {
    "duration": 97,
    "start_time": "2022-02-05T08:40:04.068Z"
   },
   {
    "duration": 140,
    "start_time": "2022-02-05T08:40:04.167Z"
   },
   {
    "duration": 1734,
    "start_time": "2022-02-05T08:40:04.308Z"
   },
   {
    "duration": 8,
    "start_time": "2022-02-05T08:40:06.045Z"
   },
   {
    "duration": 5,
    "start_time": "2022-02-05T08:40:06.056Z"
   },
   {
    "duration": 17,
    "start_time": "2022-02-05T08:40:06.063Z"
   },
   {
    "duration": 36,
    "start_time": "2022-02-05T08:40:06.081Z"
   },
   {
    "duration": 26,
    "start_time": "2022-02-05T08:40:06.119Z"
   },
   {
    "duration": 7,
    "start_time": "2022-02-05T08:40:06.147Z"
   },
   {
    "duration": 30,
    "start_time": "2022-02-05T08:40:06.156Z"
   },
   {
    "duration": 20,
    "start_time": "2022-02-05T08:40:06.188Z"
   },
   {
    "duration": 13,
    "start_time": "2022-02-05T08:40:06.209Z"
   },
   {
    "duration": 27,
    "start_time": "2022-02-05T08:40:06.223Z"
   },
   {
    "duration": 18,
    "start_time": "2022-02-05T08:40:06.252Z"
   },
   {
    "duration": 16,
    "start_time": "2022-02-05T08:40:06.272Z"
   },
   {
    "duration": 16,
    "start_time": "2022-02-05T08:40:12.890Z"
   },
   {
    "duration": 18,
    "start_time": "2022-02-05T08:51:13.788Z"
   },
   {
    "duration": 179,
    "start_time": "2022-02-05T08:56:03.647Z"
   },
   {
    "duration": 392,
    "start_time": "2022-02-05T08:56:55.686Z"
   },
   {
    "duration": 205,
    "start_time": "2022-02-05T08:57:36.991Z"
   },
   {
    "duration": 16,
    "start_time": "2022-02-05T08:58:03.804Z"
   },
   {
    "duration": 12,
    "start_time": "2022-02-05T08:58:16.155Z"
   },
   {
    "duration": 7,
    "start_time": "2022-02-05T08:59:40.633Z"
   },
   {
    "duration": 6,
    "start_time": "2022-02-05T09:00:57.835Z"
   },
   {
    "duration": 23,
    "start_time": "2022-02-05T09:01:29.537Z"
   },
   {
    "duration": 204,
    "start_time": "2022-02-05T09:03:39.832Z"
   },
   {
    "duration": 5,
    "start_time": "2022-02-05T09:05:02.049Z"
   },
   {
    "duration": 192,
    "start_time": "2022-02-05T09:05:18.948Z"
   },
   {
    "duration": 56,
    "start_time": "2022-02-05T09:06:37.987Z"
   },
   {
    "duration": 10,
    "start_time": "2022-02-05T09:06:38.045Z"
   },
   {
    "duration": 7,
    "start_time": "2022-02-05T09:06:38.057Z"
   },
   {
    "duration": 53,
    "start_time": "2022-02-05T09:06:38.066Z"
   },
   {
    "duration": 7,
    "start_time": "2022-02-05T09:06:38.121Z"
   },
   {
    "duration": 11,
    "start_time": "2022-02-05T09:06:38.130Z"
   },
   {
    "duration": 1450,
    "start_time": "2022-02-05T09:06:38.143Z"
   },
   {
    "duration": 5,
    "start_time": "2022-02-05T09:06:39.596Z"
   },
   {
    "duration": 216,
    "start_time": "2022-02-05T09:06:39.611Z"
   },
   {
    "duration": 8,
    "start_time": "2022-02-05T09:06:39.828Z"
   },
   {
    "duration": 6,
    "start_time": "2022-02-05T09:06:39.837Z"
   },
   {
    "duration": 15,
    "start_time": "2022-02-05T09:06:39.844Z"
   },
   {
    "duration": 16,
    "start_time": "2022-02-05T09:06:39.861Z"
   },
   {
    "duration": 49,
    "start_time": "2022-02-05T09:06:39.878Z"
   },
   {
    "duration": 7,
    "start_time": "2022-02-05T09:06:39.928Z"
   },
   {
    "duration": 21,
    "start_time": "2022-02-05T09:06:39.936Z"
   },
   {
    "duration": 7,
    "start_time": "2022-02-05T09:06:39.959Z"
   },
   {
    "duration": 8,
    "start_time": "2022-02-05T09:06:39.967Z"
   },
   {
    "duration": 51,
    "start_time": "2022-02-05T09:06:39.976Z"
   },
   {
    "duration": 16,
    "start_time": "2022-02-05T09:06:40.029Z"
   },
   {
    "duration": 12,
    "start_time": "2022-02-05T09:06:40.047Z"
   },
   {
    "duration": 15,
    "start_time": "2022-02-05T09:06:40.060Z"
   },
   {
    "duration": 46,
    "start_time": "2022-02-05T09:06:40.078Z"
   },
   {
    "duration": 13,
    "start_time": "2022-02-05T09:06:40.127Z"
   },
   {
    "duration": 13,
    "start_time": "2022-02-05T09:06:40.141Z"
   },
   {
    "duration": 7,
    "start_time": "2022-02-05T09:06:46.176Z"
   },
   {
    "duration": 7,
    "start_time": "2022-02-05T09:07:55.604Z"
   },
   {
    "duration": 7,
    "start_time": "2022-02-05T09:08:07.409Z"
   },
   {
    "duration": 7,
    "start_time": "2022-02-05T09:12:05.218Z"
   },
   {
    "duration": 7,
    "start_time": "2022-02-05T09:16:22.182Z"
   },
   {
    "duration": 190,
    "start_time": "2022-02-05T09:17:52.359Z"
   },
   {
    "duration": 8,
    "start_time": "2022-02-05T09:18:16.814Z"
   },
   {
    "duration": 7,
    "start_time": "2022-02-05T09:22:22.754Z"
   },
   {
    "duration": 2460,
    "start_time": "2022-02-05T09:22:31.389Z"
   },
   {
    "duration": 7,
    "start_time": "2022-02-05T09:23:10.028Z"
   },
   {
    "duration": 5,
    "start_time": "2022-02-05T09:25:11.288Z"
   },
   {
    "duration": 203,
    "start_time": "2022-02-05T09:26:20.336Z"
   },
   {
    "duration": 231,
    "start_time": "2022-02-05T09:27:38.298Z"
   },
   {
    "duration": 195,
    "start_time": "2022-02-05T09:27:50.370Z"
   },
   {
    "duration": 9,
    "start_time": "2022-02-05T09:28:02.693Z"
   },
   {
    "duration": 5,
    "start_time": "2022-02-05T09:28:12.466Z"
   },
   {
    "duration": 225,
    "start_time": "2022-02-05T09:28:39.140Z"
   },
   {
    "duration": 592,
    "start_time": "2022-02-05T09:28:58.464Z"
   },
   {
    "duration": 11,
    "start_time": "2022-02-05T09:28:59.057Z"
   },
   {
    "duration": 5,
    "start_time": "2022-02-05T09:28:59.069Z"
   },
   {
    "duration": 39,
    "start_time": "2022-02-05T09:28:59.076Z"
   },
   {
    "duration": 7,
    "start_time": "2022-02-05T09:28:59.117Z"
   },
   {
    "duration": 11,
    "start_time": "2022-02-05T09:28:59.126Z"
   },
   {
    "duration": 1542,
    "start_time": "2022-02-05T09:28:59.138Z"
   },
   {
    "duration": 6,
    "start_time": "2022-02-05T09:29:00.683Z"
   },
   {
    "duration": 231,
    "start_time": "2022-02-05T09:29:00.691Z"
   },
   {
    "duration": 7,
    "start_time": "2022-02-05T09:29:00.923Z"
   },
   {
    "duration": 13,
    "start_time": "2022-02-05T09:29:00.932Z"
   },
   {
    "duration": 13,
    "start_time": "2022-02-05T09:29:00.946Z"
   },
   {
    "duration": 18,
    "start_time": "2022-02-05T09:29:00.960Z"
   },
   {
    "duration": 44,
    "start_time": "2022-02-05T09:29:00.980Z"
   },
   {
    "duration": 7,
    "start_time": "2022-02-05T09:29:01.026Z"
   },
   {
    "duration": 21,
    "start_time": "2022-02-05T09:29:01.035Z"
   },
   {
    "duration": 10,
    "start_time": "2022-02-05T09:29:01.058Z"
   },
   {
    "duration": 9,
    "start_time": "2022-02-05T09:29:01.069Z"
   },
   {
    "duration": 51,
    "start_time": "2022-02-05T09:29:01.079Z"
   },
   {
    "duration": 17,
    "start_time": "2022-02-05T09:29:01.132Z"
   },
   {
    "duration": 21,
    "start_time": "2022-02-05T09:29:01.151Z"
   },
   {
    "duration": 15,
    "start_time": "2022-02-05T09:29:01.173Z"
   },
   {
    "duration": 19,
    "start_time": "2022-02-05T09:29:01.214Z"
   },
   {
    "duration": 12,
    "start_time": "2022-02-05T09:29:01.235Z"
   },
   {
    "duration": 6,
    "start_time": "2022-02-05T09:29:01.249Z"
   },
   {
    "duration": 666,
    "start_time": "2022-02-05T09:29:25.847Z"
   },
   {
    "duration": 10,
    "start_time": "2022-02-05T09:29:26.515Z"
   },
   {
    "duration": 5,
    "start_time": "2022-02-05T09:29:26.527Z"
   },
   {
    "duration": 24,
    "start_time": "2022-02-05T09:29:26.534Z"
   },
   {
    "duration": 8,
    "start_time": "2022-02-05T09:29:26.560Z"
   },
   {
    "duration": 43,
    "start_time": "2022-02-05T09:29:26.569Z"
   },
   {
    "duration": 1484,
    "start_time": "2022-02-05T09:29:26.614Z"
   },
   {
    "duration": 14,
    "start_time": "2022-02-05T09:29:28.099Z"
   },
   {
    "duration": 218,
    "start_time": "2022-02-05T09:29:28.115Z"
   },
   {
    "duration": 7,
    "start_time": "2022-02-05T09:29:28.335Z"
   },
   {
    "duration": 4,
    "start_time": "2022-02-05T09:29:28.344Z"
   },
   {
    "duration": 13,
    "start_time": "2022-02-05T09:29:28.350Z"
   },
   {
    "duration": 48,
    "start_time": "2022-02-05T09:29:28.365Z"
   },
   {
    "duration": 26,
    "start_time": "2022-02-05T09:29:28.415Z"
   },
   {
    "duration": 8,
    "start_time": "2022-02-05T09:29:28.442Z"
   },
   {
    "duration": 21,
    "start_time": "2022-02-05T09:29:28.451Z"
   },
   {
    "duration": 7,
    "start_time": "2022-02-05T09:29:28.474Z"
   },
   {
    "duration": 35,
    "start_time": "2022-02-05T09:29:28.483Z"
   },
   {
    "duration": 21,
    "start_time": "2022-02-05T09:29:28.519Z"
   },
   {
    "duration": 15,
    "start_time": "2022-02-05T09:29:28.542Z"
   },
   {
    "duration": 12,
    "start_time": "2022-02-05T09:29:28.559Z"
   },
   {
    "duration": 49,
    "start_time": "2022-02-05T09:29:28.572Z"
   },
   {
    "duration": 19,
    "start_time": "2022-02-05T09:29:28.623Z"
   },
   {
    "duration": 10,
    "start_time": "2022-02-05T09:29:28.644Z"
   },
   {
    "duration": 7,
    "start_time": "2022-02-05T09:29:28.655Z"
   },
   {
    "duration": 251,
    "start_time": "2022-02-05T09:29:37.958Z"
   },
   {
    "duration": 650,
    "start_time": "2022-02-05T09:29:52.524Z"
   },
   {
    "duration": 11,
    "start_time": "2022-02-05T09:29:53.175Z"
   },
   {
    "duration": 9,
    "start_time": "2022-02-05T09:29:53.188Z"
   },
   {
    "duration": 30,
    "start_time": "2022-02-05T09:29:53.199Z"
   },
   {
    "duration": 7,
    "start_time": "2022-02-05T09:29:53.231Z"
   },
   {
    "duration": 11,
    "start_time": "2022-02-05T09:29:53.240Z"
   },
   {
    "duration": 1481,
    "start_time": "2022-02-05T09:29:53.252Z"
   },
   {
    "duration": 6,
    "start_time": "2022-02-05T09:29:54.734Z"
   },
   {
    "duration": 215,
    "start_time": "2022-02-05T09:29:54.743Z"
   },
   {
    "duration": 6,
    "start_time": "2022-02-05T09:29:54.961Z"
   },
   {
    "duration": 5,
    "start_time": "2022-02-05T09:29:54.969Z"
   },
   {
    "duration": 12,
    "start_time": "2022-02-05T09:29:54.975Z"
   },
   {
    "duration": 37,
    "start_time": "2022-02-05T09:29:54.989Z"
   },
   {
    "duration": 25,
    "start_time": "2022-02-05T09:29:55.027Z"
   },
   {
    "duration": 7,
    "start_time": "2022-02-05T09:29:55.053Z"
   },
   {
    "duration": 19,
    "start_time": "2022-02-05T09:29:55.062Z"
   },
   {
    "duration": 35,
    "start_time": "2022-02-05T09:29:55.082Z"
   },
   {
    "duration": 7,
    "start_time": "2022-02-05T09:29:55.119Z"
   },
   {
    "duration": 22,
    "start_time": "2022-02-05T09:29:55.128Z"
   },
   {
    "duration": 16,
    "start_time": "2022-02-05T09:29:55.151Z"
   },
   {
    "duration": 13,
    "start_time": "2022-02-05T09:29:55.169Z"
   },
   {
    "duration": 16,
    "start_time": "2022-02-05T09:29:55.213Z"
   },
   {
    "duration": 18,
    "start_time": "2022-02-05T09:29:55.231Z"
   },
   {
    "duration": 8,
    "start_time": "2022-02-05T09:29:55.250Z"
   },
   {
    "duration": 5,
    "start_time": "2022-02-05T09:29:55.260Z"
   },
   {
    "duration": 17,
    "start_time": "2022-02-05T09:30:13.061Z"
   },
   {
    "duration": 644,
    "start_time": "2022-02-05T09:31:05.724Z"
   },
   {
    "duration": 11,
    "start_time": "2022-02-05T09:31:06.369Z"
   },
   {
    "duration": 6,
    "start_time": "2022-02-05T09:31:06.382Z"
   },
   {
    "duration": 40,
    "start_time": "2022-02-05T09:31:06.389Z"
   },
   {
    "duration": 8,
    "start_time": "2022-02-05T09:31:06.431Z"
   },
   {
    "duration": 11,
    "start_time": "2022-02-05T09:31:06.441Z"
   },
   {
    "duration": 1480,
    "start_time": "2022-02-05T09:31:06.453Z"
   },
   {
    "duration": 5,
    "start_time": "2022-02-05T09:31:07.936Z"
   },
   {
    "duration": 217,
    "start_time": "2022-02-05T09:31:07.943Z"
   },
   {
    "duration": 7,
    "start_time": "2022-02-05T09:31:08.162Z"
   },
   {
    "duration": 7,
    "start_time": "2022-02-05T09:31:08.171Z"
   },
   {
    "duration": 12,
    "start_time": "2022-02-05T09:31:08.180Z"
   },
   {
    "duration": 34,
    "start_time": "2022-02-05T09:31:08.193Z"
   },
   {
    "duration": 22,
    "start_time": "2022-02-05T09:31:08.229Z"
   },
   {
    "duration": 7,
    "start_time": "2022-02-05T09:31:08.253Z"
   },
   {
    "duration": 17,
    "start_time": "2022-02-05T09:31:08.261Z"
   },
   {
    "duration": 35,
    "start_time": "2022-02-05T09:31:08.280Z"
   },
   {
    "duration": 8,
    "start_time": "2022-02-05T09:31:08.316Z"
   },
   {
    "duration": 21,
    "start_time": "2022-02-05T09:31:08.326Z"
   },
   {
    "duration": 16,
    "start_time": "2022-02-05T09:31:08.348Z"
   },
   {
    "duration": 16,
    "start_time": "2022-02-05T09:31:08.366Z"
   },
   {
    "duration": 16,
    "start_time": "2022-02-05T09:31:08.411Z"
   },
   {
    "duration": 17,
    "start_time": "2022-02-05T09:31:08.430Z"
   },
   {
    "duration": 8,
    "start_time": "2022-02-05T09:31:08.449Z"
   },
   {
    "duration": 7,
    "start_time": "2022-02-05T09:31:08.459Z"
   },
   {
    "duration": 8,
    "start_time": "2022-02-05T09:31:12.795Z"
   },
   {
    "duration": 7,
    "start_time": "2022-02-05T09:34:11.428Z"
   },
   {
    "duration": 9,
    "start_time": "2022-02-05T09:38:31.025Z"
   },
   {
    "duration": 55,
    "start_time": "2022-02-05T09:52:37.946Z"
   },
   {
    "duration": 10,
    "start_time": "2022-02-05T09:52:38.002Z"
   },
   {
    "duration": 5,
    "start_time": "2022-02-05T09:52:38.014Z"
   },
   {
    "duration": 22,
    "start_time": "2022-02-05T09:52:38.021Z"
   },
   {
    "duration": 7,
    "start_time": "2022-02-05T09:52:38.045Z"
   },
   {
    "duration": 10,
    "start_time": "2022-02-05T09:52:38.054Z"
   },
   {
    "duration": 1506,
    "start_time": "2022-02-05T09:52:38.066Z"
   },
   {
    "duration": 5,
    "start_time": "2022-02-05T09:52:39.574Z"
   },
   {
    "duration": 216,
    "start_time": "2022-02-05T09:52:39.581Z"
   },
   {
    "duration": 7,
    "start_time": "2022-02-05T09:52:39.798Z"
   },
   {
    "duration": 4,
    "start_time": "2022-02-05T09:52:39.812Z"
   },
   {
    "duration": 13,
    "start_time": "2022-02-05T09:52:39.817Z"
   },
   {
    "duration": 17,
    "start_time": "2022-02-05T09:52:39.832Z"
   },
   {
    "duration": 24,
    "start_time": "2022-02-05T09:52:39.850Z"
   },
   {
    "duration": 6,
    "start_time": "2022-02-05T09:52:39.876Z"
   },
   {
    "duration": 18,
    "start_time": "2022-02-05T09:52:39.912Z"
   },
   {
    "duration": 9,
    "start_time": "2022-02-05T09:52:39.931Z"
   },
   {
    "duration": 10,
    "start_time": "2022-02-05T09:52:39.942Z"
   },
   {
    "duration": 22,
    "start_time": "2022-02-05T09:52:39.954Z"
   },
   {
    "duration": 15,
    "start_time": "2022-02-05T09:52:40.013Z"
   },
   {
    "duration": 14,
    "start_time": "2022-02-05T09:52:40.030Z"
   },
   {
    "duration": 14,
    "start_time": "2022-02-05T09:52:40.046Z"
   },
   {
    "duration": 17,
    "start_time": "2022-02-05T09:52:40.064Z"
   },
   {
    "duration": 36,
    "start_time": "2022-02-05T09:52:40.083Z"
   },
   {
    "duration": 6,
    "start_time": "2022-02-05T09:52:40.121Z"
   },
   {
    "duration": 8,
    "start_time": "2022-02-05T09:52:40.128Z"
   },
   {
    "duration": 6,
    "start_time": "2022-02-05T09:52:40.138Z"
   },
   {
    "duration": 7,
    "start_time": "2022-02-05T09:52:40.145Z"
   },
   {
    "duration": 77,
    "start_time": "2022-02-12T15:15:35.004Z"
   },
   {
    "duration": 740,
    "start_time": "2022-02-13T10:40:35.879Z"
   },
   {
    "duration": 12,
    "start_time": "2022-02-13T10:40:36.621Z"
   },
   {
    "duration": 7,
    "start_time": "2022-02-13T10:40:36.635Z"
   },
   {
    "duration": 31,
    "start_time": "2022-02-13T10:40:36.644Z"
   },
   {
    "duration": 36,
    "start_time": "2022-02-13T10:40:36.678Z"
   },
   {
    "duration": 13,
    "start_time": "2022-02-13T10:40:36.716Z"
   },
   {
    "duration": 321,
    "start_time": "2022-02-13T10:40:54.318Z"
   },
   {
    "duration": 11,
    "start_time": "2022-02-13T10:41:03.960Z"
   },
   {
    "duration": 137,
    "start_time": "2022-02-13T10:41:49.189Z"
   },
   {
    "duration": 81,
    "start_time": "2022-02-13T10:41:53.309Z"
   },
   {
    "duration": 83,
    "start_time": "2022-02-13T10:42:08.072Z"
   },
   {
    "duration": 1549,
    "start_time": "2022-02-13T10:42:37.589Z"
   },
   {
    "duration": 56,
    "start_time": "2022-02-13T10:43:28.517Z"
   },
   {
    "duration": 11,
    "start_time": "2022-02-13T10:43:28.576Z"
   },
   {
    "duration": 12,
    "start_time": "2022-02-13T10:43:28.590Z"
   },
   {
    "duration": 31,
    "start_time": "2022-02-13T10:43:28.607Z"
   },
   {
    "duration": 8,
    "start_time": "2022-02-13T10:43:28.640Z"
   },
   {
    "duration": 22,
    "start_time": "2022-02-13T10:43:28.650Z"
   },
   {
    "duration": 37,
    "start_time": "2022-02-13T10:43:42.213Z"
   },
   {
    "duration": 81,
    "start_time": "2022-02-13T10:43:57.389Z"
   },
   {
    "duration": 16,
    "start_time": "2022-02-13T10:44:00.162Z"
   },
   {
    "duration": 25,
    "start_time": "2022-02-13T10:44:03.990Z"
   },
   {
    "duration": 8,
    "start_time": "2022-02-13T10:47:29.561Z"
   },
   {
    "duration": 60,
    "start_time": "2022-02-13T10:47:57.973Z"
   },
   {
    "duration": 13,
    "start_time": "2022-02-13T10:47:58.036Z"
   },
   {
    "duration": 7,
    "start_time": "2022-02-13T10:47:58.053Z"
   },
   {
    "duration": 52,
    "start_time": "2022-02-13T10:47:58.063Z"
   },
   {
    "duration": 10,
    "start_time": "2022-02-13T10:47:58.117Z"
   },
   {
    "duration": 14,
    "start_time": "2022-02-13T10:47:58.129Z"
   },
   {
    "duration": 30,
    "start_time": "2022-02-13T10:47:58.146Z"
   },
   {
    "duration": 1728,
    "start_time": "2022-02-13T10:47:58.179Z"
   },
   {
    "duration": 24,
    "start_time": "2022-02-13T10:48:13.151Z"
   },
   {
    "duration": 26,
    "start_time": "2022-02-13T10:49:23.508Z"
   },
   {
    "duration": 7,
    "start_time": "2022-02-13T10:49:50.203Z"
   },
   {
    "duration": 11,
    "start_time": "2022-02-13T10:49:58.979Z"
   },
   {
    "duration": 255,
    "start_time": "2022-02-13T10:50:18.079Z"
   },
   {
    "duration": 6,
    "start_time": "2022-02-13T10:50:27.922Z"
   },
   {
    "duration": 24,
    "start_time": "2022-02-13T10:50:38.767Z"
   },
   {
    "duration": 58,
    "start_time": "2022-02-13T10:50:55.768Z"
   },
   {
    "duration": 11,
    "start_time": "2022-02-13T10:50:55.828Z"
   },
   {
    "duration": 10,
    "start_time": "2022-02-13T10:50:55.842Z"
   },
   {
    "duration": 27,
    "start_time": "2022-02-13T10:50:55.855Z"
   },
   {
    "duration": 9,
    "start_time": "2022-02-13T10:50:55.908Z"
   },
   {
    "duration": 21,
    "start_time": "2022-02-13T10:50:55.919Z"
   },
   {
    "duration": 25,
    "start_time": "2022-02-13T10:50:55.941Z"
   },
   {
    "duration": 1605,
    "start_time": "2022-02-13T10:50:55.969Z"
   },
   {
    "duration": 7,
    "start_time": "2022-02-13T10:50:57.576Z"
   },
   {
    "duration": 7,
    "start_time": "2022-02-13T10:51:11.672Z"
   },
   {
    "duration": 24,
    "start_time": "2022-02-13T10:51:36.162Z"
   },
   {
    "duration": 6,
    "start_time": "2022-02-13T10:51:58.809Z"
   },
   {
    "duration": 7,
    "start_time": "2022-02-13T10:54:05.339Z"
   },
   {
    "duration": 8,
    "start_time": "2022-02-13T10:54:16.421Z"
   },
   {
    "duration": 243,
    "start_time": "2022-02-13T10:55:24.355Z"
   },
   {
    "duration": 7,
    "start_time": "2022-02-13T10:56:42.680Z"
   },
   {
    "duration": 7,
    "start_time": "2022-02-13T10:56:54.695Z"
   },
   {
    "duration": 4,
    "start_time": "2022-02-13T10:57:04.029Z"
   },
   {
    "duration": 6,
    "start_time": "2022-02-13T10:57:06.447Z"
   },
   {
    "duration": 58,
    "start_time": "2022-02-13T11:01:53.337Z"
   },
   {
    "duration": 13,
    "start_time": "2022-02-13T11:01:53.397Z"
   },
   {
    "duration": 9,
    "start_time": "2022-02-13T11:01:53.412Z"
   },
   {
    "duration": 37,
    "start_time": "2022-02-13T11:01:53.424Z"
   },
   {
    "duration": 12,
    "start_time": "2022-02-13T11:01:53.464Z"
   },
   {
    "duration": 19,
    "start_time": "2022-02-13T11:01:53.508Z"
   },
   {
    "duration": 32,
    "start_time": "2022-02-13T11:01:53.530Z"
   },
   {
    "duration": 1864,
    "start_time": "2022-02-13T11:01:53.565Z"
   },
   {
    "duration": 7,
    "start_time": "2022-02-13T11:02:21.575Z"
   },
   {
    "duration": 7,
    "start_time": "2022-02-13T11:02:30.457Z"
   },
   {
    "duration": 6,
    "start_time": "2022-02-13T11:02:45.030Z"
   },
   {
    "duration": 9,
    "start_time": "2022-02-13T11:02:51.006Z"
   },
   {
    "duration": 7,
    "start_time": "2022-02-13T11:03:15.703Z"
   },
   {
    "duration": 7,
    "start_time": "2022-02-13T11:03:24.431Z"
   },
   {
    "duration": 7,
    "start_time": "2022-02-13T11:03:34.680Z"
   },
   {
    "duration": 6,
    "start_time": "2022-02-13T11:03:40.581Z"
   },
   {
    "duration": 3566,
    "start_time": "2022-02-13T11:03:42.770Z"
   },
   {
    "duration": 55,
    "start_time": "2022-02-13T11:03:55.878Z"
   },
   {
    "duration": 13,
    "start_time": "2022-02-13T11:03:55.936Z"
   },
   {
    "duration": 6,
    "start_time": "2022-02-13T11:03:55.951Z"
   },
   {
    "duration": 55,
    "start_time": "2022-02-13T11:03:55.959Z"
   },
   {
    "duration": 10,
    "start_time": "2022-02-13T11:03:56.016Z"
   },
   {
    "duration": 18,
    "start_time": "2022-02-13T11:03:56.028Z"
   },
   {
    "duration": 27,
    "start_time": "2022-02-13T11:03:56.049Z"
   },
   {
    "duration": 1615,
    "start_time": "2022-02-13T11:03:56.079Z"
   },
   {
    "duration": 9,
    "start_time": "2022-02-13T11:04:02.505Z"
   },
   {
    "duration": 250,
    "start_time": "2022-02-13T11:04:47.865Z"
   },
   {
    "duration": 277,
    "start_time": "2022-02-13T11:04:54.447Z"
   },
   {
    "duration": 25215,
    "start_time": "2022-02-13T11:05:11.925Z"
   },
   {
    "duration": 57,
    "start_time": "2022-02-13T11:05:41.038Z"
   },
   {
    "duration": 11,
    "start_time": "2022-02-13T11:05:41.098Z"
   },
   {
    "duration": 6,
    "start_time": "2022-02-13T11:05:41.112Z"
   },
   {
    "duration": 27,
    "start_time": "2022-02-13T11:05:41.120Z"
   },
   {
    "duration": 8,
    "start_time": "2022-02-13T11:05:41.149Z"
   },
   {
    "duration": 52,
    "start_time": "2022-02-13T11:05:41.160Z"
   },
   {
    "duration": 39,
    "start_time": "2022-02-13T11:05:41.214Z"
   },
   {
    "duration": 1959,
    "start_time": "2022-02-13T11:05:41.256Z"
   },
   {
    "duration": 7,
    "start_time": "2022-02-13T11:05:50.895Z"
   },
   {
    "duration": 6,
    "start_time": "2022-02-13T11:05:52.390Z"
   },
   {
    "duration": 8,
    "start_time": "2022-02-13T11:05:53.014Z"
   },
   {
    "duration": 6,
    "start_time": "2022-02-13T11:07:33.748Z"
   },
   {
    "duration": 10,
    "start_time": "2022-02-13T11:07:34.528Z"
   },
   {
    "duration": 64,
    "start_time": "2022-02-13T11:10:35.097Z"
   },
   {
    "duration": 13,
    "start_time": "2022-02-13T11:10:35.164Z"
   },
   {
    "duration": 8,
    "start_time": "2022-02-13T11:10:35.209Z"
   },
   {
    "duration": 36,
    "start_time": "2022-02-13T11:10:35.219Z"
   },
   {
    "duration": 10,
    "start_time": "2022-02-13T11:10:35.258Z"
   },
   {
    "duration": 43,
    "start_time": "2022-02-13T11:10:35.270Z"
   },
   {
    "duration": 25,
    "start_time": "2022-02-13T11:10:35.316Z"
   },
   {
    "duration": 1720,
    "start_time": "2022-02-13T11:10:35.344Z"
   },
   {
    "duration": 6,
    "start_time": "2022-02-13T11:10:37.066Z"
   },
   {
    "duration": 10,
    "start_time": "2022-02-13T11:10:37.073Z"
   },
   {
    "duration": 19,
    "start_time": "2022-02-13T11:10:37.085Z"
   },
   {
    "duration": 18,
    "start_time": "2022-02-13T11:10:37.107Z"
   },
   {
    "duration": 16,
    "start_time": "2022-02-13T11:10:37.127Z"
   },
   {
    "duration": 21,
    "start_time": "2022-02-13T11:10:37.145Z"
   },
   {
    "duration": 17,
    "start_time": "2022-02-13T11:10:37.168Z"
   },
   {
    "duration": 18,
    "start_time": "2022-02-13T11:10:37.187Z"
   },
   {
    "duration": 6,
    "start_time": "2022-02-13T11:11:05.143Z"
   },
   {
    "duration": 13,
    "start_time": "2022-02-13T11:11:06.000Z"
   },
   {
    "duration": 56,
    "start_time": "2022-02-13T11:12:10.633Z"
   },
   {
    "duration": 29,
    "start_time": "2022-02-13T11:12:10.691Z"
   },
   {
    "duration": 6,
    "start_time": "2022-02-13T11:12:10.723Z"
   },
   {
    "duration": 27,
    "start_time": "2022-02-13T11:12:10.731Z"
   },
   {
    "duration": 9,
    "start_time": "2022-02-13T11:12:10.760Z"
   },
   {
    "duration": 37,
    "start_time": "2022-02-13T11:12:10.770Z"
   },
   {
    "duration": 25,
    "start_time": "2022-02-13T11:12:10.809Z"
   },
   {
    "duration": 1763,
    "start_time": "2022-02-13T11:12:10.836Z"
   },
   {
    "duration": 9,
    "start_time": "2022-02-13T11:12:12.602Z"
   },
   {
    "duration": 6,
    "start_time": "2022-02-13T11:12:12.613Z"
   },
   {
    "duration": 10,
    "start_time": "2022-02-13T11:12:12.621Z"
   },
   {
    "duration": 5,
    "start_time": "2022-02-13T11:12:12.633Z"
   },
   {
    "duration": 10,
    "start_time": "2022-02-13T11:12:12.639Z"
   },
   {
    "duration": 10,
    "start_time": "2022-02-13T11:12:12.651Z"
   },
   {
    "duration": 8,
    "start_time": "2022-02-13T11:12:12.663Z"
   },
   {
    "duration": 38,
    "start_time": "2022-02-13T11:12:12.673Z"
   },
   {
    "duration": 18,
    "start_time": "2022-02-13T11:12:12.713Z"
   },
   {
    "duration": 18,
    "start_time": "2022-02-13T11:12:12.733Z"
   },
   {
    "duration": 25,
    "start_time": "2022-02-13T11:12:12.753Z"
   },
   {
    "duration": 32,
    "start_time": "2022-02-13T11:12:12.780Z"
   },
   {
    "duration": 19,
    "start_time": "2022-02-13T11:12:12.814Z"
   },
   {
    "duration": 7,
    "start_time": "2022-02-13T11:12:12.835Z"
   },
   {
    "duration": 12,
    "start_time": "2022-02-13T11:12:12.844Z"
   },
   {
    "duration": 33,
    "start_time": "2022-02-13T11:13:56.408Z"
   },
   {
    "duration": 296,
    "start_time": "2022-02-13T11:13:59.155Z"
   },
   {
    "duration": 262,
    "start_time": "2022-02-13T11:14:04.581Z"
   },
   {
    "duration": 56,
    "start_time": "2022-02-13T11:14:16.685Z"
   },
   {
    "duration": 12,
    "start_time": "2022-02-13T11:14:16.743Z"
   },
   {
    "duration": 7,
    "start_time": "2022-02-13T11:14:16.757Z"
   },
   {
    "duration": 51,
    "start_time": "2022-02-13T11:14:16.766Z"
   },
   {
    "duration": 10,
    "start_time": "2022-02-13T11:14:16.819Z"
   },
   {
    "duration": 13,
    "start_time": "2022-02-13T11:14:16.831Z"
   },
   {
    "duration": 25,
    "start_time": "2022-02-13T11:14:16.847Z"
   },
   {
    "duration": 1675,
    "start_time": "2022-02-13T11:14:16.907Z"
   },
   {
    "duration": 6,
    "start_time": "2022-02-13T11:14:18.585Z"
   },
   {
    "duration": 21,
    "start_time": "2022-02-13T11:14:18.593Z"
   },
   {
    "duration": 11,
    "start_time": "2022-02-13T11:14:18.616Z"
   },
   {
    "duration": 37,
    "start_time": "2022-02-13T11:14:18.629Z"
   },
   {
    "duration": 18,
    "start_time": "2022-02-13T11:14:18.668Z"
   },
   {
    "duration": 16,
    "start_time": "2022-02-13T11:14:18.688Z"
   },
   {
    "duration": 19,
    "start_time": "2022-02-13T11:14:18.706Z"
   },
   {
    "duration": 15,
    "start_time": "2022-02-13T11:14:18.727Z"
   },
   {
    "duration": 32,
    "start_time": "2022-02-13T11:14:18.744Z"
   },
   {
    "duration": 29,
    "start_time": "2022-02-13T11:14:18.778Z"
   },
   {
    "duration": 32,
    "start_time": "2022-02-13T11:14:18.809Z"
   },
   {
    "duration": 8,
    "start_time": "2022-02-13T11:14:18.843Z"
   },
   {
    "duration": 30,
    "start_time": "2022-02-13T11:14:18.853Z"
   },
   {
    "duration": 25,
    "start_time": "2022-02-13T11:14:18.884Z"
   },
   {
    "duration": 15,
    "start_time": "2022-02-13T11:14:18.911Z"
   },
   {
    "duration": 24,
    "start_time": "2022-02-13T11:14:24.208Z"
   },
   {
    "duration": 57,
    "start_time": "2022-02-13T11:14:30.139Z"
   },
   {
    "duration": 12,
    "start_time": "2022-02-13T11:14:30.198Z"
   },
   {
    "duration": 15,
    "start_time": "2022-02-13T11:14:30.212Z"
   },
   {
    "duration": 33,
    "start_time": "2022-02-13T11:14:30.229Z"
   },
   {
    "duration": 8,
    "start_time": "2022-02-13T11:14:30.264Z"
   },
   {
    "duration": 35,
    "start_time": "2022-02-13T11:14:30.274Z"
   },
   {
    "duration": 24,
    "start_time": "2022-02-13T11:14:30.311Z"
   },
   {
    "duration": 1874,
    "start_time": "2022-02-13T11:14:30.337Z"
   },
   {
    "duration": 6,
    "start_time": "2022-02-13T11:14:32.215Z"
   },
   {
    "duration": 37,
    "start_time": "2022-02-13T11:14:32.224Z"
   },
   {
    "duration": 46,
    "start_time": "2022-02-13T11:14:32.263Z"
   },
   {
    "duration": 66,
    "start_time": "2022-02-13T11:14:32.311Z"
   },
   {
    "duration": 14,
    "start_time": "2022-02-13T11:14:32.379Z"
   },
   {
    "duration": 17,
    "start_time": "2022-02-13T11:14:32.395Z"
   },
   {
    "duration": 10,
    "start_time": "2022-02-13T11:14:32.414Z"
   },
   {
    "duration": 14,
    "start_time": "2022-02-13T11:14:32.426Z"
   },
   {
    "duration": 15,
    "start_time": "2022-02-13T11:14:32.442Z"
   },
   {
    "duration": 18,
    "start_time": "2022-02-13T11:14:32.460Z"
   },
   {
    "duration": 47,
    "start_time": "2022-02-13T11:14:32.481Z"
   },
   {
    "duration": 8,
    "start_time": "2022-02-13T11:14:32.531Z"
   },
   {
    "duration": 21,
    "start_time": "2022-02-13T11:14:32.541Z"
   },
   {
    "duration": 10,
    "start_time": "2022-02-13T11:14:32.564Z"
   },
   {
    "duration": 36,
    "start_time": "2022-02-13T11:14:32.576Z"
   },
   {
    "duration": 9,
    "start_time": "2022-02-13T11:14:52.809Z"
   },
   {
    "duration": 21,
    "start_time": "2022-02-13T11:14:55.321Z"
   },
   {
    "duration": 63,
    "start_time": "2022-02-13T11:15:17.800Z"
   },
   {
    "duration": 14,
    "start_time": "2022-02-13T11:15:17.865Z"
   },
   {
    "duration": 33,
    "start_time": "2022-02-13T11:15:17.881Z"
   },
   {
    "duration": 35,
    "start_time": "2022-02-13T11:15:17.916Z"
   },
   {
    "duration": 11,
    "start_time": "2022-02-13T11:15:17.953Z"
   },
   {
    "duration": 13,
    "start_time": "2022-02-13T11:15:17.966Z"
   },
   {
    "duration": 27,
    "start_time": "2022-02-13T11:15:18.009Z"
   },
   {
    "duration": 1548,
    "start_time": "2022-02-13T11:15:18.039Z"
   },
   {
    "duration": 6,
    "start_time": "2022-02-13T11:15:19.590Z"
   },
   {
    "duration": 6,
    "start_time": "2022-02-13T11:15:19.606Z"
   },
   {
    "duration": 11,
    "start_time": "2022-02-13T11:15:19.613Z"
   },
   {
    "duration": 5,
    "start_time": "2022-02-13T11:15:19.627Z"
   },
   {
    "duration": 12,
    "start_time": "2022-02-13T11:15:19.634Z"
   },
   {
    "duration": 12,
    "start_time": "2022-02-13T11:15:19.648Z"
   },
   {
    "duration": 12,
    "start_time": "2022-02-13T11:15:19.662Z"
   },
   {
    "duration": 11,
    "start_time": "2022-02-13T11:15:19.675Z"
   },
   {
    "duration": 31,
    "start_time": "2022-02-13T11:15:19.688Z"
   },
   {
    "duration": 21,
    "start_time": "2022-02-13T11:15:19.721Z"
   },
   {
    "duration": 29,
    "start_time": "2022-02-13T11:15:19.744Z"
   },
   {
    "duration": 37,
    "start_time": "2022-02-13T11:15:19.775Z"
   },
   {
    "duration": 20,
    "start_time": "2022-02-13T11:15:19.814Z"
   },
   {
    "duration": 8,
    "start_time": "2022-02-13T11:15:19.836Z"
   },
   {
    "duration": 10,
    "start_time": "2022-02-13T11:15:19.847Z"
   },
   {
    "duration": 386,
    "start_time": "2022-02-13T11:15:39.901Z"
   },
   {
    "duration": 13,
    "start_time": "2022-02-13T11:15:45.143Z"
   },
   {
    "duration": 12,
    "start_time": "2022-02-13T11:16:34.293Z"
   },
   {
    "duration": 5,
    "start_time": "2022-02-13T11:17:48.616Z"
   },
   {
    "duration": 5,
    "start_time": "2022-02-13T11:18:03.758Z"
   },
   {
    "duration": 9,
    "start_time": "2022-02-13T11:18:07.986Z"
   },
   {
    "duration": 8,
    "start_time": "2022-02-13T11:18:25.839Z"
   },
   {
    "duration": 5,
    "start_time": "2022-02-13T11:19:11.897Z"
   },
   {
    "duration": 5,
    "start_time": "2022-02-13T11:20:19.712Z"
   },
   {
    "duration": 258,
    "start_time": "2022-02-13T11:21:06.908Z"
   },
   {
    "duration": 18,
    "start_time": "2022-02-13T11:21:09.503Z"
   },
   {
    "duration": 13,
    "start_time": "2022-02-13T11:21:40.064Z"
   },
   {
    "duration": 9,
    "start_time": "2022-02-13T11:21:47.991Z"
   },
   {
    "duration": 10,
    "start_time": "2022-02-13T11:21:57.619Z"
   },
   {
    "duration": 13,
    "start_time": "2022-02-13T11:22:02.546Z"
   },
   {
    "duration": 302,
    "start_time": "2022-02-13T11:22:57.106Z"
   },
   {
    "duration": 12,
    "start_time": "2022-02-13T11:23:12.229Z"
   },
   {
    "duration": 13,
    "start_time": "2022-02-13T11:23:51.429Z"
   },
   {
    "duration": 302,
    "start_time": "2022-02-13T11:24:05.760Z"
   },
   {
    "duration": 56,
    "start_time": "2022-02-13T11:24:13.586Z"
   },
   {
    "duration": 11,
    "start_time": "2022-02-13T11:24:13.644Z"
   },
   {
    "duration": 6,
    "start_time": "2022-02-13T11:24:13.657Z"
   },
   {
    "duration": 54,
    "start_time": "2022-02-13T11:24:13.665Z"
   },
   {
    "duration": 8,
    "start_time": "2022-02-13T11:24:13.721Z"
   },
   {
    "duration": 13,
    "start_time": "2022-02-13T11:24:13.731Z"
   },
   {
    "duration": 26,
    "start_time": "2022-02-13T11:24:13.745Z"
   },
   {
    "duration": 1667,
    "start_time": "2022-02-13T11:24:13.774Z"
   },
   {
    "duration": 5,
    "start_time": "2022-02-13T11:24:15.444Z"
   },
   {
    "duration": 7,
    "start_time": "2022-02-13T11:24:15.451Z"
   },
   {
    "duration": 10,
    "start_time": "2022-02-13T11:24:15.460Z"
   },
   {
    "duration": 6,
    "start_time": "2022-02-13T11:24:15.472Z"
   },
   {
    "duration": 27,
    "start_time": "2022-02-13T11:24:15.480Z"
   },
   {
    "duration": 7,
    "start_time": "2022-02-13T11:24:15.510Z"
   },
   {
    "duration": 11,
    "start_time": "2022-02-13T11:24:15.519Z"
   },
   {
    "duration": 19,
    "start_time": "2022-02-13T11:24:15.532Z"
   },
   {
    "duration": 20,
    "start_time": "2022-02-13T11:24:15.553Z"
   },
   {
    "duration": 41,
    "start_time": "2022-02-13T11:24:15.575Z"
   },
   {
    "duration": 30,
    "start_time": "2022-02-13T11:24:15.618Z"
   },
   {
    "duration": 8,
    "start_time": "2022-02-13T11:24:15.650Z"
   },
   {
    "duration": 48,
    "start_time": "2022-02-13T11:24:15.660Z"
   },
   {
    "duration": 18,
    "start_time": "2022-02-13T11:24:15.710Z"
   },
   {
    "duration": 9,
    "start_time": "2022-02-13T11:24:15.732Z"
   },
   {
    "duration": 15,
    "start_time": "2022-02-13T11:24:19.870Z"
   },
   {
    "duration": 13,
    "start_time": "2022-02-13T11:24:24.995Z"
   },
   {
    "duration": 14,
    "start_time": "2022-02-13T11:24:30.137Z"
   },
   {
    "duration": 57,
    "start_time": "2022-02-13T11:25:38.180Z"
   },
   {
    "duration": 11,
    "start_time": "2022-02-13T11:25:38.239Z"
   },
   {
    "duration": 5,
    "start_time": "2022-02-13T11:25:38.253Z"
   },
   {
    "duration": 67,
    "start_time": "2022-02-13T11:25:38.260Z"
   },
   {
    "duration": 10,
    "start_time": "2022-02-13T11:25:38.329Z"
   },
   {
    "duration": 14,
    "start_time": "2022-02-13T11:25:38.341Z"
   },
   {
    "duration": 52,
    "start_time": "2022-02-13T11:25:38.357Z"
   },
   {
    "duration": 1615,
    "start_time": "2022-02-13T11:25:38.411Z"
   },
   {
    "duration": 7,
    "start_time": "2022-02-13T11:25:40.029Z"
   },
   {
    "duration": 14,
    "start_time": "2022-02-13T11:25:40.038Z"
   },
   {
    "duration": 10,
    "start_time": "2022-02-13T11:25:40.054Z"
   },
   {
    "duration": 9,
    "start_time": "2022-02-13T11:25:40.066Z"
   },
   {
    "duration": 8,
    "start_time": "2022-02-13T11:25:40.077Z"
   },
   {
    "duration": 10,
    "start_time": "2022-02-13T11:25:40.107Z"
   },
   {
    "duration": 11,
    "start_time": "2022-02-13T11:25:40.120Z"
   },
   {
    "duration": 11,
    "start_time": "2022-02-13T11:25:40.134Z"
   },
   {
    "duration": 16,
    "start_time": "2022-02-13T11:25:40.146Z"
   },
   {
    "duration": 20,
    "start_time": "2022-02-13T11:25:40.164Z"
   },
   {
    "duration": 50,
    "start_time": "2022-02-13T11:25:40.186Z"
   },
   {
    "duration": 8,
    "start_time": "2022-02-13T11:25:40.238Z"
   },
   {
    "duration": 22,
    "start_time": "2022-02-13T11:25:40.248Z"
   },
   {
    "duration": 37,
    "start_time": "2022-02-13T11:25:40.272Z"
   },
   {
    "duration": 27,
    "start_time": "2022-02-13T11:25:40.312Z"
   },
   {
    "duration": 33,
    "start_time": "2022-02-13T11:25:40.341Z"
   },
   {
    "duration": 18,
    "start_time": "2022-02-13T11:25:40.376Z"
   },
   {
    "duration": 26,
    "start_time": "2022-02-13T11:25:40.396Z"
   },
   {
    "duration": 24,
    "start_time": "2022-02-13T11:25:40.424Z"
   },
   {
    "duration": 13,
    "start_time": "2022-02-13T11:25:40.450Z"
   },
   {
    "duration": 37,
    "start_time": "2022-02-13T11:25:40.464Z"
   },
   {
    "duration": 47,
    "start_time": "2022-02-13T11:25:40.503Z"
   },
   {
    "duration": 10,
    "start_time": "2022-02-13T11:25:51.414Z"
   },
   {
    "duration": 14,
    "start_time": "2022-02-13T11:26:54.371Z"
   },
   {
    "duration": 59,
    "start_time": "2022-02-13T11:32:41.794Z"
   },
   {
    "duration": 15,
    "start_time": "2022-02-13T11:32:41.855Z"
   },
   {
    "duration": 36,
    "start_time": "2022-02-13T11:32:41.872Z"
   },
   {
    "duration": 27,
    "start_time": "2022-02-13T11:32:41.910Z"
   },
   {
    "duration": 8,
    "start_time": "2022-02-13T11:32:41.939Z"
   },
   {
    "duration": 12,
    "start_time": "2022-02-13T11:32:41.949Z"
   },
   {
    "duration": 57,
    "start_time": "2022-02-13T11:32:41.963Z"
   },
   {
    "duration": 1656,
    "start_time": "2022-02-13T11:32:42.023Z"
   },
   {
    "duration": 6,
    "start_time": "2022-02-13T11:32:43.681Z"
   },
   {
    "duration": 21,
    "start_time": "2022-02-13T11:32:43.689Z"
   },
   {
    "duration": 13,
    "start_time": "2022-02-13T11:32:43.712Z"
   },
   {
    "duration": 7,
    "start_time": "2022-02-13T11:32:43.727Z"
   },
   {
    "duration": 7,
    "start_time": "2022-02-13T11:32:43.736Z"
   },
   {
    "duration": 13,
    "start_time": "2022-02-13T11:32:43.744Z"
   },
   {
    "duration": 9,
    "start_time": "2022-02-13T11:32:43.759Z"
   },
   {
    "duration": 6,
    "start_time": "2022-02-13T11:32:43.770Z"
   },
   {
    "duration": 37,
    "start_time": "2022-02-13T11:32:43.778Z"
   },
   {
    "duration": 19,
    "start_time": "2022-02-13T11:32:43.817Z"
   },
   {
    "duration": 39,
    "start_time": "2022-02-13T11:32:43.838Z"
   },
   {
    "duration": 33,
    "start_time": "2022-02-13T11:32:43.880Z"
   },
   {
    "duration": 30,
    "start_time": "2022-02-13T11:32:43.915Z"
   },
   {
    "duration": 11,
    "start_time": "2022-02-13T11:32:43.947Z"
   },
   {
    "duration": 11,
    "start_time": "2022-02-13T11:32:43.963Z"
   },
   {
    "duration": 20,
    "start_time": "2022-02-13T11:32:44.009Z"
   },
   {
    "duration": 17,
    "start_time": "2022-02-13T11:32:44.031Z"
   },
   {
    "duration": 18,
    "start_time": "2022-02-13T11:32:44.050Z"
   },
   {
    "duration": 58,
    "start_time": "2022-02-13T11:32:44.070Z"
   },
   {
    "duration": 15,
    "start_time": "2022-02-13T11:32:44.130Z"
   },
   {
    "duration": 24,
    "start_time": "2022-02-13T11:32:44.147Z"
   },
   {
    "duration": 55,
    "start_time": "2022-02-13T11:32:44.174Z"
   },
   {
    "duration": 12,
    "start_time": "2022-02-13T11:32:44.231Z"
   },
   {
    "duration": 9,
    "start_time": "2022-02-13T11:32:44.246Z"
   },
   {
    "duration": 9,
    "start_time": "2022-02-13T11:32:44.257Z"
   },
   {
    "duration": 40,
    "start_time": "2022-02-13T11:32:44.268Z"
   },
   {
    "duration": 8,
    "start_time": "2022-02-13T11:32:44.310Z"
   }
  ],
  "kernelspec": {
   "display_name": "Python 3",
   "language": "python",
   "name": "python3"
  },
  "language_info": {
   "codemirror_mode": {
    "name": "ipython",
    "version": 3
   },
   "file_extension": ".py",
   "mimetype": "text/x-python",
   "name": "python",
   "nbconvert_exporter": "python",
   "pygments_lexer": "ipython3",
   "version": "3.7.6"
  },
  "toc": {
   "base_numbering": 1,
   "nav_menu": {},
   "number_sections": true,
   "sideBar": true,
   "skip_h1_title": true,
   "title_cell": "Table of Contents",
   "title_sidebar": "Contents",
   "toc_cell": false,
   "toc_position": {},
   "toc_section_display": true,
   "toc_window_display": false
  }
 },
 "nbformat": 4,
 "nbformat_minor": 5
}
