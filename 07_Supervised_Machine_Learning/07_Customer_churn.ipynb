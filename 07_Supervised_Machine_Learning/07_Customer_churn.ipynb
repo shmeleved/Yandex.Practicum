{
 "cells": [
  {
   "cell_type": "markdown",
   "metadata": {},
   "source": [
    "# Customer churn"
   ]
  },
  {
   "cell_type": "markdown",
   "metadata": {},
   "source": [
    "Customers began to leave \"Beta Bank\". Every month. A little, but noticeable. Bank marketers have calculated that it is cheaper to retain current customers than to attract new ones.\n",
    "\n",
    "It is necessary to predict whether the client will leave the bank in the near future or not. We are presented with historical data on the behavior of customers and the termination of contracts with the bank.\n",
    "\n",
    "It is necessary to build a model with an extremely large value of *F1*-measures. To pass the project successfully, we need to bring the metric to 0.59. Check the *F1* measure on the test sample yourself.\n",
    "\n",
    "Additionally measure *AUC-ROC*, compare its value with *F1*-measure.\n",
    "\n",
    "Data source: [https://www.kaggle.com/barelydedicated/bank-customer-churn-modeling](https://www.kaggle.com/barelydedicated/bank-customer-churn-modeling)"
   ]
  },
  {
   "cell_type": "markdown",
   "metadata": {},
   "source": [
    "## Data preparation"
   ]
  },
  {
   "cell_type": "code",
   "execution_count": 1,
   "metadata": {},
   "outputs": [],
   "source": [
    "import pandas as pd\n",
    "from sklearn.model_selection import train_test_split\n",
    "from sklearn.preprocessing import StandardScaler\n",
    "from sklearn.linear_model import LogisticRegression\n",
    "from sklearn.tree import DecisionTreeClassifier\n",
    "from sklearn.ensemble import RandomForestClassifier\n",
    "from sklearn.model_selection import GridSearchCV\n",
    "from sklearn.model_selection import RandomizedSearchCV\n",
    "from sklearn.metrics import f1_score\n",
    "from sklearn.metrics import roc_auc_score\n",
    "from sklearn.utils import shuffle\n",
    "from sklearn.metrics import roc_curve \n",
    "import matplotlib.pyplot as plt"
   ]
  },
  {
   "cell_type": "markdown",
   "metadata": {},
   "source": [
    "The data consists of:\n",
    "\n",
    "Features:\n",
    "- `RowNumber` — index of the row in the data\n",
    "- `CustomerID` — unique identifier of the customer\n",
    "- `Surname` — surname\n",
    "- `CreditScore` — credit rating\n",
    "- `Geography` — country of residence\n",
    "- `Gender` — gender\n",
    "- `Age` — age\n",
    "- `Tenure` — how many years has a person been a customer of the bank\n",
    "- `Balance` — account balance\n",
    "- `NumOfProducts` — the number of bank products used by the customer\n",
    "- `HasCrCard` — availability of a credit card\n",
    "- `IsActiveMember` — client activity\n",
    "- `EstimatedSalary` — estimated salary\n",
    "\n",
    "Target:\n",
    "- `Exited` — the fact of the client's departure"
   ]
  },
  {
   "cell_type": "code",
   "execution_count": 2,
   "metadata": {
    "scrolled": false
   },
   "outputs": [
    {
     "data": {
      "text/html": [
       "<div>\n",
       "<style scoped>\n",
       "    .dataframe tbody tr th:only-of-type {\n",
       "        vertical-align: middle;\n",
       "    }\n",
       "\n",
       "    .dataframe tbody tr th {\n",
       "        vertical-align: top;\n",
       "    }\n",
       "\n",
       "    .dataframe thead th {\n",
       "        text-align: right;\n",
       "    }\n",
       "</style>\n",
       "<table border=\"1\" class=\"dataframe\">\n",
       "  <thead>\n",
       "    <tr style=\"text-align: right;\">\n",
       "      <th></th>\n",
       "      <th>RowNumber</th>\n",
       "      <th>CustomerId</th>\n",
       "      <th>Surname</th>\n",
       "      <th>CreditScore</th>\n",
       "      <th>Geography</th>\n",
       "      <th>Gender</th>\n",
       "      <th>Age</th>\n",
       "      <th>Tenure</th>\n",
       "      <th>Balance</th>\n",
       "      <th>NumOfProducts</th>\n",
       "      <th>HasCrCard</th>\n",
       "      <th>IsActiveMember</th>\n",
       "      <th>EstimatedSalary</th>\n",
       "      <th>Exited</th>\n",
       "    </tr>\n",
       "  </thead>\n",
       "  <tbody>\n",
       "    <tr>\n",
       "      <th>0</th>\n",
       "      <td>1</td>\n",
       "      <td>15634602</td>\n",
       "      <td>Hargrave</td>\n",
       "      <td>619</td>\n",
       "      <td>France</td>\n",
       "      <td>Female</td>\n",
       "      <td>42</td>\n",
       "      <td>2.0</td>\n",
       "      <td>0.00</td>\n",
       "      <td>1</td>\n",
       "      <td>1</td>\n",
       "      <td>1</td>\n",
       "      <td>101348.88</td>\n",
       "      <td>1</td>\n",
       "    </tr>\n",
       "    <tr>\n",
       "      <th>1</th>\n",
       "      <td>2</td>\n",
       "      <td>15647311</td>\n",
       "      <td>Hill</td>\n",
       "      <td>608</td>\n",
       "      <td>Spain</td>\n",
       "      <td>Female</td>\n",
       "      <td>41</td>\n",
       "      <td>1.0</td>\n",
       "      <td>83807.86</td>\n",
       "      <td>1</td>\n",
       "      <td>0</td>\n",
       "      <td>1</td>\n",
       "      <td>112542.58</td>\n",
       "      <td>0</td>\n",
       "    </tr>\n",
       "    <tr>\n",
       "      <th>2</th>\n",
       "      <td>3</td>\n",
       "      <td>15619304</td>\n",
       "      <td>Onio</td>\n",
       "      <td>502</td>\n",
       "      <td>France</td>\n",
       "      <td>Female</td>\n",
       "      <td>42</td>\n",
       "      <td>8.0</td>\n",
       "      <td>159660.80</td>\n",
       "      <td>3</td>\n",
       "      <td>1</td>\n",
       "      <td>0</td>\n",
       "      <td>113931.57</td>\n",
       "      <td>1</td>\n",
       "    </tr>\n",
       "    <tr>\n",
       "      <th>3</th>\n",
       "      <td>4</td>\n",
       "      <td>15701354</td>\n",
       "      <td>Boni</td>\n",
       "      <td>699</td>\n",
       "      <td>France</td>\n",
       "      <td>Female</td>\n",
       "      <td>39</td>\n",
       "      <td>1.0</td>\n",
       "      <td>0.00</td>\n",
       "      <td>2</td>\n",
       "      <td>0</td>\n",
       "      <td>0</td>\n",
       "      <td>93826.63</td>\n",
       "      <td>0</td>\n",
       "    </tr>\n",
       "    <tr>\n",
       "      <th>4</th>\n",
       "      <td>5</td>\n",
       "      <td>15737888</td>\n",
       "      <td>Mitchell</td>\n",
       "      <td>850</td>\n",
       "      <td>Spain</td>\n",
       "      <td>Female</td>\n",
       "      <td>43</td>\n",
       "      <td>2.0</td>\n",
       "      <td>125510.82</td>\n",
       "      <td>1</td>\n",
       "      <td>1</td>\n",
       "      <td>1</td>\n",
       "      <td>79084.10</td>\n",
       "      <td>0</td>\n",
       "    </tr>\n",
       "    <tr>\n",
       "      <th>...</th>\n",
       "      <td>...</td>\n",
       "      <td>...</td>\n",
       "      <td>...</td>\n",
       "      <td>...</td>\n",
       "      <td>...</td>\n",
       "      <td>...</td>\n",
       "      <td>...</td>\n",
       "      <td>...</td>\n",
       "      <td>...</td>\n",
       "      <td>...</td>\n",
       "      <td>...</td>\n",
       "      <td>...</td>\n",
       "      <td>...</td>\n",
       "      <td>...</td>\n",
       "    </tr>\n",
       "    <tr>\n",
       "      <th>9995</th>\n",
       "      <td>9996</td>\n",
       "      <td>15606229</td>\n",
       "      <td>Obijiaku</td>\n",
       "      <td>771</td>\n",
       "      <td>France</td>\n",
       "      <td>Male</td>\n",
       "      <td>39</td>\n",
       "      <td>5.0</td>\n",
       "      <td>0.00</td>\n",
       "      <td>2</td>\n",
       "      <td>1</td>\n",
       "      <td>0</td>\n",
       "      <td>96270.64</td>\n",
       "      <td>0</td>\n",
       "    </tr>\n",
       "    <tr>\n",
       "      <th>9996</th>\n",
       "      <td>9997</td>\n",
       "      <td>15569892</td>\n",
       "      <td>Johnstone</td>\n",
       "      <td>516</td>\n",
       "      <td>France</td>\n",
       "      <td>Male</td>\n",
       "      <td>35</td>\n",
       "      <td>10.0</td>\n",
       "      <td>57369.61</td>\n",
       "      <td>1</td>\n",
       "      <td>1</td>\n",
       "      <td>1</td>\n",
       "      <td>101699.77</td>\n",
       "      <td>0</td>\n",
       "    </tr>\n",
       "    <tr>\n",
       "      <th>9997</th>\n",
       "      <td>9998</td>\n",
       "      <td>15584532</td>\n",
       "      <td>Liu</td>\n",
       "      <td>709</td>\n",
       "      <td>France</td>\n",
       "      <td>Female</td>\n",
       "      <td>36</td>\n",
       "      <td>7.0</td>\n",
       "      <td>0.00</td>\n",
       "      <td>1</td>\n",
       "      <td>0</td>\n",
       "      <td>1</td>\n",
       "      <td>42085.58</td>\n",
       "      <td>1</td>\n",
       "    </tr>\n",
       "    <tr>\n",
       "      <th>9998</th>\n",
       "      <td>9999</td>\n",
       "      <td>15682355</td>\n",
       "      <td>Sabbatini</td>\n",
       "      <td>772</td>\n",
       "      <td>Germany</td>\n",
       "      <td>Male</td>\n",
       "      <td>42</td>\n",
       "      <td>3.0</td>\n",
       "      <td>75075.31</td>\n",
       "      <td>2</td>\n",
       "      <td>1</td>\n",
       "      <td>0</td>\n",
       "      <td>92888.52</td>\n",
       "      <td>1</td>\n",
       "    </tr>\n",
       "    <tr>\n",
       "      <th>9999</th>\n",
       "      <td>10000</td>\n",
       "      <td>15628319</td>\n",
       "      <td>Walker</td>\n",
       "      <td>792</td>\n",
       "      <td>France</td>\n",
       "      <td>Female</td>\n",
       "      <td>28</td>\n",
       "      <td>NaN</td>\n",
       "      <td>130142.79</td>\n",
       "      <td>1</td>\n",
       "      <td>1</td>\n",
       "      <td>0</td>\n",
       "      <td>38190.78</td>\n",
       "      <td>0</td>\n",
       "    </tr>\n",
       "  </tbody>\n",
       "</table>\n",
       "<p>10000 rows × 14 columns</p>\n",
       "</div>"
      ],
      "text/plain": [
       "      RowNumber  CustomerId    Surname  CreditScore Geography  Gender  Age  \\\n",
       "0             1    15634602   Hargrave          619    France  Female   42   \n",
       "1             2    15647311       Hill          608     Spain  Female   41   \n",
       "2             3    15619304       Onio          502    France  Female   42   \n",
       "3             4    15701354       Boni          699    France  Female   39   \n",
       "4             5    15737888   Mitchell          850     Spain  Female   43   \n",
       "...         ...         ...        ...          ...       ...     ...  ...   \n",
       "9995       9996    15606229   Obijiaku          771    France    Male   39   \n",
       "9996       9997    15569892  Johnstone          516    France    Male   35   \n",
       "9997       9998    15584532        Liu          709    France  Female   36   \n",
       "9998       9999    15682355  Sabbatini          772   Germany    Male   42   \n",
       "9999      10000    15628319     Walker          792    France  Female   28   \n",
       "\n",
       "      Tenure    Balance  NumOfProducts  HasCrCard  IsActiveMember  \\\n",
       "0        2.0       0.00              1          1               1   \n",
       "1        1.0   83807.86              1          0               1   \n",
       "2        8.0  159660.80              3          1               0   \n",
       "3        1.0       0.00              2          0               0   \n",
       "4        2.0  125510.82              1          1               1   \n",
       "...      ...        ...            ...        ...             ...   \n",
       "9995     5.0       0.00              2          1               0   \n",
       "9996    10.0   57369.61              1          1               1   \n",
       "9997     7.0       0.00              1          0               1   \n",
       "9998     3.0   75075.31              2          1               0   \n",
       "9999     NaN  130142.79              1          1               0   \n",
       "\n",
       "      EstimatedSalary  Exited  \n",
       "0           101348.88       1  \n",
       "1           112542.58       0  \n",
       "2           113931.57       1  \n",
       "3            93826.63       0  \n",
       "4            79084.10       0  \n",
       "...               ...     ...  \n",
       "9995         96270.64       0  \n",
       "9996        101699.77       0  \n",
       "9997         42085.58       1  \n",
       "9998         92888.52       1  \n",
       "9999         38190.78       0  \n",
       "\n",
       "[10000 rows x 14 columns]"
      ]
     },
     "execution_count": 2,
     "metadata": {},
     "output_type": "execute_result"
    }
   ],
   "source": [
    "df = pd.read_csv('datasets/Churn.csv')\n",
    "df"
   ]
  },
  {
   "cell_type": "code",
   "execution_count": 3,
   "metadata": {},
   "outputs": [
    {
     "data": {
      "text/html": [
       "<div>\n",
       "<style scoped>\n",
       "    .dataframe tbody tr th:only-of-type {\n",
       "        vertical-align: middle;\n",
       "    }\n",
       "\n",
       "    .dataframe tbody tr th {\n",
       "        vertical-align: top;\n",
       "    }\n",
       "\n",
       "    .dataframe thead th {\n",
       "        text-align: right;\n",
       "    }\n",
       "</style>\n",
       "<table border=\"1\" class=\"dataframe\">\n",
       "  <thead>\n",
       "    <tr style=\"text-align: right;\">\n",
       "      <th></th>\n",
       "      <th>RowNumber</th>\n",
       "      <th>CustomerId</th>\n",
       "      <th>CreditScore</th>\n",
       "      <th>Age</th>\n",
       "      <th>Tenure</th>\n",
       "      <th>Balance</th>\n",
       "      <th>NumOfProducts</th>\n",
       "      <th>HasCrCard</th>\n",
       "      <th>IsActiveMember</th>\n",
       "      <th>EstimatedSalary</th>\n",
       "      <th>Exited</th>\n",
       "    </tr>\n",
       "  </thead>\n",
       "  <tbody>\n",
       "    <tr>\n",
       "      <th>count</th>\n",
       "      <td>10000.00000</td>\n",
       "      <td>1.000000e+04</td>\n",
       "      <td>10000.000000</td>\n",
       "      <td>10000.000000</td>\n",
       "      <td>9091.000000</td>\n",
       "      <td>10000.000000</td>\n",
       "      <td>10000.000000</td>\n",
       "      <td>10000.00000</td>\n",
       "      <td>10000.000000</td>\n",
       "      <td>10000.000000</td>\n",
       "      <td>10000.000000</td>\n",
       "    </tr>\n",
       "    <tr>\n",
       "      <th>mean</th>\n",
       "      <td>5000.50000</td>\n",
       "      <td>1.569094e+07</td>\n",
       "      <td>650.528800</td>\n",
       "      <td>38.921800</td>\n",
       "      <td>4.997690</td>\n",
       "      <td>76485.889288</td>\n",
       "      <td>1.530200</td>\n",
       "      <td>0.70550</td>\n",
       "      <td>0.515100</td>\n",
       "      <td>100090.239881</td>\n",
       "      <td>0.203700</td>\n",
       "    </tr>\n",
       "    <tr>\n",
       "      <th>std</th>\n",
       "      <td>2886.89568</td>\n",
       "      <td>7.193619e+04</td>\n",
       "      <td>96.653299</td>\n",
       "      <td>10.487806</td>\n",
       "      <td>2.894723</td>\n",
       "      <td>62397.405202</td>\n",
       "      <td>0.581654</td>\n",
       "      <td>0.45584</td>\n",
       "      <td>0.499797</td>\n",
       "      <td>57510.492818</td>\n",
       "      <td>0.402769</td>\n",
       "    </tr>\n",
       "    <tr>\n",
       "      <th>min</th>\n",
       "      <td>1.00000</td>\n",
       "      <td>1.556570e+07</td>\n",
       "      <td>350.000000</td>\n",
       "      <td>18.000000</td>\n",
       "      <td>0.000000</td>\n",
       "      <td>0.000000</td>\n",
       "      <td>1.000000</td>\n",
       "      <td>0.00000</td>\n",
       "      <td>0.000000</td>\n",
       "      <td>11.580000</td>\n",
       "      <td>0.000000</td>\n",
       "    </tr>\n",
       "    <tr>\n",
       "      <th>25%</th>\n",
       "      <td>2500.75000</td>\n",
       "      <td>1.562853e+07</td>\n",
       "      <td>584.000000</td>\n",
       "      <td>32.000000</td>\n",
       "      <td>2.000000</td>\n",
       "      <td>0.000000</td>\n",
       "      <td>1.000000</td>\n",
       "      <td>0.00000</td>\n",
       "      <td>0.000000</td>\n",
       "      <td>51002.110000</td>\n",
       "      <td>0.000000</td>\n",
       "    </tr>\n",
       "    <tr>\n",
       "      <th>50%</th>\n",
       "      <td>5000.50000</td>\n",
       "      <td>1.569074e+07</td>\n",
       "      <td>652.000000</td>\n",
       "      <td>37.000000</td>\n",
       "      <td>5.000000</td>\n",
       "      <td>97198.540000</td>\n",
       "      <td>1.000000</td>\n",
       "      <td>1.00000</td>\n",
       "      <td>1.000000</td>\n",
       "      <td>100193.915000</td>\n",
       "      <td>0.000000</td>\n",
       "    </tr>\n",
       "    <tr>\n",
       "      <th>75%</th>\n",
       "      <td>7500.25000</td>\n",
       "      <td>1.575323e+07</td>\n",
       "      <td>718.000000</td>\n",
       "      <td>44.000000</td>\n",
       "      <td>7.000000</td>\n",
       "      <td>127644.240000</td>\n",
       "      <td>2.000000</td>\n",
       "      <td>1.00000</td>\n",
       "      <td>1.000000</td>\n",
       "      <td>149388.247500</td>\n",
       "      <td>0.000000</td>\n",
       "    </tr>\n",
       "    <tr>\n",
       "      <th>max</th>\n",
       "      <td>10000.00000</td>\n",
       "      <td>1.581569e+07</td>\n",
       "      <td>850.000000</td>\n",
       "      <td>92.000000</td>\n",
       "      <td>10.000000</td>\n",
       "      <td>250898.090000</td>\n",
       "      <td>4.000000</td>\n",
       "      <td>1.00000</td>\n",
       "      <td>1.000000</td>\n",
       "      <td>199992.480000</td>\n",
       "      <td>1.000000</td>\n",
       "    </tr>\n",
       "  </tbody>\n",
       "</table>\n",
       "</div>"
      ],
      "text/plain": [
       "         RowNumber    CustomerId   CreditScore           Age       Tenure  \\\n",
       "count  10000.00000  1.000000e+04  10000.000000  10000.000000  9091.000000   \n",
       "mean    5000.50000  1.569094e+07    650.528800     38.921800     4.997690   \n",
       "std     2886.89568  7.193619e+04     96.653299     10.487806     2.894723   \n",
       "min        1.00000  1.556570e+07    350.000000     18.000000     0.000000   \n",
       "25%     2500.75000  1.562853e+07    584.000000     32.000000     2.000000   \n",
       "50%     5000.50000  1.569074e+07    652.000000     37.000000     5.000000   \n",
       "75%     7500.25000  1.575323e+07    718.000000     44.000000     7.000000   \n",
       "max    10000.00000  1.581569e+07    850.000000     92.000000    10.000000   \n",
       "\n",
       "             Balance  NumOfProducts    HasCrCard  IsActiveMember  \\\n",
       "count   10000.000000   10000.000000  10000.00000    10000.000000   \n",
       "mean    76485.889288       1.530200      0.70550        0.515100   \n",
       "std     62397.405202       0.581654      0.45584        0.499797   \n",
       "min         0.000000       1.000000      0.00000        0.000000   \n",
       "25%         0.000000       1.000000      0.00000        0.000000   \n",
       "50%     97198.540000       1.000000      1.00000        1.000000   \n",
       "75%    127644.240000       2.000000      1.00000        1.000000   \n",
       "max    250898.090000       4.000000      1.00000        1.000000   \n",
       "\n",
       "       EstimatedSalary        Exited  \n",
       "count     10000.000000  10000.000000  \n",
       "mean     100090.239881      0.203700  \n",
       "std       57510.492818      0.402769  \n",
       "min          11.580000      0.000000  \n",
       "25%       51002.110000      0.000000  \n",
       "50%      100193.915000      0.000000  \n",
       "75%      149388.247500      0.000000  \n",
       "max      199992.480000      1.000000  "
      ]
     },
     "execution_count": 3,
     "metadata": {},
     "output_type": "execute_result"
    }
   ],
   "source": [
    "df.describe()"
   ]
  },
  {
   "cell_type": "code",
   "execution_count": 4,
   "metadata": {
    "scrolled": false
   },
   "outputs": [
    {
     "name": "stdout",
     "output_type": "stream",
     "text": [
      "<class 'pandas.core.frame.DataFrame'>\n",
      "RangeIndex: 10000 entries, 0 to 9999\n",
      "Data columns (total 14 columns):\n",
      " #   Column           Non-Null Count  Dtype  \n",
      "---  ------           --------------  -----  \n",
      " 0   RowNumber        10000 non-null  int64  \n",
      " 1   CustomerId       10000 non-null  int64  \n",
      " 2   Surname          10000 non-null  object \n",
      " 3   CreditScore      10000 non-null  int64  \n",
      " 4   Geography        10000 non-null  object \n",
      " 5   Gender           10000 non-null  object \n",
      " 6   Age              10000 non-null  int64  \n",
      " 7   Tenure           9091 non-null   float64\n",
      " 8   Balance          10000 non-null  float64\n",
      " 9   NumOfProducts    10000 non-null  int64  \n",
      " 10  HasCrCard        10000 non-null  int64  \n",
      " 11  IsActiveMember   10000 non-null  int64  \n",
      " 12  EstimatedSalary  10000 non-null  float64\n",
      " 13  Exited           10000 non-null  int64  \n",
      "dtypes: float64(3), int64(8), object(3)\n",
      "memory usage: 1.1+ MB\n"
     ]
    }
   ],
   "source": [
    "df.info()"
   ]
  },
  {
   "cell_type": "markdown",
   "metadata": {},
   "source": [
    "There are gaps in the `Tenure` column, and there is also unnecessary data for the model training process."
   ]
  },
  {
   "cell_type": "markdown",
   "metadata": {},
   "source": [
    "First we will remove the uninformative columns:"
   ]
  },
  {
   "cell_type": "code",
   "execution_count": 5,
   "metadata": {},
   "outputs": [
    {
     "data": {
      "text/html": [
       "<div>\n",
       "<style scoped>\n",
       "    .dataframe tbody tr th:only-of-type {\n",
       "        vertical-align: middle;\n",
       "    }\n",
       "\n",
       "    .dataframe tbody tr th {\n",
       "        vertical-align: top;\n",
       "    }\n",
       "\n",
       "    .dataframe thead th {\n",
       "        text-align: right;\n",
       "    }\n",
       "</style>\n",
       "<table border=\"1\" class=\"dataframe\">\n",
       "  <thead>\n",
       "    <tr style=\"text-align: right;\">\n",
       "      <th></th>\n",
       "      <th>CreditScore</th>\n",
       "      <th>Geography</th>\n",
       "      <th>Gender</th>\n",
       "      <th>Age</th>\n",
       "      <th>Tenure</th>\n",
       "      <th>Balance</th>\n",
       "      <th>NumOfProducts</th>\n",
       "      <th>HasCrCard</th>\n",
       "      <th>IsActiveMember</th>\n",
       "      <th>EstimatedSalary</th>\n",
       "      <th>Exited</th>\n",
       "    </tr>\n",
       "  </thead>\n",
       "  <tbody>\n",
       "    <tr>\n",
       "      <th>0</th>\n",
       "      <td>619</td>\n",
       "      <td>France</td>\n",
       "      <td>Female</td>\n",
       "      <td>42</td>\n",
       "      <td>2.0</td>\n",
       "      <td>0.00</td>\n",
       "      <td>1</td>\n",
       "      <td>1</td>\n",
       "      <td>1</td>\n",
       "      <td>101348.88</td>\n",
       "      <td>1</td>\n",
       "    </tr>\n",
       "    <tr>\n",
       "      <th>1</th>\n",
       "      <td>608</td>\n",
       "      <td>Spain</td>\n",
       "      <td>Female</td>\n",
       "      <td>41</td>\n",
       "      <td>1.0</td>\n",
       "      <td>83807.86</td>\n",
       "      <td>1</td>\n",
       "      <td>0</td>\n",
       "      <td>1</td>\n",
       "      <td>112542.58</td>\n",
       "      <td>0</td>\n",
       "    </tr>\n",
       "    <tr>\n",
       "      <th>2</th>\n",
       "      <td>502</td>\n",
       "      <td>France</td>\n",
       "      <td>Female</td>\n",
       "      <td>42</td>\n",
       "      <td>8.0</td>\n",
       "      <td>159660.80</td>\n",
       "      <td>3</td>\n",
       "      <td>1</td>\n",
       "      <td>0</td>\n",
       "      <td>113931.57</td>\n",
       "      <td>1</td>\n",
       "    </tr>\n",
       "    <tr>\n",
       "      <th>3</th>\n",
       "      <td>699</td>\n",
       "      <td>France</td>\n",
       "      <td>Female</td>\n",
       "      <td>39</td>\n",
       "      <td>1.0</td>\n",
       "      <td>0.00</td>\n",
       "      <td>2</td>\n",
       "      <td>0</td>\n",
       "      <td>0</td>\n",
       "      <td>93826.63</td>\n",
       "      <td>0</td>\n",
       "    </tr>\n",
       "    <tr>\n",
       "      <th>4</th>\n",
       "      <td>850</td>\n",
       "      <td>Spain</td>\n",
       "      <td>Female</td>\n",
       "      <td>43</td>\n",
       "      <td>2.0</td>\n",
       "      <td>125510.82</td>\n",
       "      <td>1</td>\n",
       "      <td>1</td>\n",
       "      <td>1</td>\n",
       "      <td>79084.10</td>\n",
       "      <td>0</td>\n",
       "    </tr>\n",
       "  </tbody>\n",
       "</table>\n",
       "</div>"
      ],
      "text/plain": [
       "   CreditScore Geography  Gender  Age  Tenure    Balance  NumOfProducts  \\\n",
       "0          619    France  Female   42     2.0       0.00              1   \n",
       "1          608     Spain  Female   41     1.0   83807.86              1   \n",
       "2          502    France  Female   42     8.0  159660.80              3   \n",
       "3          699    France  Female   39     1.0       0.00              2   \n",
       "4          850     Spain  Female   43     2.0  125510.82              1   \n",
       "\n",
       "   HasCrCard  IsActiveMember  EstimatedSalary  Exited  \n",
       "0          1               1        101348.88       1  \n",
       "1          0               1        112542.58       0  \n",
       "2          1               0        113931.57       1  \n",
       "3          0               0         93826.63       0  \n",
       "4          1               1         79084.10       0  "
      ]
     },
     "execution_count": 5,
     "metadata": {},
     "output_type": "execute_result"
    }
   ],
   "source": [
    "df = df.drop(columns=['RowNumber','CustomerId','Surname'])\n",
    "df.head()"
   ]
  },
  {
   "cell_type": "markdown",
   "metadata": {},
   "source": [
    "<div class=\"alert alert-block alert-success\">\n",
    "<b>Успех:</b> Правильно, эти столбцы не пригодятся для обучения моделей 👍\n",
    "</div>"
   ]
  },
  {
   "cell_type": "markdown",
   "metadata": {},
   "source": [
    "The missing values are about 10% of the total dataset, then we can remove them so as not to disturb the training of the model"
   ]
  },
  {
   "cell_type": "code",
   "execution_count": 6,
   "metadata": {},
   "outputs": [
    {
     "data": {
      "text/html": [
       "<div>\n",
       "<style scoped>\n",
       "    .dataframe tbody tr th:only-of-type {\n",
       "        vertical-align: middle;\n",
       "    }\n",
       "\n",
       "    .dataframe tbody tr th {\n",
       "        vertical-align: top;\n",
       "    }\n",
       "\n",
       "    .dataframe thead th {\n",
       "        text-align: right;\n",
       "    }\n",
       "</style>\n",
       "<table border=\"1\" class=\"dataframe\">\n",
       "  <thead>\n",
       "    <tr style=\"text-align: right;\">\n",
       "      <th></th>\n",
       "      <th>CreditScore</th>\n",
       "      <th>Geography</th>\n",
       "      <th>Gender</th>\n",
       "      <th>Age</th>\n",
       "      <th>Tenure</th>\n",
       "      <th>Balance</th>\n",
       "      <th>NumOfProducts</th>\n",
       "      <th>HasCrCard</th>\n",
       "      <th>IsActiveMember</th>\n",
       "      <th>EstimatedSalary</th>\n",
       "      <th>Exited</th>\n",
       "    </tr>\n",
       "  </thead>\n",
       "  <tbody>\n",
       "    <tr>\n",
       "      <th>0</th>\n",
       "      <td>619</td>\n",
       "      <td>France</td>\n",
       "      <td>Female</td>\n",
       "      <td>42</td>\n",
       "      <td>2.0</td>\n",
       "      <td>0.00</td>\n",
       "      <td>1</td>\n",
       "      <td>1</td>\n",
       "      <td>1</td>\n",
       "      <td>101348.88</td>\n",
       "      <td>1</td>\n",
       "    </tr>\n",
       "    <tr>\n",
       "      <th>1</th>\n",
       "      <td>608</td>\n",
       "      <td>Spain</td>\n",
       "      <td>Female</td>\n",
       "      <td>41</td>\n",
       "      <td>1.0</td>\n",
       "      <td>83807.86</td>\n",
       "      <td>1</td>\n",
       "      <td>0</td>\n",
       "      <td>1</td>\n",
       "      <td>112542.58</td>\n",
       "      <td>0</td>\n",
       "    </tr>\n",
       "    <tr>\n",
       "      <th>2</th>\n",
       "      <td>502</td>\n",
       "      <td>France</td>\n",
       "      <td>Female</td>\n",
       "      <td>42</td>\n",
       "      <td>8.0</td>\n",
       "      <td>159660.80</td>\n",
       "      <td>3</td>\n",
       "      <td>1</td>\n",
       "      <td>0</td>\n",
       "      <td>113931.57</td>\n",
       "      <td>1</td>\n",
       "    </tr>\n",
       "    <tr>\n",
       "      <th>3</th>\n",
       "      <td>699</td>\n",
       "      <td>France</td>\n",
       "      <td>Female</td>\n",
       "      <td>39</td>\n",
       "      <td>1.0</td>\n",
       "      <td>0.00</td>\n",
       "      <td>2</td>\n",
       "      <td>0</td>\n",
       "      <td>0</td>\n",
       "      <td>93826.63</td>\n",
       "      <td>0</td>\n",
       "    </tr>\n",
       "    <tr>\n",
       "      <th>4</th>\n",
       "      <td>850</td>\n",
       "      <td>Spain</td>\n",
       "      <td>Female</td>\n",
       "      <td>43</td>\n",
       "      <td>2.0</td>\n",
       "      <td>125510.82</td>\n",
       "      <td>1</td>\n",
       "      <td>1</td>\n",
       "      <td>1</td>\n",
       "      <td>79084.10</td>\n",
       "      <td>0</td>\n",
       "    </tr>\n",
       "    <tr>\n",
       "      <th>...</th>\n",
       "      <td>...</td>\n",
       "      <td>...</td>\n",
       "      <td>...</td>\n",
       "      <td>...</td>\n",
       "      <td>...</td>\n",
       "      <td>...</td>\n",
       "      <td>...</td>\n",
       "      <td>...</td>\n",
       "      <td>...</td>\n",
       "      <td>...</td>\n",
       "      <td>...</td>\n",
       "    </tr>\n",
       "    <tr>\n",
       "      <th>9086</th>\n",
       "      <td>800</td>\n",
       "      <td>France</td>\n",
       "      <td>Female</td>\n",
       "      <td>29</td>\n",
       "      <td>2.0</td>\n",
       "      <td>0.00</td>\n",
       "      <td>2</td>\n",
       "      <td>0</td>\n",
       "      <td>0</td>\n",
       "      <td>167773.55</td>\n",
       "      <td>0</td>\n",
       "    </tr>\n",
       "    <tr>\n",
       "      <th>9087</th>\n",
       "      <td>771</td>\n",
       "      <td>France</td>\n",
       "      <td>Male</td>\n",
       "      <td>39</td>\n",
       "      <td>5.0</td>\n",
       "      <td>0.00</td>\n",
       "      <td>2</td>\n",
       "      <td>1</td>\n",
       "      <td>0</td>\n",
       "      <td>96270.64</td>\n",
       "      <td>0</td>\n",
       "    </tr>\n",
       "    <tr>\n",
       "      <th>9088</th>\n",
       "      <td>516</td>\n",
       "      <td>France</td>\n",
       "      <td>Male</td>\n",
       "      <td>35</td>\n",
       "      <td>10.0</td>\n",
       "      <td>57369.61</td>\n",
       "      <td>1</td>\n",
       "      <td>1</td>\n",
       "      <td>1</td>\n",
       "      <td>101699.77</td>\n",
       "      <td>0</td>\n",
       "    </tr>\n",
       "    <tr>\n",
       "      <th>9089</th>\n",
       "      <td>709</td>\n",
       "      <td>France</td>\n",
       "      <td>Female</td>\n",
       "      <td>36</td>\n",
       "      <td>7.0</td>\n",
       "      <td>0.00</td>\n",
       "      <td>1</td>\n",
       "      <td>0</td>\n",
       "      <td>1</td>\n",
       "      <td>42085.58</td>\n",
       "      <td>1</td>\n",
       "    </tr>\n",
       "    <tr>\n",
       "      <th>9090</th>\n",
       "      <td>772</td>\n",
       "      <td>Germany</td>\n",
       "      <td>Male</td>\n",
       "      <td>42</td>\n",
       "      <td>3.0</td>\n",
       "      <td>75075.31</td>\n",
       "      <td>2</td>\n",
       "      <td>1</td>\n",
       "      <td>0</td>\n",
       "      <td>92888.52</td>\n",
       "      <td>1</td>\n",
       "    </tr>\n",
       "  </tbody>\n",
       "</table>\n",
       "<p>9091 rows × 11 columns</p>\n",
       "</div>"
      ],
      "text/plain": [
       "      CreditScore Geography  Gender  Age  Tenure    Balance  NumOfProducts  \\\n",
       "0             619    France  Female   42     2.0       0.00              1   \n",
       "1             608     Spain  Female   41     1.0   83807.86              1   \n",
       "2             502    France  Female   42     8.0  159660.80              3   \n",
       "3             699    France  Female   39     1.0       0.00              2   \n",
       "4             850     Spain  Female   43     2.0  125510.82              1   \n",
       "...           ...       ...     ...  ...     ...        ...            ...   \n",
       "9086          800    France  Female   29     2.0       0.00              2   \n",
       "9087          771    France    Male   39     5.0       0.00              2   \n",
       "9088          516    France    Male   35    10.0   57369.61              1   \n",
       "9089          709    France  Female   36     7.0       0.00              1   \n",
       "9090          772   Germany    Male   42     3.0   75075.31              2   \n",
       "\n",
       "      HasCrCard  IsActiveMember  EstimatedSalary  Exited  \n",
       "0             1               1        101348.88       1  \n",
       "1             0               1        112542.58       0  \n",
       "2             1               0        113931.57       1  \n",
       "3             0               0         93826.63       0  \n",
       "4             1               1         79084.10       0  \n",
       "...         ...             ...              ...     ...  \n",
       "9086          0               0        167773.55       0  \n",
       "9087          1               0         96270.64       0  \n",
       "9088          1               1        101699.77       0  \n",
       "9089          0               1         42085.58       1  \n",
       "9090          1               0         92888.52       1  \n",
       "\n",
       "[9091 rows x 11 columns]"
      ]
     },
     "execution_count": 6,
     "metadata": {},
     "output_type": "execute_result"
    }
   ],
   "source": [
    "df = df.dropna().reset_index(drop=True)\n",
    "df"
   ]
  },
  {
   "cell_type": "markdown",
   "metadata": {},
   "source": [
    "*An alternative way to handle missing values:* since there are a limited number of values in this attribute, we can make it a categorical attribute. The omissions can be considered as a independent category (fill in with the value -1). Then apply the OHE technique"
   ]
  },
  {
   "cell_type": "code",
   "execution_count": 7,
   "metadata": {},
   "outputs": [
    {
     "data": {
      "text/plain": [
       "0"
      ]
     },
     "execution_count": 7,
     "metadata": {},
     "output_type": "execute_result"
    }
   ],
   "source": [
    "df.duplicated().sum()"
   ]
  },
  {
   "cell_type": "markdown",
   "metadata": {},
   "source": [
    "There are no obvious duplicates in the data"
   ]
  },
  {
   "cell_type": "markdown",
   "metadata": {},
   "source": [
    "## Research"
   ]
  },
  {
   "cell_type": "markdown",
   "metadata": {},
   "source": [
    "### In order to present the data for the model in a more readable form, we need to split the categorical features by the OHE method (while not forgetting about the dummy trap):¶"
   ]
  },
  {
   "cell_type": "code",
   "execution_count": 8,
   "metadata": {
    "scrolled": false
   },
   "outputs": [
    {
     "data": {
      "text/html": [
       "<div>\n",
       "<style scoped>\n",
       "    .dataframe tbody tr th:only-of-type {\n",
       "        vertical-align: middle;\n",
       "    }\n",
       "\n",
       "    .dataframe tbody tr th {\n",
       "        vertical-align: top;\n",
       "    }\n",
       "\n",
       "    .dataframe thead th {\n",
       "        text-align: right;\n",
       "    }\n",
       "</style>\n",
       "<table border=\"1\" class=\"dataframe\">\n",
       "  <thead>\n",
       "    <tr style=\"text-align: right;\">\n",
       "      <th></th>\n",
       "      <th>CreditScore</th>\n",
       "      <th>Age</th>\n",
       "      <th>Tenure</th>\n",
       "      <th>Balance</th>\n",
       "      <th>NumOfProducts</th>\n",
       "      <th>HasCrCard</th>\n",
       "      <th>IsActiveMember</th>\n",
       "      <th>EstimatedSalary</th>\n",
       "      <th>Exited</th>\n",
       "      <th>Geography_Germany</th>\n",
       "      <th>Geography_Spain</th>\n",
       "      <th>Gender_Male</th>\n",
       "    </tr>\n",
       "  </thead>\n",
       "  <tbody>\n",
       "    <tr>\n",
       "      <th>0</th>\n",
       "      <td>619</td>\n",
       "      <td>42</td>\n",
       "      <td>2.0</td>\n",
       "      <td>0.00</td>\n",
       "      <td>1</td>\n",
       "      <td>1</td>\n",
       "      <td>1</td>\n",
       "      <td>101348.88</td>\n",
       "      <td>1</td>\n",
       "      <td>0</td>\n",
       "      <td>0</td>\n",
       "      <td>0</td>\n",
       "    </tr>\n",
       "    <tr>\n",
       "      <th>1</th>\n",
       "      <td>608</td>\n",
       "      <td>41</td>\n",
       "      <td>1.0</td>\n",
       "      <td>83807.86</td>\n",
       "      <td>1</td>\n",
       "      <td>0</td>\n",
       "      <td>1</td>\n",
       "      <td>112542.58</td>\n",
       "      <td>0</td>\n",
       "      <td>0</td>\n",
       "      <td>1</td>\n",
       "      <td>0</td>\n",
       "    </tr>\n",
       "    <tr>\n",
       "      <th>2</th>\n",
       "      <td>502</td>\n",
       "      <td>42</td>\n",
       "      <td>8.0</td>\n",
       "      <td>159660.80</td>\n",
       "      <td>3</td>\n",
       "      <td>1</td>\n",
       "      <td>0</td>\n",
       "      <td>113931.57</td>\n",
       "      <td>1</td>\n",
       "      <td>0</td>\n",
       "      <td>0</td>\n",
       "      <td>0</td>\n",
       "    </tr>\n",
       "    <tr>\n",
       "      <th>3</th>\n",
       "      <td>699</td>\n",
       "      <td>39</td>\n",
       "      <td>1.0</td>\n",
       "      <td>0.00</td>\n",
       "      <td>2</td>\n",
       "      <td>0</td>\n",
       "      <td>0</td>\n",
       "      <td>93826.63</td>\n",
       "      <td>0</td>\n",
       "      <td>0</td>\n",
       "      <td>0</td>\n",
       "      <td>0</td>\n",
       "    </tr>\n",
       "    <tr>\n",
       "      <th>4</th>\n",
       "      <td>850</td>\n",
       "      <td>43</td>\n",
       "      <td>2.0</td>\n",
       "      <td>125510.82</td>\n",
       "      <td>1</td>\n",
       "      <td>1</td>\n",
       "      <td>1</td>\n",
       "      <td>79084.10</td>\n",
       "      <td>0</td>\n",
       "      <td>0</td>\n",
       "      <td>1</td>\n",
       "      <td>0</td>\n",
       "    </tr>\n",
       "    <tr>\n",
       "      <th>...</th>\n",
       "      <td>...</td>\n",
       "      <td>...</td>\n",
       "      <td>...</td>\n",
       "      <td>...</td>\n",
       "      <td>...</td>\n",
       "      <td>...</td>\n",
       "      <td>...</td>\n",
       "      <td>...</td>\n",
       "      <td>...</td>\n",
       "      <td>...</td>\n",
       "      <td>...</td>\n",
       "      <td>...</td>\n",
       "    </tr>\n",
       "    <tr>\n",
       "      <th>9086</th>\n",
       "      <td>800</td>\n",
       "      <td>29</td>\n",
       "      <td>2.0</td>\n",
       "      <td>0.00</td>\n",
       "      <td>2</td>\n",
       "      <td>0</td>\n",
       "      <td>0</td>\n",
       "      <td>167773.55</td>\n",
       "      <td>0</td>\n",
       "      <td>0</td>\n",
       "      <td>0</td>\n",
       "      <td>0</td>\n",
       "    </tr>\n",
       "    <tr>\n",
       "      <th>9087</th>\n",
       "      <td>771</td>\n",
       "      <td>39</td>\n",
       "      <td>5.0</td>\n",
       "      <td>0.00</td>\n",
       "      <td>2</td>\n",
       "      <td>1</td>\n",
       "      <td>0</td>\n",
       "      <td>96270.64</td>\n",
       "      <td>0</td>\n",
       "      <td>0</td>\n",
       "      <td>0</td>\n",
       "      <td>1</td>\n",
       "    </tr>\n",
       "    <tr>\n",
       "      <th>9088</th>\n",
       "      <td>516</td>\n",
       "      <td>35</td>\n",
       "      <td>10.0</td>\n",
       "      <td>57369.61</td>\n",
       "      <td>1</td>\n",
       "      <td>1</td>\n",
       "      <td>1</td>\n",
       "      <td>101699.77</td>\n",
       "      <td>0</td>\n",
       "      <td>0</td>\n",
       "      <td>0</td>\n",
       "      <td>1</td>\n",
       "    </tr>\n",
       "    <tr>\n",
       "      <th>9089</th>\n",
       "      <td>709</td>\n",
       "      <td>36</td>\n",
       "      <td>7.0</td>\n",
       "      <td>0.00</td>\n",
       "      <td>1</td>\n",
       "      <td>0</td>\n",
       "      <td>1</td>\n",
       "      <td>42085.58</td>\n",
       "      <td>1</td>\n",
       "      <td>0</td>\n",
       "      <td>0</td>\n",
       "      <td>0</td>\n",
       "    </tr>\n",
       "    <tr>\n",
       "      <th>9090</th>\n",
       "      <td>772</td>\n",
       "      <td>42</td>\n",
       "      <td>3.0</td>\n",
       "      <td>75075.31</td>\n",
       "      <td>2</td>\n",
       "      <td>1</td>\n",
       "      <td>0</td>\n",
       "      <td>92888.52</td>\n",
       "      <td>1</td>\n",
       "      <td>1</td>\n",
       "      <td>0</td>\n",
       "      <td>1</td>\n",
       "    </tr>\n",
       "  </tbody>\n",
       "</table>\n",
       "<p>9091 rows × 12 columns</p>\n",
       "</div>"
      ],
      "text/plain": [
       "      CreditScore  Age  Tenure    Balance  NumOfProducts  HasCrCard  \\\n",
       "0             619   42     2.0       0.00              1          1   \n",
       "1             608   41     1.0   83807.86              1          0   \n",
       "2             502   42     8.0  159660.80              3          1   \n",
       "3             699   39     1.0       0.00              2          0   \n",
       "4             850   43     2.0  125510.82              1          1   \n",
       "...           ...  ...     ...        ...            ...        ...   \n",
       "9086          800   29     2.0       0.00              2          0   \n",
       "9087          771   39     5.0       0.00              2          1   \n",
       "9088          516   35    10.0   57369.61              1          1   \n",
       "9089          709   36     7.0       0.00              1          0   \n",
       "9090          772   42     3.0   75075.31              2          1   \n",
       "\n",
       "      IsActiveMember  EstimatedSalary  Exited  Geography_Germany  \\\n",
       "0                  1        101348.88       1                  0   \n",
       "1                  1        112542.58       0                  0   \n",
       "2                  0        113931.57       1                  0   \n",
       "3                  0         93826.63       0                  0   \n",
       "4                  1         79084.10       0                  0   \n",
       "...              ...              ...     ...                ...   \n",
       "9086               0        167773.55       0                  0   \n",
       "9087               0         96270.64       0                  0   \n",
       "9088               1        101699.77       0                  0   \n",
       "9089               1         42085.58       1                  0   \n",
       "9090               0         92888.52       1                  1   \n",
       "\n",
       "      Geography_Spain  Gender_Male  \n",
       "0                   0            0  \n",
       "1                   1            0  \n",
       "2                   0            0  \n",
       "3                   0            0  \n",
       "4                   1            0  \n",
       "...               ...          ...  \n",
       "9086                0            0  \n",
       "9087                0            1  \n",
       "9088                0            1  \n",
       "9089                0            0  \n",
       "9090                0            1  \n",
       "\n",
       "[9091 rows x 12 columns]"
      ]
     },
     "execution_count": 8,
     "metadata": {},
     "output_type": "execute_result"
    }
   ],
   "source": [
    "df = pd.get_dummies(df,drop_first=True)\n",
    "df"
   ]
  },
  {
   "cell_type": "markdown",
   "metadata": {},
   "source": [
    "### Checking for class imbalance:"
   ]
  },
  {
   "cell_type": "code",
   "execution_count": 9,
   "metadata": {},
   "outputs": [
    {
     "name": "stdout",
     "output_type": "stream",
     "text": [
      "Percentage of exited clients, relative to the total number: 20.39 %\n"
     ]
    },
    {
     "data": {
      "image/png": "[encoded data removed]",
      "text/plain": [
       "<Figure size 432x288 with 1 Axes>"
      ]
     },
     "metadata": {
      "needs_background": "light"
     },
     "output_type": "display_data"
    }
   ],
   "source": [
    "df['Exited'].value_counts().plot(kind='bar', title = 'Class balance')\n",
    "print('Percentage of exited clients, relative to the total number:', round(df['Exited'].value_counts()[1] / (df['Exited'].value_counts()[0]+df['Exited'].value_counts()[1])*100, 2),'%')"
   ]
  },
  {
   "cell_type": "markdown",
   "metadata": {},
   "source": [
    "As can be seen from the graph - there is an imbalance of classes"
   ]
  },
  {
   "cell_type": "markdown",
   "metadata": {},
   "source": [
    "### The model without taking into account the imbalance of classes"
   ]
  },
  {
   "cell_type": "markdown",
   "metadata": {},
   "source": [
    "#### We select the target attribute and divide the data into training and validation samples"
   ]
  },
  {
   "cell_type": "code",
   "execution_count": 10,
   "metadata": {},
   "outputs": [
    {
     "name": "stdout",
     "output_type": "stream",
     "text": [
      "(5454, 11)\n",
      "(5454,)\n",
      "(3637, 11)\n",
      "(3637,)\n"
     ]
    }
   ],
   "source": [
    "target=df['Exited']\n",
    "features=df.drop(['Exited'],axis=1)\n",
    "features_train,features_valid,target_train,target_valid=train_test_split(features,target,test_size=0.4,random_state=1235)\n",
    "print(features_train.shape)\n",
    "print(target_train.shape)\n",
    "print(features_valid.shape)\n",
    "print(target_valid.shape)"
   ]
  },
  {
   "cell_type": "code",
   "execution_count": 11,
   "metadata": {},
   "outputs": [
    {
     "name": "stdout",
     "output_type": "stream",
     "text": [
      "(1818, 11)\n",
      "(1818,)\n",
      "(1819, 11)\n",
      "(1819,)\n"
     ]
    }
   ],
   "source": [
    "features_test,features_valid,target_test,target_valid=train_test_split(features_valid,target_valid,test_size=0.5,random_state=1235)\n",
    "print(features_test.shape)\n",
    "print(target_test.shape)\n",
    "print(features_valid.shape)\n",
    "print(target_valid.shape)"
   ]
  },
  {
   "cell_type": "markdown",
   "metadata": {},
   "source": [
    "The data is split correctly"
   ]
  },
  {
   "cell_type": "markdown",
   "metadata": {},
   "source": [
    "#### Scaling the data for better training of the model"
   ]
  },
  {
   "cell_type": "code",
   "execution_count": 12,
   "metadata": {},
   "outputs": [],
   "source": [
    "scaler = StandardScaler()\n",
    "scaler.fit(features_train)\n",
    "features_train_scaled = scaler.transform(features_train)\n",
    "features_valid_scaled = scaler.transform(features_valid)\n",
    "features_test_scaled = scaler.transform(features_test)"
   ]
  },
  {
   "cell_type": "markdown",
   "metadata": {},
   "source": [
    "#### Logistic Regression"
   ]
  },
  {
   "cell_type": "code",
   "execution_count": 13,
   "metadata": {},
   "outputs": [
    {
     "name": "stdout",
     "output_type": "stream",
     "text": [
      "f1_score = 0.272\n",
      "auc_roc_score = 0.572\n"
     ]
    }
   ],
   "source": [
    "model = LogisticRegression()\n",
    "model.fit(features_train_scaled,target_train)\n",
    "predicted = model.predict(features_valid_scaled)\n",
    "print(f'f1_score = {round(f1_score(target_valid,predicted),3)}')\n",
    "print(f'auc_roc_score = {round(roc_auc_score(target_valid,predicted),3)}')"
   ]
  },
  {
   "cell_type": "markdown",
   "metadata": {},
   "source": [
    "#### Decision Tree"
   ]
  },
  {
   "cell_type": "code",
   "execution_count": 14,
   "metadata": {},
   "outputs": [
    {
     "name": "stdout",
     "output_type": "stream",
     "text": [
      "f1_score = 0.59\n",
      "best_depth = 7\n"
     ]
    }
   ],
   "source": [
    "best_score = 0\n",
    "best_deprth = 0\n",
    "for depth in range(1,10):\n",
    "    model = DecisionTreeClassifier(random_state =12345, max_depth = depth)\n",
    "    model.fit(features_train_scaled,target_train)\n",
    "    predicted = model.predict(features_valid_scaled)\n",
    "    score = f1_score(target_valid,predicted)\n",
    "    if score > best_score:\n",
    "        best_score = score\n",
    "        best_depth = depth\n",
    "print(f'f1_score = {round(best_score,3)}')\n",
    "print(f'best_depth = {best_depth}')"
   ]
  },
  {
   "cell_type": "code",
   "execution_count": 15,
   "metadata": {},
   "outputs": [
    {
     "name": "stdout",
     "output_type": "stream",
     "text": [
      "roc_auc_score = 0.722\n"
     ]
    }
   ],
   "source": [
    "model = DecisionTreeClassifier(random_state=12345, max_depth = 7)\n",
    "model.fit(features_train_scaled,target_train)\n",
    "predicted = model.predict(features_valid_scaled)\n",
    "score = roc_auc_score(target_valid,predicted)\n",
    "print(f'roc_auc_score = {round(score,3)}')"
   ]
  },
  {
   "cell_type": "markdown",
   "metadata": {},
   "source": [
    "#### Random Forest"
   ]
  },
  {
   "cell_type": "code",
   "execution_count": 16,
   "metadata": {},
   "outputs": [
    {
     "name": "stdout",
     "output_type": "stream",
     "text": [
      "f1_score = 0.588\n",
      "best_depth = 9\n",
      "best_estimators = 600\n"
     ]
    }
   ],
   "source": [
    "best_score = 0\n",
    "best_deprth = 0\n",
    "best_estimators = 0\n",
    "for estimators in range(100, 1001, 100):\n",
    "    for depth in range(1,10):\n",
    "        model = RandomForestClassifier(random_state=12345, max_depth = depth, n_estimators = estimators)\n",
    "        model.fit(features_train_scaled,target_train)\n",
    "        predicted = model.predict(features_valid_scaled)\n",
    "        score = f1_score(target_valid,predicted)\n",
    "        if score > best_score:\n",
    "            best_score = score\n",
    "            best_depth = depth\n",
    "            best_estimators = estimators\n",
    "print(f'f1_score = {round(best_score,3)}')\n",
    "print(f'best_depth = {best_depth}')\n",
    "print(f'best_estimators = {best_estimators}')"
   ]
  },
  {
   "cell_type": "code",
   "execution_count": 17,
   "metadata": {},
   "outputs": [
    {
     "name": "stdout",
     "output_type": "stream",
     "text": [
      "roc_auc_score = 0.588\n"
     ]
    }
   ],
   "source": [
    "model = RandomForestClassifier(random_state=12345, max_depth = 9, n_estimators = 600)\n",
    "model.fit(features_train_scaled,target_train)\n",
    "predicted = model.predict(features_valid_scaled)\n",
    "score = roc_auc_score(target_valid,predicted)\n",
    "print(f'roc_auc_score = {round(best_score,3)}')"
   ]
  },
  {
   "cell_type": "markdown",
   "metadata": {},
   "source": [
    "### Conclusion"
   ]
  },
  {
   "cell_type": "markdown",
   "metadata": {},
   "source": [
    "As can be seen from the **f1 and roc-auc** indicators, the Decision Tree model performed best on models without taking into account the balance"
   ]
  },
  {
   "cell_type": "markdown",
   "metadata": {},
   "source": [
    "## Imbalance treatment"
   ]
  },
  {
   "cell_type": "markdown",
   "metadata": {},
   "source": [
    "### Downsampling method"
   ]
  },
  {
   "cell_type": "markdown",
   "metadata": {},
   "source": [
    "With a sufficient amount of data, we could use the downsampling technique, but upsampling is better for current data"
   ]
  },
  {
   "cell_type": "markdown",
   "metadata": {},
   "source": [
    "### Upsampling method"
   ]
  },
  {
   "cell_type": "code",
   "execution_count": 18,
   "metadata": {},
   "outputs": [],
   "source": [
    "def upsample(features, target, repeat):\n",
    "    features_zeros = features[target == 0]\n",
    "    features_ones = features[target == 1]\n",
    "    target_zeros = target[target == 0]\n",
    "    target_ones = target[target == 1]\n",
    "\n",
    "    features_upsampled = pd.concat([features_zeros] + [features_ones] * repeat)\n",
    "    target_upsampled = pd.concat([target_zeros] + [target_ones] * repeat)\n",
    "    \n",
    "    features_upsampled, target_upsampled = shuffle(\n",
    "        features_upsampled, target_upsampled, random_state=12345)\n",
    "    \n",
    "    return features_upsampled, target_upsampled"
   ]
  },
  {
   "cell_type": "code",
   "execution_count": 19,
   "metadata": {},
   "outputs": [],
   "source": [
    "features_train_scaled = pd.DataFrame(features_train_scaled, index = target_train.index)\n",
    "                                     \n",
    "features_train_upsampled, target_train_upsampled = upsample(features_train_scaled, target_train, 4)"
   ]
  },
  {
   "cell_type": "markdown",
   "metadata": {},
   "source": [
    "`repeat` parameter is selected in such a way as to balance the classes"
   ]
  },
  {
   "cell_type": "code",
   "execution_count": 20,
   "metadata": {},
   "outputs": [
    {
     "data": {
      "text/plain": [
       "<AxesSubplot:>"
      ]
     },
     "execution_count": 20,
     "metadata": {},
     "output_type": "execute_result"
    },
    {
     "data": {
      "image/png": "[encoded data removed]",
      "text/plain": [
       "<Figure size 432x288 with 1 Axes>"
      ]
     },
     "metadata": {
      "needs_background": "light"
     },
     "output_type": "display_data"
    }
   ],
   "source": [
    "target_train_upsampled.value_counts().plot(kind='bar')"
   ]
  },
  {
   "cell_type": "markdown",
   "metadata": {},
   "source": [
    "Now the number of exited and remaining customers is relatively the same"
   ]
  },
  {
   "cell_type": "markdown",
   "metadata": {},
   "source": [
    "## Testing the model"
   ]
  },
  {
   "cell_type": "markdown",
   "metadata": {},
   "source": [
    "### Logistic Regression"
   ]
  },
  {
   "cell_type": "code",
   "execution_count": 21,
   "metadata": {},
   "outputs": [
    {
     "name": "stdout",
     "output_type": "stream",
     "text": [
      "f1_score = 0.507\n",
      "auc_roc_score = 0.714\n"
     ]
    }
   ],
   "source": [
    "model = LogisticRegression()\n",
    "model.fit(features_train_upsampled,target_train_upsampled)\n",
    "predicted = model.predict(features_test_scaled)\n",
    "print(f'f1_score = {round(f1_score(target_test,predicted),3)}')\n",
    "print(f'auc_roc_score = {round(roc_auc_score(target_test,predicted),3)}')"
   ]
  },
  {
   "cell_type": "markdown",
   "metadata": {},
   "source": [
    "### Decision Tree"
   ]
  },
  {
   "cell_type": "code",
   "execution_count": 22,
   "metadata": {},
   "outputs": [
    {
     "name": "stdout",
     "output_type": "stream",
     "text": [
      "f1_score = 0.578\n",
      "best_depth = 5\n"
     ]
    }
   ],
   "source": [
    "best_score = 0\n",
    "best_deprth = 0\n",
    "for depth in range(1,10):\n",
    "    model = DecisionTreeClassifier(random_state =12345, max_depth = depth)\n",
    "    model.fit(features_train_upsampled,target_train_upsampled)\n",
    "    predicted = model.predict(features_test_scaled)\n",
    "    score = f1_score(target_test,predicted)\n",
    "    if score > best_score:\n",
    "        best_score = score\n",
    "        best_depth = depth\n",
    "print(f'f1_score = {round(best_score,3)}')\n",
    "print(f'best_depth = {best_depth}')"
   ]
  },
  {
   "cell_type": "code",
   "execution_count": 23,
   "metadata": {},
   "outputs": [
    {
     "name": "stdout",
     "output_type": "stream",
     "text": [
      "roc_auc_score = 0.769\n"
     ]
    }
   ],
   "source": [
    "model = DecisionTreeClassifier(random_state =12345, max_depth = 5)\n",
    "model.fit(features_train_upsampled,target_train_upsampled)\n",
    "predicted = model.predict(features_test_scaled)\n",
    "score = roc_auc_score(target_test,predicted)\n",
    "print(f'roc_auc_score = {round(score,3)}')"
   ]
  },
  {
   "cell_type": "markdown",
   "metadata": {},
   "source": [
    "### Random Forest"
   ]
  },
  {
   "cell_type": "code",
   "execution_count": 24,
   "metadata": {},
   "outputs": [
    {
     "name": "stdout",
     "output_type": "stream",
     "text": [
      "f1_score = 0.625\n",
      "best_depth = 9\n",
      "best_estimators = 200\n"
     ]
    }
   ],
   "source": [
    "best_score = 0\n",
    "best_deprth = 0\n",
    "best_estimators = 0\n",
    "for estimators in range(100, 1001, 100):\n",
    "    for depth in range(1,10):\n",
    "        model = RandomForestClassifier(random_state =12345, max_depth = depth, n_estimators = estimators)\n",
    "        model.fit(features_train_upsampled,target_train_upsampled)\n",
    "        predicted = model.predict(features_test_scaled)\n",
    "        score = f1_score(target_test,predicted)\n",
    "        if score > best_score:\n",
    "            best_score = score\n",
    "            best_depth = depth\n",
    "            best_estimators = estimators\n",
    "print(f'f1_score = {round(best_score,3)}')\n",
    "print(f'best_depth = {best_depth}')\n",
    "print(f'best_estimators = {best_estimators}')"
   ]
  },
  {
   "cell_type": "code",
   "execution_count": 25,
   "metadata": {},
   "outputs": [
    {
     "name": "stdout",
     "output_type": "stream",
     "text": [
      "roc_auc_score = 0.776\n"
     ]
    }
   ],
   "source": [
    "model = RandomForestClassifier(random_state =12345, max_depth = 9, n_estimators = 200)\n",
    "model.fit(features_train_upsampled,target_train_upsampled)\n",
    "predicted = model.predict(features_test_scaled)\n",
    "score = roc_auc_score(target_test,predicted)\n",
    "print(f'roc_auc_score = {round(score,3)}')"
   ]
  },
  {
   "cell_type": "markdown",
   "metadata": {},
   "source": [
    "### Conclusion"
   ]
  },
  {
   "cell_type": "markdown",
   "metadata": {},
   "source": [
    "As can be seen from the indicators, the best model is a **Random Forest**, while getting rid of the imbalance of classes, we have significantly increased the indicators for all types of models."
   ]
  },
  {
   "cell_type": "markdown",
   "metadata": {},
   "source": [
    "### Checking a Random Forest on a synthetic model"
   ]
  },
  {
   "cell_type": "code",
   "execution_count": 26,
   "metadata": {},
   "outputs": [
    {
     "name": "stdout",
     "output_type": "stream",
     "text": [
      "f1_score = 0.348\n",
      "roc_auc_score = 0.5\n"
     ]
    }
   ],
   "source": [
    "model = RandomForestClassifier(random_state =12345, max_depth = 9, n_estimators = 200)\n",
    "model.fit(features_train_upsampled,target_train_upsampled)\n",
    "predicted = pd.Series(1,index=target_valid.index)\n",
    "f1_score = f1_score(target_valid,predicted)\n",
    "roc_auc_score = roc_auc_score(target_valid,predicted)\n",
    "print(f'f1_score = {round(f1_score,3)}')\n",
    "print(f'roc_auc_score = {roc_auc_score}')"
   ]
  },
  {
   "cell_type": "markdown",
   "metadata": {},
   "source": [
    "#### Conclusion"
   ]
  },
  {
   "cell_type": "markdown",
   "metadata": {},
   "source": [
    "On the constant model, the result is much lower, which indicates the adequacy of our model"
   ]
  },
  {
   "cell_type": "markdown",
   "metadata": {},
   "source": [
    "### ROC Curve"
   ]
  },
  {
   "cell_type": "code",
   "execution_count": 27,
   "metadata": {
    "scrolled": true
   },
   "outputs": [
    {
     "data": {
      "image/png": "[encoded data removed]",
      "text/plain": [
       "<Figure size 432x288 with 1 Axes>"
      ]
     },
     "metadata": {
      "needs_background": "light"
     },
     "output_type": "display_data"
    }
   ],
   "source": [
    "model_lr = LogisticRegression()\n",
    "model_lr.fit(features_train_upsampled,target_train_upsampled)\n",
    "probabilities_valid = model_lr.predict_proba(features_valid_scaled)\n",
    "probabilities_one_valid = probabilities_valid[:, 1]\n",
    "\n",
    "fpr_lr, tpr_lr, thresholds = roc_curve(target_valid, probabilities_one_valid)\n",
    "\n",
    "model_tree = DecisionTreeClassifier(random_state =12345, max_depth = 5)\n",
    "model_tree.fit(features_train_upsampled,target_train_upsampled)\n",
    "probabilities_valid = model_tree.predict_proba(features_valid_scaled)\n",
    "probabilities_one_valid = probabilities_valid[:, 1]\n",
    "\n",
    "fpr_tree, tpr_tree, thresholds = roc_curve(target_valid, probabilities_one_valid)\n",
    "\n",
    "model_rf = RandomForestClassifier(random_state =12345, max_depth = 9, n_estimators = 200)\n",
    "model_rf.fit(features_train_upsampled,target_train_upsampled)\n",
    "probabilities_valid = model_rf.predict_proba(features_test_scaled)\n",
    "probabilities_one_valid = probabilities_valid[:, 1]\n",
    "\n",
    "fpr_rf, tpr_rf, thresholds = roc_curve(target_test, probabilities_one_valid)\n",
    "\n",
    "plt.figure()\n",
    "\n",
    "plt.plot(fpr_tree, tpr_tree)\n",
    "plt.plot(fpr_lr, tpr_lr)\n",
    "plt.plot(fpr_rf, tpr_rf)\n",
    "\n",
    "plt.xlim([0.0, 1.0])\n",
    "plt.ylim([0.0, 1.0])\n",
    "plt.xlabel('False Positive Rate')\n",
    "plt.ylabel('True Positive Rate')\n",
    "plt.title('ROC-curve')\n",
    "plt.legend(['DecisionTree','LogisticRegression','RandomForest']) \n",
    "plt.show() "
   ]
  },
  {
   "cell_type": "markdown",
   "metadata": {},
   "source": [
    "#### Conclusion"
   ]
  },
  {
   "cell_type": "markdown",
   "metadata": {},
   "source": [
    "By the type of the ROC curve, it can also be concluded that the optimal model is a Random Forest (the largest deviation)"
   ]
  },
  {
   "cell_type": "markdown",
   "metadata": {},
   "source": [
    "## General Conclusion"
   ]
  },
  {
   "cell_type": "markdown",
   "metadata": {},
   "source": [
    "- The original data were analyzed and processed (omissions and uninformative columns were removed, OHE conversion was performed)\n",
    "- Checked for class imbalance\n",
    "- The model was trained without taking into account the imbalance:\n",
    "  * The best result:\n",
    "  * Decision Tree (f1_score = 0.59, best_depth = 7)\n",
    "- Accounting of the imbalance has been carried out\n",
    "- The model was trained taking into account the imbalance:\n",
    "  * The best result:\n",
    "  * Random forest (f1_score = 0.63, best_depth = 9, best_estimators = 200)\n",
    "- The conclusions are also confirmed by comparing the ROC-curves of the logarithmic regression model, the decision tree model and the random forest model \n",
    "  * The best result:\n",
    "  * Random forest has the largest deviation"
   ]
  }
 ],
 "metadata": {
  "ExecuteTimeLog": [
   {
    "duration": 430,
    "start_time": "2022-04-22T15:54:50.188Z"
   },
   {
    "duration": 56,
    "start_time": "2022-04-22T15:55:14.751Z"
   },
   {
    "duration": 13,
    "start_time": "2022-04-22T15:55:51.850Z"
   },
   {
    "duration": 19,
    "start_time": "2022-04-22T16:07:29.311Z"
   },
   {
    "duration": 69,
    "start_time": "2022-04-22T16:07:58.673Z"
   },
   {
    "duration": 3,
    "start_time": "2022-04-22T16:08:04.676Z"
   },
   {
    "duration": 43,
    "start_time": "2022-04-22T16:08:04.681Z"
   },
   {
    "duration": 11,
    "start_time": "2022-04-22T16:08:04.726Z"
   },
   {
    "duration": 14,
    "start_time": "2022-04-22T16:08:06.817Z"
   },
   {
    "duration": 16,
    "start_time": "2022-04-22T16:11:08.170Z"
   },
   {
    "duration": 15,
    "start_time": "2022-04-22T16:11:38.149Z"
   },
   {
    "duration": 20,
    "start_time": "2022-04-22T16:11:48.024Z"
   },
   {
    "duration": 16,
    "start_time": "2022-04-22T16:11:55.727Z"
   },
   {
    "duration": 11,
    "start_time": "2022-04-22T16:12:45.738Z"
   },
   {
    "duration": 10,
    "start_time": "2022-04-22T16:12:49.529Z"
   },
   {
    "duration": 15,
    "start_time": "2022-04-22T16:15:37.207Z"
   },
   {
    "duration": 19,
    "start_time": "2022-04-22T16:15:47.307Z"
   },
   {
    "duration": 15,
    "start_time": "2022-04-22T16:16:01.648Z"
   },
   {
    "duration": 3,
    "start_time": "2022-04-22T16:16:08.516Z"
   },
   {
    "duration": 48,
    "start_time": "2022-04-22T16:16:08.520Z"
   },
   {
    "duration": 13,
    "start_time": "2022-04-22T16:16:08.570Z"
   },
   {
    "duration": 13,
    "start_time": "2022-04-22T16:16:08.584Z"
   },
   {
    "duration": 24,
    "start_time": "2022-04-22T16:16:10.683Z"
   },
   {
    "duration": 3,
    "start_time": "2022-04-22T16:16:31.405Z"
   },
   {
    "duration": 39,
    "start_time": "2022-04-22T16:16:31.410Z"
   },
   {
    "duration": 11,
    "start_time": "2022-04-22T16:16:31.451Z"
   },
   {
    "duration": 18,
    "start_time": "2022-04-22T16:16:31.463Z"
   },
   {
    "duration": 11,
    "start_time": "2022-04-22T16:16:33.584Z"
   },
   {
    "duration": 3,
    "start_time": "2022-04-22T16:17:10.013Z"
   },
   {
    "duration": 43,
    "start_time": "2022-04-22T16:17:10.018Z"
   },
   {
    "duration": 12,
    "start_time": "2022-04-22T16:17:10.063Z"
   },
   {
    "duration": 14,
    "start_time": "2022-04-22T16:17:10.076Z"
   },
   {
    "duration": 22,
    "start_time": "2022-04-22T16:17:11.805Z"
   },
   {
    "duration": 9,
    "start_time": "2022-04-22T16:17:18.500Z"
   },
   {
    "duration": 18,
    "start_time": "2022-04-22T16:17:23.349Z"
   },
   {
    "duration": 8,
    "start_time": "2022-04-22T16:18:25.080Z"
   },
   {
    "duration": 9,
    "start_time": "2022-04-22T16:18:30.709Z"
   },
   {
    "duration": 2,
    "start_time": "2022-04-22T16:18:38.970Z"
   },
   {
    "duration": 40,
    "start_time": "2022-04-22T16:18:38.973Z"
   },
   {
    "duration": 12,
    "start_time": "2022-04-22T16:18:39.015Z"
   },
   {
    "duration": 12,
    "start_time": "2022-04-22T16:18:39.029Z"
   },
   {
    "duration": 23,
    "start_time": "2022-04-22T16:18:39.042Z"
   },
   {
    "duration": 9,
    "start_time": "2022-04-22T16:18:39.067Z"
   },
   {
    "duration": 23,
    "start_time": "2022-04-22T16:18:40.689Z"
   },
   {
    "duration": 3,
    "start_time": "2022-04-22T16:19:12.271Z"
   },
   {
    "duration": 44,
    "start_time": "2022-04-22T16:19:12.276Z"
   },
   {
    "duration": 12,
    "start_time": "2022-04-22T16:19:12.321Z"
   },
   {
    "duration": 11,
    "start_time": "2022-04-22T16:19:12.335Z"
   },
   {
    "duration": 24,
    "start_time": "2022-04-22T16:19:12.348Z"
   },
   {
    "duration": 9,
    "start_time": "2022-04-22T16:19:12.374Z"
   },
   {
    "duration": 18,
    "start_time": "2022-04-22T16:19:14.301Z"
   },
   {
    "duration": 24,
    "start_time": "2022-04-22T16:19:29.953Z"
   },
   {
    "duration": 10,
    "start_time": "2022-04-22T16:19:41.166Z"
   },
   {
    "duration": 7,
    "start_time": "2022-04-22T16:21:18.198Z"
   },
   {
    "duration": 8,
    "start_time": "2022-04-22T16:21:25.161Z"
   },
   {
    "duration": 7,
    "start_time": "2022-04-22T16:21:29.403Z"
   },
   {
    "duration": 6,
    "start_time": "2022-04-22T16:21:32.746Z"
   },
   {
    "duration": 7,
    "start_time": "2022-04-22T16:21:48.776Z"
   },
   {
    "duration": 7,
    "start_time": "2022-04-22T16:23:30.851Z"
   },
   {
    "duration": 5,
    "start_time": "2022-04-22T16:23:34.575Z"
   },
   {
    "duration": 642,
    "start_time": "2022-04-22T16:23:44.195Z"
   },
   {
    "duration": 103,
    "start_time": "2022-04-22T16:24:02.554Z"
   },
   {
    "duration": 99,
    "start_time": "2022-04-22T16:24:34.844Z"
   },
   {
    "duration": 100,
    "start_time": "2022-04-22T16:24:47.592Z"
   },
   {
    "duration": 101,
    "start_time": "2022-04-22T16:25:07.990Z"
   },
   {
    "duration": 79,
    "start_time": "2022-04-22T16:26:25.235Z"
   },
   {
    "duration": 68,
    "start_time": "2022-04-22T16:26:41.939Z"
   },
   {
    "duration": 64,
    "start_time": "2022-04-22T16:27:07.556Z"
   },
   {
    "duration": 84,
    "start_time": "2022-04-22T16:27:18.015Z"
   },
   {
    "duration": 67,
    "start_time": "2022-04-22T16:27:44.924Z"
   },
   {
    "duration": 64,
    "start_time": "2022-04-22T16:27:53.021Z"
   },
   {
    "duration": 82,
    "start_time": "2022-04-22T16:28:02.153Z"
   },
   {
    "duration": 107,
    "start_time": "2022-04-22T16:28:11.645Z"
   },
   {
    "duration": 75,
    "start_time": "2022-04-22T16:28:38.015Z"
   },
   {
    "duration": 64,
    "start_time": "2022-04-22T16:28:43.374Z"
   },
   {
    "duration": 103,
    "start_time": "2022-04-22T16:28:56.558Z"
   },
   {
    "duration": 3,
    "start_time": "2022-04-22T16:34:18.658Z"
   },
   {
    "duration": 677,
    "start_time": "2022-04-22T16:35:34.150Z"
   },
   {
    "duration": 24,
    "start_time": "2022-04-22T16:36:05.965Z"
   },
   {
    "duration": 13,
    "start_time": "2022-04-22T16:37:34.445Z"
   },
   {
    "duration": 10,
    "start_time": "2022-04-22T16:37:47.000Z"
   },
   {
    "duration": 3,
    "start_time": "2022-04-22T16:40:44.108Z"
   },
   {
    "duration": 9,
    "start_time": "2022-04-22T16:41:08.338Z"
   },
   {
    "duration": 3,
    "start_time": "2022-04-22T16:41:25.588Z"
   },
   {
    "duration": 11,
    "start_time": "2022-04-22T16:42:40.288Z"
   },
   {
    "duration": 12,
    "start_time": "2022-04-22T16:44:59.855Z"
   },
   {
    "duration": 12,
    "start_time": "2022-04-22T16:46:05.547Z"
   },
   {
    "duration": 3,
    "start_time": "2022-04-22T16:47:20.268Z"
   },
   {
    "duration": 55,
    "start_time": "2022-04-22T16:47:20.275Z"
   },
   {
    "duration": 13,
    "start_time": "2022-04-22T16:47:20.332Z"
   },
   {
    "duration": 13,
    "start_time": "2022-04-22T16:47:20.347Z"
   },
   {
    "duration": 22,
    "start_time": "2022-04-22T16:47:20.362Z"
   },
   {
    "duration": 11,
    "start_time": "2022-04-22T16:47:20.407Z"
   },
   {
    "duration": 24,
    "start_time": "2022-04-22T16:47:20.420Z"
   },
   {
    "duration": 135,
    "start_time": "2022-04-22T16:47:20.446Z"
   },
   {
    "duration": 10,
    "start_time": "2022-04-22T16:47:20.583Z"
   },
   {
    "duration": 13,
    "start_time": "2022-04-22T16:47:20.608Z"
   },
   {
    "duration": 45,
    "start_time": "2022-04-22T16:50:58.146Z"
   },
   {
    "duration": 3,
    "start_time": "2022-04-22T16:52:07.274Z"
   },
   {
    "duration": 4,
    "start_time": "2022-04-22T16:52:15.630Z"
   },
   {
    "duration": 5,
    "start_time": "2022-04-22T16:55:31.999Z"
   },
   {
    "duration": 52,
    "start_time": "2022-04-22T16:56:25.758Z"
   },
   {
    "duration": 88,
    "start_time": "2022-04-22T16:56:33.427Z"
   },
   {
    "duration": 75,
    "start_time": "2022-04-22T16:56:58.837Z"
   },
   {
    "duration": 62,
    "start_time": "2022-04-22T17:01:15.054Z"
   },
   {
    "duration": 86,
    "start_time": "2022-04-22T17:01:32.422Z"
   },
   {
    "duration": 127,
    "start_time": "2022-04-22T17:03:10.057Z"
   },
   {
    "duration": 12795,
    "start_time": "2022-04-22T17:06:58.414Z"
   },
   {
    "duration": 3,
    "start_time": "2022-04-22T17:09:18.778Z"
   },
   {
    "duration": 55,
    "start_time": "2022-04-22T17:09:44.066Z"
   },
   {
    "duration": 21,
    "start_time": "2022-04-22T17:09:52.692Z"
   },
   {
    "duration": 76,
    "start_time": "2022-04-22T17:12:50.094Z"
   },
   {
    "duration": 22,
    "start_time": "2022-04-22T17:12:55.776Z"
   },
   {
    "duration": 14,
    "start_time": "2022-04-22T17:13:52.529Z"
   },
   {
    "duration": 22,
    "start_time": "2022-04-22T17:14:22.392Z"
   },
   {
    "duration": 14,
    "start_time": "2022-04-22T17:15:00.920Z"
   },
   {
    "duration": 3,
    "start_time": "2022-04-22T17:15:07.095Z"
   },
   {
    "duration": 40,
    "start_time": "2022-04-22T17:15:07.105Z"
   },
   {
    "duration": 12,
    "start_time": "2022-04-22T17:15:07.146Z"
   },
   {
    "duration": 13,
    "start_time": "2022-04-22T17:15:07.159Z"
   },
   {
    "duration": 39,
    "start_time": "2022-04-22T17:15:07.173Z"
   },
   {
    "duration": 9,
    "start_time": "2022-04-22T17:15:07.214Z"
   },
   {
    "duration": 23,
    "start_time": "2022-04-22T17:15:07.459Z"
   },
   {
    "duration": 108,
    "start_time": "2022-04-22T17:15:07.485Z"
   },
   {
    "duration": 14,
    "start_time": "2022-04-22T17:15:07.594Z"
   },
   {
    "duration": 12,
    "start_time": "2022-04-22T17:15:07.609Z"
   },
   {
    "duration": 385,
    "start_time": "2022-04-22T17:15:07.623Z"
   },
   {
    "duration": 126,
    "start_time": "2022-04-22T17:15:09.761Z"
   },
   {
    "duration": 115,
    "start_time": "2022-04-22T17:15:52.458Z"
   },
   {
    "duration": 14,
    "start_time": "2022-04-22T17:17:06.553Z"
   },
   {
    "duration": 19,
    "start_time": "2022-04-22T17:17:18.173Z"
   },
   {
    "duration": 14,
    "start_time": "2022-04-22T17:17:32.753Z"
   },
   {
    "duration": 12639,
    "start_time": "2022-04-22T17:18:38.506Z"
   },
   {
    "duration": 14077,
    "start_time": "2022-04-22T17:19:01.920Z"
   },
   {
    "duration": 223,
    "start_time": "2022-04-22T17:20:45.547Z"
   },
   {
    "duration": 4,
    "start_time": "2022-04-22T17:21:09.689Z"
   },
   {
    "duration": 50,
    "start_time": "2022-04-22T17:21:09.695Z"
   },
   {
    "duration": 14,
    "start_time": "2022-04-22T17:21:09.746Z"
   },
   {
    "duration": 17,
    "start_time": "2022-04-22T17:21:09.762Z"
   },
   {
    "duration": 40,
    "start_time": "2022-04-22T17:21:09.782Z"
   },
   {
    "duration": 11,
    "start_time": "2022-04-22T17:21:09.824Z"
   },
   {
    "duration": 24,
    "start_time": "2022-04-22T17:21:09.836Z"
   },
   {
    "duration": 146,
    "start_time": "2022-04-22T17:21:09.862Z"
   },
   {
    "duration": 12,
    "start_time": "2022-04-22T17:21:10.010Z"
   },
   {
    "duration": 14,
    "start_time": "2022-04-22T17:21:10.024Z"
   },
   {
    "duration": 268,
    "start_time": "2022-04-22T17:21:10.041Z"
   },
   {
    "duration": 222,
    "start_time": "2022-04-22T17:21:10.311Z"
   },
   {
    "duration": 19,
    "start_time": "2022-04-22T17:21:10.535Z"
   },
   {
    "duration": 13099,
    "start_time": "2022-04-22T17:21:10.558Z"
   },
   {
    "duration": 220,
    "start_time": "2022-04-22T17:21:23.661Z"
   },
   {
    "duration": 22,
    "start_time": "2022-04-22T17:30:12.697Z"
   },
   {
    "duration": 4,
    "start_time": "2022-04-22T17:30:51.653Z"
   },
   {
    "duration": 16,
    "start_time": "2022-04-22T17:31:00.051Z"
   },
   {
    "duration": 5,
    "start_time": "2022-04-22T17:31:41.244Z"
   },
   {
    "duration": 16,
    "start_time": "2022-04-22T17:33:44.883Z"
   },
   {
    "duration": 4,
    "start_time": "2022-04-22T17:33:51.374Z"
   },
   {
    "duration": 42,
    "start_time": "2022-04-22T17:33:51.380Z"
   },
   {
    "duration": 14,
    "start_time": "2022-04-22T17:33:51.424Z"
   },
   {
    "duration": 13,
    "start_time": "2022-04-22T17:33:51.440Z"
   },
   {
    "duration": 61,
    "start_time": "2022-04-22T17:33:51.457Z"
   },
   {
    "duration": 14,
    "start_time": "2022-04-22T17:33:51.521Z"
   },
   {
    "duration": 26,
    "start_time": "2022-04-22T17:33:51.538Z"
   },
   {
    "duration": 132,
    "start_time": "2022-04-22T17:33:51.565Z"
   },
   {
    "duration": 9,
    "start_time": "2022-04-22T17:33:51.707Z"
   },
   {
    "duration": 11,
    "start_time": "2022-04-22T17:33:51.717Z"
   },
   {
    "duration": 178,
    "start_time": "2022-04-22T17:33:51.730Z"
   },
   {
    "duration": 220,
    "start_time": "2022-04-22T17:33:51.910Z"
   },
   {
    "duration": 15,
    "start_time": "2022-04-22T17:33:52.132Z"
   },
   {
    "duration": 12613,
    "start_time": "2022-04-22T17:33:52.148Z"
   },
   {
    "duration": 201,
    "start_time": "2022-04-22T17:34:04.763Z"
   },
   {
    "duration": 19,
    "start_time": "2022-04-22T17:34:09.944Z"
   },
   {
    "duration": 20,
    "start_time": "2022-04-22T17:34:34.353Z"
   },
   {
    "duration": 17,
    "start_time": "2022-04-22T17:35:07.839Z"
   },
   {
    "duration": 14,
    "start_time": "2022-04-22T17:35:30.126Z"
   },
   {
    "duration": 20,
    "start_time": "2022-04-22T17:35:51.548Z"
   },
   {
    "duration": 13,
    "start_time": "2022-04-22T17:36:12.119Z"
   },
   {
    "duration": 17,
    "start_time": "2022-04-22T17:36:29.887Z"
   },
   {
    "duration": 4,
    "start_time": "2022-04-22T17:39:06.679Z"
   },
   {
    "duration": 45,
    "start_time": "2022-04-22T17:39:06.684Z"
   },
   {
    "duration": 12,
    "start_time": "2022-04-22T17:39:06.731Z"
   },
   {
    "duration": 13,
    "start_time": "2022-04-22T17:39:06.744Z"
   },
   {
    "duration": 23,
    "start_time": "2022-04-22T17:39:06.759Z"
   },
   {
    "duration": 30,
    "start_time": "2022-04-22T17:39:06.783Z"
   },
   {
    "duration": 38,
    "start_time": "2022-04-22T17:39:06.814Z"
   },
   {
    "duration": 135,
    "start_time": "2022-04-22T17:39:06.854Z"
   },
   {
    "duration": 17,
    "start_time": "2022-04-22T17:39:06.991Z"
   },
   {
    "duration": 11,
    "start_time": "2022-04-22T17:39:07.010Z"
   },
   {
    "duration": 184,
    "start_time": "2022-04-22T17:39:07.024Z"
   },
   {
    "duration": 233,
    "start_time": "2022-04-22T17:39:07.211Z"
   },
   {
    "duration": 16,
    "start_time": "2022-04-22T17:39:07.446Z"
   },
   {
    "duration": 12814,
    "start_time": "2022-04-22T17:39:07.464Z"
   },
   {
    "duration": 200,
    "start_time": "2022-04-22T17:39:20.280Z"
   },
   {
    "duration": 30,
    "start_time": "2022-04-22T17:39:43.464Z"
   },
   {
    "duration": 39,
    "start_time": "2022-04-22T17:40:01.201Z"
   },
   {
    "duration": 16,
    "start_time": "2022-04-22T17:40:31.099Z"
   },
   {
    "duration": 5,
    "start_time": "2022-04-22T17:40:31.882Z"
   },
   {
    "duration": 20,
    "start_time": "2022-04-22T17:40:47.623Z"
   },
   {
    "duration": 10,
    "start_time": "2022-04-22T17:41:23.955Z"
   },
   {
    "duration": 10,
    "start_time": "2022-04-22T17:41:31.300Z"
   },
   {
    "duration": 76,
    "start_time": "2022-04-22T17:41:34.685Z"
   },
   {
    "duration": 16,
    "start_time": "2022-04-22T17:41:59.295Z"
   },
   {
    "duration": 70,
    "start_time": "2022-04-22T17:43:07.373Z"
   },
   {
    "duration": 72,
    "start_time": "2022-04-22T17:43:24.372Z"
   },
   {
    "duration": 27,
    "start_time": "2022-04-22T17:43:39.655Z"
   },
   {
    "duration": 18,
    "start_time": "2022-04-22T17:43:51.926Z"
   },
   {
    "duration": 16,
    "start_time": "2022-04-22T17:44:28.609Z"
   },
   {
    "duration": 5,
    "start_time": "2022-04-22T17:44:33.133Z"
   },
   {
    "duration": 109,
    "start_time": "2022-04-22T17:46:17.381Z"
   },
   {
    "duration": 19,
    "start_time": "2022-04-22T17:49:03.187Z"
   },
   {
    "duration": 17,
    "start_time": "2022-04-22T17:50:04.960Z"
   },
   {
    "duration": 3,
    "start_time": "2022-04-22T17:50:20.993Z"
   },
   {
    "duration": 43,
    "start_time": "2022-04-22T17:50:21.001Z"
   },
   {
    "duration": 14,
    "start_time": "2022-04-22T17:50:21.045Z"
   },
   {
    "duration": 17,
    "start_time": "2022-04-22T17:50:21.060Z"
   },
   {
    "duration": 48,
    "start_time": "2022-04-22T17:50:21.080Z"
   },
   {
    "duration": 10,
    "start_time": "2022-04-22T17:50:21.129Z"
   },
   {
    "duration": 26,
    "start_time": "2022-04-22T17:50:21.141Z"
   },
   {
    "duration": 158,
    "start_time": "2022-04-22T17:50:21.169Z"
   },
   {
    "duration": 11,
    "start_time": "2022-04-22T17:50:21.329Z"
   },
   {
    "duration": 12,
    "start_time": "2022-04-22T17:50:21.341Z"
   },
   {
    "duration": 154,
    "start_time": "2022-04-22T17:50:21.355Z"
   },
   {
    "duration": 250,
    "start_time": "2022-04-22T17:50:21.510Z"
   },
   {
    "duration": 30,
    "start_time": "2022-04-22T17:50:21.761Z"
   },
   {
    "duration": 12766,
    "start_time": "2022-04-22T17:50:21.793Z"
   },
   {
    "duration": 37,
    "start_time": "2022-04-22T17:50:34.560Z"
   },
   {
    "duration": 12,
    "start_time": "2022-04-22T17:50:34.607Z"
   },
   {
    "duration": 18,
    "start_time": "2022-04-22T17:50:41.999Z"
   },
   {
    "duration": 11,
    "start_time": "2022-04-22T17:51:03.795Z"
   },
   {
    "duration": 11,
    "start_time": "2022-04-22T17:51:10.960Z"
   },
   {
    "duration": 164,
    "start_time": "2022-04-22T17:51:26.448Z"
   },
   {
    "duration": 188,
    "start_time": "2022-04-22T17:51:54.181Z"
   },
   {
    "duration": 24,
    "start_time": "2022-04-22T17:52:13.338Z"
   },
   {
    "duration": 28,
    "start_time": "2022-04-22T17:52:33.594Z"
   },
   {
    "duration": 17046,
    "start_time": "2022-04-22T17:52:48.667Z"
   },
   {
    "duration": 52,
    "start_time": "2022-04-22T17:53:13.083Z"
   },
   {
    "duration": 244,
    "start_time": "2022-04-22T17:57:12.689Z"
   },
   {
    "duration": 228,
    "start_time": "2022-04-22T17:59:15.637Z"
   },
   {
    "duration": 226,
    "start_time": "2022-04-22T17:59:22.006Z"
   },
   {
    "duration": 4,
    "start_time": "2022-04-22T17:59:28.374Z"
   },
   {
    "duration": 39,
    "start_time": "2022-04-22T17:59:28.382Z"
   },
   {
    "duration": 13,
    "start_time": "2022-04-22T17:59:28.423Z"
   },
   {
    "duration": 16,
    "start_time": "2022-04-22T17:59:28.438Z"
   },
   {
    "duration": 22,
    "start_time": "2022-04-22T17:59:28.456Z"
   },
   {
    "duration": 36,
    "start_time": "2022-04-22T17:59:28.479Z"
   },
   {
    "duration": 23,
    "start_time": "2022-04-22T17:59:28.517Z"
   },
   {
    "duration": 132,
    "start_time": "2022-04-22T17:59:28.541Z"
   },
   {
    "duration": 8,
    "start_time": "2022-04-22T17:59:28.675Z"
   },
   {
    "duration": 24,
    "start_time": "2022-04-22T17:59:28.685Z"
   },
   {
    "duration": 303,
    "start_time": "2022-04-22T17:59:28.712Z"
   },
   {
    "duration": 232,
    "start_time": "2022-04-22T17:59:29.017Z"
   },
   {
    "duration": 30,
    "start_time": "2022-04-22T17:59:29.251Z"
   },
   {
    "duration": 12271,
    "start_time": "2022-04-22T17:59:29.283Z"
   },
   {
    "duration": 37,
    "start_time": "2022-04-22T17:59:41.556Z"
   },
   {
    "duration": 20,
    "start_time": "2022-04-22T17:59:41.594Z"
   },
   {
    "duration": 109,
    "start_time": "2022-04-22T17:59:41.615Z"
   },
   {
    "duration": 185,
    "start_time": "2022-04-22T17:59:41.725Z"
   },
   {
    "duration": 287,
    "start_time": "2022-04-22T17:59:41.913Z"
   },
   {
    "duration": 31,
    "start_time": "2022-04-22T17:59:42.202Z"
   },
   {
    "duration": 16945,
    "start_time": "2022-04-22T17:59:42.235Z"
   },
   {
    "duration": 236,
    "start_time": "2022-04-22T17:59:59.183Z"
   },
   {
    "duration": 225,
    "start_time": "2022-04-22T18:00:46.773Z"
   },
   {
    "duration": 4,
    "start_time": "2022-04-22T18:06:20.394Z"
   },
   {
    "duration": 13,
    "start_time": "2022-04-22T18:09:06.187Z"
   },
   {
    "duration": 235,
    "start_time": "2022-04-22T18:09:36.205Z"
   },
   {
    "duration": 247,
    "start_time": "2022-04-22T18:10:11.428Z"
   },
   {
    "duration": 262,
    "start_time": "2022-04-22T18:10:32.451Z"
   },
   {
    "duration": 267,
    "start_time": "2022-04-22T18:10:53.033Z"
   },
   {
    "duration": 239,
    "start_time": "2022-04-22T18:12:06.089Z"
   },
   {
    "duration": 3,
    "start_time": "2022-04-22T18:12:27.016Z"
   },
   {
    "duration": 323,
    "start_time": "2022-04-22T18:12:34.664Z"
   },
   {
    "duration": 343,
    "start_time": "2022-04-22T18:14:35.729Z"
   },
   {
    "duration": 602,
    "start_time": "2022-04-22T18:15:54.234Z"
   },
   {
    "duration": 630,
    "start_time": "2022-04-22T18:18:21.628Z"
   },
   {
    "duration": 672,
    "start_time": "2022-04-22T18:19:26.998Z"
   },
   {
    "duration": 63,
    "start_time": "2022-04-22T18:19:36.159Z"
   },
   {
    "duration": 552,
    "start_time": "2022-04-22T18:19:43.196Z"
   },
   {
    "duration": 652,
    "start_time": "2022-04-22T18:21:56.011Z"
   },
   {
    "duration": 608,
    "start_time": "2022-04-22T18:22:04.781Z"
   },
   {
    "duration": 4,
    "start_time": "2022-04-22T18:29:06.183Z"
   },
   {
    "duration": 51,
    "start_time": "2022-04-22T18:29:06.189Z"
   },
   {
    "duration": 12,
    "start_time": "2022-04-22T18:29:06.242Z"
   },
   {
    "duration": 13,
    "start_time": "2022-04-22T18:29:06.256Z"
   },
   {
    "duration": 45,
    "start_time": "2022-04-22T18:29:06.271Z"
   },
   {
    "duration": 9,
    "start_time": "2022-04-22T18:29:06.318Z"
   },
   {
    "duration": 24,
    "start_time": "2022-04-22T18:29:06.328Z"
   },
   {
    "duration": 132,
    "start_time": "2022-04-22T18:29:06.354Z"
   },
   {
    "duration": 21,
    "start_time": "2022-04-22T18:29:06.488Z"
   },
   {
    "duration": 10,
    "start_time": "2022-04-22T18:29:06.511Z"
   },
   {
    "duration": 191,
    "start_time": "2022-04-22T18:29:06.524Z"
   },
   {
    "duration": 298,
    "start_time": "2022-04-22T18:29:06.717Z"
   },
   {
    "duration": 28,
    "start_time": "2022-04-22T18:29:07.017Z"
   },
   {
    "duration": 12567,
    "start_time": "2022-04-22T18:29:07.047Z"
   },
   {
    "duration": 39,
    "start_time": "2022-04-22T18:29:19.616Z"
   },
   {
    "duration": 11,
    "start_time": "2022-04-22T18:29:19.657Z"
   },
   {
    "duration": 117,
    "start_time": "2022-04-22T18:29:19.669Z"
   },
   {
    "duration": 219,
    "start_time": "2022-04-22T18:29:19.789Z"
   },
   {
    "duration": 304,
    "start_time": "2022-04-22T18:29:20.010Z"
   },
   {
    "duration": 31,
    "start_time": "2022-04-22T18:29:20.316Z"
   },
   {
    "duration": 16485,
    "start_time": "2022-04-22T18:29:20.349Z"
   },
   {
    "duration": 250,
    "start_time": "2022-04-22T18:29:36.836Z"
   },
   {
    "duration": 240,
    "start_time": "2022-04-22T18:29:37.089Z"
   },
   {
    "duration": 684,
    "start_time": "2022-04-22T18:29:37.331Z"
   },
   {
    "duration": 1397,
    "start_time": "2022-04-22T18:39:20.749Z"
   },
   {
    "duration": 50,
    "start_time": "2022-04-22T18:39:22.147Z"
   },
   {
    "duration": 14,
    "start_time": "2022-04-22T18:39:22.198Z"
   },
   {
    "duration": 13,
    "start_time": "2022-04-22T18:39:22.214Z"
   },
   {
    "duration": 23,
    "start_time": "2022-04-22T18:39:22.228Z"
   },
   {
    "duration": 9,
    "start_time": "2022-04-22T18:39:22.252Z"
   },
   {
    "duration": 48,
    "start_time": "2022-04-22T18:39:22.262Z"
   },
   {
    "duration": 129,
    "start_time": "2022-04-22T18:39:22.312Z"
   },
   {
    "duration": 9,
    "start_time": "2022-04-22T18:39:22.442Z"
   },
   {
    "duration": 11,
    "start_time": "2022-04-22T18:39:22.453Z"
   },
   {
    "duration": 150,
    "start_time": "2022-04-22T18:39:22.465Z"
   },
   {
    "duration": 247,
    "start_time": "2022-04-22T18:39:22.617Z"
   },
   {
    "duration": 27,
    "start_time": "2022-04-22T18:39:22.866Z"
   },
   {
    "duration": 11838,
    "start_time": "2022-04-22T18:39:22.895Z"
   },
   {
    "duration": 37,
    "start_time": "2022-04-22T18:39:34.735Z"
   },
   {
    "duration": 11,
    "start_time": "2022-04-22T18:39:34.773Z"
   },
   {
    "duration": 108,
    "start_time": "2022-04-22T18:39:34.785Z"
   },
   {
    "duration": 118,
    "start_time": "2022-04-22T18:39:34.895Z"
   },
   {
    "duration": 278,
    "start_time": "2022-04-22T18:39:35.014Z"
   },
   {
    "duration": 32,
    "start_time": "2022-04-22T18:39:35.293Z"
   },
   {
    "duration": 16080,
    "start_time": "2022-04-22T18:39:35.327Z"
   },
   {
    "duration": 221,
    "start_time": "2022-04-22T18:39:51.409Z"
   },
   {
    "duration": 221,
    "start_time": "2022-04-22T18:39:51.631Z"
   },
   {
    "duration": 629,
    "start_time": "2022-04-22T18:39:51.854Z"
   },
   {
    "duration": 46,
    "start_time": "2022-04-23T11:51:47.496Z"
   },
   {
    "duration": 6,
    "start_time": "2022-04-23T11:51:52.968Z"
   },
   {
    "duration": 6,
    "start_time": "2022-04-23T11:52:08.223Z"
   },
   {
    "duration": 1764,
    "start_time": "2022-04-23T11:52:11.168Z"
   },
   {
    "duration": 83,
    "start_time": "2022-04-23T11:52:15.714Z"
   },
   {
    "duration": 14,
    "start_time": "2022-04-23T11:52:16.192Z"
   },
   {
    "duration": 13,
    "start_time": "2022-04-23T11:52:19.568Z"
   },
   {
    "duration": 26,
    "start_time": "2022-04-23T11:52:22.719Z"
   },
   {
    "duration": 10,
    "start_time": "2022-04-23T11:52:25.308Z"
   },
   {
    "duration": 1766,
    "start_time": "2022-04-24T07:38:13.529Z"
   },
   {
    "duration": 47,
    "start_time": "2022-04-24T07:38:15.298Z"
   },
   {
    "duration": 15,
    "start_time": "2022-04-24T07:38:15.347Z"
   },
   {
    "duration": 28,
    "start_time": "2022-04-24T07:38:15.364Z"
   },
   {
    "duration": 24,
    "start_time": "2022-04-24T07:38:15.393Z"
   },
   {
    "duration": 11,
    "start_time": "2022-04-24T07:38:15.419Z"
   },
   {
    "duration": 25,
    "start_time": "2022-04-24T07:38:15.431Z"
   },
   {
    "duration": 162,
    "start_time": "2022-04-24T07:38:15.458Z"
   },
   {
    "duration": 9,
    "start_time": "2022-04-24T07:38:20.997Z"
   },
   {
    "duration": 7,
    "start_time": "2022-04-24T07:38:29.727Z"
   },
   {
    "duration": 4,
    "start_time": "2022-04-24T07:38:42.494Z"
   },
   {
    "duration": 44,
    "start_time": "2022-04-24T07:38:42.500Z"
   },
   {
    "duration": 13,
    "start_time": "2022-04-24T07:38:42.546Z"
   },
   {
    "duration": 33,
    "start_time": "2022-04-24T07:38:42.560Z"
   },
   {
    "duration": 22,
    "start_time": "2022-04-24T07:38:42.595Z"
   },
   {
    "duration": 9,
    "start_time": "2022-04-24T07:38:42.619Z"
   },
   {
    "duration": 23,
    "start_time": "2022-04-24T07:38:42.630Z"
   },
   {
    "duration": 139,
    "start_time": "2022-04-24T07:38:42.655Z"
   },
   {
    "duration": 8,
    "start_time": "2022-04-24T07:38:42.795Z"
   },
   {
    "duration": 7,
    "start_time": "2022-04-24T07:38:45.462Z"
   },
   {
    "duration": 11,
    "start_time": "2022-04-24T07:39:47.220Z"
   },
   {
    "duration": 4,
    "start_time": "2022-04-24T07:39:54.189Z"
   },
   {
    "duration": 44,
    "start_time": "2022-04-24T07:39:54.195Z"
   },
   {
    "duration": 12,
    "start_time": "2022-04-24T07:39:54.240Z"
   },
   {
    "duration": 13,
    "start_time": "2022-04-24T07:39:54.253Z"
   },
   {
    "duration": 43,
    "start_time": "2022-04-24T07:39:54.268Z"
   },
   {
    "duration": 9,
    "start_time": "2022-04-24T07:39:54.312Z"
   },
   {
    "duration": 22,
    "start_time": "2022-04-24T07:39:54.323Z"
   },
   {
    "duration": 130,
    "start_time": "2022-04-24T07:39:54.347Z"
   },
   {
    "duration": 19,
    "start_time": "2022-04-24T07:39:54.479Z"
   },
   {
    "duration": 7,
    "start_time": "2022-04-24T07:39:54.500Z"
   },
   {
    "duration": 11,
    "start_time": "2022-04-24T07:39:54.510Z"
   },
   {
    "duration": 159,
    "start_time": "2022-04-24T07:39:59.136Z"
   },
   {
    "duration": 116,
    "start_time": "2022-04-24T07:40:04.639Z"
   },
   {
    "duration": 24,
    "start_time": "2022-04-24T07:40:07.653Z"
   },
   {
    "duration": 11466,
    "start_time": "2022-04-24T07:40:14.799Z"
   },
   {
    "duration": 4,
    "start_time": "2022-04-24T07:40:36.696Z"
   },
   {
    "duration": 41,
    "start_time": "2022-04-24T07:40:36.703Z"
   },
   {
    "duration": 12,
    "start_time": "2022-04-24T07:40:36.746Z"
   },
   {
    "duration": 13,
    "start_time": "2022-04-24T07:40:36.759Z"
   },
   {
    "duration": 23,
    "start_time": "2022-04-24T07:40:36.792Z"
   },
   {
    "duration": 9,
    "start_time": "2022-04-24T07:40:36.817Z"
   },
   {
    "duration": 23,
    "start_time": "2022-04-24T07:40:36.828Z"
   },
   {
    "duration": 134,
    "start_time": "2022-04-24T07:40:36.853Z"
   },
   {
    "duration": 9,
    "start_time": "2022-04-24T07:40:36.993Z"
   },
   {
    "duration": 6,
    "start_time": "2022-04-24T07:40:37.004Z"
   },
   {
    "duration": 10,
    "start_time": "2022-04-24T07:40:37.012Z"
   },
   {
    "duration": 79,
    "start_time": "2022-04-24T07:40:37.024Z"
   },
   {
    "duration": 302,
    "start_time": "2022-04-24T07:40:37.105Z"
   },
   {
    "duration": 115,
    "start_time": "2022-04-24T07:40:42.623Z"
   },
   {
    "duration": 22,
    "start_time": "2022-04-24T07:40:44.197Z"
   },
   {
    "duration": 10971,
    "start_time": "2022-04-24T07:40:49.002Z"
   },
   {
    "duration": 262,
    "start_time": "2022-04-24T07:41:19.572Z"
   },
   {
    "duration": 10,
    "start_time": "2022-04-24T07:42:12.917Z"
   },
   {
    "duration": 160,
    "start_time": "2022-04-24T07:42:17.321Z"
   },
   {
    "duration": 33,
    "start_time": "2022-04-24T07:42:20.569Z"
   },
   {
    "duration": 167,
    "start_time": "2022-04-24T07:42:25.994Z"
   },
   {
    "duration": 23,
    "start_time": "2022-04-24T07:42:31.658Z"
   },
   {
    "duration": 14622,
    "start_time": "2022-04-24T07:42:34.356Z"
   },
   {
    "duration": 169,
    "start_time": "2022-04-24T07:43:01.826Z"
   },
   {
    "duration": 186,
    "start_time": "2022-04-24T07:43:16.066Z"
   },
   {
    "duration": 12,
    "start_time": "2022-04-24T07:44:10.282Z"
   },
   {
    "duration": 368,
    "start_time": "2022-04-24T07:44:48.438Z"
   },
   {
    "duration": 157,
    "start_time": "2022-04-24T07:45:07.936Z"
   },
   {
    "duration": 4,
    "start_time": "2022-04-24T07:45:12.448Z"
   },
   {
    "duration": 47,
    "start_time": "2022-04-24T07:45:12.456Z"
   },
   {
    "duration": 14,
    "start_time": "2022-04-24T07:45:12.505Z"
   },
   {
    "duration": 13,
    "start_time": "2022-04-24T07:45:12.520Z"
   },
   {
    "duration": 24,
    "start_time": "2022-04-24T07:45:12.535Z"
   },
   {
    "duration": 38,
    "start_time": "2022-04-24T07:45:12.560Z"
   },
   {
    "duration": 26,
    "start_time": "2022-04-24T07:45:12.599Z"
   },
   {
    "duration": 130,
    "start_time": "2022-04-24T07:45:12.627Z"
   },
   {
    "duration": 10,
    "start_time": "2022-04-24T07:45:12.759Z"
   },
   {
    "duration": 27,
    "start_time": "2022-04-24T07:45:12.770Z"
   },
   {
    "duration": 12,
    "start_time": "2022-04-24T07:45:12.801Z"
   },
   {
    "duration": 184,
    "start_time": "2022-04-24T07:45:12.815Z"
   },
   {
    "duration": 214,
    "start_time": "2022-04-24T07:45:13.002Z"
   },
   {
    "duration": 21,
    "start_time": "2022-04-24T07:45:13.218Z"
   },
   {
    "duration": 11030,
    "start_time": "2022-04-24T07:45:13.240Z"
   },
   {
    "duration": 288,
    "start_time": "2022-04-24T07:45:24.272Z"
   },
   {
    "duration": 11,
    "start_time": "2022-04-24T07:45:24.562Z"
   },
   {
    "duration": 99,
    "start_time": "2022-04-24T07:45:24.575Z"
   },
   {
    "duration": 181,
    "start_time": "2022-04-24T07:45:28.721Z"
   },
   {
    "duration": 66,
    "start_time": "2022-04-24T07:45:51.928Z"
   },
   {
    "duration": 171,
    "start_time": "2022-04-24T07:46:29.951Z"
   },
   {
    "duration": 24,
    "start_time": "2022-04-24T07:46:52.381Z"
   },
   {
    "duration": 14841,
    "start_time": "2022-04-24T07:47:23.272Z"
   },
   {
    "duration": 180,
    "start_time": "2022-04-24T07:48:08.517Z"
   },
   {
    "duration": 187,
    "start_time": "2022-04-24T07:48:48.021Z"
   },
   {
    "duration": 583,
    "start_time": "2022-04-24T07:49:21.862Z"
   }
  ],
  "kernelspec": {
   "display_name": "Python 3",
   "language": "python",
   "name": "python3"
  },
  "language_info": {
   "codemirror_mode": {
    "name": "ipython",
    "version": 3
   },
   "file_extension": ".py",
   "mimetype": "text/x-python",
   "name": "python",
   "nbconvert_exporter": "python",
   "pygments_lexer": "ipython3",
   "version": "3.7.6"
  },
  "toc": {
   "base_numbering": 1,
   "nav_menu": {},
   "number_sections": true,
   "sideBar": true,
   "skip_h1_title": true,
   "title_cell": "Содержание",
   "title_sidebar": "Contents",
   "toc_cell": true,
   "toc_position": {},
   "toc_section_display": true,
   "toc_window_display": true
  }
 },
 "nbformat": 4,
 "nbformat_minor": 2
}
