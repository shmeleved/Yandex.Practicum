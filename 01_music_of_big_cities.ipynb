{
 "cells": [
  {
   "cell_type": "markdown",
   "metadata": {},
   "source": [
    "## <span style=\"color:green\">Привет еще раз!</span>\n",
    "\n",
    "Поздравляю, твой проект принят! Критические замечания исправлены. Желаю успехов в учебе!\n",
    "\n",
    "## <span style=\"color:purple\">Привет, Егор!</span>\n",
    "\n",
    "Меня зовут **Василий Удинкан** и я - ревьювер, буду проверять твой проект.\n",
    "\n",
    "Если не против, я буду обращаться к тебе на \"ТЫ\". Если это неприемлемо, обязательно напиши мне в комментариях – мы прейдем на \"ВЫ\".\n",
    "\n",
    "Спасибо, что сдала проект. В тетради ты сможешь найти мои комментарии. Пострайся учесть эти комментарии в ходе выполнения дальнейших проектов.\n",
    "\n",
    "Обрати внимание, я буду выделять свои комментарии цветом, в зависимости от того, какие действия, важность и особенности тебя ждут в процессе проверки.\n",
    "\n",
    "<div class=\"alert alert-block alert-success\">\n",
    "<h2>Комментарий ревьювера (все отлично)</h2> \n",
    "    \n",
    "Такими комментариями я буду помечать хорошо проделаную работу, а так же хорошо проделаную работу над ошибками.\n",
    "</div>\n",
    "\n",
    "<div class=\"alert alert-block alert-warning\">\n",
    "<h2>Комментарий ревьювера (что можно улучшить)</h2> \n",
    "    \n",
    "После таких комментариев ничего исправлять не нужно, но я дам рекомендации на будущее и подскажу, что можно улучшить.\n",
    "</div>\n",
    "\n",
    "<div class=\"alert alert-block alert-danger\">\n",
    "<h2>Комментарий ревьювера (недочет, который нужно доработать)</h2> \n",
    "    \n",
    "Если ты видишь такой комментарий, значит я указываю тебе на недочёт, его нужно исправить. Без такого исправления я не приму твою работу:)\n",
    "</div>\n",
    "\n",
    "#### Пожалуста, не удаляй мои комментарии. При повторной проверке, я буду ориентироваться на них. \n",
    "\n",
    "###### Можешь под моими комментариями оставлять свои, в которых опиши свои испарвления. Это облегчит процесс проверки и мне, и тебе:) Например, вот так:\n",
    "\n",
    "<div class=\"alert alert-block alert-info\">\n",
    "<b>Комментарий студента: </b>\n",
    "</div>"
   ]
  },
  {
   "cell_type": "markdown",
   "metadata": {},
   "source": [
    "<div class=\"alert alert-block alert-warning\">\n",
    "<h2>Комментарий ревьювера (общий комментарий)</h2> \n",
    "\n",
    "Базовый питон усвоен на отлично, но проект имеет критическое замечание. Его нужно исправить, чтобы я принял проект. Также возвращаю проект обратно, чтобы убедиться - все ли мои комментарии понятны. Если вдруг у тебя возникнут вопросы, то я с радостью отвечу на них\n",
    "</div>"
   ]
  },
  {
   "cell_type": "markdown",
   "metadata": {
    "id": "E0vqbgi9ay0H"
   },
   "source": [
    "# Яндекс.Музыка"
   ]
  },
  {
   "cell_type": "markdown",
   "metadata": {
    "id": "VUC88oWjTJw2"
   },
   "source": [
    "Сравнение Москвы и Петербурга окружено мифами. Например:\n",
    " * Москва — мегаполис, подчинённый жёсткому ритму рабочей недели;\n",
    " * Петербург — культурная столица, со своими вкусами.\n",
    "\n",
    "На данных Яндекс.Музыки вы сравните поведение пользователей двух столиц.\n",
    "\n",
    "**Цель исследования** — проверьте три гипотезы:\n",
    "1. Активность пользователей зависит от дня недели. Причём в Москве и Петербурге это проявляется по-разному.\n",
    "2. В понедельник утром в Москве преобладают одни жанры, а в Петербурге — другие. Так же и вечером пятницы преобладают разные жанры — в зависимости от города. \n",
    "3. Москва и Петербург предпочитают разные жанры музыки. В Москве чаще слушают поп-музыку, в Петербурге — русский рэп.\n",
    "\n",
    "**Ход исследования**\n",
    "\n",
    "Данные о поведении пользователей вы получите из файла `yandex_music_project.csv`. О качестве данных ничего не известно. Поэтому перед проверкой гипотез понадобится обзор данных. \n",
    "\n",
    "Вы проверите данные на ошибки и оцените их влияние на исследование. Затем, на этапе предобработки вы поищете возможность исправить самые критичные ошибки данных.\n",
    " \n",
    "Таким образом, исследование пройдёт в три этапа:\n",
    " 1. Обзор данных.\n",
    " 2. Предобработка данных.\n",
    " 3. Проверка гипотез.\n",
    "\n"
   ]
  },
  {
   "cell_type": "markdown",
   "metadata": {
    "id": "Ml1hmfXC_Zcs"
   },
   "source": [
    "## Обзор данных\n",
    "\n",
    "Составьте первое представление о данных Яндекс.Музыки.\n",
    "\n",
    "\n"
   ]
  },
  {
   "cell_type": "markdown",
   "metadata": {
    "id": "57eAOGIz_Zcs"
   },
   "source": [
    "Основной инструмент аналитика — `pandas`. Импортируйте эту библиотеку."
   ]
  },
  {
   "cell_type": "code",
   "execution_count": 1,
   "metadata": {
    "id": "AXN7PHPN_Zcs"
   },
   "outputs": [],
   "source": [
    "# импорт библиотеки pandas\n",
    "import pandas as pd"
   ]
  },
  {
   "cell_type": "markdown",
   "metadata": {},
   "source": [
    "<div class=\"alert alert-block alert-success\">\n",
    "<h2>Комментарий ревьювера (все отлично)</h2> \n",
    "    \n",
    "Очень здорово, что ты используешь сокращение pd для Pandas, это общепринятое сокращение для этой библиотеки для удобной дальнейшей работы.\n",
    "</div>"
   ]
  },
  {
   "cell_type": "markdown",
   "metadata": {
    "id": "SG23P8tt_Zcs"
   },
   "source": [
    "Прочитайте файл `yandex_music_project.csv` из папки `/datasets` и сохраните его в переменной `df`:"
   ]
  },
  {
   "cell_type": "code",
   "execution_count": 2,
   "metadata": {
    "id": "fFVu7vqh_Zct"
   },
   "outputs": [],
   "source": [
    "# чтение файла с данными и сохранение в df\n",
    "df=pd.read_csv('/datasets/yandex_music_project.csv')"
   ]
  },
  {
   "cell_type": "markdown",
   "metadata": {},
   "source": [
    "<div class=\"alert alert-block alert-success\">\n",
    "<h2>Комментарий ревьювера (все отлично)</h2> \n",
    "    \n",
    "Указан правильный путь к файлу: слэш в начале пути очень важен, так как указывает, что нужно искать файл в корневой папке.\n",
    "</div>"
   ]
  },
  {
   "cell_type": "markdown",
   "metadata": {
    "id": "rDoOMd3uTqnZ"
   },
   "source": [
    "Выведите на экран первые десять строк таблицы:"
   ]
  },
  {
   "cell_type": "code",
   "execution_count": 3,
   "metadata": {
    "id": "oWTVX3gW_Zct",
    "scrolled": true
   },
   "outputs": [
    {
     "data": {
      "text/html": [
       "<div>\n",
       "<style scoped>\n",
       "    .dataframe tbody tr th:only-of-type {\n",
       "        vertical-align: middle;\n",
       "    }\n",
       "\n",
       "    .dataframe tbody tr th {\n",
       "        vertical-align: top;\n",
       "    }\n",
       "\n",
       "    .dataframe thead th {\n",
       "        text-align: right;\n",
       "    }\n",
       "</style>\n",
       "<table border=\"1\" class=\"dataframe\">\n",
       "  <thead>\n",
       "    <tr style=\"text-align: right;\">\n",
       "      <th></th>\n",
       "      <th>userID</th>\n",
       "      <th>Track</th>\n",
       "      <th>artist</th>\n",
       "      <th>genre</th>\n",
       "      <th>City</th>\n",
       "      <th>time</th>\n",
       "      <th>Day</th>\n",
       "    </tr>\n",
       "  </thead>\n",
       "  <tbody>\n",
       "    <tr>\n",
       "      <td>0</td>\n",
       "      <td>FFB692EC</td>\n",
       "      <td>Kamigata To Boots</td>\n",
       "      <td>The Mass Missile</td>\n",
       "      <td>rock</td>\n",
       "      <td>Saint-Petersburg</td>\n",
       "      <td>20:28:33</td>\n",
       "      <td>Wednesday</td>\n",
       "    </tr>\n",
       "    <tr>\n",
       "      <td>1</td>\n",
       "      <td>55204538</td>\n",
       "      <td>Delayed Because of Accident</td>\n",
       "      <td>Andreas Rönnberg</td>\n",
       "      <td>rock</td>\n",
       "      <td>Moscow</td>\n",
       "      <td>14:07:09</td>\n",
       "      <td>Friday</td>\n",
       "    </tr>\n",
       "    <tr>\n",
       "      <td>2</td>\n",
       "      <td>20EC38</td>\n",
       "      <td>Funiculì funiculà</td>\n",
       "      <td>Mario Lanza</td>\n",
       "      <td>pop</td>\n",
       "      <td>Saint-Petersburg</td>\n",
       "      <td>20:58:07</td>\n",
       "      <td>Wednesday</td>\n",
       "    </tr>\n",
       "    <tr>\n",
       "      <td>3</td>\n",
       "      <td>A3DD03C9</td>\n",
       "      <td>Dragons in the Sunset</td>\n",
       "      <td>Fire + Ice</td>\n",
       "      <td>folk</td>\n",
       "      <td>Saint-Petersburg</td>\n",
       "      <td>08:37:09</td>\n",
       "      <td>Monday</td>\n",
       "    </tr>\n",
       "    <tr>\n",
       "      <td>4</td>\n",
       "      <td>E2DC1FAE</td>\n",
       "      <td>Soul People</td>\n",
       "      <td>Space Echo</td>\n",
       "      <td>dance</td>\n",
       "      <td>Moscow</td>\n",
       "      <td>08:34:34</td>\n",
       "      <td>Monday</td>\n",
       "    </tr>\n",
       "    <tr>\n",
       "      <td>5</td>\n",
       "      <td>842029A1</td>\n",
       "      <td>Преданная</td>\n",
       "      <td>IMPERVTOR</td>\n",
       "      <td>rusrap</td>\n",
       "      <td>Saint-Petersburg</td>\n",
       "      <td>13:09:41</td>\n",
       "      <td>Friday</td>\n",
       "    </tr>\n",
       "    <tr>\n",
       "      <td>6</td>\n",
       "      <td>4CB90AA5</td>\n",
       "      <td>True</td>\n",
       "      <td>Roman Messer</td>\n",
       "      <td>dance</td>\n",
       "      <td>Moscow</td>\n",
       "      <td>13:00:07</td>\n",
       "      <td>Wednesday</td>\n",
       "    </tr>\n",
       "    <tr>\n",
       "      <td>7</td>\n",
       "      <td>F03E1C1F</td>\n",
       "      <td>Feeling This Way</td>\n",
       "      <td>Polina Griffith</td>\n",
       "      <td>dance</td>\n",
       "      <td>Moscow</td>\n",
       "      <td>20:47:49</td>\n",
       "      <td>Wednesday</td>\n",
       "    </tr>\n",
       "    <tr>\n",
       "      <td>8</td>\n",
       "      <td>8FA1D3BE</td>\n",
       "      <td>И вновь продолжается бой</td>\n",
       "      <td>NaN</td>\n",
       "      <td>ruspop</td>\n",
       "      <td>Moscow</td>\n",
       "      <td>09:17:40</td>\n",
       "      <td>Friday</td>\n",
       "    </tr>\n",
       "    <tr>\n",
       "      <td>9</td>\n",
       "      <td>E772D5C0</td>\n",
       "      <td>Pessimist</td>\n",
       "      <td>NaN</td>\n",
       "      <td>dance</td>\n",
       "      <td>Saint-Petersburg</td>\n",
       "      <td>21:20:49</td>\n",
       "      <td>Wednesday</td>\n",
       "    </tr>\n",
       "  </tbody>\n",
       "</table>\n",
       "</div>"
      ],
      "text/plain": [
       "     userID                        Track            artist   genre  \\\n",
       "0  FFB692EC            Kamigata To Boots  The Mass Missile    rock   \n",
       "1  55204538  Delayed Because of Accident  Andreas Rönnberg    rock   \n",
       "2    20EC38            Funiculì funiculà       Mario Lanza     pop   \n",
       "3  A3DD03C9        Dragons in the Sunset        Fire + Ice    folk   \n",
       "4  E2DC1FAE                  Soul People        Space Echo   dance   \n",
       "5  842029A1                    Преданная         IMPERVTOR  rusrap   \n",
       "6  4CB90AA5                         True      Roman Messer   dance   \n",
       "7  F03E1C1F             Feeling This Way   Polina Griffith   dance   \n",
       "8  8FA1D3BE     И вновь продолжается бой               NaN  ruspop   \n",
       "9  E772D5C0                    Pessimist               NaN   dance   \n",
       "\n",
       "             City        time        Day  \n",
       "0  Saint-Petersburg  20:28:33  Wednesday  \n",
       "1            Moscow  14:07:09     Friday  \n",
       "2  Saint-Petersburg  20:58:07  Wednesday  \n",
       "3  Saint-Petersburg  08:37:09     Monday  \n",
       "4            Moscow  08:34:34     Monday  \n",
       "5  Saint-Petersburg  13:09:41     Friday  \n",
       "6            Moscow  13:00:07  Wednesday  \n",
       "7            Moscow  20:47:49  Wednesday  \n",
       "8            Moscow  09:17:40     Friday  \n",
       "9  Saint-Petersburg  21:20:49  Wednesday  "
      ]
     },
     "execution_count": 3,
     "metadata": {},
     "output_type": "execute_result"
    }
   ],
   "source": [
    "# получение первых 10 строк таблицы df\n",
    "df.head(10)"
   ]
  },
  {
   "cell_type": "markdown",
   "metadata": {},
   "source": [
    "<div class=\"alert alert-block alert-success\">\n",
    "<h2>Комментарий ревьювера (все отлично)</h2> \n",
    "    \n",
    "Все супер! А метод tail(), который выводит последние n строк.\n",
    "</div>"
   ]
  },
  {
   "cell_type": "markdown",
   "metadata": {
    "id": "EO73Kwic_Zct"
   },
   "source": [
    "Одной командой получить общую информацию о таблице:"
   ]
  },
  {
   "cell_type": "code",
   "execution_count": 4,
   "metadata": {
    "id": "DSf2kIb-_Zct"
   },
   "outputs": [
    {
     "name": "stdout",
     "output_type": "stream",
     "text": [
      "<class 'pandas.core.frame.DataFrame'>\n",
      "RangeIndex: 65079 entries, 0 to 65078\n",
      "Data columns (total 7 columns):\n",
      "  userID    65079 non-null object\n",
      "Track       63848 non-null object\n",
      "artist      57876 non-null object\n",
      "genre       63881 non-null object\n",
      "  City      65079 non-null object\n",
      "time        65079 non-null object\n",
      "Day         65079 non-null object\n",
      "dtypes: object(7)\n",
      "memory usage: 3.5+ MB\n"
     ]
    }
   ],
   "source": [
    "# получение общей информации о данных в таблице df\n",
    "df.info()"
   ]
  },
  {
   "cell_type": "markdown",
   "metadata": {},
   "source": [
    "<div class=\"alert alert-block alert-success\">\n",
    "<h2>Комментарий ревьювера (все отлично)</h2> \n",
    "    \n",
    "Отличный выбор метода - info действительно показывает много информации о датафрейме.\n",
    "</div>"
   ]
  },
  {
   "cell_type": "markdown",
   "metadata": {
    "id": "TaQ2Iwbr_Zct"
   },
   "source": [
    "Итак, в таблице семь столбцов. Тип данных во всех столбцах — `object`.\n",
    "\n",
    "Согласно документации к данным:\n",
    "* `userID` — идентификатор пользователя;\n",
    "* `Track` — название трека;  \n",
    "* `artist` — имя исполнителя;\n",
    "* `genre` — название жанра;\n",
    "* `City` — город пользователя;\n",
    "* `time` — время начала прослушивания;\n",
    "* `Day` — день недели.\n",
    "\n",
    "В названиях колонок видны три нарушения стиля:\n",
    "1. Строчные буквы сочетаются с прописными.\n",
    "2. Встречаются пробелы.\n",
    "3. Найдите ещё одну проблему в названии колонок и опишите её в этом пункте. Ответ - нужно использовать \"змеиный\" стиль, например в случае 'userID' было бы лучше написать 'user_id'\n",
    "\n",
    "\n",
    "\n",
    "Количество значений в столбцах различается. Значит, в данных есть пропущенные значения.\n"
   ]
  },
  {
   "cell_type": "markdown",
   "metadata": {},
   "source": [
    "<div class=\"alert alert-block alert-success\">\n",
    "<h2>Комментарий ревьювера (все отлично)</h2> \n",
    "    \n",
    "Абсолютно правильный ответ на вопрос задания!\n",
    "</div>"
   ]
  },
  {
   "cell_type": "markdown",
   "metadata": {
    "id": "MCB6-dXG_Zct"
   },
   "source": [
    "**Выводы**\n",
    "\n",
    "В каждой строке таблицы — данные о прослушанном треке. Часть колонок описывает саму композицию: название, исполнителя и жанр. Остальные данные рассказывают о пользователе: из какого он города, когда он слушал музыку. \n",
    "\n",
    "Предварительно можно утверждать, что, данных достаточно для проверки гипотез. Но встречаются пропуски в данных, а в названиях колонок — расхождения с хорошим стилем.\n",
    "\n",
    "Чтобы двигаться дальше, нужно устранить проблемы в данных."
   ]
  },
  {
   "cell_type": "markdown",
   "metadata": {
    "id": "SjYF6Ub9_Zct"
   },
   "source": [
    "## Предобработка данных\n",
    "Исправьте стиль в заголовках столбцов, исключите пропуски. Затем проверьте данные на дубликаты."
   ]
  },
  {
   "cell_type": "markdown",
   "metadata": {
    "id": "dIaKXr29_Zct"
   },
   "source": [
    "### Стиль заголовков\n",
    "Выведите на экран названия столбцов:"
   ]
  },
  {
   "cell_type": "code",
   "execution_count": 5,
   "metadata": {
    "id": "oKOTdF_Q_Zct"
   },
   "outputs": [
    {
     "data": {
      "text/plain": [
       "Index(['  userID', 'Track', 'artist', 'genre', '  City  ', 'time', 'Day'], dtype='object')"
      ]
     },
     "execution_count": 5,
     "metadata": {},
     "output_type": "execute_result"
    }
   ],
   "source": [
    "# перечень названий столбцов таблицы df\n",
    "df.columns"
   ]
  },
  {
   "cell_type": "markdown",
   "metadata": {},
   "source": [
    "<div class=\"alert alert-block alert-success\">\n",
    "<h2>Комментарий ревьювера (все отлично)</h2> \n",
    "    \n",
    "Отлично, что здесь не использована функция print() для вывода: ведь это последняя строчка ячейки.\n",
    "</div>"
   ]
  },
  {
   "cell_type": "markdown",
   "metadata": {
    "id": "zj5534cv_Zct"
   },
   "source": [
    "Приведите названия в соответствие с хорошим стилем:\n",
    "* несколько слов в названии запишите в «змеином_регистре»,\n",
    "* все символы сделайте строчными,\n",
    "* устраните пробелы.\n",
    "\n",
    "Для этого переименуйте колонки так:\n",
    "* `'  userID'` → `'user_id'`;\n",
    "* `'Track'` → `'track'`;\n",
    "* `'  City  '` → `'city'`;\n",
    "* `'Day'` → `'day'`."
   ]
  },
  {
   "cell_type": "code",
   "execution_count": 6,
   "metadata": {
    "id": "ISlFqs5y_Zct"
   },
   "outputs": [],
   "source": [
    "# переименование столбцов\n",
    "df  =df.rename(columns = {'  userID' : 'user_id','Track' : 'track','  City  ' : 'city','Day' : 'day'})"
   ]
  },
  {
   "cell_type": "markdown",
   "metadata": {},
   "source": [
    "<div class=\"alert alert-block alert-success\">\n",
    "<h2>Комментарий ревьювера (все отлично)</h2> \n",
    "    \n",
    "Хороший выбор метода - rename сработает без ошибок, даже если изменится порядок столбцов.\n",
    "</div>"
   ]
  },
  {
   "cell_type": "markdown",
   "metadata": {
    "id": "1dqbh00J_Zct"
   },
   "source": [
    "Проверьте результат. Для этого ещё раз выведите на экран названия столбцов:"
   ]
  },
  {
   "cell_type": "code",
   "execution_count": 7,
   "metadata": {
    "id": "d4NOAmTW_Zct"
   },
   "outputs": [
    {
     "data": {
      "text/plain": [
       "Index(['user_id', 'track', 'artist', 'genre', 'city', 'time', 'day'], dtype='object')"
      ]
     },
     "execution_count": 7,
     "metadata": {},
     "output_type": "execute_result"
    }
   ],
   "source": [
    "# проверка результатов - перечень названий столбцов\n",
    "df.columns"
   ]
  },
  {
   "cell_type": "markdown",
   "metadata": {
    "id": "5ISfbcfY_Zct"
   },
   "source": [
    "### Пропуски значений\n",
    "Сначала посчитайте, сколько в таблице пропущенных значений. Для этого достаточно двух методов `pandas`:"
   ]
  },
  {
   "cell_type": "code",
   "execution_count": 8,
   "metadata": {
    "id": "RskX29qr_Zct"
   },
   "outputs": [
    {
     "data": {
      "text/plain": [
       "user_id       0\n",
       "track      1231\n",
       "artist     7203\n",
       "genre      1198\n",
       "city          0\n",
       "time          0\n",
       "day           0\n",
       "dtype: int64"
      ]
     },
     "execution_count": 8,
     "metadata": {},
     "output_type": "execute_result"
    }
   ],
   "source": [
    "# подсчёт пропусков\n",
    "df.isna().sum()"
   ]
  },
  {
   "cell_type": "markdown",
   "metadata": {},
   "source": [
    "<div class=\"alert alert-block alert-success\">\n",
    "<h2>Комментарий ревьювера (все отлично)</h2> \n",
    "    \n",
    "Выбран метод isna() для нахождения пропущенных значений, это отлично! На самом деле, isnull() и isna() делают одно и то же, но использование isna() предпочтительнее.\n",
    "</div>"
   ]
  },
  {
   "cell_type": "markdown",
   "metadata": {
    "id": "qubhgnlO_Zct"
   },
   "source": [
    "Не все пропущенные значения влияют на исследование. Так в `track` и `artist` пропуски не важны для вашей работы. Достаточно заменить их явными обозначениями.\n",
    "\n",
    "Но пропуски в `genre` могут помешать сравнению музыкальных вкусов в Москве и Санкт-Петербурге. На практике было бы правильно установить причину пропусков и восстановить данные. Такой возможности нет в учебном проекте. Придётся:\n",
    "* заполнить и эти пропуски явными обозначениями,\n",
    "* оценить, насколько они повредят расчётам. "
   ]
  },
  {
   "cell_type": "markdown",
   "metadata": {
    "id": "fSv2laPA_Zct"
   },
   "source": [
    "Замените пропущенные значения в столбцах `track`, `artist` и `genre` на строку `'unknown'`. Для этого создайте список `columns_to_replace`, переберите его элементы циклом `for` и для каждого столбца выполните замену пропущенных значений:"
   ]
  },
  {
   "cell_type": "code",
   "execution_count": 9,
   "metadata": {
    "id": "KplB5qWs_Zct"
   },
   "outputs": [],
   "source": [
    "# перебор названий столбцов в цикле и замена пропущенных значений на 'unknown'\n",
    "columns_to_replace=['track','artist','genre']\n",
    "for col in columns_to_replace:\n",
    "    df[col]=df[col].fillna('unknown')"
   ]
  },
  {
   "cell_type": "markdown",
   "metadata": {},
   "source": [
    "<div class=\"alert alert-block alert-success\">\n",
    "<h2>Комментарий ревьювера (все отлично)</h2> \n",
    "    \n",
    "Список `columns_to_replace` сформирован верно, цикл отработал без ошибок.\n",
    "</div>"
   ]
  },
  {
   "cell_type": "markdown",
   "metadata": {
    "id": "Ilsm-MZo_Zct"
   },
   "source": [
    "Убедитесь, что в таблице не осталось пропусков. Для этого ещё раз посчитайте пропущенные значения."
   ]
  },
  {
   "cell_type": "code",
   "execution_count": 10,
   "metadata": {
    "id": "Tq4nYRX4_Zct"
   },
   "outputs": [
    {
     "data": {
      "text/plain": [
       "user_id    0\n",
       "track      0\n",
       "artist     0\n",
       "genre      0\n",
       "city       0\n",
       "time       0\n",
       "day        0\n",
       "dtype: int64"
      ]
     },
     "execution_count": 10,
     "metadata": {},
     "output_type": "execute_result"
    }
   ],
   "source": [
    "# подсчёт пропусков\n",
    "df.isna().sum()"
   ]
  },
  {
   "cell_type": "markdown",
   "metadata": {
    "id": "BWKRtBJ3_Zct"
   },
   "source": [
    "### Дубликаты\n",
    "Посчитайте явные дубликаты в таблице одной командой:"
   ]
  },
  {
   "cell_type": "code",
   "execution_count": 11,
   "metadata": {
    "id": "36eES_S0_Zct"
   },
   "outputs": [
    {
     "data": {
      "text/plain": [
       "3826"
      ]
     },
     "execution_count": 11,
     "metadata": {},
     "output_type": "execute_result"
    }
   ],
   "source": [
    "# подсчёт явных дубликатов\n",
    "df.duplicated().sum()"
   ]
  },
  {
   "cell_type": "markdown",
   "metadata": {
    "id": "Ot25h6XR_Zct"
   },
   "source": [
    "Вызовите специальный метод `pandas`, чтобы удалить явные дубликаты:"
   ]
  },
  {
   "cell_type": "code",
   "execution_count": 12,
   "metadata": {
    "id": "exFHq6tt_Zct"
   },
   "outputs": [],
   "source": [
    "# удаление явных дубликатов (с удалением старых индексов и формированием новых)\n",
    "df=df.drop_duplicates().reset_index(drop=True)"
   ]
  },
  {
   "cell_type": "markdown",
   "metadata": {
    "id": "Im2YwBEG_Zct"
   },
   "source": [
    "Ещё раз посчитайте явные дубликаты в таблице — убедитесь, что полностью от них избавились:"
   ]
  },
  {
   "cell_type": "code",
   "execution_count": 13,
   "metadata": {
    "id": "-8PuNWQ0_Zct"
   },
   "outputs": [
    {
     "data": {
      "text/plain": [
       "0"
      ]
     },
     "execution_count": 13,
     "metadata": {},
     "output_type": "execute_result"
    }
   ],
   "source": [
    "# проверка на отсутствие дубликатов\n",
    "df.duplicated().sum()"
   ]
  },
  {
   "cell_type": "markdown",
   "metadata": {},
   "source": [
    "<div class=\"alert alert-block alert-success\">\n",
    "<h2>Комментарий ревьювера (все отлично)</h2> \n",
    "    \n",
    "Дубликаты верно найдены и удалены оптимальными методами.\n",
    "</div>"
   ]
  },
  {
   "cell_type": "markdown",
   "metadata": {
    "id": "QlFBsxAr_Zct"
   },
   "source": [
    "Теперь избавьтесь от неявных дубликатов в колонке `genre`. Например, название одного и того же жанра может быть записано немного по-разному. Такие ошибки тоже повлияют на результат исследования."
   ]
  },
  {
   "cell_type": "markdown",
   "metadata": {
    "id": "eSjWwsOh_Zct"
   },
   "source": [
    "Выведите на экран список уникальных названий жанров, отсортированный в алфавитном порядке. Для этого:\n",
    "* извлеките нужный столбец датафрейма, \n",
    "* примените к нему метод сортировки,\n",
    "* для отсортированного столбца вызовите метод, который вернёт уникальные значения из столбца."
   ]
  },
  {
   "cell_type": "code",
   "execution_count": 14,
   "metadata": {
    "id": "JIUcqzZN_Zct"
   },
   "outputs": [
    {
     "data": {
      "text/plain": [
       "array(['acid', 'acoustic', 'action', 'adult', 'africa', 'afrikaans',\n",
       "       'alternative', 'alternativepunk', 'ambient', 'americana',\n",
       "       'animated', 'anime', 'arabesk', 'arabic', 'arena',\n",
       "       'argentinetango', 'art', 'audiobook', 'author', 'avantgarde',\n",
       "       'axé', 'baile', 'balkan', 'beats', 'bigroom', 'black', 'bluegrass',\n",
       "       'blues', 'bollywood', 'bossa', 'brazilian', 'breakbeat', 'breaks',\n",
       "       'broadway', 'cantautori', 'cantopop', 'canzone', 'caribbean',\n",
       "       'caucasian', 'celtic', 'chamber', 'chanson', 'children', 'chill',\n",
       "       'chinese', 'choral', 'christian', 'christmas', 'classical',\n",
       "       'classicmetal', 'club', 'colombian', 'comedy', 'conjazz',\n",
       "       'contemporary', 'country', 'cuban', 'dance', 'dancehall',\n",
       "       'dancepop', 'dark', 'death', 'deep', 'deutschrock', 'deutschspr',\n",
       "       'dirty', 'disco', 'dnb', 'documentary', 'downbeat', 'downtempo',\n",
       "       'drum', 'dub', 'dubstep', 'eastern', 'easy', 'electronic',\n",
       "       'electropop', 'emo', 'entehno', 'epicmetal', 'estrada', 'ethnic',\n",
       "       'eurofolk', 'european', 'experimental', 'extrememetal', 'fado',\n",
       "       'fairytail', 'film', 'fitness', 'flamenco', 'folk', 'folklore',\n",
       "       'folkmetal', 'folkrock', 'folktronica', 'forró', 'frankreich',\n",
       "       'französisch', 'french', 'funk', 'future', 'gangsta', 'garage',\n",
       "       'german', 'ghazal', 'gitarre', 'glitch', 'gospel', 'gothic',\n",
       "       'grime', 'grunge', 'gypsy', 'handsup', \"hard'n'heavy\", 'hardcore',\n",
       "       'hardstyle', 'hardtechno', 'hip', 'hip-hop', 'hiphop',\n",
       "       'historisch', 'holiday', 'hop', 'horror', 'house', 'hymn', 'idm',\n",
       "       'independent', 'indian', 'indie', 'indipop', 'industrial',\n",
       "       'inspirational', 'instrumental', 'international', 'irish', 'jam',\n",
       "       'japanese', 'jazz', 'jewish', 'jpop', 'jungle', 'k-pop',\n",
       "       'karadeniz', 'karaoke', 'kayokyoku', 'korean', 'laiko', 'latin',\n",
       "       'latino', 'leftfield', 'local', 'lounge', 'loungeelectronic',\n",
       "       'lovers', 'malaysian', 'mandopop', 'marschmusik', 'meditative',\n",
       "       'mediterranean', 'melodic', 'metal', 'metalcore', 'mexican',\n",
       "       'middle', 'minimal', 'miscellaneous', 'modern', 'mood', 'mpb',\n",
       "       'muslim', 'native', 'neoklassik', 'neue', 'new', 'newage',\n",
       "       'newwave', 'nu', 'nujazz', 'numetal', 'oceania', 'old', 'opera',\n",
       "       'orchestral', 'other', 'piano', 'podcasts', 'pop', 'popdance',\n",
       "       'popelectronic', 'popeurodance', 'poprussian', 'post',\n",
       "       'posthardcore', 'postrock', 'power', 'progmetal', 'progressive',\n",
       "       'psychedelic', 'punjabi', 'punk', 'quebecois', 'ragga', 'ram',\n",
       "       'rancheras', 'rap', 'rave', 'reggae', 'reggaeton', 'regional',\n",
       "       'relax', 'religious', 'retro', 'rhythm', 'rnb', 'rnr', 'rock',\n",
       "       'rockabilly', 'rockalternative', 'rockindie', 'rockother',\n",
       "       'romance', 'roots', 'ruspop', 'rusrap', 'rusrock', 'russian',\n",
       "       'salsa', 'samba', 'scenic', 'schlager', 'self', 'sertanejo',\n",
       "       'shanson', 'shoegazing', 'showtunes', 'singer', 'ska', 'skarock',\n",
       "       'slow', 'smooth', 'soft', 'soul', 'soulful', 'sound', 'soundtrack',\n",
       "       'southern', 'specialty', 'speech', 'spiritual', 'sport',\n",
       "       'stonerrock', 'surf', 'swing', 'synthpop', 'synthrock',\n",
       "       'sängerportrait', 'tango', 'tanzorchester', 'taraftar', 'tatar',\n",
       "       'tech', 'techno', 'teen', 'thrash', 'top', 'traditional',\n",
       "       'tradjazz', 'trance', 'tribal', 'trip', 'triphop', 'tropical',\n",
       "       'türk', 'türkçe', 'ukrrock', 'unknown', 'urban', 'uzbek',\n",
       "       'variété', 'vi', 'videogame', 'vocal', 'western', 'world',\n",
       "       'worldbeat', 'ïîï', 'электроника'], dtype=object)"
      ]
     },
     "execution_count": 14,
     "metadata": {},
     "output_type": "execute_result"
    }
   ],
   "source": [
    "# Просмотр уникальных названий жанров\n",
    "all_genres=df['genre'].sort_values().unique()\n",
    "all_genres"
   ]
  },
  {
   "cell_type": "markdown",
   "metadata": {},
   "source": [
    "<div class=\"alert alert-block alert-success\">\n",
    "<h2>Комментарий ревьювера (все отлично)</h2> \n",
    "    \n",
    "👍\n",
    "</div>"
   ]
  },
  {
   "cell_type": "markdown",
   "metadata": {
    "id": "qej-Qmuo_Zct"
   },
   "source": [
    "Просмотрите список и найдите неявные дубликаты названия `hiphop`. Это могут быть названия с ошибками или альтернативные названия того же жанра.\n",
    "\n",
    "Вы увидите следующие неявные дубликаты:\n",
    "* *hip*,\n",
    "* *hop*,\n",
    "* *hip-hop*.\n",
    "\n",
    "Чтобы очистить от них таблицу, напишите функцию `replace_wrong_genres()` с двумя параметрами: \n",
    "* `wrong_genres` — список дубликатов,\n",
    "* `correct_genre` — строка с правильным значением.\n",
    "\n",
    "Функция должна исправить колонку `genre` в таблице `df`: заменить каждое значение из списка `wrong_genres` на значение из `correct_genre`."
   ]
  },
  {
   "cell_type": "code",
   "execution_count": 15,
   "metadata": {
    "id": "ErNDkmns_Zct"
   },
   "outputs": [],
   "source": [
    "# Функция для замены неявных дубликатов\n",
    "def replace_wrong_genres(wrong_genres,correct_genre):\n",
    "    df['genre'] = df['genre'].replace(wrong_genres, correct_genre)\n",
    "    return df['genre']"
   ]
  },
  {
   "cell_type": "markdown",
   "metadata": {
    "id": "aDoBJxbA_Zct"
   },
   "source": [
    "Вызовите `replace_wrong_genres()` и передайте ей такие аргументы, чтобы она устранила неявные дубликаты: вместо `hip`, `hop` и `hip-hop` в таблице должно быть значение `hiphop`:"
   ]
  },
  {
   "cell_type": "code",
   "execution_count": 16,
   "metadata": {
    "id": "YN5i2hpmSo09"
   },
   "outputs": [
    {
     "data": {
      "text/plain": [
       "0              rock\n",
       "1              rock\n",
       "2               pop\n",
       "3              folk\n",
       "4             dance\n",
       "            ...    \n",
       "61248           rnb\n",
       "61249    electronic\n",
       "61250    industrial\n",
       "61251          rock\n",
       "61252       country\n",
       "Name: genre, Length: 61253, dtype: object"
      ]
     },
     "execution_count": 16,
     "metadata": {},
     "output_type": "execute_result"
    }
   ],
   "source": [
    "# Устранение неявных дубликатов\n",
    "wrong_genres_1 = ['hip','hop','hip-hop']\n",
    "correct_genre_1 = 'hiphop'\n",
    "\n",
    "wrong_genres_2 = 'электроника'\n",
    "correct_genre_2 = 'electronic'\n",
    "\n",
    "replace_wrong_genres(wrong_genres_1,correct_genre_2)\n",
    "replace_wrong_genres(wrong_genres_2,correct_genre_2)"
   ]
  },
  {
   "cell_type": "markdown",
   "metadata": {},
   "source": [
    "<div class=\"alert alert-block alert-success\">\n",
    "<h2>Комментарий ревьювера (все отлично)</h2> \n",
    "    \n",
    "Функция написана верно! Правильно применена, неявные дубликаты устранены.\n",
    "</div>"
   ]
  },
  {
   "cell_type": "markdown",
   "metadata": {
    "id": "zQKF16_RG15m"
   },
   "source": [
    "Проверьте, что заменили неправильные названия:\n",
    "\n",
    "*   hip\n",
    "*   hop\n",
    "*   hip-hop\n",
    "\n",
    "Выведите отсортированный список уникальных значений столбца `genre`:"
   ]
  },
  {
   "cell_type": "code",
   "execution_count": 17,
   "metadata": {
    "id": "wvixALnFG15m"
   },
   "outputs": [
    {
     "data": {
      "text/plain": [
       "array(['acid', 'acoustic', 'action', 'adult', 'africa', 'afrikaans',\n",
       "       'alternative', 'alternativepunk', 'ambient', 'americana',\n",
       "       'animated', 'anime', 'arabesk', 'arabic', 'arena',\n",
       "       'argentinetango', 'art', 'audiobook', 'author', 'avantgarde',\n",
       "       'axé', 'baile', 'balkan', 'beats', 'bigroom', 'black', 'bluegrass',\n",
       "       'blues', 'bollywood', 'bossa', 'brazilian', 'breakbeat', 'breaks',\n",
       "       'broadway', 'cantautori', 'cantopop', 'canzone', 'caribbean',\n",
       "       'caucasian', 'celtic', 'chamber', 'chanson', 'children', 'chill',\n",
       "       'chinese', 'choral', 'christian', 'christmas', 'classical',\n",
       "       'classicmetal', 'club', 'colombian', 'comedy', 'conjazz',\n",
       "       'contemporary', 'country', 'cuban', 'dance', 'dancehall',\n",
       "       'dancepop', 'dark', 'death', 'deep', 'deutschrock', 'deutschspr',\n",
       "       'dirty', 'disco', 'dnb', 'documentary', 'downbeat', 'downtempo',\n",
       "       'drum', 'dub', 'dubstep', 'eastern', 'easy', 'electronic',\n",
       "       'electropop', 'emo', 'entehno', 'epicmetal', 'estrada', 'ethnic',\n",
       "       'eurofolk', 'european', 'experimental', 'extrememetal', 'fado',\n",
       "       'fairytail', 'film', 'fitness', 'flamenco', 'folk', 'folklore',\n",
       "       'folkmetal', 'folkrock', 'folktronica', 'forró', 'frankreich',\n",
       "       'französisch', 'french', 'funk', 'future', 'gangsta', 'garage',\n",
       "       'german', 'ghazal', 'gitarre', 'glitch', 'gospel', 'gothic',\n",
       "       'grime', 'grunge', 'gypsy', 'handsup', \"hard'n'heavy\", 'hardcore',\n",
       "       'hardstyle', 'hardtechno', 'hiphop', 'historisch', 'holiday',\n",
       "       'horror', 'house', 'hymn', 'idm', 'independent', 'indian', 'indie',\n",
       "       'indipop', 'industrial', 'inspirational', 'instrumental',\n",
       "       'international', 'irish', 'jam', 'japanese', 'jazz', 'jewish',\n",
       "       'jpop', 'jungle', 'k-pop', 'karadeniz', 'karaoke', 'kayokyoku',\n",
       "       'korean', 'laiko', 'latin', 'latino', 'leftfield', 'local',\n",
       "       'lounge', 'loungeelectronic', 'lovers', 'malaysian', 'mandopop',\n",
       "       'marschmusik', 'meditative', 'mediterranean', 'melodic', 'metal',\n",
       "       'metalcore', 'mexican', 'middle', 'minimal', 'miscellaneous',\n",
       "       'modern', 'mood', 'mpb', 'muslim', 'native', 'neoklassik', 'neue',\n",
       "       'new', 'newage', 'newwave', 'nu', 'nujazz', 'numetal', 'oceania',\n",
       "       'old', 'opera', 'orchestral', 'other', 'piano', 'podcasts', 'pop',\n",
       "       'popdance', 'popelectronic', 'popeurodance', 'poprussian', 'post',\n",
       "       'posthardcore', 'postrock', 'power', 'progmetal', 'progressive',\n",
       "       'psychedelic', 'punjabi', 'punk', 'quebecois', 'ragga', 'ram',\n",
       "       'rancheras', 'rap', 'rave', 'reggae', 'reggaeton', 'regional',\n",
       "       'relax', 'religious', 'retro', 'rhythm', 'rnb', 'rnr', 'rock',\n",
       "       'rockabilly', 'rockalternative', 'rockindie', 'rockother',\n",
       "       'romance', 'roots', 'ruspop', 'rusrap', 'rusrock', 'russian',\n",
       "       'salsa', 'samba', 'scenic', 'schlager', 'self', 'sertanejo',\n",
       "       'shanson', 'shoegazing', 'showtunes', 'singer', 'ska', 'skarock',\n",
       "       'slow', 'smooth', 'soft', 'soul', 'soulful', 'sound', 'soundtrack',\n",
       "       'southern', 'specialty', 'speech', 'spiritual', 'sport',\n",
       "       'stonerrock', 'surf', 'swing', 'synthpop', 'synthrock',\n",
       "       'sängerportrait', 'tango', 'tanzorchester', 'taraftar', 'tatar',\n",
       "       'tech', 'techno', 'teen', 'thrash', 'top', 'traditional',\n",
       "       'tradjazz', 'trance', 'tribal', 'trip', 'triphop', 'tropical',\n",
       "       'türk', 'türkçe', 'ukrrock', 'unknown', 'urban', 'uzbek',\n",
       "       'variété', 'vi', 'videogame', 'vocal', 'western', 'world',\n",
       "       'worldbeat', 'ïîï'], dtype=object)"
      ]
     },
     "execution_count": 17,
     "metadata": {},
     "output_type": "execute_result"
    }
   ],
   "source": [
    "# Проверка на неявные дубликаты\n",
    "all_genres=df['genre'].sort_values().unique()\n",
    "all_genres"
   ]
  },
  {
   "cell_type": "markdown",
   "metadata": {
    "id": "jz6a9-7HQUDd"
   },
   "source": [
    "**Выводы**\n",
    "\n",
    "Предобработка обнаружила три проблемы в данных:\n",
    "\n",
    "- нарушения в стиле заголовков,\n",
    "- пропущенные значения,\n",
    "- дубликаты — явные и неявные.\n",
    "\n",
    "Вы исправили заголовки, чтобы упростить работу с таблицей. Без дубликатов исследование станет более точным.\n",
    "\n",
    "Пропущенные значения вы заменили на `'unknown'`. Ещё предстоит увидеть, не повредят ли исследованию пропуски в колонке `genre`.\n",
    "\n",
    "Теперь можно перейти к проверке гипотез. "
   ]
  },
  {
   "cell_type": "markdown",
   "metadata": {
    "id": "WttZHXH0SqKk"
   },
   "source": [
    "## Проверка гипотез"
   ]
  },
  {
   "cell_type": "markdown",
   "metadata": {
    "id": "Im936VVi_Zcu"
   },
   "source": [
    "### Сравнение поведения пользователей двух столиц"
   ]
  },
  {
   "cell_type": "markdown",
   "metadata": {
    "id": "nwt_MuaL_Zcu"
   },
   "source": [
    "Первая гипотеза утверждает, что пользователи по-разному слушают музыку в Москве и Санкт-Петербурге. Проверьте это предположение по данным о трёх днях недели — понедельнике, среде и пятнице. Для этого:\n",
    "\n",
    "* Разделите пользователей Москвы и Санкт-Петербурга\n",
    "* Сравните, сколько треков послушала каждая группа пользователей в понедельник, среду и пятницу.\n"
   ]
  },
  {
   "cell_type": "markdown",
   "metadata": {
    "id": "8Dw_YMmT_Zcu"
   },
   "source": [
    "Для тренировки сначала выполните каждый из расчётов по отдельности. \n",
    "\n",
    "Оцените активность пользователей в каждом городе. Сгруппируйте данные по городу и посчитайте прослушивания в каждой группе.\n",
    "\n"
   ]
  },
  {
   "cell_type": "code",
   "execution_count": 18,
   "metadata": {
    "id": "0_Qs96oh_Zcu"
   },
   "outputs": [
    {
     "data": {
      "text/plain": [
       "city\n",
       "Moscow              42741\n",
       "Saint-Petersburg    18512\n",
       "Name: city, dtype: int64"
      ]
     },
     "execution_count": 18,
     "metadata": {},
     "output_type": "execute_result"
    }
   ],
   "source": [
    "# Подсчёт прослушиваний в каждом городе\n",
    "df.groupby('city')['city'].count()"
   ]
  },
  {
   "cell_type": "markdown",
   "metadata": {},
   "source": [
    "<div class=\"alert alert-block alert-success\">\n",
    "<h2>Комментарий ревьювера (все отлично)</h2> \n",
    "    \n",
    "Отличная группировка.\n",
    "</div>"
   ]
  },
  {
   "cell_type": "markdown",
   "metadata": {
    "id": "dzli3w8o_Zcu"
   },
   "source": [
    "В Москве прослушиваний больше, чем в Петербурге. Из этого не следует, что московские пользователи чаще слушают музыку. Просто самих пользователей в Москве больше.\n",
    "\n",
    "Теперь сгруппируйте данные по дню недели и подсчитайте прослушивания в понедельник, среду и пятницу. Учтите, что в данных есть информация только о прослушиваниях только за эти дни.\n"
   ]
  },
  {
   "cell_type": "code",
   "execution_count": 19,
   "metadata": {
    "id": "uZMKjiJz_Zcu"
   },
   "outputs": [
    {
     "data": {
      "text/plain": [
       "day\n",
       "Friday       21840\n",
       "Monday       21354\n",
       "Wednesday    18059\n",
       "Name: day, dtype: int64"
      ]
     },
     "execution_count": 19,
     "metadata": {},
     "output_type": "execute_result"
    }
   ],
   "source": [
    "# Подсчёт прослушиваний в каждый из трёх дней\n",
    "df.groupby('day')['day'].count()"
   ]
  },
  {
   "cell_type": "markdown",
   "metadata": {},
   "source": [
    "<div class=\"alert alert-block alert-success\">\n",
    "<h2>Комментарий ревьювера (все отлично)</h2> \n",
    "    \n",
    "👍\n",
    "</div>"
   ]
  },
  {
   "cell_type": "markdown",
   "metadata": {
    "id": "cC2tNrlL_Zcu"
   },
   "source": [
    "В среднем пользователи из двух городов менее активны по средам. Но картина может измениться, если рассмотреть каждый город в отдельности."
   ]
  },
  {
   "cell_type": "markdown",
   "metadata": {
    "id": "POzs8bGa_Zcu"
   },
   "source": [
    "Вы видели, как работает группировка по городу и по дням недели. Теперь напишите функцию, которая объединит два эти расчёта.\n",
    "\n",
    "Создайте функцию `number_tracks()`, которая посчитает прослушивания для заданного дня и города. Ей понадобятся два параметра:\n",
    "* день недели,\n",
    "* название города.\n",
    "\n",
    "В функции сохраните в переменную строки исходной таблицы, у которых значение:\n",
    "  * в колонке `day` равно параметру `day`,\n",
    "  * в колонке `city` равно параметру `city`.\n",
    "\n",
    "Для этого примените последовательную фильтрацию с логической индексацией.\n",
    "\n",
    "Затем посчитайте значения в столбце `user_id` получившейся таблицы. Результат сохраните в новую переменную. Верните эту переменную из функции."
   ]
  },
  {
   "cell_type": "code",
   "execution_count": 20,
   "metadata": {
    "id": "Nz3GdQB1_Zcu"
   },
   "outputs": [],
   "source": [
    "# <создание функции number_tracks()>\n",
    "def number_tracks(day,city):\n",
    "    track_list=df[df['day']==day]\n",
    "    track_list=track_list[track_list['city']==city]\n",
    "    track_list_count=track_list['user_id'].count()\n",
    "    return track_list_count\n",
    "# Объявляется функция с двумя параметрами: day, city.\n",
    "# В переменной track_list сохраняются те строки таблицы df, для которых \n",
    "# значение в столбце 'day' равно параметру day и одновременно значение\n",
    "# в столбце 'city' равно параметру city (используйте последовательную фильтрацию\n",
    "# с помощью логической индексации).\n",
    "# В переменной track_list_count сохраняется число значений столбца 'user_id',\n",
    "# рассчитанное методом count() для таблицы track_list.\n",
    "# Функция возвращает число - значение track_list_count.\n",
    "\n",
    "# Функция для подсчёта прослушиваний для конкретного города и дня.\n",
    "# С помощью последовательной фильтрации с логической индексацией она \n",
    "# сначала получит из исходной таблицы строки с нужным днём,\n",
    "# затем из результата отфильтрует строки с нужным городом,\n",
    "# методом count() посчитает количество значений в колонке user_id. \n",
    "# Это количество функция вернёт в качестве результата"
   ]
  },
  {
   "cell_type": "markdown",
   "metadata": {},
   "source": [
    "<div class=\"alert alert-block alert-success\">\n",
    "<h2>Комментарий ревьювера (все отлично)</h2> \n",
    "\n",
    "Твоя функция полностью выполняет свои задачи.\n",
    "</div>"
   ]
  },
  {
   "cell_type": "markdown",
   "metadata": {
    "id": "ytf7xFrFJQ2r"
   },
   "source": [
    "Вызовите `number_tracks()` шесть раз, меняя значение параметров — так, чтобы получить данные для каждого города в каждый из трёх дней."
   ]
  },
  {
   "cell_type": "code",
   "execution_count": 21,
   "metadata": {
    "id": "rJcRATNQ_Zcu"
   },
   "outputs": [
    {
     "data": {
      "text/plain": [
       "15740"
      ]
     },
     "execution_count": 21,
     "metadata": {},
     "output_type": "execute_result"
    }
   ],
   "source": [
    "# количество прослушиваний в Москве по понедельникам\n",
    "number_tracks('Monday','Moscow')"
   ]
  },
  {
   "cell_type": "code",
   "execution_count": 22,
   "metadata": {
    "id": "hq_ncZ5T_Zcu"
   },
   "outputs": [
    {
     "data": {
      "text/plain": [
       "5614"
      ]
     },
     "execution_count": 22,
     "metadata": {},
     "output_type": "execute_result"
    }
   ],
   "source": [
    "# количество прослушиваний в Санкт-Петербурге по понедельникам\n",
    "number_tracks('Monday','Saint-Petersburg')"
   ]
  },
  {
   "cell_type": "code",
   "execution_count": 23,
   "metadata": {
    "id": "_NTy2VPU_Zcu"
   },
   "outputs": [
    {
     "data": {
      "text/plain": [
       "11056"
      ]
     },
     "execution_count": 23,
     "metadata": {},
     "output_type": "execute_result"
    }
   ],
   "source": [
    "# количество прослушиваний в Москве по средам\n",
    "number_tracks('Wednesday','Moscow')"
   ]
  },
  {
   "cell_type": "code",
   "execution_count": 24,
   "metadata": {
    "id": "j2y3TAwo_Zcu"
   },
   "outputs": [
    {
     "data": {
      "text/plain": [
       "7003"
      ]
     },
     "execution_count": 24,
     "metadata": {},
     "output_type": "execute_result"
    }
   ],
   "source": [
    "# количество прослушиваний в Санкт-Петербурге по средам\n",
    "number_tracks('Wednesday','Saint-Petersburg')"
   ]
  },
  {
   "cell_type": "code",
   "execution_count": 25,
   "metadata": {
    "id": "vYDw5u_K_Zcu"
   },
   "outputs": [
    {
     "data": {
      "text/plain": [
       "15945"
      ]
     },
     "execution_count": 25,
     "metadata": {},
     "output_type": "execute_result"
    }
   ],
   "source": [
    "# количество прослушиваний в Москве по пятницам\n",
    "number_tracks('Friday','Moscow')"
   ]
  },
  {
   "cell_type": "code",
   "execution_count": 26,
   "metadata": {
    "id": "8_yzFtW3_Zcu"
   },
   "outputs": [
    {
     "data": {
      "text/plain": [
       "5895"
      ]
     },
     "execution_count": 26,
     "metadata": {},
     "output_type": "execute_result"
    }
   ],
   "source": [
    "# количество прослушиваний в Санкт-Петербурге по пятницам\n",
    "number_tracks('Friday','Saint-Petersburg')"
   ]
  },
  {
   "cell_type": "markdown",
   "metadata": {},
   "source": [
    "<div class=\"alert alert-block alert-success\">\n",
    "<h2>Комментарий ревьювера (все отлично)</h2> \n",
    "\n",
    "Все верно посчитано.\n",
    "</div>"
   ]
  },
  {
   "cell_type": "markdown",
   "metadata": {
    "id": "7QXffbO-_Zcu"
   },
   "source": [
    "Создайте c помощью конструктора `pd.DataFrame` таблицу, где\n",
    "* названия колонок — `['city', 'monday', 'wednesday', 'friday']`;\n",
    "* данные — результаты, которые вы получили с помощью `number_tracks`."
   ]
  },
  {
   "cell_type": "code",
   "execution_count": 27,
   "metadata": {
    "id": "APAcLpOr_Zcu"
   },
   "outputs": [
    {
     "data": {
      "text/html": [
       "<div>\n",
       "<style scoped>\n",
       "    .dataframe tbody tr th:only-of-type {\n",
       "        vertical-align: middle;\n",
       "    }\n",
       "\n",
       "    .dataframe tbody tr th {\n",
       "        vertical-align: top;\n",
       "    }\n",
       "\n",
       "    .dataframe thead th {\n",
       "        text-align: right;\n",
       "    }\n",
       "</style>\n",
       "<table border=\"1\" class=\"dataframe\">\n",
       "  <thead>\n",
       "    <tr style=\"text-align: right;\">\n",
       "      <th></th>\n",
       "      <th>city</th>\n",
       "      <th>monday</th>\n",
       "      <th>wednesday</th>\n",
       "      <th>friday</th>\n",
       "    </tr>\n",
       "  </thead>\n",
       "  <tbody>\n",
       "    <tr>\n",
       "      <td>0</td>\n",
       "      <td>Moscow</td>\n",
       "      <td>15740</td>\n",
       "      <td>11056</td>\n",
       "      <td>15945</td>\n",
       "    </tr>\n",
       "    <tr>\n",
       "      <td>1</td>\n",
       "      <td>Saint-Petersburg</td>\n",
       "      <td>5614</td>\n",
       "      <td>7003</td>\n",
       "      <td>5895</td>\n",
       "    </tr>\n",
       "  </tbody>\n",
       "</table>\n",
       "</div>"
      ],
      "text/plain": [
       "               city  monday  wednesday  friday\n",
       "0            Moscow   15740      11056   15945\n",
       "1  Saint-Petersburg    5614       7003    5895"
      ]
     },
     "execution_count": 27,
     "metadata": {},
     "output_type": "execute_result"
    }
   ],
   "source": [
    "# Таблица с результатами\n",
    "columns_names = ['city', 'monday', 'wednesday', 'friday']\n",
    "counts = [\n",
    "    ['Moscow', 15740, 11056, 15945],\n",
    "    ['Saint-Petersburg', 5614, 7003, 5895]\n",
    "]\n",
    "\n",
    "table = pd.DataFrame(data = counts, columns = columns_names)\n",
    "table"
   ]
  },
  {
   "cell_type": "markdown",
   "metadata": {},
   "source": [
    "<div class=\"alert alert-block alert-success\">\n",
    "<h2>Комментарий ревьювера (все отлично)</h2> \n",
    "\n",
    "Табличный вид представления данных более нагляден. В следующих спринтах ты изучишь более наглядный способ представления данных – графики и диаграммы.\n",
    "</div>"
   ]
  },
  {
   "cell_type": "markdown",
   "metadata": {
    "id": "-EgPIHYu_Zcu"
   },
   "source": [
    "**Выводы**\n",
    "\n",
    "Данные показывают разницу поведения пользователей:\n",
    "\n",
    "- В Москве пик прослушиваний приходится на понедельник и пятницу, а в среду заметен спад.\n",
    "- В Петербурге, наоборот, больше слушают музыку по средам. Активность в понедельник и пятницу здесь почти в равной мере уступает среде.\n",
    "\n",
    "Значит, данные говорят в пользу первой гипотезы."
   ]
  },
  {
   "cell_type": "markdown",
   "metadata": {
    "id": "atZAxtq4_Zcu"
   },
   "source": [
    "### Музыка в начале и в конце недели"
   ]
  },
  {
   "cell_type": "markdown",
   "metadata": {
    "id": "eXrQqXFH_Zcu"
   },
   "source": [
    "Согласно второй гипотезе, утром в понедельник в Москве преобладают одни жанры, а в Петербурге — другие. Так же и вечером пятницы преобладают разные жанры — в зависимости от города."
   ]
  },
  {
   "cell_type": "markdown",
   "metadata": {
    "id": "S8UcW6Hw_Zcu"
   },
   "source": [
    "Сохраните таблицы с данными в две переменные:\n",
    "* по Москве — в `moscow_general`;\n",
    "* по Санкт-Петербургу — в `spb_general`."
   ]
  },
  {
   "cell_type": "code",
   "execution_count": 28,
   "metadata": {
    "id": "qeaFfM_P_Zcu"
   },
   "outputs": [],
   "source": [
    "# получение таблицы moscow_general из тех строк таблицы df, \n",
    "# для которых значение в столбце 'city' равно 'Moscow'\n",
    "moscow_general = df[df['city'] == 'Moscow']"
   ]
  },
  {
   "cell_type": "code",
   "execution_count": 29,
   "metadata": {
    "id": "ORaVRKto_Zcu"
   },
   "outputs": [],
   "source": [
    "# получение таблицы spb_general из тех строк таблицы df,\n",
    "# для которых значение в столбце 'city' равно 'Saint-Petersburg'\n",
    "spb_general = df[df['city'] == 'Saint-Petersburg']"
   ]
  },
  {
   "cell_type": "markdown",
   "metadata": {
    "id": "MEJV-CX2_Zcu"
   },
   "source": [
    "Создайте функцию `genre_weekday()` с четырьмя параметрами:\n",
    "* таблица (датафрейм) с данными,\n",
    "* день недели,\n",
    "* начальная временная метка в формате 'hh:mm', \n",
    "* последняя временная метка в формате 'hh:mm'.\n",
    "\n",
    "Функция должна вернуть информацию о топ-10 жанров тех треков, которые прослушивали в указанный день, в промежутке между двумя отметками времени."
   ]
  },
  {
   "cell_type": "code",
   "execution_count": 30,
   "metadata": {
    "id": "laJT9BYl_Zcu"
   },
   "outputs": [],
   "source": [
    "def genre_weekday(table, day, time1, time2):\n",
    "    genre_df = table[table['day'] == day]\n",
    "    genre_df = genre_df[genre_df['time'] > time1]\n",
    "    genre_df = genre_df[genre_df['time'] < time2]\n",
    "    genre_df_count = genre_df.groupby('genre')['genre'].count()\n",
    "    genre_df_sorted = genre_df_count.sort_values(ascending=False)\n",
    "    return genre_df_sorted.head(10)\n",
    "    \n",
    "# Объявление функции genre_weekday() с параметрами table, day, time1, time2,\n",
    "# которая возвращает информацию о самых популярных жанрах в указанный день в\n",
    "# заданное время:\n",
    "# 1) в переменную genre_df сохраняются те строки переданного датафрейма table, для\n",
    "#    которых одновременно:\n",
    "#    - значение в столбце day равно значению аргумента day\n",
    "#    - значение в столбце time больше значения аргумента time1\n",
    "#    - значение в столбце time меньше значения аргумента time2\n",
    "#    Используйте последовательную фильтрацию с помощью логической индексации.\n",
    "# 2) сгруппировать датафрейм genre_df по столбцу genre, взять один из его\n",
    "#    столбцов и посчитать методом count() количество записей для каждого из\n",
    "#    присутствующих жанров, получившийся Series записать в переменную\n",
    "#    genre_df_count\n",
    "# 3) отсортировать genre_df_count по убыванию встречаемости и сохранить\n",
    "#    в переменную genre_df_sorted\n",
    "# 4) вернуть Series из 10 первых значений genre_df_sorted, это будут топ-10\n",
    "#    популярных жанров (в указанный день, в заданное время)"
   ]
  },
  {
   "cell_type": "markdown",
   "metadata": {},
   "source": [
    "<div class=\"alert alert-block alert-danger\">\n",
    "<h2>Комментарий ревьювера (недочет, который нужно доработать)</h2> \n",
    "    \n",
    "Функция выполняется ошибочно. Суть в том, что ты переменной genre_df постоянно присваиваешь разные фильтрации table без учета предыдущих шагов. Также не стоит писать функцию display после return.\n",
    "</div>"
   ]
  },
  {
   "cell_type": "markdown",
   "metadata": {
    "id": "la2s2_PF_Zcu"
   },
   "source": [
    "Cравните результаты функции `genre_weekday()` для Москвы и Санкт-Петербурга в понедельник утром (с 7:00 до 11:00) и в пятницу вечером (с 17:00 до 23:00):"
   ]
  },
  {
   "cell_type": "code",
   "execution_count": 31,
   "metadata": {
    "id": "yz7itPUQ_Zcu"
   },
   "outputs": [
    {
     "data": {
      "text/plain": [
       "genre\n",
       "pop            781\n",
       "electronic     762\n",
       "dance          549\n",
       "rock           474\n",
       "ruspop         186\n",
       "world          181\n",
       "rusrap         175\n",
       "alternative    164\n",
       "unknown        161\n",
       "classical      157\n",
       "Name: genre, dtype: int64"
      ]
     },
     "execution_count": 31,
     "metadata": {},
     "output_type": "execute_result"
    }
   ],
   "source": [
    "# вызов функции для утра понедельника в Москве (вместо df — таблица moscow_general)\n",
    "# объекты, хранящие время, являются строками и сравниваются как строки\n",
    "# пример вызова: genre_weekday(moscow_general, 'Monday', '07:00', '11:00')\n",
    "genre_weekday(moscow_general, 'Monday', '07:00', '11:00')"
   ]
  },
  {
   "cell_type": "code",
   "execution_count": 32,
   "metadata": {
    "id": "kwUcHPdy_Zcu"
   },
   "outputs": [
    {
     "data": {
      "text/plain": [
       "genre\n",
       "electronic     226\n",
       "pop            218\n",
       "dance          182\n",
       "rock           162\n",
       "ruspop          64\n",
       "alternative     58\n",
       "rusrap          55\n",
       "jazz            44\n",
       "classical       40\n",
       "world           36\n",
       "Name: genre, dtype: int64"
      ]
     },
     "execution_count": 32,
     "metadata": {},
     "output_type": "execute_result"
    }
   ],
   "source": [
    "# вызов функции для утра понедельника в Петербурге (вместо df — таблица spb_general)\n",
    "genre_weekday(spb_general, 'Monday', '07:00', '11:00')"
   ]
  },
  {
   "cell_type": "code",
   "execution_count": 33,
   "metadata": {
    "id": "EzXVRE1o_Zcu"
   },
   "outputs": [
    {
     "data": {
      "text/plain": [
       "genre\n",
       "electronic     749\n",
       "pop            713\n",
       "rock           517\n",
       "dance          495\n",
       "world          208\n",
       "ruspop         170\n",
       "alternative    163\n",
       "classical      163\n",
       "rusrap         142\n",
       "jazz           111\n",
       "Name: genre, dtype: int64"
      ]
     },
     "execution_count": 33,
     "metadata": {},
     "output_type": "execute_result"
    }
   ],
   "source": [
    "# вызов функции для вечера пятницы в Москве\n",
    "genre_weekday(moscow_general, 'Friday', '17:00', '23:00')"
   ]
  },
  {
   "cell_type": "code",
   "execution_count": 34,
   "metadata": {
    "id": "JZaEKu5v_Zcu"
   },
   "outputs": [
    {
     "data": {
      "text/plain": [
       "genre\n",
       "electronic     310\n",
       "pop            256\n",
       "rock           216\n",
       "dance          210\n",
       "alternative     63\n",
       "jazz            61\n",
       "classical       60\n",
       "rusrap          59\n",
       "world           54\n",
       "ruspop          47\n",
       "Name: genre, dtype: int64"
      ]
     },
     "execution_count": 34,
     "metadata": {},
     "output_type": "execute_result"
    }
   ],
   "source": [
    "# вызов функции для вечера пятницы в Петербурге\n",
    "genre_weekday(spb_general, 'Friday', '17:00', '23:00')"
   ]
  },
  {
   "cell_type": "markdown",
   "metadata": {},
   "source": [
    "<div class=\"alert alert-block alert-success\">\n",
    "<h2>Комментарий ревьювера v2 (все отлично)</h2> \n",
    "\n",
    "С помощью функции мы получили всю нужную информацию! Теперь все правильно.\n",
    "</div>"
   ]
  },
  {
   "cell_type": "markdown",
   "metadata": {
    "id": "wrCe4MNX_Zcu"
   },
   "source": [
    "**Выводы**\n",
    "\n",
    "Если сравнить топ-10 жанров в понедельник утром, можно сделать такие выводы:\n",
    "\n",
    "1. В Москве и Петербурге слушают похожую музыку. Единственное отличие — в московский рейтинг вошёл жанр “world”, а в петербургский — джаз и классика.\n",
    "\n",
    "2. В Москве пропущенных значений оказалось так много, что значение `'unknown'` заняло десятое место среди самых популярных жанров. Значит, пропущенные значения занимают существенную долю в данных и угрожают достоверности исследования.\n",
    "\n",
    "Вечер пятницы не меняет эту картину. Некоторые жанры поднимаются немного выше, другие спускаются, но в целом топ-10 остаётся тем же самым.\n",
    "\n",
    "Таким образом, вторая гипотеза подтвердилась лишь частично:\n",
    "* Пользователи слушают похожую музыку в начале недели и в конце.\n",
    "* Разница между Москвой и Петербургом не слишком выражена. В Москве чаще слушают русскую популярную музыку, в Петербурге — джаз.\n",
    "\n",
    "Однако пропуски в данных ставят под сомнение этот результат. В Москве их так много, что рейтинг топ-10 мог бы выглядеть иначе, если бы не утерянные  данные о жанрах."
   ]
  },
  {
   "cell_type": "markdown",
   "metadata": {
    "id": "JolODAqr_Zcu"
   },
   "source": [
    "### Жанровые предпочтения в Москве и Петербурге\n",
    "\n",
    "Гипотеза: Петербург — столица рэпа, музыку этого жанра там слушают чаще, чем в Москве.  А Москва — город контрастов, в котором, тем не менее, преобладает поп-музыка."
   ]
  },
  {
   "cell_type": "markdown",
   "metadata": {
    "id": "DlegSvaT_Zcu"
   },
   "source": [
    "Сгруппируйте таблицу `moscow_general` по жанру и посчитайте прослушивания треков каждого жанра методом `count()`. Затем отсортируйте результат в порядке убывания и сохраните его в таблице `moscow_genres`."
   ]
  },
  {
   "cell_type": "code",
   "execution_count": 35,
   "metadata": {
    "id": "r19lIPke_Zcu"
   },
   "outputs": [],
   "source": [
    "# одной строкой: группировка таблицы moscow_general по столбцу 'genre', \n",
    "# подсчёт числа значений 'genre' в этой группировке методом count(), \n",
    "# сортировка получившегося Series в порядке убывания и сохранение в moscow_genres\n",
    "moscow_genres = moscow_general.groupby('genre')['genre'].count().sort_values(ascending=False)"
   ]
  },
  {
   "cell_type": "markdown",
   "metadata": {
    "id": "6kMuomxTiIr8"
   },
   "source": [
    "Выведите на экран первые десять строк `moscow_genres`:"
   ]
  },
  {
   "cell_type": "code",
   "execution_count": 36,
   "metadata": {
    "id": "WhCSooF8_Zcv"
   },
   "outputs": [
    {
     "data": {
      "text/plain": [
       "genre\n",
       "pop            5892\n",
       "electronic     5829\n",
       "dance          4435\n",
       "rock           3965\n",
       "classical      1616\n",
       "world          1432\n",
       "alternative    1379\n",
       "ruspop         1372\n",
       "rusrap         1161\n",
       "jazz            980\n",
       "Name: genre, dtype: int64"
      ]
     },
     "execution_count": 36,
     "metadata": {},
     "output_type": "execute_result"
    }
   ],
   "source": [
    "# просмотр первых 10 строк moscow_genres\n",
    "moscow_genres.head(10)"
   ]
  },
  {
   "cell_type": "markdown",
   "metadata": {},
   "source": [
    "<div class=\"alert alert-block alert-success\">\n",
    "<h2>Комментарий ревьювера (все отлично)</h2> \n",
    "\n",
    "Данные по Москве получены.\n",
    "</div>"
   ]
  },
  {
   "cell_type": "markdown",
   "metadata": {
    "id": "cnPG2vnN_Zcv"
   },
   "source": [
    "Теперь повторите то же и для Петербурга.\n",
    "\n",
    "Сгруппируйте таблицу `spb_general` по жанру. Посчитайте прослушивания треков каждого жанра. Результат отсортируйте в порядке убывания и сохраните в таблице `spb_genres`:\n"
   ]
  },
  {
   "cell_type": "code",
   "execution_count": 37,
   "metadata": {
    "id": "gluLIpE7_Zcv"
   },
   "outputs": [],
   "source": [
    "# одной строкой: группировка таблицы spb_general по столбцу 'genre', \n",
    "# подсчёт числа значений 'genre' в этой группировке методом count(), \n",
    "# сортировка получившегося Series в порядке убывания и сохранение в spb_genres\n",
    "spb_genres = spb_general.groupby('genre')['genre'].count().sort_values(ascending=False)"
   ]
  },
  {
   "cell_type": "markdown",
   "metadata": {
    "id": "5Doha_ODgyQ8"
   },
   "source": [
    "Выведите на экран первые десять строк `spb_genres`:"
   ]
  },
  {
   "cell_type": "code",
   "execution_count": 38,
   "metadata": {
    "id": "uaGJHjVU_Zcv"
   },
   "outputs": [
    {
     "data": {
      "text/plain": [
       "genre\n",
       "electronic     2671\n",
       "pop            2431\n",
       "dance          1932\n",
       "rock           1879\n",
       "alternative     649\n",
       "classical       646\n",
       "rusrap          564\n",
       "ruspop          538\n",
       "world           515\n",
       "jazz            486\n",
       "Name: genre, dtype: int64"
      ]
     },
     "execution_count": 38,
     "metadata": {},
     "output_type": "execute_result"
    }
   ],
   "source": [
    "# просмотр первых 10 строк spb_genres\n",
    "spb_genres.head(10)"
   ]
  },
  {
   "cell_type": "markdown",
   "metadata": {},
   "source": [
    "<div class=\"alert alert-block alert-success\">\n",
    "<h2>Комментарий ревьювера (все отлично)</h2> \n",
    "\n",
    "Данные по Петербургу получены.\n",
    "</div>"
   ]
  },
  {
   "cell_type": "markdown",
   "metadata": {
    "id": "RY51YJYu_Zcv"
   },
   "source": [
    "**Выводы**"
   ]
  },
  {
   "cell_type": "markdown",
   "metadata": {
    "id": "nVhnJEm__Zcv"
   },
   "source": [
    "Гипотеза частично подтвердилась:\n",
    "* Поп-музыка — самый популярный жанр в Москве, как и предполагала гипотеза. Более того, в топ-10 жанров встречается близкий жанр — русская популярная музыка.\n",
    "* Вопреки ожиданиям, рэп одинаково популярен в Москве и Петербурге. \n"
   ]
  },
  {
   "cell_type": "markdown",
   "metadata": {
    "id": "ykKQ0N65_Zcv"
   },
   "source": [
    "## Итоги исследования"
   ]
  },
  {
   "cell_type": "markdown",
   "metadata": {
    "id": "tjUwbHb3_Zcv"
   },
   "source": [
    "Вы проверили три гипотезы и установили:\n",
    "\n",
    "1. День недели по-разному влияет на активность пользователей в Москве и Петербурге. \n",
    "\n",
    "Первая гипотеза полностью подтвердилась.\n",
    "\n",
    "2. Музыкальные предпочтения не сильно меняются в течение недели — будь то Москва или Петербург. Небольшие различия заметны в начале недели, по понедельникам:\n",
    "* в Москве слушают музыку жанра “world”,\n",
    "* в Петербурге — джаз и классику.\n",
    "\n",
    "Таким образом, вторая гипотеза подтвердилась лишь отчасти. Этот результат мог оказаться иным, если бы не пропуски в данных.\n",
    "\n",
    "3. Во вкусах пользователей Москвы и Петербурга больше общего чем различий. Вопреки ожиданиям, предпочтения жанров в Петербурге напоминают московские.\n",
    "\n",
    "Третья гипотеза не подтвердилась. Если различия в предпочтениях и существуют, на основной массе пользователей они незаметны.\n",
    "\n",
    "**На практике исследования содержат проверки статистических гипотез.**\n",
    "Из данных одного сервиса не всегда можно сделать вывод о всех жителях города.\n",
    "Проверки статистических гипотез покажут, насколько они достоверны, исходя из имеющихся данных. \n",
    "С методами проверок гипотез вы ещё познакомитесь в следующих темах."
   ]
  }
 ],
 "metadata": {
  "ExecuteTimeLog": [
   {
    "duration": 603,
    "start_time": "2022-01-23T11:02:31.913Z"
   },
   {
    "duration": 153,
    "start_time": "2022-01-23T11:03:01.078Z"
   },
   {
    "duration": 17,
    "start_time": "2022-01-23T11:03:12.241Z"
   },
   {
    "duration": 11,
    "start_time": "2022-01-23T11:03:24.862Z"
   },
   {
    "duration": 7,
    "start_time": "2022-01-23T11:03:30.084Z"
   },
   {
    "duration": 10,
    "start_time": "2022-01-23T11:03:34.808Z"
   },
   {
    "duration": 24,
    "start_time": "2022-01-23T11:04:08.292Z"
   },
   {
    "duration": 25,
    "start_time": "2022-01-23T11:04:23.611Z"
   },
   {
    "duration": 24,
    "start_time": "2022-01-23T11:04:28.479Z"
   },
   {
    "duration": 4,
    "start_time": "2022-01-23T11:07:35.678Z"
   },
   {
    "duration": 4,
    "start_time": "2022-01-23T11:08:14.924Z"
   },
   {
    "duration": 23,
    "start_time": "2022-01-23T11:11:00.346Z"
   },
   {
    "duration": 4,
    "start_time": "2022-01-23T11:11:06.376Z"
   },
   {
    "duration": 29,
    "start_time": "2022-01-23T11:12:09.136Z"
   },
   {
    "duration": 25,
    "start_time": "2022-01-23T11:12:15.087Z"
   },
   {
    "duration": 29,
    "start_time": "2022-01-23T11:12:39.190Z"
   },
   {
    "duration": 22,
    "start_time": "2022-01-23T11:13:31.133Z"
   },
   {
    "duration": 22,
    "start_time": "2022-01-23T11:13:45.568Z"
   },
   {
    "duration": 24,
    "start_time": "2022-01-23T11:13:49.160Z"
   },
   {
    "duration": 19,
    "start_time": "2022-01-23T11:16:30.470Z"
   },
   {
    "duration": 24,
    "start_time": "2022-01-23T11:16:47.775Z"
   },
   {
    "duration": 59,
    "start_time": "2022-01-23T11:17:22.393Z"
   },
   {
    "duration": 72,
    "start_time": "2022-01-23T11:18:57.385Z"
   },
   {
    "duration": 55,
    "start_time": "2022-01-23T11:19:15.538Z"
   },
   {
    "duration": 50,
    "start_time": "2022-01-23T11:19:21.459Z"
   },
   {
    "duration": 3,
    "start_time": "2022-01-23T11:19:40.957Z"
   },
   {
    "duration": 63,
    "start_time": "2022-01-23T11:21:16.831Z"
   },
   {
    "duration": 242,
    "start_time": "2022-01-23T11:21:21.877Z"
   },
   {
    "duration": 197,
    "start_time": "2022-01-23T11:21:27.885Z"
   },
   {
    "duration": 39,
    "start_time": "2022-01-23T11:21:50.110Z"
   },
   {
    "duration": 42,
    "start_time": "2022-01-23T11:22:03.143Z"
   },
   {
    "duration": 39,
    "start_time": "2022-01-23T11:22:25.857Z"
   },
   {
    "duration": 38,
    "start_time": "2022-01-23T11:22:42.162Z"
   },
   {
    "duration": 38,
    "start_time": "2022-01-23T11:22:49.034Z"
   },
   {
    "duration": 5,
    "start_time": "2022-01-23T11:22:54.667Z"
   },
   {
    "duration": 38,
    "start_time": "2022-01-23T11:23:05.177Z"
   },
   {
    "duration": 40,
    "start_time": "2022-01-23T11:23:13.715Z"
   },
   {
    "duration": 59,
    "start_time": "2022-01-23T11:28:38.707Z"
   },
   {
    "duration": 77,
    "start_time": "2022-01-23T11:31:57.885Z"
   },
   {
    "duration": 3,
    "start_time": "2022-01-23T11:32:04.738Z"
   },
   {
    "duration": 12,
    "start_time": "2022-01-23T11:34:50.896Z"
   },
   {
    "duration": 184,
    "start_time": "2022-01-23T11:35:17.583Z"
   },
   {
    "duration": 3,
    "start_time": "2022-01-23T11:38:00.612Z"
   },
   {
    "duration": 153,
    "start_time": "2022-01-23T11:38:00.616Z"
   },
   {
    "duration": 11,
    "start_time": "2022-01-23T11:38:00.771Z"
   },
   {
    "duration": 33,
    "start_time": "2022-01-23T11:38:00.784Z"
   },
   {
    "duration": 17,
    "start_time": "2022-01-23T11:38:00.819Z"
   },
   {
    "duration": 33,
    "start_time": "2022-01-23T11:38:00.838Z"
   },
   {
    "duration": 7,
    "start_time": "2022-01-23T11:38:00.873Z"
   },
   {
    "duration": 33,
    "start_time": "2022-01-23T11:38:00.882Z"
   },
   {
    "duration": 25,
    "start_time": "2022-01-23T11:38:00.917Z"
   },
   {
    "duration": 25,
    "start_time": "2022-01-23T11:38:00.945Z"
   },
   {
    "duration": 96,
    "start_time": "2022-01-23T11:38:00.972Z"
   },
   {
    "duration": 86,
    "start_time": "2022-01-23T11:38:01.070Z"
   },
   {
    "duration": 63,
    "start_time": "2022-01-23T11:38:01.158Z"
   },
   {
    "duration": 45,
    "start_time": "2022-01-23T11:38:01.224Z"
   },
   {
    "duration": 5,
    "start_time": "2022-01-23T11:38:01.271Z"
   },
   {
    "duration": 357,
    "start_time": "2022-01-23T11:38:04.240Z"
   },
   {
    "duration": 347,
    "start_time": "2022-01-23T11:38:39.782Z"
   },
   {
    "duration": 2,
    "start_time": "2022-01-23T11:40:22.351Z"
   },
   {
    "duration": 156,
    "start_time": "2022-01-23T11:40:22.355Z"
   },
   {
    "duration": 10,
    "start_time": "2022-01-23T11:40:22.513Z"
   },
   {
    "duration": 34,
    "start_time": "2022-01-23T11:40:22.526Z"
   },
   {
    "duration": 4,
    "start_time": "2022-01-23T11:40:22.561Z"
   },
   {
    "duration": 36,
    "start_time": "2022-01-23T11:40:22.567Z"
   },
   {
    "duration": 4,
    "start_time": "2022-01-23T11:40:22.604Z"
   },
   {
    "duration": 34,
    "start_time": "2022-01-23T11:40:22.611Z"
   },
   {
    "duration": 17,
    "start_time": "2022-01-23T11:40:22.647Z"
   },
   {
    "duration": 44,
    "start_time": "2022-01-23T11:40:22.666Z"
   },
   {
    "duration": 53,
    "start_time": "2022-01-23T11:40:22.712Z"
   },
   {
    "duration": 83,
    "start_time": "2022-01-23T11:40:22.767Z"
   },
   {
    "duration": 56,
    "start_time": "2022-01-23T11:40:22.851Z"
   },
   {
    "duration": 38,
    "start_time": "2022-01-23T11:40:22.908Z"
   },
   {
    "duration": 4,
    "start_time": "2022-01-23T11:40:29.170Z"
   },
   {
    "duration": 3,
    "start_time": "2022-01-23T11:40:34.860Z"
   },
   {
    "duration": 153,
    "start_time": "2022-01-23T11:40:34.865Z"
   },
   {
    "duration": 10,
    "start_time": "2022-01-23T11:40:35.020Z"
   },
   {
    "duration": 26,
    "start_time": "2022-01-23T11:40:35.032Z"
   },
   {
    "duration": 4,
    "start_time": "2022-01-23T11:40:35.060Z"
   },
   {
    "duration": 36,
    "start_time": "2022-01-23T11:40:35.065Z"
   },
   {
    "duration": 4,
    "start_time": "2022-01-23T11:40:35.102Z"
   },
   {
    "duration": 28,
    "start_time": "2022-01-23T11:40:35.108Z"
   },
   {
    "duration": 17,
    "start_time": "2022-01-23T11:40:35.137Z"
   },
   {
    "duration": 21,
    "start_time": "2022-01-23T11:40:35.156Z"
   },
   {
    "duration": 73,
    "start_time": "2022-01-23T11:40:35.179Z"
   },
   {
    "duration": 74,
    "start_time": "2022-01-23T11:40:35.254Z"
   },
   {
    "duration": 50,
    "start_time": "2022-01-23T11:40:35.330Z"
   },
   {
    "duration": 74,
    "start_time": "2022-01-23T11:40:35.382Z"
   },
   {
    "duration": 3,
    "start_time": "2022-01-23T11:40:35.458Z"
   },
   {
    "duration": 12,
    "start_time": "2022-01-23T11:40:44.415Z"
   },
   {
    "duration": 366,
    "start_time": "2022-01-23T11:41:10.915Z"
   },
   {
    "duration": 42,
    "start_time": "2022-01-23T11:41:46.759Z"
   },
   {
    "duration": 22,
    "start_time": "2022-01-23T11:45:38.074Z"
   },
   {
    "duration": 10,
    "start_time": "2022-01-23T11:45:56.979Z"
   },
   {
    "duration": 4,
    "start_time": "2022-01-23T11:48:40.363Z"
   },
   {
    "duration": 12,
    "start_time": "2022-01-23T11:48:53.214Z"
   },
   {
    "duration": 10,
    "start_time": "2022-01-23T11:50:04.460Z"
   },
   {
    "duration": 10,
    "start_time": "2022-01-23T11:50:39.436Z"
   },
   {
    "duration": 4,
    "start_time": "2022-01-23T11:55:52.892Z"
   },
   {
    "duration": 181,
    "start_time": "2022-01-23T11:56:37.560Z"
   },
   {
    "duration": 174,
    "start_time": "2022-01-23T11:56:44.423Z"
   },
   {
    "duration": 9,
    "start_time": "2022-01-23T11:56:56.855Z"
   },
   {
    "duration": 9,
    "start_time": "2022-01-23T11:57:02.354Z"
   },
   {
    "duration": 15,
    "start_time": "2022-01-23T11:57:18.707Z"
   },
   {
    "duration": 16,
    "start_time": "2022-01-23T11:57:51.926Z"
   },
   {
    "duration": 23,
    "start_time": "2022-01-23T11:58:03.743Z"
   },
   {
    "duration": 23,
    "start_time": "2022-01-23T11:58:15.783Z"
   },
   {
    "duration": 16,
    "start_time": "2022-01-23T11:58:30.407Z"
   },
   {
    "duration": 3,
    "start_time": "2022-01-23T11:58:32.944Z"
   },
   {
    "duration": 3,
    "start_time": "2022-01-23T11:58:34.742Z"
   },
   {
    "duration": 15,
    "start_time": "2022-01-23T11:58:54.039Z"
   },
   {
    "duration": 17,
    "start_time": "2022-01-23T11:59:19.026Z"
   },
   {
    "duration": 19,
    "start_time": "2022-01-23T11:59:29.008Z"
   },
   {
    "duration": 17,
    "start_time": "2022-01-23T11:59:37.814Z"
   },
   {
    "duration": 267,
    "start_time": "2022-01-23T12:04:38.695Z"
   },
   {
    "duration": 5,
    "start_time": "2022-01-23T12:04:47.881Z"
   },
   {
    "duration": 9,
    "start_time": "2022-01-23T12:04:57.822Z"
   },
   {
    "duration": 9,
    "start_time": "2022-01-23T12:05:15.152Z"
   },
   {
    "duration": 11,
    "start_time": "2022-01-23T12:06:55.583Z"
   },
   {
    "duration": 9,
    "start_time": "2022-01-23T12:07:18.859Z"
   },
   {
    "duration": 4,
    "start_time": "2022-01-23T12:15:55.741Z"
   },
   {
    "duration": 1001,
    "start_time": "2022-01-23T12:17:26.311Z"
   },
   {
    "duration": 3,
    "start_time": "2022-01-23T12:17:44.850Z"
   },
   {
    "duration": 31,
    "start_time": "2022-01-23T12:17:47.306Z"
   },
   {
    "duration": 19,
    "start_time": "2022-01-23T12:18:16.882Z"
   },
   {
    "duration": 29,
    "start_time": "2022-01-23T12:18:59.357Z"
   },
   {
    "duration": 19,
    "start_time": "2022-01-23T12:19:15.552Z"
   },
   {
    "duration": 14,
    "start_time": "2022-01-23T12:22:29.432Z"
   },
   {
    "duration": 16,
    "start_time": "2022-01-23T12:23:10.454Z"
   },
   {
    "duration": 10,
    "start_time": "2022-01-23T12:25:52.810Z"
   },
   {
    "duration": 10,
    "start_time": "2022-01-23T12:26:30.511Z"
   },
   {
    "duration": 8,
    "start_time": "2022-01-23T12:26:51.409Z"
   },
   {
    "duration": 14,
    "start_time": "2022-01-23T12:27:13.691Z"
   },
   {
    "duration": 12,
    "start_time": "2022-01-23T12:27:39.420Z"
   },
   {
    "duration": 6,
    "start_time": "2022-01-23T12:27:54.011Z"
   },
   {
    "duration": 8,
    "start_time": "2022-01-23T12:27:57.369Z"
   },
   {
    "duration": 5,
    "start_time": "2022-01-23T12:27:59.727Z"
   },
   {
    "duration": 6,
    "start_time": "2022-01-23T12:28:41.424Z"
   },
   {
    "duration": 5,
    "start_time": "2022-01-23T12:28:54.077Z"
   },
   {
    "duration": 517,
    "start_time": "2022-01-29T15:46:34.814Z"
   },
   {
    "duration": 120,
    "start_time": "2022-01-29T15:46:35.332Z"
   },
   {
    "duration": 19,
    "start_time": "2022-01-29T15:46:35.454Z"
   },
   {
    "duration": 22,
    "start_time": "2022-01-29T15:46:35.475Z"
   },
   {
    "duration": 3,
    "start_time": "2022-01-29T15:46:35.499Z"
   },
   {
    "duration": 18,
    "start_time": "2022-01-29T15:46:35.503Z"
   },
   {
    "duration": 3,
    "start_time": "2022-01-29T15:46:35.523Z"
   },
   {
    "duration": 45,
    "start_time": "2022-01-29T15:46:35.529Z"
   },
   {
    "duration": 14,
    "start_time": "2022-01-29T15:46:35.577Z"
   },
   {
    "duration": 24,
    "start_time": "2022-01-29T15:46:35.593Z"
   },
   {
    "duration": 63,
    "start_time": "2022-01-29T15:46:35.618Z"
   },
   {
    "duration": 51,
    "start_time": "2022-01-29T15:46:35.682Z"
   },
   {
    "duration": 54,
    "start_time": "2022-01-29T15:46:35.734Z"
   },
   {
    "duration": 38,
    "start_time": "2022-01-29T15:46:35.790Z"
   },
   {
    "duration": 2,
    "start_time": "2022-01-29T15:46:35.830Z"
   },
   {
    "duration": 17,
    "start_time": "2022-01-29T15:46:35.833Z"
   },
   {
    "duration": 48,
    "start_time": "2022-01-29T15:46:35.852Z"
   },
   {
    "duration": 8,
    "start_time": "2022-01-29T15:46:35.902Z"
   },
   {
    "duration": 8,
    "start_time": "2022-01-29T15:46:35.912Z"
   },
   {
    "duration": 3,
    "start_time": "2022-01-29T15:46:35.921Z"
   },
   {
    "duration": 18,
    "start_time": "2022-01-29T15:46:35.926Z"
   },
   {
    "duration": 37,
    "start_time": "2022-01-29T15:46:35.945Z"
   },
   {
    "duration": 13,
    "start_time": "2022-01-29T15:46:35.985Z"
   },
   {
    "duration": 12,
    "start_time": "2022-01-29T15:46:36.000Z"
   },
   {
    "duration": 14,
    "start_time": "2022-01-29T15:46:36.014Z"
   },
   {
    "duration": 43,
    "start_time": "2022-01-29T15:46:36.030Z"
   },
   {
    "duration": 8,
    "start_time": "2022-01-29T15:46:36.074Z"
   },
   {
    "duration": 22,
    "start_time": "2022-01-29T15:46:36.083Z"
   },
   {
    "duration": 23,
    "start_time": "2022-01-29T15:46:36.107Z"
   },
   {
    "duration": 4,
    "start_time": "2022-01-29T15:46:36.131Z"
   },
   {
    "duration": 48,
    "start_time": "2022-01-29T15:46:36.136Z"
   },
   {
    "duration": 13,
    "start_time": "2022-01-29T15:46:36.186Z"
   },
   {
    "duration": 45,
    "start_time": "2022-01-29T15:46:36.200Z"
   },
   {
    "duration": 16,
    "start_time": "2022-01-29T15:46:36.247Z"
   },
   {
    "duration": 12,
    "start_time": "2022-01-29T15:46:36.264Z"
   },
   {
    "duration": 19,
    "start_time": "2022-01-29T15:46:36.278Z"
   },
   {
    "duration": 12,
    "start_time": "2022-01-29T15:46:36.299Z"
   },
   {
    "duration": 23,
    "start_time": "2022-01-29T15:46:36.313Z"
   },
   {
    "duration": 5,
    "start_time": "2022-01-29T15:51:24.976Z"
   },
   {
    "duration": 24,
    "start_time": "2022-01-29T15:51:25.980Z"
   },
   {
    "duration": 568,
    "start_time": "2022-01-29T15:57:02.561Z"
   },
   {
    "duration": 114,
    "start_time": "2022-01-29T15:57:03.131Z"
   },
   {
    "duration": 15,
    "start_time": "2022-01-29T15:57:03.247Z"
   },
   {
    "duration": 22,
    "start_time": "2022-01-29T15:57:03.272Z"
   },
   {
    "duration": 14,
    "start_time": "2022-01-29T15:57:03.296Z"
   },
   {
    "duration": 31,
    "start_time": "2022-01-29T15:57:03.311Z"
   },
   {
    "duration": 4,
    "start_time": "2022-01-29T15:57:03.344Z"
   },
   {
    "duration": 30,
    "start_time": "2022-01-29T15:57:03.350Z"
   },
   {
    "duration": 22,
    "start_time": "2022-01-29T15:57:03.383Z"
   },
   {
    "duration": 26,
    "start_time": "2022-01-29T15:57:03.407Z"
   },
   {
    "duration": 67,
    "start_time": "2022-01-29T15:57:03.435Z"
   },
   {
    "duration": 57,
    "start_time": "2022-01-29T15:57:03.504Z"
   },
   {
    "duration": 43,
    "start_time": "2022-01-29T15:57:03.562Z"
   },
   {
    "duration": 39,
    "start_time": "2022-01-29T15:57:03.606Z"
   },
   {
    "duration": 25,
    "start_time": "2022-01-29T15:57:03.647Z"
   },
   {
    "duration": 32,
    "start_time": "2022-01-29T15:57:03.674Z"
   },
   {
    "duration": 35,
    "start_time": "2022-01-29T15:57:03.708Z"
   },
   {
    "duration": 16,
    "start_time": "2022-01-29T15:57:03.744Z"
   },
   {
    "duration": 17,
    "start_time": "2022-01-29T15:57:03.761Z"
   },
   {
    "duration": 3,
    "start_time": "2022-01-29T15:57:03.780Z"
   },
   {
    "duration": 28,
    "start_time": "2022-01-29T15:57:03.784Z"
   },
   {
    "duration": 19,
    "start_time": "2022-01-29T15:57:03.813Z"
   },
   {
    "duration": 13,
    "start_time": "2022-01-29T15:57:03.833Z"
   },
   {
    "duration": 12,
    "start_time": "2022-01-29T15:57:03.847Z"
   },
   {
    "duration": 23,
    "start_time": "2022-01-29T15:57:03.861Z"
   },
   {
    "duration": 13,
    "start_time": "2022-01-29T15:57:03.885Z"
   },
   {
    "duration": 8,
    "start_time": "2022-01-29T15:57:03.902Z"
   },
   {
    "duration": 11,
    "start_time": "2022-01-29T15:57:03.912Z"
   },
   {
    "duration": 10,
    "start_time": "2022-01-29T15:57:03.924Z"
   },
   {
    "duration": 8,
    "start_time": "2022-01-29T15:57:03.936Z"
   },
   {
    "duration": 45,
    "start_time": "2022-01-29T15:57:03.945Z"
   },
   {
    "duration": 14,
    "start_time": "2022-01-29T15:57:03.992Z"
   },
   {
    "duration": 28,
    "start_time": "2022-01-29T15:57:04.008Z"
   },
   {
    "duration": 40,
    "start_time": "2022-01-29T15:57:04.038Z"
   },
   {
    "duration": 8,
    "start_time": "2022-01-29T15:57:04.080Z"
   },
   {
    "duration": 12,
    "start_time": "2022-01-29T15:57:04.089Z"
   },
   {
    "duration": 10,
    "start_time": "2022-01-29T15:57:04.103Z"
   },
   {
    "duration": 27,
    "start_time": "2022-01-29T15:57:04.115Z"
   },
   {
    "duration": 659,
    "start_time": "2022-01-30T05:40:21.225Z"
   },
   {
    "duration": 144,
    "start_time": "2022-01-30T05:40:21.885Z"
   },
   {
    "duration": 17,
    "start_time": "2022-01-30T05:40:22.031Z"
   },
   {
    "duration": 32,
    "start_time": "2022-01-30T05:40:22.049Z"
   },
   {
    "duration": 5,
    "start_time": "2022-01-30T05:40:22.083Z"
   },
   {
    "duration": 23,
    "start_time": "2022-01-30T05:40:22.090Z"
   },
   {
    "duration": 4,
    "start_time": "2022-01-30T05:40:22.115Z"
   },
   {
    "duration": 44,
    "start_time": "2022-01-30T05:40:22.122Z"
   },
   {
    "duration": 17,
    "start_time": "2022-01-30T05:40:22.169Z"
   },
   {
    "duration": 23,
    "start_time": "2022-01-30T05:40:22.188Z"
   },
   {
    "duration": 87,
    "start_time": "2022-01-30T05:40:22.213Z"
   },
   {
    "duration": 82,
    "start_time": "2022-01-30T05:40:22.301Z"
   },
   {
    "duration": 52,
    "start_time": "2022-01-30T05:40:22.385Z"
   },
   {
    "duration": 54,
    "start_time": "2022-01-30T05:40:22.439Z"
   },
   {
    "duration": 3,
    "start_time": "2022-01-30T05:40:22.495Z"
   },
   {
    "duration": 16,
    "start_time": "2022-01-30T05:40:22.499Z"
   },
   {
    "duration": 72,
    "start_time": "2022-01-30T05:40:22.517Z"
   },
   {
    "duration": 11,
    "start_time": "2022-01-30T05:40:22.590Z"
   },
   {
    "duration": 11,
    "start_time": "2022-01-30T05:40:22.603Z"
   },
   {
    "duration": 3,
    "start_time": "2022-01-30T05:40:22.616Z"
   },
   {
    "duration": 48,
    "start_time": "2022-01-30T05:40:22.621Z"
   },
   {
    "duration": 15,
    "start_time": "2022-01-30T05:40:22.670Z"
   },
   {
    "duration": 14,
    "start_time": "2022-01-30T05:40:22.688Z"
   },
   {
    "duration": 13,
    "start_time": "2022-01-30T05:40:22.704Z"
   },
   {
    "duration": 50,
    "start_time": "2022-01-30T05:40:22.718Z"
   },
   {
    "duration": 14,
    "start_time": "2022-01-30T05:40:22.770Z"
   },
   {
    "duration": 8,
    "start_time": "2022-01-30T05:40:22.786Z"
   },
   {
    "duration": 14,
    "start_time": "2022-01-30T05:40:22.795Z"
   },
   {
    "duration": 9,
    "start_time": "2022-01-30T05:40:22.811Z"
   },
   {
    "duration": 18,
    "start_time": "2022-01-30T05:42:56.201Z"
   },
   {
    "duration": 306,
    "start_time": "2022-01-30T05:43:03.777Z"
   },
   {
    "duration": 11,
    "start_time": "2022-01-30T05:43:08.285Z"
   },
   {
    "duration": 2,
    "start_time": "2022-01-30T05:45:50.142Z"
   },
   {
    "duration": 159,
    "start_time": "2022-01-30T05:45:50.146Z"
   },
   {
    "duration": 10,
    "start_time": "2022-01-30T05:45:50.307Z"
   },
   {
    "duration": 41,
    "start_time": "2022-01-30T05:45:50.319Z"
   },
   {
    "duration": 4,
    "start_time": "2022-01-30T05:45:50.362Z"
   },
   {
    "duration": 21,
    "start_time": "2022-01-30T05:45:50.367Z"
   },
   {
    "duration": 4,
    "start_time": "2022-01-30T05:45:50.390Z"
   },
   {
    "duration": 26,
    "start_time": "2022-01-30T05:45:50.396Z"
   },
   {
    "duration": 37,
    "start_time": "2022-01-30T05:45:50.424Z"
   },
   {
    "duration": 24,
    "start_time": "2022-01-30T05:45:50.462Z"
   },
   {
    "duration": 55,
    "start_time": "2022-01-30T05:45:50.488Z"
   },
   {
    "duration": 74,
    "start_time": "2022-01-30T05:45:50.545Z"
   },
   {
    "duration": 62,
    "start_time": "2022-01-30T05:45:50.621Z"
   },
   {
    "duration": 39,
    "start_time": "2022-01-30T05:45:50.684Z"
   },
   {
    "duration": 2,
    "start_time": "2022-01-30T05:45:50.725Z"
   },
   {
    "duration": 13,
    "start_time": "2022-01-30T05:45:50.729Z"
   },
   {
    "duration": 43,
    "start_time": "2022-01-30T05:45:50.761Z"
   },
   {
    "duration": 9,
    "start_time": "2022-01-30T05:45:50.806Z"
   },
   {
    "duration": 10,
    "start_time": "2022-01-30T05:45:50.818Z"
   },
   {
    "duration": 30,
    "start_time": "2022-01-30T05:45:50.830Z"
   },
   {
    "duration": 16,
    "start_time": "2022-01-30T05:45:50.862Z"
   },
   {
    "duration": 12,
    "start_time": "2022-01-30T05:45:50.880Z"
   },
   {
    "duration": 12,
    "start_time": "2022-01-30T05:45:50.894Z"
   },
   {
    "duration": 12,
    "start_time": "2022-01-30T05:45:50.908Z"
   },
   {
    "duration": 45,
    "start_time": "2022-01-30T05:45:50.922Z"
   },
   {
    "duration": 16,
    "start_time": "2022-01-30T05:45:50.969Z"
   },
   {
    "duration": 10,
    "start_time": "2022-01-30T05:45:50.987Z"
   },
   {
    "duration": 14,
    "start_time": "2022-01-30T05:45:50.999Z"
   },
   {
    "duration": 46,
    "start_time": "2022-01-30T05:45:51.015Z"
   },
   {
    "duration": 5,
    "start_time": "2022-01-30T05:45:51.063Z"
   },
   {
    "duration": 19,
    "start_time": "2022-01-30T05:46:06.445Z"
   },
   {
    "duration": 14,
    "start_time": "2022-01-30T05:46:18.412Z"
   },
   {
    "duration": 20,
    "start_time": "2022-01-30T05:46:31.038Z"
   },
   {
    "duration": 14,
    "start_time": "2022-01-30T05:46:34.925Z"
   },
   {
    "duration": 88,
    "start_time": "2022-01-30T05:49:02.421Z"
   },
   {
    "duration": 77,
    "start_time": "2022-01-30T05:49:06.238Z"
   },
   {
    "duration": 82,
    "start_time": "2022-01-30T05:49:37.095Z"
   },
   {
    "duration": 81,
    "start_time": "2022-01-30T05:49:46.541Z"
   },
   {
    "duration": 616,
    "start_time": "2022-01-31T03:12:57.920Z"
   },
   {
    "duration": 153,
    "start_time": "2022-01-31T03:12:58.538Z"
   },
   {
    "duration": 22,
    "start_time": "2022-01-31T03:12:58.693Z"
   },
   {
    "duration": 26,
    "start_time": "2022-01-31T03:12:58.717Z"
   },
   {
    "duration": 4,
    "start_time": "2022-01-31T03:12:58.745Z"
   },
   {
    "duration": 32,
    "start_time": "2022-01-31T03:12:58.751Z"
   },
   {
    "duration": 5,
    "start_time": "2022-01-31T03:12:58.807Z"
   },
   {
    "duration": 25,
    "start_time": "2022-01-31T03:12:58.815Z"
   },
   {
    "duration": 22,
    "start_time": "2022-01-31T03:12:58.842Z"
   },
   {
    "duration": 45,
    "start_time": "2022-01-31T03:12:58.866Z"
   },
   {
    "duration": 66,
    "start_time": "2022-01-31T03:12:58.913Z"
   },
   {
    "duration": 98,
    "start_time": "2022-01-31T03:12:58.981Z"
   },
   {
    "duration": 67,
    "start_time": "2022-01-31T03:12:59.081Z"
   },
   {
    "duration": 43,
    "start_time": "2022-01-31T03:12:59.149Z"
   },
   {
    "duration": 14,
    "start_time": "2022-01-31T03:12:59.193Z"
   },
   {
    "duration": 24,
    "start_time": "2022-01-31T03:12:59.210Z"
   },
   {
    "duration": 44,
    "start_time": "2022-01-31T03:12:59.236Z"
   },
   {
    "duration": 29,
    "start_time": "2022-01-31T03:12:59.283Z"
   },
   {
    "duration": 12,
    "start_time": "2022-01-31T03:12:59.315Z"
   },
   {
    "duration": 4,
    "start_time": "2022-01-31T03:12:59.330Z"
   },
   {
    "duration": 26,
    "start_time": "2022-01-31T03:12:59.336Z"
   },
   {
    "duration": 51,
    "start_time": "2022-01-31T03:12:59.364Z"
   },
   {
    "duration": 18,
    "start_time": "2022-01-31T03:12:59.419Z"
   },
   {
    "duration": 17,
    "start_time": "2022-01-31T03:12:59.439Z"
   },
   {
    "duration": 54,
    "start_time": "2022-01-31T03:12:59.458Z"
   },
   {
    "duration": 18,
    "start_time": "2022-01-31T03:12:59.514Z"
   },
   {
    "duration": 11,
    "start_time": "2022-01-31T03:12:59.534Z"
   },
   {
    "duration": 14,
    "start_time": "2022-01-31T03:12:59.547Z"
   },
   {
    "duration": 12,
    "start_time": "2022-01-31T03:12:59.563Z"
   },
   {
    "duration": 5,
    "start_time": "2022-01-31T03:12:59.607Z"
   },
   {
    "duration": 27,
    "start_time": "2022-01-31T03:12:59.614Z"
   },
   {
    "duration": 15,
    "start_time": "2022-01-31T03:12:59.643Z"
   },
   {
    "duration": 20,
    "start_time": "2022-01-31T03:12:59.659Z"
   },
   {
    "duration": 15,
    "start_time": "2022-01-31T03:12:59.708Z"
   },
   {
    "duration": 8,
    "start_time": "2022-01-31T03:12:59.725Z"
   },
   {
    "duration": 5,
    "start_time": "2022-01-31T03:12:59.735Z"
   },
   {
    "duration": 9,
    "start_time": "2022-01-31T03:12:59.742Z"
   },
   {
    "duration": 26,
    "start_time": "2022-01-31T03:12:59.752Z"
   }
  ],
  "colab": {
   "collapsed_sections": [
    "E0vqbgi9ay0H",
    "VUC88oWjTJw2"
   ],
   "name": "yandex_music_project_2021.2.ipynb",
   "provenance": []
  },
  "kernelspec": {
   "display_name": "Python 3 (ipykernel)",
   "language": "python",
   "name": "python3"
  },
  "language_info": {
   "codemirror_mode": {
    "name": "ipython",
    "version": 3
   },
   "file_extension": ".py",
   "mimetype": "text/x-python",
   "name": "python",
   "nbconvert_exporter": "python",
   "pygments_lexer": "ipython3",
   "version": "3.9.5"
  },
  "toc": {
   "base_numbering": 1,
   "nav_menu": {},
   "number_sections": true,
   "sideBar": true,
   "skip_h1_title": true,
   "title_cell": "Table of Contents",
   "title_sidebar": "Contents",
   "toc_cell": false,
   "toc_position": {},
   "toc_section_display": true,
   "toc_window_display": false
  }
 },
 "nbformat": 4,
 "nbformat_minor": 1
}
