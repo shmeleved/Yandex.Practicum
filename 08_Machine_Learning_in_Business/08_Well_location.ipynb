{
 "cells": [
  {
   "cell_type": "markdown",
   "metadata": {},
   "source": [
    "# Choosing a location for a well"
   ]
  },
  {
   "cell_type": "markdown",
   "metadata": {},
   "source": [
    "Glavrosgosneft oil company needs to decide where to drill a new well.\n",
    "\n",
    "The steps for choosing a location are usually as follows:\n",
    "- In the selected region, characteristics for wells are collected: the quality of oil and the volume of its reserves;\n",
    "- Build a model to predict the volume of reserves in new wells;\n",
    "- Select wells with the highest value estimates;\n",
    "- Determine the region with the maximum total profit of the selected wells.\n",
    "\n",
    "We have been provided with oil samples in three regions. The characteristics for each well in the region are already known. It is necessary to build a model to determine the region where mining will bring the greatest profit and analyze the possible profits and risks with *Bootstrap* technology."
   ]
  },
  {
   "cell_type": "markdown",
   "metadata": {},
   "source": [
    "# Data description\n",
    "The exploration data of the three regions are in the files:\n",
    "- /datasets/geo_data_0.csv.\n",
    "- /datasets/geo_data_1.csv.\n",
    "- /datasets/geo_data_2.csv.\n",
    "- id — unique well ID;\n",
    "- f0, f1, f2 — three signs of dots (it doesn't matter what they mean, but the signs themselves are significant);\n",
    "- product — the volume of reserves in the well (thousand barrels)."
   ]
  },
  {
   "cell_type": "markdown",
   "metadata": {},
   "source": [
    "Task conditions:\n",
    "\n",
    "* Only linear regression is suitable for training the model (the rest are not predictable enough).\n",
    "\n",
    "* During the exploration of the region, 500 points are explored, from which 200 best ones are selected for development using machine learning.\n",
    "\n",
    "* The budget for the development of wells in the region is 10 billion rubles.\n",
    "\n",
    "* At current prices, one barrel of raw materials brings 450 rubles of income. The income from each unit of the product is 450 thousand rubles, since the volume is indicated in thousands of barrels.\n",
    "\n",
    "* After the risk assessment, you need to leave only those regions in which the probability of losses is less than 2.5%. Among them, the region with the highest average profit is chosen.\n",
    "\n",
    "Synthetic data: details of contracts and characteristics of deposits are not disclosed."
   ]
  },
  {
   "cell_type": "markdown",
   "metadata": {},
   "source": [
    "## Loading and preparing data"
   ]
  },
  {
   "cell_type": "code",
   "execution_count": 1,
   "metadata": {},
   "outputs": [],
   "source": [
    "import pandas as pd\n",
    "from sklearn.model_selection import train_test_split\n",
    "from sklearn.linear_model import LinearRegression\n",
    "from sklearn.metrics import mean_squared_error\n",
    "import numpy as np"
   ]
  },
  {
   "cell_type": "code",
   "execution_count": 2,
   "metadata": {},
   "outputs": [],
   "source": [
    "df_1 = pd.read_csv('datasets/geo_data_0.csv')\n",
    "df_2 = pd.read_csv('datasets/geo_data_1.csv')\n",
    "df_3 = pd.read_csv('datasets/geo_data_2.csv')"
   ]
  },
  {
   "cell_type": "code",
   "execution_count": 3,
   "metadata": {},
   "outputs": [
    {
     "data": {
      "text/html": [
       "<div>\n",
       "<style scoped>\n",
       "    .dataframe tbody tr th:only-of-type {\n",
       "        vertical-align: middle;\n",
       "    }\n",
       "\n",
       "    .dataframe tbody tr th {\n",
       "        vertical-align: top;\n",
       "    }\n",
       "\n",
       "    .dataframe thead th {\n",
       "        text-align: right;\n",
       "    }\n",
       "</style>\n",
       "<table border=\"1\" class=\"dataframe\">\n",
       "  <thead>\n",
       "    <tr style=\"text-align: right;\">\n",
       "      <th></th>\n",
       "      <th>id</th>\n",
       "      <th>f0</th>\n",
       "      <th>f1</th>\n",
       "      <th>f2</th>\n",
       "      <th>product</th>\n",
       "    </tr>\n",
       "  </thead>\n",
       "  <tbody>\n",
       "    <tr>\n",
       "      <th>0</th>\n",
       "      <td>txEyH</td>\n",
       "      <td>0.705745</td>\n",
       "      <td>-0.497823</td>\n",
       "      <td>1.221170</td>\n",
       "      <td>105.280062</td>\n",
       "    </tr>\n",
       "    <tr>\n",
       "      <th>1</th>\n",
       "      <td>2acmU</td>\n",
       "      <td>1.334711</td>\n",
       "      <td>-0.340164</td>\n",
       "      <td>4.365080</td>\n",
       "      <td>73.037750</td>\n",
       "    </tr>\n",
       "    <tr>\n",
       "      <th>2</th>\n",
       "      <td>409Wp</td>\n",
       "      <td>1.022732</td>\n",
       "      <td>0.151990</td>\n",
       "      <td>1.419926</td>\n",
       "      <td>85.265647</td>\n",
       "    </tr>\n",
       "    <tr>\n",
       "      <th>3</th>\n",
       "      <td>iJLyR</td>\n",
       "      <td>-0.032172</td>\n",
       "      <td>0.139033</td>\n",
       "      <td>2.978566</td>\n",
       "      <td>168.620776</td>\n",
       "    </tr>\n",
       "    <tr>\n",
       "      <th>4</th>\n",
       "      <td>Xdl7t</td>\n",
       "      <td>1.988431</td>\n",
       "      <td>0.155413</td>\n",
       "      <td>4.751769</td>\n",
       "      <td>154.036647</td>\n",
       "    </tr>\n",
       "    <tr>\n",
       "      <th>...</th>\n",
       "      <td>...</td>\n",
       "      <td>...</td>\n",
       "      <td>...</td>\n",
       "      <td>...</td>\n",
       "      <td>...</td>\n",
       "    </tr>\n",
       "    <tr>\n",
       "      <th>99995</th>\n",
       "      <td>DLsed</td>\n",
       "      <td>0.971957</td>\n",
       "      <td>0.370953</td>\n",
       "      <td>6.075346</td>\n",
       "      <td>110.744026</td>\n",
       "    </tr>\n",
       "    <tr>\n",
       "      <th>99996</th>\n",
       "      <td>QKivN</td>\n",
       "      <td>1.392429</td>\n",
       "      <td>-0.382606</td>\n",
       "      <td>1.273912</td>\n",
       "      <td>122.346843</td>\n",
       "    </tr>\n",
       "    <tr>\n",
       "      <th>99997</th>\n",
       "      <td>3rnvd</td>\n",
       "      <td>1.029585</td>\n",
       "      <td>0.018787</td>\n",
       "      <td>-1.348308</td>\n",
       "      <td>64.375443</td>\n",
       "    </tr>\n",
       "    <tr>\n",
       "      <th>99998</th>\n",
       "      <td>7kl59</td>\n",
       "      <td>0.998163</td>\n",
       "      <td>-0.528582</td>\n",
       "      <td>1.583869</td>\n",
       "      <td>74.040764</td>\n",
       "    </tr>\n",
       "    <tr>\n",
       "      <th>99999</th>\n",
       "      <td>1CWhH</td>\n",
       "      <td>1.764754</td>\n",
       "      <td>-0.266417</td>\n",
       "      <td>5.722849</td>\n",
       "      <td>149.633246</td>\n",
       "    </tr>\n",
       "  </tbody>\n",
       "</table>\n",
       "<p>100000 rows × 5 columns</p>\n",
       "</div>"
      ],
      "text/plain": [
       "          id        f0        f1        f2     product\n",
       "0      txEyH  0.705745 -0.497823  1.221170  105.280062\n",
       "1      2acmU  1.334711 -0.340164  4.365080   73.037750\n",
       "2      409Wp  1.022732  0.151990  1.419926   85.265647\n",
       "3      iJLyR -0.032172  0.139033  2.978566  168.620776\n",
       "4      Xdl7t  1.988431  0.155413  4.751769  154.036647\n",
       "...      ...       ...       ...       ...         ...\n",
       "99995  DLsed  0.971957  0.370953  6.075346  110.744026\n",
       "99996  QKivN  1.392429 -0.382606  1.273912  122.346843\n",
       "99997  3rnvd  1.029585  0.018787 -1.348308   64.375443\n",
       "99998  7kl59  0.998163 -0.528582  1.583869   74.040764\n",
       "99999  1CWhH  1.764754 -0.266417  5.722849  149.633246\n",
       "\n",
       "[100000 rows x 5 columns]"
      ]
     },
     "metadata": {},
     "output_type": "display_data"
    },
    {
     "data": {
      "text/html": [
       "<div>\n",
       "<style scoped>\n",
       "    .dataframe tbody tr th:only-of-type {\n",
       "        vertical-align: middle;\n",
       "    }\n",
       "\n",
       "    .dataframe tbody tr th {\n",
       "        vertical-align: top;\n",
       "    }\n",
       "\n",
       "    .dataframe thead th {\n",
       "        text-align: right;\n",
       "    }\n",
       "</style>\n",
       "<table border=\"1\" class=\"dataframe\">\n",
       "  <thead>\n",
       "    <tr style=\"text-align: right;\">\n",
       "      <th></th>\n",
       "      <th>id</th>\n",
       "      <th>f0</th>\n",
       "      <th>f1</th>\n",
       "      <th>f2</th>\n",
       "      <th>product</th>\n",
       "    </tr>\n",
       "  </thead>\n",
       "  <tbody>\n",
       "    <tr>\n",
       "      <th>0</th>\n",
       "      <td>kBEdx</td>\n",
       "      <td>-15.001348</td>\n",
       "      <td>-8.276000</td>\n",
       "      <td>-0.005876</td>\n",
       "      <td>3.179103</td>\n",
       "    </tr>\n",
       "    <tr>\n",
       "      <th>1</th>\n",
       "      <td>62mP7</td>\n",
       "      <td>14.272088</td>\n",
       "      <td>-3.475083</td>\n",
       "      <td>0.999183</td>\n",
       "      <td>26.953261</td>\n",
       "    </tr>\n",
       "    <tr>\n",
       "      <th>2</th>\n",
       "      <td>vyE1P</td>\n",
       "      <td>6.263187</td>\n",
       "      <td>-5.948386</td>\n",
       "      <td>5.001160</td>\n",
       "      <td>134.766305</td>\n",
       "    </tr>\n",
       "    <tr>\n",
       "      <th>3</th>\n",
       "      <td>KcrkZ</td>\n",
       "      <td>-13.081196</td>\n",
       "      <td>-11.506057</td>\n",
       "      <td>4.999415</td>\n",
       "      <td>137.945408</td>\n",
       "    </tr>\n",
       "    <tr>\n",
       "      <th>4</th>\n",
       "      <td>AHL4O</td>\n",
       "      <td>12.702195</td>\n",
       "      <td>-8.147433</td>\n",
       "      <td>5.004363</td>\n",
       "      <td>134.766305</td>\n",
       "    </tr>\n",
       "    <tr>\n",
       "      <th>...</th>\n",
       "      <td>...</td>\n",
       "      <td>...</td>\n",
       "      <td>...</td>\n",
       "      <td>...</td>\n",
       "      <td>...</td>\n",
       "    </tr>\n",
       "    <tr>\n",
       "      <th>99995</th>\n",
       "      <td>QywKC</td>\n",
       "      <td>9.535637</td>\n",
       "      <td>-6.878139</td>\n",
       "      <td>1.998296</td>\n",
       "      <td>53.906522</td>\n",
       "    </tr>\n",
       "    <tr>\n",
       "      <th>99996</th>\n",
       "      <td>ptvty</td>\n",
       "      <td>-10.160631</td>\n",
       "      <td>-12.558096</td>\n",
       "      <td>5.005581</td>\n",
       "      <td>137.945408</td>\n",
       "    </tr>\n",
       "    <tr>\n",
       "      <th>99997</th>\n",
       "      <td>09gWa</td>\n",
       "      <td>-7.378891</td>\n",
       "      <td>-3.084104</td>\n",
       "      <td>4.998651</td>\n",
       "      <td>137.945408</td>\n",
       "    </tr>\n",
       "    <tr>\n",
       "      <th>99998</th>\n",
       "      <td>rqwUm</td>\n",
       "      <td>0.665714</td>\n",
       "      <td>-6.152593</td>\n",
       "      <td>1.000146</td>\n",
       "      <td>30.132364</td>\n",
       "    </tr>\n",
       "    <tr>\n",
       "      <th>99999</th>\n",
       "      <td>relB0</td>\n",
       "      <td>-3.426139</td>\n",
       "      <td>-7.794274</td>\n",
       "      <td>-0.003299</td>\n",
       "      <td>3.179103</td>\n",
       "    </tr>\n",
       "  </tbody>\n",
       "</table>\n",
       "<p>100000 rows × 5 columns</p>\n",
       "</div>"
      ],
      "text/plain": [
       "          id         f0         f1        f2     product\n",
       "0      kBEdx -15.001348  -8.276000 -0.005876    3.179103\n",
       "1      62mP7  14.272088  -3.475083  0.999183   26.953261\n",
       "2      vyE1P   6.263187  -5.948386  5.001160  134.766305\n",
       "3      KcrkZ -13.081196 -11.506057  4.999415  137.945408\n",
       "4      AHL4O  12.702195  -8.147433  5.004363  134.766305\n",
       "...      ...        ...        ...       ...         ...\n",
       "99995  QywKC   9.535637  -6.878139  1.998296   53.906522\n",
       "99996  ptvty -10.160631 -12.558096  5.005581  137.945408\n",
       "99997  09gWa  -7.378891  -3.084104  4.998651  137.945408\n",
       "99998  rqwUm   0.665714  -6.152593  1.000146   30.132364\n",
       "99999  relB0  -3.426139  -7.794274 -0.003299    3.179103\n",
       "\n",
       "[100000 rows x 5 columns]"
      ]
     },
     "metadata": {},
     "output_type": "display_data"
    },
    {
     "data": {
      "text/html": [
       "<div>\n",
       "<style scoped>\n",
       "    .dataframe tbody tr th:only-of-type {\n",
       "        vertical-align: middle;\n",
       "    }\n",
       "\n",
       "    .dataframe tbody tr th {\n",
       "        vertical-align: top;\n",
       "    }\n",
       "\n",
       "    .dataframe thead th {\n",
       "        text-align: right;\n",
       "    }\n",
       "</style>\n",
       "<table border=\"1\" class=\"dataframe\">\n",
       "  <thead>\n",
       "    <tr style=\"text-align: right;\">\n",
       "      <th></th>\n",
       "      <th>id</th>\n",
       "      <th>f0</th>\n",
       "      <th>f1</th>\n",
       "      <th>f2</th>\n",
       "      <th>product</th>\n",
       "    </tr>\n",
       "  </thead>\n",
       "  <tbody>\n",
       "    <tr>\n",
       "      <th>0</th>\n",
       "      <td>fwXo0</td>\n",
       "      <td>-1.146987</td>\n",
       "      <td>0.963328</td>\n",
       "      <td>-0.828965</td>\n",
       "      <td>27.758673</td>\n",
       "    </tr>\n",
       "    <tr>\n",
       "      <th>1</th>\n",
       "      <td>WJtFt</td>\n",
       "      <td>0.262778</td>\n",
       "      <td>0.269839</td>\n",
       "      <td>-2.530187</td>\n",
       "      <td>56.069697</td>\n",
       "    </tr>\n",
       "    <tr>\n",
       "      <th>2</th>\n",
       "      <td>ovLUW</td>\n",
       "      <td>0.194587</td>\n",
       "      <td>0.289035</td>\n",
       "      <td>-5.586433</td>\n",
       "      <td>62.871910</td>\n",
       "    </tr>\n",
       "    <tr>\n",
       "      <th>3</th>\n",
       "      <td>q6cA6</td>\n",
       "      <td>2.236060</td>\n",
       "      <td>-0.553760</td>\n",
       "      <td>0.930038</td>\n",
       "      <td>114.572842</td>\n",
       "    </tr>\n",
       "    <tr>\n",
       "      <th>4</th>\n",
       "      <td>WPMUX</td>\n",
       "      <td>-0.515993</td>\n",
       "      <td>1.716266</td>\n",
       "      <td>5.899011</td>\n",
       "      <td>149.600746</td>\n",
       "    </tr>\n",
       "    <tr>\n",
       "      <th>...</th>\n",
       "      <td>...</td>\n",
       "      <td>...</td>\n",
       "      <td>...</td>\n",
       "      <td>...</td>\n",
       "      <td>...</td>\n",
       "    </tr>\n",
       "    <tr>\n",
       "      <th>99995</th>\n",
       "      <td>4GxBu</td>\n",
       "      <td>-1.777037</td>\n",
       "      <td>1.125220</td>\n",
       "      <td>6.263374</td>\n",
       "      <td>172.327046</td>\n",
       "    </tr>\n",
       "    <tr>\n",
       "      <th>99996</th>\n",
       "      <td>YKFjq</td>\n",
       "      <td>-1.261523</td>\n",
       "      <td>-0.894828</td>\n",
       "      <td>2.524545</td>\n",
       "      <td>138.748846</td>\n",
       "    </tr>\n",
       "    <tr>\n",
       "      <th>99997</th>\n",
       "      <td>tKPY3</td>\n",
       "      <td>-1.199934</td>\n",
       "      <td>-2.957637</td>\n",
       "      <td>5.219411</td>\n",
       "      <td>157.080080</td>\n",
       "    </tr>\n",
       "    <tr>\n",
       "      <th>99998</th>\n",
       "      <td>nmxp2</td>\n",
       "      <td>-2.419896</td>\n",
       "      <td>2.417221</td>\n",
       "      <td>-5.548444</td>\n",
       "      <td>51.795253</td>\n",
       "    </tr>\n",
       "    <tr>\n",
       "      <th>99999</th>\n",
       "      <td>V9kWn</td>\n",
       "      <td>-2.551421</td>\n",
       "      <td>-2.025625</td>\n",
       "      <td>6.090891</td>\n",
       "      <td>102.775767</td>\n",
       "    </tr>\n",
       "  </tbody>\n",
       "</table>\n",
       "<p>100000 rows × 5 columns</p>\n",
       "</div>"
      ],
      "text/plain": [
       "          id        f0        f1        f2     product\n",
       "0      fwXo0 -1.146987  0.963328 -0.828965   27.758673\n",
       "1      WJtFt  0.262778  0.269839 -2.530187   56.069697\n",
       "2      ovLUW  0.194587  0.289035 -5.586433   62.871910\n",
       "3      q6cA6  2.236060 -0.553760  0.930038  114.572842\n",
       "4      WPMUX -0.515993  1.716266  5.899011  149.600746\n",
       "...      ...       ...       ...       ...         ...\n",
       "99995  4GxBu -1.777037  1.125220  6.263374  172.327046\n",
       "99996  YKFjq -1.261523 -0.894828  2.524545  138.748846\n",
       "99997  tKPY3 -1.199934 -2.957637  5.219411  157.080080\n",
       "99998  nmxp2 -2.419896  2.417221 -5.548444   51.795253\n",
       "99999  V9kWn -2.551421 -2.025625  6.090891  102.775767\n",
       "\n",
       "[100000 rows x 5 columns]"
      ]
     },
     "metadata": {},
     "output_type": "display_data"
    }
   ],
   "source": [
    "display(df_1)\n",
    "display(df_2)\n",
    "display(df_3)"
   ]
  },
  {
   "cell_type": "code",
   "execution_count": 4,
   "metadata": {},
   "outputs": [
    {
     "name": "stdout",
     "output_type": "stream",
     "text": [
      "<class 'pandas.core.frame.DataFrame'>\n",
      "RangeIndex: 100000 entries, 0 to 99999\n",
      "Data columns (total 5 columns):\n",
      " #   Column   Non-Null Count   Dtype  \n",
      "---  ------   --------------   -----  \n",
      " 0   id       100000 non-null  object \n",
      " 1   f0       100000 non-null  float64\n",
      " 2   f1       100000 non-null  float64\n",
      " 3   f2       100000 non-null  float64\n",
      " 4   product  100000 non-null  float64\n",
      "dtypes: float64(4), object(1)\n",
      "memory usage: 3.8+ MB\n",
      "None\n",
      "\n",
      "<class 'pandas.core.frame.DataFrame'>\n",
      "RangeIndex: 100000 entries, 0 to 99999\n",
      "Data columns (total 5 columns):\n",
      " #   Column   Non-Null Count   Dtype  \n",
      "---  ------   --------------   -----  \n",
      " 0   id       100000 non-null  object \n",
      " 1   f0       100000 non-null  float64\n",
      " 2   f1       100000 non-null  float64\n",
      " 3   f2       100000 non-null  float64\n",
      " 4   product  100000 non-null  float64\n",
      "dtypes: float64(4), object(1)\n",
      "memory usage: 3.8+ MB\n",
      "None\n",
      "\n",
      "<class 'pandas.core.frame.DataFrame'>\n",
      "RangeIndex: 100000 entries, 0 to 99999\n",
      "Data columns (total 5 columns):\n",
      " #   Column   Non-Null Count   Dtype  \n",
      "---  ------   --------------   -----  \n",
      " 0   id       100000 non-null  object \n",
      " 1   f0       100000 non-null  float64\n",
      " 2   f1       100000 non-null  float64\n",
      " 3   f2       100000 non-null  float64\n",
      " 4   product  100000 non-null  float64\n",
      "dtypes: float64(4), object(1)\n",
      "memory usage: 3.8+ MB\n",
      "None\n"
     ]
    }
   ],
   "source": [
    "print(df_1.info())\n",
    "print()\n",
    "print(df_2.info())\n",
    "print()\n",
    "print(df_3.info())"
   ]
  },
  {
   "cell_type": "code",
   "execution_count": 5,
   "metadata": {},
   "outputs": [
    {
     "data": {
      "text/html": [
       "<div>\n",
       "<style scoped>\n",
       "    .dataframe tbody tr th:only-of-type {\n",
       "        vertical-align: middle;\n",
       "    }\n",
       "\n",
       "    .dataframe tbody tr th {\n",
       "        vertical-align: top;\n",
       "    }\n",
       "\n",
       "    .dataframe thead th {\n",
       "        text-align: right;\n",
       "    }\n",
       "</style>\n",
       "<table border=\"1\" class=\"dataframe\">\n",
       "  <thead>\n",
       "    <tr style=\"text-align: right;\">\n",
       "      <th></th>\n",
       "      <th>f0</th>\n",
       "      <th>f1</th>\n",
       "      <th>f2</th>\n",
       "      <th>product</th>\n",
       "    </tr>\n",
       "  </thead>\n",
       "  <tbody>\n",
       "    <tr>\n",
       "      <th>count</th>\n",
       "      <td>100000.000000</td>\n",
       "      <td>100000.000000</td>\n",
       "      <td>100000.000000</td>\n",
       "      <td>100000.000000</td>\n",
       "    </tr>\n",
       "    <tr>\n",
       "      <th>mean</th>\n",
       "      <td>0.500419</td>\n",
       "      <td>0.250143</td>\n",
       "      <td>2.502647</td>\n",
       "      <td>92.500000</td>\n",
       "    </tr>\n",
       "    <tr>\n",
       "      <th>std</th>\n",
       "      <td>0.871832</td>\n",
       "      <td>0.504433</td>\n",
       "      <td>3.248248</td>\n",
       "      <td>44.288691</td>\n",
       "    </tr>\n",
       "    <tr>\n",
       "      <th>min</th>\n",
       "      <td>-1.408605</td>\n",
       "      <td>-0.848218</td>\n",
       "      <td>-12.088328</td>\n",
       "      <td>0.000000</td>\n",
       "    </tr>\n",
       "    <tr>\n",
       "      <th>25%</th>\n",
       "      <td>-0.072580</td>\n",
       "      <td>-0.200881</td>\n",
       "      <td>0.287748</td>\n",
       "      <td>56.497507</td>\n",
       "    </tr>\n",
       "    <tr>\n",
       "      <th>50%</th>\n",
       "      <td>0.502360</td>\n",
       "      <td>0.250252</td>\n",
       "      <td>2.515969</td>\n",
       "      <td>91.849972</td>\n",
       "    </tr>\n",
       "    <tr>\n",
       "      <th>75%</th>\n",
       "      <td>1.073581</td>\n",
       "      <td>0.700646</td>\n",
       "      <td>4.715088</td>\n",
       "      <td>128.564089</td>\n",
       "    </tr>\n",
       "    <tr>\n",
       "      <th>max</th>\n",
       "      <td>2.362331</td>\n",
       "      <td>1.343769</td>\n",
       "      <td>16.003790</td>\n",
       "      <td>185.364347</td>\n",
       "    </tr>\n",
       "  </tbody>\n",
       "</table>\n",
       "</div>"
      ],
      "text/plain": [
       "                  f0             f1             f2        product\n",
       "count  100000.000000  100000.000000  100000.000000  100000.000000\n",
       "mean        0.500419       0.250143       2.502647      92.500000\n",
       "std         0.871832       0.504433       3.248248      44.288691\n",
       "min        -1.408605      -0.848218     -12.088328       0.000000\n",
       "25%        -0.072580      -0.200881       0.287748      56.497507\n",
       "50%         0.502360       0.250252       2.515969      91.849972\n",
       "75%         1.073581       0.700646       4.715088     128.564089\n",
       "max         2.362331       1.343769      16.003790     185.364347"
      ]
     },
     "metadata": {},
     "output_type": "display_data"
    },
    {
     "name": "stdout",
     "output_type": "stream",
     "text": [
      "\n"
     ]
    },
    {
     "data": {
      "text/html": [
       "<div>\n",
       "<style scoped>\n",
       "    .dataframe tbody tr th:only-of-type {\n",
       "        vertical-align: middle;\n",
       "    }\n",
       "\n",
       "    .dataframe tbody tr th {\n",
       "        vertical-align: top;\n",
       "    }\n",
       "\n",
       "    .dataframe thead th {\n",
       "        text-align: right;\n",
       "    }\n",
       "</style>\n",
       "<table border=\"1\" class=\"dataframe\">\n",
       "  <thead>\n",
       "    <tr style=\"text-align: right;\">\n",
       "      <th></th>\n",
       "      <th>f0</th>\n",
       "      <th>f1</th>\n",
       "      <th>f2</th>\n",
       "      <th>product</th>\n",
       "    </tr>\n",
       "  </thead>\n",
       "  <tbody>\n",
       "    <tr>\n",
       "      <th>count</th>\n",
       "      <td>100000.000000</td>\n",
       "      <td>100000.000000</td>\n",
       "      <td>100000.000000</td>\n",
       "      <td>100000.000000</td>\n",
       "    </tr>\n",
       "    <tr>\n",
       "      <th>mean</th>\n",
       "      <td>1.141296</td>\n",
       "      <td>-4.796579</td>\n",
       "      <td>2.494541</td>\n",
       "      <td>68.825000</td>\n",
       "    </tr>\n",
       "    <tr>\n",
       "      <th>std</th>\n",
       "      <td>8.965932</td>\n",
       "      <td>5.119872</td>\n",
       "      <td>1.703572</td>\n",
       "      <td>45.944423</td>\n",
       "    </tr>\n",
       "    <tr>\n",
       "      <th>min</th>\n",
       "      <td>-31.609576</td>\n",
       "      <td>-26.358598</td>\n",
       "      <td>-0.018144</td>\n",
       "      <td>0.000000</td>\n",
       "    </tr>\n",
       "    <tr>\n",
       "      <th>25%</th>\n",
       "      <td>-6.298551</td>\n",
       "      <td>-8.267985</td>\n",
       "      <td>1.000021</td>\n",
       "      <td>26.953261</td>\n",
       "    </tr>\n",
       "    <tr>\n",
       "      <th>50%</th>\n",
       "      <td>1.153055</td>\n",
       "      <td>-4.813172</td>\n",
       "      <td>2.011479</td>\n",
       "      <td>57.085625</td>\n",
       "    </tr>\n",
       "    <tr>\n",
       "      <th>75%</th>\n",
       "      <td>8.621015</td>\n",
       "      <td>-1.332816</td>\n",
       "      <td>3.999904</td>\n",
       "      <td>107.813044</td>\n",
       "    </tr>\n",
       "    <tr>\n",
       "      <th>max</th>\n",
       "      <td>29.421755</td>\n",
       "      <td>18.734063</td>\n",
       "      <td>5.019721</td>\n",
       "      <td>137.945408</td>\n",
       "    </tr>\n",
       "  </tbody>\n",
       "</table>\n",
       "</div>"
      ],
      "text/plain": [
       "                  f0             f1             f2        product\n",
       "count  100000.000000  100000.000000  100000.000000  100000.000000\n",
       "mean        1.141296      -4.796579       2.494541      68.825000\n",
       "std         8.965932       5.119872       1.703572      45.944423\n",
       "min       -31.609576     -26.358598      -0.018144       0.000000\n",
       "25%        -6.298551      -8.267985       1.000021      26.953261\n",
       "50%         1.153055      -4.813172       2.011479      57.085625\n",
       "75%         8.621015      -1.332816       3.999904     107.813044\n",
       "max        29.421755      18.734063       5.019721     137.945408"
      ]
     },
     "metadata": {},
     "output_type": "display_data"
    },
    {
     "name": "stdout",
     "output_type": "stream",
     "text": [
      "\n"
     ]
    },
    {
     "data": {
      "text/html": [
       "<div>\n",
       "<style scoped>\n",
       "    .dataframe tbody tr th:only-of-type {\n",
       "        vertical-align: middle;\n",
       "    }\n",
       "\n",
       "    .dataframe tbody tr th {\n",
       "        vertical-align: top;\n",
       "    }\n",
       "\n",
       "    .dataframe thead th {\n",
       "        text-align: right;\n",
       "    }\n",
       "</style>\n",
       "<table border=\"1\" class=\"dataframe\">\n",
       "  <thead>\n",
       "    <tr style=\"text-align: right;\">\n",
       "      <th></th>\n",
       "      <th>f0</th>\n",
       "      <th>f1</th>\n",
       "      <th>f2</th>\n",
       "      <th>product</th>\n",
       "    </tr>\n",
       "  </thead>\n",
       "  <tbody>\n",
       "    <tr>\n",
       "      <th>count</th>\n",
       "      <td>100000.000000</td>\n",
       "      <td>100000.000000</td>\n",
       "      <td>100000.000000</td>\n",
       "      <td>100000.000000</td>\n",
       "    </tr>\n",
       "    <tr>\n",
       "      <th>mean</th>\n",
       "      <td>0.002023</td>\n",
       "      <td>-0.002081</td>\n",
       "      <td>2.495128</td>\n",
       "      <td>95.000000</td>\n",
       "    </tr>\n",
       "    <tr>\n",
       "      <th>std</th>\n",
       "      <td>1.732045</td>\n",
       "      <td>1.730417</td>\n",
       "      <td>3.473445</td>\n",
       "      <td>44.749921</td>\n",
       "    </tr>\n",
       "    <tr>\n",
       "      <th>min</th>\n",
       "      <td>-8.760004</td>\n",
       "      <td>-7.084020</td>\n",
       "      <td>-11.970335</td>\n",
       "      <td>0.000000</td>\n",
       "    </tr>\n",
       "    <tr>\n",
       "      <th>25%</th>\n",
       "      <td>-1.162288</td>\n",
       "      <td>-1.174820</td>\n",
       "      <td>0.130359</td>\n",
       "      <td>59.450441</td>\n",
       "    </tr>\n",
       "    <tr>\n",
       "      <th>50%</th>\n",
       "      <td>0.009424</td>\n",
       "      <td>-0.009482</td>\n",
       "      <td>2.484236</td>\n",
       "      <td>94.925613</td>\n",
       "    </tr>\n",
       "    <tr>\n",
       "      <th>75%</th>\n",
       "      <td>1.158535</td>\n",
       "      <td>1.163678</td>\n",
       "      <td>4.858794</td>\n",
       "      <td>130.595027</td>\n",
       "    </tr>\n",
       "    <tr>\n",
       "      <th>max</th>\n",
       "      <td>7.238262</td>\n",
       "      <td>7.844801</td>\n",
       "      <td>16.739402</td>\n",
       "      <td>190.029838</td>\n",
       "    </tr>\n",
       "  </tbody>\n",
       "</table>\n",
       "</div>"
      ],
      "text/plain": [
       "                  f0             f1             f2        product\n",
       "count  100000.000000  100000.000000  100000.000000  100000.000000\n",
       "mean        0.002023      -0.002081       2.495128      95.000000\n",
       "std         1.732045       1.730417       3.473445      44.749921\n",
       "min        -8.760004      -7.084020     -11.970335       0.000000\n",
       "25%        -1.162288      -1.174820       0.130359      59.450441\n",
       "50%         0.009424      -0.009482       2.484236      94.925613\n",
       "75%         1.158535       1.163678       4.858794     130.595027\n",
       "max         7.238262       7.844801      16.739402     190.029838"
      ]
     },
     "metadata": {},
     "output_type": "display_data"
    }
   ],
   "source": [
    "display(df_1.describe())\n",
    "print()\n",
    "display(df_2.describe())\n",
    "print()\n",
    "display(df_3.describe())"
   ]
  },
  {
   "cell_type": "markdown",
   "metadata": {},
   "source": [
    "There are no missing values in the data"
   ]
  },
  {
   "cell_type": "code",
   "execution_count": 6,
   "metadata": {},
   "outputs": [
    {
     "name": "stdout",
     "output_type": "stream",
     "text": [
      "0\n",
      "0\n",
      "0\n"
     ]
    }
   ],
   "source": [
    "print(df_1.duplicated().sum())\n",
    "print(df_2.duplicated().sum())\n",
    "print(df_3.duplicated().sum())"
   ]
  },
  {
   "cell_type": "markdown",
   "metadata": {},
   "source": [
    "There are no obvious duplicates in the data"
   ]
  },
  {
   "cell_type": "code",
   "execution_count": 7,
   "metadata": {},
   "outputs": [],
   "source": [
    "df_1.drop('id', axis=1, inplace=True)\n",
    "df_2.drop('id', axis=1, inplace=True)\n",
    "df_3.drop('id', axis=1, inplace=True)"
   ]
  },
  {
   "cell_type": "markdown",
   "metadata": {},
   "source": [
    "Unnecessary id columns have been removed"
   ]
  },
  {
   "cell_type": "markdown",
   "metadata": {},
   "source": [
    "### Conclusion"
   ]
  },
  {
   "cell_type": "markdown",
   "metadata": {},
   "source": [
    "The data has been verified and is ready for further processing"
   ]
  },
  {
   "cell_type": "markdown",
   "metadata": {},
   "source": [
    "## Model training and testing"
   ]
  },
  {
   "cell_type": "code",
   "execution_count": 8,
   "metadata": {},
   "outputs": [],
   "source": [
    "# fix random_state\n",
    "random_state=12345"
   ]
  },
  {
   "cell_type": "code",
   "execution_count": 9,
   "metadata": {},
   "outputs": [],
   "source": [
    "def model_calc(df):\n",
    "    features = df.drop('product',axis=1)\n",
    "    target = df['product']\n",
    "    \n",
    "    features_train, features_valid, target_train, target_valid = train_test_split(features,target,test_size=0.25,\n",
    "                                                                                  random_state=random_state)\n",
    "    model = LinearRegression()\n",
    "    model.fit(features_train,target_train)\n",
    "    predictions = model.predict(features_valid)\n",
    "    print('Average stock of actual raw materials: ',round(target_valid.mean(),3))\n",
    "    print('Average stock of predicted raw materials: ',round(predictions.mean(),3))\n",
    "    print('RMSE: ',round(mean_squared_error(target_valid,predictions)**0.5,3))\n",
    "    return predictions, features_train, features_valid, target_train, target_valid"
   ]
  },
  {
   "cell_type": "code",
   "execution_count": 10,
   "metadata": {},
   "outputs": [
    {
     "name": "stdout",
     "output_type": "stream",
     "text": [
      "FIRST FIELD:\n",
      "Average stock of actual raw materials:  92.079\n",
      "Average stock of predicted raw materials:  92.593\n",
      "RMSE:  37.579\n",
      "\n",
      "SECOND FIELD:\n",
      "Average stock of actual raw materials:  68.723\n",
      "Average stock of predicted raw materials:  68.729\n",
      "RMSE:  0.893\n",
      "\n",
      "THIRD FIELD:\n",
      "Average stock of actual raw materials:  94.884\n",
      "Average stock of predicted raw materials:  94.965\n",
      "RMSE:  40.03\n"
     ]
    }
   ],
   "source": [
    "print('FIRST FIELD:')\n",
    "predictions_1, features_train_1, features_valid_1, target_train_1, target_valid_1 = model_calc(df_1)\n",
    "print()\n",
    "print('SECOND FIELD:')\n",
    "predictions_2, features_train_2, features_valid_2, target_train_2, target_valid_2 = model_calc(df_2)\n",
    "print()\n",
    "print('THIRD FIELD:')\n",
    "predictions_3, features_train_3, features_valid_3, target_train_3, target_valid_3 = model_calc(df_3)"
   ]
  },
  {
   "cell_type": "markdown",
   "metadata": {},
   "source": [
    "### Conclusion:"
   ]
  },
  {
   "cell_type": "markdown",
   "metadata": {},
   "source": [
    "based on the average predicted reserves and RMSE, the most accurate model is the model of the second deposit (the smallest RMSE), but in terms of the number of reserves this deposit is less."
   ]
  },
  {
   "cell_type": "markdown",
   "metadata": {},
   "source": [
    "## Preparation for profit calculation"
   ]
  },
  {
   "cell_type": "code",
   "execution_count": 11,
   "metadata": {},
   "outputs": [
    {
     "name": "stdout",
     "output_type": "stream",
     "text": [
      "Costs per well:  50000000.0\n",
      "Required average production for payback of one well (thousand barrels):  111.111\n"
     ]
    }
   ],
   "source": [
    "ALL_MONEY = 10000000000\n",
    "BAR_1000 = 450000\n",
    "TARGET_LOSS = 0.025\n",
    "\n",
    "WELLS = 200\n",
    "ONE_WELL = ALL_MONEY/WELLS\n",
    "print('Costs per well: ', ONE_WELL)\n",
    "TARGET_BAR = ONE_WELL/450000\n",
    "print('Required average production for payback of one well (thousand barrels): ', round(TARGET_BAR,3))"
   ]
  },
  {
   "cell_type": "markdown",
   "metadata": {},
   "source": [
    "### Conclusion"
   ]
  },
  {
   "cell_type": "markdown",
   "metadata": {},
   "source": [
    "- The average sufficient volume of raw materials for the break-even development of a new well is 111.11 thousand bar.\n",
    "- The average reserves for each region are (thousand barrels):\n",
    "  * 92.59 (first)\n",
    "  * 68.73 (second)\n",
    "  * 94.97 (third)\n",
    "- As we see the average indicators do not correspond to the minimum payback, we conclude about that there are significant risks\n",
    "- It is also worth noting that the second region is significantly lower in terms of average production, but this is only an average value."
   ]
  },
  {
   "cell_type": "markdown",
   "metadata": {},
   "source": [
    "## Calculation of profit and risks"
   ]
  },
  {
   "cell_type": "code",
   "execution_count": 12,
   "metadata": {},
   "outputs": [],
   "source": [
    "def profit(predictions, target_valid):\n",
    "    predictions = pd.Series(predictions)\n",
    "    profit = predictions.sort_values(ascending=False).head(200).index\n",
    "    profit = target_valid.reset_index(drop=True).iloc[profit].sum()*BAR_1000 - ALL_MONEY\n",
    "    return round(profit,3)"
   ]
  },
  {
   "cell_type": "code",
   "execution_count": 13,
   "metadata": {},
   "outputs": [
    {
     "name": "stdout",
     "output_type": "stream",
     "text": [
      "FIRST FIELD:\n",
      "Total profit: 3320826043.14\n",
      "\n",
      "SECOND FIELD:\n",
      "Total profit: 2415086696.682\n",
      "\n",
      "THIRD FIELD:\n",
      "Total profit: 2710349963.6\n"
     ]
    }
   ],
   "source": [
    "print('FIRST FIELD:')\n",
    "print('Total profit:',profit(predictions_1,target_valid_1))\n",
    "print()\n",
    "print('SECOND FIELD:')\n",
    "print('Total profit:',profit(predictions_2,target_valid_2))\n",
    "print()\n",
    "print('THIRD FIELD:')\n",
    "print('Total profit:',profit(predictions_3,target_valid_3))"
   ]
  },
  {
   "cell_type": "code",
   "execution_count": 14,
   "metadata": {},
   "outputs": [],
   "source": [
    "state = np.random.RandomState(12345)\n",
    "def bootstrap(predictions,target_valid):    \n",
    "    values = []\n",
    "    for i in range(1000):\n",
    "        predictions = pd.Series(predictions)\n",
    "        subsample = predictions.sample(n=500, replace=True, random_state=state)\n",
    "        values.append(profit(subsample,target_valid))\n",
    "\n",
    "    values = pd.Series(values)\n",
    "    lower = values.quantile(0.025)\n",
    "    higher = values.quantile(0.975)\n",
    "\n",
    "    print('Average profit:',round(sum(values)/len(values),3))\n",
    "    print('Upper bound of the confidence interval:', round(higher,3))\n",
    "    print('Lower bound of the confidence interval:', round(lower,3))\n",
    "    print('Risk of losses:',round(len(values[values < 0])/len(values)*100,3))"
   ]
  },
  {
   "cell_type": "code",
   "execution_count": 15,
   "metadata": {},
   "outputs": [
    {
     "name": "stdout",
     "output_type": "stream",
     "text": [
      "FIRST FIELD:\n",
      "Average profit: 396164984.802\n",
      "Upper bound of the confidence interval: 909766941.553\n",
      "Lower bound of the confidence interval: -111215545.89\n",
      "Risk of losses: 6.9\n",
      "\n",
      "SECOND FIELD:\n",
      "Average profit: 461155817.277\n",
      "Upper bound of the confidence interval: 862952060.264\n",
      "Lower bound of the confidence interval: 78050810.752\n",
      "Risk of losses: 0.7\n",
      "\n",
      "THIRD FIELD:\n",
      "Average profit: 392950475.171\n",
      "Upper bound of the confidence interval: 934562914.551\n",
      "Lower bound of the confidence interval: -112227625.379\n",
      "Risk of losses: 6.5\n"
     ]
    }
   ],
   "source": [
    "print('FIRST FIELD:')\n",
    "bootstrap(predictions_1,target_valid_1)\n",
    "print()\n",
    "print('SECOND FIELD:')\n",
    "bootstrap(predictions_2,target_valid_2)\n",
    "print()\n",
    "print('THIRD FIELD:')\n",
    "bootstrap(predictions_3,target_valid_3)"
   ]
  },
  {
   "cell_type": "markdown",
   "metadata": {},
   "source": [
    "### Conclusion"
   ]
  },
  {
   "cell_type": "markdown",
   "metadata": {},
   "source": [
    "Based on the analysis, the implementation of the Second deposit is proposed:\n",
    "\n",
    "1) It was found that the smallest RMSE has a second deposit;\n",
    "\n",
    "2) During Bootstrap, it was revealed that the region with the highest average profit is the Second field;\n",
    "\n",
    "3) The lowest risk of losses is also in the Second deposit, the risk is quite insignificant (<1%) compared to the potential profit"
   ]
  }
 ],
 "metadata": {
  "ExecuteTimeLog": [
   {
    "duration": 362,
    "start_time": "2022-05-04T17:47:40.586Z"
   },
   {
    "duration": 559,
    "start_time": "2022-05-04T17:48:11.778Z"
   },
   {
    "duration": 1473,
    "start_time": "2022-05-04T17:48:28.120Z"
   },
   {
    "duration": 29,
    "start_time": "2022-05-04T17:48:46.460Z"
   },
   {
    "duration": 34,
    "start_time": "2022-05-04T17:48:55.586Z"
   },
   {
    "duration": 19,
    "start_time": "2022-05-04T17:49:18.127Z"
   },
   {
    "duration": 31,
    "start_time": "2022-05-04T17:49:37.124Z"
   },
   {
    "duration": 51,
    "start_time": "2022-05-04T17:50:23.195Z"
   },
   {
    "duration": 49,
    "start_time": "2022-05-04T17:50:27.827Z"
   },
   {
    "duration": 126,
    "start_time": "2022-05-04T17:50:40.948Z"
   },
   {
    "duration": 143,
    "start_time": "2022-05-04T17:51:03.914Z"
   },
   {
    "duration": 14,
    "start_time": "2022-05-04T17:56:58.471Z"
   },
   {
    "duration": 17,
    "start_time": "2022-05-04T17:57:20.876Z"
   },
   {
    "duration": 13,
    "start_time": "2022-05-04T17:57:27.711Z"
   },
   {
    "duration": 31,
    "start_time": "2022-05-04T17:57:37.905Z"
   },
   {
    "duration": 10,
    "start_time": "2022-05-04T17:57:39.911Z"
   },
   {
    "duration": 77,
    "start_time": "2022-05-04T17:57:53.646Z"
   },
   {
    "duration": 3,
    "start_time": "2022-05-04T17:57:57.558Z"
   },
   {
    "duration": 410,
    "start_time": "2022-05-04T17:57:57.563Z"
   },
   {
    "duration": 34,
    "start_time": "2022-05-04T17:57:57.975Z"
   },
   {
    "duration": 54,
    "start_time": "2022-05-04T17:57:58.011Z"
   },
   {
    "duration": 149,
    "start_time": "2022-05-04T17:57:58.067Z"
   },
   {
    "duration": 17,
    "start_time": "2022-05-04T17:58:01.646Z"
   },
   {
    "duration": 14,
    "start_time": "2022-05-04T17:58:03.760Z"
   },
   {
    "duration": 798,
    "start_time": "2022-05-04T18:00:17.330Z"
   },
   {
    "duration": 4,
    "start_time": "2022-05-04T18:15:34.746Z"
   },
   {
    "duration": 82,
    "start_time": "2022-05-04T18:15:42.753Z"
   },
   {
    "duration": 65,
    "start_time": "2022-05-04T18:15:49.573Z"
   },
   {
    "duration": 29,
    "start_time": "2022-05-04T18:15:53.914Z"
   },
   {
    "duration": 3,
    "start_time": "2022-05-04T18:16:15.336Z"
   },
   {
    "duration": 29,
    "start_time": "2022-05-04T18:16:22.434Z"
   },
   {
    "duration": 4,
    "start_time": "2022-05-04T18:18:54.525Z"
   },
   {
    "duration": 63,
    "start_time": "2022-05-04T18:18:55.170Z"
   },
   {
    "duration": 5,
    "start_time": "2022-05-04T18:19:07.198Z"
   },
   {
    "duration": 33,
    "start_time": "2022-05-04T18:19:07.625Z"
   },
   {
    "duration": 4,
    "start_time": "2022-05-04T18:19:30.722Z"
   },
   {
    "duration": 33,
    "start_time": "2022-05-04T18:19:31.243Z"
   },
   {
    "duration": 517,
    "start_time": "2022-05-04T18:20:41.121Z"
   },
   {
    "duration": 3,
    "start_time": "2022-05-04T18:23:21.463Z"
   },
   {
    "duration": 4,
    "start_time": "2022-05-04T18:26:15.310Z"
   },
   {
    "duration": 401,
    "start_time": "2022-05-04T18:26:16.347Z"
   },
   {
    "duration": 4,
    "start_time": "2022-05-04T18:28:58.175Z"
   },
   {
    "duration": 439,
    "start_time": "2022-05-04T18:29:00.997Z"
   },
   {
    "duration": 9,
    "start_time": "2022-05-05T07:27:14.211Z"
   },
   {
    "duration": 4,
    "start_time": "2022-05-05T07:33:45.449Z"
   },
   {
    "duration": 5,
    "start_time": "2022-05-05T07:35:53.243Z"
   },
   {
    "duration": 4,
    "start_time": "2022-05-05T07:36:08.068Z"
   },
   {
    "duration": 5,
    "start_time": "2022-05-05T07:39:49.880Z"
   },
   {
    "duration": 5,
    "start_time": "2022-05-05T07:39:55.521Z"
   },
   {
    "duration": 65,
    "start_time": "2022-05-05T07:46:32.432Z"
   },
   {
    "duration": 1389,
    "start_time": "2022-05-05T07:47:44.234Z"
   },
   {
    "duration": 918,
    "start_time": "2022-05-05T07:47:45.625Z"
   },
   {
    "duration": 35,
    "start_time": "2022-05-05T07:47:46.544Z"
   },
   {
    "duration": 44,
    "start_time": "2022-05-05T07:47:46.580Z"
   },
   {
    "duration": 141,
    "start_time": "2022-05-05T07:47:46.626Z"
   },
   {
    "duration": 16,
    "start_time": "2022-05-05T07:47:46.768Z"
   },
   {
    "duration": 5,
    "start_time": "2022-05-05T07:47:46.792Z"
   },
   {
    "duration": 348,
    "start_time": "2022-05-05T07:47:50.953Z"
   },
   {
    "duration": 4,
    "start_time": "2022-05-05T07:48:19.282Z"
   },
   {
    "duration": 5,
    "start_time": "2022-05-05T07:50:54.307Z"
   },
   {
    "duration": 63,
    "start_time": "2022-05-05T07:51:00.493Z"
   },
   {
    "duration": 6,
    "start_time": "2022-05-05T07:52:05.987Z"
   },
   {
    "duration": 8,
    "start_time": "2022-05-05T07:52:21.899Z"
   },
   {
    "duration": 8,
    "start_time": "2022-05-05T07:52:33.756Z"
   },
   {
    "duration": 10,
    "start_time": "2022-05-05T07:52:40.230Z"
   },
   {
    "duration": 9,
    "start_time": "2022-05-05T07:53:06.525Z"
   },
   {
    "duration": 9,
    "start_time": "2022-05-05T07:53:13.415Z"
   },
   {
    "duration": 8,
    "start_time": "2022-05-05T07:53:58.041Z"
   },
   {
    "duration": 7,
    "start_time": "2022-05-05T07:54:02.464Z"
   },
   {
    "duration": 7,
    "start_time": "2022-05-05T07:54:08.708Z"
   },
   {
    "duration": 7,
    "start_time": "2022-05-05T07:54:12.494Z"
   },
   {
    "duration": 8,
    "start_time": "2022-05-05T07:54:15.489Z"
   },
   {
    "duration": 8,
    "start_time": "2022-05-05T07:54:19.242Z"
   },
   {
    "duration": 7,
    "start_time": "2022-05-05T07:54:25.227Z"
   },
   {
    "duration": 8,
    "start_time": "2022-05-05T07:54:59.981Z"
   },
   {
    "duration": 7,
    "start_time": "2022-05-05T07:55:46.096Z"
   },
   {
    "duration": 8,
    "start_time": "2022-05-05T07:55:51.314Z"
   },
   {
    "duration": 3,
    "start_time": "2022-05-05T07:56:57.834Z"
   },
   {
    "duration": 6,
    "start_time": "2022-05-05T07:57:13.423Z"
   },
   {
    "duration": 7,
    "start_time": "2022-05-05T07:57:20.706Z"
   },
   {
    "duration": 8,
    "start_time": "2022-05-05T07:57:24.697Z"
   },
   {
    "duration": 7,
    "start_time": "2022-05-05T07:57:30.094Z"
   },
   {
    "duration": 7,
    "start_time": "2022-05-05T07:57:33.073Z"
   },
   {
    "duration": 3,
    "start_time": "2022-05-05T07:57:54.502Z"
   },
   {
    "duration": 12,
    "start_time": "2022-05-05T07:57:57.739Z"
   },
   {
    "duration": 6,
    "start_time": "2022-05-05T07:58:11.467Z"
   },
   {
    "duration": 3,
    "start_time": "2022-05-05T07:58:26.786Z"
   },
   {
    "duration": 7,
    "start_time": "2022-05-05T07:58:29.515Z"
   },
   {
    "duration": 7,
    "start_time": "2022-05-05T07:58:31.883Z"
   },
   {
    "duration": 7,
    "start_time": "2022-05-05T07:58:34.587Z"
   },
   {
    "duration": 7,
    "start_time": "2022-05-05T07:58:36.935Z"
   },
   {
    "duration": 7,
    "start_time": "2022-05-05T07:58:39.487Z"
   },
   {
    "duration": 7,
    "start_time": "2022-05-05T07:58:41.676Z"
   },
   {
    "duration": 15,
    "start_time": "2022-05-05T07:59:39.000Z"
   },
   {
    "duration": 5,
    "start_time": "2022-05-05T08:11:06.976Z"
   },
   {
    "duration": 5,
    "start_time": "2022-05-05T08:11:10.247Z"
   },
   {
    "duration": 4,
    "start_time": "2022-05-05T08:11:13.055Z"
   },
   {
    "duration": 3,
    "start_time": "2022-05-05T08:14:56.067Z"
   },
   {
    "duration": 536,
    "start_time": "2022-05-05T08:14:56.073Z"
   },
   {
    "duration": 29,
    "start_time": "2022-05-05T08:14:56.612Z"
   },
   {
    "duration": 51,
    "start_time": "2022-05-05T08:14:56.642Z"
   },
   {
    "duration": 147,
    "start_time": "2022-05-05T08:14:56.696Z"
   },
   {
    "duration": 12,
    "start_time": "2022-05-05T08:14:56.845Z"
   },
   {
    "duration": 15,
    "start_time": "2022-05-05T08:14:56.859Z"
   },
   {
    "duration": 237,
    "start_time": "2022-05-05T08:14:56.875Z"
   },
   {
    "duration": 79,
    "start_time": "2022-05-05T08:14:57.115Z"
   },
   {
    "duration": 117,
    "start_time": "2022-05-05T08:14:57.196Z"
   },
   {
    "duration": 22,
    "start_time": "2022-05-05T08:14:57.316Z"
   },
   {
    "duration": 4,
    "start_time": "2022-05-05T08:15:13.382Z"
   },
   {
    "duration": 3,
    "start_time": "2022-05-05T08:16:16.282Z"
   },
   {
    "duration": 2,
    "start_time": "2022-05-05T08:16:22.106Z"
   },
   {
    "duration": 334,
    "start_time": "2022-05-05T08:16:22.111Z"
   },
   {
    "duration": 48,
    "start_time": "2022-05-05T08:16:22.447Z"
   },
   {
    "duration": 35,
    "start_time": "2022-05-05T08:16:22.497Z"
   },
   {
    "duration": 133,
    "start_time": "2022-05-05T08:16:22.533Z"
   },
   {
    "duration": 12,
    "start_time": "2022-05-05T08:16:22.668Z"
   },
   {
    "duration": 14,
    "start_time": "2022-05-05T08:16:22.682Z"
   },
   {
    "duration": 302,
    "start_time": "2022-05-05T08:16:22.698Z"
   },
   {
    "duration": 5,
    "start_time": "2022-05-05T08:16:23.003Z"
   },
   {
    "duration": 101,
    "start_time": "2022-05-05T08:16:23.093Z"
   },
   {
    "duration": 19,
    "start_time": "2022-05-05T08:16:23.196Z"
   },
   {
    "duration": 3,
    "start_time": "2022-05-05T08:16:48.949Z"
   },
   {
    "duration": 380,
    "start_time": "2022-05-05T08:16:48.955Z"
   },
   {
    "duration": 35,
    "start_time": "2022-05-05T08:16:49.337Z"
   },
   {
    "duration": 62,
    "start_time": "2022-05-05T08:16:49.375Z"
   },
   {
    "duration": 178,
    "start_time": "2022-05-05T08:16:49.438Z"
   },
   {
    "duration": 17,
    "start_time": "2022-05-05T08:16:49.618Z"
   },
   {
    "duration": 6,
    "start_time": "2022-05-05T08:16:49.637Z"
   },
   {
    "duration": 253,
    "start_time": "2022-05-05T08:16:49.646Z"
   },
   {
    "duration": 9,
    "start_time": "2022-05-05T08:16:49.904Z"
   },
   {
    "duration": 90,
    "start_time": "2022-05-05T08:16:49.924Z"
   },
   {
    "duration": 18,
    "start_time": "2022-05-05T08:16:52.109Z"
   },
   {
    "duration": 10,
    "start_time": "2022-05-05T08:17:49.966Z"
   },
   {
    "duration": 3,
    "start_time": "2022-05-05T08:18:08.351Z"
   },
   {
    "duration": 979,
    "start_time": "2022-05-05T08:18:16.692Z"
   },
   {
    "duration": 4,
    "start_time": "2022-05-05T08:19:43.893Z"
   },
   {
    "duration": 522,
    "start_time": "2022-05-05T08:19:43.899Z"
   },
   {
    "duration": 46,
    "start_time": "2022-05-05T08:19:44.424Z"
   },
   {
    "duration": 77,
    "start_time": "2022-05-05T08:19:44.472Z"
   },
   {
    "duration": 201,
    "start_time": "2022-05-05T08:19:44.552Z"
   },
   {
    "duration": 17,
    "start_time": "2022-05-05T08:19:44.756Z"
   },
   {
    "duration": 18,
    "start_time": "2022-05-05T08:19:44.775Z"
   },
   {
    "duration": 301,
    "start_time": "2022-05-05T08:19:44.795Z"
   },
   {
    "duration": 6,
    "start_time": "2022-05-05T08:19:45.099Z"
   },
   {
    "duration": 96,
    "start_time": "2022-05-05T08:19:45.106Z"
   },
   {
    "duration": 91,
    "start_time": "2022-05-05T08:19:45.206Z"
   },
   {
    "duration": 531,
    "start_time": "2022-05-05T08:19:51.629Z"
   },
   {
    "duration": 4,
    "start_time": "2022-05-05T08:24:33.524Z"
   },
   {
    "duration": 4,
    "start_time": "2022-05-05T08:25:10.893Z"
   },
   {
    "duration": 5,
    "start_time": "2022-05-05T08:25:15.256Z"
   },
   {
    "duration": 20,
    "start_time": "2022-05-05T08:25:37.394Z"
   },
   {
    "duration": 15,
    "start_time": "2022-05-05T08:25:54.955Z"
   },
   {
    "duration": 6,
    "start_time": "2022-05-05T08:27:14.981Z"
   },
   {
    "duration": 540,
    "start_time": "2022-05-05T08:27:52.955Z"
   },
   {
    "duration": 674,
    "start_time": "2022-05-05T08:27:57.813Z"
   },
   {
    "duration": 9,
    "start_time": "2022-05-05T08:28:10.149Z"
   },
   {
    "duration": 7,
    "start_time": "2022-05-05T08:28:14.068Z"
   },
   {
    "duration": 7,
    "start_time": "2022-05-05T08:28:19.548Z"
   },
   {
    "duration": 5,
    "start_time": "2022-05-05T08:28:24.311Z"
   },
   {
    "duration": 6,
    "start_time": "2022-05-05T08:28:42.319Z"
   },
   {
    "duration": 7,
    "start_time": "2022-05-05T08:28:46.138Z"
   },
   {
    "duration": 4,
    "start_time": "2022-05-05T08:28:53.851Z"
   },
   {
    "duration": 408,
    "start_time": "2022-05-05T08:29:27.651Z"
   },
   {
    "duration": 4,
    "start_time": "2022-05-05T08:30:35.581Z"
   },
   {
    "duration": 385,
    "start_time": "2022-05-05T08:30:46.596Z"
   },
   {
    "duration": 554,
    "start_time": "2022-05-05T08:30:56.056Z"
   },
   {
    "duration": 561,
    "start_time": "2022-05-05T08:31:00.949Z"
   },
   {
    "duration": 6,
    "start_time": "2022-05-05T08:31:14.581Z"
   },
   {
    "duration": 15,
    "start_time": "2022-05-05T08:31:16.145Z"
   },
   {
    "duration": 5,
    "start_time": "2022-05-05T08:31:21.537Z"
   },
   {
    "duration": 2942,
    "start_time": "2022-05-05T08:31:22.269Z"
   },
   {
    "duration": 2954,
    "start_time": "2022-05-05T08:31:30.416Z"
   },
   {
    "duration": 2928,
    "start_time": "2022-05-05T08:31:40.841Z"
   },
   {
    "duration": 5,
    "start_time": "2022-05-05T08:35:21.908Z"
   },
   {
    "duration": 14,
    "start_time": "2022-05-05T08:35:23.711Z"
   },
   {
    "duration": 5,
    "start_time": "2022-05-05T08:38:00.229Z"
   },
   {
    "duration": 2915,
    "start_time": "2022-05-05T08:38:01.991Z"
   },
   {
    "duration": 2844,
    "start_time": "2022-05-05T08:38:10.880Z"
   },
   {
    "duration": 2746,
    "start_time": "2022-05-05T08:38:18.667Z"
   },
   {
    "duration": 4,
    "start_time": "2022-05-05T08:39:40.089Z"
   },
   {
    "duration": 377,
    "start_time": "2022-05-05T08:40:07.615Z"
   },
   {
    "duration": 389,
    "start_time": "2022-05-05T08:40:14.766Z"
   },
   {
    "duration": 368,
    "start_time": "2022-05-05T08:40:18.495Z"
   },
   {
    "duration": 5,
    "start_time": "2022-05-05T08:41:13.636Z"
   },
   {
    "duration": 6,
    "start_time": "2022-05-05T08:41:39.201Z"
   },
   {
    "duration": 1126,
    "start_time": "2022-05-05T08:42:34.749Z"
   },
   {
    "duration": 1140,
    "start_time": "2022-05-05T08:43:21.759Z"
   },
   {
    "duration": 3,
    "start_time": "2022-05-05T08:44:22.685Z"
   },
   {
    "duration": 349,
    "start_time": "2022-05-05T08:44:22.691Z"
   },
   {
    "duration": 29,
    "start_time": "2022-05-05T08:44:23.042Z"
   },
   {
    "duration": 46,
    "start_time": "2022-05-05T08:44:23.074Z"
   },
   {
    "duration": 134,
    "start_time": "2022-05-05T08:44:23.123Z"
   },
   {
    "duration": 15,
    "start_time": "2022-05-05T08:44:23.259Z"
   },
   {
    "duration": 17,
    "start_time": "2022-05-05T08:44:23.276Z"
   },
   {
    "duration": 307,
    "start_time": "2022-05-05T08:44:23.295Z"
   },
   {
    "duration": 88,
    "start_time": "2022-05-05T08:44:23.604Z"
   },
   {
    "duration": 7,
    "start_time": "2022-05-05T08:44:23.695Z"
   },
   {
    "duration": 15,
    "start_time": "2022-05-05T08:44:23.795Z"
   },
   {
    "duration": 4,
    "start_time": "2022-05-05T08:44:23.812Z"
   },
   {
    "duration": 1166,
    "start_time": "2022-05-05T08:44:23.818Z"
   },
   {
    "duration": 4,
    "start_time": "2022-05-05T08:46:07.210Z"
   },
   {
    "duration": 2,
    "start_time": "2022-05-05T08:46:10.737Z"
   },
   {
    "duration": 359,
    "start_time": "2022-05-05T08:46:10.741Z"
   },
   {
    "duration": 31,
    "start_time": "2022-05-05T08:46:11.102Z"
   },
   {
    "duration": 58,
    "start_time": "2022-05-05T08:46:11.135Z"
   },
   {
    "duration": 134,
    "start_time": "2022-05-05T08:46:11.195Z"
   },
   {
    "duration": 12,
    "start_time": "2022-05-05T08:46:11.331Z"
   },
   {
    "duration": 5,
    "start_time": "2022-05-05T08:46:11.345Z"
   },
   {
    "duration": 346,
    "start_time": "2022-05-05T08:46:11.352Z"
   },
   {
    "duration": 93,
    "start_time": "2022-05-05T08:46:11.700Z"
   },
   {
    "duration": 96,
    "start_time": "2022-05-05T08:46:11.802Z"
   },
   {
    "duration": 15,
    "start_time": "2022-05-05T08:46:11.901Z"
   },
   {
    "duration": 5,
    "start_time": "2022-05-05T08:46:11.918Z"
   },
   {
    "duration": 1150,
    "start_time": "2022-05-05T08:46:21.021Z"
   },
   {
    "duration": 4,
    "start_time": "2022-05-05T08:47:23.368Z"
   },
   {
    "duration": 1170,
    "start_time": "2022-05-05T08:47:27.746Z"
   },
   {
    "duration": 4,
    "start_time": "2022-05-05T08:47:38.322Z"
   },
   {
    "duration": 1123,
    "start_time": "2022-05-05T08:47:39.526Z"
   },
   {
    "duration": 2,
    "start_time": "2022-05-05T08:49:43.737Z"
   },
   {
    "duration": 352,
    "start_time": "2022-05-05T08:49:43.741Z"
   },
   {
    "duration": 28,
    "start_time": "2022-05-05T08:49:44.095Z"
   },
   {
    "duration": 35,
    "start_time": "2022-05-05T08:49:44.124Z"
   },
   {
    "duration": 153,
    "start_time": "2022-05-05T08:49:44.161Z"
   },
   {
    "duration": 15,
    "start_time": "2022-05-05T08:49:44.316Z"
   },
   {
    "duration": 5,
    "start_time": "2022-05-05T08:49:44.333Z"
   },
   {
    "duration": 358,
    "start_time": "2022-05-05T08:49:44.340Z"
   },
   {
    "duration": 94,
    "start_time": "2022-05-05T08:49:44.700Z"
   },
   {
    "duration": 98,
    "start_time": "2022-05-05T08:49:44.796Z"
   },
   {
    "duration": 17,
    "start_time": "2022-05-05T08:49:44.896Z"
   },
   {
    "duration": 5,
    "start_time": "2022-05-05T08:49:44.915Z"
   },
   {
    "duration": 1141,
    "start_time": "2022-05-05T08:49:46.833Z"
   },
   {
    "duration": 1352,
    "start_time": "2022-05-05T08:56:02.660Z"
   },
   {
    "duration": 366,
    "start_time": "2022-05-05T08:56:04.014Z"
   },
   {
    "duration": 37,
    "start_time": "2022-05-05T08:56:04.382Z"
   },
   {
    "duration": 39,
    "start_time": "2022-05-05T08:56:04.422Z"
   },
   {
    "duration": 144,
    "start_time": "2022-05-05T08:56:04.462Z"
   },
   {
    "duration": 17,
    "start_time": "2022-05-05T08:56:04.608Z"
   },
   {
    "duration": 30,
    "start_time": "2022-05-05T08:56:04.627Z"
   },
   {
    "duration": 448,
    "start_time": "2022-05-05T08:56:04.658Z"
   },
   {
    "duration": 5,
    "start_time": "2022-05-05T08:56:05.192Z"
   },
   {
    "duration": 117,
    "start_time": "2022-05-05T08:56:05.200Z"
   },
   {
    "duration": 23,
    "start_time": "2022-05-05T08:56:05.319Z"
   },
   {
    "duration": 5,
    "start_time": "2022-05-05T08:56:05.344Z"
   },
   {
    "duration": 1448,
    "start_time": "2022-05-05T08:56:05.351Z"
   },
   {
    "duration": 1085,
    "start_time": "2022-05-06T06:15:43.153Z"
   },
   {
    "duration": 310,
    "start_time": "2022-05-06T06:15:44.240Z"
   },
   {
    "duration": 33,
    "start_time": "2022-05-06T06:15:44.552Z"
   },
   {
    "duration": 42,
    "start_time": "2022-05-06T06:15:44.587Z"
   },
   {
    "duration": 121,
    "start_time": "2022-05-06T06:15:44.630Z"
   },
   {
    "duration": 14,
    "start_time": "2022-05-06T06:15:44.752Z"
   },
   {
    "duration": 5,
    "start_time": "2022-05-06T06:15:44.768Z"
   },
   {
    "duration": 356,
    "start_time": "2022-05-06T06:15:44.775Z"
   },
   {
    "duration": 4,
    "start_time": "2022-05-06T06:15:45.133Z"
   },
   {
    "duration": 8,
    "start_time": "2022-05-06T06:16:28.481Z"
   },
   {
    "duration": 8,
    "start_time": "2022-05-06T06:16:42.237Z"
   },
   {
    "duration": 88,
    "start_time": "2022-05-06T06:17:12.432Z"
   },
   {
    "duration": 10,
    "start_time": "2022-05-06T06:17:17.230Z"
   },
   {
    "duration": 8,
    "start_time": "2022-05-06T06:18:04.026Z"
   },
   {
    "duration": 11,
    "start_time": "2022-05-06T06:18:15.311Z"
   },
   {
    "duration": 9,
    "start_time": "2022-05-06T06:18:25.041Z"
   },
   {
    "duration": 13,
    "start_time": "2022-05-06T06:18:39.948Z"
   },
   {
    "duration": 10,
    "start_time": "2022-05-06T06:18:45.892Z"
   },
   {
    "duration": 9,
    "start_time": "2022-05-06T06:18:51.657Z"
   },
   {
    "duration": 12,
    "start_time": "2022-05-06T06:20:28.010Z"
   },
   {
    "duration": 9,
    "start_time": "2022-05-06T06:20:32.894Z"
   },
   {
    "duration": 9,
    "start_time": "2022-05-06T06:21:07.612Z"
   },
   {
    "duration": 10,
    "start_time": "2022-05-06T06:21:21.541Z"
   },
   {
    "duration": 12,
    "start_time": "2022-05-06T06:21:37.904Z"
   },
   {
    "duration": 14,
    "start_time": "2022-05-06T06:21:52.017Z"
   },
   {
    "duration": 13,
    "start_time": "2022-05-06T06:22:07.167Z"
   },
   {
    "duration": 10,
    "start_time": "2022-05-06T06:22:15.267Z"
   },
   {
    "duration": 10,
    "start_time": "2022-05-06T06:22:28.472Z"
   },
   {
    "duration": 3,
    "start_time": "2022-05-06T06:26:05.481Z"
   },
   {
    "duration": 314,
    "start_time": "2022-05-06T06:26:05.486Z"
   },
   {
    "duration": 31,
    "start_time": "2022-05-06T06:26:05.802Z"
   },
   {
    "duration": 31,
    "start_time": "2022-05-06T06:26:05.835Z"
   },
   {
    "duration": 126,
    "start_time": "2022-05-06T06:26:05.868Z"
   },
   {
    "duration": 15,
    "start_time": "2022-05-06T06:26:05.996Z"
   },
   {
    "duration": 13,
    "start_time": "2022-05-06T06:26:06.013Z"
   },
   {
    "duration": 309,
    "start_time": "2022-05-06T06:26:06.028Z"
   },
   {
    "duration": 85,
    "start_time": "2022-05-06T06:26:06.339Z"
   },
   {
    "duration": 111,
    "start_time": "2022-05-06T06:26:06.426Z"
   },
   {
    "duration": 3,
    "start_time": "2022-05-06T06:26:06.539Z"
   },
   {
    "duration": 15,
    "start_time": "2022-05-06T06:26:12.820Z"
   },
   {
    "duration": 3,
    "start_time": "2022-05-06T06:26:25.625Z"
   },
   {
    "duration": 303,
    "start_time": "2022-05-06T06:26:25.630Z"
   },
   {
    "duration": 25,
    "start_time": "2022-05-06T06:26:25.935Z"
   },
   {
    "duration": 31,
    "start_time": "2022-05-06T06:26:25.962Z"
   },
   {
    "duration": 129,
    "start_time": "2022-05-06T06:26:25.995Z"
   },
   {
    "duration": 12,
    "start_time": "2022-05-06T06:26:26.126Z"
   },
   {
    "duration": 16,
    "start_time": "2022-05-06T06:26:26.140Z"
   },
   {
    "duration": 367,
    "start_time": "2022-05-06T06:26:26.158Z"
   },
   {
    "duration": 96,
    "start_time": "2022-05-06T06:26:26.527Z"
   },
   {
    "duration": 12,
    "start_time": "2022-05-06T06:26:26.625Z"
   },
   {
    "duration": 5,
    "start_time": "2022-05-06T06:26:26.639Z"
   },
   {
    "duration": 38,
    "start_time": "2022-05-06T06:26:26.645Z"
   },
   {
    "duration": 5,
    "start_time": "2022-05-06T06:26:26.685Z"
   },
   {
    "duration": 1747,
    "start_time": "2022-05-06T06:26:26.692Z"
   }
  ],
  "kernelspec": {
   "display_name": "Python 3",
   "language": "python",
   "name": "python3"
  },
  "language_info": {
   "codemirror_mode": {
    "name": "ipython",
    "version": 3
   },
   "file_extension": ".py",
   "mimetype": "text/x-python",
   "name": "python",
   "nbconvert_exporter": "python",
   "pygments_lexer": "ipython3",
   "version": "3.7.6"
  },
  "toc": {
   "base_numbering": 1,
   "nav_menu": {},
   "number_sections": true,
   "sideBar": true,
   "skip_h1_title": true,
   "title_cell": "Table of Contents",
   "title_sidebar": "Contents",
   "toc_cell": false,
   "toc_position": {},
   "toc_section_display": true,
   "toc_window_display": false
  }
 },
 "nbformat": 4,
 "nbformat_minor": 2
}
