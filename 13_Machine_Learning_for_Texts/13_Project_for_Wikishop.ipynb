{
 "cells": [
  {
   "cell_type": "markdown",
   "metadata": {},
   "source": [
    "# Project for «Wikishop»"
   ]
  },
  {
   "cell_type": "markdown",
   "metadata": {},
   "source": [
    "Wikishop online store launches a new service. Now users can edit and supplement product descriptions, as in wiki communities. That is, clients offer their edits and comment on the changes of others. The store needs a tool that will search for toxic comments and send them for moderation. \n",
    "\n",
    "It is necessary to train the model to classify comments into positive and negative. We have at our disposal a data set with markup on the toxicity of edits.\n",
    "\n",
    "It is necessary to build a model with the value of the quality metric *F1* at least 0.7. \n",
    "\n",
    "**Instructions for the implementation of the project**\n",
    "\n",
    "1. Upload and prepare the data.\n",
    "2. Train different models. \n",
    "3. Draw conclusions.\n",
    "\n",
    "**Data description**\n",
    "\n",
    "The data is in the file `toxic_comments.csv`. The *text* column in it contains the comment text, and *toxic* is the target attribute."
   ]
  },
  {
   "cell_type": "code",
   "execution_count": 1,
   "metadata": {},
   "outputs": [],
   "source": [
    "import pandas as pd \n",
    "import numpy as np \n",
    "from tqdm import tqdm\n",
    "import nltk\n",
    "from nltk.stem import WordNetLemmatizer \n",
    "import re\n",
    "from sklearn.model_selection import train_test_split\n",
    "from nltk.corpus import stopwords as nltk_stopwords\n",
    "from sklearn.feature_extraction.text import TfidfVectorizer \n",
    "from sklearn.linear_model import LogisticRegression\n",
    "from sklearn.metrics import f1_score\n",
    "from sklearn.ensemble import RandomForestClassifier\n",
    "from sklearn.model_selection import GridSearchCV\n",
    "from lightgbm import LGBMClassifier \n",
    "from catboost import CatBoostClassifier\n",
    "import warnings\n",
    "warnings.filterwarnings(\"ignore\")"
   ]
  },
  {
   "cell_type": "markdown",
   "metadata": {},
   "source": [
    "## Preparation"
   ]
  },
  {
   "cell_type": "markdown",
   "metadata": {},
   "source": [
    "### Import"
   ]
  },
  {
   "cell_type": "code",
   "execution_count": 2,
   "metadata": {},
   "outputs": [
    {
     "data": {
      "text/html": [
       "<div>\n",
       "<style scoped>\n",
       "    .dataframe tbody tr th:only-of-type {\n",
       "        vertical-align: middle;\n",
       "    }\n",
       "\n",
       "    .dataframe tbody tr th {\n",
       "        vertical-align: top;\n",
       "    }\n",
       "\n",
       "    .dataframe thead th {\n",
       "        text-align: right;\n",
       "    }\n",
       "</style>\n",
       "<table border=\"1\" class=\"dataframe\">\n",
       "  <thead>\n",
       "    <tr style=\"text-align: right;\">\n",
       "      <th></th>\n",
       "      <th>text</th>\n",
       "      <th>toxic</th>\n",
       "    </tr>\n",
       "  </thead>\n",
       "  <tbody>\n",
       "    <tr>\n",
       "      <th>0</th>\n",
       "      <td>I hope World of Warcraft dies a long and painf...</td>\n",
       "      <td>1</td>\n",
       "    </tr>\n",
       "    <tr>\n",
       "      <th>1</th>\n",
       "      <td>Incorrect. Check  the diff again.</td>\n",
       "      <td>0</td>\n",
       "    </tr>\n",
       "    <tr>\n",
       "      <th>2</th>\n",
       "      <td>\"Is it just me, or is this sentence a little t...</td>\n",
       "      <td>0</td>\n",
       "    </tr>\n",
       "    <tr>\n",
       "      <th>3</th>\n",
       "      <td>\"\\n\\nDid you forgot the \"\"New From Disney Inte...</td>\n",
       "      <td>0</td>\n",
       "    </tr>\n",
       "    <tr>\n",
       "      <th>4</th>\n",
       "      <td>\"\\n\\nHuh ? If they are English by descent, \"\"i...</td>\n",
       "      <td>0</td>\n",
       "    </tr>\n",
       "    <tr>\n",
       "      <th>...</th>\n",
       "      <td>...</td>\n",
       "      <td>...</td>\n",
       "    </tr>\n",
       "    <tr>\n",
       "      <th>89995</th>\n",
       "      <td>go fuck yourself, how is this unconstructive y...</td>\n",
       "      <td>1</td>\n",
       "    </tr>\n",
       "    <tr>\n",
       "      <th>89996</th>\n",
       "      <td>October 2007 \\n Please stop. If you continue t...</td>\n",
       "      <td>0</td>\n",
       "    </tr>\n",
       "    <tr>\n",
       "      <th>89997</th>\n",
       "      <td>I recognize that, and that's why I used browse...</td>\n",
       "      <td>0</td>\n",
       "    </tr>\n",
       "    <tr>\n",
       "      <th>89998</th>\n",
       "      <td>Um... okay. Those ARE the rules though. And th...</td>\n",
       "      <td>1</td>\n",
       "    </tr>\n",
       "    <tr>\n",
       "      <th>89999</th>\n",
       "      <td>I was annoying?  You call trying to remove the...</td>\n",
       "      <td>0</td>\n",
       "    </tr>\n",
       "  </tbody>\n",
       "</table>\n",
       "<p>90000 rows × 2 columns</p>\n",
       "</div>"
      ],
      "text/plain": [
       "                                                    text  toxic\n",
       "0      I hope World of Warcraft dies a long and painf...      1\n",
       "1                      Incorrect. Check  the diff again.      0\n",
       "2      \"Is it just me, or is this sentence a little t...      0\n",
       "3      \"\\n\\nDid you forgot the \"\"New From Disney Inte...      0\n",
       "4      \"\\n\\nHuh ? If they are English by descent, \"\"i...      0\n",
       "...                                                  ...    ...\n",
       "89995  go fuck yourself, how is this unconstructive y...      1\n",
       "89996  October 2007 \\n Please stop. If you continue t...      0\n",
       "89997  I recognize that, and that's why I used browse...      0\n",
       "89998  Um... okay. Those ARE the rules though. And th...      1\n",
       "89999  I was annoying?  You call trying to remove the...      0\n",
       "\n",
       "[90000 rows x 2 columns]"
      ]
     },
     "metadata": {},
     "output_type": "display_data"
    },
    {
     "name": "stdout",
     "output_type": "stream",
     "text": [
      "<class 'pandas.core.frame.DataFrame'>\n",
      "RangeIndex: 90000 entries, 0 to 89999\n",
      "Data columns (total 2 columns):\n",
      " #   Column  Non-Null Count  Dtype \n",
      "---  ------  --------------  ----- \n",
      " 0   text    90000 non-null  object\n",
      " 1   toxic   90000 non-null  int64 \n",
      "dtypes: int64(1), object(1)\n",
      "memory usage: 1.4+ MB\n"
     ]
    }
   ],
   "source": [
    "df = pd.read_csv('datasets/toxic_comments.csv')\n",
    "df = df.sample(90000).reset_index(drop=True).drop(columns=['Unnamed: 0'])\n",
    "display(df)\n",
    "df.info()"
   ]
  },
  {
   "cell_type": "markdown",
   "metadata": {},
   "source": [
    "*BECAUSE WITH THE FULL AMOUNT OF DATA, THE CORE OF JUPITER WAS TURNED OFF, IT WAS DECIDED TO REDUCE THE NUMBER OF SOURCE DATA TO 90 THOUSAND ROWS*"
   ]
  },
  {
   "cell_type": "code",
   "execution_count": 3,
   "metadata": {},
   "outputs": [
    {
     "data": {
      "text/plain": [
       "\"I hope World of Warcraft dies a long and painful death\\nWorld of Warcraft sucks the biggest donkey balls on this planet. I cannot express how much I hate this piece of wank other than hoping it is raped, stabbed, drowned, raped again when it's dead, drown it in its own blood from being stabbed. Afterwards, it should be buried in a 150 feet deep pit full of maggots and when they have finished with it, the whole pit should be set alight with 20,000 matches.\""
      ]
     },
     "execution_count": 3,
     "metadata": {},
     "output_type": "execute_result"
    }
   ],
   "source": [
    "corpus = df['text']\n",
    "corpus[0]"
   ]
  },
  {
   "cell_type": "markdown",
   "metadata": {},
   "source": [
    "### Lemmatize, clear out unnecessary words, reduce to a common register"
   ]
  },
  {
   "cell_type": "code",
   "execution_count": 4,
   "metadata": {},
   "outputs": [
    {
     "name": "stderr",
     "output_type": "stream",
     "text": [
      "[nltk_data] Downloading package punkt to\n",
      "[nltk_data]     C:\\Users\\egors\\AppData\\Roaming\\nltk_data...\n",
      "[nltk_data]   Package punkt is already up-to-date!\n",
      "[nltk_data] Downloading package wordnet to\n",
      "[nltk_data]     C:\\Users\\egors\\AppData\\Roaming\\nltk_data...\n",
      "[nltk_data]   Package wordnet is already up-to-date!\n"
     ]
    }
   ],
   "source": [
    "nltk.download('punkt')\n",
    "nltk.download('wordnet')\n",
    "\n",
    "corpus = corpus.apply(lambda sentence: re.sub(r'[^a-zA-Z]',' ',sentence))\n",
    "\n",
    "lemmatizer = WordNetLemmatizer()\n",
    "lemm_corpus = corpus.apply(lambda sentence: \" \".join([lemmatizer.lemmatize(w,\"n\") for w in nltk.word_tokenize(sentence)]))"
   ]
  },
  {
   "cell_type": "code",
   "execution_count": 5,
   "metadata": {},
   "outputs": [
    {
     "data": {
      "text/html": [
       "<div>\n",
       "<style scoped>\n",
       "    .dataframe tbody tr th:only-of-type {\n",
       "        vertical-align: middle;\n",
       "    }\n",
       "\n",
       "    .dataframe tbody tr th {\n",
       "        vertical-align: top;\n",
       "    }\n",
       "\n",
       "    .dataframe thead th {\n",
       "        text-align: right;\n",
       "    }\n",
       "</style>\n",
       "<table border=\"1\" class=\"dataframe\">\n",
       "  <thead>\n",
       "    <tr style=\"text-align: right;\">\n",
       "      <th></th>\n",
       "      <th>text</th>\n",
       "      <th>toxic</th>\n",
       "      <th>lemm_text</th>\n",
       "    </tr>\n",
       "  </thead>\n",
       "  <tbody>\n",
       "    <tr>\n",
       "      <th>0</th>\n",
       "      <td>I hope World of Warcraft dies a long and painf...</td>\n",
       "      <td>1</td>\n",
       "      <td>I hope World of Warcraft dy a long and painful...</td>\n",
       "    </tr>\n",
       "    <tr>\n",
       "      <th>1</th>\n",
       "      <td>Incorrect. Check  the diff again.</td>\n",
       "      <td>0</td>\n",
       "      <td>Incorrect Check the diff again</td>\n",
       "    </tr>\n",
       "    <tr>\n",
       "      <th>2</th>\n",
       "      <td>\"Is it just me, or is this sentence a little t...</td>\n",
       "      <td>0</td>\n",
       "      <td>Is it just me or is this sentence a little too...</td>\n",
       "    </tr>\n",
       "    <tr>\n",
       "      <th>3</th>\n",
       "      <td>\"\\n\\nDid you forgot the \"\"New From Disney Inte...</td>\n",
       "      <td>0</td>\n",
       "      <td>Did you forgot the New From Disney Interactive...</td>\n",
       "    </tr>\n",
       "    <tr>\n",
       "      <th>4</th>\n",
       "      <td>\"\\n\\nHuh ? If they are English by descent, \"\"i...</td>\n",
       "      <td>0</td>\n",
       "      <td>Huh If they are English by descent indigenous ...</td>\n",
       "    </tr>\n",
       "    <tr>\n",
       "      <th>...</th>\n",
       "      <td>...</td>\n",
       "      <td>...</td>\n",
       "      <td>...</td>\n",
       "    </tr>\n",
       "    <tr>\n",
       "      <th>89995</th>\n",
       "      <td>go fuck yourself, how is this unconstructive y...</td>\n",
       "      <td>1</td>\n",
       "      <td>go fuck yourself how is this unconstructive yo...</td>\n",
       "    </tr>\n",
       "    <tr>\n",
       "      <th>89996</th>\n",
       "      <td>October 2007 \\n Please stop. If you continue t...</td>\n",
       "      <td>0</td>\n",
       "      <td>October Please stop If you continue to vandali...</td>\n",
       "    </tr>\n",
       "    <tr>\n",
       "      <th>89997</th>\n",
       "      <td>I recognize that, and that's why I used browse...</td>\n",
       "      <td>0</td>\n",
       "      <td>I recognize that and that s why I used browser...</td>\n",
       "    </tr>\n",
       "    <tr>\n",
       "      <th>89998</th>\n",
       "      <td>Um... okay. Those ARE the rules though. And th...</td>\n",
       "      <td>1</td>\n",
       "      <td>Um okay Those ARE the rule though And thanks s...</td>\n",
       "    </tr>\n",
       "    <tr>\n",
       "      <th>89999</th>\n",
       "      <td>I was annoying?  You call trying to remove the...</td>\n",
       "      <td>0</td>\n",
       "      <td>I wa annoying You call trying to remove the to...</td>\n",
       "    </tr>\n",
       "  </tbody>\n",
       "</table>\n",
       "<p>90000 rows × 3 columns</p>\n",
       "</div>"
      ],
      "text/plain": [
       "                                                    text  toxic  \\\n",
       "0      I hope World of Warcraft dies a long and painf...      1   \n",
       "1                      Incorrect. Check  the diff again.      0   \n",
       "2      \"Is it just me, or is this sentence a little t...      0   \n",
       "3      \"\\n\\nDid you forgot the \"\"New From Disney Inte...      0   \n",
       "4      \"\\n\\nHuh ? If they are English by descent, \"\"i...      0   \n",
       "...                                                  ...    ...   \n",
       "89995  go fuck yourself, how is this unconstructive y...      1   \n",
       "89996  October 2007 \\n Please stop. If you continue t...      0   \n",
       "89997  I recognize that, and that's why I used browse...      0   \n",
       "89998  Um... okay. Those ARE the rules though. And th...      1   \n",
       "89999  I was annoying?  You call trying to remove the...      0   \n",
       "\n",
       "                                               lemm_text  \n",
       "0      I hope World of Warcraft dy a long and painful...  \n",
       "1                         Incorrect Check the diff again  \n",
       "2      Is it just me or is this sentence a little too...  \n",
       "3      Did you forgot the New From Disney Interactive...  \n",
       "4      Huh If they are English by descent indigenous ...  \n",
       "...                                                  ...  \n",
       "89995  go fuck yourself how is this unconstructive yo...  \n",
       "89996  October Please stop If you continue to vandali...  \n",
       "89997  I recognize that and that s why I used browser...  \n",
       "89998  Um okay Those ARE the rule though And thanks s...  \n",
       "89999  I wa annoying You call trying to remove the to...  \n",
       "\n",
       "[90000 rows x 3 columns]"
      ]
     },
     "execution_count": 5,
     "metadata": {},
     "output_type": "execute_result"
    }
   ],
   "source": [
    "df['lemm_text'] = lemm_corpus\n",
    "df"
   ]
  },
  {
   "cell_type": "markdown",
   "metadata": {},
   "source": [
    "### Class imbalance check"
   ]
  },
  {
   "cell_type": "code",
   "execution_count": 6,
   "metadata": {},
   "outputs": [
    {
     "data": {
      "text/plain": [
       "<AxesSubplot:ylabel='Frequency'>"
      ]
     },
     "execution_count": 6,
     "metadata": {},
     "output_type": "execute_result"
    },
    {
     "data": {
      "image/png": "[encoded data removed]",
      "text/plain": [
       "<Figure size 432x288 with 1 Axes>"
      ]
     },
     "metadata": {
      "needs_background": "light"
     },
     "output_type": "display_data"
    }
   ],
   "source": [
    "df['toxic'].plot(kind='hist')"
   ]
  },
  {
   "cell_type": "markdown",
   "metadata": {},
   "source": [
    "Class imbalance detected"
   ]
  },
  {
   "cell_type": "markdown",
   "metadata": {},
   "source": [
    "### Data separation"
   ]
  },
  {
   "cell_type": "code",
   "execution_count": 7,
   "metadata": {},
   "outputs": [],
   "source": [
    "features = df['lemm_text']\n",
    "target = df['toxic']"
   ]
  },
  {
   "cell_type": "code",
   "execution_count": 8,
   "metadata": {},
   "outputs": [],
   "source": [
    "features_train, features_test, target_train, target_test = train_test_split(features, \n",
    "                                                                            target, \n",
    "                                                                            test_size = 0.1, \n",
    "                                                                            random_state=12345,\n",
    "                                                                            stratify=target)"
   ]
  },
  {
   "cell_type": "code",
   "execution_count": 9,
   "metadata": {},
   "outputs": [
    {
     "name": "stderr",
     "output_type": "stream",
     "text": [
      "[nltk_data] Downloading package stopwords to\n",
      "[nltk_data]     C:\\Users\\egors\\AppData\\Roaming\\nltk_data...\n",
      "[nltk_data]   Package stopwords is already up-to-date!\n"
     ]
    }
   ],
   "source": [
    "nltk.download('stopwords')\n",
    "stopwords = set(nltk_stopwords.words('english'))\n",
    "\n",
    "count_tf_idf = TfidfVectorizer(stop_words=stopwords)\n",
    "tf_idf_train = count_tf_idf.fit_transform(features_train)\n",
    "\n",
    "tf_idf_test = count_tf_idf.transform(features_test)"
   ]
  },
  {
   "cell_type": "markdown",
   "metadata": {},
   "source": [
    "### Conclusion"
   ]
  },
  {
   "cell_type": "markdown",
   "metadata": {},
   "source": [
    "- Due to the fact that with the total number of data, the Jupiter core was turned off, it was decided to reduce the number of source information to 80 thousand lines\n",
    "\n",
    "- The source data has no gaps\n",
    "\n",
    "- The original data were lemmatized, cleared of unnecessary words, reduced to a common register\n",
    "\n",
    "- For training, the data was divided into training and test samples, TF-IDF was calculated"
   ]
  },
  {
   "cell_type": "markdown",
   "metadata": {},
   "source": [
    "## Training"
   ]
  },
  {
   "cell_type": "markdown",
   "metadata": {},
   "source": [
    "### LogisticRegression"
   ]
  },
  {
   "cell_type": "code",
   "execution_count": 10,
   "metadata": {},
   "outputs": [
    {
     "name": "stdout",
     "output_type": "stream",
     "text": [
      "F1 =  0.698\n"
     ]
    }
   ],
   "source": [
    "model = LogisticRegression()\n",
    "model.fit(tf_idf_train,target_train)\n",
    "predictions = model.predict(tf_idf_test)\n",
    "print('F1 = ', round(f1_score(target_test,predictions),3))"
   ]
  },
  {
   "cell_type": "markdown",
   "metadata": {},
   "source": [
    "### Random Forest Classifier"
   ]
  },
  {
   "cell_type": "code",
   "execution_count": 11,
   "metadata": {},
   "outputs": [
    {
     "name": "stdout",
     "output_type": "stream",
     "text": [
      "Wall time: 4min 10s\n"
     ]
    },
    {
     "data": {
      "text/plain": [
       "{'max_depth': 6, 'n_estimators': 35}"
      ]
     },
     "execution_count": 11,
     "metadata": {},
     "output_type": "execute_result"
    }
   ],
   "source": [
    "%%time\n",
    "\n",
    "rfc = RandomForestClassifier(class_weight='balanced', random_state=12345)\n",
    "params_rfc = {'max_depth':range(4,8), 'n_estimators':range(20, 40, 5)}\n",
    "rfc_grid = GridSearchCV(rfc, params_rfc, cv=3, scoring='f1')\n",
    "rfc_grid.fit(tf_idf_train, target_train)\n",
    "rfc_grid.best_params_"
   ]
  },
  {
   "cell_type": "code",
   "execution_count": 12,
   "metadata": {},
   "outputs": [
    {
     "name": "stdout",
     "output_type": "stream",
     "text": [
      "F1 =  0.327\n"
     ]
    }
   ],
   "source": [
    "rfc = RandomForestClassifier(class_weight='balanced', random_state=12345, max_depth = rfc_grid.best_params_['max_depth'],\n",
    "                            n_estimators = rfc_grid.best_params_['n_estimators'])\n",
    "rfc.fit(tf_idf_train,target_train)\n",
    "predictions = rfc.predict(tf_idf_test)\n",
    "print('F1 = ', round(f1_score(target_test,predictions),3))"
   ]
  },
  {
   "cell_type": "markdown",
   "metadata": {},
   "source": [
    "### LGBMClassifier"
   ]
  },
  {
   "cell_type": "code",
   "execution_count": 13,
   "metadata": {},
   "outputs": [
    {
     "name": "stdout",
     "output_type": "stream",
     "text": [
      "Wall time: 29min 6s\n"
     ]
    },
    {
     "data": {
      "text/plain": [
       "{'learning_rate': 0.30000000000000004, 'n_estimators': 90}"
      ]
     },
     "execution_count": 13,
     "metadata": {},
     "output_type": "execute_result"
    }
   ],
   "source": [
    "%%time\n",
    "lgbm = LGBMClassifier()\n",
    "\n",
    "param_grid = {\n",
    "    'learning_rate': np.arange(0.1,1,0.2),\n",
    "    'n_estimators': range(20, 100, 10)\n",
    "}\n",
    "\n",
    "\n",
    "gbm = GridSearchCV(lgbm, param_grid, scoring='f1',cv=3)\n",
    "gbm.fit(tf_idf_train, target_train)\n",
    "gbm.best_params_"
   ]
  },
  {
   "cell_type": "code",
   "execution_count": 14,
   "metadata": {},
   "outputs": [
    {
     "name": "stdout",
     "output_type": "stream",
     "text": [
      "F1 =  0.743\n"
     ]
    }
   ],
   "source": [
    "lgbm = LGBMClassifier(learning_rate=gbm.best_params_['learning_rate'],\n",
    "                     n_estimators=gbm.best_params_['n_estimators'])\n",
    "\n",
    "lgbm.fit(tf_idf_train,target_train)\n",
    "predictions = lgbm.predict(tf_idf_test)\n",
    "print('F1 = ', round(f1_score(target_test,predictions),3))"
   ]
  },
  {
   "cell_type": "markdown",
   "metadata": {},
   "source": [
    "## Conclusion"
   ]
  },
  {
   "cell_type": "markdown",
   "metadata": {},
   "source": [
    "The best scoring is given by LGBMClassifier model - f1_score = 0.743"
   ]
  }
 ],
 "metadata": {
  "ExecuteTimeLog": [
   {
    "duration": 379,
    "start_time": "2022-07-10T04:41:06.050Z"
   },
   {
    "duration": 2404,
    "start_time": "2022-07-10T04:41:21.180Z"
   },
   {
    "duration": 857,
    "start_time": "2022-07-10T04:54:57.589Z"
   },
   {
    "duration": 854,
    "start_time": "2022-07-10T04:56:15.879Z"
   },
   {
    "duration": 113,
    "start_time": "2022-07-10T04:56:26.752Z"
   },
   {
    "duration": 1881,
    "start_time": "2022-07-10T04:56:31.622Z"
   },
   {
    "duration": 1238,
    "start_time": "2022-07-10T04:57:07.780Z"
   },
   {
    "duration": 2306,
    "start_time": "2022-07-10T04:57:09.020Z"
   },
   {
    "duration": 1896,
    "start_time": "2022-07-10T04:57:11.327Z"
   },
   {
    "duration": 4,
    "start_time": "2022-07-10T04:57:53.181Z"
   },
   {
    "duration": 112,
    "start_time": "2022-07-10T04:58:38.531Z"
   },
   {
    "duration": 3,
    "start_time": "2022-07-10T04:58:53.346Z"
   },
   {
    "duration": 1170,
    "start_time": "2022-07-10T04:58:57.575Z"
   },
   {
    "duration": 5,
    "start_time": "2022-07-10T05:00:10.586Z"
   },
   {
    "duration": 6,
    "start_time": "2022-07-10T05:01:14.403Z"
   },
   {
    "duration": 5,
    "start_time": "2022-07-10T05:01:49.898Z"
   },
   {
    "duration": 5,
    "start_time": "2022-07-10T05:02:06.815Z"
   },
   {
    "duration": 5846,
    "start_time": "2022-07-10T05:05:01.517Z"
   },
   {
    "duration": 20,
    "start_time": "2022-07-10T05:05:14.906Z"
   },
   {
    "duration": 41,
    "start_time": "2022-07-10T05:05:44.861Z"
   },
   {
    "duration": 3,
    "start_time": "2022-07-10T05:38:57.792Z"
   },
   {
    "duration": 3,
    "start_time": "2022-07-10T05:39:36.944Z"
   },
   {
    "duration": 4,
    "start_time": "2022-07-10T05:42:53.754Z"
   },
   {
    "duration": 3,
    "start_time": "2022-07-10T05:44:46.346Z"
   },
   {
    "duration": 57,
    "start_time": "2022-07-10T05:44:47.721Z"
   },
   {
    "duration": 7137,
    "start_time": "2022-07-10T05:45:42.900Z"
   },
   {
    "duration": 3,
    "start_time": "2022-07-10T05:49:47.819Z"
   },
   {
    "duration": 11,
    "start_time": "2022-07-10T05:51:23.736Z"
   },
   {
    "duration": 3,
    "start_time": "2022-07-10T05:51:31.311Z"
   },
   {
    "duration": 33792,
    "start_time": "2022-07-10T05:51:53.048Z"
   },
   {
    "duration": 47828,
    "start_time": "2022-07-10T05:52:29.116Z"
   },
   {
    "duration": 27,
    "start_time": "2022-07-10T05:54:48.593Z"
   },
   {
    "duration": 4,
    "start_time": "2022-07-10T05:55:25.339Z"
   },
   {
    "duration": 128272,
    "start_time": "2022-07-10T06:01:29.806Z"
   },
   {
    "duration": 13,
    "start_time": "2022-07-10T06:03:58.262Z"
   },
   {
    "duration": 10,
    "start_time": "2022-07-10T06:04:06.851Z"
   },
   {
    "duration": 4,
    "start_time": "2022-07-10T06:04:18.419Z"
   },
   {
    "duration": 1288,
    "start_time": "2022-07-10T06:05:10.480Z"
   },
   {
    "duration": 117,
    "start_time": "2022-07-10T06:09:48.881Z"
   },
   {
    "duration": 1423,
    "start_time": "2022-07-10T06:18:46.313Z"
   },
   {
    "duration": 2760,
    "start_time": "2022-07-10T06:18:47.743Z"
   },
   {
    "duration": 1965,
    "start_time": "2022-07-10T06:18:50.505Z"
   },
   {
    "duration": 1293,
    "start_time": "2022-07-10T06:18:52.472Z"
   },
   {
    "duration": 6512,
    "start_time": "2022-07-10T06:18:53.767Z"
   },
   {
    "duration": 39,
    "start_time": "2022-07-10T06:19:00.280Z"
   },
   {
    "duration": 29,
    "start_time": "2022-07-10T06:19:00.328Z"
   },
   {
    "duration": 48,
    "start_time": "2022-07-10T06:19:00.361Z"
   },
   {
    "duration": 7973,
    "start_time": "2022-07-10T06:19:00.410Z"
   },
   {
    "duration": 50144,
    "start_time": "2022-07-10T06:19:08.386Z"
   },
   {
    "duration": 121081,
    "start_time": "2022-07-10T06:19:58.538Z"
   },
   {
    "duration": 1249,
    "start_time": "2022-07-10T06:21:59.623Z"
   },
   {
    "duration": 128,
    "start_time": "2022-07-10T06:24:02.679Z"
   },
   {
    "duration": 1445,
    "start_time": "2022-07-10T06:24:13.403Z"
   },
   {
    "duration": 2544,
    "start_time": "2022-07-10T06:24:14.850Z"
   },
   {
    "duration": 1969,
    "start_time": "2022-07-10T06:24:17.396Z"
   },
   {
    "duration": 1230,
    "start_time": "2022-07-10T06:24:19.368Z"
   },
   {
    "duration": 6018,
    "start_time": "2022-07-10T06:24:20.600Z"
   },
   {
    "duration": 37,
    "start_time": "2022-07-10T06:24:26.623Z"
   },
   {
    "duration": 6,
    "start_time": "2022-07-10T06:24:26.661Z"
   },
   {
    "duration": 32,
    "start_time": "2022-07-10T06:24:26.669Z"
   },
   {
    "duration": 7061,
    "start_time": "2022-07-10T06:24:26.703Z"
   },
   {
    "duration": 46659,
    "start_time": "2022-07-10T06:24:33.767Z"
   },
   {
    "duration": 111487,
    "start_time": "2022-07-10T06:25:20.428Z"
   },
   {
    "duration": 18,
    "start_time": "2022-07-10T06:27:11.916Z"
   },
   {
    "duration": 0,
    "start_time": "2022-07-10T06:27:11.936Z"
   },
   {
    "duration": 0,
    "start_time": "2022-07-10T06:27:11.937Z"
   },
   {
    "duration": 0,
    "start_time": "2022-07-10T06:27:11.938Z"
   },
   {
    "duration": 49,
    "start_time": "2022-07-10T06:28:45.256Z"
   },
   {
    "duration": 782,
    "start_time": "2022-07-10T06:28:45.307Z"
   },
   {
    "duration": 1463,
    "start_time": "2022-07-10T06:28:57.011Z"
   },
   {
    "duration": 2461,
    "start_time": "2022-07-10T06:28:58.476Z"
   },
   {
    "duration": 1952,
    "start_time": "2022-07-10T06:29:00.938Z"
   },
   {
    "duration": 1215,
    "start_time": "2022-07-10T06:29:02.892Z"
   },
   {
    "duration": 5939,
    "start_time": "2022-07-10T06:29:04.108Z"
   },
   {
    "duration": 31,
    "start_time": "2022-07-10T06:29:10.049Z"
   },
   {
    "duration": 2,
    "start_time": "2022-07-10T06:29:10.082Z"
   },
   {
    "duration": 50,
    "start_time": "2022-07-10T06:29:10.086Z"
   },
   {
    "duration": 6797,
    "start_time": "2022-07-10T06:29:10.138Z"
   },
   {
    "duration": 47095,
    "start_time": "2022-07-10T06:29:16.938Z"
   },
   {
    "duration": 115408,
    "start_time": "2022-07-10T06:30:04.038Z"
   },
   {
    "duration": 1144,
    "start_time": "2022-07-10T06:31:59.448Z"
   },
   {
    "duration": 1406,
    "start_time": "2022-07-10T06:49:33.481Z"
   },
   {
    "duration": 2236,
    "start_time": "2022-07-10T06:49:34.889Z"
   },
   {
    "duration": 1883,
    "start_time": "2022-07-10T06:49:37.128Z"
   },
   {
    "duration": 1160,
    "start_time": "2022-07-10T06:49:39.024Z"
   },
   {
    "duration": 5597,
    "start_time": "2022-07-10T06:49:40.187Z"
   },
   {
    "duration": 42,
    "start_time": "2022-07-10T06:49:45.786Z"
   },
   {
    "duration": 6,
    "start_time": "2022-07-10T06:49:45.830Z"
   },
   {
    "duration": 44,
    "start_time": "2022-07-10T06:49:45.837Z"
   },
   {
    "duration": 6348,
    "start_time": "2022-07-10T06:49:45.882Z"
   },
   {
    "duration": 47704,
    "start_time": "2022-07-10T06:49:52.232Z"
   },
   {
    "duration": 1376,
    "start_time": "2022-07-10T06:51:25.519Z"
   },
   {
    "duration": 948,
    "start_time": "2022-07-10T06:51:26.897Z"
   },
   {
    "duration": 1071,
    "start_time": "2022-07-10T06:51:27.847Z"
   },
   {
    "duration": 1142,
    "start_time": "2022-07-10T06:51:28.923Z"
   },
   {
    "duration": 3014,
    "start_time": "2022-07-10T06:51:30.067Z"
   },
   {
    "duration": 25,
    "start_time": "2022-07-10T06:51:33.083Z"
   },
   {
    "duration": 16,
    "start_time": "2022-07-10T06:51:33.110Z"
   },
   {
    "duration": 18,
    "start_time": "2022-07-10T06:51:33.128Z"
   },
   {
    "duration": 3375,
    "start_time": "2022-07-10T06:51:33.148Z"
   },
   {
    "duration": 30798,
    "start_time": "2022-07-10T06:51:36.526Z"
   },
   {
    "duration": 49476,
    "start_time": "2022-07-10T06:52:07.326Z"
   },
   {
    "duration": 710,
    "start_time": "2022-07-10T06:52:56.804Z"
   },
   {
    "duration": 1393,
    "start_time": "2022-07-10T07:03:14.914Z"
   },
   {
    "duration": 889,
    "start_time": "2022-07-10T07:03:16.309Z"
   },
   {
    "duration": 1150,
    "start_time": "2022-07-10T07:03:17.200Z"
   },
   {
    "duration": 1151,
    "start_time": "2022-07-10T07:03:18.353Z"
   },
   {
    "duration": 3007,
    "start_time": "2022-07-10T07:03:19.506Z"
   },
   {
    "duration": 29,
    "start_time": "2022-07-10T07:03:22.515Z"
   },
   {
    "duration": 16,
    "start_time": "2022-07-10T07:03:22.545Z"
   },
   {
    "duration": 26,
    "start_time": "2022-07-10T07:03:22.563Z"
   },
   {
    "duration": 3513,
    "start_time": "2022-07-10T07:03:22.590Z"
   },
   {
    "duration": 31029,
    "start_time": "2022-07-10T07:03:26.105Z"
   },
   {
    "duration": 62789,
    "start_time": "2022-07-10T07:03:57.137Z"
   },
   {
    "duration": 702,
    "start_time": "2022-07-10T07:04:59.928Z"
   },
   {
    "duration": 1599594,
    "start_time": "2022-07-10T07:05:00.633Z"
   },
   {
    "duration": 71207,
    "start_time": "2022-07-10T07:31:40.229Z"
   },
   {
    "duration": 1595,
    "start_time": "2022-07-12T14:48:17.084Z"
   },
   {
    "duration": 3374,
    "start_time": "2022-07-12T14:48:18.682Z"
   },
   {
    "duration": 5,
    "start_time": "2022-07-12T14:48:26.218Z"
   },
   {
    "duration": 4,
    "start_time": "2022-07-12T14:48:33.809Z"
   },
   {
    "duration": 4,
    "start_time": "2022-07-12T14:48:46.533Z"
   },
   {
    "duration": 3,
    "start_time": "2022-07-12T14:48:51.134Z"
   },
   {
    "duration": 4,
    "start_time": "2022-07-12T15:07:47.662Z"
   },
   {
    "duration": 831,
    "start_time": "2022-07-12T15:07:47.668Z"
   },
   {
    "duration": 4,
    "start_time": "2022-07-12T15:07:48.501Z"
   },
   {
    "duration": 4,
    "start_time": "2022-07-12T15:10:34.330Z"
   },
   {
    "duration": 5,
    "start_time": "2022-07-12T15:11:01.591Z"
   },
   {
    "duration": 4,
    "start_time": "2022-07-12T15:11:14.474Z"
   },
   {
    "duration": 4,
    "start_time": "2022-07-12T15:11:19.477Z"
   },
   {
    "duration": 131,
    "start_time": "2022-07-12T15:11:23.778Z"
   },
   {
    "duration": 4,
    "start_time": "2022-07-12T15:11:37.222Z"
   },
   {
    "duration": 5,
    "start_time": "2022-07-12T15:11:47.165Z"
   },
   {
    "duration": 11,
    "start_time": "2022-07-12T15:12:03.209Z"
   },
   {
    "duration": 3,
    "start_time": "2022-07-12T15:13:43.471Z"
   },
   {
    "duration": 10,
    "start_time": "2022-07-12T15:14:04.766Z"
   },
   {
    "duration": 5,
    "start_time": "2022-07-12T15:14:20.908Z"
   },
   {
    "duration": 3,
    "start_time": "2022-07-12T15:14:22.638Z"
   },
   {
    "duration": 69785,
    "start_time": "2022-07-12T15:14:23.488Z"
   },
   {
    "duration": 4,
    "start_time": "2022-07-12T15:16:46.301Z"
   },
   {
    "duration": 4,
    "start_time": "2022-07-12T15:21:31.012Z"
   },
   {
    "duration": 895,
    "start_time": "2022-07-12T15:21:31.018Z"
   },
   {
    "duration": 17,
    "start_time": "2022-07-12T15:21:31.915Z"
   },
   {
    "duration": 44179,
    "start_time": "2022-07-12T15:21:31.934Z"
   },
   {
    "duration": 19,
    "start_time": "2022-07-12T15:22:53.269Z"
   },
   {
    "duration": 1545,
    "start_time": "2022-07-12T15:24:10.662Z"
   },
   {
    "duration": 920,
    "start_time": "2022-07-12T15:24:12.209Z"
   },
   {
    "duration": 4,
    "start_time": "2022-07-12T15:24:13.131Z"
   },
   {
    "duration": 46711,
    "start_time": "2022-07-12T15:24:13.137Z"
   },
   {
    "duration": 3,
    "start_time": "2022-07-12T15:24:59.851Z"
   },
   {
    "duration": 26,
    "start_time": "2022-07-12T15:24:59.856Z"
   },
   {
    "duration": 31,
    "start_time": "2022-07-12T15:24:59.884Z"
   },
   {
    "duration": 4,
    "start_time": "2022-07-12T15:24:59.917Z"
   },
   {
    "duration": 29,
    "start_time": "2022-07-12T15:24:59.923Z"
   },
   {
    "duration": 4251,
    "start_time": "2022-07-12T15:24:59.955Z"
   },
   {
    "duration": 30492,
    "start_time": "2022-07-12T15:25:04.208Z"
   },
   {
    "duration": 65238,
    "start_time": "2022-07-12T15:25:34.702Z"
   },
   {
    "duration": 717,
    "start_time": "2022-07-12T15:26:39.941Z"
   },
   {
    "duration": 1788291,
    "start_time": "2022-07-12T15:26:40.660Z"
   },
   {
    "duration": 61353,
    "start_time": "2022-07-12T15:56:28.953Z"
   }
  ],
  "kernelspec": {
   "display_name": "Python 3",
   "language": "python",
   "name": "python3"
  },
  "language_info": {
   "codemirror_mode": {
    "name": "ipython",
    "version": 3
   },
   "file_extension": ".py",
   "mimetype": "text/x-python",
   "name": "python",
   "nbconvert_exporter": "python",
   "pygments_lexer": "ipython3",
   "version": "3.7.6"
  },
  "toc": {
   "base_numbering": 1,
   "nav_menu": {},
   "number_sections": true,
   "sideBar": true,
   "skip_h1_title": true,
   "title_cell": "Содержание",
   "title_sidebar": "Contents",
   "toc_cell": true,
   "toc_position": {
    "height": "calc(100% - 180px)",
    "left": "10px",
    "top": "150px",
    "width": "302.391px"
   },
   "toc_section_display": true,
   "toc_window_display": false
  }
 },
 "nbformat": 4,
 "nbformat_minor": 2
}
