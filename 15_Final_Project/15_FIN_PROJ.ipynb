{
 "cells": [
  {
   "cell_type": "markdown",
   "metadata": {},
   "source": [
    "# Telecom: predicting customer churn"
   ]
  },
  {
   "cell_type": "markdown",
   "metadata": {},
   "source": [
    "The operator of communication \"Niedinogorazryva.com\" wants to learn how to predict the churn of customers. If it turns out that the user is planning to leave, he will be offered promo codes and special conditions. The operator's team collected personal data about some customers, information about their tariffs and contracts.\n",
    "\n",
    "With the help of these data, it is necessary to build a model that will qualitatively predict the churn of customers."
   ]
  },
  {
   "cell_type": "markdown",
   "metadata": {},
   "source": [
    "## Work plan"
   ]
  },
  {
   "cell_type": "markdown",
   "metadata": {},
   "source": [
    "### Downloading and researching data\n",
    "- #### Import libraries\n",
    "- #### Loading of available data\n",
    "- #### Description of uploaded data\n",
    "- #### Complex data analysis and processing (anomaly search, duplicate processing, categorical feature processing, data reduction to the desired format, etc.)\n",
    "- #### Combining data"
   ]
  },
  {
   "cell_type": "markdown",
   "metadata": {},
   "source": [
    "### Preparing data for training\n",
    "- #### Determining the target attribute\n",
    "- #### Combining data into a single dataframe\n",
    "- #### Preparing features for model training (remove obviously unnecessary features, create a new feature based on existing features, scale features)\n",
    "- #### Divide the dataframe into training and test samples\n",
    "- #### Assess the presence of class imbalance and, if necessary, eliminate it"
   ]
  },
  {
   "cell_type": "markdown",
   "metadata": {},
   "source": [
    "### Model Training\n",
    "- #### Select several types of models (random forest, gradient boosting, etc.)\n",
    "- #### On the training sample, train the model using the GridSearchCV method, select optimal hyperparameters and evaluate the quality of models using the ROC-AUC metric\n",
    "- #### Plot ROC-AUC curves\n",
    "- #### Based on the metrics obtained, we can conclude about the effectiveness of the trained models and choose the optimal one for further testing"
   ]
  },
  {
   "cell_type": "markdown",
   "metadata": {},
   "source": [
    "### Testing the model\n",
    "- #### To conduct a test on the selected optimal model, the resulting AUC-ROC metric should be at least 0.87\n",
    "- #### Make a conclusion about the effectiveness of the resulting model"
   ]
  },
  {
   "cell_type": "markdown",
   "metadata": {},
   "source": [
    "### Results\n",
    "- #### To summarize and present the results obtained\n",
    "- #### To make a general conclusion about the effectiveness of the results obtained"
   ]
  },
  {
   "cell_type": "markdown",
   "metadata": {},
   "source": [
    "## Downloading and data exploration"
   ]
  },
  {
   "cell_type": "markdown",
   "metadata": {},
   "source": [
    "The data consists of files received from different sources:\n",
    "\n",
    "- `contract.csv` — information about the contract;\n",
    "- `personal.csv` — client's personal data;\n",
    "- `internet.csv` — information about internet services;\n",
    "- `phone.csv` — information about telephony services."
   ]
  },
  {
   "cell_type": "code",
   "execution_count": 5,
   "metadata": {},
   "outputs": [],
   "source": [
    "import pandas as pd\n",
    "import numpy as np\n",
    "import matplotlib.pyplot as plt\n",
    "from sklearn.preprocessing import OrdinalEncoder \n",
    "import seaborn as sns\n",
    "from sklearn.model_selection import train_test_split\n",
    "from sklearn.preprocessing import StandardScaler\n",
    "from sklearn.metrics import roc_auc_score\n",
    "from sklearn.metrics import roc_curve \n",
    "from sklearn.linear_model import LogisticRegression\n",
    "from sklearn.ensemble import RandomForestClassifier\n",
    "from catboost import CatBoostClassifier\n",
    "from sklearn.metrics import accuracy_score\n",
    "from sklearn.model_selection import cross_val_score\n",
    "from sklearn.model_selection import GridSearchCV\n",
    "from sklearn.model_selection import RandomizedSearchCV\n",
    "import warnings\n",
    "warnings.filterwarnings('ignore')"
   ]
  },
  {
   "cell_type": "code",
   "execution_count": 9,
   "metadata": {},
   "outputs": [],
   "source": [
    "df_contract = pd.read_csv('datasets/contract_f.csv').drop(columns='Unnamed: 0')\n",
    "df_personal = pd.read_csv('datasets/personal_f.csv').drop(columns='Unnamed: 0')\n",
    "df_internet = pd.read_csv('datasets/internet_f.csv').drop(columns='Unnamed: 0')\n",
    "df_phone = pd.read_csv('datasets/phone_f.csv').drop(columns='Unnamed: 0')"
   ]
  },
  {
   "cell_type": "code",
   "execution_count": 10,
   "metadata": {},
   "outputs": [],
   "source": [
    "def main_info(df):\n",
    "    display(df.head())\n",
    "    display(df.describe())\n",
    "    display(df.info())\n",
    "    print('Number of duplicates:', df.duplicated().sum())"
   ]
  },
  {
   "cell_type": "code",
   "execution_count": 11,
   "metadata": {},
   "outputs": [
    {
     "data": {
      "text/html": [
       "<div>\n",
       "<style scoped>\n",
       "    .dataframe tbody tr th:only-of-type {\n",
       "        vertical-align: middle;\n",
       "    }\n",
       "\n",
       "    .dataframe tbody tr th {\n",
       "        vertical-align: top;\n",
       "    }\n",
       "\n",
       "    .dataframe thead th {\n",
       "        text-align: right;\n",
       "    }\n",
       "</style>\n",
       "<table border=\"1\" class=\"dataframe\">\n",
       "  <thead>\n",
       "    <tr style=\"text-align: right;\">\n",
       "      <th></th>\n",
       "      <th>customerID</th>\n",
       "      <th>BeginDate</th>\n",
       "      <th>EndDate</th>\n",
       "      <th>Type</th>\n",
       "      <th>PaperlessBilling</th>\n",
       "      <th>PaymentMethod</th>\n",
       "      <th>MonthlyCharges</th>\n",
       "      <th>TotalCharges</th>\n",
       "    </tr>\n",
       "  </thead>\n",
       "  <tbody>\n",
       "    <tr>\n",
       "      <th>0</th>\n",
       "      <td>7590-VHVEG</td>\n",
       "      <td>2020-01-01</td>\n",
       "      <td>No</td>\n",
       "      <td>Month-to-month</td>\n",
       "      <td>Yes</td>\n",
       "      <td>Electronic check</td>\n",
       "      <td>29.85</td>\n",
       "      <td>29.85</td>\n",
       "    </tr>\n",
       "    <tr>\n",
       "      <th>1</th>\n",
       "      <td>5575-GNVDE</td>\n",
       "      <td>2017-04-01</td>\n",
       "      <td>No</td>\n",
       "      <td>One year</td>\n",
       "      <td>No</td>\n",
       "      <td>Mailed check</td>\n",
       "      <td>56.95</td>\n",
       "      <td>1889.5</td>\n",
       "    </tr>\n",
       "    <tr>\n",
       "      <th>2</th>\n",
       "      <td>3668-QPYBK</td>\n",
       "      <td>2019-10-01</td>\n",
       "      <td>2019-12-01 00:00:00</td>\n",
       "      <td>Month-to-month</td>\n",
       "      <td>Yes</td>\n",
       "      <td>Mailed check</td>\n",
       "      <td>53.85</td>\n",
       "      <td>108.15</td>\n",
       "    </tr>\n",
       "    <tr>\n",
       "      <th>3</th>\n",
       "      <td>7795-CFOCW</td>\n",
       "      <td>2016-05-01</td>\n",
       "      <td>No</td>\n",
       "      <td>One year</td>\n",
       "      <td>No</td>\n",
       "      <td>Bank transfer (automatic)</td>\n",
       "      <td>42.30</td>\n",
       "      <td>1840.75</td>\n",
       "    </tr>\n",
       "    <tr>\n",
       "      <th>4</th>\n",
       "      <td>9237-HQITU</td>\n",
       "      <td>2019-09-01</td>\n",
       "      <td>2019-11-01 00:00:00</td>\n",
       "      <td>Month-to-month</td>\n",
       "      <td>Yes</td>\n",
       "      <td>Electronic check</td>\n",
       "      <td>70.70</td>\n",
       "      <td>151.65</td>\n",
       "    </tr>\n",
       "  </tbody>\n",
       "</table>\n",
       "</div>"
      ],
      "text/plain": [
       "   customerID   BeginDate              EndDate            Type  \\\n",
       "0  7590-VHVEG  2020-01-01                   No  Month-to-month   \n",
       "1  5575-GNVDE  2017-04-01                   No        One year   \n",
       "2  3668-QPYBK  2019-10-01  2019-12-01 00:00:00  Month-to-month   \n",
       "3  7795-CFOCW  2016-05-01                   No        One year   \n",
       "4  9237-HQITU  2019-09-01  2019-11-01 00:00:00  Month-to-month   \n",
       "\n",
       "  PaperlessBilling              PaymentMethod  MonthlyCharges TotalCharges  \n",
       "0              Yes           Electronic check           29.85        29.85  \n",
       "1               No               Mailed check           56.95       1889.5  \n",
       "2              Yes               Mailed check           53.85       108.15  \n",
       "3               No  Bank transfer (automatic)           42.30      1840.75  \n",
       "4              Yes           Electronic check           70.70       151.65  "
      ]
     },
     "metadata": {},
     "output_type": "display_data"
    },
    {
     "data": {
      "text/html": [
       "<div>\n",
       "<style scoped>\n",
       "    .dataframe tbody tr th:only-of-type {\n",
       "        vertical-align: middle;\n",
       "    }\n",
       "\n",
       "    .dataframe tbody tr th {\n",
       "        vertical-align: top;\n",
       "    }\n",
       "\n",
       "    .dataframe thead th {\n",
       "        text-align: right;\n",
       "    }\n",
       "</style>\n",
       "<table border=\"1\" class=\"dataframe\">\n",
       "  <thead>\n",
       "    <tr style=\"text-align: right;\">\n",
       "      <th></th>\n",
       "      <th>MonthlyCharges</th>\n",
       "    </tr>\n",
       "  </thead>\n",
       "  <tbody>\n",
       "    <tr>\n",
       "      <th>count</th>\n",
       "      <td>7043.000000</td>\n",
       "    </tr>\n",
       "    <tr>\n",
       "      <th>mean</th>\n",
       "      <td>64.761692</td>\n",
       "    </tr>\n",
       "    <tr>\n",
       "      <th>std</th>\n",
       "      <td>30.090047</td>\n",
       "    </tr>\n",
       "    <tr>\n",
       "      <th>min</th>\n",
       "      <td>18.250000</td>\n",
       "    </tr>\n",
       "    <tr>\n",
       "      <th>25%</th>\n",
       "      <td>35.500000</td>\n",
       "    </tr>\n",
       "    <tr>\n",
       "      <th>50%</th>\n",
       "      <td>70.350000</td>\n",
       "    </tr>\n",
       "    <tr>\n",
       "      <th>75%</th>\n",
       "      <td>89.850000</td>\n",
       "    </tr>\n",
       "    <tr>\n",
       "      <th>max</th>\n",
       "      <td>118.750000</td>\n",
       "    </tr>\n",
       "  </tbody>\n",
       "</table>\n",
       "</div>"
      ],
      "text/plain": [
       "       MonthlyCharges\n",
       "count     7043.000000\n",
       "mean        64.761692\n",
       "std         30.090047\n",
       "min         18.250000\n",
       "25%         35.500000\n",
       "50%         70.350000\n",
       "75%         89.850000\n",
       "max        118.750000"
      ]
     },
     "metadata": {},
     "output_type": "display_data"
    },
    {
     "name": "stdout",
     "output_type": "stream",
     "text": [
      "<class 'pandas.core.frame.DataFrame'>\n",
      "RangeIndex: 7043 entries, 0 to 7042\n",
      "Data columns (total 8 columns):\n",
      " #   Column            Non-Null Count  Dtype  \n",
      "---  ------            --------------  -----  \n",
      " 0   customerID        7043 non-null   object \n",
      " 1   BeginDate         7043 non-null   object \n",
      " 2   EndDate           7043 non-null   object \n",
      " 3   Type              7043 non-null   object \n",
      " 4   PaperlessBilling  7043 non-null   object \n",
      " 5   PaymentMethod     7043 non-null   object \n",
      " 6   MonthlyCharges    7043 non-null   float64\n",
      " 7   TotalCharges      7043 non-null   object \n",
      "dtypes: float64(1), object(7)\n",
      "memory usage: 440.3+ KB\n"
     ]
    },
    {
     "data": {
      "text/plain": [
       "None"
      ]
     },
     "metadata": {},
     "output_type": "display_data"
    },
    {
     "name": "stdout",
     "output_type": "stream",
     "text": [
      "Number of duplicates: 0\n"
     ]
    }
   ],
   "source": [
    "main_info(df_contract)"
   ]
  },
  {
   "cell_type": "code",
   "execution_count": 12,
   "metadata": {},
   "outputs": [
    {
     "data": {
      "text/html": [
       "<div>\n",
       "<style scoped>\n",
       "    .dataframe tbody tr th:only-of-type {\n",
       "        vertical-align: middle;\n",
       "    }\n",
       "\n",
       "    .dataframe tbody tr th {\n",
       "        vertical-align: top;\n",
       "    }\n",
       "\n",
       "    .dataframe thead th {\n",
       "        text-align: right;\n",
       "    }\n",
       "</style>\n",
       "<table border=\"1\" class=\"dataframe\">\n",
       "  <thead>\n",
       "    <tr style=\"text-align: right;\">\n",
       "      <th></th>\n",
       "      <th>customerID</th>\n",
       "      <th>gender</th>\n",
       "      <th>SeniorCitizen</th>\n",
       "      <th>Partner</th>\n",
       "      <th>Dependents</th>\n",
       "    </tr>\n",
       "  </thead>\n",
       "  <tbody>\n",
       "    <tr>\n",
       "      <th>0</th>\n",
       "      <td>7590-VHVEG</td>\n",
       "      <td>Female</td>\n",
       "      <td>0</td>\n",
       "      <td>Yes</td>\n",
       "      <td>No</td>\n",
       "    </tr>\n",
       "    <tr>\n",
       "      <th>1</th>\n",
       "      <td>5575-GNVDE</td>\n",
       "      <td>Male</td>\n",
       "      <td>0</td>\n",
       "      <td>No</td>\n",
       "      <td>No</td>\n",
       "    </tr>\n",
       "    <tr>\n",
       "      <th>2</th>\n",
       "      <td>3668-QPYBK</td>\n",
       "      <td>Male</td>\n",
       "      <td>0</td>\n",
       "      <td>No</td>\n",
       "      <td>No</td>\n",
       "    </tr>\n",
       "    <tr>\n",
       "      <th>3</th>\n",
       "      <td>7795-CFOCW</td>\n",
       "      <td>Male</td>\n",
       "      <td>0</td>\n",
       "      <td>No</td>\n",
       "      <td>No</td>\n",
       "    </tr>\n",
       "    <tr>\n",
       "      <th>4</th>\n",
       "      <td>9237-HQITU</td>\n",
       "      <td>Female</td>\n",
       "      <td>0</td>\n",
       "      <td>No</td>\n",
       "      <td>No</td>\n",
       "    </tr>\n",
       "  </tbody>\n",
       "</table>\n",
       "</div>"
      ],
      "text/plain": [
       "   customerID  gender  SeniorCitizen Partner Dependents\n",
       "0  7590-VHVEG  Female              0     Yes         No\n",
       "1  5575-GNVDE    Male              0      No         No\n",
       "2  3668-QPYBK    Male              0      No         No\n",
       "3  7795-CFOCW    Male              0      No         No\n",
       "4  9237-HQITU  Female              0      No         No"
      ]
     },
     "metadata": {},
     "output_type": "display_data"
    },
    {
     "data": {
      "text/html": [
       "<div>\n",
       "<style scoped>\n",
       "    .dataframe tbody tr th:only-of-type {\n",
       "        vertical-align: middle;\n",
       "    }\n",
       "\n",
       "    .dataframe tbody tr th {\n",
       "        vertical-align: top;\n",
       "    }\n",
       "\n",
       "    .dataframe thead th {\n",
       "        text-align: right;\n",
       "    }\n",
       "</style>\n",
       "<table border=\"1\" class=\"dataframe\">\n",
       "  <thead>\n",
       "    <tr style=\"text-align: right;\">\n",
       "      <th></th>\n",
       "      <th>SeniorCitizen</th>\n",
       "    </tr>\n",
       "  </thead>\n",
       "  <tbody>\n",
       "    <tr>\n",
       "      <th>count</th>\n",
       "      <td>7043.000000</td>\n",
       "    </tr>\n",
       "    <tr>\n",
       "      <th>mean</th>\n",
       "      <td>0.162147</td>\n",
       "    </tr>\n",
       "    <tr>\n",
       "      <th>std</th>\n",
       "      <td>0.368612</td>\n",
       "    </tr>\n",
       "    <tr>\n",
       "      <th>min</th>\n",
       "      <td>0.000000</td>\n",
       "    </tr>\n",
       "    <tr>\n",
       "      <th>25%</th>\n",
       "      <td>0.000000</td>\n",
       "    </tr>\n",
       "    <tr>\n",
       "      <th>50%</th>\n",
       "      <td>0.000000</td>\n",
       "    </tr>\n",
       "    <tr>\n",
       "      <th>75%</th>\n",
       "      <td>0.000000</td>\n",
       "    </tr>\n",
       "    <tr>\n",
       "      <th>max</th>\n",
       "      <td>1.000000</td>\n",
       "    </tr>\n",
       "  </tbody>\n",
       "</table>\n",
       "</div>"
      ],
      "text/plain": [
       "       SeniorCitizen\n",
       "count    7043.000000\n",
       "mean        0.162147\n",
       "std         0.368612\n",
       "min         0.000000\n",
       "25%         0.000000\n",
       "50%         0.000000\n",
       "75%         0.000000\n",
       "max         1.000000"
      ]
     },
     "metadata": {},
     "output_type": "display_data"
    },
    {
     "name": "stdout",
     "output_type": "stream",
     "text": [
      "<class 'pandas.core.frame.DataFrame'>\n",
      "RangeIndex: 7043 entries, 0 to 7042\n",
      "Data columns (total 5 columns):\n",
      " #   Column         Non-Null Count  Dtype \n",
      "---  ------         --------------  ----- \n",
      " 0   customerID     7043 non-null   object\n",
      " 1   gender         7043 non-null   object\n",
      " 2   SeniorCitizen  7043 non-null   int64 \n",
      " 3   Partner        7043 non-null   object\n",
      " 4   Dependents     7043 non-null   object\n",
      "dtypes: int64(1), object(4)\n",
      "memory usage: 275.2+ KB\n"
     ]
    },
    {
     "data": {
      "text/plain": [
       "None"
      ]
     },
     "metadata": {},
     "output_type": "display_data"
    },
    {
     "name": "stdout",
     "output_type": "stream",
     "text": [
      "Number of duplicates: 0\n"
     ]
    }
   ],
   "source": [
    "main_info(df_personal)"
   ]
  },
  {
   "cell_type": "code",
   "execution_count": 13,
   "metadata": {},
   "outputs": [
    {
     "data": {
      "text/html": [
       "<div>\n",
       "<style scoped>\n",
       "    .dataframe tbody tr th:only-of-type {\n",
       "        vertical-align: middle;\n",
       "    }\n",
       "\n",
       "    .dataframe tbody tr th {\n",
       "        vertical-align: top;\n",
       "    }\n",
       "\n",
       "    .dataframe thead th {\n",
       "        text-align: right;\n",
       "    }\n",
       "</style>\n",
       "<table border=\"1\" class=\"dataframe\">\n",
       "  <thead>\n",
       "    <tr style=\"text-align: right;\">\n",
       "      <th></th>\n",
       "      <th>customerID</th>\n",
       "      <th>InternetService</th>\n",
       "      <th>OnlineSecurity</th>\n",
       "      <th>OnlineBackup</th>\n",
       "      <th>DeviceProtection</th>\n",
       "      <th>TechSupport</th>\n",
       "      <th>StreamingTV</th>\n",
       "      <th>StreamingMovies</th>\n",
       "    </tr>\n",
       "  </thead>\n",
       "  <tbody>\n",
       "    <tr>\n",
       "      <th>0</th>\n",
       "      <td>7590-VHVEG</td>\n",
       "      <td>DSL</td>\n",
       "      <td>No</td>\n",
       "      <td>Yes</td>\n",
       "      <td>No</td>\n",
       "      <td>No</td>\n",
       "      <td>No</td>\n",
       "      <td>No</td>\n",
       "    </tr>\n",
       "    <tr>\n",
       "      <th>1</th>\n",
       "      <td>5575-GNVDE</td>\n",
       "      <td>DSL</td>\n",
       "      <td>Yes</td>\n",
       "      <td>No</td>\n",
       "      <td>Yes</td>\n",
       "      <td>No</td>\n",
       "      <td>No</td>\n",
       "      <td>No</td>\n",
       "    </tr>\n",
       "    <tr>\n",
       "      <th>2</th>\n",
       "      <td>3668-QPYBK</td>\n",
       "      <td>DSL</td>\n",
       "      <td>Yes</td>\n",
       "      <td>Yes</td>\n",
       "      <td>No</td>\n",
       "      <td>No</td>\n",
       "      <td>No</td>\n",
       "      <td>No</td>\n",
       "    </tr>\n",
       "    <tr>\n",
       "      <th>3</th>\n",
       "      <td>7795-CFOCW</td>\n",
       "      <td>DSL</td>\n",
       "      <td>Yes</td>\n",
       "      <td>No</td>\n",
       "      <td>Yes</td>\n",
       "      <td>Yes</td>\n",
       "      <td>No</td>\n",
       "      <td>No</td>\n",
       "    </tr>\n",
       "    <tr>\n",
       "      <th>4</th>\n",
       "      <td>9237-HQITU</td>\n",
       "      <td>Fiber optic</td>\n",
       "      <td>No</td>\n",
       "      <td>No</td>\n",
       "      <td>No</td>\n",
       "      <td>No</td>\n",
       "      <td>No</td>\n",
       "      <td>No</td>\n",
       "    </tr>\n",
       "  </tbody>\n",
       "</table>\n",
       "</div>"
      ],
      "text/plain": [
       "   customerID InternetService OnlineSecurity OnlineBackup DeviceProtection  \\\n",
       "0  7590-VHVEG             DSL             No          Yes               No   \n",
       "1  5575-GNVDE             DSL            Yes           No              Yes   \n",
       "2  3668-QPYBK             DSL            Yes          Yes               No   \n",
       "3  7795-CFOCW             DSL            Yes           No              Yes   \n",
       "4  9237-HQITU     Fiber optic             No           No               No   \n",
       "\n",
       "  TechSupport StreamingTV StreamingMovies  \n",
       "0          No          No              No  \n",
       "1          No          No              No  \n",
       "2          No          No              No  \n",
       "3         Yes          No              No  \n",
       "4          No          No              No  "
      ]
     },
     "metadata": {},
     "output_type": "display_data"
    },
    {
     "data": {
      "text/html": [
       "<div>\n",
       "<style scoped>\n",
       "    .dataframe tbody tr th:only-of-type {\n",
       "        vertical-align: middle;\n",
       "    }\n",
       "\n",
       "    .dataframe tbody tr th {\n",
       "        vertical-align: top;\n",
       "    }\n",
       "\n",
       "    .dataframe thead th {\n",
       "        text-align: right;\n",
       "    }\n",
       "</style>\n",
       "<table border=\"1\" class=\"dataframe\">\n",
       "  <thead>\n",
       "    <tr style=\"text-align: right;\">\n",
       "      <th></th>\n",
       "      <th>customerID</th>\n",
       "      <th>InternetService</th>\n",
       "      <th>OnlineSecurity</th>\n",
       "      <th>OnlineBackup</th>\n",
       "      <th>DeviceProtection</th>\n",
       "      <th>TechSupport</th>\n",
       "      <th>StreamingTV</th>\n",
       "      <th>StreamingMovies</th>\n",
       "    </tr>\n",
       "  </thead>\n",
       "  <tbody>\n",
       "    <tr>\n",
       "      <th>count</th>\n",
       "      <td>5517</td>\n",
       "      <td>5517</td>\n",
       "      <td>5517</td>\n",
       "      <td>5517</td>\n",
       "      <td>5517</td>\n",
       "      <td>5517</td>\n",
       "      <td>5517</td>\n",
       "      <td>5517</td>\n",
       "    </tr>\n",
       "    <tr>\n",
       "      <th>unique</th>\n",
       "      <td>5517</td>\n",
       "      <td>2</td>\n",
       "      <td>2</td>\n",
       "      <td>2</td>\n",
       "      <td>2</td>\n",
       "      <td>2</td>\n",
       "      <td>2</td>\n",
       "      <td>2</td>\n",
       "    </tr>\n",
       "    <tr>\n",
       "      <th>top</th>\n",
       "      <td>7590-VHVEG</td>\n",
       "      <td>Fiber optic</td>\n",
       "      <td>No</td>\n",
       "      <td>No</td>\n",
       "      <td>No</td>\n",
       "      <td>No</td>\n",
       "      <td>No</td>\n",
       "      <td>No</td>\n",
       "    </tr>\n",
       "    <tr>\n",
       "      <th>freq</th>\n",
       "      <td>1</td>\n",
       "      <td>3096</td>\n",
       "      <td>3498</td>\n",
       "      <td>3088</td>\n",
       "      <td>3095</td>\n",
       "      <td>3473</td>\n",
       "      <td>2810</td>\n",
       "      <td>2785</td>\n",
       "    </tr>\n",
       "  </tbody>\n",
       "</table>\n",
       "</div>"
      ],
      "text/plain": [
       "        customerID InternetService OnlineSecurity OnlineBackup  \\\n",
       "count         5517            5517           5517         5517   \n",
       "unique        5517               2              2            2   \n",
       "top     7590-VHVEG     Fiber optic             No           No   \n",
       "freq             1            3096           3498         3088   \n",
       "\n",
       "       DeviceProtection TechSupport StreamingTV StreamingMovies  \n",
       "count              5517        5517        5517            5517  \n",
       "unique                2           2           2               2  \n",
       "top                  No          No          No              No  \n",
       "freq               3095        3473        2810            2785  "
      ]
     },
     "metadata": {},
     "output_type": "display_data"
    },
    {
     "name": "stdout",
     "output_type": "stream",
     "text": [
      "<class 'pandas.core.frame.DataFrame'>\n",
      "RangeIndex: 5517 entries, 0 to 5516\n",
      "Data columns (total 8 columns):\n",
      " #   Column            Non-Null Count  Dtype \n",
      "---  ------            --------------  ----- \n",
      " 0   customerID        5517 non-null   object\n",
      " 1   InternetService   5517 non-null   object\n",
      " 2   OnlineSecurity    5517 non-null   object\n",
      " 3   OnlineBackup      5517 non-null   object\n",
      " 4   DeviceProtection  5517 non-null   object\n",
      " 5   TechSupport       5517 non-null   object\n",
      " 6   StreamingTV       5517 non-null   object\n",
      " 7   StreamingMovies   5517 non-null   object\n",
      "dtypes: object(8)\n",
      "memory usage: 344.9+ KB\n"
     ]
    },
    {
     "data": {
      "text/plain": [
       "None"
      ]
     },
     "metadata": {},
     "output_type": "display_data"
    },
    {
     "name": "stdout",
     "output_type": "stream",
     "text": [
      "Number of duplicates: 0\n"
     ]
    }
   ],
   "source": [
    "main_info(df_internet)"
   ]
  },
  {
   "cell_type": "code",
   "execution_count": 14,
   "metadata": {},
   "outputs": [
    {
     "data": {
      "text/html": [
       "<div>\n",
       "<style scoped>\n",
       "    .dataframe tbody tr th:only-of-type {\n",
       "        vertical-align: middle;\n",
       "    }\n",
       "\n",
       "    .dataframe tbody tr th {\n",
       "        vertical-align: top;\n",
       "    }\n",
       "\n",
       "    .dataframe thead th {\n",
       "        text-align: right;\n",
       "    }\n",
       "</style>\n",
       "<table border=\"1\" class=\"dataframe\">\n",
       "  <thead>\n",
       "    <tr style=\"text-align: right;\">\n",
       "      <th></th>\n",
       "      <th>customerID</th>\n",
       "      <th>MultipleLines</th>\n",
       "    </tr>\n",
       "  </thead>\n",
       "  <tbody>\n",
       "    <tr>\n",
       "      <th>0</th>\n",
       "      <td>5575-GNVDE</td>\n",
       "      <td>No</td>\n",
       "    </tr>\n",
       "    <tr>\n",
       "      <th>1</th>\n",
       "      <td>3668-QPYBK</td>\n",
       "      <td>No</td>\n",
       "    </tr>\n",
       "    <tr>\n",
       "      <th>2</th>\n",
       "      <td>9237-HQITU</td>\n",
       "      <td>No</td>\n",
       "    </tr>\n",
       "    <tr>\n",
       "      <th>3</th>\n",
       "      <td>9305-CDSKC</td>\n",
       "      <td>Yes</td>\n",
       "    </tr>\n",
       "    <tr>\n",
       "      <th>4</th>\n",
       "      <td>1452-KIOVK</td>\n",
       "      <td>Yes</td>\n",
       "    </tr>\n",
       "  </tbody>\n",
       "</table>\n",
       "</div>"
      ],
      "text/plain": [
       "   customerID MultipleLines\n",
       "0  5575-GNVDE            No\n",
       "1  3668-QPYBK            No\n",
       "2  9237-HQITU            No\n",
       "3  9305-CDSKC           Yes\n",
       "4  1452-KIOVK           Yes"
      ]
     },
     "metadata": {},
     "output_type": "display_data"
    },
    {
     "data": {
      "text/html": [
       "<div>\n",
       "<style scoped>\n",
       "    .dataframe tbody tr th:only-of-type {\n",
       "        vertical-align: middle;\n",
       "    }\n",
       "\n",
       "    .dataframe tbody tr th {\n",
       "        vertical-align: top;\n",
       "    }\n",
       "\n",
       "    .dataframe thead th {\n",
       "        text-align: right;\n",
       "    }\n",
       "</style>\n",
       "<table border=\"1\" class=\"dataframe\">\n",
       "  <thead>\n",
       "    <tr style=\"text-align: right;\">\n",
       "      <th></th>\n",
       "      <th>customerID</th>\n",
       "      <th>MultipleLines</th>\n",
       "    </tr>\n",
       "  </thead>\n",
       "  <tbody>\n",
       "    <tr>\n",
       "      <th>count</th>\n",
       "      <td>6361</td>\n",
       "      <td>6361</td>\n",
       "    </tr>\n",
       "    <tr>\n",
       "      <th>unique</th>\n",
       "      <td>6361</td>\n",
       "      <td>2</td>\n",
       "    </tr>\n",
       "    <tr>\n",
       "      <th>top</th>\n",
       "      <td>5575-GNVDE</td>\n",
       "      <td>No</td>\n",
       "    </tr>\n",
       "    <tr>\n",
       "      <th>freq</th>\n",
       "      <td>1</td>\n",
       "      <td>3390</td>\n",
       "    </tr>\n",
       "  </tbody>\n",
       "</table>\n",
       "</div>"
      ],
      "text/plain": [
       "        customerID MultipleLines\n",
       "count         6361          6361\n",
       "unique        6361             2\n",
       "top     5575-GNVDE            No\n",
       "freq             1          3390"
      ]
     },
     "metadata": {},
     "output_type": "display_data"
    },
    {
     "name": "stdout",
     "output_type": "stream",
     "text": [
      "<class 'pandas.core.frame.DataFrame'>\n",
      "RangeIndex: 6361 entries, 0 to 6360\n",
      "Data columns (total 2 columns):\n",
      " #   Column         Non-Null Count  Dtype \n",
      "---  ------         --------------  ----- \n",
      " 0   customerID     6361 non-null   object\n",
      " 1   MultipleLines  6361 non-null   object\n",
      "dtypes: object(2)\n",
      "memory usage: 99.5+ KB\n"
     ]
    },
    {
     "data": {
      "text/plain": [
       "None"
      ]
     },
     "metadata": {},
     "output_type": "display_data"
    },
    {
     "name": "stdout",
     "output_type": "stream",
     "text": [
      "Number of duplicates: 0\n"
     ]
    }
   ],
   "source": [
    "main_info(df_phone)"
   ]
  },
  {
   "cell_type": "markdown",
   "metadata": {},
   "source": [
    "### Conclusion\n",
    "- Data uploaded\n",
    "- The data consists of 4 datasets, in total, in which there are data of 7043 people\n",
    "- No obvious duplicates have been identified separately in each dataset\n",
    "- In two of the four datasets, the number of rows is less than 7043, which tells us that when combining data, there will be missing values that need to be processed."
   ]
  },
  {
   "cell_type": "markdown",
   "metadata": {},
   "source": [
    "## Complex data analysis, processing and aggregation"
   ]
  },
  {
   "cell_type": "markdown",
   "metadata": {},
   "source": [
    "### df_contract"
   ]
  },
  {
   "cell_type": "code",
   "execution_count": 15,
   "metadata": {},
   "outputs": [
    {
     "name": "stdout",
     "output_type": "stream",
     "text": [
      "<class 'pandas.core.frame.DataFrame'>\n",
      "RangeIndex: 7043 entries, 0 to 7042\n",
      "Data columns (total 8 columns):\n",
      " #   Column            Non-Null Count  Dtype  \n",
      "---  ------            --------------  -----  \n",
      " 0   customerID        7043 non-null   object \n",
      " 1   BeginDate         7043 non-null   object \n",
      " 2   EndDate           7043 non-null   object \n",
      " 3   Type              7043 non-null   object \n",
      " 4   PaperlessBilling  7043 non-null   object \n",
      " 5   PaymentMethod     7043 non-null   object \n",
      " 6   MonthlyCharges    7043 non-null   float64\n",
      " 7   TotalCharges      7043 non-null   object \n",
      "dtypes: float64(1), object(7)\n",
      "memory usage: 440.3+ KB\n"
     ]
    }
   ],
   "source": [
    "df_contract.info()"
   ]
  },
  {
   "cell_type": "code",
   "execution_count": 16,
   "metadata": {
    "scrolled": true
   },
   "outputs": [
    {
     "data": {
      "text/html": [
       "<div>\n",
       "<style scoped>\n",
       "    .dataframe tbody tr th:only-of-type {\n",
       "        vertical-align: middle;\n",
       "    }\n",
       "\n",
       "    .dataframe tbody tr th {\n",
       "        vertical-align: top;\n",
       "    }\n",
       "\n",
       "    .dataframe thead th {\n",
       "        text-align: right;\n",
       "    }\n",
       "</style>\n",
       "<table border=\"1\" class=\"dataframe\">\n",
       "  <thead>\n",
       "    <tr style=\"text-align: right;\">\n",
       "      <th></th>\n",
       "      <th>customerID</th>\n",
       "      <th>BeginDate</th>\n",
       "      <th>EndDate</th>\n",
       "      <th>Type</th>\n",
       "      <th>PaperlessBilling</th>\n",
       "      <th>PaymentMethod</th>\n",
       "      <th>MonthlyCharges</th>\n",
       "      <th>TotalCharges</th>\n",
       "    </tr>\n",
       "  </thead>\n",
       "  <tbody>\n",
       "    <tr>\n",
       "      <th>0</th>\n",
       "      <td>7590-VHVEG</td>\n",
       "      <td>2020-01-01</td>\n",
       "      <td>No</td>\n",
       "      <td>Month-to-month</td>\n",
       "      <td>Yes</td>\n",
       "      <td>Electronic check</td>\n",
       "      <td>29.85</td>\n",
       "      <td>29.85</td>\n",
       "    </tr>\n",
       "    <tr>\n",
       "      <th>1</th>\n",
       "      <td>5575-GNVDE</td>\n",
       "      <td>2017-04-01</td>\n",
       "      <td>No</td>\n",
       "      <td>One year</td>\n",
       "      <td>No</td>\n",
       "      <td>Mailed check</td>\n",
       "      <td>56.95</td>\n",
       "      <td>1889.5</td>\n",
       "    </tr>\n",
       "    <tr>\n",
       "      <th>2</th>\n",
       "      <td>3668-QPYBK</td>\n",
       "      <td>2019-10-01</td>\n",
       "      <td>2019-12-01 00:00:00</td>\n",
       "      <td>Month-to-month</td>\n",
       "      <td>Yes</td>\n",
       "      <td>Mailed check</td>\n",
       "      <td>53.85</td>\n",
       "      <td>108.15</td>\n",
       "    </tr>\n",
       "    <tr>\n",
       "      <th>3</th>\n",
       "      <td>7795-CFOCW</td>\n",
       "      <td>2016-05-01</td>\n",
       "      <td>No</td>\n",
       "      <td>One year</td>\n",
       "      <td>No</td>\n",
       "      <td>Bank transfer (automatic)</td>\n",
       "      <td>42.30</td>\n",
       "      <td>1840.75</td>\n",
       "    </tr>\n",
       "    <tr>\n",
       "      <th>4</th>\n",
       "      <td>9237-HQITU</td>\n",
       "      <td>2019-09-01</td>\n",
       "      <td>2019-11-01 00:00:00</td>\n",
       "      <td>Month-to-month</td>\n",
       "      <td>Yes</td>\n",
       "      <td>Electronic check</td>\n",
       "      <td>70.70</td>\n",
       "      <td>151.65</td>\n",
       "    </tr>\n",
       "  </tbody>\n",
       "</table>\n",
       "</div>"
      ],
      "text/plain": [
       "   customerID   BeginDate              EndDate            Type  \\\n",
       "0  7590-VHVEG  2020-01-01                   No  Month-to-month   \n",
       "1  5575-GNVDE  2017-04-01                   No        One year   \n",
       "2  3668-QPYBK  2019-10-01  2019-12-01 00:00:00  Month-to-month   \n",
       "3  7795-CFOCW  2016-05-01                   No        One year   \n",
       "4  9237-HQITU  2019-09-01  2019-11-01 00:00:00  Month-to-month   \n",
       "\n",
       "  PaperlessBilling              PaymentMethod  MonthlyCharges TotalCharges  \n",
       "0              Yes           Electronic check           29.85        29.85  \n",
       "1               No               Mailed check           56.95       1889.5  \n",
       "2              Yes               Mailed check           53.85       108.15  \n",
       "3               No  Bank transfer (automatic)           42.30      1840.75  \n",
       "4              Yes           Electronic check           70.70       151.65  "
      ]
     },
     "execution_count": 16,
     "metadata": {},
     "output_type": "execute_result"
    }
   ],
   "source": [
    "df_contract.head()"
   ]
  },
  {
   "cell_type": "markdown",
   "metadata": {},
   "source": [
    "- 1) Based on the EndDate attribute, we will highlight the target\n",
    "- 2) Based on the BeginDate and EndDate attributes, we can calculate a new attribute - the number of days the client has been with us (taking into account that the date of unloading the dataset is 2020-02-01)\n",
    "- 3) Check the data for anomalies and bring all the signs to required formats"
   ]
  },
  {
   "cell_type": "markdown",
   "metadata": {},
   "source": [
    "#### Selection of the target"
   ]
  },
  {
   "cell_type": "code",
   "execution_count": 17,
   "metadata": {},
   "outputs": [],
   "source": [
    "df_contract['Churn'] = 1"
   ]
  },
  {
   "cell_type": "code",
   "execution_count": 18,
   "metadata": {},
   "outputs": [],
   "source": [
    "df_contract['Churn'].where(df_contract['EndDate']!='No',0, inplace=True)"
   ]
  },
  {
   "cell_type": "code",
   "execution_count": 19,
   "metadata": {},
   "outputs": [
    {
     "data": {
      "text/html": [
       "<div>\n",
       "<style scoped>\n",
       "    .dataframe tbody tr th:only-of-type {\n",
       "        vertical-align: middle;\n",
       "    }\n",
       "\n",
       "    .dataframe tbody tr th {\n",
       "        vertical-align: top;\n",
       "    }\n",
       "\n",
       "    .dataframe thead th {\n",
       "        text-align: right;\n",
       "    }\n",
       "</style>\n",
       "<table border=\"1\" class=\"dataframe\">\n",
       "  <thead>\n",
       "    <tr style=\"text-align: right;\">\n",
       "      <th></th>\n",
       "      <th>customerID</th>\n",
       "      <th>BeginDate</th>\n",
       "      <th>EndDate</th>\n",
       "      <th>Type</th>\n",
       "      <th>PaperlessBilling</th>\n",
       "      <th>PaymentMethod</th>\n",
       "      <th>MonthlyCharges</th>\n",
       "      <th>TotalCharges</th>\n",
       "      <th>Churn</th>\n",
       "    </tr>\n",
       "  </thead>\n",
       "  <tbody>\n",
       "    <tr>\n",
       "      <th>0</th>\n",
       "      <td>7590-VHVEG</td>\n",
       "      <td>2020-01-01</td>\n",
       "      <td>No</td>\n",
       "      <td>Month-to-month</td>\n",
       "      <td>Yes</td>\n",
       "      <td>Electronic check</td>\n",
       "      <td>29.85</td>\n",
       "      <td>29.85</td>\n",
       "      <td>0</td>\n",
       "    </tr>\n",
       "    <tr>\n",
       "      <th>1</th>\n",
       "      <td>5575-GNVDE</td>\n",
       "      <td>2017-04-01</td>\n",
       "      <td>No</td>\n",
       "      <td>One year</td>\n",
       "      <td>No</td>\n",
       "      <td>Mailed check</td>\n",
       "      <td>56.95</td>\n",
       "      <td>1889.5</td>\n",
       "      <td>0</td>\n",
       "    </tr>\n",
       "    <tr>\n",
       "      <th>2</th>\n",
       "      <td>3668-QPYBK</td>\n",
       "      <td>2019-10-01</td>\n",
       "      <td>2019-12-01 00:00:00</td>\n",
       "      <td>Month-to-month</td>\n",
       "      <td>Yes</td>\n",
       "      <td>Mailed check</td>\n",
       "      <td>53.85</td>\n",
       "      <td>108.15</td>\n",
       "      <td>1</td>\n",
       "    </tr>\n",
       "    <tr>\n",
       "      <th>3</th>\n",
       "      <td>7795-CFOCW</td>\n",
       "      <td>2016-05-01</td>\n",
       "      <td>No</td>\n",
       "      <td>One year</td>\n",
       "      <td>No</td>\n",
       "      <td>Bank transfer (automatic)</td>\n",
       "      <td>42.30</td>\n",
       "      <td>1840.75</td>\n",
       "      <td>0</td>\n",
       "    </tr>\n",
       "    <tr>\n",
       "      <th>4</th>\n",
       "      <td>9237-HQITU</td>\n",
       "      <td>2019-09-01</td>\n",
       "      <td>2019-11-01 00:00:00</td>\n",
       "      <td>Month-to-month</td>\n",
       "      <td>Yes</td>\n",
       "      <td>Electronic check</td>\n",
       "      <td>70.70</td>\n",
       "      <td>151.65</td>\n",
       "      <td>1</td>\n",
       "    </tr>\n",
       "  </tbody>\n",
       "</table>\n",
       "</div>"
      ],
      "text/plain": [
       "   customerID   BeginDate              EndDate            Type  \\\n",
       "0  7590-VHVEG  2020-01-01                   No  Month-to-month   \n",
       "1  5575-GNVDE  2017-04-01                   No        One year   \n",
       "2  3668-QPYBK  2019-10-01  2019-12-01 00:00:00  Month-to-month   \n",
       "3  7795-CFOCW  2016-05-01                   No        One year   \n",
       "4  9237-HQITU  2019-09-01  2019-11-01 00:00:00  Month-to-month   \n",
       "\n",
       "  PaperlessBilling              PaymentMethod  MonthlyCharges TotalCharges  \\\n",
       "0              Yes           Electronic check           29.85        29.85   \n",
       "1               No               Mailed check           56.95       1889.5   \n",
       "2              Yes               Mailed check           53.85       108.15   \n",
       "3               No  Bank transfer (automatic)           42.30      1840.75   \n",
       "4              Yes           Electronic check           70.70       151.65   \n",
       "\n",
       "   Churn  \n",
       "0      0  \n",
       "1      0  \n",
       "2      1  \n",
       "3      0  \n",
       "4      1  "
      ]
     },
     "execution_count": 19,
     "metadata": {},
     "output_type": "execute_result"
    }
   ],
   "source": [
    "df_contract.head()"
   ]
  },
  {
   "cell_type": "markdown",
   "metadata": {},
   "source": [
    "- 0 - client stayed\n",
    "- 1 - client left"
   ]
  },
  {
   "cell_type": "markdown",
   "metadata": {},
   "source": [
    "#### Creation of a new feature"
   ]
  },
  {
   "cell_type": "code",
   "execution_count": 20,
   "metadata": {},
   "outputs": [],
   "source": [
    "df_contract['EndDate'].where(df_contract['EndDate']!='No','2020-02-01', inplace=True)"
   ]
  },
  {
   "cell_type": "code",
   "execution_count": 21,
   "metadata": {},
   "outputs": [],
   "source": [
    "df_contract['BeginDate'] = pd.to_datetime(df_contract['BeginDate'])\n",
    "df_contract['EndDate'] = pd.to_datetime(df_contract['EndDate'])"
   ]
  },
  {
   "cell_type": "code",
   "execution_count": 22,
   "metadata": {},
   "outputs": [
    {
     "name": "stdout",
     "output_type": "stream",
     "text": [
      "<class 'pandas.core.frame.DataFrame'>\n",
      "RangeIndex: 7043 entries, 0 to 7042\n",
      "Data columns (total 9 columns):\n",
      " #   Column            Non-Null Count  Dtype         \n",
      "---  ------            --------------  -----         \n",
      " 0   customerID        7043 non-null   object        \n",
      " 1   BeginDate         7043 non-null   datetime64[ns]\n",
      " 2   EndDate           7043 non-null   datetime64[ns]\n",
      " 3   Type              7043 non-null   object        \n",
      " 4   PaperlessBilling  7043 non-null   object        \n",
      " 5   PaymentMethod     7043 non-null   object        \n",
      " 6   MonthlyCharges    7043 non-null   float64       \n",
      " 7   TotalCharges      7043 non-null   object        \n",
      " 8   Churn             7043 non-null   int64         \n",
      "dtypes: datetime64[ns](2), float64(1), int64(1), object(5)\n",
      "memory usage: 495.3+ KB\n"
     ]
    }
   ],
   "source": [
    "df_contract.info()"
   ]
  },
  {
   "cell_type": "code",
   "execution_count": 23,
   "metadata": {},
   "outputs": [],
   "source": [
    "df_contract['Days'] = df_contract['EndDate'] - df_contract['BeginDate']"
   ]
  },
  {
   "cell_type": "code",
   "execution_count": 24,
   "metadata": {},
   "outputs": [],
   "source": [
    "df_contract['Days'] = df_contract['Days'].dt.days.astype('int64')"
   ]
  },
  {
   "cell_type": "code",
   "execution_count": 25,
   "metadata": {
    "scrolled": true
   },
   "outputs": [
    {
     "data": {
      "text/html": [
       "<div>\n",
       "<style scoped>\n",
       "    .dataframe tbody tr th:only-of-type {\n",
       "        vertical-align: middle;\n",
       "    }\n",
       "\n",
       "    .dataframe tbody tr th {\n",
       "        vertical-align: top;\n",
       "    }\n",
       "\n",
       "    .dataframe thead th {\n",
       "        text-align: right;\n",
       "    }\n",
       "</style>\n",
       "<table border=\"1\" class=\"dataframe\">\n",
       "  <thead>\n",
       "    <tr style=\"text-align: right;\">\n",
       "      <th></th>\n",
       "      <th>customerID</th>\n",
       "      <th>BeginDate</th>\n",
       "      <th>EndDate</th>\n",
       "      <th>Type</th>\n",
       "      <th>PaperlessBilling</th>\n",
       "      <th>PaymentMethod</th>\n",
       "      <th>MonthlyCharges</th>\n",
       "      <th>TotalCharges</th>\n",
       "      <th>Churn</th>\n",
       "      <th>Days</th>\n",
       "    </tr>\n",
       "  </thead>\n",
       "  <tbody>\n",
       "    <tr>\n",
       "      <th>0</th>\n",
       "      <td>7590-VHVEG</td>\n",
       "      <td>2020-01-01</td>\n",
       "      <td>2020-02-01</td>\n",
       "      <td>Month-to-month</td>\n",
       "      <td>Yes</td>\n",
       "      <td>Electronic check</td>\n",
       "      <td>29.85</td>\n",
       "      <td>29.85</td>\n",
       "      <td>0</td>\n",
       "      <td>31</td>\n",
       "    </tr>\n",
       "    <tr>\n",
       "      <th>1</th>\n",
       "      <td>5575-GNVDE</td>\n",
       "      <td>2017-04-01</td>\n",
       "      <td>2020-02-01</td>\n",
       "      <td>One year</td>\n",
       "      <td>No</td>\n",
       "      <td>Mailed check</td>\n",
       "      <td>56.95</td>\n",
       "      <td>1889.5</td>\n",
       "      <td>0</td>\n",
       "      <td>1036</td>\n",
       "    </tr>\n",
       "    <tr>\n",
       "      <th>2</th>\n",
       "      <td>3668-QPYBK</td>\n",
       "      <td>2019-10-01</td>\n",
       "      <td>2019-12-01</td>\n",
       "      <td>Month-to-month</td>\n",
       "      <td>Yes</td>\n",
       "      <td>Mailed check</td>\n",
       "      <td>53.85</td>\n",
       "      <td>108.15</td>\n",
       "      <td>1</td>\n",
       "      <td>61</td>\n",
       "    </tr>\n",
       "    <tr>\n",
       "      <th>3</th>\n",
       "      <td>7795-CFOCW</td>\n",
       "      <td>2016-05-01</td>\n",
       "      <td>2020-02-01</td>\n",
       "      <td>One year</td>\n",
       "      <td>No</td>\n",
       "      <td>Bank transfer (automatic)</td>\n",
       "      <td>42.30</td>\n",
       "      <td>1840.75</td>\n",
       "      <td>0</td>\n",
       "      <td>1371</td>\n",
       "    </tr>\n",
       "    <tr>\n",
       "      <th>4</th>\n",
       "      <td>9237-HQITU</td>\n",
       "      <td>2019-09-01</td>\n",
       "      <td>2019-11-01</td>\n",
       "      <td>Month-to-month</td>\n",
       "      <td>Yes</td>\n",
       "      <td>Electronic check</td>\n",
       "      <td>70.70</td>\n",
       "      <td>151.65</td>\n",
       "      <td>1</td>\n",
       "      <td>61</td>\n",
       "    </tr>\n",
       "  </tbody>\n",
       "</table>\n",
       "</div>"
      ],
      "text/plain": [
       "   customerID  BeginDate    EndDate            Type PaperlessBilling  \\\n",
       "0  7590-VHVEG 2020-01-01 2020-02-01  Month-to-month              Yes   \n",
       "1  5575-GNVDE 2017-04-01 2020-02-01        One year               No   \n",
       "2  3668-QPYBK 2019-10-01 2019-12-01  Month-to-month              Yes   \n",
       "3  7795-CFOCW 2016-05-01 2020-02-01        One year               No   \n",
       "4  9237-HQITU 2019-09-01 2019-11-01  Month-to-month              Yes   \n",
       "\n",
       "               PaymentMethod  MonthlyCharges TotalCharges  Churn  Days  \n",
       "0           Electronic check           29.85        29.85      0    31  \n",
       "1               Mailed check           56.95       1889.5      0  1036  \n",
       "2               Mailed check           53.85       108.15      1    61  \n",
       "3  Bank transfer (automatic)           42.30      1840.75      0  1371  \n",
       "4           Electronic check           70.70       151.65      1    61  "
      ]
     },
     "execution_count": 25,
     "metadata": {},
     "output_type": "execute_result"
    }
   ],
   "source": [
    "df_contract.head()"
   ]
  },
  {
   "cell_type": "markdown",
   "metadata": {},
   "source": [
    "#### Anomaly Search"
   ]
  },
  {
   "cell_type": "code",
   "execution_count": 26,
   "metadata": {},
   "outputs": [
    {
     "data": {
      "text/html": [
       "<div>\n",
       "<style scoped>\n",
       "    .dataframe tbody tr th:only-of-type {\n",
       "        vertical-align: middle;\n",
       "    }\n",
       "\n",
       "    .dataframe tbody tr th {\n",
       "        vertical-align: top;\n",
       "    }\n",
       "\n",
       "    .dataframe thead th {\n",
       "        text-align: right;\n",
       "    }\n",
       "</style>\n",
       "<table border=\"1\" class=\"dataframe\">\n",
       "  <thead>\n",
       "    <tr style=\"text-align: right;\">\n",
       "      <th></th>\n",
       "      <th>customerID</th>\n",
       "      <th>BeginDate</th>\n",
       "      <th>EndDate</th>\n",
       "      <th>Type</th>\n",
       "      <th>PaperlessBilling</th>\n",
       "      <th>PaymentMethod</th>\n",
       "      <th>MonthlyCharges</th>\n",
       "      <th>TotalCharges</th>\n",
       "      <th>Churn</th>\n",
       "      <th>Days</th>\n",
       "    </tr>\n",
       "  </thead>\n",
       "  <tbody>\n",
       "    <tr>\n",
       "      <th>488</th>\n",
       "      <td>4472-LVYGI</td>\n",
       "      <td>2020-02-01</td>\n",
       "      <td>2020-02-01</td>\n",
       "      <td>Two year</td>\n",
       "      <td>Yes</td>\n",
       "      <td>Bank transfer (automatic)</td>\n",
       "      <td>52.55</td>\n",
       "      <td></td>\n",
       "      <td>0</td>\n",
       "      <td>0</td>\n",
       "    </tr>\n",
       "    <tr>\n",
       "      <th>753</th>\n",
       "      <td>3115-CZMZD</td>\n",
       "      <td>2020-02-01</td>\n",
       "      <td>2020-02-01</td>\n",
       "      <td>Two year</td>\n",
       "      <td>No</td>\n",
       "      <td>Mailed check</td>\n",
       "      <td>20.25</td>\n",
       "      <td></td>\n",
       "      <td>0</td>\n",
       "      <td>0</td>\n",
       "    </tr>\n",
       "    <tr>\n",
       "      <th>936</th>\n",
       "      <td>5709-LVOEQ</td>\n",
       "      <td>2020-02-01</td>\n",
       "      <td>2020-02-01</td>\n",
       "      <td>Two year</td>\n",
       "      <td>No</td>\n",
       "      <td>Mailed check</td>\n",
       "      <td>80.85</td>\n",
       "      <td></td>\n",
       "      <td>0</td>\n",
       "      <td>0</td>\n",
       "    </tr>\n",
       "    <tr>\n",
       "      <th>1082</th>\n",
       "      <td>4367-NUYAO</td>\n",
       "      <td>2020-02-01</td>\n",
       "      <td>2020-02-01</td>\n",
       "      <td>Two year</td>\n",
       "      <td>No</td>\n",
       "      <td>Mailed check</td>\n",
       "      <td>25.75</td>\n",
       "      <td></td>\n",
       "      <td>0</td>\n",
       "      <td>0</td>\n",
       "    </tr>\n",
       "    <tr>\n",
       "      <th>1340</th>\n",
       "      <td>1371-DWPAZ</td>\n",
       "      <td>2020-02-01</td>\n",
       "      <td>2020-02-01</td>\n",
       "      <td>Two year</td>\n",
       "      <td>No</td>\n",
       "      <td>Credit card (automatic)</td>\n",
       "      <td>56.05</td>\n",
       "      <td></td>\n",
       "      <td>0</td>\n",
       "      <td>0</td>\n",
       "    </tr>\n",
       "    <tr>\n",
       "      <th>3331</th>\n",
       "      <td>7644-OMVMY</td>\n",
       "      <td>2020-02-01</td>\n",
       "      <td>2020-02-01</td>\n",
       "      <td>Two year</td>\n",
       "      <td>No</td>\n",
       "      <td>Mailed check</td>\n",
       "      <td>19.85</td>\n",
       "      <td></td>\n",
       "      <td>0</td>\n",
       "      <td>0</td>\n",
       "    </tr>\n",
       "    <tr>\n",
       "      <th>3826</th>\n",
       "      <td>3213-VVOLG</td>\n",
       "      <td>2020-02-01</td>\n",
       "      <td>2020-02-01</td>\n",
       "      <td>Two year</td>\n",
       "      <td>No</td>\n",
       "      <td>Mailed check</td>\n",
       "      <td>25.35</td>\n",
       "      <td></td>\n",
       "      <td>0</td>\n",
       "      <td>0</td>\n",
       "    </tr>\n",
       "    <tr>\n",
       "      <th>4380</th>\n",
       "      <td>2520-SGTTA</td>\n",
       "      <td>2020-02-01</td>\n",
       "      <td>2020-02-01</td>\n",
       "      <td>Two year</td>\n",
       "      <td>No</td>\n",
       "      <td>Mailed check</td>\n",
       "      <td>20.00</td>\n",
       "      <td></td>\n",
       "      <td>0</td>\n",
       "      <td>0</td>\n",
       "    </tr>\n",
       "    <tr>\n",
       "      <th>5218</th>\n",
       "      <td>2923-ARZLG</td>\n",
       "      <td>2020-02-01</td>\n",
       "      <td>2020-02-01</td>\n",
       "      <td>One year</td>\n",
       "      <td>Yes</td>\n",
       "      <td>Mailed check</td>\n",
       "      <td>19.70</td>\n",
       "      <td></td>\n",
       "      <td>0</td>\n",
       "      <td>0</td>\n",
       "    </tr>\n",
       "    <tr>\n",
       "      <th>6670</th>\n",
       "      <td>4075-WKNIU</td>\n",
       "      <td>2020-02-01</td>\n",
       "      <td>2020-02-01</td>\n",
       "      <td>Two year</td>\n",
       "      <td>No</td>\n",
       "      <td>Mailed check</td>\n",
       "      <td>73.35</td>\n",
       "      <td></td>\n",
       "      <td>0</td>\n",
       "      <td>0</td>\n",
       "    </tr>\n",
       "    <tr>\n",
       "      <th>6754</th>\n",
       "      <td>2775-SEFEE</td>\n",
       "      <td>2020-02-01</td>\n",
       "      <td>2020-02-01</td>\n",
       "      <td>Two year</td>\n",
       "      <td>Yes</td>\n",
       "      <td>Bank transfer (automatic)</td>\n",
       "      <td>61.90</td>\n",
       "      <td></td>\n",
       "      <td>0</td>\n",
       "      <td>0</td>\n",
       "    </tr>\n",
       "  </tbody>\n",
       "</table>\n",
       "</div>"
      ],
      "text/plain": [
       "      customerID  BeginDate    EndDate      Type PaperlessBilling  \\\n",
       "488   4472-LVYGI 2020-02-01 2020-02-01  Two year              Yes   \n",
       "753   3115-CZMZD 2020-02-01 2020-02-01  Two year               No   \n",
       "936   5709-LVOEQ 2020-02-01 2020-02-01  Two year               No   \n",
       "1082  4367-NUYAO 2020-02-01 2020-02-01  Two year               No   \n",
       "1340  1371-DWPAZ 2020-02-01 2020-02-01  Two year               No   \n",
       "3331  7644-OMVMY 2020-02-01 2020-02-01  Two year               No   \n",
       "3826  3213-VVOLG 2020-02-01 2020-02-01  Two year               No   \n",
       "4380  2520-SGTTA 2020-02-01 2020-02-01  Two year               No   \n",
       "5218  2923-ARZLG 2020-02-01 2020-02-01  One year              Yes   \n",
       "6670  4075-WKNIU 2020-02-01 2020-02-01  Two year               No   \n",
       "6754  2775-SEFEE 2020-02-01 2020-02-01  Two year              Yes   \n",
       "\n",
       "                  PaymentMethod  MonthlyCharges TotalCharges  Churn  Days  \n",
       "488   Bank transfer (automatic)           52.55                   0     0  \n",
       "753                Mailed check           20.25                   0     0  \n",
       "936                Mailed check           80.85                   0     0  \n",
       "1082               Mailed check           25.75                   0     0  \n",
       "1340    Credit card (automatic)           56.05                   0     0  \n",
       "3331               Mailed check           19.85                   0     0  \n",
       "3826               Mailed check           25.35                   0     0  \n",
       "4380               Mailed check           20.00                   0     0  \n",
       "5218               Mailed check           19.70                   0     0  \n",
       "6670               Mailed check           73.35                   0     0  \n",
       "6754  Bank transfer (automatic)           61.90                   0     0  "
      ]
     },
     "execution_count": 26,
     "metadata": {},
     "output_type": "execute_result"
    }
   ],
   "source": [
    "df_contract[df_contract['TotalCharges']==' ']"
   ]
  },
  {
   "cell_type": "markdown",
   "metadata": {},
   "source": [
    "In this case, equate the `Total Charges` column to `MonthlyCharges`"
   ]
  },
  {
   "cell_type": "code",
   "execution_count": 27,
   "metadata": {},
   "outputs": [],
   "source": [
    "df_contract['TotalCharges'].where(df_contract['TotalCharges']!=' ',df_contract['MonthlyCharges'], inplace=True)"
   ]
  },
  {
   "cell_type": "code",
   "execution_count": 28,
   "metadata": {},
   "outputs": [],
   "source": [
    "df_contract['TotalCharges'] = df_contract['TotalCharges'].astype('float64')"
   ]
  },
  {
   "cell_type": "code",
   "execution_count": 29,
   "metadata": {},
   "outputs": [
    {
     "name": "stdout",
     "output_type": "stream",
     "text": [
      "<class 'pandas.core.frame.DataFrame'>\n",
      "RangeIndex: 7043 entries, 0 to 7042\n",
      "Data columns (total 10 columns):\n",
      " #   Column            Non-Null Count  Dtype         \n",
      "---  ------            --------------  -----         \n",
      " 0   customerID        7043 non-null   object        \n",
      " 1   BeginDate         7043 non-null   datetime64[ns]\n",
      " 2   EndDate           7043 non-null   datetime64[ns]\n",
      " 3   Type              7043 non-null   object        \n",
      " 4   PaperlessBilling  7043 non-null   object        \n",
      " 5   PaymentMethod     7043 non-null   object        \n",
      " 6   MonthlyCharges    7043 non-null   float64       \n",
      " 7   TotalCharges      7043 non-null   float64       \n",
      " 8   Churn             7043 non-null   int64         \n",
      " 9   Days              7043 non-null   int64         \n",
      "dtypes: datetime64[ns](2), float64(2), int64(2), object(4)\n",
      "memory usage: 550.4+ KB\n"
     ]
    }
   ],
   "source": [
    "df_contract.info()"
   ]
  },
  {
   "cell_type": "code",
   "execution_count": 30,
   "metadata": {},
   "outputs": [
    {
     "data": {
      "text/html": [
       "<div>\n",
       "<style scoped>\n",
       "    .dataframe tbody tr th:only-of-type {\n",
       "        vertical-align: middle;\n",
       "    }\n",
       "\n",
       "    .dataframe tbody tr th {\n",
       "        vertical-align: top;\n",
       "    }\n",
       "\n",
       "    .dataframe thead th {\n",
       "        text-align: right;\n",
       "    }\n",
       "</style>\n",
       "<table border=\"1\" class=\"dataframe\">\n",
       "  <thead>\n",
       "    <tr style=\"text-align: right;\">\n",
       "      <th></th>\n",
       "      <th>MonthlyCharges</th>\n",
       "      <th>TotalCharges</th>\n",
       "      <th>Churn</th>\n",
       "      <th>Days</th>\n",
       "    </tr>\n",
       "  </thead>\n",
       "  <tbody>\n",
       "    <tr>\n",
       "      <th>count</th>\n",
       "      <td>7043.000000</td>\n",
       "      <td>7043.000000</td>\n",
       "      <td>7043.000000</td>\n",
       "      <td>7043.000000</td>\n",
       "    </tr>\n",
       "    <tr>\n",
       "      <th>mean</th>\n",
       "      <td>64.761692</td>\n",
       "      <td>2279.798992</td>\n",
       "      <td>0.265370</td>\n",
       "      <td>985.996166</td>\n",
       "    </tr>\n",
       "    <tr>\n",
       "      <th>std</th>\n",
       "      <td>30.090047</td>\n",
       "      <td>2266.730170</td>\n",
       "      <td>0.441561</td>\n",
       "      <td>747.587844</td>\n",
       "    </tr>\n",
       "    <tr>\n",
       "      <th>min</th>\n",
       "      <td>18.250000</td>\n",
       "      <td>18.800000</td>\n",
       "      <td>0.000000</td>\n",
       "      <td>0.000000</td>\n",
       "    </tr>\n",
       "    <tr>\n",
       "      <th>25%</th>\n",
       "      <td>35.500000</td>\n",
       "      <td>398.550000</td>\n",
       "      <td>0.000000</td>\n",
       "      <td>273.000000</td>\n",
       "    </tr>\n",
       "    <tr>\n",
       "      <th>50%</th>\n",
       "      <td>70.350000</td>\n",
       "      <td>1394.550000</td>\n",
       "      <td>0.000000</td>\n",
       "      <td>883.000000</td>\n",
       "    </tr>\n",
       "    <tr>\n",
       "      <th>75%</th>\n",
       "      <td>89.850000</td>\n",
       "      <td>3786.600000</td>\n",
       "      <td>1.000000</td>\n",
       "      <td>1676.000000</td>\n",
       "    </tr>\n",
       "    <tr>\n",
       "      <th>max</th>\n",
       "      <td>118.750000</td>\n",
       "      <td>8684.800000</td>\n",
       "      <td>1.000000</td>\n",
       "      <td>2191.000000</td>\n",
       "    </tr>\n",
       "  </tbody>\n",
       "</table>\n",
       "</div>"
      ],
      "text/plain": [
       "       MonthlyCharges  TotalCharges        Churn         Days\n",
       "count     7043.000000   7043.000000  7043.000000  7043.000000\n",
       "mean        64.761692   2279.798992     0.265370   985.996166\n",
       "std         30.090047   2266.730170     0.441561   747.587844\n",
       "min         18.250000     18.800000     0.000000     0.000000\n",
       "25%         35.500000    398.550000     0.000000   273.000000\n",
       "50%         70.350000   1394.550000     0.000000   883.000000\n",
       "75%         89.850000   3786.600000     1.000000  1676.000000\n",
       "max        118.750000   8684.800000     1.000000  2191.000000"
      ]
     },
     "execution_count": 30,
     "metadata": {},
     "output_type": "execute_result"
    }
   ],
   "source": [
    "df_contract.describe()"
   ]
  },
  {
   "cell_type": "code",
   "execution_count": 31,
   "metadata": {},
   "outputs": [
    {
     "data": {
      "text/plain": [
       "<AxesSubplot:>"
      ]
     },
     "execution_count": 31,
     "metadata": {},
     "output_type": "execute_result"
    },
    {
     "data": {
      "image/png": "[encoded data removed]",
      "text/plain": [
       "<Figure size 432x288 with 1 Axes>"
      ]
     },
     "metadata": {
      "needs_background": "light"
     },
     "output_type": "display_data"
    }
   ],
   "source": [
    "df_contract['MonthlyCharges'].hist(bins=20)"
   ]
  },
  {
   "cell_type": "code",
   "execution_count": 32,
   "metadata": {},
   "outputs": [
    {
     "data": {
      "text/plain": [
       "<AxesSubplot:>"
      ]
     },
     "execution_count": 32,
     "metadata": {},
     "output_type": "execute_result"
    },
    {
     "data": {
      "image/png": "[encoded data removed]",
      "text/plain": [
       "<Figure size 432x288 with 1 Axes>"
      ]
     },
     "metadata": {
      "needs_background": "light"
     },
     "output_type": "display_data"
    }
   ],
   "source": [
    "df_contract['TotalCharges'].hist(bins=100)"
   ]
  },
  {
   "cell_type": "markdown",
   "metadata": {},
   "source": [
    "Let's see how the monthly payments are distributed by customer groups — the remaining and the departed"
   ]
  },
  {
   "cell_type": "code",
   "execution_count": 33,
   "metadata": {
    "scrolled": false
   },
   "outputs": [
    {
     "data": {
      "image/png": "[encoded data removed]",
      "text/plain": [
       "<Figure size 1296x1152 with 2 Axes>"
      ]
     },
     "metadata": {
      "needs_background": "light"
     },
     "output_type": "display_data"
    }
   ],
   "source": [
    "fig = plt.figure()\n",
    "\n",
    "ax_1 = fig.add_subplot(2, 2, 1)\n",
    "df_contract[df_contract['Churn']==1]['MonthlyCharges'].plot(kind='box', figsize=(18,16))\n",
    "ax_2 = fig.add_subplot(2, 2, 2)\n",
    "df_contract[df_contract['Churn']==0]['MonthlyCharges'].plot(kind='box', figsize=(18,16))\n",
    "\n",
    "ax_1.set(title = 'Churn=1')\n",
    "ax_2.set(title = 'Churn=0')\n",
    "\n",
    "plt.show()"
   ]
  },
  {
   "cell_type": "markdown",
   "metadata": {},
   "source": [
    "As can be seen from the graphs, the exiting customers paid more monthly than the remaining ones (seen by the median value and the location of quartiles)\n",
    "\n",
    "Perhaps this was one of the reasons for the client's departure."
   ]
  },
  {
   "cell_type": "code",
   "execution_count": 40,
   "metadata": {},
   "outputs": [
    {
     "data": {
      "text/plain": [
       "<AxesSubplot:xlabel='MonthlyCharges', ylabel='Count'>"
      ]
     },
     "execution_count": 40,
     "metadata": {},
     "output_type": "execute_result"
    },
    {
     "data": {
      "image/png": "[encoded data removed]",
      "text/plain": [
       "<Figure size 1080x576 with 1 Axes>"
      ]
     },
     "metadata": {
      "needs_background": "light"
     },
     "output_type": "display_data"
    }
   ],
   "source": [
    "plt.figure(figsize=(15,8))\n",
    "sns.histplot(data = df_contract, x = 'MonthlyCharges', hue = 'Churn', multiple = 'stack')"
   ]
  },
  {
   "cell_type": "markdown",
   "metadata": {},
   "source": [
    "### df_personal"
   ]
  },
  {
   "cell_type": "code",
   "execution_count": 41,
   "metadata": {},
   "outputs": [
    {
     "data": {
      "text/html": [
       "<div>\n",
       "<style scoped>\n",
       "    .dataframe tbody tr th:only-of-type {\n",
       "        vertical-align: middle;\n",
       "    }\n",
       "\n",
       "    .dataframe tbody tr th {\n",
       "        vertical-align: top;\n",
       "    }\n",
       "\n",
       "    .dataframe thead th {\n",
       "        text-align: right;\n",
       "    }\n",
       "</style>\n",
       "<table border=\"1\" class=\"dataframe\">\n",
       "  <thead>\n",
       "    <tr style=\"text-align: right;\">\n",
       "      <th></th>\n",
       "      <th>customerID</th>\n",
       "      <th>gender</th>\n",
       "      <th>SeniorCitizen</th>\n",
       "      <th>Partner</th>\n",
       "      <th>Dependents</th>\n",
       "    </tr>\n",
       "  </thead>\n",
       "  <tbody>\n",
       "    <tr>\n",
       "      <th>0</th>\n",
       "      <td>7590-VHVEG</td>\n",
       "      <td>Female</td>\n",
       "      <td>0</td>\n",
       "      <td>Yes</td>\n",
       "      <td>No</td>\n",
       "    </tr>\n",
       "    <tr>\n",
       "      <th>1</th>\n",
       "      <td>5575-GNVDE</td>\n",
       "      <td>Male</td>\n",
       "      <td>0</td>\n",
       "      <td>No</td>\n",
       "      <td>No</td>\n",
       "    </tr>\n",
       "    <tr>\n",
       "      <th>2</th>\n",
       "      <td>3668-QPYBK</td>\n",
       "      <td>Male</td>\n",
       "      <td>0</td>\n",
       "      <td>No</td>\n",
       "      <td>No</td>\n",
       "    </tr>\n",
       "    <tr>\n",
       "      <th>3</th>\n",
       "      <td>7795-CFOCW</td>\n",
       "      <td>Male</td>\n",
       "      <td>0</td>\n",
       "      <td>No</td>\n",
       "      <td>No</td>\n",
       "    </tr>\n",
       "    <tr>\n",
       "      <th>4</th>\n",
       "      <td>9237-HQITU</td>\n",
       "      <td>Female</td>\n",
       "      <td>0</td>\n",
       "      <td>No</td>\n",
       "      <td>No</td>\n",
       "    </tr>\n",
       "  </tbody>\n",
       "</table>\n",
       "</div>"
      ],
      "text/plain": [
       "   customerID  gender  SeniorCitizen Partner Dependents\n",
       "0  7590-VHVEG  Female              0     Yes         No\n",
       "1  5575-GNVDE    Male              0      No         No\n",
       "2  3668-QPYBK    Male              0      No         No\n",
       "3  7795-CFOCW    Male              0      No         No\n",
       "4  9237-HQITU  Female              0      No         No"
      ]
     },
     "execution_count": 41,
     "metadata": {},
     "output_type": "execute_result"
    }
   ],
   "source": [
    "df_personal.head()"
   ]
  },
  {
   "cell_type": "code",
   "execution_count": 42,
   "metadata": {},
   "outputs": [
    {
     "name": "stdout",
     "output_type": "stream",
     "text": [
      "<class 'pandas.core.frame.DataFrame'>\n",
      "RangeIndex: 7043 entries, 0 to 7042\n",
      "Data columns (total 5 columns):\n",
      " #   Column         Non-Null Count  Dtype \n",
      "---  ------         --------------  ----- \n",
      " 0   customerID     7043 non-null   object\n",
      " 1   gender         7043 non-null   object\n",
      " 2   SeniorCitizen  7043 non-null   int64 \n",
      " 3   Partner        7043 non-null   object\n",
      " 4   Dependents     7043 non-null   object\n",
      "dtypes: int64(1), object(4)\n",
      "memory usage: 275.2+ KB\n"
     ]
    }
   ],
   "source": [
    "df_personal.info()"
   ]
  },
  {
   "cell_type": "markdown",
   "metadata": {},
   "source": [
    "No anomalies were detected"
   ]
  },
  {
   "cell_type": "markdown",
   "metadata": {},
   "source": [
    "### df_internet"
   ]
  },
  {
   "cell_type": "code",
   "execution_count": 43,
   "metadata": {},
   "outputs": [
    {
     "data": {
      "text/html": [
       "<div>\n",
       "<style scoped>\n",
       "    .dataframe tbody tr th:only-of-type {\n",
       "        vertical-align: middle;\n",
       "    }\n",
       "\n",
       "    .dataframe tbody tr th {\n",
       "        vertical-align: top;\n",
       "    }\n",
       "\n",
       "    .dataframe thead th {\n",
       "        text-align: right;\n",
       "    }\n",
       "</style>\n",
       "<table border=\"1\" class=\"dataframe\">\n",
       "  <thead>\n",
       "    <tr style=\"text-align: right;\">\n",
       "      <th></th>\n",
       "      <th>customerID</th>\n",
       "      <th>InternetService</th>\n",
       "      <th>OnlineSecurity</th>\n",
       "      <th>OnlineBackup</th>\n",
       "      <th>DeviceProtection</th>\n",
       "      <th>TechSupport</th>\n",
       "      <th>StreamingTV</th>\n",
       "      <th>StreamingMovies</th>\n",
       "    </tr>\n",
       "  </thead>\n",
       "  <tbody>\n",
       "    <tr>\n",
       "      <th>0</th>\n",
       "      <td>7590-VHVEG</td>\n",
       "      <td>DSL</td>\n",
       "      <td>No</td>\n",
       "      <td>Yes</td>\n",
       "      <td>No</td>\n",
       "      <td>No</td>\n",
       "      <td>No</td>\n",
       "      <td>No</td>\n",
       "    </tr>\n",
       "    <tr>\n",
       "      <th>1</th>\n",
       "      <td>5575-GNVDE</td>\n",
       "      <td>DSL</td>\n",
       "      <td>Yes</td>\n",
       "      <td>No</td>\n",
       "      <td>Yes</td>\n",
       "      <td>No</td>\n",
       "      <td>No</td>\n",
       "      <td>No</td>\n",
       "    </tr>\n",
       "    <tr>\n",
       "      <th>2</th>\n",
       "      <td>3668-QPYBK</td>\n",
       "      <td>DSL</td>\n",
       "      <td>Yes</td>\n",
       "      <td>Yes</td>\n",
       "      <td>No</td>\n",
       "      <td>No</td>\n",
       "      <td>No</td>\n",
       "      <td>No</td>\n",
       "    </tr>\n",
       "    <tr>\n",
       "      <th>3</th>\n",
       "      <td>7795-CFOCW</td>\n",
       "      <td>DSL</td>\n",
       "      <td>Yes</td>\n",
       "      <td>No</td>\n",
       "      <td>Yes</td>\n",
       "      <td>Yes</td>\n",
       "      <td>No</td>\n",
       "      <td>No</td>\n",
       "    </tr>\n",
       "    <tr>\n",
       "      <th>4</th>\n",
       "      <td>9237-HQITU</td>\n",
       "      <td>Fiber optic</td>\n",
       "      <td>No</td>\n",
       "      <td>No</td>\n",
       "      <td>No</td>\n",
       "      <td>No</td>\n",
       "      <td>No</td>\n",
       "      <td>No</td>\n",
       "    </tr>\n",
       "  </tbody>\n",
       "</table>\n",
       "</div>"
      ],
      "text/plain": [
       "   customerID InternetService OnlineSecurity OnlineBackup DeviceProtection  \\\n",
       "0  7590-VHVEG             DSL             No          Yes               No   \n",
       "1  5575-GNVDE             DSL            Yes           No              Yes   \n",
       "2  3668-QPYBK             DSL            Yes          Yes               No   \n",
       "3  7795-CFOCW             DSL            Yes           No              Yes   \n",
       "4  9237-HQITU     Fiber optic             No           No               No   \n",
       "\n",
       "  TechSupport StreamingTV StreamingMovies  \n",
       "0          No          No              No  \n",
       "1          No          No              No  \n",
       "2          No          No              No  \n",
       "3         Yes          No              No  \n",
       "4          No          No              No  "
      ]
     },
     "execution_count": 43,
     "metadata": {},
     "output_type": "execute_result"
    }
   ],
   "source": [
    "df_internet.head()"
   ]
  },
  {
   "cell_type": "code",
   "execution_count": 44,
   "metadata": {},
   "outputs": [
    {
     "name": "stdout",
     "output_type": "stream",
     "text": [
      "<class 'pandas.core.frame.DataFrame'>\n",
      "RangeIndex: 5517 entries, 0 to 5516\n",
      "Data columns (total 8 columns):\n",
      " #   Column            Non-Null Count  Dtype \n",
      "---  ------            --------------  ----- \n",
      " 0   customerID        5517 non-null   object\n",
      " 1   InternetService   5517 non-null   object\n",
      " 2   OnlineSecurity    5517 non-null   object\n",
      " 3   OnlineBackup      5517 non-null   object\n",
      " 4   DeviceProtection  5517 non-null   object\n",
      " 5   TechSupport       5517 non-null   object\n",
      " 6   StreamingTV       5517 non-null   object\n",
      " 7   StreamingMovies   5517 non-null   object\n",
      "dtypes: object(8)\n",
      "memory usage: 344.9+ KB\n"
     ]
    }
   ],
   "source": [
    "df_internet.info()"
   ]
  },
  {
   "cell_type": "markdown",
   "metadata": {},
   "source": [
    "No anomalies were detected"
   ]
  },
  {
   "cell_type": "markdown",
   "metadata": {},
   "source": [
    "### df_phone"
   ]
  },
  {
   "cell_type": "code",
   "execution_count": 45,
   "metadata": {},
   "outputs": [
    {
     "data": {
      "text/html": [
       "<div>\n",
       "<style scoped>\n",
       "    .dataframe tbody tr th:only-of-type {\n",
       "        vertical-align: middle;\n",
       "    }\n",
       "\n",
       "    .dataframe tbody tr th {\n",
       "        vertical-align: top;\n",
       "    }\n",
       "\n",
       "    .dataframe thead th {\n",
       "        text-align: right;\n",
       "    }\n",
       "</style>\n",
       "<table border=\"1\" class=\"dataframe\">\n",
       "  <thead>\n",
       "    <tr style=\"text-align: right;\">\n",
       "      <th></th>\n",
       "      <th>customerID</th>\n",
       "      <th>MultipleLines</th>\n",
       "    </tr>\n",
       "  </thead>\n",
       "  <tbody>\n",
       "    <tr>\n",
       "      <th>0</th>\n",
       "      <td>5575-GNVDE</td>\n",
       "      <td>No</td>\n",
       "    </tr>\n",
       "    <tr>\n",
       "      <th>1</th>\n",
       "      <td>3668-QPYBK</td>\n",
       "      <td>No</td>\n",
       "    </tr>\n",
       "    <tr>\n",
       "      <th>2</th>\n",
       "      <td>9237-HQITU</td>\n",
       "      <td>No</td>\n",
       "    </tr>\n",
       "    <tr>\n",
       "      <th>3</th>\n",
       "      <td>9305-CDSKC</td>\n",
       "      <td>Yes</td>\n",
       "    </tr>\n",
       "    <tr>\n",
       "      <th>4</th>\n",
       "      <td>1452-KIOVK</td>\n",
       "      <td>Yes</td>\n",
       "    </tr>\n",
       "  </tbody>\n",
       "</table>\n",
       "</div>"
      ],
      "text/plain": [
       "   customerID MultipleLines\n",
       "0  5575-GNVDE            No\n",
       "1  3668-QPYBK            No\n",
       "2  9237-HQITU            No\n",
       "3  9305-CDSKC           Yes\n",
       "4  1452-KIOVK           Yes"
      ]
     },
     "execution_count": 45,
     "metadata": {},
     "output_type": "execute_result"
    }
   ],
   "source": [
    "df_phone.head()"
   ]
  },
  {
   "cell_type": "code",
   "execution_count": 46,
   "metadata": {},
   "outputs": [
    {
     "name": "stdout",
     "output_type": "stream",
     "text": [
      "<class 'pandas.core.frame.DataFrame'>\n",
      "RangeIndex: 6361 entries, 0 to 6360\n",
      "Data columns (total 2 columns):\n",
      " #   Column         Non-Null Count  Dtype \n",
      "---  ------         --------------  ----- \n",
      " 0   customerID     6361 non-null   object\n",
      " 1   MultipleLines  6361 non-null   object\n",
      "dtypes: object(2)\n",
      "memory usage: 99.5+ KB\n"
     ]
    }
   ],
   "source": [
    "df_phone.info()"
   ]
  },
  {
   "cell_type": "markdown",
   "metadata": {},
   "source": [
    "No anomalies were detected"
   ]
  },
  {
   "cell_type": "markdown",
   "metadata": {},
   "source": [
    "### Merging data"
   ]
  },
  {
   "cell_type": "code",
   "execution_count": 49,
   "metadata": {},
   "outputs": [],
   "source": [
    "df_main = df_contract.merge(df_personal, on='customerID', how='left').merge(df_internet, on='customerID', how='left').merge(df_phone, on='customerID', how='left')"
   ]
  },
  {
   "cell_type": "code",
   "execution_count": 50,
   "metadata": {},
   "outputs": [
    {
     "data": {
      "text/html": [
       "<div>\n",
       "<style scoped>\n",
       "    .dataframe tbody tr th:only-of-type {\n",
       "        vertical-align: middle;\n",
       "    }\n",
       "\n",
       "    .dataframe tbody tr th {\n",
       "        vertical-align: top;\n",
       "    }\n",
       "\n",
       "    .dataframe thead th {\n",
       "        text-align: right;\n",
       "    }\n",
       "</style>\n",
       "<table border=\"1\" class=\"dataframe\">\n",
       "  <thead>\n",
       "    <tr style=\"text-align: right;\">\n",
       "      <th></th>\n",
       "      <th>customerID</th>\n",
       "      <th>BeginDate</th>\n",
       "      <th>EndDate</th>\n",
       "      <th>Type</th>\n",
       "      <th>PaperlessBilling</th>\n",
       "      <th>PaymentMethod</th>\n",
       "      <th>MonthlyCharges</th>\n",
       "      <th>TotalCharges</th>\n",
       "      <th>Churn</th>\n",
       "      <th>Days</th>\n",
       "      <th>...</th>\n",
       "      <th>Partner</th>\n",
       "      <th>Dependents</th>\n",
       "      <th>InternetService</th>\n",
       "      <th>OnlineSecurity</th>\n",
       "      <th>OnlineBackup</th>\n",
       "      <th>DeviceProtection</th>\n",
       "      <th>TechSupport</th>\n",
       "      <th>StreamingTV</th>\n",
       "      <th>StreamingMovies</th>\n",
       "      <th>MultipleLines</th>\n",
       "    </tr>\n",
       "  </thead>\n",
       "  <tbody>\n",
       "    <tr>\n",
       "      <th>0</th>\n",
       "      <td>7590-VHVEG</td>\n",
       "      <td>2020-01-01</td>\n",
       "      <td>2020-02-01</td>\n",
       "      <td>Month-to-month</td>\n",
       "      <td>Yes</td>\n",
       "      <td>Electronic check</td>\n",
       "      <td>29.85</td>\n",
       "      <td>29.85</td>\n",
       "      <td>0</td>\n",
       "      <td>31</td>\n",
       "      <td>...</td>\n",
       "      <td>Yes</td>\n",
       "      <td>No</td>\n",
       "      <td>DSL</td>\n",
       "      <td>No</td>\n",
       "      <td>Yes</td>\n",
       "      <td>No</td>\n",
       "      <td>No</td>\n",
       "      <td>No</td>\n",
       "      <td>No</td>\n",
       "      <td>NaN</td>\n",
       "    </tr>\n",
       "    <tr>\n",
       "      <th>1</th>\n",
       "      <td>5575-GNVDE</td>\n",
       "      <td>2017-04-01</td>\n",
       "      <td>2020-02-01</td>\n",
       "      <td>One year</td>\n",
       "      <td>No</td>\n",
       "      <td>Mailed check</td>\n",
       "      <td>56.95</td>\n",
       "      <td>1889.50</td>\n",
       "      <td>0</td>\n",
       "      <td>1036</td>\n",
       "      <td>...</td>\n",
       "      <td>No</td>\n",
       "      <td>No</td>\n",
       "      <td>DSL</td>\n",
       "      <td>Yes</td>\n",
       "      <td>No</td>\n",
       "      <td>Yes</td>\n",
       "      <td>No</td>\n",
       "      <td>No</td>\n",
       "      <td>No</td>\n",
       "      <td>No</td>\n",
       "    </tr>\n",
       "    <tr>\n",
       "      <th>2</th>\n",
       "      <td>3668-QPYBK</td>\n",
       "      <td>2019-10-01</td>\n",
       "      <td>2019-12-01</td>\n",
       "      <td>Month-to-month</td>\n",
       "      <td>Yes</td>\n",
       "      <td>Mailed check</td>\n",
       "      <td>53.85</td>\n",
       "      <td>108.15</td>\n",
       "      <td>1</td>\n",
       "      <td>61</td>\n",
       "      <td>...</td>\n",
       "      <td>No</td>\n",
       "      <td>No</td>\n",
       "      <td>DSL</td>\n",
       "      <td>Yes</td>\n",
       "      <td>Yes</td>\n",
       "      <td>No</td>\n",
       "      <td>No</td>\n",
       "      <td>No</td>\n",
       "      <td>No</td>\n",
       "      <td>No</td>\n",
       "    </tr>\n",
       "    <tr>\n",
       "      <th>3</th>\n",
       "      <td>7795-CFOCW</td>\n",
       "      <td>2016-05-01</td>\n",
       "      <td>2020-02-01</td>\n",
       "      <td>One year</td>\n",
       "      <td>No</td>\n",
       "      <td>Bank transfer (automatic)</td>\n",
       "      <td>42.30</td>\n",
       "      <td>1840.75</td>\n",
       "      <td>0</td>\n",
       "      <td>1371</td>\n",
       "      <td>...</td>\n",
       "      <td>No</td>\n",
       "      <td>No</td>\n",
       "      <td>DSL</td>\n",
       "      <td>Yes</td>\n",
       "      <td>No</td>\n",
       "      <td>Yes</td>\n",
       "      <td>Yes</td>\n",
       "      <td>No</td>\n",
       "      <td>No</td>\n",
       "      <td>NaN</td>\n",
       "    </tr>\n",
       "    <tr>\n",
       "      <th>4</th>\n",
       "      <td>9237-HQITU</td>\n",
       "      <td>2019-09-01</td>\n",
       "      <td>2019-11-01</td>\n",
       "      <td>Month-to-month</td>\n",
       "      <td>Yes</td>\n",
       "      <td>Electronic check</td>\n",
       "      <td>70.70</td>\n",
       "      <td>151.65</td>\n",
       "      <td>1</td>\n",
       "      <td>61</td>\n",
       "      <td>...</td>\n",
       "      <td>No</td>\n",
       "      <td>No</td>\n",
       "      <td>Fiber optic</td>\n",
       "      <td>No</td>\n",
       "      <td>No</td>\n",
       "      <td>No</td>\n",
       "      <td>No</td>\n",
       "      <td>No</td>\n",
       "      <td>No</td>\n",
       "      <td>No</td>\n",
       "    </tr>\n",
       "  </tbody>\n",
       "</table>\n",
       "<p>5 rows × 22 columns</p>\n",
       "</div>"
      ],
      "text/plain": [
       "   customerID  BeginDate    EndDate            Type PaperlessBilling  \\\n",
       "0  7590-VHVEG 2020-01-01 2020-02-01  Month-to-month              Yes   \n",
       "1  5575-GNVDE 2017-04-01 2020-02-01        One year               No   \n",
       "2  3668-QPYBK 2019-10-01 2019-12-01  Month-to-month              Yes   \n",
       "3  7795-CFOCW 2016-05-01 2020-02-01        One year               No   \n",
       "4  9237-HQITU 2019-09-01 2019-11-01  Month-to-month              Yes   \n",
       "\n",
       "               PaymentMethod  MonthlyCharges  TotalCharges  Churn  Days  ...  \\\n",
       "0           Electronic check           29.85         29.85      0    31  ...   \n",
       "1               Mailed check           56.95       1889.50      0  1036  ...   \n",
       "2               Mailed check           53.85        108.15      1    61  ...   \n",
       "3  Bank transfer (automatic)           42.30       1840.75      0  1371  ...   \n",
       "4           Electronic check           70.70        151.65      1    61  ...   \n",
       "\n",
       "  Partner  Dependents InternetService OnlineSecurity OnlineBackup  \\\n",
       "0     Yes          No             DSL             No          Yes   \n",
       "1      No          No             DSL            Yes           No   \n",
       "2      No          No             DSL            Yes          Yes   \n",
       "3      No          No             DSL            Yes           No   \n",
       "4      No          No     Fiber optic             No           No   \n",
       "\n",
       "  DeviceProtection TechSupport StreamingTV StreamingMovies MultipleLines  \n",
       "0               No          No          No              No           NaN  \n",
       "1              Yes          No          No              No            No  \n",
       "2               No          No          No              No            No  \n",
       "3              Yes         Yes          No              No           NaN  \n",
       "4               No          No          No              No            No  \n",
       "\n",
       "[5 rows x 22 columns]"
      ]
     },
     "execution_count": 50,
     "metadata": {},
     "output_type": "execute_result"
    }
   ],
   "source": [
    "df_main.head()"
   ]
  },
  {
   "cell_type": "markdown",
   "metadata": {},
   "source": [
    "In the combined dataset, we have missing values, we will allocate these missing values into individual categories when translating categorical features into quantitative ones."
   ]
  },
  {
   "cell_type": "code",
   "execution_count": 51,
   "metadata": {},
   "outputs": [],
   "source": [
    "not_for_coding = ['customerID','BeginDate','EndDate','MonthlyCharges','TotalCharges','Churn','Days']\n",
    "for_coding = []\n",
    "for i in df_main.columns:\n",
    "    if i not in not_for_coding:\n",
    "        for_coding.append(i)"
   ]
  },
  {
   "cell_type": "code",
   "execution_count": 52,
   "metadata": {},
   "outputs": [],
   "source": [
    "df_coding = df_main[for_coding]"
   ]
  },
  {
   "cell_type": "code",
   "execution_count": 53,
   "metadata": {
    "scrolled": true
   },
   "outputs": [],
   "source": [
    "df_coding.fillna('No', inplace=True)"
   ]
  },
  {
   "cell_type": "code",
   "execution_count": 54,
   "metadata": {},
   "outputs": [],
   "source": [
    "data_ohe = pd.get_dummies(df_coding, drop_first=True)"
   ]
  },
  {
   "cell_type": "markdown",
   "metadata": {},
   "source": [
    "All categorical features are encoded by the OHE method"
   ]
  },
  {
   "cell_type": "code",
   "execution_count": 55,
   "metadata": {},
   "outputs": [
    {
     "data": {
      "text/html": [
       "<div>\n",
       "<style scoped>\n",
       "    .dataframe tbody tr th:only-of-type {\n",
       "        vertical-align: middle;\n",
       "    }\n",
       "\n",
       "    .dataframe tbody tr th {\n",
       "        vertical-align: top;\n",
       "    }\n",
       "\n",
       "    .dataframe thead th {\n",
       "        text-align: right;\n",
       "    }\n",
       "</style>\n",
       "<table border=\"1\" class=\"dataframe\">\n",
       "  <thead>\n",
       "    <tr style=\"text-align: right;\">\n",
       "      <th></th>\n",
       "      <th>SeniorCitizen</th>\n",
       "      <th>Type_One year</th>\n",
       "      <th>Type_Two year</th>\n",
       "      <th>PaperlessBilling_Yes</th>\n",
       "      <th>PaymentMethod_Credit card (automatic)</th>\n",
       "      <th>PaymentMethod_Electronic check</th>\n",
       "      <th>PaymentMethod_Mailed check</th>\n",
       "      <th>gender_Male</th>\n",
       "      <th>Partner_Yes</th>\n",
       "      <th>Dependents_Yes</th>\n",
       "      <th>InternetService_Fiber optic</th>\n",
       "      <th>InternetService_No</th>\n",
       "      <th>OnlineSecurity_Yes</th>\n",
       "      <th>OnlineBackup_Yes</th>\n",
       "      <th>DeviceProtection_Yes</th>\n",
       "      <th>TechSupport_Yes</th>\n",
       "      <th>StreamingTV_Yes</th>\n",
       "      <th>StreamingMovies_Yes</th>\n",
       "      <th>MultipleLines_Yes</th>\n",
       "    </tr>\n",
       "  </thead>\n",
       "  <tbody>\n",
       "    <tr>\n",
       "      <th>0</th>\n",
       "      <td>0</td>\n",
       "      <td>0</td>\n",
       "      <td>0</td>\n",
       "      <td>1</td>\n",
       "      <td>0</td>\n",
       "      <td>1</td>\n",
       "      <td>0</td>\n",
       "      <td>0</td>\n",
       "      <td>1</td>\n",
       "      <td>0</td>\n",
       "      <td>0</td>\n",
       "      <td>0</td>\n",
       "      <td>0</td>\n",
       "      <td>1</td>\n",
       "      <td>0</td>\n",
       "      <td>0</td>\n",
       "      <td>0</td>\n",
       "      <td>0</td>\n",
       "      <td>0</td>\n",
       "    </tr>\n",
       "    <tr>\n",
       "      <th>1</th>\n",
       "      <td>0</td>\n",
       "      <td>1</td>\n",
       "      <td>0</td>\n",
       "      <td>0</td>\n",
       "      <td>0</td>\n",
       "      <td>0</td>\n",
       "      <td>1</td>\n",
       "      <td>1</td>\n",
       "      <td>0</td>\n",
       "      <td>0</td>\n",
       "      <td>0</td>\n",
       "      <td>0</td>\n",
       "      <td>1</td>\n",
       "      <td>0</td>\n",
       "      <td>1</td>\n",
       "      <td>0</td>\n",
       "      <td>0</td>\n",
       "      <td>0</td>\n",
       "      <td>0</td>\n",
       "    </tr>\n",
       "    <tr>\n",
       "      <th>2</th>\n",
       "      <td>0</td>\n",
       "      <td>0</td>\n",
       "      <td>0</td>\n",
       "      <td>1</td>\n",
       "      <td>0</td>\n",
       "      <td>0</td>\n",
       "      <td>1</td>\n",
       "      <td>1</td>\n",
       "      <td>0</td>\n",
       "      <td>0</td>\n",
       "      <td>0</td>\n",
       "      <td>0</td>\n",
       "      <td>1</td>\n",
       "      <td>1</td>\n",
       "      <td>0</td>\n",
       "      <td>0</td>\n",
       "      <td>0</td>\n",
       "      <td>0</td>\n",
       "      <td>0</td>\n",
       "    </tr>\n",
       "    <tr>\n",
       "      <th>3</th>\n",
       "      <td>0</td>\n",
       "      <td>1</td>\n",
       "      <td>0</td>\n",
       "      <td>0</td>\n",
       "      <td>0</td>\n",
       "      <td>0</td>\n",
       "      <td>0</td>\n",
       "      <td>1</td>\n",
       "      <td>0</td>\n",
       "      <td>0</td>\n",
       "      <td>0</td>\n",
       "      <td>0</td>\n",
       "      <td>1</td>\n",
       "      <td>0</td>\n",
       "      <td>1</td>\n",
       "      <td>1</td>\n",
       "      <td>0</td>\n",
       "      <td>0</td>\n",
       "      <td>0</td>\n",
       "    </tr>\n",
       "    <tr>\n",
       "      <th>4</th>\n",
       "      <td>0</td>\n",
       "      <td>0</td>\n",
       "      <td>0</td>\n",
       "      <td>1</td>\n",
       "      <td>0</td>\n",
       "      <td>1</td>\n",
       "      <td>0</td>\n",
       "      <td>0</td>\n",
       "      <td>0</td>\n",
       "      <td>0</td>\n",
       "      <td>1</td>\n",
       "      <td>0</td>\n",
       "      <td>0</td>\n",
       "      <td>0</td>\n",
       "      <td>0</td>\n",
       "      <td>0</td>\n",
       "      <td>0</td>\n",
       "      <td>0</td>\n",
       "      <td>0</td>\n",
       "    </tr>\n",
       "  </tbody>\n",
       "</table>\n",
       "</div>"
      ],
      "text/plain": [
       "   SeniorCitizen  Type_One year  Type_Two year  PaperlessBilling_Yes  \\\n",
       "0              0              0              0                     1   \n",
       "1              0              1              0                     0   \n",
       "2              0              0              0                     1   \n",
       "3              0              1              0                     0   \n",
       "4              0              0              0                     1   \n",
       "\n",
       "   PaymentMethod_Credit card (automatic)  PaymentMethod_Electronic check  \\\n",
       "0                                      0                               1   \n",
       "1                                      0                               0   \n",
       "2                                      0                               0   \n",
       "3                                      0                               0   \n",
       "4                                      0                               1   \n",
       "\n",
       "   PaymentMethod_Mailed check  gender_Male  Partner_Yes  Dependents_Yes  \\\n",
       "0                           0            0            1               0   \n",
       "1                           1            1            0               0   \n",
       "2                           1            1            0               0   \n",
       "3                           0            1            0               0   \n",
       "4                           0            0            0               0   \n",
       "\n",
       "   InternetService_Fiber optic  InternetService_No  OnlineSecurity_Yes  \\\n",
       "0                            0                   0                   0   \n",
       "1                            0                   0                   1   \n",
       "2                            0                   0                   1   \n",
       "3                            0                   0                   1   \n",
       "4                            1                   0                   0   \n",
       "\n",
       "   OnlineBackup_Yes  DeviceProtection_Yes  TechSupport_Yes  StreamingTV_Yes  \\\n",
       "0                 1                     0                0                0   \n",
       "1                 0                     1                0                0   \n",
       "2                 1                     0                0                0   \n",
       "3                 0                     1                1                0   \n",
       "4                 0                     0                0                0   \n",
       "\n",
       "   StreamingMovies_Yes  MultipleLines_Yes  \n",
       "0                    0                  0  \n",
       "1                    0                  0  \n",
       "2                    0                  0  \n",
       "3                    0                  0  \n",
       "4                    0                  0  "
      ]
     },
     "execution_count": 55,
     "metadata": {},
     "output_type": "execute_result"
    }
   ],
   "source": [
    "data_ohe.head()"
   ]
  },
  {
   "cell_type": "code",
   "execution_count": 56,
   "metadata": {},
   "outputs": [],
   "source": [
    "df_main.drop(columns=for_coding, inplace=True)"
   ]
  },
  {
   "cell_type": "code",
   "execution_count": 57,
   "metadata": {},
   "outputs": [],
   "source": [
    "df_main = pd.merge(df_main, data_ohe, left_index=True, right_index=True)"
   ]
  },
  {
   "cell_type": "code",
   "execution_count": 58,
   "metadata": {},
   "outputs": [],
   "source": [
    "df_main.drop(columns=['customerID','BeginDate','EndDate'], inplace=True)"
   ]
  },
  {
   "cell_type": "markdown",
   "metadata": {},
   "source": [
    "Removed obviously unnecessary features that will interfere with the training of the model"
   ]
  },
  {
   "cell_type": "code",
   "execution_count": 59,
   "metadata": {},
   "outputs": [
    {
     "data": {
      "text/plain": [
       "Index(['MonthlyCharges', 'TotalCharges', 'Churn', 'Days', 'SeniorCitizen',\n",
       "       'Type_One year', 'Type_Two year', 'PaperlessBilling_Yes',\n",
       "       'PaymentMethod_Credit card (automatic)',\n",
       "       'PaymentMethod_Electronic check', 'PaymentMethod_Mailed check',\n",
       "       'gender_Male', 'Partner_Yes', 'Dependents_Yes',\n",
       "       'InternetService_Fiber optic', 'InternetService_No',\n",
       "       'OnlineSecurity_Yes', 'OnlineBackup_Yes', 'DeviceProtection_Yes',\n",
       "       'TechSupport_Yes', 'StreamingTV_Yes', 'StreamingMovies_Yes',\n",
       "       'MultipleLines_Yes'],\n",
       "      dtype='object')"
      ]
     },
     "execution_count": 59,
     "metadata": {},
     "output_type": "execute_result"
    }
   ],
   "source": [
    "df_main.columns"
   ]
  },
  {
   "cell_type": "code",
   "execution_count": 60,
   "metadata": {},
   "outputs": [],
   "source": [
    "df_plot = df_main[['MonthlyCharges','TotalCharges','Days']]"
   ]
  },
  {
   "cell_type": "code",
   "execution_count": 61,
   "metadata": {},
   "outputs": [
    {
     "data": {
      "text/plain": [
       "<seaborn.axisgrid.PairGrid at 0x1dd468911f0>"
      ]
     },
     "execution_count": 61,
     "metadata": {},
     "output_type": "execute_result"
    },
    {
     "data": {
      "image/png": "[encoded data removed]",
      "text/plain": [
       "<Figure size 540x540 with 12 Axes>"
      ]
     },
     "metadata": {
      "needs_background": "light"
     },
     "output_type": "display_data"
    }
   ],
   "source": [
    "sns.pairplot(df_plot)"
   ]
  },
  {
   "cell_type": "code",
   "execution_count": 62,
   "metadata": {},
   "outputs": [
    {
     "data": {
      "text/html": [
       "<div>\n",
       "<style scoped>\n",
       "    .dataframe tbody tr th:only-of-type {\n",
       "        vertical-align: middle;\n",
       "    }\n",
       "\n",
       "    .dataframe tbody tr th {\n",
       "        vertical-align: top;\n",
       "    }\n",
       "\n",
       "    .dataframe thead th {\n",
       "        text-align: right;\n",
       "    }\n",
       "</style>\n",
       "<table border=\"1\" class=\"dataframe\">\n",
       "  <thead>\n",
       "    <tr style=\"text-align: right;\">\n",
       "      <th></th>\n",
       "      <th>MonthlyCharges</th>\n",
       "      <th>TotalCharges</th>\n",
       "      <th>Days</th>\n",
       "    </tr>\n",
       "  </thead>\n",
       "  <tbody>\n",
       "    <tr>\n",
       "      <th>MonthlyCharges</th>\n",
       "      <td>1.000000</td>\n",
       "      <td>0.651182</td>\n",
       "      <td>0.247754</td>\n",
       "    </tr>\n",
       "    <tr>\n",
       "      <th>TotalCharges</th>\n",
       "      <td>0.651182</td>\n",
       "      <td>1.000000</td>\n",
       "      <td>0.826095</td>\n",
       "    </tr>\n",
       "    <tr>\n",
       "      <th>Days</th>\n",
       "      <td>0.247754</td>\n",
       "      <td>0.826095</td>\n",
       "      <td>1.000000</td>\n",
       "    </tr>\n",
       "  </tbody>\n",
       "</table>\n",
       "</div>"
      ],
      "text/plain": [
       "                MonthlyCharges  TotalCharges      Days\n",
       "MonthlyCharges        1.000000      0.651182  0.247754\n",
       "TotalCharges          0.651182      1.000000  0.826095\n",
       "Days                  0.247754      0.826095  1.000000"
      ]
     },
     "execution_count": 62,
     "metadata": {},
     "output_type": "execute_result"
    }
   ],
   "source": [
    "df_plot.corr()"
   ]
  },
  {
   "cell_type": "markdown",
   "metadata": {},
   "source": [
    "As can be seen from the graphs and from the values of the Pearson correlation coefficients, the signs of Days and Total Charges have a fairly significant relationship between each other."
   ]
  },
  {
   "cell_type": "markdown",
   "metadata": {},
   "source": [
    "## Training and testing"
   ]
  },
  {
   "cell_type": "markdown",
   "metadata": {},
   "source": [
    "### Features preparation"
   ]
  },
  {
   "cell_type": "markdown",
   "metadata": {},
   "source": [
    "First, let's check if there is an imbalance of classes in our sample"
   ]
  },
  {
   "cell_type": "code",
   "execution_count": 63,
   "metadata": {},
   "outputs": [
    {
     "data": {
      "text/plain": [
       "0    5174\n",
       "1    1869\n",
       "Name: Churn, dtype: int64"
      ]
     },
     "execution_count": 63,
     "metadata": {},
     "output_type": "execute_result"
    }
   ],
   "source": [
    "df_main['Churn'].value_counts()"
   ]
  },
  {
   "cell_type": "code",
   "execution_count": 64,
   "metadata": {
    "scrolled": true
   },
   "outputs": [
    {
     "data": {
      "text/plain": [
       "<AxesSubplot:>"
      ]
     },
     "execution_count": 64,
     "metadata": {},
     "output_type": "execute_result"
    },
    {
     "data": {
      "image/png": "[encoded data removed]",
      "text/plain": [
       "<Figure size 432x288 with 1 Axes>"
      ]
     },
     "metadata": {
      "needs_background": "light"
     },
     "output_type": "display_data"
    }
   ],
   "source": [
    "df_main['Churn'].hist()"
   ]
  },
  {
   "cell_type": "markdown",
   "metadata": {},
   "source": [
    "As we can see, the class imbalance is significantly large, which should be taken into account when training the model"
   ]
  },
  {
   "cell_type": "code",
   "execution_count": 65,
   "metadata": {},
   "outputs": [],
   "source": [
    "target = df_main['Churn']\n",
    "features = df_main.drop('Churn', axis=1)\n",
    "features_train, features_test, target_train, target_test = train_test_split(\n",
    "    features, target, test_size=0.2, random_state=290822, stratify=target)"
   ]
  },
  {
   "cell_type": "markdown",
   "metadata": {},
   "source": [
    "Now let's scale the numerical features"
   ]
  },
  {
   "cell_type": "code",
   "execution_count": 66,
   "metadata": {},
   "outputs": [],
   "source": [
    "numeric = ['MonthlyCharges','TotalCharges', 'Days']\n",
    "\n",
    "scaler = StandardScaler()\n",
    "scaler.fit(features_train[numeric])\n",
    "\n",
    "features_train[numeric] = scaler.transform(features_train[numeric])\n",
    "features_test[numeric] = scaler.transform(features_test[numeric])"
   ]
  },
  {
   "cell_type": "markdown",
   "metadata": {},
   "source": [
    "### LogisticRegression"
   ]
  },
  {
   "cell_type": "code",
   "execution_count": 67,
   "metadata": {},
   "outputs": [],
   "source": [
    "random_state = 290822"
   ]
  },
  {
   "cell_type": "code",
   "execution_count": 68,
   "metadata": {},
   "outputs": [
    {
     "name": "stdout",
     "output_type": "stream",
     "text": [
      "Linear regression: mean_cross_val_score: 0.847\n"
     ]
    }
   ],
   "source": [
    "model = LogisticRegression(random_state=random_state, solver='liblinear')\n",
    "model.fit(features_train, target_train)\n",
    "\n",
    "scores = cross_val_score(model, features_train, target_train, cv=5, scoring='roc_auc')\n",
    "print(\"Linear regression: mean_cross_val_score: {:.3f}\".format(scores.mean()))"
   ]
  },
  {
   "cell_type": "markdown",
   "metadata": {},
   "source": [
    "### RandomForestClassifier"
   ]
  },
  {
   "cell_type": "code",
   "execution_count": 69,
   "metadata": {},
   "outputs": [
    {
     "name": "stdout",
     "output_type": "stream",
     "text": [
      "Wall time: 3min 6s\n"
     ]
    },
    {
     "data": {
      "text/plain": [
       "RandomizedSearchCV(cv=5, estimator=RandomForestClassifier(random_state=290822),\n",
       "                   n_iter=50, n_jobs=-1,\n",
       "                   param_distributions={'max_depth': range(5, 15),\n",
       "                                        'min_samples_leaf': range(1, 4),\n",
       "                                        'n_estimators': range(100, 400, 50)},\n",
       "                   scoring='roc_auc')"
      ]
     },
     "execution_count": 69,
     "metadata": {},
     "output_type": "execute_result"
    }
   ],
   "source": [
    "%%time\n",
    "\n",
    "params = {\n",
    "    'max_depth': range(5, 15, 1),\n",
    "    'min_samples_leaf':range(1,4,1),\n",
    "    'n_estimators':range(100,400,50)\n",
    "}\n",
    "model = RandomForestClassifier(random_state=random_state)\n",
    "\n",
    "rf = RandomizedSearchCV(\n",
    "        model,\n",
    "        params,\n",
    "        scoring='roc_auc',\n",
    "        cv=5,\n",
    "        n_jobs=-1, n_iter=50)\n",
    "\n",
    "rf.fit(features_train, target_train)"
   ]
  },
  {
   "cell_type": "code",
   "execution_count": 70,
   "metadata": {},
   "outputs": [
    {
     "data": {
      "text/plain": [
       "{'n_estimators': 200, 'min_samples_leaf': 1, 'max_depth': 9}"
      ]
     },
     "execution_count": 70,
     "metadata": {},
     "output_type": "execute_result"
    }
   ],
   "source": [
    "rf.best_params_"
   ]
  },
  {
   "cell_type": "code",
   "execution_count": 71,
   "metadata": {},
   "outputs": [
    {
     "name": "stdout",
     "output_type": "stream",
     "text": [
      "Random_forest regression: mean_cross_val_score: 0.862\n"
     ]
    }
   ],
   "source": [
    "model = RandomForestClassifier(random_state=random_state, n_estimators=rf.best_params_['n_estimators'], \n",
    "                               min_samples_leaf=rf.best_params_['min_samples_leaf'], max_depth=rf.best_params_['max_depth'])\n",
    "\n",
    "model.fit(features_train, target_train)\n",
    "print(\"Random_forest regression: mean_cross_val_score: {:.3f}\".format(rf.best_score_))"
   ]
  },
  {
   "cell_type": "markdown",
   "metadata": {},
   "source": [
    "### CatBoostClassifier"
   ]
  },
  {
   "cell_type": "code",
   "execution_count": 72,
   "metadata": {},
   "outputs": [
    {
     "name": "stdout",
     "output_type": "stream",
     "text": [
      "Wall time: 15min 53s\n"
     ]
    },
    {
     "data": {
      "text/plain": [
       "RandomizedSearchCV(cv=5,\n",
       "                   estimator=<catboost.core.CatBoostClassifier object at 0x000001DD492E58E0>,\n",
       "                   n_iter=20, n_jobs=-1,\n",
       "                   param_distributions={'depth': range(1, 15, 2),\n",
       "                                        'iterations': range(100, 1000, 100)},\n",
       "                   scoring='roc_auc')"
      ]
     },
     "execution_count": 72,
     "metadata": {},
     "output_type": "execute_result"
    }
   ],
   "source": [
    "%%time\n",
    "\n",
    "params = {\n",
    "    'iterations':range(100,1000,100),\n",
    "    'depth': range(1, 15, 2) \n",
    "}\n",
    "model = CatBoostClassifier(random_state=random_state, verbose=False, loss_function=\"Logloss\")\n",
    "\n",
    "cb = RandomizedSearchCV(\n",
    "        model,\n",
    "        params,\n",
    "        scoring='roc_auc',\n",
    "        cv=5,\n",
    "        n_jobs=-1,        \n",
    "        n_iter=20)\n",
    "\n",
    "cb.fit(features_train, target_train)"
   ]
  },
  {
   "cell_type": "code",
   "execution_count": 73,
   "metadata": {},
   "outputs": [
    {
     "data": {
      "text/plain": [
       "{'iterations': 800, 'depth': 5}"
      ]
     },
     "execution_count": 73,
     "metadata": {},
     "output_type": "execute_result"
    }
   ],
   "source": [
    "cb.best_params_"
   ]
  },
  {
   "cell_type": "code",
   "execution_count": 74,
   "metadata": {},
   "outputs": [
    {
     "name": "stdout",
     "output_type": "stream",
     "text": [
      "CatBoost: mean_cross_val_score: 0.899\n"
     ]
    }
   ],
   "source": [
    "model = CatBoostClassifier(random_state=random_state, verbose=False, iterations=cb.best_params_['iterations'],\n",
    "                           depth=cb.best_params_['depth'])\n",
    "\n",
    "model.fit(features_train, target_train)\n",
    "print(\"CatBoost: mean_cross_val_score: {:.3f}\".format(cb.best_score_))"
   ]
  },
  {
   "cell_type": "markdown",
   "metadata": {},
   "source": [
    "### Intermediate evaluation of models"
   ]
  },
  {
   "cell_type": "markdown",
   "metadata": {},
   "source": [
    "ROC-AUC values on training samples:\n",
    "- Linear_regression = 0.847\n",
    "- Random_forest = 0.862\n",
    "- CatBoost = 0.898\n",
    "\n",
    "Based on the AUC-ROC values, the Cat Boost model with the following selected hyperparameters showed itself in the best way during cross-validation:\n",
    "\n",
    "- iterations = 800\n",
    "- depth = 7\n",
    "\n",
    "We will use this model on a test sample."
   ]
  },
  {
   "cell_type": "markdown",
   "metadata": {},
   "source": [
    "### Testing the model"
   ]
  },
  {
   "cell_type": "code",
   "execution_count": 75,
   "metadata": {},
   "outputs": [
    {
     "name": "stdout",
     "output_type": "stream",
     "text": [
      "AUC-ROC value on test data: 0.902\n"
     ]
    }
   ],
   "source": [
    "probabilities_valid = model.predict_proba(features_test)\n",
    "probabilities_one_valid = probabilities_valid[:, 1]\n",
    "\n",
    "auc_roc = roc_auc_score(target_test,probabilities_one_valid)\n",
    "print('AUC-ROC value on test data: {:.3f}'.format(auc_roc))"
   ]
  },
  {
   "cell_type": "code",
   "execution_count": 76,
   "metadata": {},
   "outputs": [],
   "source": [
    "rndm_probabilities = probabilities_one_valid*0+1"
   ]
  },
  {
   "cell_type": "code",
   "execution_count": 77,
   "metadata": {},
   "outputs": [
    {
     "name": "stdout",
     "output_type": "stream",
     "text": [
      "AUC-ROC value on a constant model: 0.500\n"
     ]
    }
   ],
   "source": [
    "auc_roc = roc_auc_score(target_test,rndm_probabilities)\n",
    "print('AUC-ROC value on a constant model: {:.3f}'.format(auc_roc))"
   ]
  },
  {
   "cell_type": "code",
   "execution_count": 78,
   "metadata": {},
   "outputs": [
    {
     "data": {
      "image/png": "[encoded data removed]",
      "text/plain": [
       "<Figure size 432x288 with 1 Axes>"
      ]
     },
     "metadata": {
      "needs_background": "light"
     },
     "output_type": "display_data"
    }
   ],
   "source": [
    "fpr_cb, tpr_cb, thresholds_cb = roc_curve(target_test, probabilities_one_valid)\n",
    "fpr_rndm, tpr_rndm, thresholds_rndm = roc_curve(target_test, rndm_probabilities)\n",
    "\n",
    "plt.figure()\n",
    "plt.plot(fpr_cb, tpr_cb, label='ROC-AUC_cb')\n",
    "plt.plot(fpr_rndm, tpr_rndm, label='Random')\n",
    "plt.xlim([0.0, 1.0])\n",
    "plt.ylim([0.0, 1.0])\n",
    "plt.xlabel('False Positive Rate')\n",
    "plt.ylabel('True Positive Rate')\n",
    "plt.title('ROC-curve')\n",
    "plt.legend()\n",
    "plt.show() "
   ]
  },
  {
   "cell_type": "code",
   "execution_count": 79,
   "metadata": {},
   "outputs": [],
   "source": [
    "df_importance = pd.DataFrame({'features': model.feature_names_, 'score': model.get_feature_importance()})\n",
    "df_importance = df_importance.sort_values(by=\"score\", ascending = False)"
   ]
  },
  {
   "cell_type": "code",
   "execution_count": 80,
   "metadata": {},
   "outputs": [
    {
     "data": {
      "text/plain": [
       "<AxesSubplot:xlabel='score', ylabel='features'>"
      ]
     },
     "execution_count": 80,
     "metadata": {},
     "output_type": "execute_result"
    },
    {
     "data": {
      "image/png": "[encoded data removed]",
      "text/plain": [
       "<Figure size 720x576 with 1 Axes>"
      ]
     },
     "metadata": {
      "needs_background": "light"
     },
     "output_type": "display_data"
    }
   ],
   "source": [
    "fig, ax = plt.subplots(figsize=(10, 8))\n",
    "sns.barplot(ax=ax, x=df_importance[\"score\"], y=df_importance[\"features\"])"
   ]
  },
  {
   "cell_type": "markdown",
   "metadata": {},
   "source": [
    "As can be seen from the constructed graph of the importance of features, the most influential features are:\n",
    "\n",
    "- Days\n",
    "- Monthly Charges\n",
    "- Total Charges\n",
    "\n",
    "We can additionally analyze the data and exclude features from the sample that do not significantly affect the result of the model.\n",
    "\n",
    "We can take 10-15 first features and try to train the model again, compare the quality"
   ]
  },
  {
   "cell_type": "markdown",
   "metadata": {},
   "source": [
    "### General Conclusion"
   ]
  },
  {
   "cell_type": "markdown",
   "metadata": {},
   "source": [
    "A comprehensive analysis and processing of the data was carried out:\n",
    "- the data was checked for duplicates\n",
    "- after merging, the missing values were allocated to a separate category\n",
    "- all categorical features have been translated into quantitative ones\n",
    "- superfluous features have been removed\n",
    "- scaling of numerical features is carried out\n",
    "\n",
    "3 models were tested on the data obtained:\n",
    "- all calculations of the model were carried out taking into account cross-validation, the best parameters were obtained\n",
    "- the adequacy of the models was tested on the values of the constant model\n",
    "- based on the obtained AUC-ROC values, a model was selected on the training sample, on the basis of which testing was carried out and the AUC-ROC value > 0.87 was obtained\n",
    "- the model on which the best result turned out to be the CatBoost model, with the value AUC-ROC = 0.901 and the selected hyperparameters iterations = 800, depth = 7\n",
    "- The features that have the greatest impact on the learning outcome of the model were also identified"
   ]
  },
  {
   "cell_type": "markdown",
   "metadata": {},
   "source": [
    "## Report"
   ]
  },
  {
   "cell_type": "markdown",
   "metadata": {},
   "source": [
    "### Compliance with the previously drawn up plan and difficulties encountered in the implementation of the project\n",
    "\n",
    "- All the points indicated in the previously drawn up plan are available in full in the work done, with the exception of one factor:\n",
    "\n",
    "  - Initially, I planned to use the GridSearchCV method to select hyperparameters, but when executing the project, I came across the fact that the selection of hyperparameters using GridSearchCV took a very long time, this problem was solved by the RandomizedSearchCV method, which allows you to limit the number of required operations, thereby reducing data processing time\n",
    "  \n",
    "  \n",
    "- Also, in the course of the project, such items were added as:\n",
    "\n",
    "- Calculation of a new feature from two original ones;\n",
    "  \n",
    "  - Initially, I planned to train two models (randomForest, CatBoost), but in the process I also decided to check what results the Linear Regression model would show;\n",
    "  \n",
    "  - Also, based on the results of testing the selected model, it was decided to add an item with the calculation and visualization of parameters that have the greatest impact on the result of the model\n",
    "  \n",
    "  \n",
    "- As for the difficulties I have encountered, I would only attribute a long time to the selection of parameters using GridSearchCV (I wrote about this earlier)"
   ]
  },
  {
   "cell_type": "markdown",
   "metadata": {},
   "source": [
    "### Downloading and researching data\n",
    "- Import of libraries - all necessary libraries were imported in a separate cell\n",
    "- Loading of available data - 4 different datasets were loaded\n",
    "- Description of uploaded data - primary data exploration was carried out\n",
    "- Comprehensive analysis and data processing (anomaly search, duplicate processing, construction of histograms of the distribution of numerical features):\n",
    "  - no duplicates were found\n",
    "  - in the Total Charges feature, omissions were found in people whose contract term reached only 1 month, it was decided to fill in these omissions with the values from MonthCharges"
   ]
  },
  {
   "cell_type": "markdown",
   "metadata": {},
   "source": [
    "### Preparing data for training\n",
    "- Determination of the target attribute (based on the presence / absence of the end date of the contract with the client, 1 - the client left, 0 - the client stayed)\n",
    "- Getting another feature (number of days that the client is with the company) based on the date of conclusion of the contract and the date of termination of the contract (given that the date of data upload is 2020-02-01)\n",
    "- Combining data into one dataframe\n",
    "- Preparation of features for model training:\n",
    "    - when combining dataframes, gaps were formed in categorical features, it was decided to fill in these missing values with the value \"No\", so we separate these data into a separate category and do not lose other data\n",
    "    - categorical signs were encoded by the OHE method\n",
    "- obviously unnecessary signs were removed, such as the ID and the start and end dates of the contract\n",
    "- The data were checked for class imbalance (class imbalance was detected)\n",
    "- The data was divided into training and test samples, taking into account the imbalance of classes (test_size=0.2, stratify=target)\n",
    "- Then the numerical features were scaled\n",
    "- `All of the above operations together with the selection of hyperparameters will allow to achieve a high metric value in the future`"
   ]
  },
  {
   "cell_type": "markdown",
   "metadata": {},
   "source": [
    "### List of features that were used in training:\n",
    "-  'MonthlyCharges', 'TotalCharges', 'Churn', 'Days', 'SeniorCitizen', 'Type_One year', 'Type_Two year', 'PaperlessBilling_Yes', 'PaymentMethod_Credit card (automatic)', 'PaymentMethod_Electronic check', 'PaymentMethod_Mailed check', 'gender_Male', 'Partner_Yes', 'Dependents_Yes','InternetService_Fiber optic', 'InternetService_No', 'OnlineSecurity_Yes', 'OnlineBackup_Yes', 'DeviceProtection_Yes', 'TechSupport_Yes', 'StreamingTV_Yes', 'StreamingMovies_Yes', 'MultipleLines_Yes'"
   ]
  },
  {
   "cell_type": "markdown",
   "metadata": {},
   "source": [
    "### Model Training\n",
    "- Several types of models have been selected (linear regression, random forest, gradient boosting)\n",
    "- On the training sample, models were trained using the RandomizedSearchCV method (GridSearchCV took too much time on my laptop), optimal hyperparameters were selected and the quality of models was evaluated using the ROC-AUC metric on cross-validation:\n",
    "  - Linear regression (ROC-AUC 0.847)\n",
    "  - Random forest (ROC-AUC 0.862 with selected hyperparameters 'n_estimators': 150, 'min_samples_leaf': 1, 'max_depth': 9)\n",
    "  - CatBoost (ROC-AUC = 0.898 and selected hyperparameters iterations = 800, depth = 7)"
   ]
  },
  {
   "cell_type": "markdown",
   "metadata": {},
   "source": [
    "### Select the optimal model\n",
    "- It was concluded that the CatBoost model is optimal and it is on it that the model must be tested:\n",
    "\n",
    "  CatBoost (ROC-AUC = 0.898, matched hyperparameters - iterations = 800, depth = 7)"
   ]
  },
  {
   "cell_type": "markdown",
   "metadata": {},
   "source": [
    "### Testing the model\n",
    "- On the test data, the selected model showed ROC-AUC = 0.901, which is a fairly high indicator\n",
    "- The adequacy of the model was confirmed by testing on a constant model\n",
    "- ROC-AUC curves were also constructed\n",
    "- Thus, the effectiveness and adequacy of the resulting CatBoost model has been proven\n",
    "- Additionally, the signs that have the greatest impact on the results of the model (Days, Month Charges, TotalCharges) were identified, which potentially allows us to additionally remove signs that have a low impact and conduct training and testing of the model without them"
   ]
  },
  {
   "cell_type": "markdown",
   "metadata": {},
   "source": [
    "### Results\n",
    "- The results of the work carried out are presented and described"
   ]
  }
 ],
 "metadata": {
  "ExecuteTimeLog": [
   {
    "duration": 90,
    "start_time": "2022-08-31T15:49:04.554Z"
   },
   {
    "duration": 399,
    "start_time": "2022-08-31T15:59:56.010Z"
   },
   {
    "duration": 148,
    "start_time": "2022-08-31T16:01:21.474Z"
   },
   {
    "duration": 139,
    "start_time": "2022-08-31T16:02:17.822Z"
   },
   {
    "duration": 242,
    "start_time": "2022-08-31T16:03:12.876Z"
   },
   {
    "duration": 22,
    "start_time": "2022-08-31T16:04:26.752Z"
   },
   {
    "duration": 21,
    "start_time": "2022-08-31T16:04:37.750Z"
   },
   {
    "duration": 29,
    "start_time": "2022-08-31T16:05:48.645Z"
   },
   {
    "duration": 43,
    "start_time": "2022-08-31T16:05:48.967Z"
   },
   {
    "duration": 21,
    "start_time": "2022-08-31T16:05:49.384Z"
   },
   {
    "duration": 13,
    "start_time": "2022-08-31T16:07:30.438Z"
   },
   {
    "duration": 12,
    "start_time": "2022-08-31T16:07:35.939Z"
   },
   {
    "duration": 3,
    "start_time": "2022-08-31T16:08:04.773Z"
   },
   {
    "duration": 26,
    "start_time": "2022-08-31T16:08:36.591Z"
   },
   {
    "duration": 23,
    "start_time": "2022-08-31T16:08:38.095Z"
   },
   {
    "duration": 41,
    "start_time": "2022-08-31T16:08:38.573Z"
   },
   {
    "duration": 25,
    "start_time": "2022-08-31T16:08:39.070Z"
   },
   {
    "duration": 3,
    "start_time": "2022-08-31T16:15:31.026Z"
   },
   {
    "duration": 27,
    "start_time": "2022-08-31T16:15:32.064Z"
   },
   {
    "duration": 3,
    "start_time": "2022-08-31T16:15:40.097Z"
   },
   {
    "duration": 27,
    "start_time": "2022-08-31T16:15:40.659Z"
   },
   {
    "duration": 3,
    "start_time": "2022-08-31T16:16:51.551Z"
   },
   {
    "duration": 44,
    "start_time": "2022-08-31T16:16:52.653Z"
   },
   {
    "duration": 362,
    "start_time": "2022-08-31T16:17:16.856Z"
   },
   {
    "duration": 119,
    "start_time": "2022-08-31T16:17:17.220Z"
   },
   {
    "duration": 4,
    "start_time": "2022-08-31T16:17:17.341Z"
   },
   {
    "duration": 87,
    "start_time": "2022-08-31T16:17:17.347Z"
   },
   {
    "duration": 41,
    "start_time": "2022-08-31T16:17:17.437Z"
   },
   {
    "duration": 82,
    "start_time": "2022-08-31T16:17:17.481Z"
   },
   {
    "duration": 66,
    "start_time": "2022-08-31T16:17:17.565Z"
   },
   {
    "duration": 8,
    "start_time": "2022-09-03T14:55:12.238Z"
   },
   {
    "duration": 359,
    "start_time": "2022-09-03T15:06:05.473Z"
   },
   {
    "duration": 363,
    "start_time": "2022-09-03T15:06:06.490Z"
   },
   {
    "duration": 3,
    "start_time": "2022-09-03T15:06:14.794Z"
   },
   {
    "duration": 6,
    "start_time": "2022-09-03T15:06:20.116Z"
   },
   {
    "duration": 138,
    "start_time": "2022-09-03T15:06:20.124Z"
   },
   {
    "duration": 3,
    "start_time": "2022-09-03T15:06:20.264Z"
   },
   {
    "duration": 57,
    "start_time": "2022-09-03T15:06:20.268Z"
   },
   {
    "duration": 25,
    "start_time": "2022-09-03T15:06:20.327Z"
   },
   {
    "duration": 73,
    "start_time": "2022-09-03T15:06:20.354Z"
   },
   {
    "duration": 26,
    "start_time": "2022-09-03T15:06:20.428Z"
   },
   {
    "duration": 42,
    "start_time": "2022-09-03T15:12:15.284Z"
   },
   {
    "duration": 4,
    "start_time": "2022-09-03T15:12:28.283Z"
   },
   {
    "duration": 65,
    "start_time": "2022-09-03T15:13:28.430Z"
   },
   {
    "duration": 9,
    "start_time": "2022-09-03T15:13:34.081Z"
   },
   {
    "duration": 8,
    "start_time": "2022-09-03T15:14:21.517Z"
   },
   {
    "duration": 10,
    "start_time": "2022-09-03T15:14:27.662Z"
   },
   {
    "duration": 22,
    "start_time": "2022-09-03T15:14:52.798Z"
   },
   {
    "duration": 17,
    "start_time": "2022-09-03T15:15:00.022Z"
   },
   {
    "duration": 5,
    "start_time": "2022-09-03T15:16:08.892Z"
   },
   {
    "duration": 17,
    "start_time": "2022-09-03T15:16:15.151Z"
   },
   {
    "duration": 8,
    "start_time": "2022-09-03T15:16:23.970Z"
   },
   {
    "duration": 6,
    "start_time": "2022-09-03T15:20:03.383Z"
   },
   {
    "duration": 5,
    "start_time": "2022-09-03T15:20:49.165Z"
   },
   {
    "duration": 10,
    "start_time": "2022-09-03T15:20:55.265Z"
   },
   {
    "duration": 11,
    "start_time": "2022-09-03T15:25:13.927Z"
   },
   {
    "duration": 693,
    "start_time": "2022-09-03T15:37:50.523Z"
   },
   {
    "duration": 5,
    "start_time": "2022-09-03T15:39:52.270Z"
   },
   {
    "duration": 6,
    "start_time": "2022-09-03T15:39:58.729Z"
   },
   {
    "duration": 14,
    "start_time": "2022-09-03T15:40:04.094Z"
   },
   {
    "duration": 6,
    "start_time": "2022-09-03T15:40:10.079Z"
   },
   {
    "duration": 8,
    "start_time": "2022-09-03T15:40:17.633Z"
   },
   {
    "duration": 57,
    "start_time": "2022-09-03T15:42:31.721Z"
   },
   {
    "duration": 33,
    "start_time": "2022-09-03T15:42:43.793Z"
   },
   {
    "duration": 17,
    "start_time": "2022-09-03T15:42:47.961Z"
   },
   {
    "duration": 16,
    "start_time": "2022-09-03T15:42:54.430Z"
   },
   {
    "duration": 10,
    "start_time": "2022-09-03T15:43:02.526Z"
   },
   {
    "duration": 1647,
    "start_time": "2022-09-03T15:43:16.639Z"
   },
   {
    "duration": 10,
    "start_time": "2022-09-03T15:43:24.175Z"
   },
   {
    "duration": 4,
    "start_time": "2022-09-03T15:44:28.813Z"
   },
   {
    "duration": 20,
    "start_time": "2022-09-03T15:44:33.319Z"
   },
   {
    "duration": 8,
    "start_time": "2022-09-03T15:44:53.739Z"
   },
   {
    "duration": 8,
    "start_time": "2022-09-03T15:44:58.791Z"
   },
   {
    "duration": 14,
    "start_time": "2022-09-03T15:45:22.337Z"
   },
   {
    "duration": 17,
    "start_time": "2022-09-03T15:45:56.879Z"
   },
   {
    "duration": 7,
    "start_time": "2022-09-03T15:46:08.981Z"
   },
   {
    "duration": 12,
    "start_time": "2022-09-03T15:46:17.980Z"
   },
   {
    "duration": 8,
    "start_time": "2022-09-03T15:47:34.700Z"
   },
   {
    "duration": 13,
    "start_time": "2022-09-03T15:47:38.352Z"
   },
   {
    "duration": 5,
    "start_time": "2022-09-03T15:47:43.625Z"
   },
   {
    "duration": 30,
    "start_time": "2022-09-03T15:47:47.792Z"
   },
   {
    "duration": 11,
    "start_time": "2022-09-03T15:48:18.355Z"
   },
   {
    "duration": 4,
    "start_time": "2022-09-03T15:48:54.490Z"
   },
   {
    "duration": 11,
    "start_time": "2022-09-03T15:48:55.433Z"
   },
   {
    "duration": 16,
    "start_time": "2022-09-03T15:49:21.913Z"
   },
   {
    "duration": 4,
    "start_time": "2022-09-03T15:49:39.489Z"
   },
   {
    "duration": 117,
    "start_time": "2022-09-03T15:49:39.494Z"
   },
   {
    "duration": 4,
    "start_time": "2022-09-03T15:49:39.613Z"
   },
   {
    "duration": 51,
    "start_time": "2022-09-03T15:49:39.618Z"
   },
   {
    "duration": 50,
    "start_time": "2022-09-03T15:49:39.672Z"
   },
   {
    "duration": 48,
    "start_time": "2022-09-03T15:49:39.723Z"
   },
   {
    "duration": 28,
    "start_time": "2022-09-03T15:49:39.798Z"
   },
   {
    "duration": 11,
    "start_time": "2022-09-03T15:49:39.828Z"
   },
   {
    "duration": 20,
    "start_time": "2022-09-03T15:49:39.841Z"
   },
   {
    "duration": 808,
    "start_time": "2022-09-03T15:49:39.863Z"
   },
   {
    "duration": 0,
    "start_time": "2022-09-03T15:49:40.673Z"
   },
   {
    "duration": 0,
    "start_time": "2022-09-03T15:49:40.673Z"
   },
   {
    "duration": 0,
    "start_time": "2022-09-03T15:49:40.674Z"
   },
   {
    "duration": 0,
    "start_time": "2022-09-03T15:49:40.676Z"
   },
   {
    "duration": 14,
    "start_time": "2022-09-03T15:50:30.408Z"
   },
   {
    "duration": 14,
    "start_time": "2022-09-03T15:50:34.714Z"
   },
   {
    "duration": 3,
    "start_time": "2022-09-03T15:50:54.779Z"
   },
   {
    "duration": 108,
    "start_time": "2022-09-03T15:50:54.784Z"
   },
   {
    "duration": 4,
    "start_time": "2022-09-03T15:50:54.893Z"
   },
   {
    "duration": 60,
    "start_time": "2022-09-03T15:50:54.899Z"
   },
   {
    "duration": 31,
    "start_time": "2022-09-03T15:50:54.961Z"
   },
   {
    "duration": 50,
    "start_time": "2022-09-03T15:50:54.993Z"
   },
   {
    "duration": 25,
    "start_time": "2022-09-03T15:50:55.044Z"
   },
   {
    "duration": 36,
    "start_time": "2022-09-03T15:50:55.070Z"
   },
   {
    "duration": 19,
    "start_time": "2022-09-03T15:50:55.108Z"
   },
   {
    "duration": 805,
    "start_time": "2022-09-03T15:50:58.875Z"
   },
   {
    "duration": 1030,
    "start_time": "2022-09-03T15:51:22.242Z"
   },
   {
    "duration": 100,
    "start_time": "2022-09-03T15:51:23.273Z"
   },
   {
    "duration": 3,
    "start_time": "2022-09-03T15:51:23.375Z"
   },
   {
    "duration": 47,
    "start_time": "2022-09-03T15:51:23.379Z"
   },
   {
    "duration": 28,
    "start_time": "2022-09-03T15:51:23.428Z"
   },
   {
    "duration": 74,
    "start_time": "2022-09-03T15:51:23.457Z"
   },
   {
    "duration": 26,
    "start_time": "2022-09-03T15:51:23.533Z"
   },
   {
    "duration": 40,
    "start_time": "2022-09-03T15:51:23.561Z"
   },
   {
    "duration": 13,
    "start_time": "2022-09-03T15:51:23.603Z"
   },
   {
    "duration": 924,
    "start_time": "2022-09-03T15:51:23.619Z"
   },
   {
    "duration": 0,
    "start_time": "2022-09-03T15:51:24.545Z"
   },
   {
    "duration": 1,
    "start_time": "2022-09-03T15:51:24.546Z"
   },
   {
    "duration": 0,
    "start_time": "2022-09-03T15:51:24.548Z"
   },
   {
    "duration": 0,
    "start_time": "2022-09-03T15:51:24.549Z"
   },
   {
    "duration": 0,
    "start_time": "2022-09-03T15:51:24.550Z"
   },
   {
    "duration": 0,
    "start_time": "2022-09-03T15:51:24.552Z"
   },
   {
    "duration": 0,
    "start_time": "2022-09-03T15:51:24.553Z"
   },
   {
    "duration": 0,
    "start_time": "2022-09-03T15:51:24.554Z"
   },
   {
    "duration": 0,
    "start_time": "2022-09-03T15:51:24.556Z"
   },
   {
    "duration": 4,
    "start_time": "2022-09-03T15:52:00.101Z"
   },
   {
    "duration": 5,
    "start_time": "2022-09-03T15:52:00.741Z"
   },
   {
    "duration": 10,
    "start_time": "2022-09-03T15:52:01.743Z"
   },
   {
    "duration": 6,
    "start_time": "2022-09-03T15:52:04.423Z"
   },
   {
    "duration": 8,
    "start_time": "2022-09-03T15:52:06.113Z"
   },
   {
    "duration": 17,
    "start_time": "2022-09-03T15:52:06.910Z"
   },
   {
    "duration": 4,
    "start_time": "2022-09-03T15:52:11.881Z"
   },
   {
    "duration": 17,
    "start_time": "2022-09-03T15:52:15.980Z"
   },
   {
    "duration": 3,
    "start_time": "2022-09-03T15:53:29.248Z"
   },
   {
    "duration": 15,
    "start_time": "2022-09-03T15:53:30.510Z"
   },
   {
    "duration": 15,
    "start_time": "2022-09-03T15:53:52.692Z"
   },
   {
    "duration": 4,
    "start_time": "2022-09-03T15:56:56.583Z"
   },
   {
    "duration": 16,
    "start_time": "2022-09-03T15:57:11.151Z"
   },
   {
    "duration": 10,
    "start_time": "2022-09-03T15:58:05.888Z"
   },
   {
    "duration": 5,
    "start_time": "2022-09-03T15:59:09.428Z"
   },
   {
    "duration": 5,
    "start_time": "2022-09-03T15:59:12.890Z"
   },
   {
    "duration": 12,
    "start_time": "2022-09-03T16:01:32.714Z"
   },
   {
    "duration": 11,
    "start_time": "2022-09-03T16:01:36.100Z"
   },
   {
    "duration": 9,
    "start_time": "2022-09-03T16:01:38.998Z"
   },
   {
    "duration": 9,
    "start_time": "2022-09-03T16:01:58.285Z"
   },
   {
    "duration": 16,
    "start_time": "2022-09-03T16:02:06.927Z"
   },
   {
    "duration": 7,
    "start_time": "2022-09-03T16:02:33.917Z"
   },
   {
    "duration": 13,
    "start_time": "2022-09-03T16:02:37.352Z"
   },
   {
    "duration": 6,
    "start_time": "2022-09-03T16:02:48.946Z"
   },
   {
    "duration": 13,
    "start_time": "2022-09-03T16:02:58.489Z"
   },
   {
    "duration": 15,
    "start_time": "2022-09-03T16:05:44.022Z"
   },
   {
    "duration": 5,
    "start_time": "2022-09-03T16:09:25.878Z"
   },
   {
    "duration": 23,
    "start_time": "2022-09-03T16:09:40.233Z"
   },
   {
    "duration": 5,
    "start_time": "2022-09-03T16:09:48.936Z"
   },
   {
    "duration": 5,
    "start_time": "2022-09-03T16:10:07.567Z"
   },
   {
    "duration": 11,
    "start_time": "2022-09-03T16:10:17.220Z"
   },
   {
    "duration": 18,
    "start_time": "2022-09-03T16:11:02.485Z"
   },
   {
    "duration": 542,
    "start_time": "2022-09-03T16:11:36.971Z"
   },
   {
    "duration": 244,
    "start_time": "2022-09-03T16:11:50.997Z"
   },
   {
    "duration": 119,
    "start_time": "2022-09-03T16:11:56.167Z"
   },
   {
    "duration": 115,
    "start_time": "2022-09-03T16:11:59.143Z"
   },
   {
    "duration": 143,
    "start_time": "2022-09-03T16:12:20.302Z"
   },
   {
    "duration": 611,
    "start_time": "2022-09-03T16:12:31.152Z"
   },
   {
    "duration": 219,
    "start_time": "2022-09-03T16:12:45.588Z"
   },
   {
    "duration": 189,
    "start_time": "2022-09-03T16:13:07.372Z"
   },
   {
    "duration": 125,
    "start_time": "2022-09-03T16:13:13.975Z"
   },
   {
    "duration": 12,
    "start_time": "2022-09-03T16:14:10.043Z"
   },
   {
    "duration": 11,
    "start_time": "2022-09-03T16:14:28.042Z"
   },
   {
    "duration": 11,
    "start_time": "2022-09-03T16:14:45.640Z"
   },
   {
    "duration": 8,
    "start_time": "2022-09-03T16:14:54.076Z"
   },
   {
    "duration": 7,
    "start_time": "2022-09-03T16:15:33.656Z"
   },
   {
    "duration": 10,
    "start_time": "2022-09-03T16:15:34.132Z"
   },
   {
    "duration": 10,
    "start_time": "2022-09-03T16:17:03.338Z"
   },
   {
    "duration": 11,
    "start_time": "2022-09-03T16:17:09.168Z"
   },
   {
    "duration": 6,
    "start_time": "2022-09-03T16:17:58.219Z"
   },
   {
    "duration": 9,
    "start_time": "2022-09-03T16:18:03.127Z"
   },
   {
    "duration": 66,
    "start_time": "2022-09-03T16:22:32.688Z"
   },
   {
    "duration": 60,
    "start_time": "2022-09-03T16:22:49.273Z"
   },
   {
    "duration": 32,
    "start_time": "2022-09-03T16:23:08.825Z"
   },
   {
    "duration": 111,
    "start_time": "2022-09-03T16:23:11.998Z"
   },
   {
    "duration": 25,
    "start_time": "2022-09-03T16:23:55.224Z"
   },
   {
    "duration": 18,
    "start_time": "2022-09-03T16:26:28.993Z"
   },
   {
    "duration": 24,
    "start_time": "2022-09-03T16:26:53.050Z"
   },
   {
    "duration": 4,
    "start_time": "2022-09-03T16:26:58.522Z"
   },
   {
    "duration": 9,
    "start_time": "2022-09-03T16:29:42.231Z"
   },
   {
    "duration": 4,
    "start_time": "2022-09-03T16:29:49.791Z"
   },
   {
    "duration": 3,
    "start_time": "2022-09-03T16:30:02.585Z"
   },
   {
    "duration": 3,
    "start_time": "2022-09-03T16:30:12.159Z"
   },
   {
    "duration": 4,
    "start_time": "2022-09-03T16:30:24.968Z"
   },
   {
    "duration": 9,
    "start_time": "2022-09-03T16:31:01.539Z"
   },
   {
    "duration": 849,
    "start_time": "2022-09-03T16:31:05.261Z"
   },
   {
    "duration": 6,
    "start_time": "2022-09-03T16:31:14.136Z"
   },
   {
    "duration": 11,
    "start_time": "2022-09-03T16:31:21.965Z"
   },
   {
    "duration": 18,
    "start_time": "2022-09-03T16:31:30.622Z"
   },
   {
    "duration": 4,
    "start_time": "2022-09-03T16:36:00.239Z"
   },
   {
    "duration": 18,
    "start_time": "2022-09-03T16:36:18.895Z"
   },
   {
    "duration": 19,
    "start_time": "2022-09-03T16:40:13.061Z"
   },
   {
    "duration": 8,
    "start_time": "2022-09-03T16:40:27.634Z"
   },
   {
    "duration": 22,
    "start_time": "2022-09-03T16:40:32.200Z"
   },
   {
    "duration": 10,
    "start_time": "2022-09-03T16:40:44.582Z"
   },
   {
    "duration": 23,
    "start_time": "2022-09-03T16:40:48.533Z"
   },
   {
    "duration": 9,
    "start_time": "2022-09-03T16:41:11.075Z"
   },
   {
    "duration": 25,
    "start_time": "2022-09-03T16:41:15.898Z"
   },
   {
    "duration": 26,
    "start_time": "2022-09-03T16:41:33.656Z"
   },
   {
    "duration": 22,
    "start_time": "2022-09-03T16:41:39.673Z"
   },
   {
    "duration": 8,
    "start_time": "2022-09-03T16:42:03.506Z"
   },
   {
    "duration": 16,
    "start_time": "2022-09-03T16:42:03.711Z"
   },
   {
    "duration": 27,
    "start_time": "2022-09-03T16:42:15.162Z"
   },
   {
    "duration": 19,
    "start_time": "2022-09-03T16:42:29.914Z"
   },
   {
    "duration": 16,
    "start_time": "2022-09-03T16:47:16.003Z"
   },
   {
    "duration": 4,
    "start_time": "2022-09-03T16:47:36.877Z"
   },
   {
    "duration": 6,
    "start_time": "2022-09-03T16:48:07.506Z"
   },
   {
    "duration": 32,
    "start_time": "2022-09-03T16:48:11.335Z"
   },
   {
    "duration": 3,
    "start_time": "2022-09-03T16:51:00.787Z"
   },
   {
    "duration": 1387,
    "start_time": "2022-09-04T06:37:07.062Z"
   },
   {
    "duration": 3,
    "start_time": "2022-09-04T06:37:33.013Z"
   },
   {
    "duration": 306,
    "start_time": "2022-09-04T06:37:33.019Z"
   },
   {
    "duration": 3,
    "start_time": "2022-09-04T06:37:33.327Z"
   },
   {
    "duration": 41,
    "start_time": "2022-09-04T06:37:33.331Z"
   },
   {
    "duration": 26,
    "start_time": "2022-09-04T06:37:33.374Z"
   },
   {
    "duration": 69,
    "start_time": "2022-09-04T06:37:33.401Z"
   },
   {
    "duration": 24,
    "start_time": "2022-09-04T06:37:33.471Z"
   },
   {
    "duration": 12,
    "start_time": "2022-09-04T06:37:33.496Z"
   },
   {
    "duration": 33,
    "start_time": "2022-09-04T06:37:33.509Z"
   },
   {
    "duration": 6,
    "start_time": "2022-09-04T06:37:33.543Z"
   },
   {
    "duration": 5,
    "start_time": "2022-09-04T06:37:33.551Z"
   },
   {
    "duration": 14,
    "start_time": "2022-09-04T06:37:33.558Z"
   },
   {
    "duration": 9,
    "start_time": "2022-09-04T06:37:33.573Z"
   },
   {
    "duration": 9,
    "start_time": "2022-09-04T06:37:33.583Z"
   },
   {
    "duration": 14,
    "start_time": "2022-09-04T06:37:33.593Z"
   },
   {
    "duration": 4,
    "start_time": "2022-09-04T06:37:33.608Z"
   },
   {
    "duration": 25,
    "start_time": "2022-09-04T06:37:33.613Z"
   },
   {
    "duration": 11,
    "start_time": "2022-09-04T06:37:33.640Z"
   },
   {
    "duration": 16,
    "start_time": "2022-09-04T06:37:33.653Z"
   },
   {
    "duration": 6,
    "start_time": "2022-09-04T06:37:33.671Z"
   },
   {
    "duration": 8,
    "start_time": "2022-09-04T06:37:33.678Z"
   },
   {
    "duration": 16,
    "start_time": "2022-09-04T06:37:33.688Z"
   },
   {
    "duration": 45,
    "start_time": "2022-09-04T06:37:33.706Z"
   },
   {
    "duration": 141,
    "start_time": "2022-09-04T06:37:33.752Z"
   },
   {
    "duration": 207,
    "start_time": "2022-09-04T06:37:33.895Z"
   },
   {
    "duration": 7,
    "start_time": "2022-09-04T06:37:34.104Z"
   },
   {
    "duration": 15,
    "start_time": "2022-09-04T06:37:34.112Z"
   },
   {
    "duration": 10,
    "start_time": "2022-09-04T06:37:34.137Z"
   },
   {
    "duration": 9,
    "start_time": "2022-09-04T06:37:34.151Z"
   },
   {
    "duration": 6,
    "start_time": "2022-09-04T06:37:34.162Z"
   },
   {
    "duration": 9,
    "start_time": "2022-09-04T06:37:34.170Z"
   },
   {
    "duration": 22,
    "start_time": "2022-09-04T06:37:34.181Z"
   },
   {
    "duration": 50,
    "start_time": "2022-09-04T06:37:34.205Z"
   },
   {
    "duration": 4,
    "start_time": "2022-09-04T06:37:34.257Z"
   },
   {
    "duration": 10,
    "start_time": "2022-09-04T06:37:34.262Z"
   },
   {
    "duration": 10,
    "start_time": "2022-09-04T06:37:34.274Z"
   },
   {
    "duration": 53,
    "start_time": "2022-09-04T06:37:34.285Z"
   },
   {
    "duration": 18,
    "start_time": "2022-09-04T06:37:34.341Z"
   },
   {
    "duration": 7,
    "start_time": "2022-09-04T06:37:34.360Z"
   },
   {
    "duration": 8,
    "start_time": "2022-09-04T06:37:34.369Z"
   },
   {
    "duration": 33,
    "start_time": "2022-09-04T06:37:34.378Z"
   },
   {
    "duration": 56525,
    "start_time": "2022-09-04T06:37:34.412Z"
   },
   {
    "duration": 98,
    "start_time": "2022-09-04T06:39:57.482Z"
   },
   {
    "duration": 4,
    "start_time": "2022-09-04T06:40:11.901Z"
   },
   {
    "duration": 14,
    "start_time": "2022-09-04T06:40:20.678Z"
   },
   {
    "duration": 4,
    "start_time": "2022-09-04T06:41:33.533Z"
   },
   {
    "duration": 27,
    "start_time": "2022-09-04T06:41:44.709Z"
   },
   {
    "duration": 11,
    "start_time": "2022-09-04T06:42:31.961Z"
   },
   {
    "duration": 26,
    "start_time": "2022-09-04T06:42:41.983Z"
   },
   {
    "duration": 3,
    "start_time": "2022-09-04T06:43:15.012Z"
   },
   {
    "duration": 1707,
    "start_time": "2022-09-04T06:43:17.220Z"
   },
   {
    "duration": 4,
    "start_time": "2022-09-04T06:50:11.531Z"
   },
   {
    "duration": 120,
    "start_time": "2022-09-04T06:52:35.961Z"
   },
   {
    "duration": 111,
    "start_time": "2022-09-04T06:52:44.362Z"
   },
   {
    "duration": 128,
    "start_time": "2022-09-04T06:52:52.844Z"
   },
   {
    "duration": 6,
    "start_time": "2022-09-04T06:53:48.445Z"
   },
   {
    "duration": 127,
    "start_time": "2022-09-04T06:54:01.590Z"
   },
   {
    "duration": 116,
    "start_time": "2022-09-04T06:54:09.990Z"
   },
   {
    "duration": 16,
    "start_time": "2022-09-04T06:55:19.624Z"
   },
   {
    "duration": 9,
    "start_time": "2022-09-04T07:02:21.945Z"
   },
   {
    "duration": 4,
    "start_time": "2022-09-04T07:02:30.276Z"
   },
   {
    "duration": 10,
    "start_time": "2022-09-04T07:02:40.755Z"
   },
   {
    "duration": 4,
    "start_time": "2022-09-04T07:02:46.279Z"
   },
   {
    "duration": 5,
    "start_time": "2022-09-04T07:03:07.495Z"
   },
   {
    "duration": 8,
    "start_time": "2022-09-04T07:03:18.277Z"
   },
   {
    "duration": 3,
    "start_time": "2022-09-04T07:03:27.856Z"
   },
   {
    "duration": 9,
    "start_time": "2022-09-04T07:03:54.486Z"
   },
   {
    "duration": 6,
    "start_time": "2022-09-04T07:04:16.181Z"
   },
   {
    "duration": 6,
    "start_time": "2022-09-04T07:04:19.546Z"
   },
   {
    "duration": 7,
    "start_time": "2022-09-04T07:04:31.017Z"
   },
   {
    "duration": 7,
    "start_time": "2022-09-04T07:04:46.740Z"
   },
   {
    "duration": 17,
    "start_time": "2022-09-04T07:07:27.786Z"
   },
   {
    "duration": 12,
    "start_time": "2022-09-04T07:08:03.900Z"
   },
   {
    "duration": 18,
    "start_time": "2022-09-04T07:08:14.831Z"
   },
   {
    "duration": 18,
    "start_time": "2022-09-04T07:09:03.329Z"
   },
   {
    "duration": 55,
    "start_time": "2022-09-04T07:12:42.899Z"
   },
   {
    "duration": 3,
    "start_time": "2022-09-04T07:13:31.292Z"
   },
   {
    "duration": 24,
    "start_time": "2022-09-04T07:16:37.312Z"
   },
   {
    "duration": 3,
    "start_time": "2022-09-04T07:16:53.327Z"
   },
   {
    "duration": 23,
    "start_time": "2022-09-04T07:18:23.697Z"
   },
   {
    "duration": 3,
    "start_time": "2022-09-04T07:19:07.580Z"
   },
   {
    "duration": 14,
    "start_time": "2022-09-04T07:19:29.968Z"
   },
   {
    "duration": 5,
    "start_time": "2022-09-04T07:19:48.845Z"
   },
   {
    "duration": 122,
    "start_time": "2022-09-04T07:19:54.209Z"
   },
   {
    "duration": 119,
    "start_time": "2022-09-04T07:21:50.491Z"
   },
   {
    "duration": 4,
    "start_time": "2022-09-04T07:23:44.022Z"
   },
   {
    "duration": 4,
    "start_time": "2022-09-04T07:23:49.626Z"
   },
   {
    "duration": 4,
    "start_time": "2022-09-04T07:23:54.121Z"
   },
   {
    "duration": 2,
    "start_time": "2022-09-04T07:24:15.219Z"
   },
   {
    "duration": 5,
    "start_time": "2022-09-04T07:24:40.082Z"
   },
   {
    "duration": 133,
    "start_time": "2022-09-04T07:25:35.656Z"
   },
   {
    "duration": 121,
    "start_time": "2022-09-04T07:26:31.018Z"
   },
   {
    "duration": 135,
    "start_time": "2022-09-04T07:26:37.801Z"
   },
   {
    "duration": 5,
    "start_time": "2022-09-04T07:27:05.174Z"
   },
   {
    "duration": 4,
    "start_time": "2022-09-04T07:28:28.041Z"
   },
   {
    "duration": 4,
    "start_time": "2022-09-04T07:34:13.936Z"
   },
   {
    "duration": 575,
    "start_time": "2022-09-04T07:34:30.975Z"
   },
   {
    "duration": 543,
    "start_time": "2022-09-04T07:35:00.506Z"
   },
   {
    "duration": 861,
    "start_time": "2022-09-04T07:35:34.977Z"
   },
   {
    "duration": 2,
    "start_time": "2022-09-04T07:35:37.095Z"
   },
   {
    "duration": 6,
    "start_time": "2022-09-04T07:35:38.345Z"
   },
   {
    "duration": 134,
    "start_time": "2022-09-04T07:35:39.413Z"
   },
   {
    "duration": 593,
    "start_time": "2022-09-04T07:36:36.863Z"
   },
   {
    "duration": 5,
    "start_time": "2022-09-04T07:36:47.233Z"
   },
   {
    "duration": 147,
    "start_time": "2022-09-04T07:36:51.939Z"
   },
   {
    "duration": 3,
    "start_time": "2022-09-04T07:42:32.685Z"
   },
   {
    "duration": 598,
    "start_time": "2022-09-04T07:42:37.345Z"
   },
   {
    "duration": 56,
    "start_time": "2022-09-04T07:43:31.180Z"
   },
   {
    "duration": 4,
    "start_time": "2022-09-04T07:44:12.604Z"
   },
   {
    "duration": 104,
    "start_time": "2022-09-04T07:44:18.980Z"
   },
   {
    "duration": 5,
    "start_time": "2022-09-04T07:44:30.480Z"
   },
   {
    "duration": 11,
    "start_time": "2022-09-04T07:44:45.122Z"
   },
   {
    "duration": 11,
    "start_time": "2022-09-04T07:44:47.790Z"
   },
   {
    "duration": 8,
    "start_time": "2022-09-04T07:44:52.141Z"
   },
   {
    "duration": 8,
    "start_time": "2022-09-04T07:44:56.249Z"
   },
   {
    "duration": 8,
    "start_time": "2022-09-04T07:44:58.392Z"
   },
   {
    "duration": 9,
    "start_time": "2022-09-04T07:45:47.509Z"
   },
   {
    "duration": 9,
    "start_time": "2022-09-04T07:46:01.618Z"
   },
   {
    "duration": 343062,
    "start_time": "2022-09-04T07:46:50.554Z"
   },
   {
    "duration": 6,
    "start_time": "2022-09-04T07:53:14.633Z"
   },
   {
    "duration": 106107,
    "start_time": "2022-09-04T07:53:22.487Z"
   },
   {
    "duration": 4,
    "start_time": "2022-09-04T07:55:30.725Z"
   },
   {
    "duration": 198638,
    "start_time": "2022-09-04T07:55:47.361Z"
   },
   {
    "duration": 5,
    "start_time": "2022-09-04T07:59:11.654Z"
   },
   {
    "duration": 4,
    "start_time": "2022-09-04T08:00:23.113Z"
   },
   {
    "duration": 4,
    "start_time": "2022-09-04T08:01:05.620Z"
   },
   {
    "duration": 1002,
    "start_time": "2022-09-04T08:03:18.302Z"
   },
   {
    "duration": 5423,
    "start_time": "2022-09-04T08:04:02.040Z"
   },
   {
    "duration": 5212,
    "start_time": "2022-09-04T08:04:21.158Z"
   },
   {
    "duration": 174,
    "start_time": "2022-09-04T08:05:15.897Z"
   },
   {
    "duration": 157,
    "start_time": "2022-09-04T08:06:28.097Z"
   },
   {
    "duration": 157,
    "start_time": "2022-09-04T08:06:36.707Z"
   },
   {
    "duration": 5170,
    "start_time": "2022-09-04T08:07:22.964Z"
   },
   {
    "duration": 159,
    "start_time": "2022-09-04T08:07:34.598Z"
   },
   {
    "duration": 3,
    "start_time": "2022-09-04T08:09:50.291Z"
   },
   {
    "duration": 1545602,
    "start_time": "2022-09-04T08:10:56.433Z"
   },
   {
    "duration": 4,
    "start_time": "2022-09-04T08:39:03.980Z"
   },
   {
    "duration": 3,
    "start_time": "2022-09-04T08:39:29.629Z"
   },
   {
    "duration": 939890,
    "start_time": "2022-09-04T08:40:16.379Z"
   },
   {
    "duration": 5,
    "start_time": "2022-09-04T08:56:07.295Z"
   },
   {
    "duration": 3,
    "start_time": "2022-09-04T08:56:20.101Z"
   },
   {
    "duration": 8580,
    "start_time": "2022-09-04T08:56:38.786Z"
   },
   {
    "duration": 666760,
    "start_time": "2022-09-04T08:57:13.238Z"
   },
   {
    "duration": 3,
    "start_time": "2022-09-04T09:08:32.096Z"
   },
   {
    "duration": 4,
    "start_time": "2022-09-04T09:08:51.304Z"
   },
   {
    "duration": 826150,
    "start_time": "2022-09-04T09:09:37.274Z"
   },
   {
    "duration": 4,
    "start_time": "2022-09-04T09:26:17.773Z"
   },
   {
    "duration": 6,
    "start_time": "2022-09-04T09:27:27.151Z"
   },
   {
    "duration": 116,
    "start_time": "2022-09-04T09:27:27.159Z"
   },
   {
    "duration": 3,
    "start_time": "2022-09-04T09:27:27.277Z"
   },
   {
    "duration": 38,
    "start_time": "2022-09-04T09:27:27.281Z"
   },
   {
    "duration": 42,
    "start_time": "2022-09-04T09:27:27.321Z"
   },
   {
    "duration": 42,
    "start_time": "2022-09-04T09:27:27.365Z"
   },
   {
    "duration": 55,
    "start_time": "2022-09-04T09:27:27.409Z"
   },
   {
    "duration": 13,
    "start_time": "2022-09-04T09:27:27.465Z"
   },
   {
    "duration": 14,
    "start_time": "2022-09-04T09:27:27.480Z"
   },
   {
    "duration": 5,
    "start_time": "2022-09-04T09:27:27.496Z"
   },
   {
    "duration": 8,
    "start_time": "2022-09-04T09:27:27.503Z"
   },
   {
    "duration": 32,
    "start_time": "2022-09-04T09:27:27.512Z"
   },
   {
    "duration": 5,
    "start_time": "2022-09-04T09:27:27.555Z"
   },
   {
    "duration": 8,
    "start_time": "2022-09-04T09:27:27.562Z"
   },
   {
    "duration": 13,
    "start_time": "2022-09-04T09:27:27.571Z"
   },
   {
    "duration": 4,
    "start_time": "2022-09-04T09:27:27.586Z"
   },
   {
    "duration": 7,
    "start_time": "2022-09-04T09:27:27.591Z"
   },
   {
    "duration": 16,
    "start_time": "2022-09-04T09:27:27.600Z"
   },
   {
    "duration": 37,
    "start_time": "2022-09-04T09:27:27.617Z"
   },
   {
    "duration": 5,
    "start_time": "2022-09-04T09:27:27.656Z"
   },
   {
    "duration": 13,
    "start_time": "2022-09-04T09:27:27.662Z"
   },
   {
    "duration": 12,
    "start_time": "2022-09-04T09:27:27.677Z"
   },
   {
    "duration": 20,
    "start_time": "2022-09-04T09:27:27.691Z"
   },
   {
    "duration": 154,
    "start_time": "2022-09-04T09:27:27.712Z"
   },
   {
    "duration": 260,
    "start_time": "2022-09-04T09:27:27.867Z"
   },
   {
    "duration": 17,
    "start_time": "2022-09-04T09:27:28.129Z"
   },
   {
    "duration": 22,
    "start_time": "2022-09-04T09:27:28.148Z"
   },
   {
    "duration": 14,
    "start_time": "2022-09-04T09:27:28.171Z"
   },
   {
    "duration": 13,
    "start_time": "2022-09-04T09:27:28.186Z"
   },
   {
    "duration": 6,
    "start_time": "2022-09-04T09:27:28.200Z"
   },
   {
    "duration": 13,
    "start_time": "2022-09-04T09:27:28.208Z"
   },
   {
    "duration": 32,
    "start_time": "2022-09-04T09:27:28.222Z"
   },
   {
    "duration": 20,
    "start_time": "2022-09-04T09:27:28.256Z"
   },
   {
    "duration": 3,
    "start_time": "2022-09-04T09:27:28.277Z"
   },
   {
    "duration": 23,
    "start_time": "2022-09-04T09:27:28.281Z"
   },
   {
    "duration": 11,
    "start_time": "2022-09-04T09:27:28.305Z"
   },
   {
    "duration": 41,
    "start_time": "2022-09-04T09:27:28.317Z"
   },
   {
    "duration": 16,
    "start_time": "2022-09-04T09:27:28.360Z"
   },
   {
    "duration": 6,
    "start_time": "2022-09-04T09:27:28.378Z"
   },
   {
    "duration": 7,
    "start_time": "2022-09-04T09:27:28.385Z"
   },
   {
    "duration": 4,
    "start_time": "2022-09-04T09:27:28.396Z"
   },
   {
    "duration": 5,
    "start_time": "2022-09-04T09:27:28.402Z"
   },
   {
    "duration": 1951,
    "start_time": "2022-09-04T09:27:28.409Z"
   },
   {
    "duration": 2,
    "start_time": "2022-09-04T09:27:30.362Z"
   },
   {
    "duration": 16,
    "start_time": "2022-09-04T09:27:30.365Z"
   },
   {
    "duration": 187,
    "start_time": "2022-09-04T09:27:30.382Z"
   },
   {
    "duration": 10,
    "start_time": "2022-09-04T09:27:30.571Z"
   },
   {
    "duration": 24,
    "start_time": "2022-09-04T09:27:30.582Z"
   },
   {
    "duration": 5,
    "start_time": "2022-09-04T09:27:30.608Z"
   },
   {
    "duration": 645,
    "start_time": "2022-09-04T09:27:30.614Z"
   },
   {
    "duration": 79,
    "start_time": "2022-09-04T09:27:31.261Z"
   },
   {
    "duration": 120,
    "start_time": "2022-09-04T09:27:31.343Z"
   },
   {
    "duration": 149,
    "start_time": "2022-09-04T09:27:31.464Z"
   },
   {
    "duration": 57838,
    "start_time": "2022-09-04T09:27:31.614Z"
   },
   {
    "duration": 9,
    "start_time": "2022-09-04T09:28:29.454Z"
   },
   {
    "duration": 0,
    "start_time": "2022-09-04T09:28:29.465Z"
   },
   {
    "duration": 0,
    "start_time": "2022-09-04T09:28:29.466Z"
   },
   {
    "duration": 0,
    "start_time": "2022-09-04T09:28:29.467Z"
   },
   {
    "duration": 0,
    "start_time": "2022-09-04T09:28:29.468Z"
   },
   {
    "duration": 0,
    "start_time": "2022-09-04T09:28:29.469Z"
   },
   {
    "duration": 0,
    "start_time": "2022-09-04T09:28:29.470Z"
   },
   {
    "duration": 0,
    "start_time": "2022-09-04T09:28:29.471Z"
   },
   {
    "duration": 9,
    "start_time": "2022-09-04T09:28:36.926Z"
   },
   {
    "duration": 3,
    "start_time": "2022-09-04T09:28:43.024Z"
   },
   {
    "duration": 14,
    "start_time": "2022-09-04T09:28:54.836Z"
   },
   {
    "duration": 4,
    "start_time": "2022-09-04T09:29:55.331Z"
   },
   {
    "duration": 108,
    "start_time": "2022-09-04T09:29:55.337Z"
   },
   {
    "duration": 3,
    "start_time": "2022-09-04T09:29:55.447Z"
   },
   {
    "duration": 42,
    "start_time": "2022-09-04T09:29:55.451Z"
   },
   {
    "duration": 45,
    "start_time": "2022-09-04T09:29:55.495Z"
   },
   {
    "duration": 45,
    "start_time": "2022-09-04T09:29:55.541Z"
   },
   {
    "duration": 56,
    "start_time": "2022-09-04T09:29:55.587Z"
   },
   {
    "duration": 11,
    "start_time": "2022-09-04T09:29:55.645Z"
   },
   {
    "duration": 12,
    "start_time": "2022-09-04T09:29:55.657Z"
   },
   {
    "duration": 5,
    "start_time": "2022-09-04T09:29:55.671Z"
   },
   {
    "duration": 7,
    "start_time": "2022-09-04T09:29:55.679Z"
   },
   {
    "duration": 21,
    "start_time": "2022-09-04T09:29:55.687Z"
   },
   {
    "duration": 7,
    "start_time": "2022-09-04T09:29:55.709Z"
   },
   {
    "duration": 25,
    "start_time": "2022-09-04T09:29:55.717Z"
   },
   {
    "duration": 13,
    "start_time": "2022-09-04T09:29:55.743Z"
   },
   {
    "duration": 7,
    "start_time": "2022-09-04T09:29:55.758Z"
   },
   {
    "duration": 6,
    "start_time": "2022-09-04T09:29:55.766Z"
   },
   {
    "duration": 14,
    "start_time": "2022-09-04T09:29:55.773Z"
   },
   {
    "duration": 14,
    "start_time": "2022-09-04T09:29:55.788Z"
   },
   {
    "duration": 4,
    "start_time": "2022-09-04T09:29:55.804Z"
   },
   {
    "duration": 6,
    "start_time": "2022-09-04T09:29:55.810Z"
   },
   {
    "duration": 24,
    "start_time": "2022-09-04T09:29:55.817Z"
   },
   {
    "duration": 17,
    "start_time": "2022-09-04T09:29:55.842Z"
   },
   {
    "duration": 155,
    "start_time": "2022-09-04T09:29:55.861Z"
   },
   {
    "duration": 246,
    "start_time": "2022-09-04T09:29:56.018Z"
   },
   {
    "duration": 8,
    "start_time": "2022-09-04T09:29:56.265Z"
   },
   {
    "duration": 15,
    "start_time": "2022-09-04T09:29:56.274Z"
   },
   {
    "duration": 12,
    "start_time": "2022-09-04T09:29:56.290Z"
   },
   {
    "duration": 10,
    "start_time": "2022-09-04T09:29:56.305Z"
   },
   {
    "duration": 23,
    "start_time": "2022-09-04T09:29:56.316Z"
   },
   {
    "duration": 8,
    "start_time": "2022-09-04T09:29:56.340Z"
   },
   {
    "duration": 25,
    "start_time": "2022-09-04T09:29:56.350Z"
   },
   {
    "duration": 20,
    "start_time": "2022-09-04T09:29:56.376Z"
   },
   {
    "duration": 3,
    "start_time": "2022-09-04T09:29:56.397Z"
   },
   {
    "duration": 8,
    "start_time": "2022-09-04T09:29:56.401Z"
   },
   {
    "duration": 32,
    "start_time": "2022-09-04T09:29:56.410Z"
   },
   {
    "duration": 30,
    "start_time": "2022-09-04T09:29:56.444Z"
   },
   {
    "duration": 17,
    "start_time": "2022-09-04T09:29:56.476Z"
   },
   {
    "duration": 7,
    "start_time": "2022-09-04T09:29:56.494Z"
   },
   {
    "duration": 11,
    "start_time": "2022-09-04T09:29:56.502Z"
   },
   {
    "duration": 23,
    "start_time": "2022-09-04T09:29:56.515Z"
   },
   {
    "duration": 3,
    "start_time": "2022-09-04T09:29:56.540Z"
   },
   {
    "duration": 1731,
    "start_time": "2022-09-04T09:29:56.545Z"
   },
   {
    "duration": 2,
    "start_time": "2022-09-04T09:29:58.278Z"
   },
   {
    "duration": 11,
    "start_time": "2022-09-04T09:29:58.282Z"
   },
   {
    "duration": 137,
    "start_time": "2022-09-04T09:29:58.294Z"
   },
   {
    "duration": 12,
    "start_time": "2022-09-04T09:29:58.433Z"
   },
   {
    "duration": 19,
    "start_time": "2022-09-04T09:29:58.446Z"
   },
   {
    "duration": 3,
    "start_time": "2022-09-04T09:29:58.466Z"
   },
   {
    "duration": 773,
    "start_time": "2022-09-04T09:29:58.470Z"
   },
   {
    "duration": 94,
    "start_time": "2022-09-04T09:29:59.245Z"
   },
   {
    "duration": 101,
    "start_time": "2022-09-04T09:29:59.341Z"
   },
   {
    "duration": 151,
    "start_time": "2022-09-04T09:29:59.443Z"
   },
   {
    "duration": 191675,
    "start_time": "2022-09-04T09:29:59.596Z"
   },
   {
    "duration": 3,
    "start_time": "2022-09-04T09:33:11.273Z"
   },
   {
    "duration": 11,
    "start_time": "2022-09-04T09:33:11.277Z"
   },
   {
    "duration": 7381,
    "start_time": "2022-09-04T09:33:11.290Z"
   },
   {
    "duration": 144,
    "start_time": "2022-09-04T09:33:18.672Z"
   },
   {
    "duration": 341519,
    "start_time": "2022-09-04T09:33:18.818Z"
   },
   {
    "duration": 3,
    "start_time": "2022-09-04T09:39:00.339Z"
   },
   {
    "duration": 3,
    "start_time": "2022-09-04T09:43:45.228Z"
   },
   {
    "duration": 12265,
    "start_time": "2022-09-04T09:43:50.766Z"
   },
   {
    "duration": 176,
    "start_time": "2022-09-04T09:45:03.327Z"
   },
   {
    "duration": 37,
    "start_time": "2022-09-04T09:50:06.151Z"
   },
   {
    "duration": 17,
    "start_time": "2022-09-04T09:50:57.022Z"
   },
   {
    "duration": 12,
    "start_time": "2022-09-04T09:51:01.059Z"
   },
   {
    "duration": 6,
    "start_time": "2022-09-04T09:51:22.267Z"
   },
   {
    "duration": 52,
    "start_time": "2022-09-04T09:51:37.725Z"
   },
   {
    "duration": 9,
    "start_time": "2022-09-04T09:51:41.305Z"
   },
   {
    "duration": 18,
    "start_time": "2022-09-04T09:51:45.629Z"
   },
   {
    "duration": 10,
    "start_time": "2022-09-04T09:51:53.703Z"
   },
   {
    "duration": 16,
    "start_time": "2022-09-04T09:51:56.837Z"
   },
   {
    "duration": 8,
    "start_time": "2022-09-04T09:52:14.721Z"
   },
   {
    "duration": 18,
    "start_time": "2022-09-04T09:52:20.314Z"
   },
   {
    "duration": 1508,
    "start_time": "2022-09-04T09:52:38.319Z"
   },
   {
    "duration": 102,
    "start_time": "2022-09-04T09:52:39.829Z"
   },
   {
    "duration": 3,
    "start_time": "2022-09-04T09:52:39.933Z"
   },
   {
    "duration": 58,
    "start_time": "2022-09-04T09:52:39.939Z"
   },
   {
    "duration": 50,
    "start_time": "2022-09-04T09:52:40.000Z"
   },
   {
    "duration": 90,
    "start_time": "2022-09-04T09:52:40.051Z"
   },
   {
    "duration": 29,
    "start_time": "2022-09-04T09:52:40.143Z"
   },
   {
    "duration": 12,
    "start_time": "2022-09-04T09:52:40.174Z"
   },
   {
    "duration": 34,
    "start_time": "2022-09-04T09:52:40.188Z"
   },
   {
    "duration": 4,
    "start_time": "2022-09-04T09:52:40.238Z"
   },
   {
    "duration": 9,
    "start_time": "2022-09-04T09:52:40.243Z"
   },
   {
    "duration": 15,
    "start_time": "2022-09-04T09:52:40.254Z"
   },
   {
    "duration": 22,
    "start_time": "2022-09-04T09:52:40.271Z"
   },
   {
    "duration": 26,
    "start_time": "2022-09-04T09:52:40.299Z"
   },
   {
    "duration": 36,
    "start_time": "2022-09-04T09:52:40.327Z"
   },
   {
    "duration": 14,
    "start_time": "2022-09-04T09:52:40.365Z"
   },
   {
    "duration": 12,
    "start_time": "2022-09-04T09:52:40.381Z"
   },
   {
    "duration": 21,
    "start_time": "2022-09-04T09:52:40.395Z"
   },
   {
    "duration": 25,
    "start_time": "2022-09-04T09:52:40.418Z"
   },
   {
    "duration": 11,
    "start_time": "2022-09-04T09:52:40.445Z"
   },
   {
    "duration": 12,
    "start_time": "2022-09-04T09:52:40.457Z"
   },
   {
    "duration": 24,
    "start_time": "2022-09-04T09:52:40.471Z"
   },
   {
    "duration": 21,
    "start_time": "2022-09-04T09:52:40.497Z"
   },
   {
    "duration": 158,
    "start_time": "2022-09-04T09:52:40.519Z"
   },
   {
    "duration": 247,
    "start_time": "2022-09-04T09:52:40.679Z"
   },
   {
    "duration": 12,
    "start_time": "2022-09-04T09:52:40.927Z"
   },
   {
    "duration": 12,
    "start_time": "2022-09-04T09:52:40.941Z"
   },
   {
    "duration": 11,
    "start_time": "2022-09-04T09:52:40.955Z"
   },
   {
    "duration": 13,
    "start_time": "2022-09-04T09:52:40.967Z"
   },
   {
    "duration": 10,
    "start_time": "2022-09-04T09:52:40.981Z"
   },
   {
    "duration": 19,
    "start_time": "2022-09-04T09:52:40.993Z"
   },
   {
    "duration": 43,
    "start_time": "2022-09-04T09:52:41.013Z"
   },
   {
    "duration": 99,
    "start_time": "2022-09-04T09:52:41.057Z"
   },
   {
    "duration": 4,
    "start_time": "2022-09-04T09:52:41.157Z"
   },
   {
    "duration": 10,
    "start_time": "2022-09-04T09:52:41.162Z"
   },
   {
    "duration": 10,
    "start_time": "2022-09-04T09:52:41.173Z"
   },
   {
    "duration": 27,
    "start_time": "2022-09-04T09:52:41.184Z"
   },
   {
    "duration": 39,
    "start_time": "2022-09-04T09:52:41.213Z"
   },
   {
    "duration": 6,
    "start_time": "2022-09-04T09:52:41.254Z"
   },
   {
    "duration": 8,
    "start_time": "2022-09-04T09:52:41.261Z"
   },
   {
    "duration": 6,
    "start_time": "2022-09-04T09:52:41.272Z"
   },
   {
    "duration": 5,
    "start_time": "2022-09-04T09:52:41.279Z"
   },
   {
    "duration": 1471,
    "start_time": "2022-09-04T09:52:41.286Z"
   },
   {
    "duration": 6,
    "start_time": "2022-09-04T09:52:42.758Z"
   },
   {
    "duration": 118,
    "start_time": "2022-09-04T09:52:42.765Z"
   },
   {
    "duration": 9,
    "start_time": "2022-09-04T09:52:42.884Z"
   },
   {
    "duration": 16,
    "start_time": "2022-09-04T09:52:42.894Z"
   },
   {
    "duration": 3,
    "start_time": "2022-09-04T09:52:42.911Z"
   },
   {
    "duration": 822,
    "start_time": "2022-09-04T09:52:42.916Z"
   },
   {
    "duration": 7,
    "start_time": "2022-09-04T09:52:43.742Z"
   },
   {
    "duration": 87,
    "start_time": "2022-09-04T09:52:43.754Z"
   },
   {
    "duration": 143,
    "start_time": "2022-09-04T09:52:43.843Z"
   },
   {
    "duration": 210705,
    "start_time": "2022-09-04T09:52:43.987Z"
   },
   {
    "duration": 4,
    "start_time": "2022-09-04T09:56:14.694Z"
   },
   {
    "duration": 7643,
    "start_time": "2022-09-04T09:56:14.700Z"
   },
   {
    "duration": 153,
    "start_time": "2022-09-04T09:56:22.345Z"
   },
   {
    "duration": 550990,
    "start_time": "2022-09-04T09:56:22.500Z"
   },
   {
    "duration": 5,
    "start_time": "2022-09-04T10:05:33.492Z"
   },
   {
    "duration": 5,
    "start_time": "2022-09-04T10:05:33.498Z"
   },
   {
    "duration": 14605,
    "start_time": "2022-09-04T10:05:33.505Z"
   },
   {
    "duration": 144,
    "start_time": "2022-09-04T10:05:48.111Z"
   },
   {
    "duration": 2658,
    "start_time": "2022-09-05T06:35:09.836Z"
   },
   {
    "duration": 309,
    "start_time": "2022-09-05T06:35:12.497Z"
   },
   {
    "duration": 3,
    "start_time": "2022-09-05T06:35:12.807Z"
   },
   {
    "duration": 102,
    "start_time": "2022-09-05T06:35:12.813Z"
   },
   {
    "duration": 85,
    "start_time": "2022-09-05T06:35:12.916Z"
   },
   {
    "duration": 118,
    "start_time": "2022-09-05T06:35:13.003Z"
   },
   {
    "duration": 93,
    "start_time": "2022-09-05T06:35:13.123Z"
   },
   {
    "duration": 11,
    "start_time": "2022-09-05T06:36:12.690Z"
   },
   {
    "duration": 10,
    "start_time": "2022-09-05T06:36:13.306Z"
   },
   {
    "duration": 4,
    "start_time": "2022-09-05T06:36:14.769Z"
   },
   {
    "duration": 5,
    "start_time": "2022-09-05T06:36:15.162Z"
   },
   {
    "duration": 13,
    "start_time": "2022-09-05T06:36:16.034Z"
   },
   {
    "duration": 5,
    "start_time": "2022-09-05T06:36:19.986Z"
   },
   {
    "duration": 10,
    "start_time": "2022-09-05T06:36:20.314Z"
   },
   {
    "duration": 28,
    "start_time": "2022-09-05T06:36:20.961Z"
   },
   {
    "duration": 4,
    "start_time": "2022-09-05T06:36:23.546Z"
   },
   {
    "duration": 5,
    "start_time": "2022-09-05T06:36:25.002Z"
   },
   {
    "duration": 11,
    "start_time": "2022-09-05T06:36:25.514Z"
   },
   {
    "duration": 34,
    "start_time": "2022-09-05T06:36:42.051Z"
   },
   {
    "duration": 18,
    "start_time": "2022-09-05T06:36:44.203Z"
   },
   {
    "duration": 4,
    "start_time": "2022-09-05T06:37:18.029Z"
   },
   {
    "duration": 4,
    "start_time": "2022-09-05T06:37:18.515Z"
   },
   {
    "duration": 16,
    "start_time": "2022-09-05T06:37:42.988Z"
   },
   {
    "duration": 23,
    "start_time": "2022-09-05T06:37:43.186Z"
   },
   {
    "duration": 296,
    "start_time": "2022-09-05T06:37:49.404Z"
   },
   {
    "duration": 518,
    "start_time": "2022-09-05T06:37:50.285Z"
   },
   {
    "duration": 7,
    "start_time": "2022-09-05T06:39:07.367Z"
   },
   {
    "duration": 10,
    "start_time": "2022-09-05T06:39:08.191Z"
   },
   {
    "duration": 11,
    "start_time": "2022-09-05T06:39:10.838Z"
   },
   {
    "duration": 10,
    "start_time": "2022-09-05T06:39:11.334Z"
   },
   {
    "duration": 7,
    "start_time": "2022-09-05T06:39:12.550Z"
   },
   {
    "duration": 12,
    "start_time": "2022-09-05T06:39:12.895Z"
   },
   {
    "duration": 42,
    "start_time": "2022-09-05T06:39:16.750Z"
   },
   {
    "duration": 55,
    "start_time": "2022-09-05T06:39:17.431Z"
   },
   {
    "duration": 4,
    "start_time": "2022-09-05T06:39:31.191Z"
   },
   {
    "duration": 7,
    "start_time": "2022-09-05T06:39:34.336Z"
   },
   {
    "duration": 14,
    "start_time": "2022-09-05T06:39:44.808Z"
   },
   {
    "duration": 11,
    "start_time": "2022-09-05T06:40:00.983Z"
   },
   {
    "duration": 34,
    "start_time": "2022-09-05T06:40:05.392Z"
   },
   {
    "duration": 133,
    "start_time": "2022-09-05T06:40:05.793Z"
   },
   {
    "duration": 4,
    "start_time": "2022-09-05T06:40:09.697Z"
   },
   {
    "duration": 5,
    "start_time": "2022-09-05T06:40:10.064Z"
   },
   {
    "duration": 4,
    "start_time": "2022-09-05T06:42:49.184Z"
   },
   {
    "duration": 4,
    "start_time": "2022-09-05T06:42:50.134Z"
   },
   {
    "duration": 15,
    "start_time": "2022-09-05T06:42:50.686Z"
   },
   {
    "duration": 17,
    "start_time": "2022-09-05T06:42:52.045Z"
   },
   {
    "duration": 2574,
    "start_time": "2022-09-05T06:43:08.246Z"
   },
   {
    "duration": 127,
    "start_time": "2022-09-05T06:43:10.821Z"
   },
   {
    "duration": 36,
    "start_time": "2022-09-05T06:43:10.949Z"
   },
   {
    "duration": 40,
    "start_time": "2022-09-05T06:43:10.987Z"
   },
   {
    "duration": 26,
    "start_time": "2022-09-05T06:43:11.085Z"
   },
   {
    "duration": 105,
    "start_time": "2022-09-05T06:43:11.113Z"
   },
   {
    "duration": 93,
    "start_time": "2022-09-05T06:43:11.219Z"
   },
   {
    "duration": 10,
    "start_time": "2022-09-05T06:43:11.314Z"
   },
   {
    "duration": 11,
    "start_time": "2022-09-05T06:43:11.384Z"
   },
   {
    "duration": 10,
    "start_time": "2022-09-05T06:43:11.397Z"
   },
   {
    "duration": 7,
    "start_time": "2022-09-05T06:43:11.408Z"
   },
   {
    "duration": 22,
    "start_time": "2022-09-05T06:43:11.470Z"
   },
   {
    "duration": 4,
    "start_time": "2022-09-05T06:43:11.957Z"
   },
   {
    "duration": 8,
    "start_time": "2022-09-05T06:43:12.109Z"
   },
   {
    "duration": 17,
    "start_time": "2022-09-05T06:43:12.270Z"
   },
   {
    "duration": 4,
    "start_time": "2022-09-05T06:43:12.432Z"
   },
   {
    "duration": 4,
    "start_time": "2022-09-05T06:43:12.589Z"
   },
   {
    "duration": 11,
    "start_time": "2022-09-05T06:43:12.902Z"
   },
   {
    "duration": 14,
    "start_time": "2022-09-05T06:43:13.206Z"
   },
   {
    "duration": 6,
    "start_time": "2022-09-05T06:43:13.669Z"
   },
   {
    "duration": 4,
    "start_time": "2022-09-05T06:43:13.855Z"
   },
   {
    "duration": 12,
    "start_time": "2022-09-05T06:43:14.157Z"
   },
   {
    "duration": 19,
    "start_time": "2022-09-05T06:43:14.326Z"
   },
   {
    "duration": 296,
    "start_time": "2022-09-05T06:43:14.494Z"
   },
   {
    "duration": 418,
    "start_time": "2022-09-05T06:43:14.791Z"
   },
   {
    "duration": 9,
    "start_time": "2022-09-05T06:43:15.311Z"
   },
   {
    "duration": 25,
    "start_time": "2022-09-05T06:43:15.862Z"
   },
   {
    "duration": 10,
    "start_time": "2022-09-05T06:43:16.805Z"
   },
   {
    "duration": 10,
    "start_time": "2022-09-05T06:43:16.997Z"
   },
   {
    "duration": 8,
    "start_time": "2022-09-05T06:43:17.878Z"
   },
   {
    "duration": 10,
    "start_time": "2022-09-05T06:43:18.085Z"
   },
   {
    "duration": 22,
    "start_time": "2022-09-05T06:43:18.613Z"
   },
   {
    "duration": 19,
    "start_time": "2022-09-05T06:43:18.782Z"
   },
   {
    "duration": 3,
    "start_time": "2022-09-05T06:43:19.389Z"
   },
   {
    "duration": 7,
    "start_time": "2022-09-05T06:43:19.846Z"
   },
   {
    "duration": 14,
    "start_time": "2022-09-05T06:43:20.022Z"
   },
   {
    "duration": 38,
    "start_time": "2022-09-05T06:43:20.790Z"
   },
   {
    "duration": 130,
    "start_time": "2022-09-05T06:43:38.399Z"
   },
   {
    "duration": 48,
    "start_time": "2022-09-05T06:44:23.273Z"
   },
   {
    "duration": 49,
    "start_time": "2022-09-05T06:44:34.500Z"
   },
   {
    "duration": 203,
    "start_time": "2022-09-05T06:44:38.489Z"
   },
   {
    "duration": 4,
    "start_time": "2022-09-05T06:44:57.236Z"
   },
   {
    "duration": 12,
    "start_time": "2022-09-05T06:45:00.322Z"
   },
   {
    "duration": 2395,
    "start_time": "2022-09-05T06:48:49.823Z"
   },
   {
    "duration": 127,
    "start_time": "2022-09-05T06:48:52.219Z"
   },
   {
    "duration": 37,
    "start_time": "2022-09-05T06:48:52.347Z"
   },
   {
    "duration": 37,
    "start_time": "2022-09-05T06:48:52.386Z"
   },
   {
    "duration": 87,
    "start_time": "2022-09-05T06:48:52.425Z"
   },
   {
    "duration": 104,
    "start_time": "2022-09-05T06:48:52.514Z"
   },
   {
    "duration": 88,
    "start_time": "2022-09-05T06:48:52.620Z"
   },
   {
    "duration": 10,
    "start_time": "2022-09-05T06:48:52.710Z"
   },
   {
    "duration": 13,
    "start_time": "2022-09-05T06:48:52.784Z"
   },
   {
    "duration": 4,
    "start_time": "2022-09-05T06:48:52.800Z"
   },
   {
    "duration": 6,
    "start_time": "2022-09-05T06:48:52.805Z"
   },
   {
    "duration": 14,
    "start_time": "2022-09-05T06:48:52.911Z"
   },
   {
    "duration": 5,
    "start_time": "2022-09-05T06:48:53.351Z"
   },
   {
    "duration": 8,
    "start_time": "2022-09-05T06:48:53.511Z"
   },
   {
    "duration": 17,
    "start_time": "2022-09-05T06:48:53.671Z"
   },
   {
    "duration": 4,
    "start_time": "2022-09-05T06:48:53.823Z"
   },
   {
    "duration": 4,
    "start_time": "2022-09-05T06:48:53.967Z"
   },
   {
    "duration": 22,
    "start_time": "2022-09-05T06:48:54.264Z"
   },
   {
    "duration": 28,
    "start_time": "2022-09-05T06:48:54.568Z"
   },
   {
    "duration": 5,
    "start_time": "2022-09-05T06:48:54.999Z"
   },
   {
    "duration": 4,
    "start_time": "2022-09-05T06:48:55.127Z"
   },
   {
    "duration": 21,
    "start_time": "2022-09-05T06:48:55.471Z"
   },
   {
    "duration": 18,
    "start_time": "2022-09-05T06:48:55.624Z"
   },
   {
    "duration": 236,
    "start_time": "2022-09-05T06:48:55.784Z"
   },
   {
    "duration": 492,
    "start_time": "2022-09-05T06:48:56.022Z"
   },
   {
    "duration": 7,
    "start_time": "2022-09-05T06:48:56.516Z"
   },
   {
    "duration": 14,
    "start_time": "2022-09-05T06:48:56.590Z"
   },
   {
    "duration": 11,
    "start_time": "2022-09-05T06:48:57.751Z"
   },
   {
    "duration": 10,
    "start_time": "2022-09-05T06:48:57.913Z"
   },
   {
    "duration": 7,
    "start_time": "2022-09-05T06:48:58.535Z"
   },
   {
    "duration": 9,
    "start_time": "2022-09-05T06:48:58.704Z"
   },
   {
    "duration": 55,
    "start_time": "2022-09-05T06:48:59.135Z"
   },
   {
    "duration": 21,
    "start_time": "2022-09-05T06:48:59.304Z"
   },
   {
    "duration": 3,
    "start_time": "2022-09-05T06:48:59.596Z"
   },
   {
    "duration": 17,
    "start_time": "2022-09-05T06:48:59.768Z"
   },
   {
    "duration": 15,
    "start_time": "2022-09-05T06:49:00.080Z"
   },
   {
    "duration": 87,
    "start_time": "2022-09-05T06:49:01.000Z"
   },
   {
    "duration": 18,
    "start_time": "2022-09-05T06:49:02.296Z"
   },
   {
    "duration": 4,
    "start_time": "2022-09-05T06:49:07.568Z"
   },
   {
    "duration": 5,
    "start_time": "2022-09-05T06:49:07.928Z"
   },
   {
    "duration": 6,
    "start_time": "2022-09-05T06:49:13.280Z"
   },
   {
    "duration": 3,
    "start_time": "2022-09-05T06:49:43.768Z"
   },
   {
    "duration": 2922,
    "start_time": "2022-09-05T06:49:45.890Z"
   },
   {
    "duration": 5,
    "start_time": "2022-09-05T06:50:32.498Z"
   },
   {
    "duration": 241,
    "start_time": "2022-09-05T06:50:33.058Z"
   },
   {
    "duration": 9,
    "start_time": "2022-09-05T06:51:02.987Z"
   },
   {
    "duration": 50,
    "start_time": "2022-09-05T06:51:03.835Z"
   },
   {
    "duration": 3,
    "start_time": "2022-09-05T06:51:23.428Z"
   },
   {
    "duration": 2,
    "start_time": "2022-09-05T06:51:34.133Z"
   },
   {
    "duration": 686,
    "start_time": "2022-09-05T06:51:36.509Z"
   },
   {
    "duration": 19,
    "start_time": "2022-09-05T06:51:50.525Z"
   },
   {
    "duration": 3,
    "start_time": "2022-09-05T06:58:31.361Z"
   },
   {
    "duration": 7,
    "start_time": "2022-09-05T06:58:31.568Z"
   },
   {
    "duration": 288,
    "start_time": "2022-09-05T06:58:33.435Z"
   },
   {
    "duration": 75451,
    "start_time": "2022-09-05T06:59:27.138Z"
   },
   {
    "duration": 4,
    "start_time": "2022-09-05T07:00:42.591Z"
   },
   {
    "duration": 48,
    "start_time": "2022-09-05T07:00:42.596Z"
   },
   {
    "duration": 3,
    "start_time": "2022-09-05T07:03:56.091Z"
   },
   {
    "duration": 15664,
    "start_time": "2022-09-05T07:04:06.746Z"
   },
   {
    "duration": 254,
    "start_time": "2022-09-05T07:04:58.236Z"
   },
   {
    "duration": 1813,
    "start_time": "2022-09-05T15:10:16.812Z"
   },
   {
    "duration": 432,
    "start_time": "2022-09-05T15:10:18.628Z"
   },
   {
    "duration": 3,
    "start_time": "2022-09-05T15:10:19.062Z"
   },
   {
    "duration": 54,
    "start_time": "2022-09-05T15:10:19.067Z"
   },
   {
    "duration": 36,
    "start_time": "2022-09-05T15:10:19.124Z"
   },
   {
    "duration": 90,
    "start_time": "2022-09-05T15:10:19.162Z"
   },
   {
    "duration": 62,
    "start_time": "2022-09-05T15:10:19.253Z"
   },
   {
    "duration": 13,
    "start_time": "2022-09-05T15:10:19.317Z"
   },
   {
    "duration": 15,
    "start_time": "2022-09-05T15:10:19.332Z"
   },
   {
    "duration": 12,
    "start_time": "2022-09-05T15:10:19.349Z"
   },
   {
    "duration": 7,
    "start_time": "2022-09-05T15:10:19.363Z"
   },
   {
    "duration": 35,
    "start_time": "2022-09-05T15:10:19.371Z"
   },
   {
    "duration": 5,
    "start_time": "2022-09-05T15:10:19.408Z"
   },
   {
    "duration": 17,
    "start_time": "2022-09-05T15:10:19.416Z"
   },
   {
    "duration": 12,
    "start_time": "2022-09-05T15:10:19.434Z"
   },
   {
    "duration": 6,
    "start_time": "2022-09-05T15:10:19.448Z"
   },
   {
    "duration": 6,
    "start_time": "2022-09-05T15:10:19.456Z"
   },
   {
    "duration": 14,
    "start_time": "2022-09-05T15:10:19.463Z"
   },
   {
    "duration": 44,
    "start_time": "2022-09-05T15:10:19.479Z"
   },
   {
    "duration": 12,
    "start_time": "2022-09-05T15:10:19.525Z"
   },
   {
    "duration": 13,
    "start_time": "2022-09-05T15:10:19.538Z"
   },
   {
    "duration": 26,
    "start_time": "2022-09-05T15:10:19.553Z"
   },
   {
    "duration": 28,
    "start_time": "2022-09-05T15:10:19.581Z"
   },
   {
    "duration": 203,
    "start_time": "2022-09-05T15:10:19.611Z"
   },
   {
    "duration": 367,
    "start_time": "2022-09-05T15:10:19.816Z"
   },
   {
    "duration": 52,
    "start_time": "2022-09-05T15:11:06.925Z"
   },
   {
    "duration": 22,
    "start_time": "2022-09-05T15:11:10.988Z"
   },
   {
    "duration": 7,
    "start_time": "2022-09-05T15:11:23.455Z"
   },
   {
    "duration": 162,
    "start_time": "2022-09-05T15:11:27.487Z"
   },
   {
    "duration": 200,
    "start_time": "2022-09-05T15:11:38.847Z"
   },
   {
    "duration": 160,
    "start_time": "2022-09-05T15:12:35.225Z"
   },
   {
    "duration": 191,
    "start_time": "2022-09-05T15:12:46.886Z"
   },
   {
    "duration": 298,
    "start_time": "2022-09-05T15:15:22.276Z"
   },
   {
    "duration": 276,
    "start_time": "2022-09-05T15:15:31.539Z"
   },
   {
    "duration": 288,
    "start_time": "2022-09-05T15:15:41.491Z"
   },
   {
    "duration": 380,
    "start_time": "2022-09-05T15:15:46.837Z"
   },
   {
    "duration": 275,
    "start_time": "2022-09-05T15:16:00.601Z"
   },
   {
    "duration": 302,
    "start_time": "2022-09-05T15:16:16.024Z"
   },
   {
    "duration": 204,
    "start_time": "2022-09-05T15:16:39.031Z"
   },
   {
    "duration": 175,
    "start_time": "2022-09-05T15:16:43.244Z"
   },
   {
    "duration": 121,
    "start_time": "2022-09-05T15:17:24.797Z"
   },
   {
    "duration": 121,
    "start_time": "2022-09-05T15:17:32.924Z"
   },
   {
    "duration": 204,
    "start_time": "2022-09-05T15:17:48.282Z"
   },
   {
    "duration": 1005,
    "start_time": "2022-09-05T15:20:00.571Z"
   },
   {
    "duration": 107,
    "start_time": "2022-09-05T15:26:16.307Z"
   },
   {
    "duration": 153,
    "start_time": "2022-09-05T15:26:29.978Z"
   },
   {
    "duration": 153,
    "start_time": "2022-09-05T15:26:41.936Z"
   },
   {
    "duration": 299,
    "start_time": "2022-09-05T15:26:53.348Z"
   },
   {
    "duration": 205,
    "start_time": "2022-09-05T15:26:57.868Z"
   },
   {
    "duration": 213,
    "start_time": "2022-09-05T15:27:07.872Z"
   },
   {
    "duration": 206,
    "start_time": "2022-09-05T15:27:34.790Z"
   },
   {
    "duration": 5,
    "start_time": "2022-09-05T15:35:46.260Z"
   },
   {
    "duration": 108,
    "start_time": "2022-09-05T15:35:46.269Z"
   },
   {
    "duration": 3,
    "start_time": "2022-09-05T15:35:46.379Z"
   },
   {
    "duration": 50,
    "start_time": "2022-09-05T15:35:46.384Z"
   },
   {
    "duration": 31,
    "start_time": "2022-09-05T15:35:46.436Z"
   },
   {
    "duration": 82,
    "start_time": "2022-09-05T15:35:46.469Z"
   },
   {
    "duration": 55,
    "start_time": "2022-09-05T15:35:46.552Z"
   },
   {
    "duration": 12,
    "start_time": "2022-09-05T15:35:46.609Z"
   },
   {
    "duration": 12,
    "start_time": "2022-09-05T15:35:46.623Z"
   },
   {
    "duration": 6,
    "start_time": "2022-09-05T15:35:46.637Z"
   },
   {
    "duration": 6,
    "start_time": "2022-09-05T15:35:46.645Z"
   },
   {
    "duration": 14,
    "start_time": "2022-09-05T15:35:46.653Z"
   },
   {
    "duration": 35,
    "start_time": "2022-09-05T15:35:46.669Z"
   },
   {
    "duration": 9,
    "start_time": "2022-09-05T15:35:46.706Z"
   },
   {
    "duration": 13,
    "start_time": "2022-09-05T15:35:46.716Z"
   },
   {
    "duration": 4,
    "start_time": "2022-09-05T15:35:46.731Z"
   },
   {
    "duration": 6,
    "start_time": "2022-09-05T15:35:46.736Z"
   },
   {
    "duration": 15,
    "start_time": "2022-09-05T15:35:46.743Z"
   },
   {
    "duration": 44,
    "start_time": "2022-09-05T15:35:46.760Z"
   },
   {
    "duration": 6,
    "start_time": "2022-09-05T15:35:46.806Z"
   },
   {
    "duration": 13,
    "start_time": "2022-09-05T15:35:46.814Z"
   },
   {
    "duration": 15,
    "start_time": "2022-09-05T15:35:46.829Z"
   },
   {
    "duration": 23,
    "start_time": "2022-09-05T15:35:46.845Z"
   },
   {
    "duration": 170,
    "start_time": "2022-09-05T15:35:46.870Z"
   },
   {
    "duration": 262,
    "start_time": "2022-09-05T15:35:47.042Z"
   },
   {
    "duration": 235,
    "start_time": "2022-09-05T15:35:47.305Z"
   },
   {
    "duration": 10,
    "start_time": "2022-09-05T15:35:47.541Z"
   },
   {
    "duration": 19,
    "start_time": "2022-09-05T15:35:47.553Z"
   },
   {
    "duration": 27,
    "start_time": "2022-09-05T15:35:47.577Z"
   },
   {
    "duration": 11,
    "start_time": "2022-09-05T15:35:47.607Z"
   },
   {
    "duration": 7,
    "start_time": "2022-09-05T15:35:47.620Z"
   },
   {
    "duration": 15,
    "start_time": "2022-09-05T15:35:47.629Z"
   },
   {
    "duration": 33,
    "start_time": "2022-09-05T15:35:47.646Z"
   },
   {
    "duration": 25,
    "start_time": "2022-09-05T15:35:47.702Z"
   },
   {
    "duration": 4,
    "start_time": "2022-09-05T15:35:47.728Z"
   },
   {
    "duration": 11,
    "start_time": "2022-09-05T15:35:47.734Z"
   },
   {
    "duration": 12,
    "start_time": "2022-09-05T15:35:47.747Z"
   },
   {
    "duration": 24,
    "start_time": "2022-09-05T15:38:55.092Z"
   },
   {
    "duration": 19,
    "start_time": "2022-09-05T15:39:11.294Z"
   },
   {
    "duration": 4,
    "start_time": "2022-09-05T15:40:07.382Z"
   },
   {
    "duration": 6,
    "start_time": "2022-09-05T15:40:08.891Z"
   },
   {
    "duration": 25,
    "start_time": "2022-09-05T15:40:16.331Z"
   },
   {
    "duration": 6,
    "start_time": "2022-09-05T15:40:26.334Z"
   },
   {
    "duration": 4,
    "start_time": "2022-09-05T15:40:32.571Z"
   },
   {
    "duration": 1852,
    "start_time": "2022-09-05T15:40:33.281Z"
   },
   {
    "duration": 10,
    "start_time": "2022-09-05T15:42:25.676Z"
   },
   {
    "duration": 4,
    "start_time": "2022-09-05T15:50:05.335Z"
   },
   {
    "duration": 4,
    "start_time": "2022-09-05T15:50:14.506Z"
   },
   {
    "duration": 1524,
    "start_time": "2022-09-05T15:51:58.822Z"
   },
   {
    "duration": 112,
    "start_time": "2022-09-05T15:52:00.348Z"
   },
   {
    "duration": 3,
    "start_time": "2022-09-05T15:52:00.462Z"
   },
   {
    "duration": 79,
    "start_time": "2022-09-05T15:52:00.468Z"
   },
   {
    "duration": 33,
    "start_time": "2022-09-05T15:52:00.549Z"
   },
   {
    "duration": 54,
    "start_time": "2022-09-05T15:52:00.603Z"
   },
   {
    "duration": 57,
    "start_time": "2022-09-05T15:52:00.659Z"
   },
   {
    "duration": 15,
    "start_time": "2022-09-05T15:52:00.718Z"
   },
   {
    "duration": 12,
    "start_time": "2022-09-05T15:52:00.735Z"
   },
   {
    "duration": 20,
    "start_time": "2022-09-05T15:52:00.749Z"
   },
   {
    "duration": 38,
    "start_time": "2022-09-05T15:52:00.770Z"
   },
   {
    "duration": 26,
    "start_time": "2022-09-05T15:52:00.810Z"
   },
   {
    "duration": 9,
    "start_time": "2022-09-05T15:52:00.838Z"
   },
   {
    "duration": 19,
    "start_time": "2022-09-05T15:52:00.849Z"
   },
   {
    "duration": 27,
    "start_time": "2022-09-05T15:52:00.870Z"
   },
   {
    "duration": 6,
    "start_time": "2022-09-05T15:52:00.899Z"
   },
   {
    "duration": 8,
    "start_time": "2022-09-05T15:52:00.906Z"
   },
   {
    "duration": 33,
    "start_time": "2022-09-05T15:52:00.915Z"
   },
   {
    "duration": 24,
    "start_time": "2022-09-05T15:52:00.949Z"
   },
   {
    "duration": 9,
    "start_time": "2022-09-05T15:52:00.975Z"
   },
   {
    "duration": 21,
    "start_time": "2022-09-05T15:52:00.986Z"
   },
   {
    "duration": 24,
    "start_time": "2022-09-05T15:52:01.009Z"
   },
   {
    "duration": 30,
    "start_time": "2022-09-05T15:52:01.035Z"
   },
   {
    "duration": 177,
    "start_time": "2022-09-05T15:52:01.066Z"
   },
   {
    "duration": 290,
    "start_time": "2022-09-05T15:52:01.245Z"
   },
   {
    "duration": 312,
    "start_time": "2022-09-05T15:52:01.538Z"
   },
   {
    "duration": 10,
    "start_time": "2022-09-05T15:52:01.853Z"
   },
   {
    "duration": 33,
    "start_time": "2022-09-05T15:52:01.869Z"
   },
   {
    "duration": 24,
    "start_time": "2022-09-05T15:52:01.905Z"
   },
   {
    "duration": 19,
    "start_time": "2022-09-05T15:52:01.931Z"
   },
   {
    "duration": 15,
    "start_time": "2022-09-05T15:52:01.952Z"
   },
   {
    "duration": 19,
    "start_time": "2022-09-05T15:52:01.969Z"
   },
   {
    "duration": 42,
    "start_time": "2022-09-05T15:52:01.990Z"
   },
   {
    "duration": 24,
    "start_time": "2022-09-05T15:52:02.034Z"
   },
   {
    "duration": 3,
    "start_time": "2022-09-05T15:52:02.060Z"
   },
   {
    "duration": 14,
    "start_time": "2022-09-05T15:52:02.065Z"
   },
   {
    "duration": 47,
    "start_time": "2022-09-05T15:52:02.080Z"
   },
   {
    "duration": 36,
    "start_time": "2022-09-05T15:52:02.129Z"
   },
   {
    "duration": 3,
    "start_time": "2022-09-05T15:52:02.167Z"
   },
   {
    "duration": 24,
    "start_time": "2022-09-05T15:52:02.171Z"
   },
   {
    "duration": 20,
    "start_time": "2022-09-05T15:52:02.197Z"
   },
   {
    "duration": 7,
    "start_time": "2022-09-05T15:52:02.219Z"
   },
   {
    "duration": 12,
    "start_time": "2022-09-05T15:52:02.227Z"
   },
   {
    "duration": 15,
    "start_time": "2022-09-05T15:52:02.241Z"
   },
   {
    "duration": 5,
    "start_time": "2022-09-05T15:52:02.258Z"
   },
   {
    "duration": 1697,
    "start_time": "2022-09-05T15:52:02.264Z"
   },
   {
    "duration": 10,
    "start_time": "2022-09-05T15:52:03.963Z"
   },
   {
    "duration": 7,
    "start_time": "2022-09-05T15:52:03.975Z"
   },
   {
    "duration": 139,
    "start_time": "2022-09-05T15:52:03.984Z"
   },
   {
    "duration": 9,
    "start_time": "2022-09-05T15:52:04.125Z"
   },
   {
    "duration": 20,
    "start_time": "2022-09-05T15:52:04.136Z"
   },
   {
    "duration": 3,
    "start_time": "2022-09-05T15:52:04.157Z"
   },
   {
    "duration": 688,
    "start_time": "2022-09-05T15:52:23.622Z"
   },
   {
    "duration": 119,
    "start_time": "2022-09-05T15:52:44.458Z"
   },
   {
    "duration": 1532,
    "start_time": "2022-09-05T15:56:32.522Z"
   },
   {
    "duration": 106,
    "start_time": "2022-09-05T15:56:34.056Z"
   },
   {
    "duration": 3,
    "start_time": "2022-09-05T15:56:34.164Z"
   },
   {
    "duration": 49,
    "start_time": "2022-09-05T15:56:34.169Z"
   },
   {
    "duration": 30,
    "start_time": "2022-09-05T15:56:34.220Z"
   },
   {
    "duration": 80,
    "start_time": "2022-09-05T15:56:34.251Z"
   },
   {
    "duration": 36,
    "start_time": "2022-09-05T15:56:34.333Z"
   },
   {
    "duration": 36,
    "start_time": "2022-09-05T15:56:34.371Z"
   },
   {
    "duration": 12,
    "start_time": "2022-09-05T15:56:34.409Z"
   },
   {
    "duration": 6,
    "start_time": "2022-09-05T15:56:34.425Z"
   },
   {
    "duration": 8,
    "start_time": "2022-09-05T15:56:34.432Z"
   },
   {
    "duration": 20,
    "start_time": "2022-09-05T15:56:34.441Z"
   },
   {
    "duration": 6,
    "start_time": "2022-09-05T15:56:34.463Z"
   },
   {
    "duration": 38,
    "start_time": "2022-09-05T15:56:34.471Z"
   },
   {
    "duration": 23,
    "start_time": "2022-09-05T15:56:34.511Z"
   },
   {
    "duration": 4,
    "start_time": "2022-09-05T15:56:34.536Z"
   },
   {
    "duration": 10,
    "start_time": "2022-09-05T15:56:34.542Z"
   },
   {
    "duration": 16,
    "start_time": "2022-09-05T15:56:34.554Z"
   },
   {
    "duration": 32,
    "start_time": "2022-09-05T15:56:34.572Z"
   },
   {
    "duration": 5,
    "start_time": "2022-09-05T15:56:34.606Z"
   },
   {
    "duration": 11,
    "start_time": "2022-09-05T15:56:34.613Z"
   },
   {
    "duration": 17,
    "start_time": "2022-09-05T15:56:34.626Z"
   },
   {
    "duration": 22,
    "start_time": "2022-09-05T15:56:34.644Z"
   },
   {
    "duration": 187,
    "start_time": "2022-09-05T15:56:34.668Z"
   },
   {
    "duration": 262,
    "start_time": "2022-09-05T15:56:34.857Z"
   },
   {
    "duration": 309,
    "start_time": "2022-09-05T15:56:35.122Z"
   },
   {
    "duration": 10,
    "start_time": "2022-09-05T15:56:35.433Z"
   },
   {
    "duration": 12,
    "start_time": "2022-09-05T15:56:35.446Z"
   },
   {
    "duration": 13,
    "start_time": "2022-09-05T15:56:35.460Z"
   },
   {
    "duration": 34,
    "start_time": "2022-09-05T15:56:35.474Z"
   },
   {
    "duration": 22,
    "start_time": "2022-09-05T15:56:35.510Z"
   },
   {
    "duration": 21,
    "start_time": "2022-09-05T15:56:35.534Z"
   },
   {
    "duration": 34,
    "start_time": "2022-09-05T15:56:35.557Z"
   },
   {
    "duration": 24,
    "start_time": "2022-09-05T15:56:35.593Z"
   },
   {
    "duration": 4,
    "start_time": "2022-09-05T15:56:35.619Z"
   },
   {
    "duration": 9,
    "start_time": "2022-09-05T15:56:35.625Z"
   },
   {
    "duration": 9,
    "start_time": "2022-09-05T15:56:35.636Z"
   },
   {
    "duration": 30,
    "start_time": "2022-09-05T15:56:35.646Z"
   },
   {
    "duration": 2,
    "start_time": "2022-09-05T15:56:35.678Z"
   },
   {
    "duration": 4,
    "start_time": "2022-09-05T15:56:35.703Z"
   },
   {
    "duration": 16,
    "start_time": "2022-09-05T15:56:35.709Z"
   },
   {
    "duration": 5,
    "start_time": "2022-09-05T15:56:35.727Z"
   },
   {
    "duration": 8,
    "start_time": "2022-09-05T15:56:35.733Z"
   },
   {
    "duration": 7,
    "start_time": "2022-09-05T15:56:35.742Z"
   },
   {
    "duration": 7,
    "start_time": "2022-09-05T15:56:35.750Z"
   },
   {
    "duration": 1691,
    "start_time": "2022-09-05T15:56:35.758Z"
   },
   {
    "duration": 13,
    "start_time": "2022-09-05T15:56:37.452Z"
   },
   {
    "duration": 16,
    "start_time": "2022-09-05T15:56:37.467Z"
   },
   {
    "duration": 157,
    "start_time": "2022-09-05T15:56:37.485Z"
   },
   {
    "duration": 10,
    "start_time": "2022-09-05T15:56:37.644Z"
   },
   {
    "duration": 25,
    "start_time": "2022-09-05T15:56:37.656Z"
   },
   {
    "duration": 3,
    "start_time": "2022-09-05T15:56:37.683Z"
   },
   {
    "duration": 719,
    "start_time": "2022-09-05T15:56:37.688Z"
   },
   {
    "duration": 2,
    "start_time": "2022-09-05T15:56:38.409Z"
   },
   {
    "duration": 100,
    "start_time": "2022-09-05T15:56:38.414Z"
   },
   {
    "duration": 87,
    "start_time": "2022-09-05T15:56:38.516Z"
   },
   {
    "duration": 204013,
    "start_time": "2022-09-05T15:56:38.605Z"
   },
   {
    "duration": 4,
    "start_time": "2022-09-05T16:00:02.620Z"
   },
   {
    "duration": 684,
    "start_time": "2022-09-05T16:00:02.626Z"
   },
   {
    "duration": 3,
    "start_time": "2022-09-05T16:00:03.312Z"
   },
   {
    "duration": 2586473,
    "start_time": "2022-09-05T16:00:03.317Z"
   },
   {
    "duration": 4,
    "start_time": "2022-09-05T16:43:09.792Z"
   },
   {
    "duration": 4122,
    "start_time": "2022-09-05T16:43:09.797Z"
   },
   {
    "duration": 3,
    "start_time": "2022-09-05T16:43:13.921Z"
   },
   {
    "duration": 5,
    "start_time": "2022-09-05T16:43:13.933Z"
   },
   {
    "duration": 2,
    "start_time": "2022-09-05T16:43:13.942Z"
   },
   {
    "duration": 9,
    "start_time": "2022-09-05T16:44:56.142Z"
   },
   {
    "duration": 3,
    "start_time": "2022-09-05T16:44:58.340Z"
   },
   {
    "duration": 6,
    "start_time": "2022-09-05T16:44:59.284Z"
   },
   {
    "duration": 248,
    "start_time": "2022-09-05T16:45:00.800Z"
   },
   {
    "duration": 152,
    "start_time": "2022-09-05T16:45:45.839Z"
   },
   {
    "duration": 11,
    "start_time": "2022-09-05T16:45:54.981Z"
   },
   {
    "duration": 342,
    "start_time": "2022-09-05T16:45:56.364Z"
   },
   {
    "duration": 341,
    "start_time": "2022-09-05T16:47:06.397Z"
   },
   {
    "duration": 2071,
    "start_time": "2022-09-06T07:37:22.686Z"
   },
   {
    "duration": 324,
    "start_time": "2022-09-06T07:37:24.759Z"
   },
   {
    "duration": 4,
    "start_time": "2022-09-06T07:37:25.085Z"
   },
   {
    "duration": 47,
    "start_time": "2022-09-06T07:37:25.091Z"
   },
   {
    "duration": 42,
    "start_time": "2022-09-06T07:37:25.140Z"
   },
   {
    "duration": 74,
    "start_time": "2022-09-06T07:37:25.184Z"
   },
   {
    "duration": 28,
    "start_time": "2022-09-06T07:37:25.260Z"
   },
   {
    "duration": 12,
    "start_time": "2022-09-06T07:37:25.290Z"
   },
   {
    "duration": 42,
    "start_time": "2022-09-06T07:37:25.304Z"
   },
   {
    "duration": 3,
    "start_time": "2022-09-06T07:37:25.518Z"
   },
   {
    "duration": 6,
    "start_time": "2022-09-06T07:37:25.683Z"
   },
   {
    "duration": 17,
    "start_time": "2022-09-06T07:37:25.988Z"
   },
   {
    "duration": 5,
    "start_time": "2022-09-06T07:37:26.444Z"
   },
   {
    "duration": 11,
    "start_time": "2022-09-06T07:37:26.571Z"
   },
   {
    "duration": 17,
    "start_time": "2022-09-06T07:37:26.738Z"
   },
   {
    "duration": 5,
    "start_time": "2022-09-06T07:37:26.883Z"
   },
   {
    "duration": 5,
    "start_time": "2022-09-06T07:37:27.066Z"
   },
   {
    "duration": 12,
    "start_time": "2022-09-06T07:37:27.330Z"
   },
   {
    "duration": 16,
    "start_time": "2022-09-06T07:37:27.698Z"
   },
   {
    "duration": 5,
    "start_time": "2022-09-06T07:37:28.179Z"
   },
   {
    "duration": 6,
    "start_time": "2022-09-06T07:37:28.364Z"
   },
   {
    "duration": 20,
    "start_time": "2022-09-06T07:37:29.172Z"
   },
   {
    "duration": 27,
    "start_time": "2022-09-06T07:37:29.356Z"
   },
   {
    "duration": 162,
    "start_time": "2022-09-06T07:37:29.523Z"
   },
   {
    "duration": 310,
    "start_time": "2022-09-06T07:37:29.687Z"
   },
   {
    "duration": 355,
    "start_time": "2022-09-06T07:37:30.155Z"
   },
   {
    "duration": 423,
    "start_time": "2022-09-06T07:38:35.961Z"
   },
   {
    "duration": 442,
    "start_time": "2022-09-06T07:38:52.767Z"
   },
   {
    "duration": 11,
    "start_time": "2022-09-06T07:41:40.160Z"
   },
   {
    "duration": 17,
    "start_time": "2022-09-06T07:41:40.473Z"
   },
   {
    "duration": 17,
    "start_time": "2022-09-06T07:41:41.047Z"
   },
   {
    "duration": 12,
    "start_time": "2022-09-06T07:41:41.237Z"
   },
   {
    "duration": 7,
    "start_time": "2022-09-06T07:41:42.120Z"
   },
   {
    "duration": 14,
    "start_time": "2022-09-06T07:41:42.240Z"
   },
   {
    "duration": 24,
    "start_time": "2022-09-06T07:41:42.751Z"
   },
   {
    "duration": 23,
    "start_time": "2022-09-06T07:41:43.080Z"
   },
   {
    "duration": 6,
    "start_time": "2022-09-06T07:41:43.474Z"
   },
   {
    "duration": 7,
    "start_time": "2022-09-06T07:41:44.128Z"
   },
   {
    "duration": 12,
    "start_time": "2022-09-06T07:41:44.352Z"
   },
   {
    "duration": 23,
    "start_time": "2022-09-06T07:41:45.087Z"
   },
   {
    "duration": 2,
    "start_time": "2022-09-06T07:41:45.271Z"
   },
   {
    "duration": 3,
    "start_time": "2022-09-06T07:41:45.719Z"
   },
   {
    "duration": 17,
    "start_time": "2022-09-06T07:41:45.880Z"
   },
   {
    "duration": 4,
    "start_time": "2022-09-06T07:41:46.040Z"
   },
   {
    "duration": 5,
    "start_time": "2022-09-06T07:41:46.630Z"
   },
   {
    "duration": 5,
    "start_time": "2022-09-06T07:41:47.224Z"
   },
   {
    "duration": 103,
    "start_time": "2022-09-06T07:42:20.160Z"
   },
   {
    "duration": 25,
    "start_time": "2022-09-06T07:42:25.278Z"
   },
   {
    "duration": 16,
    "start_time": "2022-09-06T07:42:45.429Z"
   },
   {
    "duration": 4,
    "start_time": "2022-09-06T07:43:04.046Z"
   },
   {
    "duration": 1650,
    "start_time": "2022-09-06T07:43:04.223Z"
   },
   {
    "duration": 11,
    "start_time": "2022-09-06T07:43:10.128Z"
   },
   {
    "duration": 1853,
    "start_time": "2022-09-06T07:53:19.213Z"
   },
   {
    "duration": 107,
    "start_time": "2022-09-06T07:53:21.068Z"
   },
   {
    "duration": 4,
    "start_time": "2022-09-06T07:53:21.176Z"
   },
   {
    "duration": 47,
    "start_time": "2022-09-06T07:53:21.181Z"
   },
   {
    "duration": 43,
    "start_time": "2022-09-06T07:53:21.229Z"
   },
   {
    "duration": 47,
    "start_time": "2022-09-06T07:53:21.273Z"
   },
   {
    "duration": 35,
    "start_time": "2022-09-06T07:53:21.322Z"
   },
   {
    "duration": 12,
    "start_time": "2022-09-06T07:53:21.793Z"
   },
   {
    "duration": 12,
    "start_time": "2022-09-06T07:53:21.807Z"
   },
   {
    "duration": 4,
    "start_time": "2022-09-06T07:53:21.925Z"
   },
   {
    "duration": 5,
    "start_time": "2022-09-06T07:53:22.084Z"
   },
   {
    "duration": 11,
    "start_time": "2022-09-06T07:53:22.381Z"
   },
   {
    "duration": 4,
    "start_time": "2022-09-06T07:53:22.846Z"
   },
   {
    "duration": 8,
    "start_time": "2022-09-06T07:53:22.998Z"
   },
   {
    "duration": 12,
    "start_time": "2022-09-06T07:53:23.126Z"
   },
   {
    "duration": 5,
    "start_time": "2022-09-06T07:53:23.566Z"
   },
   {
    "duration": 5,
    "start_time": "2022-09-06T07:53:23.912Z"
   },
   {
    "duration": 16,
    "start_time": "2022-09-06T07:53:24.216Z"
   },
   {
    "duration": 15,
    "start_time": "2022-09-06T07:53:24.526Z"
   },
   {
    "duration": 7,
    "start_time": "2022-09-06T07:53:25.008Z"
   },
   {
    "duration": 5,
    "start_time": "2022-09-06T07:53:25.166Z"
   },
   {
    "duration": 17,
    "start_time": "2022-09-06T07:53:25.477Z"
   },
   {
    "duration": 20,
    "start_time": "2022-09-06T07:53:25.990Z"
   },
   {
    "duration": 188,
    "start_time": "2022-09-06T07:53:26.133Z"
   },
   {
    "duration": 311,
    "start_time": "2022-09-06T07:53:26.323Z"
   },
   {
    "duration": 283,
    "start_time": "2022-09-06T07:53:26.639Z"
   },
   {
    "duration": 9,
    "start_time": "2022-09-06T07:53:27.221Z"
   },
   {
    "duration": 16,
    "start_time": "2022-09-06T07:53:27.390Z"
   },
   {
    "duration": 10,
    "start_time": "2022-09-06T07:53:28.038Z"
   },
   {
    "duration": 10,
    "start_time": "2022-09-06T07:53:28.190Z"
   },
   {
    "duration": 8,
    "start_time": "2022-09-06T07:53:28.798Z"
   },
   {
    "duration": 12,
    "start_time": "2022-09-06T07:53:28.937Z"
   },
   {
    "duration": 25,
    "start_time": "2022-09-06T07:53:29.715Z"
   },
   {
    "duration": 23,
    "start_time": "2022-09-06T07:53:29.870Z"
   },
   {
    "duration": 3,
    "start_time": "2022-09-06T07:53:30.198Z"
   },
   {
    "duration": 8,
    "start_time": "2022-09-06T07:53:30.343Z"
   },
   {
    "duration": 8,
    "start_time": "2022-09-06T07:53:30.486Z"
   },
   {
    "duration": 23,
    "start_time": "2022-09-06T07:53:31.341Z"
   },
   {
    "duration": 3,
    "start_time": "2022-09-06T07:53:31.534Z"
   },
   {
    "duration": 2,
    "start_time": "2022-09-06T07:53:32.015Z"
   },
   {
    "duration": 11,
    "start_time": "2022-09-06T07:53:32.158Z"
   },
   {
    "duration": 4,
    "start_time": "2022-09-06T07:53:32.350Z"
   },
   {
    "duration": 5,
    "start_time": "2022-09-06T07:53:32.516Z"
   },
   {
    "duration": 5,
    "start_time": "2022-09-06T07:53:32.853Z"
   },
   {
    "duration": 4,
    "start_time": "2022-09-06T07:53:33.416Z"
   },
   {
    "duration": 1499,
    "start_time": "2022-09-06T07:53:33.598Z"
   },
   {
    "duration": 11,
    "start_time": "2022-09-06T07:53:35.100Z"
   },
   {
    "duration": 7,
    "start_time": "2022-09-06T07:53:42.525Z"
   },
   {
    "duration": 132,
    "start_time": "2022-09-06T07:53:42.694Z"
   },
   {
    "duration": 8,
    "start_time": "2022-09-06T07:53:43.231Z"
   },
   {
    "duration": 15,
    "start_time": "2022-09-06T07:53:43.629Z"
   },
   {
    "duration": 2,
    "start_time": "2022-09-06T07:53:45.949Z"
   },
   {
    "duration": 11,
    "start_time": "2022-09-06T07:53:57.373Z"
   },
   {
    "duration": 716,
    "start_time": "2022-09-06T07:54:07.931Z"
   },
   {
    "duration": 1439,
    "start_time": "2022-09-06T15:46:04.382Z"
   },
   {
    "duration": 0,
    "start_time": "2022-09-06T15:46:05.823Z"
   },
   {
    "duration": 1,
    "start_time": "2022-09-06T15:46:05.824Z"
   },
   {
    "duration": 0,
    "start_time": "2022-09-06T15:46:05.826Z"
   },
   {
    "duration": 0,
    "start_time": "2022-09-06T15:46:05.827Z"
   },
   {
    "duration": 0,
    "start_time": "2022-09-06T15:46:05.829Z"
   },
   {
    "duration": 0,
    "start_time": "2022-09-06T15:46:05.830Z"
   },
   {
    "duration": 0,
    "start_time": "2022-09-06T15:46:05.831Z"
   },
   {
    "duration": 0,
    "start_time": "2022-09-06T15:46:05.832Z"
   },
   {
    "duration": 0,
    "start_time": "2022-09-06T15:46:05.833Z"
   },
   {
    "duration": 0,
    "start_time": "2022-09-06T15:46:05.834Z"
   },
   {
    "duration": 0,
    "start_time": "2022-09-06T15:46:05.835Z"
   },
   {
    "duration": 0,
    "start_time": "2022-09-06T15:46:05.837Z"
   },
   {
    "duration": 0,
    "start_time": "2022-09-06T15:46:05.838Z"
   },
   {
    "duration": 0,
    "start_time": "2022-09-06T15:46:05.839Z"
   },
   {
    "duration": 0,
    "start_time": "2022-09-06T15:46:05.840Z"
   },
   {
    "duration": 0,
    "start_time": "2022-09-06T15:46:05.841Z"
   },
   {
    "duration": 0,
    "start_time": "2022-09-06T15:46:05.842Z"
   },
   {
    "duration": 0,
    "start_time": "2022-09-06T15:46:05.843Z"
   },
   {
    "duration": 0,
    "start_time": "2022-09-06T15:46:05.844Z"
   },
   {
    "duration": 0,
    "start_time": "2022-09-06T15:46:05.845Z"
   },
   {
    "duration": 0,
    "start_time": "2022-09-06T15:46:05.847Z"
   },
   {
    "duration": 0,
    "start_time": "2022-09-06T15:46:05.848Z"
   },
   {
    "duration": 0,
    "start_time": "2022-09-06T15:46:05.849Z"
   },
   {
    "duration": 0,
    "start_time": "2022-09-06T15:46:05.850Z"
   },
   {
    "duration": 0,
    "start_time": "2022-09-06T15:46:05.851Z"
   },
   {
    "duration": 10,
    "start_time": "2022-09-06T15:46:10.219Z"
   },
   {
    "duration": 271,
    "start_time": "2022-09-06T15:46:30.002Z"
   },
   {
    "duration": 408,
    "start_time": "2022-09-06T15:46:33.924Z"
   },
   {
    "duration": 3,
    "start_time": "2022-09-06T15:46:36.044Z"
   },
   {
    "duration": 4,
    "start_time": "2022-09-06T15:47:06.611Z"
   },
   {
    "duration": 136,
    "start_time": "2022-09-06T15:47:06.617Z"
   },
   {
    "duration": 3,
    "start_time": "2022-09-06T15:47:06.755Z"
   },
   {
    "duration": 41,
    "start_time": "2022-09-06T15:47:06.760Z"
   },
   {
    "duration": 30,
    "start_time": "2022-09-06T15:47:06.804Z"
   },
   {
    "duration": 74,
    "start_time": "2022-09-06T15:47:06.835Z"
   },
   {
    "duration": 31,
    "start_time": "2022-09-06T15:47:06.911Z"
   },
   {
    "duration": 13,
    "start_time": "2022-09-06T15:47:06.943Z"
   },
   {
    "duration": 13,
    "start_time": "2022-09-06T15:47:06.957Z"
   },
   {
    "duration": 37,
    "start_time": "2022-09-06T15:47:06.972Z"
   },
   {
    "duration": 5,
    "start_time": "2022-09-06T15:47:07.011Z"
   },
   {
    "duration": 14,
    "start_time": "2022-09-06T15:47:07.017Z"
   },
   {
    "duration": 12,
    "start_time": "2022-09-06T15:47:07.035Z"
   },
   {
    "duration": 14,
    "start_time": "2022-09-06T15:47:07.049Z"
   },
   {
    "duration": 16,
    "start_time": "2022-09-06T15:47:07.064Z"
   },
   {
    "duration": 4,
    "start_time": "2022-09-06T15:47:07.082Z"
   },
   {
    "duration": 28,
    "start_time": "2022-09-06T15:47:07.088Z"
   },
   {
    "duration": 18,
    "start_time": "2022-09-06T15:47:07.118Z"
   },
   {
    "duration": 22,
    "start_time": "2022-09-06T15:47:07.138Z"
   },
   {
    "duration": 7,
    "start_time": "2022-09-06T15:47:07.163Z"
   },
   {
    "duration": 10,
    "start_time": "2022-09-06T15:47:07.172Z"
   },
   {
    "duration": 34,
    "start_time": "2022-09-06T15:47:07.184Z"
   },
   {
    "duration": 22,
    "start_time": "2022-09-06T15:47:07.221Z"
   },
   {
    "duration": 239,
    "start_time": "2022-09-06T15:47:07.246Z"
   },
   {
    "duration": 307,
    "start_time": "2022-09-06T15:47:07.486Z"
   },
   {
    "duration": 207,
    "start_time": "2022-09-06T15:47:07.795Z"
   },
   {
    "duration": 411,
    "start_time": "2022-09-06T15:47:12.383Z"
   },
   {
    "duration": 208,
    "start_time": "2022-09-06T15:47:21.903Z"
   },
   {
    "duration": 1656,
    "start_time": "2022-09-07T14:29:48.174Z"
   },
   {
    "duration": 425,
    "start_time": "2022-09-07T14:29:49.833Z"
   },
   {
    "duration": 4,
    "start_time": "2022-09-07T14:29:50.259Z"
   },
   {
    "duration": 52,
    "start_time": "2022-09-07T14:29:50.265Z"
   },
   {
    "duration": 27,
    "start_time": "2022-09-07T14:29:50.319Z"
   },
   {
    "duration": 62,
    "start_time": "2022-09-07T14:29:50.347Z"
   },
   {
    "duration": 26,
    "start_time": "2022-09-07T14:29:50.411Z"
   },
   {
    "duration": 10,
    "start_time": "2022-09-07T14:29:50.439Z"
   },
   {
    "duration": 13,
    "start_time": "2022-09-07T14:29:50.451Z"
   },
   {
    "duration": 22,
    "start_time": "2022-09-07T14:29:50.478Z"
   },
   {
    "duration": 13,
    "start_time": "2022-09-07T14:29:50.501Z"
   },
   {
    "duration": 20,
    "start_time": "2022-09-07T14:29:50.516Z"
   },
   {
    "duration": 27,
    "start_time": "2022-09-07T14:29:50.538Z"
   },
   {
    "duration": 16,
    "start_time": "2022-09-07T14:29:50.566Z"
   },
   {
    "duration": 23,
    "start_time": "2022-09-07T14:29:50.583Z"
   },
   {
    "duration": 9,
    "start_time": "2022-09-07T14:29:50.608Z"
   },
   {
    "duration": 18,
    "start_time": "2022-09-07T14:29:50.618Z"
   },
   {
    "duration": 24,
    "start_time": "2022-09-07T14:29:50.638Z"
   },
   {
    "duration": 25,
    "start_time": "2022-09-07T14:29:50.663Z"
   },
   {
    "duration": 8,
    "start_time": "2022-09-07T14:29:50.689Z"
   },
   {
    "duration": 13,
    "start_time": "2022-09-07T14:29:50.699Z"
   },
   {
    "duration": 17,
    "start_time": "2022-09-07T14:29:50.714Z"
   },
   {
    "duration": 24,
    "start_time": "2022-09-07T14:29:50.732Z"
   },
   {
    "duration": 148,
    "start_time": "2022-09-07T14:29:50.757Z"
   },
   {
    "duration": 210,
    "start_time": "2022-09-07T14:29:50.907Z"
   },
   {
    "duration": 257,
    "start_time": "2022-09-07T14:29:51.118Z"
   },
   {
    "duration": 204,
    "start_time": "2022-09-07T14:29:51.377Z"
   },
   {
    "duration": 8,
    "start_time": "2022-09-07T14:29:51.583Z"
   },
   {
    "duration": 25,
    "start_time": "2022-09-07T14:29:51.598Z"
   },
   {
    "duration": 36,
    "start_time": "2022-09-07T14:29:51.624Z"
   },
   {
    "duration": 46,
    "start_time": "2022-09-07T14:29:51.662Z"
   },
   {
    "duration": 31,
    "start_time": "2022-09-07T14:29:51.709Z"
   },
   {
    "duration": 32,
    "start_time": "2022-09-07T14:29:51.741Z"
   },
   {
    "duration": 28,
    "start_time": "2022-09-07T14:29:51.774Z"
   },
   {
    "duration": 21,
    "start_time": "2022-09-07T14:29:51.803Z"
   },
   {
    "duration": 5,
    "start_time": "2022-09-07T14:30:06.755Z"
   },
   {
    "duration": 4,
    "start_time": "2022-09-07T14:30:50.879Z"
   },
   {
    "duration": 100,
    "start_time": "2022-09-07T14:30:50.890Z"
   },
   {
    "duration": 3,
    "start_time": "2022-09-07T14:30:50.991Z"
   },
   {
    "duration": 77,
    "start_time": "2022-09-07T14:30:50.996Z"
   },
   {
    "duration": 27,
    "start_time": "2022-09-07T14:30:51.075Z"
   },
   {
    "duration": 42,
    "start_time": "2022-09-07T14:30:51.104Z"
   },
   {
    "duration": 25,
    "start_time": "2022-09-07T14:30:51.147Z"
   },
   {
    "duration": 11,
    "start_time": "2022-09-07T14:30:51.198Z"
   },
   {
    "duration": 13,
    "start_time": "2022-09-07T14:30:51.210Z"
   },
   {
    "duration": 4,
    "start_time": "2022-09-07T14:30:51.224Z"
   },
   {
    "duration": 5,
    "start_time": "2022-09-07T14:30:51.230Z"
   },
   {
    "duration": 14,
    "start_time": "2022-09-07T14:30:51.236Z"
   },
   {
    "duration": 8,
    "start_time": "2022-09-07T14:30:51.251Z"
   },
   {
    "duration": 34,
    "start_time": "2022-09-07T14:30:51.261Z"
   },
   {
    "duration": 18,
    "start_time": "2022-09-07T14:30:51.296Z"
   },
   {
    "duration": 5,
    "start_time": "2022-09-07T14:30:51.315Z"
   },
   {
    "duration": 4,
    "start_time": "2022-09-07T14:30:51.321Z"
   },
   {
    "duration": 13,
    "start_time": "2022-09-07T14:30:51.327Z"
   },
   {
    "duration": 16,
    "start_time": "2022-09-07T14:30:51.342Z"
   },
   {
    "duration": 14,
    "start_time": "2022-09-07T14:30:51.359Z"
   },
   {
    "duration": 32,
    "start_time": "2022-09-07T14:30:51.374Z"
   },
   {
    "duration": 30,
    "start_time": "2022-09-07T14:30:51.408Z"
   },
   {
    "duration": 17,
    "start_time": "2022-09-07T14:30:51.440Z"
   },
   {
    "duration": 120,
    "start_time": "2022-09-07T14:30:51.458Z"
   },
   {
    "duration": 206,
    "start_time": "2022-09-07T14:30:51.579Z"
   },
   {
    "duration": 193,
    "start_time": "2022-09-07T14:30:51.786Z"
   },
   {
    "duration": 199,
    "start_time": "2022-09-07T14:30:51.982Z"
   },
   {
    "duration": 7,
    "start_time": "2022-09-07T14:30:52.183Z"
   },
   {
    "duration": 15,
    "start_time": "2022-09-07T14:30:52.191Z"
   },
   {
    "duration": 11,
    "start_time": "2022-09-07T14:30:52.208Z"
   },
   {
    "duration": 11,
    "start_time": "2022-09-07T14:30:52.220Z"
   },
   {
    "duration": 8,
    "start_time": "2022-09-07T14:30:52.232Z"
   },
   {
    "duration": 8,
    "start_time": "2022-09-07T14:30:52.241Z"
   },
   {
    "duration": 22,
    "start_time": "2022-09-07T14:30:52.250Z"
   },
   {
    "duration": 41,
    "start_time": "2022-09-07T14:30:52.273Z"
   },
   {
    "duration": 3,
    "start_time": "2022-09-07T14:30:52.316Z"
   },
   {
    "duration": 7,
    "start_time": "2022-09-07T14:30:52.321Z"
   },
   {
    "duration": 7,
    "start_time": "2022-09-07T14:30:52.330Z"
   },
   {
    "duration": 21,
    "start_time": "2022-09-07T14:30:52.338Z"
   },
   {
    "duration": 3,
    "start_time": "2022-09-07T14:30:52.360Z"
   },
   {
    "duration": 15,
    "start_time": "2022-09-07T14:30:52.364Z"
   },
   {
    "duration": 25,
    "start_time": "2022-09-07T14:30:52.380Z"
   },
   {
    "duration": 4,
    "start_time": "2022-09-07T14:30:52.406Z"
   },
   {
    "duration": 5,
    "start_time": "2022-09-07T14:30:52.412Z"
   },
   {
    "duration": 5,
    "start_time": "2022-09-07T14:30:52.418Z"
   },
   {
    "duration": 4,
    "start_time": "2022-09-07T14:31:01.950Z"
   }
  ],
  "kernelspec": {
   "display_name": "Python 3",
   "language": "python",
   "name": "python3"
  },
  "language_info": {
   "codemirror_mode": {
    "name": "ipython",
    "version": 3
   },
   "file_extension": ".py",
   "mimetype": "text/x-python",
   "name": "python",
   "nbconvert_exporter": "python",
   "pygments_lexer": "ipython3",
   "version": "3.7.6"
  },
  "toc": {
   "base_numbering": 1,
   "nav_menu": {},
   "number_sections": true,
   "sideBar": true,
   "skip_h1_title": true,
   "title_cell": "Table of Contents",
   "title_sidebar": "Contents",
   "toc_cell": false,
   "toc_position": {},
   "toc_section_display": true,
   "toc_window_display": false
  }
 },
 "nbformat": 4,
 "nbformat_minor": 2
}
