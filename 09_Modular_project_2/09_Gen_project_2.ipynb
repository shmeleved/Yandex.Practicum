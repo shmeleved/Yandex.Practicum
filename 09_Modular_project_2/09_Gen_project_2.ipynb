{
 "cells": [
  {
   "cell_type": "markdown",
   "metadata": {},
   "source": [
    "# Recovery of gold from ore"
   ]
  },
  {
   "cell_type": "markdown",
   "metadata": {},
   "source": [
    "We need to prepare a prototype of a machine learning model for the \"Digit\". The company develops solutions for the efficient operation of industrial enterprises.\n",
    "\n",
    "The model should predict the recovery rate of gold from gold-bearing ore.\n",
    "\n",
    "The model will help optimize production so as not to launch an enterprise with unprofitable characteristics.\n",
    "\n",
    "Need:\n",
    "\n",
    "1. Prepare the data;\n",
    "2. Conduct a research analysis of the data;\n",
    "3. Build and train a model."
   ]
  },
  {
   "cell_type": "markdown",
   "metadata": {},
   "source": [
    "## Data preparation"
   ]
  },
  {
   "cell_type": "markdown",
   "metadata": {},
   "source": [
    "### Data description"
   ]
  },
  {
   "cell_type": "markdown",
   "metadata": {},
   "source": [
    "**Technological process**\n",
    "\n",
    "* Rougher feed — raw materials\n",
    "* Rougher additives (or reagent additives) — flotation reagents: Xanthate, Sulfate, Depressant\n",
    "  * Xanthate **— xanthogenate (promoter, or flotation activator);\n",
    "  * Sulfate — sulfate (in this production sodium sulfide);\n",
    "  * Depressant — depressant (sodium silicate).\n",
    "* Rougher process (English \"rough process\") — flotation\n",
    "* Rougher tails — dump tails\n",
    "* Float banks — flotation plant\n",
    "* Cleaner process — cleaning\n",
    "* Rougher Au — rough gold concentrate\n",
    "* Final Au — final gold concentrate"
   ]
  },
  {
   "cell_type": "markdown",
   "metadata": {},
   "source": [
    "**Parameters**\n",
    "* air amount stages — air volume\n",
    "* fluid levels — liquid level\n",
    "* feed size — the size of the raw material granules\n",
    "* feed rate — feed rate"
   ]
  },
  {
   "cell_type": "markdown",
   "metadata": {},
   "source": [
    "### Name of features\n",
    "\n",
    "The name of the signs should be as follows:\n",
    "\n",
    "`[stage].[parameter type].[parameter name]`\n",
    "\n",
    "Example: `rougher.input.feed_aggregator`"
   ]
  },
  {
   "cell_type": "markdown",
   "metadata": {},
   "source": [
    "### Data exploration"
   ]
  },
  {
   "cell_type": "code",
   "execution_count": 1,
   "metadata": {},
   "outputs": [],
   "source": [
    "import pandas as pd\n",
    "from sklearn.metrics import mean_absolute_error as mae\n",
    "import matplotlib.pyplot as plt\n",
    "import seaborn as sns\n",
    "from sklearn.linear_model import LinearRegression\n",
    "from sklearn.tree import DecisionTreeRegressor\n",
    "from sklearn.ensemble import RandomForestRegressor\n",
    "from sklearn.metrics import mean_absolute_error\n",
    "import warnings\n",
    "warnings.filterwarnings(\"ignore\")"
   ]
  },
  {
   "cell_type": "code",
   "execution_count": 2,
   "metadata": {
    "scrolled": true
   },
   "outputs": [],
   "source": [
    "df_train = pd.read_csv('datasets/gold_recovery_train_new.csv', parse_dates=['date'])\n",
    "df_test = pd.read_csv('datasets/gold_recovery_test_new.csv', parse_dates=['date'])\n",
    "df_all = pd.read_csv('datasets/gold_recovery_full_new.csv', parse_dates=['date'])"
   ]
  },
  {
   "cell_type": "code",
   "execution_count": 3,
   "metadata": {},
   "outputs": [
    {
     "name": "stdout",
     "output_type": "stream",
     "text": [
      "Training sample:\n"
     ]
    },
    {
     "data": {
      "text/html": [
       "<div>\n",
       "<style scoped>\n",
       "    .dataframe tbody tr th:only-of-type {\n",
       "        vertical-align: middle;\n",
       "    }\n",
       "\n",
       "    .dataframe tbody tr th {\n",
       "        vertical-align: top;\n",
       "    }\n",
       "\n",
       "    .dataframe thead th {\n",
       "        text-align: right;\n",
       "    }\n",
       "</style>\n",
       "<table border=\"1\" class=\"dataframe\">\n",
       "  <thead>\n",
       "    <tr style=\"text-align: right;\">\n",
       "      <th></th>\n",
       "      <th>date</th>\n",
       "      <th>final.output.concentrate_ag</th>\n",
       "      <th>final.output.concentrate_pb</th>\n",
       "      <th>final.output.concentrate_sol</th>\n",
       "      <th>final.output.concentrate_au</th>\n",
       "      <th>final.output.recovery</th>\n",
       "      <th>final.output.tail_ag</th>\n",
       "      <th>final.output.tail_pb</th>\n",
       "      <th>final.output.tail_sol</th>\n",
       "      <th>final.output.tail_au</th>\n",
       "      <th>...</th>\n",
       "      <th>secondary_cleaner.state.floatbank4_a_air</th>\n",
       "      <th>secondary_cleaner.state.floatbank4_a_level</th>\n",
       "      <th>secondary_cleaner.state.floatbank4_b_air</th>\n",
       "      <th>secondary_cleaner.state.floatbank4_b_level</th>\n",
       "      <th>secondary_cleaner.state.floatbank5_a_air</th>\n",
       "      <th>secondary_cleaner.state.floatbank5_a_level</th>\n",
       "      <th>secondary_cleaner.state.floatbank5_b_air</th>\n",
       "      <th>secondary_cleaner.state.floatbank5_b_level</th>\n",
       "      <th>secondary_cleaner.state.floatbank6_a_air</th>\n",
       "      <th>secondary_cleaner.state.floatbank6_a_level</th>\n",
       "    </tr>\n",
       "  </thead>\n",
       "  <tbody>\n",
       "    <tr>\n",
       "      <th>0</th>\n",
       "      <td>2016-01-15 00:00:00</td>\n",
       "      <td>6.055403</td>\n",
       "      <td>9.889648</td>\n",
       "      <td>5.507324</td>\n",
       "      <td>42.192020</td>\n",
       "      <td>70.541216</td>\n",
       "      <td>10.411962</td>\n",
       "      <td>0.895447</td>\n",
       "      <td>16.904297</td>\n",
       "      <td>2.143149</td>\n",
       "      <td>...</td>\n",
       "      <td>14.016835</td>\n",
       "      <td>-502.488007</td>\n",
       "      <td>12.099931</td>\n",
       "      <td>-504.715942</td>\n",
       "      <td>9.925633</td>\n",
       "      <td>-498.310211</td>\n",
       "      <td>8.079666</td>\n",
       "      <td>-500.470978</td>\n",
       "      <td>14.151341</td>\n",
       "      <td>-605.841980</td>\n",
       "    </tr>\n",
       "    <tr>\n",
       "      <th>1</th>\n",
       "      <td>2016-01-15 01:00:00</td>\n",
       "      <td>6.029369</td>\n",
       "      <td>9.968944</td>\n",
       "      <td>5.257781</td>\n",
       "      <td>42.701629</td>\n",
       "      <td>69.266198</td>\n",
       "      <td>10.462676</td>\n",
       "      <td>0.927452</td>\n",
       "      <td>16.634514</td>\n",
       "      <td>2.224930</td>\n",
       "      <td>...</td>\n",
       "      <td>13.992281</td>\n",
       "      <td>-505.503262</td>\n",
       "      <td>11.950531</td>\n",
       "      <td>-501.331529</td>\n",
       "      <td>10.039245</td>\n",
       "      <td>-500.169983</td>\n",
       "      <td>7.984757</td>\n",
       "      <td>-500.582168</td>\n",
       "      <td>13.998353</td>\n",
       "      <td>-599.787184</td>\n",
       "    </tr>\n",
       "    <tr>\n",
       "      <th>2</th>\n",
       "      <td>2016-01-15 02:00:00</td>\n",
       "      <td>6.055926</td>\n",
       "      <td>10.213995</td>\n",
       "      <td>5.383759</td>\n",
       "      <td>42.657501</td>\n",
       "      <td>68.116445</td>\n",
       "      <td>10.507046</td>\n",
       "      <td>0.953716</td>\n",
       "      <td>16.208849</td>\n",
       "      <td>2.257889</td>\n",
       "      <td>...</td>\n",
       "      <td>14.015015</td>\n",
       "      <td>-502.520901</td>\n",
       "      <td>11.912783</td>\n",
       "      <td>-501.133383</td>\n",
       "      <td>10.070913</td>\n",
       "      <td>-500.129135</td>\n",
       "      <td>8.013877</td>\n",
       "      <td>-500.517572</td>\n",
       "      <td>14.028663</td>\n",
       "      <td>-601.427363</td>\n",
       "    </tr>\n",
       "    <tr>\n",
       "      <th>3</th>\n",
       "      <td>2016-01-15 03:00:00</td>\n",
       "      <td>6.047977</td>\n",
       "      <td>9.977019</td>\n",
       "      <td>4.858634</td>\n",
       "      <td>42.689819</td>\n",
       "      <td>68.347543</td>\n",
       "      <td>10.422762</td>\n",
       "      <td>0.883763</td>\n",
       "      <td>16.532835</td>\n",
       "      <td>2.146849</td>\n",
       "      <td>...</td>\n",
       "      <td>14.036510</td>\n",
       "      <td>-500.857308</td>\n",
       "      <td>11.999550</td>\n",
       "      <td>-501.193686</td>\n",
       "      <td>9.970366</td>\n",
       "      <td>-499.201640</td>\n",
       "      <td>7.977324</td>\n",
       "      <td>-500.255908</td>\n",
       "      <td>14.005551</td>\n",
       "      <td>-599.996129</td>\n",
       "    </tr>\n",
       "    <tr>\n",
       "      <th>4</th>\n",
       "      <td>2016-01-15 04:00:00</td>\n",
       "      <td>6.148599</td>\n",
       "      <td>10.142511</td>\n",
       "      <td>4.939416</td>\n",
       "      <td>42.774141</td>\n",
       "      <td>66.927016</td>\n",
       "      <td>10.360302</td>\n",
       "      <td>0.792826</td>\n",
       "      <td>16.525686</td>\n",
       "      <td>2.055292</td>\n",
       "      <td>...</td>\n",
       "      <td>14.027298</td>\n",
       "      <td>-499.838632</td>\n",
       "      <td>11.953070</td>\n",
       "      <td>-501.053894</td>\n",
       "      <td>9.925709</td>\n",
       "      <td>-501.686727</td>\n",
       "      <td>7.894242</td>\n",
       "      <td>-500.356035</td>\n",
       "      <td>13.996647</td>\n",
       "      <td>-601.496691</td>\n",
       "    </tr>\n",
       "  </tbody>\n",
       "</table>\n",
       "<p>5 rows × 87 columns</p>\n",
       "</div>"
      ],
      "text/plain": [
       "                 date  final.output.concentrate_ag  \\\n",
       "0 2016-01-15 00:00:00                     6.055403   \n",
       "1 2016-01-15 01:00:00                     6.029369   \n",
       "2 2016-01-15 02:00:00                     6.055926   \n",
       "3 2016-01-15 03:00:00                     6.047977   \n",
       "4 2016-01-15 04:00:00                     6.148599   \n",
       "\n",
       "   final.output.concentrate_pb  final.output.concentrate_sol  \\\n",
       "0                     9.889648                      5.507324   \n",
       "1                     9.968944                      5.257781   \n",
       "2                    10.213995                      5.383759   \n",
       "3                     9.977019                      4.858634   \n",
       "4                    10.142511                      4.939416   \n",
       "\n",
       "   final.output.concentrate_au  final.output.recovery  final.output.tail_ag  \\\n",
       "0                    42.192020              70.541216             10.411962   \n",
       "1                    42.701629              69.266198             10.462676   \n",
       "2                    42.657501              68.116445             10.507046   \n",
       "3                    42.689819              68.347543             10.422762   \n",
       "4                    42.774141              66.927016             10.360302   \n",
       "\n",
       "   final.output.tail_pb  final.output.tail_sol  final.output.tail_au  ...  \\\n",
       "0              0.895447              16.904297              2.143149  ...   \n",
       "1              0.927452              16.634514              2.224930  ...   \n",
       "2              0.953716              16.208849              2.257889  ...   \n",
       "3              0.883763              16.532835              2.146849  ...   \n",
       "4              0.792826              16.525686              2.055292  ...   \n",
       "\n",
       "   secondary_cleaner.state.floatbank4_a_air  \\\n",
       "0                                 14.016835   \n",
       "1                                 13.992281   \n",
       "2                                 14.015015   \n",
       "3                                 14.036510   \n",
       "4                                 14.027298   \n",
       "\n",
       "   secondary_cleaner.state.floatbank4_a_level  \\\n",
       "0                                 -502.488007   \n",
       "1                                 -505.503262   \n",
       "2                                 -502.520901   \n",
       "3                                 -500.857308   \n",
       "4                                 -499.838632   \n",
       "\n",
       "   secondary_cleaner.state.floatbank4_b_air  \\\n",
       "0                                 12.099931   \n",
       "1                                 11.950531   \n",
       "2                                 11.912783   \n",
       "3                                 11.999550   \n",
       "4                                 11.953070   \n",
       "\n",
       "   secondary_cleaner.state.floatbank4_b_level  \\\n",
       "0                                 -504.715942   \n",
       "1                                 -501.331529   \n",
       "2                                 -501.133383   \n",
       "3                                 -501.193686   \n",
       "4                                 -501.053894   \n",
       "\n",
       "   secondary_cleaner.state.floatbank5_a_air  \\\n",
       "0                                  9.925633   \n",
       "1                                 10.039245   \n",
       "2                                 10.070913   \n",
       "3                                  9.970366   \n",
       "4                                  9.925709   \n",
       "\n",
       "   secondary_cleaner.state.floatbank5_a_level  \\\n",
       "0                                 -498.310211   \n",
       "1                                 -500.169983   \n",
       "2                                 -500.129135   \n",
       "3                                 -499.201640   \n",
       "4                                 -501.686727   \n",
       "\n",
       "   secondary_cleaner.state.floatbank5_b_air  \\\n",
       "0                                  8.079666   \n",
       "1                                  7.984757   \n",
       "2                                  8.013877   \n",
       "3                                  7.977324   \n",
       "4                                  7.894242   \n",
       "\n",
       "   secondary_cleaner.state.floatbank5_b_level  \\\n",
       "0                                 -500.470978   \n",
       "1                                 -500.582168   \n",
       "2                                 -500.517572   \n",
       "3                                 -500.255908   \n",
       "4                                 -500.356035   \n",
       "\n",
       "   secondary_cleaner.state.floatbank6_a_air  \\\n",
       "0                                 14.151341   \n",
       "1                                 13.998353   \n",
       "2                                 14.028663   \n",
       "3                                 14.005551   \n",
       "4                                 13.996647   \n",
       "\n",
       "   secondary_cleaner.state.floatbank6_a_level  \n",
       "0                                 -605.841980  \n",
       "1                                 -599.787184  \n",
       "2                                 -601.427363  \n",
       "3                                 -599.996129  \n",
       "4                                 -601.496691  \n",
       "\n",
       "[5 rows x 87 columns]"
      ]
     },
     "metadata": {},
     "output_type": "display_data"
    },
    {
     "name": "stdout",
     "output_type": "stream",
     "text": [
      "\n",
      "Test sample:\n"
     ]
    },
    {
     "data": {
      "text/html": [
       "<div>\n",
       "<style scoped>\n",
       "    .dataframe tbody tr th:only-of-type {\n",
       "        vertical-align: middle;\n",
       "    }\n",
       "\n",
       "    .dataframe tbody tr th {\n",
       "        vertical-align: top;\n",
       "    }\n",
       "\n",
       "    .dataframe thead th {\n",
       "        text-align: right;\n",
       "    }\n",
       "</style>\n",
       "<table border=\"1\" class=\"dataframe\">\n",
       "  <thead>\n",
       "    <tr style=\"text-align: right;\">\n",
       "      <th></th>\n",
       "      <th>date</th>\n",
       "      <th>primary_cleaner.input.sulfate</th>\n",
       "      <th>primary_cleaner.input.depressant</th>\n",
       "      <th>primary_cleaner.input.feed_size</th>\n",
       "      <th>primary_cleaner.input.xanthate</th>\n",
       "      <th>primary_cleaner.state.floatbank8_a_air</th>\n",
       "      <th>primary_cleaner.state.floatbank8_a_level</th>\n",
       "      <th>primary_cleaner.state.floatbank8_b_air</th>\n",
       "      <th>primary_cleaner.state.floatbank8_b_level</th>\n",
       "      <th>primary_cleaner.state.floatbank8_c_air</th>\n",
       "      <th>...</th>\n",
       "      <th>secondary_cleaner.state.floatbank4_a_air</th>\n",
       "      <th>secondary_cleaner.state.floatbank4_a_level</th>\n",
       "      <th>secondary_cleaner.state.floatbank4_b_air</th>\n",
       "      <th>secondary_cleaner.state.floatbank4_b_level</th>\n",
       "      <th>secondary_cleaner.state.floatbank5_a_air</th>\n",
       "      <th>secondary_cleaner.state.floatbank5_a_level</th>\n",
       "      <th>secondary_cleaner.state.floatbank5_b_air</th>\n",
       "      <th>secondary_cleaner.state.floatbank5_b_level</th>\n",
       "      <th>secondary_cleaner.state.floatbank6_a_air</th>\n",
       "      <th>secondary_cleaner.state.floatbank6_a_level</th>\n",
       "    </tr>\n",
       "  </thead>\n",
       "  <tbody>\n",
       "    <tr>\n",
       "      <th>0</th>\n",
       "      <td>2016-09-01 00:59:59</td>\n",
       "      <td>210.800909</td>\n",
       "      <td>14.993118</td>\n",
       "      <td>8.080000</td>\n",
       "      <td>1.005021</td>\n",
       "      <td>1398.981301</td>\n",
       "      <td>-500.225577</td>\n",
       "      <td>1399.144926</td>\n",
       "      <td>-499.919735</td>\n",
       "      <td>1400.102998</td>\n",
       "      <td>...</td>\n",
       "      <td>12.023554</td>\n",
       "      <td>-497.795834</td>\n",
       "      <td>8.016656</td>\n",
       "      <td>-501.289139</td>\n",
       "      <td>7.946562</td>\n",
       "      <td>-432.317850</td>\n",
       "      <td>4.872511</td>\n",
       "      <td>-500.037437</td>\n",
       "      <td>26.705889</td>\n",
       "      <td>-499.709414</td>\n",
       "    </tr>\n",
       "    <tr>\n",
       "      <th>1</th>\n",
       "      <td>2016-09-01 01:59:59</td>\n",
       "      <td>215.392455</td>\n",
       "      <td>14.987471</td>\n",
       "      <td>8.080000</td>\n",
       "      <td>0.990469</td>\n",
       "      <td>1398.777912</td>\n",
       "      <td>-500.057435</td>\n",
       "      <td>1398.055362</td>\n",
       "      <td>-499.778182</td>\n",
       "      <td>1396.151033</td>\n",
       "      <td>...</td>\n",
       "      <td>12.058140</td>\n",
       "      <td>-498.695773</td>\n",
       "      <td>8.130979</td>\n",
       "      <td>-499.634209</td>\n",
       "      <td>7.958270</td>\n",
       "      <td>-525.839648</td>\n",
       "      <td>4.878850</td>\n",
       "      <td>-500.162375</td>\n",
       "      <td>25.019940</td>\n",
       "      <td>-499.819438</td>\n",
       "    </tr>\n",
       "    <tr>\n",
       "      <th>2</th>\n",
       "      <td>2016-09-01 02:59:59</td>\n",
       "      <td>215.259946</td>\n",
       "      <td>12.884934</td>\n",
       "      <td>7.786667</td>\n",
       "      <td>0.996043</td>\n",
       "      <td>1398.493666</td>\n",
       "      <td>-500.868360</td>\n",
       "      <td>1398.860436</td>\n",
       "      <td>-499.764529</td>\n",
       "      <td>1398.075709</td>\n",
       "      <td>...</td>\n",
       "      <td>11.962366</td>\n",
       "      <td>-498.767484</td>\n",
       "      <td>8.096893</td>\n",
       "      <td>-500.827423</td>\n",
       "      <td>8.071056</td>\n",
       "      <td>-500.801673</td>\n",
       "      <td>4.905125</td>\n",
       "      <td>-499.828510</td>\n",
       "      <td>24.994862</td>\n",
       "      <td>-500.622559</td>\n",
       "    </tr>\n",
       "    <tr>\n",
       "      <th>3</th>\n",
       "      <td>2016-09-01 03:59:59</td>\n",
       "      <td>215.336236</td>\n",
       "      <td>12.006805</td>\n",
       "      <td>7.640000</td>\n",
       "      <td>0.863514</td>\n",
       "      <td>1399.618111</td>\n",
       "      <td>-498.863574</td>\n",
       "      <td>1397.440120</td>\n",
       "      <td>-499.211024</td>\n",
       "      <td>1400.129303</td>\n",
       "      <td>...</td>\n",
       "      <td>12.033091</td>\n",
       "      <td>-498.350935</td>\n",
       "      <td>8.074946</td>\n",
       "      <td>-499.474407</td>\n",
       "      <td>7.897085</td>\n",
       "      <td>-500.868509</td>\n",
       "      <td>4.931400</td>\n",
       "      <td>-499.963623</td>\n",
       "      <td>24.948919</td>\n",
       "      <td>-498.709987</td>\n",
       "    </tr>\n",
       "    <tr>\n",
       "      <th>4</th>\n",
       "      <td>2016-09-01 04:59:59</td>\n",
       "      <td>199.099327</td>\n",
       "      <td>10.682530</td>\n",
       "      <td>7.530000</td>\n",
       "      <td>0.805575</td>\n",
       "      <td>1401.268123</td>\n",
       "      <td>-500.808305</td>\n",
       "      <td>1398.128818</td>\n",
       "      <td>-499.504543</td>\n",
       "      <td>1402.172226</td>\n",
       "      <td>...</td>\n",
       "      <td>12.025367</td>\n",
       "      <td>-500.786497</td>\n",
       "      <td>8.054678</td>\n",
       "      <td>-500.397500</td>\n",
       "      <td>8.107890</td>\n",
       "      <td>-509.526725</td>\n",
       "      <td>4.957674</td>\n",
       "      <td>-500.360026</td>\n",
       "      <td>25.003331</td>\n",
       "      <td>-500.856333</td>\n",
       "    </tr>\n",
       "  </tbody>\n",
       "</table>\n",
       "<p>5 rows × 53 columns</p>\n",
       "</div>"
      ],
      "text/plain": [
       "                 date  primary_cleaner.input.sulfate  \\\n",
       "0 2016-09-01 00:59:59                     210.800909   \n",
       "1 2016-09-01 01:59:59                     215.392455   \n",
       "2 2016-09-01 02:59:59                     215.259946   \n",
       "3 2016-09-01 03:59:59                     215.336236   \n",
       "4 2016-09-01 04:59:59                     199.099327   \n",
       "\n",
       "   primary_cleaner.input.depressant  primary_cleaner.input.feed_size  \\\n",
       "0                         14.993118                         8.080000   \n",
       "1                         14.987471                         8.080000   \n",
       "2                         12.884934                         7.786667   \n",
       "3                         12.006805                         7.640000   \n",
       "4                         10.682530                         7.530000   \n",
       "\n",
       "   primary_cleaner.input.xanthate  primary_cleaner.state.floatbank8_a_air  \\\n",
       "0                        1.005021                             1398.981301   \n",
       "1                        0.990469                             1398.777912   \n",
       "2                        0.996043                             1398.493666   \n",
       "3                        0.863514                             1399.618111   \n",
       "4                        0.805575                             1401.268123   \n",
       "\n",
       "   primary_cleaner.state.floatbank8_a_level  \\\n",
       "0                               -500.225577   \n",
       "1                               -500.057435   \n",
       "2                               -500.868360   \n",
       "3                               -498.863574   \n",
       "4                               -500.808305   \n",
       "\n",
       "   primary_cleaner.state.floatbank8_b_air  \\\n",
       "0                             1399.144926   \n",
       "1                             1398.055362   \n",
       "2                             1398.860436   \n",
       "3                             1397.440120   \n",
       "4                             1398.128818   \n",
       "\n",
       "   primary_cleaner.state.floatbank8_b_level  \\\n",
       "0                               -499.919735   \n",
       "1                               -499.778182   \n",
       "2                               -499.764529   \n",
       "3                               -499.211024   \n",
       "4                               -499.504543   \n",
       "\n",
       "   primary_cleaner.state.floatbank8_c_air  ...  \\\n",
       "0                             1400.102998  ...   \n",
       "1                             1396.151033  ...   \n",
       "2                             1398.075709  ...   \n",
       "3                             1400.129303  ...   \n",
       "4                             1402.172226  ...   \n",
       "\n",
       "   secondary_cleaner.state.floatbank4_a_air  \\\n",
       "0                                 12.023554   \n",
       "1                                 12.058140   \n",
       "2                                 11.962366   \n",
       "3                                 12.033091   \n",
       "4                                 12.025367   \n",
       "\n",
       "   secondary_cleaner.state.floatbank4_a_level  \\\n",
       "0                                 -497.795834   \n",
       "1                                 -498.695773   \n",
       "2                                 -498.767484   \n",
       "3                                 -498.350935   \n",
       "4                                 -500.786497   \n",
       "\n",
       "   secondary_cleaner.state.floatbank4_b_air  \\\n",
       "0                                  8.016656   \n",
       "1                                  8.130979   \n",
       "2                                  8.096893   \n",
       "3                                  8.074946   \n",
       "4                                  8.054678   \n",
       "\n",
       "   secondary_cleaner.state.floatbank4_b_level  \\\n",
       "0                                 -501.289139   \n",
       "1                                 -499.634209   \n",
       "2                                 -500.827423   \n",
       "3                                 -499.474407   \n",
       "4                                 -500.397500   \n",
       "\n",
       "   secondary_cleaner.state.floatbank5_a_air  \\\n",
       "0                                  7.946562   \n",
       "1                                  7.958270   \n",
       "2                                  8.071056   \n",
       "3                                  7.897085   \n",
       "4                                  8.107890   \n",
       "\n",
       "   secondary_cleaner.state.floatbank5_a_level  \\\n",
       "0                                 -432.317850   \n",
       "1                                 -525.839648   \n",
       "2                                 -500.801673   \n",
       "3                                 -500.868509   \n",
       "4                                 -509.526725   \n",
       "\n",
       "   secondary_cleaner.state.floatbank5_b_air  \\\n",
       "0                                  4.872511   \n",
       "1                                  4.878850   \n",
       "2                                  4.905125   \n",
       "3                                  4.931400   \n",
       "4                                  4.957674   \n",
       "\n",
       "   secondary_cleaner.state.floatbank5_b_level  \\\n",
       "0                                 -500.037437   \n",
       "1                                 -500.162375   \n",
       "2                                 -499.828510   \n",
       "3                                 -499.963623   \n",
       "4                                 -500.360026   \n",
       "\n",
       "   secondary_cleaner.state.floatbank6_a_air  \\\n",
       "0                                 26.705889   \n",
       "1                                 25.019940   \n",
       "2                                 24.994862   \n",
       "3                                 24.948919   \n",
       "4                                 25.003331   \n",
       "\n",
       "   secondary_cleaner.state.floatbank6_a_level  \n",
       "0                                 -499.709414  \n",
       "1                                 -499.819438  \n",
       "2                                 -500.622559  \n",
       "3                                 -498.709987  \n",
       "4                                 -500.856333  \n",
       "\n",
       "[5 rows x 53 columns]"
      ]
     },
     "metadata": {},
     "output_type": "display_data"
    },
    {
     "name": "stdout",
     "output_type": "stream",
     "text": [
      "\n",
      "Total sample:\n"
     ]
    },
    {
     "data": {
      "text/html": [
       "<div>\n",
       "<style scoped>\n",
       "    .dataframe tbody tr th:only-of-type {\n",
       "        vertical-align: middle;\n",
       "    }\n",
       "\n",
       "    .dataframe tbody tr th {\n",
       "        vertical-align: top;\n",
       "    }\n",
       "\n",
       "    .dataframe thead th {\n",
       "        text-align: right;\n",
       "    }\n",
       "</style>\n",
       "<table border=\"1\" class=\"dataframe\">\n",
       "  <thead>\n",
       "    <tr style=\"text-align: right;\">\n",
       "      <th></th>\n",
       "      <th>date</th>\n",
       "      <th>final.output.concentrate_ag</th>\n",
       "      <th>final.output.concentrate_pb</th>\n",
       "      <th>final.output.concentrate_sol</th>\n",
       "      <th>final.output.concentrate_au</th>\n",
       "      <th>final.output.recovery</th>\n",
       "      <th>final.output.tail_ag</th>\n",
       "      <th>final.output.tail_pb</th>\n",
       "      <th>final.output.tail_sol</th>\n",
       "      <th>final.output.tail_au</th>\n",
       "      <th>...</th>\n",
       "      <th>secondary_cleaner.state.floatbank4_a_air</th>\n",
       "      <th>secondary_cleaner.state.floatbank4_a_level</th>\n",
       "      <th>secondary_cleaner.state.floatbank4_b_air</th>\n",
       "      <th>secondary_cleaner.state.floatbank4_b_level</th>\n",
       "      <th>secondary_cleaner.state.floatbank5_a_air</th>\n",
       "      <th>secondary_cleaner.state.floatbank5_a_level</th>\n",
       "      <th>secondary_cleaner.state.floatbank5_b_air</th>\n",
       "      <th>secondary_cleaner.state.floatbank5_b_level</th>\n",
       "      <th>secondary_cleaner.state.floatbank6_a_air</th>\n",
       "      <th>secondary_cleaner.state.floatbank6_a_level</th>\n",
       "    </tr>\n",
       "  </thead>\n",
       "  <tbody>\n",
       "    <tr>\n",
       "      <th>0</th>\n",
       "      <td>2016-01-15 00:00:00</td>\n",
       "      <td>6.055403</td>\n",
       "      <td>9.889648</td>\n",
       "      <td>5.507324</td>\n",
       "      <td>42.192020</td>\n",
       "      <td>70.541216</td>\n",
       "      <td>10.411962</td>\n",
       "      <td>0.895447</td>\n",
       "      <td>16.904297</td>\n",
       "      <td>2.143149</td>\n",
       "      <td>...</td>\n",
       "      <td>14.016835</td>\n",
       "      <td>-502.488007</td>\n",
       "      <td>12.099931</td>\n",
       "      <td>-504.715942</td>\n",
       "      <td>9.925633</td>\n",
       "      <td>-498.310211</td>\n",
       "      <td>8.079666</td>\n",
       "      <td>-500.470978</td>\n",
       "      <td>14.151341</td>\n",
       "      <td>-605.841980</td>\n",
       "    </tr>\n",
       "    <tr>\n",
       "      <th>1</th>\n",
       "      <td>2016-01-15 01:00:00</td>\n",
       "      <td>6.029369</td>\n",
       "      <td>9.968944</td>\n",
       "      <td>5.257781</td>\n",
       "      <td>42.701629</td>\n",
       "      <td>69.266198</td>\n",
       "      <td>10.462676</td>\n",
       "      <td>0.927452</td>\n",
       "      <td>16.634514</td>\n",
       "      <td>2.224930</td>\n",
       "      <td>...</td>\n",
       "      <td>13.992281</td>\n",
       "      <td>-505.503262</td>\n",
       "      <td>11.950531</td>\n",
       "      <td>-501.331529</td>\n",
       "      <td>10.039245</td>\n",
       "      <td>-500.169983</td>\n",
       "      <td>7.984757</td>\n",
       "      <td>-500.582168</td>\n",
       "      <td>13.998353</td>\n",
       "      <td>-599.787184</td>\n",
       "    </tr>\n",
       "    <tr>\n",
       "      <th>2</th>\n",
       "      <td>2016-01-15 02:00:00</td>\n",
       "      <td>6.055926</td>\n",
       "      <td>10.213995</td>\n",
       "      <td>5.383759</td>\n",
       "      <td>42.657501</td>\n",
       "      <td>68.116445</td>\n",
       "      <td>10.507046</td>\n",
       "      <td>0.953716</td>\n",
       "      <td>16.208849</td>\n",
       "      <td>2.257889</td>\n",
       "      <td>...</td>\n",
       "      <td>14.015015</td>\n",
       "      <td>-502.520901</td>\n",
       "      <td>11.912783</td>\n",
       "      <td>-501.133383</td>\n",
       "      <td>10.070913</td>\n",
       "      <td>-500.129135</td>\n",
       "      <td>8.013877</td>\n",
       "      <td>-500.517572</td>\n",
       "      <td>14.028663</td>\n",
       "      <td>-601.427363</td>\n",
       "    </tr>\n",
       "    <tr>\n",
       "      <th>3</th>\n",
       "      <td>2016-01-15 03:00:00</td>\n",
       "      <td>6.047977</td>\n",
       "      <td>9.977019</td>\n",
       "      <td>4.858634</td>\n",
       "      <td>42.689819</td>\n",
       "      <td>68.347543</td>\n",
       "      <td>10.422762</td>\n",
       "      <td>0.883763</td>\n",
       "      <td>16.532835</td>\n",
       "      <td>2.146849</td>\n",
       "      <td>...</td>\n",
       "      <td>14.036510</td>\n",
       "      <td>-500.857308</td>\n",
       "      <td>11.999550</td>\n",
       "      <td>-501.193686</td>\n",
       "      <td>9.970366</td>\n",
       "      <td>-499.201640</td>\n",
       "      <td>7.977324</td>\n",
       "      <td>-500.255908</td>\n",
       "      <td>14.005551</td>\n",
       "      <td>-599.996129</td>\n",
       "    </tr>\n",
       "    <tr>\n",
       "      <th>4</th>\n",
       "      <td>2016-01-15 04:00:00</td>\n",
       "      <td>6.148599</td>\n",
       "      <td>10.142511</td>\n",
       "      <td>4.939416</td>\n",
       "      <td>42.774141</td>\n",
       "      <td>66.927016</td>\n",
       "      <td>10.360302</td>\n",
       "      <td>0.792826</td>\n",
       "      <td>16.525686</td>\n",
       "      <td>2.055292</td>\n",
       "      <td>...</td>\n",
       "      <td>14.027298</td>\n",
       "      <td>-499.838632</td>\n",
       "      <td>11.953070</td>\n",
       "      <td>-501.053894</td>\n",
       "      <td>9.925709</td>\n",
       "      <td>-501.686727</td>\n",
       "      <td>7.894242</td>\n",
       "      <td>-500.356035</td>\n",
       "      <td>13.996647</td>\n",
       "      <td>-601.496691</td>\n",
       "    </tr>\n",
       "  </tbody>\n",
       "</table>\n",
       "<p>5 rows × 87 columns</p>\n",
       "</div>"
      ],
      "text/plain": [
       "                 date  final.output.concentrate_ag  \\\n",
       "0 2016-01-15 00:00:00                     6.055403   \n",
       "1 2016-01-15 01:00:00                     6.029369   \n",
       "2 2016-01-15 02:00:00                     6.055926   \n",
       "3 2016-01-15 03:00:00                     6.047977   \n",
       "4 2016-01-15 04:00:00                     6.148599   \n",
       "\n",
       "   final.output.concentrate_pb  final.output.concentrate_sol  \\\n",
       "0                     9.889648                      5.507324   \n",
       "1                     9.968944                      5.257781   \n",
       "2                    10.213995                      5.383759   \n",
       "3                     9.977019                      4.858634   \n",
       "4                    10.142511                      4.939416   \n",
       "\n",
       "   final.output.concentrate_au  final.output.recovery  final.output.tail_ag  \\\n",
       "0                    42.192020              70.541216             10.411962   \n",
       "1                    42.701629              69.266198             10.462676   \n",
       "2                    42.657501              68.116445             10.507046   \n",
       "3                    42.689819              68.347543             10.422762   \n",
       "4                    42.774141              66.927016             10.360302   \n",
       "\n",
       "   final.output.tail_pb  final.output.tail_sol  final.output.tail_au  ...  \\\n",
       "0              0.895447              16.904297              2.143149  ...   \n",
       "1              0.927452              16.634514              2.224930  ...   \n",
       "2              0.953716              16.208849              2.257889  ...   \n",
       "3              0.883763              16.532835              2.146849  ...   \n",
       "4              0.792826              16.525686              2.055292  ...   \n",
       "\n",
       "   secondary_cleaner.state.floatbank4_a_air  \\\n",
       "0                                 14.016835   \n",
       "1                                 13.992281   \n",
       "2                                 14.015015   \n",
       "3                                 14.036510   \n",
       "4                                 14.027298   \n",
       "\n",
       "   secondary_cleaner.state.floatbank4_a_level  \\\n",
       "0                                 -502.488007   \n",
       "1                                 -505.503262   \n",
       "2                                 -502.520901   \n",
       "3                                 -500.857308   \n",
       "4                                 -499.838632   \n",
       "\n",
       "   secondary_cleaner.state.floatbank4_b_air  \\\n",
       "0                                 12.099931   \n",
       "1                                 11.950531   \n",
       "2                                 11.912783   \n",
       "3                                 11.999550   \n",
       "4                                 11.953070   \n",
       "\n",
       "   secondary_cleaner.state.floatbank4_b_level  \\\n",
       "0                                 -504.715942   \n",
       "1                                 -501.331529   \n",
       "2                                 -501.133383   \n",
       "3                                 -501.193686   \n",
       "4                                 -501.053894   \n",
       "\n",
       "   secondary_cleaner.state.floatbank5_a_air  \\\n",
       "0                                  9.925633   \n",
       "1                                 10.039245   \n",
       "2                                 10.070913   \n",
       "3                                  9.970366   \n",
       "4                                  9.925709   \n",
       "\n",
       "   secondary_cleaner.state.floatbank5_a_level  \\\n",
       "0                                 -498.310211   \n",
       "1                                 -500.169983   \n",
       "2                                 -500.129135   \n",
       "3                                 -499.201640   \n",
       "4                                 -501.686727   \n",
       "\n",
       "   secondary_cleaner.state.floatbank5_b_air  \\\n",
       "0                                  8.079666   \n",
       "1                                  7.984757   \n",
       "2                                  8.013877   \n",
       "3                                  7.977324   \n",
       "4                                  7.894242   \n",
       "\n",
       "   secondary_cleaner.state.floatbank5_b_level  \\\n",
       "0                                 -500.470978   \n",
       "1                                 -500.582168   \n",
       "2                                 -500.517572   \n",
       "3                                 -500.255908   \n",
       "4                                 -500.356035   \n",
       "\n",
       "   secondary_cleaner.state.floatbank6_a_air  \\\n",
       "0                                 14.151341   \n",
       "1                                 13.998353   \n",
       "2                                 14.028663   \n",
       "3                                 14.005551   \n",
       "4                                 13.996647   \n",
       "\n",
       "   secondary_cleaner.state.floatbank6_a_level  \n",
       "0                                 -605.841980  \n",
       "1                                 -599.787184  \n",
       "2                                 -601.427363  \n",
       "3                                 -599.996129  \n",
       "4                                 -601.496691  \n",
       "\n",
       "[5 rows x 87 columns]"
      ]
     },
     "metadata": {},
     "output_type": "display_data"
    }
   ],
   "source": [
    "print('Training sample:')\n",
    "display(df_train.head())\n",
    "print()\n",
    "print('Test sample:')\n",
    "display(df_test.head())\n",
    "print()\n",
    "print('Total sample:')\n",
    "display(df_all.head())"
   ]
  },
  {
   "cell_type": "code",
   "execution_count": 4,
   "metadata": {
    "scrolled": false
   },
   "outputs": [
    {
     "name": "stdout",
     "output_type": "stream",
     "text": [
      "Training sample:\n",
      "<class 'pandas.core.frame.DataFrame'>\n",
      "RangeIndex: 14149 entries, 0 to 14148\n",
      "Data columns (total 87 columns):\n",
      " #   Column                                              Non-Null Count  Dtype         \n",
      "---  ------                                              --------------  -----         \n",
      " 0   date                                                14149 non-null  datetime64[ns]\n",
      " 1   final.output.concentrate_ag                         14148 non-null  float64       \n",
      " 2   final.output.concentrate_pb                         14148 non-null  float64       \n",
      " 3   final.output.concentrate_sol                        13938 non-null  float64       \n",
      " 4   final.output.concentrate_au                         14149 non-null  float64       \n",
      " 5   final.output.recovery                               14149 non-null  float64       \n",
      " 6   final.output.tail_ag                                14149 non-null  float64       \n",
      " 7   final.output.tail_pb                                14049 non-null  float64       \n",
      " 8   final.output.tail_sol                               14144 non-null  float64       \n",
      " 9   final.output.tail_au                                14149 non-null  float64       \n",
      " 10  primary_cleaner.input.sulfate                       14129 non-null  float64       \n",
      " 11  primary_cleaner.input.depressant                    14117 non-null  float64       \n",
      " 12  primary_cleaner.input.feed_size                     14149 non-null  float64       \n",
      " 13  primary_cleaner.input.xanthate                      14049 non-null  float64       \n",
      " 14  primary_cleaner.output.concentrate_ag               14149 non-null  float64       \n",
      " 15  primary_cleaner.output.concentrate_pb               14063 non-null  float64       \n",
      " 16  primary_cleaner.output.concentrate_sol              13863 non-null  float64       \n",
      " 17  primary_cleaner.output.concentrate_au               14149 non-null  float64       \n",
      " 18  primary_cleaner.output.tail_ag                      14148 non-null  float64       \n",
      " 19  primary_cleaner.output.tail_pb                      14134 non-null  float64       \n",
      " 20  primary_cleaner.output.tail_sol                     14103 non-null  float64       \n",
      " 21  primary_cleaner.output.tail_au                      14149 non-null  float64       \n",
      " 22  primary_cleaner.state.floatbank8_a_air              14145 non-null  float64       \n",
      " 23  primary_cleaner.state.floatbank8_a_level            14148 non-null  float64       \n",
      " 24  primary_cleaner.state.floatbank8_b_air              14145 non-null  float64       \n",
      " 25  primary_cleaner.state.floatbank8_b_level            14148 non-null  float64       \n",
      " 26  primary_cleaner.state.floatbank8_c_air              14147 non-null  float64       \n",
      " 27  primary_cleaner.state.floatbank8_c_level            14148 non-null  float64       \n",
      " 28  primary_cleaner.state.floatbank8_d_air              14146 non-null  float64       \n",
      " 29  primary_cleaner.state.floatbank8_d_level            14148 non-null  float64       \n",
      " 30  rougher.calculation.sulfate_to_au_concentrate       14148 non-null  float64       \n",
      " 31  rougher.calculation.floatbank10_sulfate_to_au_feed  14148 non-null  float64       \n",
      " 32  rougher.calculation.floatbank11_sulfate_to_au_feed  14148 non-null  float64       \n",
      " 33  rougher.calculation.au_pb_ratio                     14149 non-null  float64       \n",
      " 34  rougher.input.feed_ag                               14149 non-null  float64       \n",
      " 35  rougher.input.feed_pb                               14049 non-null  float64       \n",
      " 36  rougher.input.feed_rate                             14141 non-null  float64       \n",
      " 37  rougher.input.feed_size                             14005 non-null  float64       \n",
      " 38  rougher.input.feed_sol                              14071 non-null  float64       \n",
      " 39  rougher.input.feed_au                               14149 non-null  float64       \n",
      " 40  rougher.input.floatbank10_sulfate                   14120 non-null  float64       \n",
      " 41  rougher.input.floatbank10_xanthate                  14141 non-null  float64       \n",
      " 42  rougher.input.floatbank11_sulfate                   14113 non-null  float64       \n",
      " 43  rougher.input.floatbank11_xanthate                  13721 non-null  float64       \n",
      " 44  rougher.output.concentrate_ag                       14149 non-null  float64       \n",
      " 45  rougher.output.concentrate_pb                       14149 non-null  float64       \n",
      " 46  rougher.output.concentrate_sol                      14127 non-null  float64       \n",
      " 47  rougher.output.concentrate_au                       14149 non-null  float64       \n",
      " 48  rougher.output.recovery                             14149 non-null  float64       \n",
      " 49  rougher.output.tail_ag                              14148 non-null  float64       \n",
      " 50  rougher.output.tail_pb                              14149 non-null  float64       \n",
      " 51  rougher.output.tail_sol                             14149 non-null  float64       \n",
      " 52  rougher.output.tail_au                              14149 non-null  float64       \n",
      " 53  rougher.state.floatbank10_a_air                     14148 non-null  float64       \n",
      " 54  rougher.state.floatbank10_a_level                   14148 non-null  float64       \n",
      " 55  rougher.state.floatbank10_b_air                     14148 non-null  float64       \n",
      " 56  rougher.state.floatbank10_b_level                   14148 non-null  float64       \n",
      " 57  rougher.state.floatbank10_c_air                     14148 non-null  float64       \n",
      " 58  rougher.state.floatbank10_c_level                   14148 non-null  float64       \n",
      " 59  rougher.state.floatbank10_d_air                     14149 non-null  float64       \n",
      " 60  rougher.state.floatbank10_d_level                   14149 non-null  float64       \n",
      " 61  rougher.state.floatbank10_e_air                     13713 non-null  float64       \n",
      " 62  rougher.state.floatbank10_e_level                   14149 non-null  float64       \n",
      " 63  rougher.state.floatbank10_f_air                     14149 non-null  float64       \n",
      " 64  rougher.state.floatbank10_f_level                   14149 non-null  float64       \n",
      " 65  secondary_cleaner.output.tail_ag                    14147 non-null  float64       \n",
      " 66  secondary_cleaner.output.tail_pb                    14139 non-null  float64       \n",
      " 67  secondary_cleaner.output.tail_sol                   12544 non-null  float64       \n",
      " 68  secondary_cleaner.output.tail_au                    14149 non-null  float64       \n",
      " 69  secondary_cleaner.state.floatbank2_a_air            13932 non-null  float64       \n",
      " 70  secondary_cleaner.state.floatbank2_a_level          14148 non-null  float64       \n",
      " 71  secondary_cleaner.state.floatbank2_b_air            14128 non-null  float64       \n",
      " 72  secondary_cleaner.state.floatbank2_b_level          14148 non-null  float64       \n",
      " 73  secondary_cleaner.state.floatbank3_a_air            14145 non-null  float64       \n",
      " 74  secondary_cleaner.state.floatbank3_a_level          14148 non-null  float64       \n",
      " 75  secondary_cleaner.state.floatbank3_b_air            14148 non-null  float64       \n",
      " 76  secondary_cleaner.state.floatbank3_b_level          14148 non-null  float64       \n",
      " 77  secondary_cleaner.state.floatbank4_a_air            14143 non-null  float64       \n",
      " 78  secondary_cleaner.state.floatbank4_a_level          14148 non-null  float64       \n",
      " 79  secondary_cleaner.state.floatbank4_b_air            14148 non-null  float64       \n",
      " 80  secondary_cleaner.state.floatbank4_b_level          14148 non-null  float64       \n",
      " 81  secondary_cleaner.state.floatbank5_a_air            14148 non-null  float64       \n",
      " 82  secondary_cleaner.state.floatbank5_a_level          14148 non-null  float64       \n",
      " 83  secondary_cleaner.state.floatbank5_b_air            14148 non-null  float64       \n",
      " 84  secondary_cleaner.state.floatbank5_b_level          14148 non-null  float64       \n",
      " 85  secondary_cleaner.state.floatbank6_a_air            14147 non-null  float64       \n",
      " 86  secondary_cleaner.state.floatbank6_a_level          14148 non-null  float64       \n",
      "dtypes: datetime64[ns](1), float64(86)\n",
      "memory usage: 9.4 MB\n",
      "None\n",
      "\n",
      "Test sample:\n",
      "<class 'pandas.core.frame.DataFrame'>\n",
      "RangeIndex: 5290 entries, 0 to 5289\n",
      "Data columns (total 53 columns):\n",
      " #   Column                                      Non-Null Count  Dtype         \n",
      "---  ------                                      --------------  -----         \n",
      " 0   date                                        5290 non-null   datetime64[ns]\n",
      " 1   primary_cleaner.input.sulfate               5286 non-null   float64       \n",
      " 2   primary_cleaner.input.depressant            5285 non-null   float64       \n",
      " 3   primary_cleaner.input.feed_size             5290 non-null   float64       \n",
      " 4   primary_cleaner.input.xanthate              5286 non-null   float64       \n",
      " 5   primary_cleaner.state.floatbank8_a_air      5290 non-null   float64       \n",
      " 6   primary_cleaner.state.floatbank8_a_level    5290 non-null   float64       \n",
      " 7   primary_cleaner.state.floatbank8_b_air      5290 non-null   float64       \n",
      " 8   primary_cleaner.state.floatbank8_b_level    5290 non-null   float64       \n",
      " 9   primary_cleaner.state.floatbank8_c_air      5290 non-null   float64       \n",
      " 10  primary_cleaner.state.floatbank8_c_level    5290 non-null   float64       \n",
      " 11  primary_cleaner.state.floatbank8_d_air      5290 non-null   float64       \n",
      " 12  primary_cleaner.state.floatbank8_d_level    5290 non-null   float64       \n",
      " 13  rougher.input.feed_ag                       5290 non-null   float64       \n",
      " 14  rougher.input.feed_pb                       5290 non-null   float64       \n",
      " 15  rougher.input.feed_rate                     5287 non-null   float64       \n",
      " 16  rougher.input.feed_size                     5289 non-null   float64       \n",
      " 17  rougher.input.feed_sol                      5269 non-null   float64       \n",
      " 18  rougher.input.feed_au                       5290 non-null   float64       \n",
      " 19  rougher.input.floatbank10_sulfate           5285 non-null   float64       \n",
      " 20  rougher.input.floatbank10_xanthate          5290 non-null   float64       \n",
      " 21  rougher.input.floatbank11_sulfate           5282 non-null   float64       \n",
      " 22  rougher.input.floatbank11_xanthate          5265 non-null   float64       \n",
      " 23  rougher.state.floatbank10_a_air             5290 non-null   float64       \n",
      " 24  rougher.state.floatbank10_a_level           5290 non-null   float64       \n",
      " 25  rougher.state.floatbank10_b_air             5290 non-null   float64       \n",
      " 26  rougher.state.floatbank10_b_level           5290 non-null   float64       \n",
      " 27  rougher.state.floatbank10_c_air             5290 non-null   float64       \n",
      " 28  rougher.state.floatbank10_c_level           5290 non-null   float64       \n",
      " 29  rougher.state.floatbank10_d_air             5290 non-null   float64       \n",
      " 30  rougher.state.floatbank10_d_level           5290 non-null   float64       \n",
      " 31  rougher.state.floatbank10_e_air             5290 non-null   float64       \n",
      " 32  rougher.state.floatbank10_e_level           5290 non-null   float64       \n",
      " 33  rougher.state.floatbank10_f_air             5290 non-null   float64       \n",
      " 34  rougher.state.floatbank10_f_level           5290 non-null   float64       \n",
      " 35  secondary_cleaner.state.floatbank2_a_air    5287 non-null   float64       \n",
      " 36  secondary_cleaner.state.floatbank2_a_level  5290 non-null   float64       \n",
      " 37  secondary_cleaner.state.floatbank2_b_air    5288 non-null   float64       \n",
      " 38  secondary_cleaner.state.floatbank2_b_level  5290 non-null   float64       \n",
      " 39  secondary_cleaner.state.floatbank3_a_air    5281 non-null   float64       \n",
      " 40  secondary_cleaner.state.floatbank3_a_level  5290 non-null   float64       \n",
      " 41  secondary_cleaner.state.floatbank3_b_air    5290 non-null   float64       \n",
      " 42  secondary_cleaner.state.floatbank3_b_level  5290 non-null   float64       \n",
      " 43  secondary_cleaner.state.floatbank4_a_air    5290 non-null   float64       \n",
      " 44  secondary_cleaner.state.floatbank4_a_level  5290 non-null   float64       \n",
      " 45  secondary_cleaner.state.floatbank4_b_air    5290 non-null   float64       \n",
      " 46  secondary_cleaner.state.floatbank4_b_level  5290 non-null   float64       \n",
      " 47  secondary_cleaner.state.floatbank5_a_air    5290 non-null   float64       \n",
      " 48  secondary_cleaner.state.floatbank5_a_level  5290 non-null   float64       \n",
      " 49  secondary_cleaner.state.floatbank5_b_air    5290 non-null   float64       \n",
      " 50  secondary_cleaner.state.floatbank5_b_level  5290 non-null   float64       \n",
      " 51  secondary_cleaner.state.floatbank6_a_air    5290 non-null   float64       \n",
      " 52  secondary_cleaner.state.floatbank6_a_level  5290 non-null   float64       \n",
      "dtypes: datetime64[ns](1), float64(52)\n",
      "memory usage: 2.1 MB\n",
      "None\n",
      "\n",
      "Total sample:\n",
      "<class 'pandas.core.frame.DataFrame'>\n",
      "RangeIndex: 19439 entries, 0 to 19438\n",
      "Data columns (total 87 columns):\n",
      " #   Column                                              Non-Null Count  Dtype         \n",
      "---  ------                                              --------------  -----         \n",
      " 0   date                                                19439 non-null  datetime64[ns]\n",
      " 1   final.output.concentrate_ag                         19438 non-null  float64       \n",
      " 2   final.output.concentrate_pb                         19438 non-null  float64       \n",
      " 3   final.output.concentrate_sol                        19228 non-null  float64       \n",
      " 4   final.output.concentrate_au                         19439 non-null  float64       \n",
      " 5   final.output.recovery                               19439 non-null  float64       \n",
      " 6   final.output.tail_ag                                19438 non-null  float64       \n",
      " 7   final.output.tail_pb                                19338 non-null  float64       \n",
      " 8   final.output.tail_sol                               19433 non-null  float64       \n",
      " 9   final.output.tail_au                                19439 non-null  float64       \n",
      " 10  primary_cleaner.input.sulfate                       19415 non-null  float64       \n",
      " 11  primary_cleaner.input.depressant                    19402 non-null  float64       \n",
      " 12  primary_cleaner.input.feed_size                     19439 non-null  float64       \n",
      " 13  primary_cleaner.input.xanthate                      19335 non-null  float64       \n",
      " 14  primary_cleaner.output.concentrate_ag               19439 non-null  float64       \n",
      " 15  primary_cleaner.output.concentrate_pb               19323 non-null  float64       \n",
      " 16  primary_cleaner.output.concentrate_sol              19069 non-null  float64       \n",
      " 17  primary_cleaner.output.concentrate_au               19439 non-null  float64       \n",
      " 18  primary_cleaner.output.tail_ag                      19435 non-null  float64       \n",
      " 19  primary_cleaner.output.tail_pb                      19418 non-null  float64       \n",
      " 20  primary_cleaner.output.tail_sol                     19377 non-null  float64       \n",
      " 21  primary_cleaner.output.tail_au                      19439 non-null  float64       \n",
      " 22  primary_cleaner.state.floatbank8_a_air              19435 non-null  float64       \n",
      " 23  primary_cleaner.state.floatbank8_a_level            19438 non-null  float64       \n",
      " 24  primary_cleaner.state.floatbank8_b_air              19435 non-null  float64       \n",
      " 25  primary_cleaner.state.floatbank8_b_level            19438 non-null  float64       \n",
      " 26  primary_cleaner.state.floatbank8_c_air              19437 non-null  float64       \n",
      " 27  primary_cleaner.state.floatbank8_c_level            19438 non-null  float64       \n",
      " 28  primary_cleaner.state.floatbank8_d_air              19436 non-null  float64       \n",
      " 29  primary_cleaner.state.floatbank8_d_level            19438 non-null  float64       \n",
      " 30  rougher.calculation.sulfate_to_au_concentrate       19437 non-null  float64       \n",
      " 31  rougher.calculation.floatbank10_sulfate_to_au_feed  19437 non-null  float64       \n",
      " 32  rougher.calculation.floatbank11_sulfate_to_au_feed  19437 non-null  float64       \n",
      " 33  rougher.calculation.au_pb_ratio                     19439 non-null  float64       \n",
      " 34  rougher.input.feed_ag                               19439 non-null  float64       \n",
      " 35  rougher.input.feed_pb                               19339 non-null  float64       \n",
      " 36  rougher.input.feed_rate                             19428 non-null  float64       \n",
      " 37  rougher.input.feed_size                             19294 non-null  float64       \n",
      " 38  rougher.input.feed_sol                              19340 non-null  float64       \n",
      " 39  rougher.input.feed_au                               19439 non-null  float64       \n",
      " 40  rougher.input.floatbank10_sulfate                   19405 non-null  float64       \n",
      " 41  rougher.input.floatbank10_xanthate                  19431 non-null  float64       \n",
      " 42  rougher.input.floatbank11_sulfate                   19395 non-null  float64       \n",
      " 43  rougher.input.floatbank11_xanthate                  18986 non-null  float64       \n",
      " 44  rougher.output.concentrate_ag                       19439 non-null  float64       \n",
      " 45  rougher.output.concentrate_pb                       19439 non-null  float64       \n",
      " 46  rougher.output.concentrate_sol                      19416 non-null  float64       \n",
      " 47  rougher.output.concentrate_au                       19439 non-null  float64       \n",
      " 48  rougher.output.recovery                             19439 non-null  float64       \n",
      " 49  rougher.output.tail_ag                              19438 non-null  float64       \n",
      " 50  rougher.output.tail_pb                              19439 non-null  float64       \n",
      " 51  rougher.output.tail_sol                             19439 non-null  float64       \n",
      " 52  rougher.output.tail_au                              19439 non-null  float64       \n",
      " 53  rougher.state.floatbank10_a_air                     19438 non-null  float64       \n",
      " 54  rougher.state.floatbank10_a_level                   19438 non-null  float64       \n",
      " 55  rougher.state.floatbank10_b_air                     19438 non-null  float64       \n",
      " 56  rougher.state.floatbank10_b_level                   19438 non-null  float64       \n",
      " 57  rougher.state.floatbank10_c_air                     19438 non-null  float64       \n",
      " 58  rougher.state.floatbank10_c_level                   19438 non-null  float64       \n",
      " 59  rougher.state.floatbank10_d_air                     19439 non-null  float64       \n",
      " 60  rougher.state.floatbank10_d_level                   19439 non-null  float64       \n",
      " 61  rougher.state.floatbank10_e_air                     19003 non-null  float64       \n",
      " 62  rougher.state.floatbank10_e_level                   19439 non-null  float64       \n",
      " 63  rougher.state.floatbank10_f_air                     19439 non-null  float64       \n",
      " 64  rougher.state.floatbank10_f_level                   19439 non-null  float64       \n",
      " 65  secondary_cleaner.output.tail_ag                    19437 non-null  float64       \n",
      " 66  secondary_cleaner.output.tail_pb                    19427 non-null  float64       \n",
      " 67  secondary_cleaner.output.tail_sol                   17691 non-null  float64       \n",
      " 68  secondary_cleaner.output.tail_au                    19439 non-null  float64       \n",
      " 69  secondary_cleaner.state.floatbank2_a_air            19219 non-null  float64       \n",
      " 70  secondary_cleaner.state.floatbank2_a_level          19438 non-null  float64       \n",
      " 71  secondary_cleaner.state.floatbank2_b_air            19416 non-null  float64       \n",
      " 72  secondary_cleaner.state.floatbank2_b_level          19438 non-null  float64       \n",
      " 73  secondary_cleaner.state.floatbank3_a_air            19426 non-null  float64       \n",
      " 74  secondary_cleaner.state.floatbank3_a_level          19438 non-null  float64       \n",
      " 75  secondary_cleaner.state.floatbank3_b_air            19438 non-null  float64       \n",
      " 76  secondary_cleaner.state.floatbank3_b_level          19438 non-null  float64       \n",
      " 77  secondary_cleaner.state.floatbank4_a_air            19433 non-null  float64       \n",
      " 78  secondary_cleaner.state.floatbank4_a_level          19438 non-null  float64       \n",
      " 79  secondary_cleaner.state.floatbank4_b_air            19438 non-null  float64       \n",
      " 80  secondary_cleaner.state.floatbank4_b_level          19438 non-null  float64       \n",
      " 81  secondary_cleaner.state.floatbank5_a_air            19438 non-null  float64       \n",
      " 82  secondary_cleaner.state.floatbank5_a_level          19438 non-null  float64       \n",
      " 83  secondary_cleaner.state.floatbank5_b_air            19438 non-null  float64       \n",
      " 84  secondary_cleaner.state.floatbank5_b_level          19438 non-null  float64       \n",
      " 85  secondary_cleaner.state.floatbank6_a_air            19437 non-null  float64       \n",
      " 86  secondary_cleaner.state.floatbank6_a_level          19438 non-null  float64       \n",
      "dtypes: datetime64[ns](1), float64(86)\n",
      "memory usage: 12.9 MB\n",
      "None\n"
     ]
    }
   ],
   "source": [
    "print('Training sample:')\n",
    "print(df_train.info())\n",
    "print()\n",
    "print('Test sample:')\n",
    "print(df_test.info())\n",
    "print()\n",
    "print('Total sample:')\n",
    "print(df_all.info())"
   ]
  },
  {
   "cell_type": "markdown",
   "metadata": {},
   "source": [
    "#### Conclusion"
   ]
  },
  {
   "cell_type": "markdown",
   "metadata": {},
   "source": [
    "The training data consists of 87 columns and 14149 terms\n",
    "\n",
    "The test data consists of 53 columns and 5290 rows\n",
    "\n",
    "Total data includes 87 columns and 19439 rows\n",
    "\n",
    "(some parameters are not available because they are measured and/or calculated much later)"
   ]
  },
  {
   "cell_type": "markdown",
   "metadata": {},
   "source": [
    "### Calculation of enrichment efficiency"
   ]
  },
  {
   "attachments": {
    "image-2.png": {
     "image/png": "[encoded data removed]"
    }
   },
   "cell_type": "markdown",
   "metadata": {},
   "source": [
    "![image-2.png](attachment:image-2.png)"
   ]
  },
  {
   "cell_type": "markdown",
   "metadata": {},
   "source": [
    "where:\n",
    "- C - is the proportion of gold in the concentrate after flotation/purification (rougher.output.concentrate_au);\n",
    "- F - the proportion of gold in the raw material/concentrate before flotation/purification (rougher.input.feed_au);\n",
    "- T - is the proportion of gold in the tails after flotation/cleaning (rougher.output.tail_au)."
   ]
  },
  {
   "cell_type": "code",
   "execution_count": 5,
   "metadata": {},
   "outputs": [],
   "source": [
    "c = df_train['rougher.output.concentrate_au']\n",
    "f = df_train['rougher.input.feed_au']\n",
    "t = df_train['rougher.output.tail_au']"
   ]
  },
  {
   "cell_type": "code",
   "execution_count": 6,
   "metadata": {},
   "outputs": [
    {
     "data": {
      "text/plain": [
       "0        87.107763\n",
       "1        86.843261\n",
       "2        86.842308\n",
       "3        87.226430\n",
       "4        86.688794\n",
       "           ...    \n",
       "14144    89.574376\n",
       "14145    87.724007\n",
       "14146    88.890579\n",
       "14147    89.858126\n",
       "14148    89.514960\n",
       "Length: 14149, dtype: float64"
      ]
     },
     "execution_count": 6,
     "metadata": {},
     "output_type": "execute_result"
    }
   ],
   "source": [
    "recovery = (c*(f-t))/(f*(c-t))*100\n",
    "recovery"
   ]
  },
  {
   "cell_type": "code",
   "execution_count": 7,
   "metadata": {},
   "outputs": [
    {
     "data": {
      "text/plain": [
       "count    14149.000000\n",
       "mean        82.704502\n",
       "std         14.479156\n",
       "min         -0.000000\n",
       "25%         79.993067\n",
       "50%         85.299462\n",
       "75%         90.165021\n",
       "max        100.000000\n",
       "dtype: float64"
      ]
     },
     "execution_count": 7,
     "metadata": {},
     "output_type": "execute_result"
    }
   ],
   "source": [
    "recovery.describe()"
   ]
  },
  {
   "cell_type": "code",
   "execution_count": 8,
   "metadata": {},
   "outputs": [
    {
     "data": {
      "text/plain": [
       "count    14149.000000\n",
       "mean        82.704502\n",
       "std         14.479156\n",
       "min          0.000000\n",
       "25%         79.993067\n",
       "50%         85.299462\n",
       "75%         90.165021\n",
       "max        100.000000\n",
       "Name: rougher.output.recovery, dtype: float64"
      ]
     },
     "execution_count": 8,
     "metadata": {},
     "output_type": "execute_result"
    }
   ],
   "source": [
    "df_train['rougher.output.recovery'].describe()"
   ]
  },
  {
   "cell_type": "code",
   "execution_count": 9,
   "metadata": {},
   "outputs": [
    {
     "name": "stdout",
     "output_type": "stream",
     "text": [
      "MAE: 9.73512347450521e-15\n"
     ]
    }
   ],
   "source": [
    "mae_train_recovery = mae(recovery,df_train['rougher.output.recovery'])\n",
    "print('MAE:',mae_train_recovery)"
   ]
  },
  {
   "cell_type": "markdown",
   "metadata": {},
   "source": [
    "#### Conclusion"
   ]
  },
  {
   "cell_type": "markdown",
   "metadata": {},
   "source": [
    "The calculation of the enrichment efficiency in the training sample was checked for correctness and it was revealed that the calculation was carried out correctly.\n",
    "\n",
    "Resulting value turned out to be small enough to be able to assert the correctness of the calculation\n",
    "\n",
    "MAE is very close to zero."
   ]
  },
  {
   "cell_type": "markdown",
   "metadata": {},
   "source": [
    "### Analysis of unavailable features in the test sample"
   ]
  },
  {
   "cell_type": "code",
   "execution_count": 10,
   "metadata": {},
   "outputs": [
    {
     "name": "stdout",
     "output_type": "stream",
     "text": [
      "Missing columns in the test sample:\n"
     ]
    },
    {
     "data": {
      "text/plain": [
       "0                           final.output.concentrate_ag\n",
       "1                           final.output.concentrate_au\n",
       "2                           final.output.concentrate_pb\n",
       "3                          final.output.concentrate_sol\n",
       "4                                 final.output.recovery\n",
       "5                                  final.output.tail_ag\n",
       "6                                  final.output.tail_au\n",
       "7                                  final.output.tail_pb\n",
       "8                                 final.output.tail_sol\n",
       "9                 primary_cleaner.output.concentrate_ag\n",
       "10                primary_cleaner.output.concentrate_au\n",
       "11                primary_cleaner.output.concentrate_pb\n",
       "12               primary_cleaner.output.concentrate_sol\n",
       "13                       primary_cleaner.output.tail_ag\n",
       "14                       primary_cleaner.output.tail_au\n",
       "15                       primary_cleaner.output.tail_pb\n",
       "16                      primary_cleaner.output.tail_sol\n",
       "17                      rougher.calculation.au_pb_ratio\n",
       "18    rougher.calculation.floatbank10_sulfate_to_au_...\n",
       "19    rougher.calculation.floatbank11_sulfate_to_au_...\n",
       "20        rougher.calculation.sulfate_to_au_concentrate\n",
       "21                        rougher.output.concentrate_ag\n",
       "22                        rougher.output.concentrate_au\n",
       "23                        rougher.output.concentrate_pb\n",
       "24                       rougher.output.concentrate_sol\n",
       "25                              rougher.output.recovery\n",
       "26                               rougher.output.tail_ag\n",
       "27                               rougher.output.tail_au\n",
       "28                               rougher.output.tail_pb\n",
       "29                              rougher.output.tail_sol\n",
       "30                     secondary_cleaner.output.tail_ag\n",
       "31                     secondary_cleaner.output.tail_au\n",
       "32                     secondary_cleaner.output.tail_pb\n",
       "33                    secondary_cleaner.output.tail_sol\n",
       "dtype: object"
      ]
     },
     "execution_count": 10,
     "metadata": {},
     "output_type": "execute_result"
    }
   ],
   "source": [
    "print(\"Missing columns in the test sample:\")\n",
    "dif_col = df_all.columns.difference(df_test.columns)\n",
    "dif_col = pd.Series(dif_col)\n",
    "dif_col"
   ]
  },
  {
   "cell_type": "code",
   "execution_count": 11,
   "metadata": {},
   "outputs": [
    {
     "name": "stdout",
     "output_type": "stream",
     "text": [
      "Number of missing columns: 34\n"
     ]
    }
   ],
   "source": [
    "print(\"Number of missing columns:\",len(df_all.columns.difference(df_test.columns)))"
   ]
  },
  {
   "cell_type": "markdown",
   "metadata": {},
   "source": [
    "#### Conclusion\n",
    "The missing columns in the test sample are:\n",
    "- \"product parameters\" (output) at each stage of processing;\n",
    "- \"design characteristics\" (calculations) after the flotation process;\n",
    "- target features \"roughing concentrate enrichment efficiency\" (rougher.output.recovery) and \"final concentrate enrichment efficiency\" (final.output.recovery).\n",
    "\n",
    "So they will have to be excluded from the training sample"
   ]
  },
  {
   "cell_type": "markdown",
   "metadata": {},
   "source": [
    "### Data preprocessing"
   ]
  },
  {
   "cell_type": "markdown",
   "metadata": {},
   "source": [
    "#### Processing of omissions"
   ]
  },
  {
   "cell_type": "code",
   "execution_count": 12,
   "metadata": {},
   "outputs": [
    {
     "data": {
      "text/plain": [
       "4100"
      ]
     },
     "execution_count": 12,
     "metadata": {},
     "output_type": "execute_result"
    }
   ],
   "source": [
    "df_train.isna().sum().sum()"
   ]
  },
  {
   "cell_type": "code",
   "execution_count": 13,
   "metadata": {},
   "outputs": [
    {
     "data": {
      "text/plain": [
       "90"
      ]
     },
     "execution_count": 13,
     "metadata": {},
     "output_type": "execute_result"
    }
   ],
   "source": [
    "df_test.isna().sum().sum()"
   ]
  },
  {
   "cell_type": "code",
   "execution_count": 14,
   "metadata": {},
   "outputs": [
    {
     "data": {
      "text/plain": [
       "4481"
      ]
     },
     "execution_count": 14,
     "metadata": {},
     "output_type": "execute_result"
    }
   ],
   "source": [
    "df_all.isna().sum().sum()"
   ]
  },
  {
   "cell_type": "markdown",
   "metadata": {},
   "source": [
    "As you can see, the datasets contain omissions\n",
    "\n",
    "In order to fill in these gaps, it was decided to use the **interpolate method**"
   ]
  },
  {
   "cell_type": "code",
   "execution_count": 15,
   "metadata": {
    "scrolled": true
   },
   "outputs": [
    {
     "name": "stdout",
     "output_type": "stream",
     "text": [
      "Number of missing values after processing: 0\n"
     ]
    }
   ],
   "source": [
    "df_train.index = df_train['date']\n",
    "df_train.drop('date',axis=1,inplace=True)\n",
    "df_train.interpolate(method='time',inplace=True)\n",
    "print('Number of missing values after processing:', df_train.isna().sum().sum())"
   ]
  },
  {
   "cell_type": "code",
   "execution_count": 16,
   "metadata": {
    "scrolled": true
   },
   "outputs": [
    {
     "name": "stdout",
     "output_type": "stream",
     "text": [
      "Number of missing values after processing: 0\n"
     ]
    }
   ],
   "source": [
    "df_test.index = df_test['date']\n",
    "df_test.drop('date',axis=1,inplace=True)\n",
    "df_test.interpolate(method='time',inplace=True)\n",
    "print('Number of missing values after processing:', df_test.isna().sum().sum())"
   ]
  },
  {
   "cell_type": "code",
   "execution_count": 17,
   "metadata": {},
   "outputs": [
    {
     "name": "stdout",
     "output_type": "stream",
     "text": [
      "Number of missing values after processing: 0\n"
     ]
    }
   ],
   "source": [
    "df_all.index = df_all['date']\n",
    "df_all.drop('date',axis=1,inplace=True)\n",
    "df_all.interpolate(method='time',inplace=True)\n",
    "print('Number of missing values after processing:', df_all.isna().sum().sum())"
   ]
  },
  {
   "cell_type": "markdown",
   "metadata": {},
   "source": [
    "#### Adding target features to the test sample and processing the training sample"
   ]
  },
  {
   "cell_type": "code",
   "execution_count": 18,
   "metadata": {},
   "outputs": [],
   "source": [
    "target_col = ['rougher.output.recovery','final.output.recovery']"
   ]
  },
  {
   "cell_type": "code",
   "execution_count": 19,
   "metadata": {},
   "outputs": [],
   "source": [
    "dif_col = list(dif_col)\n",
    "dif_col_new = []\n",
    "\n",
    "for i in dif_col:\n",
    "    if i not in target_col:\n",
    "        dif_col_new.append(i)"
   ]
  },
  {
   "cell_type": "code",
   "execution_count": 20,
   "metadata": {},
   "outputs": [],
   "source": [
    "df_train.drop(columns=dif_col_new, inplace=True)"
   ]
  },
  {
   "cell_type": "code",
   "execution_count": 21,
   "metadata": {},
   "outputs": [
    {
     "data": {
      "text/html": [
       "<div>\n",
       "<style scoped>\n",
       "    .dataframe tbody tr th:only-of-type {\n",
       "        vertical-align: middle;\n",
       "    }\n",
       "\n",
       "    .dataframe tbody tr th {\n",
       "        vertical-align: top;\n",
       "    }\n",
       "\n",
       "    .dataframe thead th {\n",
       "        text-align: right;\n",
       "    }\n",
       "</style>\n",
       "<table border=\"1\" class=\"dataframe\">\n",
       "  <thead>\n",
       "    <tr style=\"text-align: right;\">\n",
       "      <th></th>\n",
       "      <th>primary_cleaner.input.sulfate</th>\n",
       "      <th>primary_cleaner.input.depressant</th>\n",
       "      <th>primary_cleaner.input.feed_size</th>\n",
       "      <th>primary_cleaner.input.xanthate</th>\n",
       "      <th>primary_cleaner.state.floatbank8_a_air</th>\n",
       "      <th>primary_cleaner.state.floatbank8_a_level</th>\n",
       "      <th>primary_cleaner.state.floatbank8_b_air</th>\n",
       "      <th>primary_cleaner.state.floatbank8_b_level</th>\n",
       "      <th>primary_cleaner.state.floatbank8_c_air</th>\n",
       "      <th>primary_cleaner.state.floatbank8_c_level</th>\n",
       "      <th>...</th>\n",
       "      <th>secondary_cleaner.state.floatbank4_b_air</th>\n",
       "      <th>secondary_cleaner.state.floatbank4_b_level</th>\n",
       "      <th>secondary_cleaner.state.floatbank5_a_air</th>\n",
       "      <th>secondary_cleaner.state.floatbank5_a_level</th>\n",
       "      <th>secondary_cleaner.state.floatbank5_b_air</th>\n",
       "      <th>secondary_cleaner.state.floatbank5_b_level</th>\n",
       "      <th>secondary_cleaner.state.floatbank6_a_air</th>\n",
       "      <th>secondary_cleaner.state.floatbank6_a_level</th>\n",
       "      <th>rougher.output.recovery</th>\n",
       "      <th>final.output.recovery</th>\n",
       "    </tr>\n",
       "    <tr>\n",
       "      <th>date</th>\n",
       "      <th></th>\n",
       "      <th></th>\n",
       "      <th></th>\n",
       "      <th></th>\n",
       "      <th></th>\n",
       "      <th></th>\n",
       "      <th></th>\n",
       "      <th></th>\n",
       "      <th></th>\n",
       "      <th></th>\n",
       "      <th></th>\n",
       "      <th></th>\n",
       "      <th></th>\n",
       "      <th></th>\n",
       "      <th></th>\n",
       "      <th></th>\n",
       "      <th></th>\n",
       "      <th></th>\n",
       "      <th></th>\n",
       "      <th></th>\n",
       "      <th></th>\n",
       "    </tr>\n",
       "  </thead>\n",
       "  <tbody>\n",
       "    <tr>\n",
       "      <th>2016-09-01 00:59:59</th>\n",
       "      <td>210.800909</td>\n",
       "      <td>14.993118</td>\n",
       "      <td>8.080000</td>\n",
       "      <td>1.005021</td>\n",
       "      <td>1398.981301</td>\n",
       "      <td>-500.225577</td>\n",
       "      <td>1399.144926</td>\n",
       "      <td>-499.919735</td>\n",
       "      <td>1400.102998</td>\n",
       "      <td>-500.704369</td>\n",
       "      <td>...</td>\n",
       "      <td>8.016656</td>\n",
       "      <td>-501.289139</td>\n",
       "      <td>7.946562</td>\n",
       "      <td>-432.317850</td>\n",
       "      <td>4.872511</td>\n",
       "      <td>-500.037437</td>\n",
       "      <td>26.705889</td>\n",
       "      <td>-499.709414</td>\n",
       "      <td>89.993421</td>\n",
       "      <td>70.273583</td>\n",
       "    </tr>\n",
       "    <tr>\n",
       "      <th>2016-09-01 01:59:59</th>\n",
       "      <td>215.392455</td>\n",
       "      <td>14.987471</td>\n",
       "      <td>8.080000</td>\n",
       "      <td>0.990469</td>\n",
       "      <td>1398.777912</td>\n",
       "      <td>-500.057435</td>\n",
       "      <td>1398.055362</td>\n",
       "      <td>-499.778182</td>\n",
       "      <td>1396.151033</td>\n",
       "      <td>-499.240168</td>\n",
       "      <td>...</td>\n",
       "      <td>8.130979</td>\n",
       "      <td>-499.634209</td>\n",
       "      <td>7.958270</td>\n",
       "      <td>-525.839648</td>\n",
       "      <td>4.878850</td>\n",
       "      <td>-500.162375</td>\n",
       "      <td>25.019940</td>\n",
       "      <td>-499.819438</td>\n",
       "      <td>88.089657</td>\n",
       "      <td>68.910432</td>\n",
       "    </tr>\n",
       "    <tr>\n",
       "      <th>2016-09-01 02:59:59</th>\n",
       "      <td>215.259946</td>\n",
       "      <td>12.884934</td>\n",
       "      <td>7.786667</td>\n",
       "      <td>0.996043</td>\n",
       "      <td>1398.493666</td>\n",
       "      <td>-500.868360</td>\n",
       "      <td>1398.860436</td>\n",
       "      <td>-499.764529</td>\n",
       "      <td>1398.075709</td>\n",
       "      <td>-502.151509</td>\n",
       "      <td>...</td>\n",
       "      <td>8.096893</td>\n",
       "      <td>-500.827423</td>\n",
       "      <td>8.071056</td>\n",
       "      <td>-500.801673</td>\n",
       "      <td>4.905125</td>\n",
       "      <td>-499.828510</td>\n",
       "      <td>24.994862</td>\n",
       "      <td>-500.622559</td>\n",
       "      <td>88.412756</td>\n",
       "      <td>68.143213</td>\n",
       "    </tr>\n",
       "    <tr>\n",
       "      <th>2016-09-01 03:59:59</th>\n",
       "      <td>215.336236</td>\n",
       "      <td>12.006805</td>\n",
       "      <td>7.640000</td>\n",
       "      <td>0.863514</td>\n",
       "      <td>1399.618111</td>\n",
       "      <td>-498.863574</td>\n",
       "      <td>1397.440120</td>\n",
       "      <td>-499.211024</td>\n",
       "      <td>1400.129303</td>\n",
       "      <td>-498.355873</td>\n",
       "      <td>...</td>\n",
       "      <td>8.074946</td>\n",
       "      <td>-499.474407</td>\n",
       "      <td>7.897085</td>\n",
       "      <td>-500.868509</td>\n",
       "      <td>4.931400</td>\n",
       "      <td>-499.963623</td>\n",
       "      <td>24.948919</td>\n",
       "      <td>-498.709987</td>\n",
       "      <td>87.360133</td>\n",
       "      <td>67.776393</td>\n",
       "    </tr>\n",
       "    <tr>\n",
       "      <th>2016-09-01 04:59:59</th>\n",
       "      <td>199.099327</td>\n",
       "      <td>10.682530</td>\n",
       "      <td>7.530000</td>\n",
       "      <td>0.805575</td>\n",
       "      <td>1401.268123</td>\n",
       "      <td>-500.808305</td>\n",
       "      <td>1398.128818</td>\n",
       "      <td>-499.504543</td>\n",
       "      <td>1402.172226</td>\n",
       "      <td>-500.810606</td>\n",
       "      <td>...</td>\n",
       "      <td>8.054678</td>\n",
       "      <td>-500.397500</td>\n",
       "      <td>8.107890</td>\n",
       "      <td>-509.526725</td>\n",
       "      <td>4.957674</td>\n",
       "      <td>-500.360026</td>\n",
       "      <td>25.003331</td>\n",
       "      <td>-500.856333</td>\n",
       "      <td>83.236367</td>\n",
       "      <td>61.467078</td>\n",
       "    </tr>\n",
       "  </tbody>\n",
       "</table>\n",
       "<p>5 rows × 54 columns</p>\n",
       "</div>"
      ],
      "text/plain": [
       "                     primary_cleaner.input.sulfate  \\\n",
       "date                                                 \n",
       "2016-09-01 00:59:59                     210.800909   \n",
       "2016-09-01 01:59:59                     215.392455   \n",
       "2016-09-01 02:59:59                     215.259946   \n",
       "2016-09-01 03:59:59                     215.336236   \n",
       "2016-09-01 04:59:59                     199.099327   \n",
       "\n",
       "                     primary_cleaner.input.depressant  \\\n",
       "date                                                    \n",
       "2016-09-01 00:59:59                         14.993118   \n",
       "2016-09-01 01:59:59                         14.987471   \n",
       "2016-09-01 02:59:59                         12.884934   \n",
       "2016-09-01 03:59:59                         12.006805   \n",
       "2016-09-01 04:59:59                         10.682530   \n",
       "\n",
       "                     primary_cleaner.input.feed_size  \\\n",
       "date                                                   \n",
       "2016-09-01 00:59:59                         8.080000   \n",
       "2016-09-01 01:59:59                         8.080000   \n",
       "2016-09-01 02:59:59                         7.786667   \n",
       "2016-09-01 03:59:59                         7.640000   \n",
       "2016-09-01 04:59:59                         7.530000   \n",
       "\n",
       "                     primary_cleaner.input.xanthate  \\\n",
       "date                                                  \n",
       "2016-09-01 00:59:59                        1.005021   \n",
       "2016-09-01 01:59:59                        0.990469   \n",
       "2016-09-01 02:59:59                        0.996043   \n",
       "2016-09-01 03:59:59                        0.863514   \n",
       "2016-09-01 04:59:59                        0.805575   \n",
       "\n",
       "                     primary_cleaner.state.floatbank8_a_air  \\\n",
       "date                                                          \n",
       "2016-09-01 00:59:59                             1398.981301   \n",
       "2016-09-01 01:59:59                             1398.777912   \n",
       "2016-09-01 02:59:59                             1398.493666   \n",
       "2016-09-01 03:59:59                             1399.618111   \n",
       "2016-09-01 04:59:59                             1401.268123   \n",
       "\n",
       "                     primary_cleaner.state.floatbank8_a_level  \\\n",
       "date                                                            \n",
       "2016-09-01 00:59:59                               -500.225577   \n",
       "2016-09-01 01:59:59                               -500.057435   \n",
       "2016-09-01 02:59:59                               -500.868360   \n",
       "2016-09-01 03:59:59                               -498.863574   \n",
       "2016-09-01 04:59:59                               -500.808305   \n",
       "\n",
       "                     primary_cleaner.state.floatbank8_b_air  \\\n",
       "date                                                          \n",
       "2016-09-01 00:59:59                             1399.144926   \n",
       "2016-09-01 01:59:59                             1398.055362   \n",
       "2016-09-01 02:59:59                             1398.860436   \n",
       "2016-09-01 03:59:59                             1397.440120   \n",
       "2016-09-01 04:59:59                             1398.128818   \n",
       "\n",
       "                     primary_cleaner.state.floatbank8_b_level  \\\n",
       "date                                                            \n",
       "2016-09-01 00:59:59                               -499.919735   \n",
       "2016-09-01 01:59:59                               -499.778182   \n",
       "2016-09-01 02:59:59                               -499.764529   \n",
       "2016-09-01 03:59:59                               -499.211024   \n",
       "2016-09-01 04:59:59                               -499.504543   \n",
       "\n",
       "                     primary_cleaner.state.floatbank8_c_air  \\\n",
       "date                                                          \n",
       "2016-09-01 00:59:59                             1400.102998   \n",
       "2016-09-01 01:59:59                             1396.151033   \n",
       "2016-09-01 02:59:59                             1398.075709   \n",
       "2016-09-01 03:59:59                             1400.129303   \n",
       "2016-09-01 04:59:59                             1402.172226   \n",
       "\n",
       "                     primary_cleaner.state.floatbank8_c_level  ...  \\\n",
       "date                                                           ...   \n",
       "2016-09-01 00:59:59                               -500.704369  ...   \n",
       "2016-09-01 01:59:59                               -499.240168  ...   \n",
       "2016-09-01 02:59:59                               -502.151509  ...   \n",
       "2016-09-01 03:59:59                               -498.355873  ...   \n",
       "2016-09-01 04:59:59                               -500.810606  ...   \n",
       "\n",
       "                     secondary_cleaner.state.floatbank4_b_air  \\\n",
       "date                                                            \n",
       "2016-09-01 00:59:59                                  8.016656   \n",
       "2016-09-01 01:59:59                                  8.130979   \n",
       "2016-09-01 02:59:59                                  8.096893   \n",
       "2016-09-01 03:59:59                                  8.074946   \n",
       "2016-09-01 04:59:59                                  8.054678   \n",
       "\n",
       "                     secondary_cleaner.state.floatbank4_b_level  \\\n",
       "date                                                              \n",
       "2016-09-01 00:59:59                                 -501.289139   \n",
       "2016-09-01 01:59:59                                 -499.634209   \n",
       "2016-09-01 02:59:59                                 -500.827423   \n",
       "2016-09-01 03:59:59                                 -499.474407   \n",
       "2016-09-01 04:59:59                                 -500.397500   \n",
       "\n",
       "                     secondary_cleaner.state.floatbank5_a_air  \\\n",
       "date                                                            \n",
       "2016-09-01 00:59:59                                  7.946562   \n",
       "2016-09-01 01:59:59                                  7.958270   \n",
       "2016-09-01 02:59:59                                  8.071056   \n",
       "2016-09-01 03:59:59                                  7.897085   \n",
       "2016-09-01 04:59:59                                  8.107890   \n",
       "\n",
       "                     secondary_cleaner.state.floatbank5_a_level  \\\n",
       "date                                                              \n",
       "2016-09-01 00:59:59                                 -432.317850   \n",
       "2016-09-01 01:59:59                                 -525.839648   \n",
       "2016-09-01 02:59:59                                 -500.801673   \n",
       "2016-09-01 03:59:59                                 -500.868509   \n",
       "2016-09-01 04:59:59                                 -509.526725   \n",
       "\n",
       "                     secondary_cleaner.state.floatbank5_b_air  \\\n",
       "date                                                            \n",
       "2016-09-01 00:59:59                                  4.872511   \n",
       "2016-09-01 01:59:59                                  4.878850   \n",
       "2016-09-01 02:59:59                                  4.905125   \n",
       "2016-09-01 03:59:59                                  4.931400   \n",
       "2016-09-01 04:59:59                                  4.957674   \n",
       "\n",
       "                     secondary_cleaner.state.floatbank5_b_level  \\\n",
       "date                                                              \n",
       "2016-09-01 00:59:59                                 -500.037437   \n",
       "2016-09-01 01:59:59                                 -500.162375   \n",
       "2016-09-01 02:59:59                                 -499.828510   \n",
       "2016-09-01 03:59:59                                 -499.963623   \n",
       "2016-09-01 04:59:59                                 -500.360026   \n",
       "\n",
       "                     secondary_cleaner.state.floatbank6_a_air  \\\n",
       "date                                                            \n",
       "2016-09-01 00:59:59                                 26.705889   \n",
       "2016-09-01 01:59:59                                 25.019940   \n",
       "2016-09-01 02:59:59                                 24.994862   \n",
       "2016-09-01 03:59:59                                 24.948919   \n",
       "2016-09-01 04:59:59                                 25.003331   \n",
       "\n",
       "                     secondary_cleaner.state.floatbank6_a_level  \\\n",
       "date                                                              \n",
       "2016-09-01 00:59:59                                 -499.709414   \n",
       "2016-09-01 01:59:59                                 -499.819438   \n",
       "2016-09-01 02:59:59                                 -500.622559   \n",
       "2016-09-01 03:59:59                                 -498.709987   \n",
       "2016-09-01 04:59:59                                 -500.856333   \n",
       "\n",
       "                     rougher.output.recovery  final.output.recovery  \n",
       "date                                                                 \n",
       "2016-09-01 00:59:59                89.993421              70.273583  \n",
       "2016-09-01 01:59:59                88.089657              68.910432  \n",
       "2016-09-01 02:59:59                88.412756              68.143213  \n",
       "2016-09-01 03:59:59                87.360133              67.776393  \n",
       "2016-09-01 04:59:59                83.236367              61.467078  \n",
       "\n",
       "[5 rows x 54 columns]"
      ]
     },
     "execution_count": 21,
     "metadata": {},
     "output_type": "execute_result"
    }
   ],
   "source": [
    "df_test = pd.merge(df_test, df_all[target_col], left_index=True, right_index=True)\n",
    "df_test.head()"
   ]
  },
  {
   "cell_type": "markdown",
   "metadata": {},
   "source": [
    "#### Conclusion"
   ]
  },
  {
   "cell_type": "markdown",
   "metadata": {},
   "source": [
    "1) The missing values were filled in by the interpolate method;\n",
    "\n",
    "2) Missing data in the test sample was deleted in the training;\n",
    "\n",
    "3) Target features have been added to the test sample"
   ]
  },
  {
   "cell_type": "markdown",
   "metadata": {},
   "source": [
    "## Data analysis"
   ]
  },
  {
   "cell_type": "markdown",
   "metadata": {},
   "source": [
    "### Concentration of metals (Au, Ag, Pb) at various stages of purification"
   ]
  },
  {
   "cell_type": "markdown",
   "metadata": {},
   "source": [
    "#### Concentration of metals (Au, Ag, Pb) at the flotation stage"
   ]
  },
  {
   "cell_type": "code",
   "execution_count": 22,
   "metadata": {},
   "outputs": [],
   "source": [
    "au_conc_flot = df_all.reset_index()['rougher.output.concentrate_au']\n",
    "ag_conc_flot = df_all.reset_index()['rougher.output.concentrate_ag']\n",
    "pb_conc_flot = df_all.reset_index()['rougher.output.concentrate_pb']"
   ]
  },
  {
   "cell_type": "code",
   "execution_count": 23,
   "metadata": {},
   "outputs": [
    {
     "data": {
      "text/plain": [
       "<matplotlib.legend.Legend at 0x248a63b7160>"
      ]
     },
     "execution_count": 23,
     "metadata": {},
     "output_type": "execute_result"
    },
    {
     "data": {
      "image/png": "[encoded data removed]",
      "text/plain": [
       "<Figure size 1152x648 with 1 Axes>"
      ]
     },
     "metadata": {
      "needs_background": "light"
     },
     "output_type": "display_data"
    }
   ],
   "source": [
    "kwargs = dict(alpha=0.5, bins=100)\n",
    "plt.figure(figsize=(16,9))\n",
    "plt.hist(au_conc_flot, **kwargs, color='g', label='Au')\n",
    "plt.hist(ag_conc_flot, **kwargs, color='b', label='Ag')\n",
    "plt.hist(pb_conc_flot, **kwargs, color='r', label='Pb')\n",
    "plt.gca().set(title='Frequency Histogram of Metal Concentrarions (Flotation)', \n",
    "              ylabel='Frequency', xlabel = 'Metal concentrate, %')\n",
    "plt.legend()"
   ]
  },
  {
   "cell_type": "markdown",
   "metadata": {},
   "source": [
    "##### Conclusion"
   ]
  },
  {
   "cell_type": "markdown",
   "metadata": {},
   "source": [
    "As can be seen from the graphs, at the flotation stage:\n",
    "- Au metal has the highest concentration;\n",
    "- The intermediate concentration value is Ag;\n",
    "- Pb metal has the lowest concentration."
   ]
  },
  {
   "cell_type": "markdown",
   "metadata": {},
   "source": [
    "#### Concentration of metals (Au, Ag, Pb) at the stage of primary purification"
   ]
  },
  {
   "cell_type": "code",
   "execution_count": 24,
   "metadata": {},
   "outputs": [],
   "source": [
    "au_conc_primary = df_all.reset_index()['primary_cleaner.output.concentrate_au']\n",
    "ag_conc_primary = df_all.reset_index()['primary_cleaner.output.concentrate_ag']\n",
    "pb_conc_primary = df_all.reset_index()['primary_cleaner.output.concentrate_pb']"
   ]
  },
  {
   "cell_type": "code",
   "execution_count": 25,
   "metadata": {},
   "outputs": [
    {
     "data": {
      "text/plain": [
       "<matplotlib.legend.Legend at 0x248a6845e50>"
      ]
     },
     "execution_count": 25,
     "metadata": {},
     "output_type": "execute_result"
    },
    {
     "data": {
      "image/png": "[encoded data removed]",
      "text/plain": [
       "<Figure size 1152x648 with 1 Axes>"
      ]
     },
     "metadata": {
      "needs_background": "light"
     },
     "output_type": "display_data"
    }
   ],
   "source": [
    "kwargs = dict(alpha=0.5, bins=100)\n",
    "plt.figure(figsize=(16,9))\n",
    "plt.hist(au_conc_primary, **kwargs, color='g', label='Au')\n",
    "plt.hist(ag_conc_primary, **kwargs, color='b', label='Ag')\n",
    "plt.hist(pb_conc_primary, **kwargs, color='r', label='Pb')\n",
    "plt.gca().set(title='Frequency Histogram of Metal Concentrarions (Primary Cleaner)', \n",
    "              ylabel='Frequency', xlabel = 'Metal concentrate, %')\n",
    "plt.legend()"
   ]
  },
  {
   "cell_type": "markdown",
   "metadata": {},
   "source": [
    "##### Conclusion"
   ]
  },
  {
   "cell_type": "markdown",
   "metadata": {},
   "source": [
    "As can be seen from the graphs, at the stage of primary processing:\n",
    "- Au metal still has the highest concentration, but it has increased significantly;\n",
    "- The concentration of metal Ag has decreased slightly;\n",
    "- The concentration of Pb metal has slightly increased."
   ]
  },
  {
   "cell_type": "markdown",
   "metadata": {},
   "source": [
    "#### Concentration of metals (Au, Ag, Pb) at the final stage of purification"
   ]
  },
  {
   "cell_type": "code",
   "execution_count": 26,
   "metadata": {},
   "outputs": [],
   "source": [
    "au_conc_final = df_all.reset_index()['final.output.concentrate_au']\n",
    "ag_conc_final = df_all.reset_index()['final.output.concentrate_ag']\n",
    "pb_conc_final = df_all.reset_index()['final.output.concentrate_pb']"
   ]
  },
  {
   "cell_type": "code",
   "execution_count": 27,
   "metadata": {},
   "outputs": [
    {
     "data": {
      "text/plain": [
       "<matplotlib.legend.Legend at 0x248a688d3d0>"
      ]
     },
     "execution_count": 27,
     "metadata": {},
     "output_type": "execute_result"
    },
    {
     "data": {
      "image/png": "[encoded data removed]",
      "text/plain": [
       "<Figure size 1152x648 with 1 Axes>"
      ]
     },
     "metadata": {
      "needs_background": "light"
     },
     "output_type": "display_data"
    }
   ],
   "source": [
    "kwargs = dict(alpha=0.5, bins=100)\n",
    "plt.figure(figsize=(16,9))\n",
    "plt.hist(au_conc_final, **kwargs, color='g', label='Au')\n",
    "plt.hist(ag_conc_final, **kwargs, color='b', label='Ag')\n",
    "plt.hist(pb_conc_final, **kwargs, color='r', label='Pb')\n",
    "plt.gca().set(title='Frequency Histogram of Metal Concentrarions (Final)', ylabel='Frequency', xlabel = 'Metal concentrate, %')\n",
    "plt.legend()"
   ]
  },
  {
   "cell_type": "markdown",
   "metadata": {},
   "source": [
    "##### Conclusion"
   ]
  },
  {
   "cell_type": "markdown",
   "metadata": {},
   "source": [
    "As can be seen from the graphs, at the stage of primary processing:\n",
    "- Au metal still has the highest concentration, but it has increased significantly;\n",
    "- The concentration of metal Ag has decreased slightly;\n",
    "- The concentration of Pb metal remained approximately at the same level."
   ]
  },
  {
   "cell_type": "markdown",
   "metadata": {},
   "source": [
    "#### General Conclusion"
   ]
  },
  {
   "cell_type": "markdown",
   "metadata": {},
   "source": [
    "The concentration of metals varied at different stages of purification\n",
    "\n",
    "The median concentration values changed as follows:\n",
    "\n",
    "- Au - flotation (21%), final concentration (46%)\n",
    "- Ag - flotation (12%), final concentration (5%)\n",
    "- Pb - flotation (7%), final concentration (10%)"
   ]
  },
  {
   "cell_type": "markdown",
   "metadata": {},
   "source": [
    "### Comparison of raw material granule distributions"
   ]
  },
  {
   "cell_type": "code",
   "execution_count": 28,
   "metadata": {},
   "outputs": [],
   "source": [
    "feed_size_train = df_train['rougher.input.feed_size']\n",
    "feed_size_test = df_test['rougher.input.feed_size']"
   ]
  },
  {
   "cell_type": "code",
   "execution_count": 29,
   "metadata": {},
   "outputs": [
    {
     "data": {
      "text/plain": [
       "<matplotlib.legend.Legend at 0x248ab9c0490>"
      ]
     },
     "execution_count": 29,
     "metadata": {},
     "output_type": "execute_result"
    },
    {
     "data": {
      "image/png": "[encoded data removed]",
      "text/plain": [
       "<Figure size 1152x648 with 1 Axes>"
      ]
     },
     "metadata": {
      "needs_background": "light"
     },
     "output_type": "display_data"
    }
   ],
   "source": [
    "plt.figure(figsize=(16,9))\n",
    "sns.distplot(feed_size_train, color='r', label='Train')\n",
    "sns.distplot(feed_size_test, color='g', label='Test')\n",
    "plt.xlim(0,150)\n",
    "plt.legend()"
   ]
  },
  {
   "cell_type": "markdown",
   "metadata": {},
   "source": [
    "#### Conclusion"
   ]
  },
  {
   "cell_type": "markdown",
   "metadata": {},
   "source": [
    "The distribution of raw material granules in the test and training samples are similar, the sample can be considered representative"
   ]
  },
  {
   "cell_type": "markdown",
   "metadata": {},
   "source": [
    "### The total concentration of all substances at different stages: in raw materials, in rough and final concentrates"
   ]
  },
  {
   "cell_type": "code",
   "execution_count": 30,
   "metadata": {},
   "outputs": [],
   "source": [
    "au_conc_flot = df_all.reset_index()['rougher.input.feed_au']\n",
    "ag_conc_flot = df_all.reset_index()['rougher.input.feed_ag']\n",
    "pb_conc_flot = df_all.reset_index()['rougher.input.feed_pb']\n",
    "\n",
    "au_conc_primary = df_all.reset_index()['rougher.output.concentrate_au']\n",
    "ag_conc_primary = df_all.reset_index()['rougher.output.concentrate_ag']\n",
    "pb_conc_primary = df_all.reset_index()['rougher.output.concentrate_pb']"
   ]
  },
  {
   "cell_type": "code",
   "execution_count": 31,
   "metadata": {},
   "outputs": [],
   "source": [
    "df_sum_conc_rough = au_conc_flot+ag_conc_flot+pb_conc_flot+df_all.reset_index()['rougher.input.feed_sol']\n",
    "df_sum_conc_primary = au_conc_primary+ag_conc_primary+pb_conc_primary+df_all.reset_index()['rougher.output.concentrate_sol']\n",
    "df_sum_conc_final = au_conc_final+ag_conc_final+pb_conc_final+df_all.reset_index()['final.output.concentrate_sol']"
   ]
  },
  {
   "cell_type": "code",
   "execution_count": 32,
   "metadata": {},
   "outputs": [
    {
     "data": {
      "text/plain": [
       "<matplotlib.legend.Legend at 0x248ae3d6220>"
      ]
     },
     "execution_count": 32,
     "metadata": {},
     "output_type": "execute_result"
    },
    {
     "data": {
      "image/png": "[encoded data removed]",
      "text/plain": [
       "<Figure size 1152x648 with 1 Axes>"
      ]
     },
     "metadata": {
      "needs_background": "light"
     },
     "output_type": "display_data"
    }
   ],
   "source": [
    "kwargs = dict(alpha=0.5, bins=100)\n",
    "plt.figure(figsize=(16,9))\n",
    "plt.hist(df_sum_conc_rough, **kwargs, color='g', label='Raw material')\n",
    "plt.hist(df_sum_conc_primary, **kwargs, color='b', label='Rough concentrate')\n",
    "plt.hist(df_sum_conc_final, **kwargs, color='r', label='Final concentrate')\n",
    "plt.gca().set(title='Frequency Histogram of Metal Sum Concentrarions', ylabel='Frequency', xlabel = 'Metal concentrate, %')\n",
    "plt.legend()"
   ]
  },
  {
   "cell_type": "code",
   "execution_count": 33,
   "metadata": {},
   "outputs": [
    {
     "name": "stdout",
     "output_type": "stream",
     "text": [
      "count    19439.000000\n",
      "mean        57.318892\n",
      "std          7.211533\n",
      "min          0.040000\n",
      "25%         53.552406\n",
      "50%         57.587818\n",
      "75%         61.953459\n",
      "max         76.978947\n",
      "dtype: float64\n",
      "\n",
      "count    19439.000000\n",
      "mean        68.174751\n",
      "std         12.485095\n",
      "min          0.000000\n",
      "25%         66.015877\n",
      "50%         70.181987\n",
      "75%         74.358248\n",
      "max         88.140119\n",
      "dtype: float64\n",
      "\n",
      "count    19439.000000\n",
      "mean        68.659392\n",
      "std          7.422649\n",
      "min          0.000000\n",
      "25%         67.934878\n",
      "50%         69.599462\n",
      "75%         71.368472\n",
      "max         80.210644\n",
      "dtype: float64\n"
     ]
    }
   ],
   "source": [
    "print(df_sum_conc_rough.describe())\n",
    "print()\n",
    "print(df_sum_conc_primary.describe())\n",
    "print()\n",
    "print(df_sum_conc_final.describe())"
   ]
  },
  {
   "cell_type": "markdown",
   "metadata": {},
   "source": [
    "At all stages, concentrations of 0% are present, and it is also clear from the distributions that there are data with a very low frequency in the range of 0-40%.\n",
    "\n",
    "In order not to confuse the model, it was decided to remove this data from all samples."
   ]
  },
  {
   "cell_type": "code",
   "execution_count": 34,
   "metadata": {},
   "outputs": [],
   "source": [
    "# We remove data from the general sample where the total concentration is less than 40% at each of the stages\n",
    "\n",
    "# Raw material stage\n",
    "df_all = df_all.query('`rougher.input.feed_au`+`rougher.input.feed_ag`+`rougher.input.feed_pb`+`rougher.input.feed_sol` >= 40')\n",
    "\n",
    "# Draft material stage\n",
    "df_all = df_all.query('`rougher.output.concentrate_au`+`rougher.output.concentrate_ag`+`rougher.output.concentrate_pb`+`rougher.output.concentrate_sol` >= 40')\n",
    "\n",
    "# Final processing stage\n",
    "df_all = df_all.query('`final.output.concentrate_au`+`final.output.concentrate_ag`+`final.output.concentrate_pb`+`final.output.concentrate_sol` >= 40')"
   ]
  },
  {
   "cell_type": "code",
   "execution_count": 35,
   "metadata": {},
   "outputs": [],
   "source": [
    "df_train = df_train[df_train.index.isin(df_all.index)]\n",
    "df_test = df_test[df_test.index.isin(df_all.index)]"
   ]
  },
  {
   "cell_type": "code",
   "execution_count": 36,
   "metadata": {},
   "outputs": [],
   "source": [
    "sum_conc_flot = df_all['rougher.input.feed_au']+df_all['rougher.input.feed_ag']+df_all['rougher.input.feed_pb']+df_all['rougher.input.feed_sol']\n",
    "sum_conc_primary = df_all['rougher.output.concentrate_au']+df_all['rougher.output.concentrate_ag']+df_all['rougher.output.concentrate_pb']+df_all['rougher.output.concentrate_sol']\n",
    "sum_conc_final = df_all['final.output.concentrate_au']+df_all['final.output.concentrate_ag']+df_all['final.output.concentrate_pb']+df_all['final.output.concentrate_sol']"
   ]
  },
  {
   "cell_type": "code",
   "execution_count": 37,
   "metadata": {},
   "outputs": [
    {
     "data": {
      "text/plain": [
       "<matplotlib.legend.Legend at 0x248aad28430>"
      ]
     },
     "execution_count": 37,
     "metadata": {},
     "output_type": "execute_result"
    },
    {
     "data": {
      "image/png": "[encoded data removed]",
      "text/plain": [
       "<Figure size 1152x648 with 1 Axes>"
      ]
     },
     "metadata": {
      "needs_background": "light"
     },
     "output_type": "display_data"
    }
   ],
   "source": [
    "kwargs = dict(alpha=0.5, bins=100)\n",
    "plt.figure(figsize=(16,9))\n",
    "plt.hist(sum_conc_flot, **kwargs, color='g', label='Raw material')\n",
    "plt.hist(sum_conc_primary, **kwargs, color='b', label='Rough concentrate')\n",
    "plt.hist(sum_conc_final, **kwargs, color='r', label='Final concentrate')\n",
    "plt.gca().set(title='Frequency Histogram of Metal Sum Concentrarions', ylabel='Frequency', xlabel = 'Metal concentrate, %')\n",
    "plt.legend()"
   ]
  },
  {
   "cell_type": "markdown",
   "metadata": {},
   "source": [
    "#### Conclusion"
   ]
  },
  {
   "cell_type": "markdown",
   "metadata": {},
   "source": [
    "In order not to confuse the model, it was decided to remove from the data lines in which the total concentration of metals was below 40%"
   ]
  },
  {
   "cell_type": "markdown",
   "metadata": {},
   "source": [
    "## Model"
   ]
  },
  {
   "cell_type": "markdown",
   "metadata": {},
   "source": [
    "### Function for calculating the final sMAPE"
   ]
  },
  {
   "attachments": {
    "image.png": {
     "image/png": "[encoded data removed]"
    }
   },
   "cell_type": "markdown",
   "metadata": {},
   "source": [
    "![image.png](attachment:image.png)"
   ]
  },
  {
   "attachments": {
    "image.png": {
     "image/png": "[encoded data removed]"
    }
   },
   "cell_type": "markdown",
   "metadata": {},
   "source": [
    "![image.png](attachment:image.png)"
   ]
  },
  {
   "cell_type": "markdown",
   "metadata": {},
   "source": [
    "y - target, y^ - prediction"
   ]
  },
  {
   "cell_type": "code",
   "execution_count": 38,
   "metadata": {},
   "outputs": [],
   "source": [
    "def smape_final(target_rough,prediction_rough,target_fin,prediction_fin):\n",
    "    smape_rough = abs(target_rough-prediction_rough)/((abs(target_rough)+abs(prediction_rough))/2)\n",
    "    smape_rough = smape_rough.sum()/len(smape_rough)*100\n",
    "    \n",
    "    smape_fin = abs(target_fin-prediction_fin)/((abs(target_fin)+abs(prediction_fin))/2)\n",
    "    smape_fin = smape_fin.sum()/len(smape_fin)*100\n",
    "    \n",
    "    return 0.25*smape_rough+0.75*smape_fin"
   ]
  },
  {
   "cell_type": "markdown",
   "metadata": {},
   "source": [
    "### Training of different models"
   ]
  },
  {
   "cell_type": "code",
   "execution_count": 39,
   "metadata": {
    "scrolled": false
   },
   "outputs": [],
   "source": [
    "df_train.reset_index(inplace=True)\n",
    "df_train.drop('date',axis=1,inplace=True)"
   ]
  },
  {
   "cell_type": "code",
   "execution_count": 40,
   "metadata": {},
   "outputs": [],
   "source": [
    "features = df_train.drop(['rougher.output.recovery','final.output.recovery'],axis=1)\n",
    "target = df_train[['rougher.output.recovery','final.output.recovery']]"
   ]
  },
  {
   "cell_type": "markdown",
   "metadata": {},
   "source": [
    "#### Linear Regression"
   ]
  },
  {
   "cell_type": "code",
   "execution_count": 41,
   "metadata": {},
   "outputs": [
    {
     "name": "stdout",
     "output_type": "stream",
     "text": [
      "Average MAE rough: 6.186\n",
      "Average MAE final: 6.792\n",
      "Final sMAPE: 9.718\n"
     ]
    }
   ],
   "source": [
    "# LinearRegression\n",
    "mae_r = []\n",
    "mae_f = []\n",
    "\n",
    "smape_final_list = []\n",
    "\n",
    "sample_size = int(len(df_train)/4)\n",
    "\n",
    "for i in range(0, len(df_train), sample_size):\n",
    "    valid_indexes = df_train.iloc[i:i+sample_size].index\n",
    "    train_indexes = (df_train.iloc[:i] + df_train.iloc[i + sample_size:]).index\n",
    "    \n",
    "    features_train = features.iloc[train_indexes]\n",
    "    features_valid = features.iloc[valid_indexes]\n",
    "    target_train = target.iloc[train_indexes]\n",
    "    target_valid = target.iloc[valid_indexes]\n",
    "\n",
    "    model_lr = LinearRegression()\n",
    "    \n",
    "    model_lr_r = model_lr.fit(features_train, target_train['rougher.output.recovery'])\n",
    "    model_predictions_r = model_lr_r.predict(features_valid)\n",
    "    model_predictions_r = pd.Series(model_predictions_r,index=features_valid.index)\n",
    "    \n",
    "    model_lr_f = model_lr.fit(features_train, target_train['final.output.recovery'])\n",
    "    model_predictions_f = model_lr_f.predict(features_valid)\n",
    "    model_predictions_f = pd.Series(model_predictions_f,index=features_valid.index)\n",
    "    \n",
    "    mae_r_score = mean_absolute_error(target_valid['rougher.output.recovery'], model_predictions_r)\n",
    "    mae_f_score = mean_absolute_error(target_valid['final.output.recovery'], model_predictions_f)\n",
    "\n",
    "    mae_r.append(mae_r_score)\n",
    "    mae_f.append(mae_f_score)\n",
    "    \n",
    "    smape_final_list.append(smape_final(target_valid['rougher.output.recovery'],model_predictions_r,target_valid['final.output.recovery'],model_predictions_f))\n",
    "\n",
    "        \n",
    "mae_r = mae_r[:-1]   \n",
    "mae_f = mae_f[:-1] \n",
    "\n",
    "\n",
    "final_mae_r_score = sum(mae_r)/len(mae_r)\n",
    "final_mae_f_score = sum(mae_f)/len(mae_f)\n",
    "\n",
    "if len(df_train)%4 != 0:\n",
    "            smape_final_list = smape_final_list[:-1]\n",
    "final_sMAPE_score = sum(smape_final_list)/len(smape_final_list)\n",
    "\n",
    "print('Average MAE rough:', round(final_mae_r_score,3))\n",
    "print('Average MAE final:', round(final_mae_f_score,3))\n",
    "print('Final sMAPE:', round(final_sMAPE_score,3))"
   ]
  },
  {
   "cell_type": "markdown",
   "metadata": {},
   "source": [
    "#### Decision Tree"
   ]
  },
  {
   "cell_type": "code",
   "execution_count": 42,
   "metadata": {},
   "outputs": [
    {
     "name": "stdout",
     "output_type": "stream",
     "text": [
      "Best max_depth: 2\n",
      "Final sMAPE: 9.256\n"
     ]
    }
   ],
   "source": [
    "# Decision Tree\n",
    "\n",
    "# sample_size for validation\n",
    "sample_size = int(len(df_train)/4)\n",
    "\n",
    "best_depth = 0\n",
    "best_smape_score = 1000000000000000\n",
    "    \n",
    "for max_depth in range(2,10):\n",
    "    smape_final_list = []\n",
    "    for i in range(0, len(df_train), sample_size):\n",
    "        valid_indexes = df_train.iloc[i:i+sample_size].index\n",
    "        train_indexes = (df_train.iloc[:i] + df_train.iloc[i + sample_size:]).index\n",
    "\n",
    "        features_train = features.iloc[train_indexes]\n",
    "        features_valid = features.iloc[valid_indexes]\n",
    "        target_train = target.iloc[train_indexes]\n",
    "        target_valid = target.iloc[valid_indexes]\n",
    "\n",
    "        model_dt=DecisionTreeRegressor(random_state=12345,max_depth=max_depth)\n",
    "\n",
    "        model_dt_r = model_dt.fit(features_train, target_train['rougher.output.recovery'])\n",
    "        model_predictions_r = model_dt_r.predict(features_valid)\n",
    "        model_predictions_r = pd.Series(model_predictions_r,index=features_valid.index)\n",
    "\n",
    "        model_dt_f = model_dt.fit(features_train, target_train['final.output.recovery'])\n",
    "        model_predictions_f = model_dt_f.predict(features_valid)\n",
    "        model_predictions_f = pd.Series(model_predictions_f,index=features_valid.index)\n",
    "\n",
    "        smape_final_list.append(smape_final(target_valid['rougher.output.recovery'],\n",
    "                                            model_predictions_r,target_valid['final.output.recovery'],model_predictions_f))\n",
    "\n",
    "    if len(df_train)%4 != 0:\n",
    "            smape_final_list = smape_final_list[:-1]\n",
    "    final_sMAPE_score = sum(smape_final_list)/len(smape_final_list)\n",
    "    if final_sMAPE_score < best_smape_score:\n",
    "        best_smape_score = final_sMAPE_score\n",
    "        best_depth = max_depth\n",
    "\n",
    "print('Best max_depth:', best_depth)\n",
    "print('Final sMAPE:', round(best_smape_score,3))"
   ]
  },
  {
   "cell_type": "markdown",
   "metadata": {},
   "source": [
    "#### Random Forest"
   ]
  },
  {
   "cell_type": "code",
   "execution_count": 43,
   "metadata": {},
   "outputs": [
    {
     "name": "stdout",
     "output_type": "stream",
     "text": [
      "Best max_depth: 8\n",
      "Best estimators: 50\n",
      "Final sMAPE: 8.73\n",
      "Wall time: 1h 56min 10s\n"
     ]
    }
   ],
   "source": [
    "%%time\n",
    "# Random Forest\n",
    "\n",
    "# sample_size for validation\n",
    "sample_size = int(len(df_train)/4)\n",
    "\n",
    "best_depth = 0\n",
    "best_estimators = 0\n",
    "best_smape_score = 1000000000000000\n",
    "    \n",
    "for estimators in range(50,111,20):\n",
    "    for max_depth in range(2,9):\n",
    "        smape_final_list = []\n",
    "        for i in range(0, len(df_train), sample_size):\n",
    "            valid_indexes = df_train.iloc[i:i+sample_size].index\n",
    "            train_indexes = (df_train.iloc[:i] + df_train.iloc[i + sample_size:]).index\n",
    "    \n",
    "            features_train = features.iloc[train_indexes]\n",
    "            features_valid = features.iloc[valid_indexes]\n",
    "            target_train = target.iloc[train_indexes]\n",
    "            target_valid = target.iloc[valid_indexes]\n",
    "            \n",
    "            model_rndm=RandomForestRegressor(random_state=12345,max_depth=max_depth,n_estimators=estimators)\n",
    "            \n",
    "            model_rndm_r = model_rndm.fit(features_train, target_train['rougher.output.recovery'])\n",
    "            model_predictions_r = model_rndm_r.predict(features_valid)\n",
    "            model_predictions_r = pd.Series(model_predictions_r,index=features_valid.index)\n",
    "\n",
    "            model_rndm_f = model_rndm.fit(features_train, target_train['final.output.recovery'])\n",
    "            model_predictions_f = model_rndm_f.predict(features_valid)\n",
    "            model_predictions_f = pd.Series(model_predictions_f,index=features_valid.index)\n",
    "\n",
    "            smape_final_list.append(smape_final(target_valid['rougher.output.recovery'],\n",
    "                                                model_predictions_r,target_valid['final.output.recovery'],model_predictions_f))\n",
    "            \n",
    "        if len(df_train)%4 != 0:\n",
    "            smape_final_list = smape_final_list[:-1]\n",
    "        final_sMAPE_score = sum(smape_final_list)/len(smape_final_list)\n",
    "        if final_sMAPE_score < best_smape_score:\n",
    "            best_smape_score = final_sMAPE_score\n",
    "            best_depth = max_depth\n",
    "            best_estimators = estimators\n",
    "\n",
    "print('Best max_depth:', best_depth)\n",
    "print('Best estimators:', best_estimators)\n",
    "print('Final sMAPE:', round(best_smape_score,3))"
   ]
  },
  {
   "cell_type": "markdown",
   "metadata": {},
   "source": [
    "#### Conclusion"
   ]
  },
  {
   "cell_type": "markdown",
   "metadata": {},
   "source": [
    "The optimal value of SMAPE was obtained in a Random Forest model:"
   ]
  },
  {
   "cell_type": "code",
   "execution_count": 44,
   "metadata": {},
   "outputs": [
    {
     "name": "stdout",
     "output_type": "stream",
     "text": [
      "Best max_depth: 8\n",
      "Best estimators: 50\n",
      "Final sMAPE: 8.73\n"
     ]
    }
   ],
   "source": [
    "print('Best max_depth:', best_depth)\n",
    "print('Best estimators:', best_estimators)\n",
    "print('Final sMAPE:', round(best_smape_score,3))"
   ]
  },
  {
   "cell_type": "markdown",
   "metadata": {},
   "source": [
    "### Test Model"
   ]
  },
  {
   "cell_type": "code",
   "execution_count": 45,
   "metadata": {},
   "outputs": [],
   "source": [
    "df_test.reset_index(inplace=True)\n",
    "df_test.drop('date',axis=1,inplace=True)\n",
    "\n",
    "features = df_test.drop(['rougher.output.recovery','final.output.recovery'],axis=1)\n",
    "target = df_test[['rougher.output.recovery','final.output.recovery']]"
   ]
  },
  {
   "cell_type": "code",
   "execution_count": 46,
   "metadata": {},
   "outputs": [
    {
     "name": "stdout",
     "output_type": "stream",
     "text": [
      "Final sMAPE: 7.759\n",
      "sMAPE (constant model): 10.762\n"
     ]
    }
   ],
   "source": [
    "#%%time\n",
    "# Random Forest\n",
    "\n",
    "sample_size = int(len(df_test)/4)\n",
    "    \n",
    "smape_final_list = []\n",
    "fake_smape_final_list = []\n",
    "\n",
    "for i in range(0, len(df_test), sample_size):\n",
    "    valid_indexes = df_test.iloc[i:i+sample_size].index\n",
    "    train_indexes = (df_test.iloc[:i] + df_test.iloc[i + sample_size:]).index\n",
    "\n",
    "    features_train = features.iloc[train_indexes]\n",
    "    features_valid = features.iloc[valid_indexes]\n",
    "    target_train = target.iloc[train_indexes]\n",
    "    target_valid = target.iloc[valid_indexes]\n",
    "\n",
    "    model_rndm=RandomForestRegressor(random_state=12345,max_depth=best_depth,n_estimators=best_estimators)\n",
    "\n",
    "    model_rndm_r = model_rndm.fit(features_train, target_train['rougher.output.recovery'])\n",
    "    model_predictions_r = model_rndm_r.predict(features_valid)\n",
    "    model_predictions_r = pd.Series(model_predictions_r,index=features_valid.index)\n",
    "\n",
    "    model_rndm_f = model_rndm.fit(features_train, target_train['final.output.recovery'])\n",
    "    model_predictions_f = model_rndm_f.predict(features_valid)\n",
    "    model_predictions_f = pd.Series(model_predictions_f,index=features_valid.index)\n",
    "    \n",
    "    model_predictions_r_fake = pd.Series(70,index=target_valid.index)\n",
    "    model_predictions_f_fake = pd.Series(70,index=target_valid.index)\n",
    "\n",
    "    smape_final_list.append(smape_final(target_valid['rougher.output.recovery'],\n",
    "                                        model_predictions_r,target_valid['final.output.recovery'],model_predictions_f))\n",
    "\n",
    "    fake_smape_final_list.append(smape_final(target_valid['rougher.output.recovery'],\n",
    "                                             model_predictions_r_fake,target_valid['final.output.recovery'],\n",
    "                                             model_predictions_f_fake))\n",
    "\n",
    "if len(df_test)%4 != 0:\n",
    "    smape_final_list = smape_final_list[:-1]\n",
    "    fake_smape_final_list = fake_smape_final_list[:-1]\n",
    "    \n",
    "final_sMAPE_score = sum(smape_final_list)/len(smape_final_list)\n",
    "fake_final_sMAPE_score = sum(fake_smape_final_list)/len(fake_smape_final_list)\n",
    "\n",
    "print('Final sMAPE:', round(final_sMAPE_score,3))\n",
    "print('sMAPE (constant model):', round(fake_final_sMAPE_score,3))"
   ]
  },
  {
   "cell_type": "markdown",
   "metadata": {},
   "source": [
    "#### Conclusion"
   ]
  },
  {
   "cell_type": "markdown",
   "metadata": {},
   "source": [
    "The selected model performed good in the test sample\n",
    "\n",
    "Also, the adequacy of the model was tested on a synthetic constant model (the sMAPE value of the constant model is higher than that of the model on the test data)\n",
    "\n",
    "Thus, it can be concluded that the trained model is adequate and allows optimally accurate prediction of the values of both target features."
   ]
  }
 ],
 "metadata": {
  "ExecuteTimeLog": [
   {
    "duration": 545,
    "start_time": "2022-05-11T18:50:53.837Z"
   },
   {
    "duration": 575,
    "start_time": "2022-05-11T18:51:22.415Z"
   },
   {
    "duration": 323,
    "start_time": "2022-05-11T18:54:39.417Z"
   },
   {
    "duration": 22,
    "start_time": "2022-05-11T18:54:57.089Z"
   },
   {
    "duration": 24,
    "start_time": "2022-05-11T18:55:11.448Z"
   },
   {
    "duration": 852,
    "start_time": "2022-05-11T18:56:33.900Z"
   },
   {
    "duration": 26,
    "start_time": "2022-05-11T18:58:01.488Z"
   },
   {
    "duration": 20,
    "start_time": "2022-05-11T18:58:12.743Z"
   },
   {
    "duration": 54,
    "start_time": "2022-05-11T18:58:30.033Z"
   },
   {
    "duration": 48,
    "start_time": "2022-05-11T18:58:53.747Z"
   },
   {
    "duration": 42,
    "start_time": "2022-05-11T19:05:47.575Z"
   },
   {
    "duration": 83,
    "start_time": "2022-05-11T19:05:59.743Z"
   },
   {
    "duration": 45,
    "start_time": "2022-05-14T07:04:51.671Z"
   },
   {
    "duration": 390,
    "start_time": "2022-05-14T07:05:00.576Z"
   },
   {
    "duration": 2255,
    "start_time": "2022-05-14T07:05:00.968Z"
   },
   {
    "duration": 55,
    "start_time": "2022-05-14T07:05:03.225Z"
   },
   {
    "duration": 51,
    "start_time": "2022-05-14T07:05:21.783Z"
   },
   {
    "duration": 35,
    "start_time": "2022-05-14T07:05:56.443Z"
   },
   {
    "duration": 3,
    "start_time": "2022-05-14T07:21:09.111Z"
   },
   {
    "duration": 7,
    "start_time": "2022-05-14T07:22:01.464Z"
   },
   {
    "duration": 631,
    "start_time": "2022-05-14T07:22:55.150Z"
   },
   {
    "duration": 3,
    "start_time": "2022-05-14T07:23:04.067Z"
   },
   {
    "duration": 5,
    "start_time": "2022-05-14T07:24:04.613Z"
   },
   {
    "duration": 5,
    "start_time": "2022-05-14T07:24:21.606Z"
   },
   {
    "duration": 5,
    "start_time": "2022-05-14T07:24:48.669Z"
   },
   {
    "duration": 5,
    "start_time": "2022-05-14T07:24:52.876Z"
   },
   {
    "duration": 7,
    "start_time": "2022-05-14T07:24:58.176Z"
   },
   {
    "duration": 5,
    "start_time": "2022-05-14T07:25:01.855Z"
   },
   {
    "duration": 4,
    "start_time": "2022-05-14T07:25:15.023Z"
   },
   {
    "duration": 5,
    "start_time": "2022-05-14T07:27:16.176Z"
   },
   {
    "duration": 5,
    "start_time": "2022-05-14T07:27:21.135Z"
   },
   {
    "duration": 6,
    "start_time": "2022-05-14T07:27:28.859Z"
   },
   {
    "duration": 6,
    "start_time": "2022-05-14T07:27:38.693Z"
   },
   {
    "duration": 3,
    "start_time": "2022-05-14T07:27:48.526Z"
   },
   {
    "duration": 5,
    "start_time": "2022-05-14T07:27:55.239Z"
   },
   {
    "duration": 4,
    "start_time": "2022-05-14T07:27:55.909Z"
   },
   {
    "duration": 8,
    "start_time": "2022-05-14T07:28:13.718Z"
   },
   {
    "duration": 5,
    "start_time": "2022-05-14T07:28:14.542Z"
   },
   {
    "duration": 5,
    "start_time": "2022-05-14T07:28:19.375Z"
   },
   {
    "duration": 8,
    "start_time": "2022-05-14T07:28:36.620Z"
   },
   {
    "duration": 7,
    "start_time": "2022-05-14T07:29:06.401Z"
   },
   {
    "duration": 5,
    "start_time": "2022-05-14T07:29:19.569Z"
   },
   {
    "duration": 4,
    "start_time": "2022-05-14T07:29:37.915Z"
   },
   {
    "duration": 2,
    "start_time": "2022-05-14T07:33:10.248Z"
   },
   {
    "duration": 629,
    "start_time": "2022-05-14T07:33:10.252Z"
   },
   {
    "duration": 53,
    "start_time": "2022-05-14T07:33:10.883Z"
   },
   {
    "duration": 57,
    "start_time": "2022-05-14T07:33:10.938Z"
   },
   {
    "duration": 3,
    "start_time": "2022-05-14T07:33:10.997Z"
   },
   {
    "duration": 9,
    "start_time": "2022-05-14T07:33:11.002Z"
   },
   {
    "duration": 7,
    "start_time": "2022-05-14T07:33:11.012Z"
   },
   {
    "duration": 9,
    "start_time": "2022-05-14T07:33:11.020Z"
   },
   {
    "duration": 7,
    "start_time": "2022-05-14T07:33:11.031Z"
   },
   {
    "duration": 34,
    "start_time": "2022-05-14T07:33:11.040Z"
   },
   {
    "duration": 53,
    "start_time": "2022-05-14T07:35:56.661Z"
   },
   {
    "duration": 5,
    "start_time": "2022-05-14T07:36:07.838Z"
   },
   {
    "duration": 8,
    "start_time": "2022-05-14T07:36:18.493Z"
   },
   {
    "duration": 9,
    "start_time": "2022-05-14T07:36:23.988Z"
   },
   {
    "duration": 5,
    "start_time": "2022-05-14T07:36:28.474Z"
   },
   {
    "duration": 8,
    "start_time": "2022-05-14T07:36:32.255Z"
   },
   {
    "duration": 4,
    "start_time": "2022-05-14T07:36:42.287Z"
   },
   {
    "duration": 5,
    "start_time": "2022-05-14T07:36:53.811Z"
   },
   {
    "duration": 6,
    "start_time": "2022-05-14T07:37:22.524Z"
   },
   {
    "duration": 120,
    "start_time": "2022-05-14T07:37:47.117Z"
   },
   {
    "duration": 4,
    "start_time": "2022-05-14T07:37:53.116Z"
   },
   {
    "duration": 107,
    "start_time": "2022-05-14T07:38:55.935Z"
   },
   {
    "duration": 6,
    "start_time": "2022-05-14T07:39:09.351Z"
   },
   {
    "duration": 3,
    "start_time": "2022-05-14T07:39:34.424Z"
   },
   {
    "duration": 6,
    "start_time": "2022-05-14T07:39:40.408Z"
   },
   {
    "duration": 6,
    "start_time": "2022-05-14T07:40:27.753Z"
   },
   {
    "duration": 5,
    "start_time": "2022-05-14T07:40:35.234Z"
   },
   {
    "duration": 6,
    "start_time": "2022-05-14T07:40:41.449Z"
   },
   {
    "duration": 6,
    "start_time": "2022-05-14T07:40:54.114Z"
   },
   {
    "duration": 7,
    "start_time": "2022-05-14T07:40:59.095Z"
   },
   {
    "duration": 20,
    "start_time": "2022-05-14T07:52:06.944Z"
   },
   {
    "duration": 8,
    "start_time": "2022-05-14T07:52:14.990Z"
   },
   {
    "duration": 25,
    "start_time": "2022-05-14T07:59:10.444Z"
   },
   {
    "duration": 34,
    "start_time": "2022-05-14T07:59:27.323Z"
   },
   {
    "duration": 35,
    "start_time": "2022-05-14T07:59:35.386Z"
   },
   {
    "duration": 885,
    "start_time": "2022-05-14T07:59:53.058Z"
   },
   {
    "duration": 33,
    "start_time": "2022-05-14T08:00:00.433Z"
   },
   {
    "duration": 21,
    "start_time": "2022-05-14T08:00:06.968Z"
   },
   {
    "duration": 148,
    "start_time": "2022-05-14T08:00:33.453Z"
   },
   {
    "duration": 10,
    "start_time": "2022-05-14T08:00:38.805Z"
   },
   {
    "duration": 3,
    "start_time": "2022-05-14T08:00:49.918Z"
   },
   {
    "duration": 48,
    "start_time": "2022-05-14T08:00:50.304Z"
   },
   {
    "duration": 13,
    "start_time": "2022-05-14T08:01:14.027Z"
   },
   {
    "duration": 13,
    "start_time": "2022-05-14T08:01:22.389Z"
   },
   {
    "duration": 115,
    "start_time": "2022-05-14T08:01:30.593Z"
   },
   {
    "duration": 115,
    "start_time": "2022-05-14T08:01:34.449Z"
   },
   {
    "duration": 118,
    "start_time": "2022-05-14T08:01:37.923Z"
   },
   {
    "duration": 25,
    "start_time": "2022-05-14T08:01:40.323Z"
   },
   {
    "duration": 25,
    "start_time": "2022-05-14T08:01:48.768Z"
   },
   {
    "duration": 25,
    "start_time": "2022-05-14T08:02:06.638Z"
   },
   {
    "duration": 32,
    "start_time": "2022-05-14T08:07:26.818Z"
   },
   {
    "duration": 34,
    "start_time": "2022-05-14T08:08:12.448Z"
   },
   {
    "duration": 31,
    "start_time": "2022-05-14T08:08:21.937Z"
   },
   {
    "duration": 24,
    "start_time": "2022-05-14T08:08:42.971Z"
   },
   {
    "duration": 54,
    "start_time": "2022-05-14T08:09:37.702Z"
   },
   {
    "duration": 29,
    "start_time": "2022-05-14T08:09:44.745Z"
   },
   {
    "duration": 18,
    "start_time": "2022-05-14T08:10:28.841Z"
   },
   {
    "duration": 127,
    "start_time": "2022-05-14T08:10:35.966Z"
   },
   {
    "duration": 21,
    "start_time": "2022-05-14T08:10:39.070Z"
   },
   {
    "duration": 146,
    "start_time": "2022-05-14T08:11:08.831Z"
   },
   {
    "duration": 25,
    "start_time": "2022-05-14T08:11:47.254Z"
   },
   {
    "duration": 8,
    "start_time": "2022-05-14T08:11:57.167Z"
   },
   {
    "duration": 8,
    "start_time": "2022-05-14T08:12:00.841Z"
   },
   {
    "duration": 8,
    "start_time": "2022-05-14T08:12:11.622Z"
   },
   {
    "duration": 107,
    "start_time": "2022-05-14T08:13:11.765Z"
   },
   {
    "duration": 25,
    "start_time": "2022-05-14T08:13:26.114Z"
   },
   {
    "duration": 20,
    "start_time": "2022-05-14T08:13:58.097Z"
   },
   {
    "duration": 24,
    "start_time": "2022-05-14T08:14:12.574Z"
   },
   {
    "duration": 45,
    "start_time": "2022-05-14T08:15:41.818Z"
   },
   {
    "duration": 22,
    "start_time": "2022-05-14T08:15:52.817Z"
   },
   {
    "duration": 11,
    "start_time": "2022-05-14T08:16:28.407Z"
   },
   {
    "duration": 13,
    "start_time": "2022-05-14T08:16:56.992Z"
   },
   {
    "duration": 24,
    "start_time": "2022-05-14T08:17:07.011Z"
   },
   {
    "duration": 51,
    "start_time": "2022-05-14T08:17:13.693Z"
   },
   {
    "duration": 22,
    "start_time": "2022-05-14T08:17:16.935Z"
   },
   {
    "duration": 25,
    "start_time": "2022-05-14T08:17:48.487Z"
   },
   {
    "duration": 12,
    "start_time": "2022-05-14T08:19:39.307Z"
   },
   {
    "duration": 24,
    "start_time": "2022-05-14T08:19:58.297Z"
   },
   {
    "duration": 1942,
    "start_time": "2022-05-14T08:20:13.931Z"
   },
   {
    "duration": 8,
    "start_time": "2022-05-14T08:21:46.898Z"
   },
   {
    "duration": 9,
    "start_time": "2022-05-14T08:21:47.982Z"
   },
   {
    "duration": 3,
    "start_time": "2022-05-14T08:22:31.758Z"
   },
   {
    "duration": 1293,
    "start_time": "2022-05-14T08:22:31.763Z"
   },
   {
    "duration": 56,
    "start_time": "2022-05-14T08:22:33.058Z"
   },
   {
    "duration": 58,
    "start_time": "2022-05-14T08:22:33.116Z"
   },
   {
    "duration": 3,
    "start_time": "2022-05-14T08:22:33.177Z"
   },
   {
    "duration": 9,
    "start_time": "2022-05-14T08:22:33.182Z"
   },
   {
    "duration": 5,
    "start_time": "2022-05-14T08:22:33.192Z"
   },
   {
    "duration": 8,
    "start_time": "2022-05-14T08:22:33.199Z"
   },
   {
    "duration": 7,
    "start_time": "2022-05-14T08:22:33.208Z"
   },
   {
    "duration": 6,
    "start_time": "2022-05-14T08:22:33.217Z"
   },
   {
    "duration": 8,
    "start_time": "2022-05-14T08:22:33.225Z"
   },
   {
    "duration": 3,
    "start_time": "2022-05-14T08:22:33.272Z"
   },
   {
    "duration": 10,
    "start_time": "2022-05-14T08:22:33.277Z"
   },
   {
    "duration": 7,
    "start_time": "2022-05-14T08:22:33.289Z"
   },
   {
    "duration": 8,
    "start_time": "2022-05-14T08:22:33.298Z"
   },
   {
    "duration": 3,
    "start_time": "2022-05-14T08:24:18.585Z"
   },
   {
    "duration": 630,
    "start_time": "2022-05-14T08:24:18.590Z"
   },
   {
    "duration": 62,
    "start_time": "2022-05-14T08:24:19.222Z"
   },
   {
    "duration": 97,
    "start_time": "2022-05-14T08:24:19.286Z"
   },
   {
    "duration": 3,
    "start_time": "2022-05-14T08:24:19.386Z"
   },
   {
    "duration": 9,
    "start_time": "2022-05-14T08:24:19.390Z"
   },
   {
    "duration": 6,
    "start_time": "2022-05-14T08:24:19.401Z"
   },
   {
    "duration": 8,
    "start_time": "2022-05-14T08:24:19.409Z"
   },
   {
    "duration": 7,
    "start_time": "2022-05-14T08:24:19.418Z"
   },
   {
    "duration": 4,
    "start_time": "2022-05-14T08:24:19.426Z"
   },
   {
    "duration": 42,
    "start_time": "2022-05-14T08:24:19.433Z"
   },
   {
    "duration": 4,
    "start_time": "2022-05-14T08:24:19.477Z"
   },
   {
    "duration": 9,
    "start_time": "2022-05-14T08:24:19.483Z"
   },
   {
    "duration": 7,
    "start_time": "2022-05-14T08:24:19.494Z"
   },
   {
    "duration": 9,
    "start_time": "2022-05-14T08:24:19.503Z"
   },
   {
    "duration": 77,
    "start_time": "2022-05-14T08:24:19.514Z"
   },
   {
    "duration": 13,
    "start_time": "2022-05-14T08:24:19.593Z"
   },
   {
    "duration": 68,
    "start_time": "2022-05-14T08:24:19.608Z"
   },
   {
    "duration": 21,
    "start_time": "2022-05-14T08:26:16.605Z"
   },
   {
    "duration": 9,
    "start_time": "2022-05-14T08:26:24.835Z"
   },
   {
    "duration": 9,
    "start_time": "2022-05-14T08:26:29.139Z"
   },
   {
    "duration": 7,
    "start_time": "2022-05-14T08:26:32.855Z"
   },
   {
    "duration": 7,
    "start_time": "2022-05-14T08:26:47.373Z"
   },
   {
    "duration": 3,
    "start_time": "2022-05-14T08:26:57.231Z"
   },
   {
    "duration": 593,
    "start_time": "2022-05-14T08:26:57.235Z"
   },
   {
    "duration": 58,
    "start_time": "2022-05-14T08:26:57.830Z"
   },
   {
    "duration": 33,
    "start_time": "2022-05-14T08:26:57.889Z"
   },
   {
    "duration": 3,
    "start_time": "2022-05-14T08:26:57.924Z"
   },
   {
    "duration": 8,
    "start_time": "2022-05-14T08:26:57.928Z"
   },
   {
    "duration": 34,
    "start_time": "2022-05-14T08:26:57.938Z"
   },
   {
    "duration": 9,
    "start_time": "2022-05-14T08:26:57.974Z"
   },
   {
    "duration": 7,
    "start_time": "2022-05-14T08:26:57.985Z"
   },
   {
    "duration": 4,
    "start_time": "2022-05-14T08:26:57.993Z"
   },
   {
    "duration": 7,
    "start_time": "2022-05-14T08:26:57.999Z"
   },
   {
    "duration": 4,
    "start_time": "2022-05-14T08:26:58.007Z"
   },
   {
    "duration": 7,
    "start_time": "2022-05-14T08:27:00.346Z"
   },
   {
    "duration": 6,
    "start_time": "2022-05-14T08:27:08.558Z"
   },
   {
    "duration": 8,
    "start_time": "2022-05-14T08:27:12.096Z"
   },
   {
    "duration": 35,
    "start_time": "2022-05-14T08:27:58.847Z"
   },
   {
    "duration": 10,
    "start_time": "2022-05-14T08:28:17.852Z"
   },
   {
    "duration": 48,
    "start_time": "2022-05-14T08:28:25.506Z"
   },
   {
    "duration": 3,
    "start_time": "2022-05-14T08:32:30.185Z"
   },
   {
    "duration": 27,
    "start_time": "2022-05-14T08:35:06.366Z"
   },
   {
    "duration": 12,
    "start_time": "2022-05-14T08:35:20.222Z"
   },
   {
    "duration": 11,
    "start_time": "2022-05-14T08:35:33.703Z"
   },
   {
    "duration": 3,
    "start_time": "2022-05-14T08:35:42.809Z"
   },
   {
    "duration": 616,
    "start_time": "2022-05-14T08:35:42.817Z"
   },
   {
    "duration": 64,
    "start_time": "2022-05-14T08:35:43.435Z"
   },
   {
    "duration": 38,
    "start_time": "2022-05-14T08:35:43.500Z"
   },
   {
    "duration": 32,
    "start_time": "2022-05-14T08:35:43.540Z"
   },
   {
    "duration": 12,
    "start_time": "2022-05-14T08:35:43.574Z"
   },
   {
    "duration": 5,
    "start_time": "2022-05-14T08:35:43.588Z"
   },
   {
    "duration": 11,
    "start_time": "2022-05-14T08:35:43.595Z"
   },
   {
    "duration": 8,
    "start_time": "2022-05-14T08:35:43.607Z"
   },
   {
    "duration": 4,
    "start_time": "2022-05-14T08:35:43.617Z"
   },
   {
    "duration": 8,
    "start_time": "2022-05-14T08:35:43.622Z"
   },
   {
    "duration": 42,
    "start_time": "2022-05-14T08:35:43.631Z"
   },
   {
    "duration": 8,
    "start_time": "2022-05-14T08:35:43.675Z"
   },
   {
    "duration": 6,
    "start_time": "2022-05-14T08:35:43.684Z"
   },
   {
    "duration": 8,
    "start_time": "2022-05-14T08:35:43.692Z"
   },
   {
    "duration": 35,
    "start_time": "2022-05-14T08:35:43.701Z"
   },
   {
    "duration": 41,
    "start_time": "2022-05-14T08:35:43.738Z"
   },
   {
    "duration": 48,
    "start_time": "2022-05-14T08:35:43.781Z"
   },
   {
    "duration": 2,
    "start_time": "2022-05-14T08:35:43.831Z"
   },
   {
    "duration": 11,
    "start_time": "2022-05-14T08:35:46.064Z"
   },
   {
    "duration": 12,
    "start_time": "2022-05-14T08:36:46.303Z"
   },
   {
    "duration": 243,
    "start_time": "2022-05-14T08:38:37.292Z"
   },
   {
    "duration": 258,
    "start_time": "2022-05-14T08:38:48.813Z"
   },
   {
    "duration": 24,
    "start_time": "2022-05-14T08:39:05.037Z"
   },
   {
    "duration": 23,
    "start_time": "2022-05-14T08:39:59.520Z"
   },
   {
    "duration": 25,
    "start_time": "2022-05-14T08:40:42.735Z"
   },
   {
    "duration": 5,
    "start_time": "2022-05-14T08:45:13.009Z"
   },
   {
    "duration": 4,
    "start_time": "2022-05-14T08:45:43.491Z"
   },
   {
    "duration": 27,
    "start_time": "2022-05-14T08:46:02.069Z"
   },
   {
    "duration": 31,
    "start_time": "2022-05-14T08:46:21.359Z"
   },
   {
    "duration": 22,
    "start_time": "2022-05-14T08:46:56.937Z"
   },
   {
    "duration": 24,
    "start_time": "2022-05-14T08:48:32.803Z"
   },
   {
    "duration": 1667,
    "start_time": "2022-05-15T07:05:26.453Z"
   },
   {
    "duration": 4,
    "start_time": "2022-05-15T07:05:43.563Z"
   },
   {
    "duration": 841,
    "start_time": "2022-05-15T07:05:43.571Z"
   },
   {
    "duration": 117,
    "start_time": "2022-05-15T07:05:44.415Z"
   },
   {
    "duration": 97,
    "start_time": "2022-05-15T07:05:44.536Z"
   },
   {
    "duration": 5,
    "start_time": "2022-05-15T07:05:44.636Z"
   },
   {
    "duration": 38,
    "start_time": "2022-05-15T07:05:44.644Z"
   },
   {
    "duration": 9,
    "start_time": "2022-05-15T07:05:44.685Z"
   },
   {
    "duration": 13,
    "start_time": "2022-05-15T07:05:44.697Z"
   },
   {
    "duration": 14,
    "start_time": "2022-05-15T07:05:44.715Z"
   },
   {
    "duration": 6,
    "start_time": "2022-05-15T07:05:44.731Z"
   },
   {
    "duration": 53,
    "start_time": "2022-05-15T07:05:44.739Z"
   },
   {
    "duration": 6,
    "start_time": "2022-05-15T07:05:44.795Z"
   },
   {
    "duration": 14,
    "start_time": "2022-05-15T07:05:44.804Z"
   },
   {
    "duration": 63,
    "start_time": "2022-05-15T07:05:44.820Z"
   },
   {
    "duration": 13,
    "start_time": "2022-05-15T07:05:44.886Z"
   },
   {
    "duration": 95,
    "start_time": "2022-05-15T07:05:44.901Z"
   },
   {
    "duration": 19,
    "start_time": "2022-05-15T07:05:44.999Z"
   },
   {
    "duration": 97,
    "start_time": "2022-05-15T07:05:45.021Z"
   },
   {
    "duration": 63,
    "start_time": "2022-05-15T07:05:45.120Z"
   },
   {
    "duration": 4,
    "start_time": "2022-05-15T07:10:45.322Z"
   },
   {
    "duration": 153,
    "start_time": "2022-05-15T07:10:59.041Z"
   },
   {
    "duration": 4,
    "start_time": "2022-05-15T07:11:26.383Z"
   },
   {
    "duration": 904,
    "start_time": "2022-05-15T07:11:26.389Z"
   },
   {
    "duration": 110,
    "start_time": "2022-05-15T07:11:27.296Z"
   },
   {
    "duration": 78,
    "start_time": "2022-05-15T07:11:27.408Z"
   },
   {
    "duration": 4,
    "start_time": "2022-05-15T07:11:27.488Z"
   },
   {
    "duration": 12,
    "start_time": "2022-05-15T07:11:27.494Z"
   },
   {
    "duration": 10,
    "start_time": "2022-05-15T07:11:27.508Z"
   },
   {
    "duration": 16,
    "start_time": "2022-05-15T07:11:27.520Z"
   },
   {
    "duration": 44,
    "start_time": "2022-05-15T07:11:27.538Z"
   },
   {
    "duration": 6,
    "start_time": "2022-05-15T07:11:27.584Z"
   },
   {
    "duration": 12,
    "start_time": "2022-05-15T07:11:27.593Z"
   },
   {
    "duration": 6,
    "start_time": "2022-05-15T07:11:27.607Z"
   },
   {
    "duration": 13,
    "start_time": "2022-05-15T07:11:27.614Z"
   },
   {
    "duration": 7,
    "start_time": "2022-05-15T07:11:27.629Z"
   },
   {
    "duration": 11,
    "start_time": "2022-05-15T07:11:27.682Z"
   },
   {
    "duration": 56,
    "start_time": "2022-05-15T07:11:27.695Z"
   },
   {
    "duration": 41,
    "start_time": "2022-05-15T07:11:27.753Z"
   },
   {
    "duration": 86,
    "start_time": "2022-05-15T07:11:27.796Z"
   },
   {
    "duration": 41,
    "start_time": "2022-05-15T07:11:27.885Z"
   },
   {
    "duration": 4,
    "start_time": "2022-05-15T07:11:27.928Z"
   },
   {
    "duration": 15,
    "start_time": "2022-05-15T07:11:27.934Z"
   },
   {
    "duration": 1499,
    "start_time": "2022-05-15T07:11:59.585Z"
   },
   {
    "duration": 819,
    "start_time": "2022-05-15T07:12:01.086Z"
   },
   {
    "duration": 125,
    "start_time": "2022-05-15T07:12:01.908Z"
   },
   {
    "duration": 93,
    "start_time": "2022-05-15T07:12:02.037Z"
   },
   {
    "duration": 4,
    "start_time": "2022-05-15T07:12:02.133Z"
   },
   {
    "duration": 36,
    "start_time": "2022-05-15T07:12:02.139Z"
   },
   {
    "duration": 8,
    "start_time": "2022-05-15T07:12:02.177Z"
   },
   {
    "duration": 12,
    "start_time": "2022-05-15T07:12:02.188Z"
   },
   {
    "duration": 11,
    "start_time": "2022-05-15T07:12:02.203Z"
   },
   {
    "duration": 6,
    "start_time": "2022-05-15T07:12:02.219Z"
   },
   {
    "duration": 60,
    "start_time": "2022-05-15T07:12:02.228Z"
   },
   {
    "duration": 17,
    "start_time": "2022-05-15T07:12:02.290Z"
   },
   {
    "duration": 21,
    "start_time": "2022-05-15T07:12:02.309Z"
   },
   {
    "duration": 15,
    "start_time": "2022-05-15T07:12:02.332Z"
   },
   {
    "duration": 15,
    "start_time": "2022-05-15T07:12:02.349Z"
   },
   {
    "duration": 72,
    "start_time": "2022-05-15T07:12:02.366Z"
   },
   {
    "duration": 15,
    "start_time": "2022-05-15T07:12:02.440Z"
   },
   {
    "duration": 95,
    "start_time": "2022-05-15T07:12:02.458Z"
   },
   {
    "duration": 57,
    "start_time": "2022-05-15T07:12:02.555Z"
   },
   {
    "duration": 4,
    "start_time": "2022-05-15T07:12:02.614Z"
   },
   {
    "duration": 166,
    "start_time": "2022-05-15T07:12:02.620Z"
   },
   {
    "duration": 638,
    "start_time": "2022-05-15T07:13:17.744Z"
   },
   {
    "duration": 830,
    "start_time": "2022-05-15T07:13:18.385Z"
   },
   {
    "duration": 115,
    "start_time": "2022-05-15T07:13:19.217Z"
   },
   {
    "duration": 91,
    "start_time": "2022-05-15T07:13:19.337Z"
   },
   {
    "duration": 4,
    "start_time": "2022-05-15T07:13:19.431Z"
   },
   {
    "duration": 13,
    "start_time": "2022-05-15T07:13:19.438Z"
   },
   {
    "duration": 34,
    "start_time": "2022-05-15T07:13:19.453Z"
   },
   {
    "duration": 13,
    "start_time": "2022-05-15T07:13:19.489Z"
   },
   {
    "duration": 12,
    "start_time": "2022-05-15T07:13:19.504Z"
   },
   {
    "duration": 5,
    "start_time": "2022-05-15T07:13:19.520Z"
   },
   {
    "duration": 55,
    "start_time": "2022-05-15T07:13:19.528Z"
   },
   {
    "duration": 6,
    "start_time": "2022-05-15T07:13:19.585Z"
   },
   {
    "duration": 13,
    "start_time": "2022-05-15T07:13:19.593Z"
   },
   {
    "duration": 8,
    "start_time": "2022-05-15T07:13:19.608Z"
   },
   {
    "duration": 11,
    "start_time": "2022-05-15T07:13:19.619Z"
   },
   {
    "duration": 105,
    "start_time": "2022-05-15T07:13:19.632Z"
   },
   {
    "duration": 16,
    "start_time": "2022-05-15T07:13:19.740Z"
   },
   {
    "duration": 85,
    "start_time": "2022-05-15T07:13:19.759Z"
   },
   {
    "duration": 61,
    "start_time": "2022-05-15T07:13:19.846Z"
   },
   {
    "duration": 4,
    "start_time": "2022-05-15T07:13:19.909Z"
   },
   {
    "duration": 352,
    "start_time": "2022-05-15T07:13:19.915Z"
   },
   {
    "duration": 8,
    "start_time": "2022-05-15T07:13:37.230Z"
   },
   {
    "duration": 5,
    "start_time": "2022-05-15T07:14:31.679Z"
   },
   {
    "duration": 820,
    "start_time": "2022-05-15T07:14:31.687Z"
   },
   {
    "duration": 102,
    "start_time": "2022-05-15T07:14:32.510Z"
   },
   {
    "duration": 81,
    "start_time": "2022-05-15T07:14:32.614Z"
   },
   {
    "duration": 4,
    "start_time": "2022-05-15T07:14:32.698Z"
   },
   {
    "duration": 11,
    "start_time": "2022-05-15T07:14:32.704Z"
   },
   {
    "duration": 8,
    "start_time": "2022-05-15T07:14:32.717Z"
   },
   {
    "duration": 11,
    "start_time": "2022-05-15T07:14:32.727Z"
   },
   {
    "duration": 49,
    "start_time": "2022-05-15T07:14:32.740Z"
   },
   {
    "duration": 6,
    "start_time": "2022-05-15T07:14:32.792Z"
   },
   {
    "duration": 9,
    "start_time": "2022-05-15T07:14:32.804Z"
   },
   {
    "duration": 7,
    "start_time": "2022-05-15T07:14:32.816Z"
   },
   {
    "duration": 61,
    "start_time": "2022-05-15T07:14:32.825Z"
   },
   {
    "duration": 10,
    "start_time": "2022-05-15T07:14:32.888Z"
   },
   {
    "duration": 13,
    "start_time": "2022-05-15T07:14:32.901Z"
   },
   {
    "duration": 115,
    "start_time": "2022-05-15T07:14:32.917Z"
   },
   {
    "duration": 0,
    "start_time": "2022-05-15T07:14:33.035Z"
   },
   {
    "duration": 0,
    "start_time": "2022-05-15T07:14:33.037Z"
   },
   {
    "duration": 0,
    "start_time": "2022-05-15T07:14:33.039Z"
   },
   {
    "duration": 0,
    "start_time": "2022-05-15T07:14:33.041Z"
   },
   {
    "duration": 0,
    "start_time": "2022-05-15T07:14:33.044Z"
   },
   {
    "duration": 0,
    "start_time": "2022-05-15T07:14:33.046Z"
   },
   {
    "duration": 1977,
    "start_time": "2022-05-15T07:15:08.712Z"
   },
   {
    "duration": 4,
    "start_time": "2022-05-15T07:15:21.130Z"
   },
   {
    "duration": 832,
    "start_time": "2022-05-15T07:15:21.137Z"
   },
   {
    "duration": 109,
    "start_time": "2022-05-15T07:15:21.972Z"
   },
   {
    "duration": 62,
    "start_time": "2022-05-15T07:15:22.084Z"
   },
   {
    "duration": 4,
    "start_time": "2022-05-15T07:15:22.149Z"
   },
   {
    "duration": 34,
    "start_time": "2022-05-15T07:15:22.155Z"
   },
   {
    "duration": 7,
    "start_time": "2022-05-15T07:15:22.191Z"
   },
   {
    "duration": 13,
    "start_time": "2022-05-15T07:15:22.200Z"
   },
   {
    "duration": 11,
    "start_time": "2022-05-15T07:15:22.215Z"
   },
   {
    "duration": 6,
    "start_time": "2022-05-15T07:15:22.228Z"
   },
   {
    "duration": 52,
    "start_time": "2022-05-15T07:15:22.237Z"
   },
   {
    "duration": 9,
    "start_time": "2022-05-15T07:15:22.291Z"
   },
   {
    "duration": 12,
    "start_time": "2022-05-15T07:15:22.302Z"
   },
   {
    "duration": 8,
    "start_time": "2022-05-15T07:15:22.316Z"
   },
   {
    "duration": 12,
    "start_time": "2022-05-15T07:15:22.326Z"
   },
   {
    "duration": 56,
    "start_time": "2022-05-15T07:15:24.443Z"
   },
   {
    "duration": 43,
    "start_time": "2022-05-15T07:15:31.478Z"
   },
   {
    "duration": 22,
    "start_time": "2022-05-15T07:15:51.047Z"
   },
   {
    "duration": 2055,
    "start_time": "2022-05-15T07:15:59.730Z"
   },
   {
    "duration": 5,
    "start_time": "2022-05-15T07:16:50.730Z"
   },
   {
    "duration": 803,
    "start_time": "2022-05-15T07:16:50.737Z"
   },
   {
    "duration": 96,
    "start_time": "2022-05-15T07:16:51.543Z"
   },
   {
    "duration": 84,
    "start_time": "2022-05-15T07:16:51.642Z"
   },
   {
    "duration": 3,
    "start_time": "2022-05-15T07:16:51.729Z"
   },
   {
    "duration": 14,
    "start_time": "2022-05-15T07:16:51.734Z"
   },
   {
    "duration": 7,
    "start_time": "2022-05-15T07:16:51.750Z"
   },
   {
    "duration": 10,
    "start_time": "2022-05-15T07:16:51.782Z"
   },
   {
    "duration": 10,
    "start_time": "2022-05-15T07:16:51.795Z"
   },
   {
    "duration": 5,
    "start_time": "2022-05-15T07:16:51.807Z"
   },
   {
    "duration": 11,
    "start_time": "2022-05-15T07:16:51.815Z"
   },
   {
    "duration": 55,
    "start_time": "2022-05-15T07:16:51.829Z"
   },
   {
    "duration": 16,
    "start_time": "2022-05-15T07:16:51.886Z"
   },
   {
    "duration": 7,
    "start_time": "2022-05-15T07:16:51.904Z"
   },
   {
    "duration": 11,
    "start_time": "2022-05-15T07:16:51.913Z"
   },
   {
    "duration": 88,
    "start_time": "2022-05-15T07:16:51.926Z"
   },
   {
    "duration": 15,
    "start_time": "2022-05-15T07:16:52.016Z"
   },
   {
    "duration": 87,
    "start_time": "2022-05-15T07:16:52.034Z"
   },
   {
    "duration": 41,
    "start_time": "2022-05-15T07:16:52.124Z"
   },
   {
    "duration": 22,
    "start_time": "2022-05-15T07:17:25.290Z"
   },
   {
    "duration": 8,
    "start_time": "2022-05-15T07:17:26.123Z"
   },
   {
    "duration": 327,
    "start_time": "2022-05-15T07:17:29.181Z"
   },
   {
    "duration": 262,
    "start_time": "2022-05-15T07:18:04.650Z"
   },
   {
    "duration": 289,
    "start_time": "2022-05-15T07:18:11.869Z"
   },
   {
    "duration": 372,
    "start_time": "2022-05-15T07:18:21.056Z"
   },
   {
    "duration": 345,
    "start_time": "2022-05-15T07:18:31.187Z"
   },
   {
    "duration": 289,
    "start_time": "2022-05-15T07:18:48.548Z"
   },
   {
    "duration": 387,
    "start_time": "2022-05-15T07:18:53.057Z"
   },
   {
    "duration": 537,
    "start_time": "2022-05-15T07:19:01.893Z"
   },
   {
    "duration": 990,
    "start_time": "2022-05-15T07:23:00.254Z"
   },
   {
    "duration": 330,
    "start_time": "2022-05-15T07:23:13.496Z"
   },
   {
    "duration": 1102,
    "start_time": "2022-05-15T07:23:21.022Z"
   },
   {
    "duration": 88,
    "start_time": "2022-05-15T07:24:21.986Z"
   },
   {
    "duration": 1054,
    "start_time": "2022-05-15T07:25:11.374Z"
   },
   {
    "duration": 1190,
    "start_time": "2022-05-15T07:25:23.681Z"
   },
   {
    "duration": 1080,
    "start_time": "2022-05-15T07:25:40.523Z"
   },
   {
    "duration": 1256,
    "start_time": "2022-05-15T07:25:50.921Z"
   },
   {
    "duration": 1166,
    "start_time": "2022-05-15T07:26:32.707Z"
   },
   {
    "duration": 1274,
    "start_time": "2022-05-15T07:26:44.897Z"
   },
   {
    "duration": 1661,
    "start_time": "2022-05-15T07:28:03.114Z"
   },
   {
    "duration": 1667,
    "start_time": "2022-05-15T07:28:19.236Z"
   },
   {
    "duration": 1637,
    "start_time": "2022-05-15T07:29:08.715Z"
   },
   {
    "duration": 1335,
    "start_time": "2022-05-15T07:36:39.266Z"
   },
   {
    "duration": 20,
    "start_time": "2022-05-15T07:38:58.999Z"
   },
   {
    "duration": 502,
    "start_time": "2022-05-15T07:38:59.962Z"
   },
   {
    "duration": 18,
    "start_time": "2022-05-15T07:39:19.080Z"
   },
   {
    "duration": 1068,
    "start_time": "2022-05-15T07:39:19.698Z"
   },
   {
    "duration": 1469,
    "start_time": "2022-05-15T07:43:28.548Z"
   },
   {
    "duration": 29,
    "start_time": "2022-05-15T07:44:40.110Z"
   },
   {
    "duration": 1150,
    "start_time": "2022-05-15T07:45:03.086Z"
   },
   {
    "duration": 5,
    "start_time": "2022-05-15T07:59:09.354Z"
   },
   {
    "duration": 1274,
    "start_time": "2022-05-15T08:00:30.020Z"
   },
   {
    "duration": 18,
    "start_time": "2022-05-15T08:02:19.769Z"
   },
   {
    "duration": 1251,
    "start_time": "2022-05-15T08:02:30.183Z"
   },
   {
    "duration": 927,
    "start_time": "2022-05-15T08:03:04.786Z"
   },
   {
    "duration": 1090,
    "start_time": "2022-05-15T08:04:00.349Z"
   },
   {
    "duration": 4,
    "start_time": "2022-05-15T08:04:43.700Z"
   },
   {
    "duration": 456,
    "start_time": "2022-05-15T08:12:17.569Z"
   },
   {
    "duration": 20,
    "start_time": "2022-05-15T08:12:25.555Z"
   },
   {
    "duration": 9,
    "start_time": "2022-05-15T08:12:40.058Z"
   },
   {
    "duration": 9,
    "start_time": "2022-05-15T08:12:48.738Z"
   },
   {
    "duration": 9,
    "start_time": "2022-05-15T08:12:57.686Z"
   },
   {
    "duration": 8,
    "start_time": "2022-05-15T08:13:06.598Z"
   },
   {
    "duration": 635,
    "start_time": "2022-05-15T08:13:27.873Z"
   },
   {
    "duration": 7,
    "start_time": "2022-05-15T08:13:28.511Z"
   },
   {
    "duration": 20,
    "start_time": "2022-05-15T08:13:41.866Z"
   },
   {
    "duration": 8,
    "start_time": "2022-05-15T08:13:42.515Z"
   },
   {
    "duration": 1171,
    "start_time": "2022-05-15T08:15:30.027Z"
   },
   {
    "duration": 7,
    "start_time": "2022-05-15T08:19:38.719Z"
   },
   {
    "duration": 6,
    "start_time": "2022-05-15T08:19:43.818Z"
   },
   {
    "duration": 6,
    "start_time": "2022-05-15T08:19:47.630Z"
   },
   {
    "duration": 11,
    "start_time": "2022-05-15T08:19:52.635Z"
   },
   {
    "duration": 17,
    "start_time": "2022-05-15T08:20:25.624Z"
   },
   {
    "duration": 18,
    "start_time": "2022-05-15T08:20:47.549Z"
   },
   {
    "duration": 18,
    "start_time": "2022-05-15T08:21:01.892Z"
   },
   {
    "duration": 76,
    "start_time": "2022-05-15T08:30:04.375Z"
   },
   {
    "duration": 48,
    "start_time": "2022-05-15T08:30:44.616Z"
   },
   {
    "duration": 55,
    "start_time": "2022-05-15T08:31:32.829Z"
   },
   {
    "duration": 8,
    "start_time": "2022-05-15T08:31:51.183Z"
   },
   {
    "duration": 40,
    "start_time": "2022-05-15T08:32:02.121Z"
   },
   {
    "duration": 44,
    "start_time": "2022-05-15T08:32:19.326Z"
   },
   {
    "duration": 27,
    "start_time": "2022-05-15T08:34:04.510Z"
   },
   {
    "duration": 60,
    "start_time": "2022-05-15T08:34:50.370Z"
   },
   {
    "duration": 59,
    "start_time": "2022-05-15T08:35:18.329Z"
   },
   {
    "duration": 70,
    "start_time": "2022-05-15T08:37:58.372Z"
   },
   {
    "duration": 217,
    "start_time": "2022-05-15T08:40:28.094Z"
   },
   {
    "duration": 4,
    "start_time": "2022-05-15T08:46:33.681Z"
   },
   {
    "duration": 878,
    "start_time": "2022-05-15T08:46:33.687Z"
   },
   {
    "duration": 93,
    "start_time": "2022-05-15T08:46:34.567Z"
   },
   {
    "duration": 76,
    "start_time": "2022-05-15T08:46:34.662Z"
   },
   {
    "duration": 4,
    "start_time": "2022-05-15T08:46:34.741Z"
   },
   {
    "duration": 40,
    "start_time": "2022-05-15T08:46:34.747Z"
   },
   {
    "duration": 8,
    "start_time": "2022-05-15T08:46:34.789Z"
   },
   {
    "duration": 13,
    "start_time": "2022-05-15T08:46:34.799Z"
   },
   {
    "duration": 12,
    "start_time": "2022-05-15T08:46:34.815Z"
   },
   {
    "duration": 6,
    "start_time": "2022-05-15T08:46:34.829Z"
   },
   {
    "duration": 10,
    "start_time": "2022-05-15T08:46:34.886Z"
   },
   {
    "duration": 5,
    "start_time": "2022-05-15T08:46:34.899Z"
   },
   {
    "duration": 13,
    "start_time": "2022-05-15T08:46:34.906Z"
   },
   {
    "duration": 7,
    "start_time": "2022-05-15T08:46:34.921Z"
   },
   {
    "duration": 59,
    "start_time": "2022-05-15T08:46:34.930Z"
   },
   {
    "duration": 51,
    "start_time": "2022-05-15T08:46:34.991Z"
   },
   {
    "duration": 38,
    "start_time": "2022-05-15T08:46:35.044Z"
   },
   {
    "duration": 66,
    "start_time": "2022-05-15T08:46:35.084Z"
   },
   {
    "duration": 62,
    "start_time": "2022-05-15T08:46:35.153Z"
   },
   {
    "duration": 22,
    "start_time": "2022-05-15T08:46:35.218Z"
   },
   {
    "duration": 7,
    "start_time": "2022-05-15T08:46:35.242Z"
   },
   {
    "duration": 1139,
    "start_time": "2022-05-15T08:46:35.252Z"
   },
   {
    "duration": 28,
    "start_time": "2022-05-15T08:46:36.394Z"
   },
   {
    "duration": 1124,
    "start_time": "2022-05-15T08:46:36.425Z"
   },
   {
    "duration": 37,
    "start_time": "2022-05-15T08:46:37.551Z"
   },
   {
    "duration": 1471,
    "start_time": "2022-05-15T08:46:37.591Z"
   },
   {
    "duration": 5,
    "start_time": "2022-05-15T08:46:39.064Z"
   },
   {
    "duration": 929,
    "start_time": "2022-05-15T08:46:39.082Z"
   },
   {
    "duration": 21,
    "start_time": "2022-05-15T08:46:40.016Z"
   },
   {
    "duration": 1129,
    "start_time": "2022-05-15T08:46:40.040Z"
   },
   {
    "duration": 28,
    "start_time": "2022-05-15T08:46:41.171Z"
   },
   {
    "duration": 220,
    "start_time": "2022-05-15T08:46:41.202Z"
   },
   {
    "duration": 9,
    "start_time": "2022-05-15T08:46:41.425Z"
   },
   {
    "duration": 1118,
    "start_time": "2022-05-15T08:46:41.437Z"
   },
   {
    "duration": 50,
    "start_time": "2022-05-18T15:37:48.718Z"
   },
   {
    "duration": 1672,
    "start_time": "2022-05-18T15:37:52.847Z"
   },
   {
    "duration": 3100,
    "start_time": "2022-05-18T15:37:54.522Z"
   },
   {
    "duration": 55,
    "start_time": "2022-05-18T15:37:57.623Z"
   },
   {
    "duration": 35,
    "start_time": "2022-05-18T15:37:57.679Z"
   },
   {
    "duration": 2,
    "start_time": "2022-05-18T15:37:57.715Z"
   },
   {
    "duration": 11,
    "start_time": "2022-05-18T15:37:57.719Z"
   },
   {
    "duration": 5,
    "start_time": "2022-05-18T15:37:57.731Z"
   },
   {
    "duration": 10,
    "start_time": "2022-05-18T15:37:57.759Z"
   },
   {
    "duration": 7,
    "start_time": "2022-05-18T15:37:57.770Z"
   },
   {
    "duration": 3,
    "start_time": "2022-05-18T15:37:57.779Z"
   },
   {
    "duration": 8,
    "start_time": "2022-05-18T15:37:57.783Z"
   },
   {
    "duration": 13,
    "start_time": "2022-05-18T15:37:57.793Z"
   },
   {
    "duration": 11,
    "start_time": "2022-05-18T15:37:57.808Z"
   },
   {
    "duration": 6,
    "start_time": "2022-05-18T15:37:57.821Z"
   },
   {
    "duration": 36,
    "start_time": "2022-05-18T15:37:57.829Z"
   },
   {
    "duration": 50,
    "start_time": "2022-05-18T15:37:57.867Z"
   },
   {
    "duration": 13,
    "start_time": "2022-05-18T15:37:57.919Z"
   },
   {
    "duration": 81,
    "start_time": "2022-05-18T15:37:57.934Z"
   },
   {
    "duration": 43,
    "start_time": "2022-05-18T15:37:58.017Z"
   },
   {
    "duration": 26,
    "start_time": "2022-05-18T15:37:58.062Z"
   },
   {
    "duration": 6,
    "start_time": "2022-05-18T15:37:58.090Z"
   },
   {
    "duration": 567,
    "start_time": "2022-05-18T15:37:58.097Z"
   },
   {
    "duration": 25,
    "start_time": "2022-05-18T15:37:58.666Z"
   },
   {
    "duration": 561,
    "start_time": "2022-05-18T15:37:58.692Z"
   },
   {
    "duration": 24,
    "start_time": "2022-05-18T15:37:59.254Z"
   },
   {
    "duration": 656,
    "start_time": "2022-05-18T15:37:59.279Z"
   },
   {
    "duration": 3,
    "start_time": "2022-05-18T15:37:59.936Z"
   },
   {
    "duration": 543,
    "start_time": "2022-05-18T15:37:59.942Z"
   },
   {
    "duration": 19,
    "start_time": "2022-05-18T15:38:00.487Z"
   },
   {
    "duration": 687,
    "start_time": "2022-05-18T15:38:00.507Z"
   },
   {
    "duration": 14,
    "start_time": "2022-05-18T15:38:01.196Z"
   },
   {
    "duration": 122,
    "start_time": "2022-05-18T15:38:01.211Z"
   },
   {
    "duration": 8,
    "start_time": "2022-05-18T15:38:01.334Z"
   },
   {
    "duration": 608,
    "start_time": "2022-05-18T15:38:01.343Z"
   },
   {
    "duration": 6,
    "start_time": "2022-05-18T15:38:01.953Z"
   },
   {
    "duration": 91,
    "start_time": "2022-05-18T15:38:01.961Z"
   },
   {
    "duration": 32,
    "start_time": "2022-05-18T15:38:07.140Z"
   },
   {
    "duration": 9,
    "start_time": "2022-05-18T15:38:23.430Z"
   },
   {
    "duration": 24,
    "start_time": "2022-05-18T15:38:28.905Z"
   },
   {
    "duration": 9,
    "start_time": "2022-05-18T15:38:34.867Z"
   },
   {
    "duration": 23,
    "start_time": "2022-05-18T15:38:44.395Z"
   },
   {
    "duration": 56,
    "start_time": "2022-05-18T15:42:43.813Z"
   },
   {
    "duration": 23,
    "start_time": "2022-05-18T15:43:00.495Z"
   },
   {
    "duration": 46,
    "start_time": "2022-05-18T15:43:48.713Z"
   },
   {
    "duration": 34,
    "start_time": "2022-05-18T15:43:56.936Z"
   },
   {
    "duration": 10,
    "start_time": "2022-05-18T15:44:05.768Z"
   },
   {
    "duration": 29,
    "start_time": "2022-05-18T15:44:09.833Z"
   },
   {
    "duration": 9,
    "start_time": "2022-05-18T15:44:21.866Z"
   },
   {
    "duration": 18,
    "start_time": "2022-05-18T15:44:58.726Z"
   },
   {
    "duration": 8,
    "start_time": "2022-05-18T15:44:59.758Z"
   },
   {
    "duration": 21,
    "start_time": "2022-05-18T15:45:09.213Z"
   },
   {
    "duration": 4,
    "start_time": "2022-05-18T15:46:40.316Z"
   },
   {
    "duration": 10,
    "start_time": "2022-05-18T15:46:47.312Z"
   },
   {
    "duration": 23,
    "start_time": "2022-05-18T15:46:52.023Z"
   },
   {
    "duration": 24,
    "start_time": "2022-05-18T15:47:12.592Z"
   },
   {
    "duration": 12,
    "start_time": "2022-05-18T15:47:39.745Z"
   },
   {
    "duration": 24,
    "start_time": "2022-05-18T15:47:47.627Z"
   },
   {
    "duration": 8,
    "start_time": "2022-05-18T15:47:54.086Z"
   },
   {
    "duration": 10,
    "start_time": "2022-05-18T15:48:06.210Z"
   },
   {
    "duration": 27,
    "start_time": "2022-05-18T15:48:24.929Z"
   },
   {
    "duration": 3,
    "start_time": "2022-05-18T15:48:31.935Z"
   },
   {
    "duration": 714,
    "start_time": "2022-05-18T15:48:31.940Z"
   },
   {
    "duration": 52,
    "start_time": "2022-05-18T15:48:32.656Z"
   },
   {
    "duration": 54,
    "start_time": "2022-05-18T15:48:32.710Z"
   },
   {
    "duration": 2,
    "start_time": "2022-05-18T15:48:32.766Z"
   },
   {
    "duration": 16,
    "start_time": "2022-05-18T15:48:32.770Z"
   },
   {
    "duration": 5,
    "start_time": "2022-05-18T15:48:32.787Z"
   },
   {
    "duration": 18,
    "start_time": "2022-05-18T15:48:32.793Z"
   },
   {
    "duration": 8,
    "start_time": "2022-05-18T15:48:32.812Z"
   },
   {
    "duration": 8,
    "start_time": "2022-05-18T15:48:32.821Z"
   },
   {
    "duration": 14,
    "start_time": "2022-05-18T15:48:32.831Z"
   },
   {
    "duration": 6,
    "start_time": "2022-05-18T15:48:32.859Z"
   },
   {
    "duration": 21,
    "start_time": "2022-05-18T15:48:32.867Z"
   },
   {
    "duration": 6,
    "start_time": "2022-05-18T15:48:32.890Z"
   },
   {
    "duration": 12,
    "start_time": "2022-05-18T15:48:32.898Z"
   },
   {
    "duration": 50,
    "start_time": "2022-05-18T15:48:32.912Z"
   },
   {
    "duration": 10,
    "start_time": "2022-05-18T15:48:32.964Z"
   },
   {
    "duration": 59,
    "start_time": "2022-05-18T15:48:32.975Z"
   },
   {
    "duration": 38,
    "start_time": "2022-05-18T15:48:33.036Z"
   },
   {
    "duration": 17,
    "start_time": "2022-05-18T15:48:33.076Z"
   },
   {
    "duration": 16,
    "start_time": "2022-05-18T15:48:33.094Z"
   },
   {
    "duration": 701,
    "start_time": "2022-05-18T15:48:33.111Z"
   },
   {
    "duration": 14,
    "start_time": "2022-05-18T15:48:33.814Z"
   },
   {
    "duration": 550,
    "start_time": "2022-05-18T15:48:33.830Z"
   },
   {
    "duration": 13,
    "start_time": "2022-05-18T15:48:34.382Z"
   },
   {
    "duration": 576,
    "start_time": "2022-05-18T15:48:34.396Z"
   },
   {
    "duration": 3,
    "start_time": "2022-05-18T15:48:34.973Z"
   },
   {
    "duration": 704,
    "start_time": "2022-05-18T15:48:34.978Z"
   },
   {
    "duration": 15,
    "start_time": "2022-05-18T15:48:35.685Z"
   },
   {
    "duration": 557,
    "start_time": "2022-05-18T15:48:35.702Z"
   },
   {
    "duration": 13,
    "start_time": "2022-05-18T15:48:36.261Z"
   },
   {
    "duration": 112,
    "start_time": "2022-05-18T15:48:36.275Z"
   },
   {
    "duration": 5,
    "start_time": "2022-05-18T15:48:36.389Z"
   },
   {
    "duration": 557,
    "start_time": "2022-05-18T15:48:36.396Z"
   },
   {
    "duration": 5,
    "start_time": "2022-05-18T15:48:36.955Z"
   },
   {
    "duration": 7,
    "start_time": "2022-05-18T15:48:41.010Z"
   },
   {
    "duration": 27,
    "start_time": "2022-05-18T15:48:48.622Z"
   },
   {
    "duration": 11,
    "start_time": "2022-05-18T15:48:58.997Z"
   },
   {
    "duration": 4,
    "start_time": "2022-05-18T15:49:09.530Z"
   },
   {
    "duration": 26,
    "start_time": "2022-05-18T15:49:10.976Z"
   },
   {
    "duration": 4,
    "start_time": "2022-05-18T15:49:21.722Z"
   },
   {
    "duration": 718,
    "start_time": "2022-05-18T15:49:21.728Z"
   },
   {
    "duration": 56,
    "start_time": "2022-05-18T15:49:22.448Z"
   },
   {
    "duration": 54,
    "start_time": "2022-05-18T15:49:22.505Z"
   },
   {
    "duration": 2,
    "start_time": "2022-05-18T15:49:22.561Z"
   },
   {
    "duration": 9,
    "start_time": "2022-05-18T15:49:22.564Z"
   },
   {
    "duration": 6,
    "start_time": "2022-05-18T15:49:22.575Z"
   },
   {
    "duration": 9,
    "start_time": "2022-05-18T15:49:22.582Z"
   },
   {
    "duration": 7,
    "start_time": "2022-05-18T15:49:22.593Z"
   },
   {
    "duration": 3,
    "start_time": "2022-05-18T15:49:22.602Z"
   },
   {
    "duration": 7,
    "start_time": "2022-05-18T15:49:22.608Z"
   },
   {
    "duration": 6,
    "start_time": "2022-05-18T15:49:22.616Z"
   },
   {
    "duration": 37,
    "start_time": "2022-05-18T15:49:22.623Z"
   },
   {
    "duration": 5,
    "start_time": "2022-05-18T15:49:22.661Z"
   },
   {
    "duration": 12,
    "start_time": "2022-05-18T15:49:22.667Z"
   },
   {
    "duration": 35,
    "start_time": "2022-05-18T15:49:22.681Z"
   },
   {
    "duration": 10,
    "start_time": "2022-05-18T15:49:22.717Z"
   },
   {
    "duration": 70,
    "start_time": "2022-05-18T15:49:22.729Z"
   },
   {
    "duration": 25,
    "start_time": "2022-05-18T15:49:22.801Z"
   },
   {
    "duration": 32,
    "start_time": "2022-05-18T15:49:22.828Z"
   },
   {
    "duration": 5,
    "start_time": "2022-05-18T15:49:22.862Z"
   },
   {
    "duration": 768,
    "start_time": "2022-05-18T15:49:22.868Z"
   },
   {
    "duration": 22,
    "start_time": "2022-05-18T15:49:23.637Z"
   },
   {
    "duration": 570,
    "start_time": "2022-05-18T15:49:23.661Z"
   },
   {
    "duration": 14,
    "start_time": "2022-05-18T15:49:24.233Z"
   },
   {
    "duration": 601,
    "start_time": "2022-05-18T15:49:24.248Z"
   },
   {
    "duration": 9,
    "start_time": "2022-05-18T15:49:24.851Z"
   },
   {
    "duration": 768,
    "start_time": "2022-05-18T15:49:24.861Z"
   },
   {
    "duration": 28,
    "start_time": "2022-05-18T15:49:25.631Z"
   },
   {
    "duration": 568,
    "start_time": "2022-05-18T15:49:25.661Z"
   },
   {
    "duration": 13,
    "start_time": "2022-05-18T15:49:26.231Z"
   },
   {
    "duration": 113,
    "start_time": "2022-05-18T15:49:26.246Z"
   },
   {
    "duration": 6,
    "start_time": "2022-05-18T15:49:26.361Z"
   },
   {
    "duration": 586,
    "start_time": "2022-05-18T15:49:26.368Z"
   },
   {
    "duration": 5,
    "start_time": "2022-05-18T15:49:26.955Z"
   },
   {
    "duration": 27,
    "start_time": "2022-05-18T15:49:35.916Z"
   },
   {
    "duration": 3,
    "start_time": "2022-05-18T15:50:00.656Z"
   },
   {
    "duration": 652,
    "start_time": "2022-05-18T15:50:00.660Z"
   },
   {
    "duration": 68,
    "start_time": "2022-05-18T15:50:01.313Z"
   },
   {
    "duration": 33,
    "start_time": "2022-05-18T15:50:01.382Z"
   },
   {
    "duration": 14,
    "start_time": "2022-05-18T15:50:01.417Z"
   },
   {
    "duration": 24,
    "start_time": "2022-05-18T15:50:01.432Z"
   },
   {
    "duration": 16,
    "start_time": "2022-05-18T15:50:01.458Z"
   },
   {
    "duration": 33,
    "start_time": "2022-05-18T15:50:01.475Z"
   },
   {
    "duration": 50,
    "start_time": "2022-05-18T15:50:01.509Z"
   },
   {
    "duration": 58,
    "start_time": "2022-05-18T15:50:01.561Z"
   },
   {
    "duration": 45,
    "start_time": "2022-05-18T15:50:01.620Z"
   },
   {
    "duration": 50,
    "start_time": "2022-05-18T15:50:01.667Z"
   },
   {
    "duration": 44,
    "start_time": "2022-05-18T15:50:01.719Z"
   },
   {
    "duration": 44,
    "start_time": "2022-05-18T15:50:01.766Z"
   },
   {
    "duration": 24,
    "start_time": "2022-05-18T15:50:01.812Z"
   },
   {
    "duration": 67,
    "start_time": "2022-05-18T15:50:01.838Z"
   },
   {
    "duration": 26,
    "start_time": "2022-05-18T15:50:01.907Z"
   },
   {
    "duration": 94,
    "start_time": "2022-05-18T15:50:01.936Z"
   },
   {
    "duration": 26,
    "start_time": "2022-05-18T15:50:02.032Z"
   },
   {
    "duration": 43,
    "start_time": "2022-05-18T15:50:02.060Z"
   },
   {
    "duration": 16,
    "start_time": "2022-05-18T15:50:02.106Z"
   },
   {
    "duration": 587,
    "start_time": "2022-05-18T15:50:02.124Z"
   },
   {
    "duration": 13,
    "start_time": "2022-05-18T15:50:02.713Z"
   },
   {
    "duration": 880,
    "start_time": "2022-05-18T15:50:02.727Z"
   },
   {
    "duration": 13,
    "start_time": "2022-05-18T15:50:03.609Z"
   },
   {
    "duration": 645,
    "start_time": "2022-05-18T15:50:03.624Z"
   },
   {
    "duration": 3,
    "start_time": "2022-05-18T15:50:04.271Z"
   },
   {
    "duration": 602,
    "start_time": "2022-05-18T15:50:04.276Z"
   },
   {
    "duration": 16,
    "start_time": "2022-05-18T15:50:04.880Z"
   },
   {
    "duration": 563,
    "start_time": "2022-05-18T15:50:04.897Z"
   },
   {
    "duration": 13,
    "start_time": "2022-05-18T15:50:05.461Z"
   },
   {
    "duration": 119,
    "start_time": "2022-05-18T15:50:05.475Z"
   },
   {
    "duration": 7,
    "start_time": "2022-05-18T15:50:05.595Z"
   },
   {
    "duration": 583,
    "start_time": "2022-05-18T15:50:05.603Z"
   },
   {
    "duration": 4,
    "start_time": "2022-05-18T15:50:06.187Z"
   },
   {
    "duration": 28,
    "start_time": "2022-05-18T15:50:08.712Z"
   },
   {
    "duration": 7,
    "start_time": "2022-05-18T15:50:30.817Z"
   },
   {
    "duration": 31,
    "start_time": "2022-05-18T15:50:32.014Z"
   },
   {
    "duration": 25,
    "start_time": "2022-05-18T15:57:10.557Z"
   },
   {
    "duration": 8,
    "start_time": "2022-05-18T15:57:47.061Z"
   },
   {
    "duration": 24,
    "start_time": "2022-05-18T15:57:48.193Z"
   },
   {
    "duration": 3,
    "start_time": "2022-05-18T15:58:00.547Z"
   },
   {
    "duration": 708,
    "start_time": "2022-05-18T15:58:00.552Z"
   },
   {
    "duration": 52,
    "start_time": "2022-05-18T15:58:01.261Z"
   },
   {
    "duration": 59,
    "start_time": "2022-05-18T15:58:01.314Z"
   },
   {
    "duration": 2,
    "start_time": "2022-05-18T15:58:01.375Z"
   },
   {
    "duration": 35,
    "start_time": "2022-05-18T15:58:01.378Z"
   },
   {
    "duration": 29,
    "start_time": "2022-05-18T15:58:01.414Z"
   },
   {
    "duration": 33,
    "start_time": "2022-05-18T15:58:01.444Z"
   },
   {
    "duration": 22,
    "start_time": "2022-05-18T15:58:01.479Z"
   },
   {
    "duration": 23,
    "start_time": "2022-05-18T15:58:01.502Z"
   },
   {
    "duration": 20,
    "start_time": "2022-05-18T15:58:01.527Z"
   },
   {
    "duration": 13,
    "start_time": "2022-05-18T15:58:01.549Z"
   },
   {
    "duration": 14,
    "start_time": "2022-05-18T15:58:01.563Z"
   },
   {
    "duration": 15,
    "start_time": "2022-05-18T15:58:01.579Z"
   },
   {
    "duration": 32,
    "start_time": "2022-05-18T15:58:01.596Z"
   },
   {
    "duration": 75,
    "start_time": "2022-05-18T15:58:01.630Z"
   },
   {
    "duration": 14,
    "start_time": "2022-05-18T15:58:01.707Z"
   },
   {
    "duration": 55,
    "start_time": "2022-05-18T15:58:01.724Z"
   },
   {
    "duration": 23,
    "start_time": "2022-05-18T15:58:01.780Z"
   },
   {
    "duration": 16,
    "start_time": "2022-05-18T15:58:01.805Z"
   },
   {
    "duration": 17,
    "start_time": "2022-05-18T15:58:01.823Z"
   },
   {
    "duration": 947,
    "start_time": "2022-05-18T15:58:01.841Z"
   },
   {
    "duration": 14,
    "start_time": "2022-05-18T15:58:02.790Z"
   },
   {
    "duration": 566,
    "start_time": "2022-05-18T15:58:02.805Z"
   },
   {
    "duration": 14,
    "start_time": "2022-05-18T15:58:03.372Z"
   },
   {
    "duration": 596,
    "start_time": "2022-05-18T15:58:03.387Z"
   },
   {
    "duration": 2,
    "start_time": "2022-05-18T15:58:03.985Z"
   },
   {
    "duration": 596,
    "start_time": "2022-05-18T15:58:03.989Z"
   },
   {
    "duration": 16,
    "start_time": "2022-05-18T15:58:04.588Z"
   },
   {
    "duration": 563,
    "start_time": "2022-05-18T15:58:04.605Z"
   },
   {
    "duration": 13,
    "start_time": "2022-05-18T15:58:05.169Z"
   },
   {
    "duration": 102,
    "start_time": "2022-05-18T15:58:05.184Z"
   },
   {
    "duration": 6,
    "start_time": "2022-05-18T15:58:05.288Z"
   },
   {
    "duration": 591,
    "start_time": "2022-05-18T15:58:05.295Z"
   },
   {
    "duration": 3,
    "start_time": "2022-05-18T15:58:05.888Z"
   },
   {
    "duration": 41,
    "start_time": "2022-05-18T15:58:05.892Z"
   },
   {
    "duration": 6,
    "start_time": "2022-05-18T15:58:23.849Z"
   },
   {
    "duration": 24,
    "start_time": "2022-05-18T15:58:24.921Z"
   },
   {
    "duration": 24,
    "start_time": "2022-05-18T15:58:54.452Z"
   },
   {
    "duration": 26,
    "start_time": "2022-05-18T15:59:10.125Z"
   },
   {
    "duration": 35,
    "start_time": "2022-05-18T15:59:23.501Z"
   },
   {
    "duration": 34,
    "start_time": "2022-05-18T16:00:12.095Z"
   },
   {
    "duration": 8,
    "start_time": "2022-05-18T16:01:32.528Z"
   },
   {
    "duration": 39,
    "start_time": "2022-05-18T16:01:34.576Z"
   },
   {
    "duration": 28,
    "start_time": "2022-05-18T16:01:56.875Z"
   },
   {
    "duration": 26,
    "start_time": "2022-05-18T16:02:25.106Z"
   },
   {
    "duration": 8,
    "start_time": "2022-05-18T16:02:38.969Z"
   },
   {
    "duration": 20,
    "start_time": "2022-05-18T16:05:53.445Z"
   },
   {
    "duration": 1027,
    "start_time": "2022-05-18T16:06:08.343Z"
   },
   {
    "duration": 289,
    "start_time": "2022-05-18T16:06:33.673Z"
   },
   {
    "duration": 3,
    "start_time": "2022-05-18T16:07:33.390Z"
   },
   {
    "duration": 706,
    "start_time": "2022-05-18T16:07:33.395Z"
   },
   {
    "duration": 73,
    "start_time": "2022-05-18T16:07:34.103Z"
   },
   {
    "duration": 38,
    "start_time": "2022-05-18T16:07:34.178Z"
   },
   {
    "duration": 3,
    "start_time": "2022-05-18T16:07:34.218Z"
   },
   {
    "duration": 15,
    "start_time": "2022-05-18T16:07:34.222Z"
   },
   {
    "duration": 25,
    "start_time": "2022-05-18T16:07:34.238Z"
   },
   {
    "duration": 11,
    "start_time": "2022-05-18T16:07:34.265Z"
   },
   {
    "duration": 7,
    "start_time": "2022-05-18T16:07:34.277Z"
   },
   {
    "duration": 4,
    "start_time": "2022-05-18T16:07:34.285Z"
   },
   {
    "duration": 8,
    "start_time": "2022-05-18T16:07:34.292Z"
   },
   {
    "duration": 6,
    "start_time": "2022-05-18T16:07:34.301Z"
   },
   {
    "duration": 14,
    "start_time": "2022-05-18T16:07:34.308Z"
   },
   {
    "duration": 38,
    "start_time": "2022-05-18T16:07:34.324Z"
   },
   {
    "duration": 9,
    "start_time": "2022-05-18T16:07:34.363Z"
   },
   {
    "duration": 40,
    "start_time": "2022-05-18T16:07:34.373Z"
   },
   {
    "duration": 12,
    "start_time": "2022-05-18T16:07:34.415Z"
   },
   {
    "duration": 78,
    "start_time": "2022-05-18T16:07:34.428Z"
   },
   {
    "duration": 25,
    "start_time": "2022-05-18T16:07:34.508Z"
   },
   {
    "duration": 31,
    "start_time": "2022-05-18T16:07:34.535Z"
   },
   {
    "duration": 5,
    "start_time": "2022-05-18T16:07:34.568Z"
   },
   {
    "duration": 1021,
    "start_time": "2022-05-18T16:07:34.574Z"
   },
   {
    "duration": 13,
    "start_time": "2022-05-18T16:07:35.597Z"
   },
   {
    "duration": 577,
    "start_time": "2022-05-18T16:07:35.611Z"
   },
   {
    "duration": 13,
    "start_time": "2022-05-18T16:07:36.190Z"
   },
   {
    "duration": 595,
    "start_time": "2022-05-18T16:07:36.204Z"
   },
   {
    "duration": 3,
    "start_time": "2022-05-18T16:07:36.801Z"
   },
   {
    "duration": 590,
    "start_time": "2022-05-18T16:07:36.805Z"
   },
   {
    "duration": 16,
    "start_time": "2022-05-18T16:07:37.397Z"
   },
   {
    "duration": 647,
    "start_time": "2022-05-18T16:07:37.415Z"
   },
   {
    "duration": 14,
    "start_time": "2022-05-18T16:07:38.063Z"
   },
   {
    "duration": 115,
    "start_time": "2022-05-18T16:07:38.078Z"
   },
   {
    "duration": 7,
    "start_time": "2022-05-18T16:07:38.195Z"
   },
   {
    "duration": 585,
    "start_time": "2022-05-18T16:07:38.204Z"
   },
   {
    "duration": 4,
    "start_time": "2022-05-18T16:07:38.791Z"
   },
   {
    "duration": 8,
    "start_time": "2022-05-18T16:07:38.797Z"
   },
   {
    "duration": 10,
    "start_time": "2022-05-18T16:07:38.806Z"
   },
   {
    "duration": 5,
    "start_time": "2022-05-18T16:07:38.818Z"
   },
   {
    "duration": 313,
    "start_time": "2022-05-18T16:07:43.252Z"
   },
   {
    "duration": 5,
    "start_time": "2022-05-18T16:08:24.879Z"
   },
   {
    "duration": 4,
    "start_time": "2022-05-18T16:08:52.754Z"
   },
   {
    "duration": 5,
    "start_time": "2022-05-18T16:09:04.336Z"
   },
   {
    "duration": 6,
    "start_time": "2022-05-18T16:09:26.250Z"
   },
   {
    "duration": 215,
    "start_time": "2022-05-18T16:09:43.452Z"
   },
   {
    "duration": 263,
    "start_time": "2022-05-18T16:10:42.812Z"
   },
   {
    "duration": 202,
    "start_time": "2022-05-18T16:11:08.069Z"
   },
   {
    "duration": 4,
    "start_time": "2022-05-18T16:11:17.977Z"
   },
   {
    "duration": 711,
    "start_time": "2022-05-18T16:11:17.983Z"
   },
   {
    "duration": 71,
    "start_time": "2022-05-18T16:11:18.695Z"
   },
   {
    "duration": 36,
    "start_time": "2022-05-18T16:11:18.767Z"
   },
   {
    "duration": 3,
    "start_time": "2022-05-18T16:11:18.804Z"
   },
   {
    "duration": 11,
    "start_time": "2022-05-18T16:11:18.808Z"
   },
   {
    "duration": 4,
    "start_time": "2022-05-18T16:11:18.821Z"
   },
   {
    "duration": 13,
    "start_time": "2022-05-18T16:11:18.826Z"
   },
   {
    "duration": 7,
    "start_time": "2022-05-18T16:11:18.859Z"
   },
   {
    "duration": 4,
    "start_time": "2022-05-18T16:11:18.867Z"
   },
   {
    "duration": 8,
    "start_time": "2022-05-18T16:11:18.872Z"
   },
   {
    "duration": 6,
    "start_time": "2022-05-18T16:11:18.881Z"
   },
   {
    "duration": 11,
    "start_time": "2022-05-18T16:11:18.888Z"
   },
   {
    "duration": 8,
    "start_time": "2022-05-18T16:11:18.900Z"
   },
   {
    "duration": 10,
    "start_time": "2022-05-18T16:11:18.909Z"
   },
   {
    "duration": 62,
    "start_time": "2022-05-18T16:11:18.920Z"
   },
   {
    "duration": 10,
    "start_time": "2022-05-18T16:11:18.984Z"
   },
   {
    "duration": 68,
    "start_time": "2022-05-18T16:11:18.996Z"
   },
   {
    "duration": 28,
    "start_time": "2022-05-18T16:11:19.065Z"
   },
   {
    "duration": 14,
    "start_time": "2022-05-18T16:11:19.095Z"
   },
   {
    "duration": 5,
    "start_time": "2022-05-18T16:11:19.110Z"
   },
   {
    "duration": 1151,
    "start_time": "2022-05-18T16:11:19.116Z"
   },
   {
    "duration": 13,
    "start_time": "2022-05-18T16:11:20.269Z"
   },
   {
    "duration": 639,
    "start_time": "2022-05-18T16:11:20.285Z"
   },
   {
    "duration": 13,
    "start_time": "2022-05-18T16:11:20.926Z"
   },
   {
    "duration": 666,
    "start_time": "2022-05-18T16:11:20.941Z"
   },
   {
    "duration": 3,
    "start_time": "2022-05-18T16:11:21.609Z"
   },
   {
    "duration": 664,
    "start_time": "2022-05-18T16:11:21.614Z"
   },
   {
    "duration": 16,
    "start_time": "2022-05-18T16:11:22.280Z"
   },
   {
    "duration": 643,
    "start_time": "2022-05-18T16:11:22.298Z"
   },
   {
    "duration": 19,
    "start_time": "2022-05-18T16:11:22.943Z"
   },
   {
    "duration": 102,
    "start_time": "2022-05-18T16:11:22.964Z"
   },
   {
    "duration": 7,
    "start_time": "2022-05-18T16:11:23.068Z"
   },
   {
    "duration": 632,
    "start_time": "2022-05-18T16:11:23.077Z"
   },
   {
    "duration": 4,
    "start_time": "2022-05-18T16:11:23.710Z"
   },
   {
    "duration": 20,
    "start_time": "2022-05-18T16:11:23.716Z"
   },
   {
    "duration": 26,
    "start_time": "2022-05-18T16:11:23.737Z"
   },
   {
    "duration": 16,
    "start_time": "2022-05-18T16:11:23.764Z"
   },
   {
    "duration": 26,
    "start_time": "2022-05-18T16:11:23.782Z"
   },
   {
    "duration": 19,
    "start_time": "2022-05-18T16:11:23.809Z"
   },
   {
    "duration": 344,
    "start_time": "2022-05-18T16:11:23.830Z"
   },
   {
    "duration": 1184,
    "start_time": "2022-05-18T16:16:16.185Z"
   },
   {
    "duration": 1182,
    "start_time": "2022-05-18T16:17:24.679Z"
   },
   {
    "duration": 1845,
    "start_time": "2022-05-18T16:17:34.524Z"
   },
   {
    "duration": 2603,
    "start_time": "2022-05-18T16:17:58.358Z"
   },
   {
    "duration": 2011,
    "start_time": "2022-05-18T16:18:07.150Z"
   },
   {
    "duration": 2,
    "start_time": "2022-05-18T16:18:27.312Z"
   },
   {
    "duration": 694,
    "start_time": "2022-05-18T16:18:27.316Z"
   },
   {
    "duration": 76,
    "start_time": "2022-05-18T16:18:28.012Z"
   },
   {
    "duration": 37,
    "start_time": "2022-05-18T16:18:28.090Z"
   },
   {
    "duration": 3,
    "start_time": "2022-05-18T16:18:28.128Z"
   },
   {
    "duration": 32,
    "start_time": "2022-05-18T16:18:28.132Z"
   },
   {
    "duration": 5,
    "start_time": "2022-05-18T16:18:28.166Z"
   },
   {
    "duration": 9,
    "start_time": "2022-05-18T16:18:28.173Z"
   },
   {
    "duration": 7,
    "start_time": "2022-05-18T16:18:28.183Z"
   },
   {
    "duration": 4,
    "start_time": "2022-05-18T16:18:28.191Z"
   },
   {
    "duration": 6,
    "start_time": "2022-05-18T16:18:28.197Z"
   },
   {
    "duration": 4,
    "start_time": "2022-05-18T16:18:28.204Z"
   },
   {
    "duration": 10,
    "start_time": "2022-05-18T16:18:28.209Z"
   },
   {
    "duration": 40,
    "start_time": "2022-05-18T16:18:28.221Z"
   },
   {
    "duration": 7,
    "start_time": "2022-05-18T16:18:28.262Z"
   },
   {
    "duration": 40,
    "start_time": "2022-05-18T16:18:28.271Z"
   },
   {
    "duration": 12,
    "start_time": "2022-05-18T16:18:28.312Z"
   },
   {
    "duration": 75,
    "start_time": "2022-05-18T16:18:28.325Z"
   },
   {
    "duration": 24,
    "start_time": "2022-05-18T16:18:28.401Z"
   },
   {
    "duration": 14,
    "start_time": "2022-05-18T16:18:28.427Z"
   },
   {
    "duration": 20,
    "start_time": "2022-05-18T16:18:28.442Z"
   },
   {
    "duration": 609,
    "start_time": "2022-05-18T16:18:28.464Z"
   },
   {
    "duration": 14,
    "start_time": "2022-05-18T16:18:29.075Z"
   },
   {
    "duration": 612,
    "start_time": "2022-05-18T16:18:29.090Z"
   },
   {
    "duration": 14,
    "start_time": "2022-05-18T16:18:29.703Z"
   },
   {
    "duration": 1213,
    "start_time": "2022-05-18T16:18:29.718Z"
   },
   {
    "duration": 3,
    "start_time": "2022-05-18T16:18:30.932Z"
   },
   {
    "duration": 550,
    "start_time": "2022-05-18T16:18:30.937Z"
   },
   {
    "duration": 16,
    "start_time": "2022-05-18T16:18:31.490Z"
   },
   {
    "duration": 646,
    "start_time": "2022-05-18T16:18:31.507Z"
   },
   {
    "duration": 14,
    "start_time": "2022-05-18T16:18:32.159Z"
   },
   {
    "duration": 113,
    "start_time": "2022-05-18T16:18:32.174Z"
   },
   {
    "duration": 6,
    "start_time": "2022-05-18T16:18:32.289Z"
   },
   {
    "duration": 614,
    "start_time": "2022-05-18T16:18:32.296Z"
   },
   {
    "duration": 4,
    "start_time": "2022-05-18T16:18:32.912Z"
   },
   {
    "duration": 9,
    "start_time": "2022-05-18T16:18:32.918Z"
   },
   {
    "duration": 8,
    "start_time": "2022-05-18T16:18:32.929Z"
   },
   {
    "duration": 21,
    "start_time": "2022-05-18T16:18:32.939Z"
   },
   {
    "duration": 1605,
    "start_time": "2022-05-18T16:18:32.962Z"
   },
   {
    "duration": 1493,
    "start_time": "2022-05-18T16:18:49.475Z"
   },
   {
    "duration": 1721,
    "start_time": "2022-05-18T16:18:58.340Z"
   },
   {
    "duration": 1543,
    "start_time": "2022-05-18T16:19:52.221Z"
   },
   {
    "duration": 1781,
    "start_time": "2022-05-18T16:20:07.491Z"
   },
   {
    "duration": 1662,
    "start_time": "2022-05-18T16:21:06.705Z"
   },
   {
    "duration": 2451,
    "start_time": "2022-05-18T16:21:23.710Z"
   },
   {
    "duration": 3896,
    "start_time": "2022-05-18T16:24:20.067Z"
   },
   {
    "duration": 4087,
    "start_time": "2022-05-18T16:24:36.677Z"
   },
   {
    "duration": 4327,
    "start_time": "2022-05-18T16:24:50.533Z"
   },
   {
    "duration": 601,
    "start_time": "2022-05-18T16:25:10.465Z"
   },
   {
    "duration": 3666,
    "start_time": "2022-05-18T16:25:14.198Z"
   },
   {
    "duration": 4461,
    "start_time": "2022-05-18T16:25:51.702Z"
   },
   {
    "duration": 2757,
    "start_time": "2022-05-18T16:26:04.709Z"
   },
   {
    "duration": 34,
    "start_time": "2022-05-18T16:27:09.687Z"
   },
   {
    "duration": 1964,
    "start_time": "2022-05-18T16:27:22.400Z"
   },
   {
    "duration": 3538,
    "start_time": "2022-05-18T16:27:38.321Z"
   },
   {
    "duration": 4,
    "start_time": "2022-05-18T16:28:18.268Z"
   },
   {
    "duration": 7,
    "start_time": "2022-05-18T16:28:31.692Z"
   },
   {
    "duration": 4,
    "start_time": "2022-05-18T16:28:35.850Z"
   },
   {
    "duration": 3722,
    "start_time": "2022-05-18T16:28:46.240Z"
   },
   {
    "duration": 3086,
    "start_time": "2022-05-18T16:28:58.774Z"
   },
   {
    "duration": 3611,
    "start_time": "2022-05-18T16:29:07.451Z"
   },
   {
    "duration": 4274,
    "start_time": "2022-05-18T16:29:50.088Z"
   },
   {
    "duration": 4376,
    "start_time": "2022-05-18T16:34:14.090Z"
   },
   {
    "duration": 4377,
    "start_time": "2022-05-18T16:34:20.282Z"
   },
   {
    "duration": 706,
    "start_time": "2022-05-18T16:38:06.765Z"
   },
   {
    "duration": 602,
    "start_time": "2022-05-18T16:39:20.159Z"
   },
   {
    "duration": 1711,
    "start_time": "2022-05-19T15:59:55.640Z"
   },
   {
    "duration": 3265,
    "start_time": "2022-05-19T15:59:57.355Z"
   },
   {
    "duration": 76,
    "start_time": "2022-05-19T16:00:00.622Z"
   },
   {
    "duration": 48,
    "start_time": "2022-05-19T16:00:00.699Z"
   },
   {
    "duration": 3,
    "start_time": "2022-05-19T16:00:00.748Z"
   },
   {
    "duration": 16,
    "start_time": "2022-05-19T16:00:00.753Z"
   },
   {
    "duration": 25,
    "start_time": "2022-05-19T16:00:00.771Z"
   },
   {
    "duration": 28,
    "start_time": "2022-05-19T16:00:00.798Z"
   },
   {
    "duration": 19,
    "start_time": "2022-05-19T16:00:00.828Z"
   },
   {
    "duration": 11,
    "start_time": "2022-05-19T16:00:00.850Z"
   },
   {
    "duration": 27,
    "start_time": "2022-05-19T16:00:00.863Z"
   },
   {
    "duration": 22,
    "start_time": "2022-05-19T16:00:00.892Z"
   },
   {
    "duration": 13,
    "start_time": "2022-05-19T16:00:00.916Z"
   },
   {
    "duration": 8,
    "start_time": "2022-05-19T16:00:00.931Z"
   },
   {
    "duration": 17,
    "start_time": "2022-05-19T16:00:00.941Z"
   },
   {
    "duration": 54,
    "start_time": "2022-05-19T16:00:00.960Z"
   },
   {
    "duration": 13,
    "start_time": "2022-05-19T16:00:01.016Z"
   },
   {
    "duration": 99,
    "start_time": "2022-05-19T16:00:01.031Z"
   },
   {
    "duration": 47,
    "start_time": "2022-05-19T16:00:01.132Z"
   },
   {
    "duration": 39,
    "start_time": "2022-05-19T16:00:01.181Z"
   },
   {
    "duration": 12,
    "start_time": "2022-05-19T16:00:01.222Z"
   },
   {
    "duration": 797,
    "start_time": "2022-05-19T16:00:01.236Z"
   },
   {
    "duration": 28,
    "start_time": "2022-05-19T16:00:02.035Z"
   },
   {
    "duration": 691,
    "start_time": "2022-05-19T16:00:02.065Z"
   },
   {
    "duration": 25,
    "start_time": "2022-05-19T16:00:02.758Z"
   },
   {
    "duration": 770,
    "start_time": "2022-05-19T16:00:02.785Z"
   },
   {
    "duration": 3,
    "start_time": "2022-05-19T16:00:03.557Z"
   },
   {
    "duration": 729,
    "start_time": "2022-05-19T16:00:03.563Z"
   },
   {
    "duration": 20,
    "start_time": "2022-05-19T16:00:04.295Z"
   },
   {
    "duration": 798,
    "start_time": "2022-05-19T16:00:04.316Z"
   },
   {
    "duration": 15,
    "start_time": "2022-05-19T16:00:05.116Z"
   },
   {
    "duration": 132,
    "start_time": "2022-05-19T16:00:05.132Z"
   },
   {
    "duration": 8,
    "start_time": "2022-05-19T16:00:05.266Z"
   },
   {
    "duration": 695,
    "start_time": "2022-05-19T16:00:05.276Z"
   },
   {
    "duration": 4,
    "start_time": "2022-05-19T16:00:05.973Z"
   },
   {
    "duration": 19,
    "start_time": "2022-05-19T16:00:05.978Z"
   },
   {
    "duration": 31,
    "start_time": "2022-05-19T16:00:05.999Z"
   },
   {
    "duration": 6,
    "start_time": "2022-05-19T16:01:17.051Z"
   },
   {
    "duration": 8,
    "start_time": "2022-05-19T16:01:45.563Z"
   },
   {
    "duration": 143,
    "start_time": "2022-05-19T16:02:11.807Z"
   },
   {
    "duration": 6,
    "start_time": "2022-05-19T16:03:00.279Z"
   },
   {
    "duration": 6,
    "start_time": "2022-05-19T16:03:03.480Z"
   },
   {
    "duration": 4,
    "start_time": "2022-05-19T16:03:29.300Z"
   },
   {
    "duration": 6,
    "start_time": "2022-05-19T16:03:30.496Z"
   },
   {
    "duration": 18,
    "start_time": "2022-05-19T16:03:31.532Z"
   },
   {
    "duration": 8,
    "start_time": "2022-05-19T16:03:44.111Z"
   },
   {
    "duration": 20,
    "start_time": "2022-05-19T16:03:45.712Z"
   },
   {
    "duration": 7,
    "start_time": "2022-05-19T16:04:44.686Z"
   },
   {
    "duration": 7,
    "start_time": "2022-05-19T16:04:45.113Z"
   },
   {
    "duration": 8,
    "start_time": "2022-05-19T16:04:46.313Z"
   },
   {
    "duration": 6,
    "start_time": "2022-05-19T16:04:58.293Z"
   },
   {
    "duration": 10,
    "start_time": "2022-05-19T16:04:59.391Z"
   },
   {
    "duration": 53,
    "start_time": "2022-05-19T16:05:10.303Z"
   },
   {
    "duration": 37,
    "start_time": "2022-05-19T16:06:07.842Z"
   },
   {
    "duration": 910,
    "start_time": "2022-05-19T16:06:28.584Z"
   },
   {
    "duration": 745,
    "start_time": "2022-05-19T16:07:41.151Z"
   },
   {
    "duration": 652,
    "start_time": "2022-05-19T16:08:22.848Z"
   },
   {
    "duration": 719,
    "start_time": "2022-05-19T16:08:49.983Z"
   },
   {
    "duration": 798,
    "start_time": "2022-05-19T16:09:04.902Z"
   },
   {
    "duration": 5,
    "start_time": "2022-05-19T16:10:18.873Z"
   },
   {
    "duration": 5,
    "start_time": "2022-05-19T16:10:24.294Z"
   },
   {
    "duration": 5,
    "start_time": "2022-05-19T16:10:28.730Z"
   },
   {
    "duration": 5,
    "start_time": "2022-05-19T16:10:37.748Z"
   },
   {
    "duration": 6,
    "start_time": "2022-05-19T16:10:48.820Z"
   },
   {
    "duration": 6,
    "start_time": "2022-05-19T16:11:00.072Z"
   },
   {
    "duration": 6,
    "start_time": "2022-05-19T16:11:08.041Z"
   },
   {
    "duration": 5,
    "start_time": "2022-05-19T16:11:17.800Z"
   },
   {
    "duration": 663,
    "start_time": "2022-05-19T16:12:11.140Z"
   },
   {
    "duration": 524,
    "start_time": "2022-05-19T16:13:15.180Z"
   },
   {
    "duration": 806,
    "start_time": "2022-05-19T16:13:48.689Z"
   },
   {
    "duration": 556,
    "start_time": "2022-05-19T16:15:15.038Z"
   },
   {
    "duration": 658,
    "start_time": "2022-05-19T16:15:56.441Z"
   },
   {
    "duration": 449,
    "start_time": "2022-05-19T16:16:09.553Z"
   },
   {
    "duration": 585,
    "start_time": "2022-05-19T16:16:44.118Z"
   },
   {
    "duration": 751,
    "start_time": "2022-05-19T16:17:08.145Z"
   },
   {
    "duration": 906,
    "start_time": "2022-05-19T16:17:33.893Z"
   },
   {
    "duration": 197,
    "start_time": "2022-05-19T16:19:41.204Z"
   },
   {
    "duration": 597,
    "start_time": "2022-05-19T16:19:53.804Z"
   },
   {
    "duration": 699,
    "start_time": "2022-05-19T16:20:34.306Z"
   },
   {
    "duration": 772,
    "start_time": "2022-05-19T16:21:07.824Z"
   },
   {
    "duration": 539,
    "start_time": "2022-05-19T16:22:40.462Z"
   },
   {
    "duration": 695,
    "start_time": "2022-05-19T16:22:55.411Z"
   },
   {
    "duration": 771,
    "start_time": "2022-05-19T16:24:10.028Z"
   },
   {
    "duration": 795,
    "start_time": "2022-05-19T16:24:34.901Z"
   },
   {
    "duration": 664,
    "start_time": "2022-05-19T16:25:08.234Z"
   },
   {
    "duration": 2,
    "start_time": "2022-05-19T16:25:26.304Z"
   },
   {
    "duration": 664,
    "start_time": "2022-05-19T16:25:26.309Z"
   },
   {
    "duration": 62,
    "start_time": "2022-05-19T16:25:26.975Z"
   },
   {
    "duration": 69,
    "start_time": "2022-05-19T16:25:27.039Z"
   },
   {
    "duration": 3,
    "start_time": "2022-05-19T16:25:27.110Z"
   },
   {
    "duration": 11,
    "start_time": "2022-05-19T16:25:27.114Z"
   },
   {
    "duration": 5,
    "start_time": "2022-05-19T16:25:27.127Z"
   },
   {
    "duration": 10,
    "start_time": "2022-05-19T16:25:27.133Z"
   },
   {
    "duration": 8,
    "start_time": "2022-05-19T16:25:27.145Z"
   },
   {
    "duration": 5,
    "start_time": "2022-05-19T16:25:27.154Z"
   },
   {
    "duration": 42,
    "start_time": "2022-05-19T16:25:27.161Z"
   },
   {
    "duration": 12,
    "start_time": "2022-05-19T16:25:27.205Z"
   },
   {
    "duration": 15,
    "start_time": "2022-05-19T16:25:27.219Z"
   },
   {
    "duration": 6,
    "start_time": "2022-05-19T16:25:27.237Z"
   },
   {
    "duration": 17,
    "start_time": "2022-05-19T16:25:27.244Z"
   },
   {
    "duration": 74,
    "start_time": "2022-05-19T16:25:27.263Z"
   },
   {
    "duration": 15,
    "start_time": "2022-05-19T16:25:27.340Z"
   },
   {
    "duration": 77,
    "start_time": "2022-05-19T16:25:27.357Z"
   },
   {
    "duration": 36,
    "start_time": "2022-05-19T16:25:27.436Z"
   },
   {
    "duration": 31,
    "start_time": "2022-05-19T16:25:27.474Z"
   },
   {
    "duration": 6,
    "start_time": "2022-05-19T16:25:27.506Z"
   },
   {
    "duration": 854,
    "start_time": "2022-05-19T16:25:27.514Z"
   },
   {
    "duration": 28,
    "start_time": "2022-05-19T16:25:28.370Z"
   },
   {
    "duration": 838,
    "start_time": "2022-05-19T16:25:28.401Z"
   },
   {
    "duration": 13,
    "start_time": "2022-05-19T16:25:29.241Z"
   },
   {
    "duration": 658,
    "start_time": "2022-05-19T16:25:29.256Z"
   },
   {
    "duration": 5,
    "start_time": "2022-05-19T16:25:29.915Z"
   },
   {
    "duration": 861,
    "start_time": "2022-05-19T16:25:29.921Z"
   },
   {
    "duration": 20,
    "start_time": "2022-05-19T16:25:30.785Z"
   },
   {
    "duration": 695,
    "start_time": "2022-05-19T16:25:30.807Z"
   },
   {
    "duration": 15,
    "start_time": "2022-05-19T16:25:31.504Z"
   },
   {
    "duration": 131,
    "start_time": "2022-05-19T16:25:31.521Z"
   },
   {
    "duration": 7,
    "start_time": "2022-05-19T16:25:31.654Z"
   },
   {
    "duration": 735,
    "start_time": "2022-05-19T16:25:31.663Z"
   },
   {
    "duration": 4,
    "start_time": "2022-05-19T16:25:32.400Z"
   },
   {
    "duration": 11,
    "start_time": "2022-05-19T16:25:32.406Z"
   },
   {
    "duration": 14,
    "start_time": "2022-05-19T16:25:32.419Z"
   },
   {
    "duration": 9,
    "start_time": "2022-05-19T16:25:32.435Z"
   },
   {
    "duration": 12,
    "start_time": "2022-05-19T16:25:32.445Z"
   },
   {
    "duration": 5237,
    "start_time": "2022-05-19T16:25:32.459Z"
   },
   {
    "duration": 3900,
    "start_time": "2022-05-19T16:26:33.797Z"
   },
   {
    "duration": 3544,
    "start_time": "2022-05-19T16:27:03.953Z"
   },
   {
    "duration": 4054,
    "start_time": "2022-05-19T16:29:11.843Z"
   },
   {
    "duration": 3901,
    "start_time": "2022-05-19T16:29:32.199Z"
   },
   {
    "duration": 3776,
    "start_time": "2022-05-19T16:30:09.922Z"
   },
   {
    "duration": 4473,
    "start_time": "2022-05-19T16:30:45.728Z"
   },
   {
    "duration": 4,
    "start_time": "2022-05-19T16:31:09.896Z"
   },
   {
    "duration": 3807,
    "start_time": "2022-05-19T16:31:19.390Z"
   },
   {
    "duration": 3540,
    "start_time": "2022-05-19T16:32:10.556Z"
   },
   {
    "duration": 3303,
    "start_time": "2022-05-19T16:33:35.593Z"
   },
   {
    "duration": 46,
    "start_time": "2022-05-19T16:46:49.012Z"
   },
   {
    "duration": 41,
    "start_time": "2022-05-19T16:47:03.167Z"
   },
   {
    "duration": 3370,
    "start_time": "2022-05-19T16:47:08.933Z"
   },
   {
    "duration": 3678,
    "start_time": "2022-05-19T16:47:18.918Z"
   },
   {
    "duration": 3472,
    "start_time": "2022-05-19T16:48:01.324Z"
   },
   {
    "duration": 4,
    "start_time": "2022-05-19T16:49:30.217Z"
   },
   {
    "duration": 3803,
    "start_time": "2022-05-19T16:51:44.903Z"
   },
   {
    "duration": 4,
    "start_time": "2022-05-19T16:52:45.056Z"
   },
   {
    "duration": 749,
    "start_time": "2022-05-19T16:52:45.063Z"
   },
   {
    "duration": 81,
    "start_time": "2022-05-19T16:52:45.814Z"
   },
   {
    "duration": 39,
    "start_time": "2022-05-19T16:52:45.897Z"
   },
   {
    "duration": 4,
    "start_time": "2022-05-19T16:52:45.938Z"
   },
   {
    "duration": 36,
    "start_time": "2022-05-19T16:52:45.943Z"
   },
   {
    "duration": 23,
    "start_time": "2022-05-19T16:52:45.981Z"
   },
   {
    "duration": 26,
    "start_time": "2022-05-19T16:52:46.005Z"
   },
   {
    "duration": 11,
    "start_time": "2022-05-19T16:52:46.034Z"
   },
   {
    "duration": 5,
    "start_time": "2022-05-19T16:52:46.047Z"
   },
   {
    "duration": 8,
    "start_time": "2022-05-19T16:52:46.056Z"
   },
   {
    "duration": 5,
    "start_time": "2022-05-19T16:52:46.066Z"
   },
   {
    "duration": 28,
    "start_time": "2022-05-19T16:52:46.073Z"
   },
   {
    "duration": 7,
    "start_time": "2022-05-19T16:52:46.104Z"
   },
   {
    "duration": 11,
    "start_time": "2022-05-19T16:52:46.113Z"
   },
   {
    "duration": 80,
    "start_time": "2022-05-19T16:52:46.126Z"
   },
   {
    "duration": 14,
    "start_time": "2022-05-19T16:52:46.208Z"
   },
   {
    "duration": 55,
    "start_time": "2022-05-19T16:52:46.224Z"
   },
   {
    "duration": 40,
    "start_time": "2022-05-19T16:52:46.281Z"
   },
   {
    "duration": 19,
    "start_time": "2022-05-19T16:52:46.322Z"
   },
   {
    "duration": 6,
    "start_time": "2022-05-19T16:52:46.343Z"
   },
   {
    "duration": 998,
    "start_time": "2022-05-19T16:52:46.350Z"
   },
   {
    "duration": 16,
    "start_time": "2022-05-19T16:52:47.351Z"
   },
   {
    "duration": 770,
    "start_time": "2022-05-19T16:52:47.370Z"
   },
   {
    "duration": 16,
    "start_time": "2022-05-19T16:52:48.142Z"
   },
   {
    "duration": 721,
    "start_time": "2022-05-19T16:52:48.160Z"
   },
   {
    "duration": 4,
    "start_time": "2022-05-19T16:52:48.883Z"
   },
   {
    "duration": 858,
    "start_time": "2022-05-19T16:52:48.888Z"
   },
   {
    "duration": 17,
    "start_time": "2022-05-19T16:52:49.749Z"
   },
   {
    "duration": 711,
    "start_time": "2022-05-19T16:52:49.768Z"
   },
   {
    "duration": 22,
    "start_time": "2022-05-19T16:52:50.481Z"
   },
   {
    "duration": 130,
    "start_time": "2022-05-19T16:52:50.505Z"
   },
   {
    "duration": 8,
    "start_time": "2022-05-19T16:52:50.637Z"
   },
   {
    "duration": 761,
    "start_time": "2022-05-19T16:52:50.647Z"
   },
   {
    "duration": 4,
    "start_time": "2022-05-19T16:52:51.410Z"
   },
   {
    "duration": 14,
    "start_time": "2022-05-19T16:52:51.415Z"
   },
   {
    "duration": 20,
    "start_time": "2022-05-19T16:52:51.430Z"
   },
   {
    "duration": 6945,
    "start_time": "2022-05-19T16:52:51.453Z"
   },
   {
    "duration": 25,
    "start_time": "2022-05-19T17:14:52.304Z"
   },
   {
    "duration": 30,
    "start_time": "2022-05-19T17:15:20.324Z"
   },
   {
    "duration": 247,
    "start_time": "2022-05-19T17:15:26.058Z"
   },
   {
    "duration": 244,
    "start_time": "2022-05-19T17:16:20.058Z"
   },
   {
    "duration": 282,
    "start_time": "2022-05-19T17:19:51.614Z"
   },
   {
    "duration": 1295,
    "start_time": "2022-05-19T17:21:06.788Z"
   },
   {
    "duration": 1276,
    "start_time": "2022-05-19T17:22:14.114Z"
   },
   {
    "duration": 469228,
    "start_time": "2022-05-19T17:22:38.897Z"
   },
   {
    "duration": 10,
    "start_time": "2022-05-19T17:33:22.979Z"
   },
   {
    "duration": 466286,
    "start_time": "2022-05-19T17:33:35.464Z"
   },
   {
    "duration": 41,
    "start_time": "2022-05-19T17:41:21.751Z"
   },
   {
    "duration": 3,
    "start_time": "2022-05-19T17:43:20.387Z"
   },
   {
    "duration": 60,
    "start_time": "2022-05-19T17:44:29.476Z"
   },
   {
    "duration": 22823,
    "start_time": "2022-05-19T17:45:40.082Z"
   },
   {
    "duration": 35726,
    "start_time": "2022-05-19T17:46:27.462Z"
   },
   {
    "duration": 4,
    "start_time": "2022-05-19T17:52:57.409Z"
   },
   {
    "duration": 9,
    "start_time": "2022-05-19T17:58:13.095Z"
   },
   {
    "duration": 18668,
    "start_time": "2022-05-19T17:59:39.767Z"
   },
   {
    "duration": 18451,
    "start_time": "2022-05-19T18:00:22.572Z"
   },
   {
    "duration": 5,
    "start_time": "2022-05-19T18:01:26.168Z"
   },
   {
    "duration": 4,
    "start_time": "2022-05-19T18:04:08.954Z"
   },
   {
    "duration": 4,
    "start_time": "2022-05-19T18:04:14.321Z"
   },
   {
    "duration": 5,
    "start_time": "2022-05-19T18:04:17.353Z"
   },
   {
    "duration": 4,
    "start_time": "2022-05-19T18:04:24.823Z"
   },
   {
    "duration": 4,
    "start_time": "2022-05-19T18:04:28.513Z"
   },
   {
    "duration": 4,
    "start_time": "2022-05-19T18:04:31.495Z"
   },
   {
    "duration": 16827,
    "start_time": "2022-05-19T18:05:33.330Z"
   },
   {
    "duration": 4,
    "start_time": "2022-05-19T18:09:30.087Z"
   },
   {
    "duration": 678,
    "start_time": "2022-05-19T18:09:30.092Z"
   },
   {
    "duration": 73,
    "start_time": "2022-05-19T18:09:30.773Z"
   },
   {
    "duration": 65,
    "start_time": "2022-05-19T18:09:30.847Z"
   },
   {
    "duration": 3,
    "start_time": "2022-05-19T18:09:30.915Z"
   },
   {
    "duration": 23,
    "start_time": "2022-05-19T18:09:30.920Z"
   },
   {
    "duration": 20,
    "start_time": "2022-05-19T18:09:30.945Z"
   },
   {
    "duration": 21,
    "start_time": "2022-05-19T18:09:30.967Z"
   },
   {
    "duration": 22,
    "start_time": "2022-05-19T18:09:30.990Z"
   },
   {
    "duration": 17,
    "start_time": "2022-05-19T18:09:31.014Z"
   },
   {
    "duration": 27,
    "start_time": "2022-05-19T18:09:31.034Z"
   },
   {
    "duration": 31,
    "start_time": "2022-05-19T18:09:31.063Z"
   },
   {
    "duration": 30,
    "start_time": "2022-05-19T18:09:31.096Z"
   },
   {
    "duration": 33,
    "start_time": "2022-05-19T18:09:31.128Z"
   },
   {
    "duration": 27,
    "start_time": "2022-05-19T18:09:31.163Z"
   },
   {
    "duration": 47,
    "start_time": "2022-05-19T18:09:31.192Z"
   },
   {
    "duration": 12,
    "start_time": "2022-05-19T18:09:31.241Z"
   },
   {
    "duration": 82,
    "start_time": "2022-05-19T18:09:31.255Z"
   },
   {
    "duration": 31,
    "start_time": "2022-05-19T18:09:31.339Z"
   },
   {
    "duration": 39,
    "start_time": "2022-05-19T18:09:31.372Z"
   },
   {
    "duration": 9,
    "start_time": "2022-05-19T18:09:31.413Z"
   },
   {
    "duration": 740,
    "start_time": "2022-05-19T18:09:31.423Z"
   },
   {
    "duration": 14,
    "start_time": "2022-05-19T18:09:32.164Z"
   },
   {
    "duration": 1015,
    "start_time": "2022-05-19T18:09:32.179Z"
   },
   {
    "duration": 14,
    "start_time": "2022-05-19T18:09:33.196Z"
   },
   {
    "duration": 707,
    "start_time": "2022-05-19T18:09:33.212Z"
   },
   {
    "duration": 4,
    "start_time": "2022-05-19T18:09:33.921Z"
   },
   {
    "duration": 760,
    "start_time": "2022-05-19T18:09:33.926Z"
   },
   {
    "duration": 18,
    "start_time": "2022-05-19T18:09:34.689Z"
   },
   {
    "duration": 712,
    "start_time": "2022-05-19T18:09:34.709Z"
   },
   {
    "duration": 17,
    "start_time": "2022-05-19T18:09:35.422Z"
   },
   {
    "duration": 155,
    "start_time": "2022-05-19T18:09:35.441Z"
   },
   {
    "duration": 8,
    "start_time": "2022-05-19T18:09:35.598Z"
   },
   {
    "duration": 694,
    "start_time": "2022-05-19T18:09:35.608Z"
   },
   {
    "duration": 4,
    "start_time": "2022-05-19T18:09:36.304Z"
   },
   {
    "duration": 42,
    "start_time": "2022-05-19T18:09:36.309Z"
   },
   {
    "duration": 28,
    "start_time": "2022-05-19T18:09:36.353Z"
   },
   {
    "duration": 4617,
    "start_time": "2022-05-19T18:09:36.383Z"
   },
   {
    "duration": 37471,
    "start_time": "2022-05-19T18:09:41.003Z"
   },
   {
    "duration": 78,
    "start_time": "2022-05-19T18:10:18.476Z"
   },
   {
    "duration": 5,
    "start_time": "2022-05-19T18:10:18.556Z"
   },
   {
    "duration": 23,
    "start_time": "2022-05-19T18:10:18.562Z"
   },
   {
    "duration": 60,
    "start_time": "2022-05-19T18:10:18.586Z"
   },
   {
    "duration": 4,
    "start_time": "2022-05-19T18:12:39.782Z"
   },
   {
    "duration": 822,
    "start_time": "2022-05-19T18:12:39.788Z"
   },
   {
    "duration": 83,
    "start_time": "2022-05-19T18:12:40.612Z"
   },
   {
    "duration": 43,
    "start_time": "2022-05-19T18:12:40.697Z"
   },
   {
    "duration": 3,
    "start_time": "2022-05-19T18:12:40.742Z"
   },
   {
    "duration": 16,
    "start_time": "2022-05-19T18:12:40.747Z"
   },
   {
    "duration": 31,
    "start_time": "2022-05-19T18:12:40.764Z"
   },
   {
    "duration": 14,
    "start_time": "2022-05-19T18:12:40.797Z"
   },
   {
    "duration": 11,
    "start_time": "2022-05-19T18:12:40.813Z"
   },
   {
    "duration": 6,
    "start_time": "2022-05-19T18:12:40.825Z"
   },
   {
    "duration": 16,
    "start_time": "2022-05-19T18:12:40.834Z"
   },
   {
    "duration": 6,
    "start_time": "2022-05-19T18:12:40.852Z"
   },
   {
    "duration": 14,
    "start_time": "2022-05-19T18:12:40.859Z"
   },
   {
    "duration": 8,
    "start_time": "2022-05-19T18:12:40.894Z"
   },
   {
    "duration": 10,
    "start_time": "2022-05-19T18:12:40.904Z"
   },
   {
    "duration": 47,
    "start_time": "2022-05-19T18:12:40.916Z"
   },
   {
    "duration": 41,
    "start_time": "2022-05-19T18:12:40.965Z"
   },
   {
    "duration": 59,
    "start_time": "2022-05-19T18:12:41.007Z"
   },
   {
    "duration": 48,
    "start_time": "2022-05-19T18:12:41.068Z"
   },
   {
    "duration": 19,
    "start_time": "2022-05-19T18:12:41.117Z"
   },
   {
    "duration": 5,
    "start_time": "2022-05-19T18:12:41.138Z"
   },
   {
    "duration": 1110,
    "start_time": "2022-05-19T18:12:41.145Z"
   },
   {
    "duration": 15,
    "start_time": "2022-05-19T18:12:42.257Z"
   },
   {
    "duration": 686,
    "start_time": "2022-05-19T18:12:42.274Z"
   },
   {
    "duration": 15,
    "start_time": "2022-05-19T18:12:42.962Z"
   },
   {
    "duration": 715,
    "start_time": "2022-05-19T18:12:42.978Z"
   },
   {
    "duration": 3,
    "start_time": "2022-05-19T18:12:43.695Z"
   },
   {
    "duration": 685,
    "start_time": "2022-05-19T18:12:43.700Z"
   },
   {
    "duration": 21,
    "start_time": "2022-05-19T18:12:44.389Z"
   },
   {
    "duration": 675,
    "start_time": "2022-05-19T18:12:44.412Z"
   },
   {
    "duration": 20,
    "start_time": "2022-05-19T18:12:45.089Z"
   },
   {
    "duration": 138,
    "start_time": "2022-05-19T18:12:45.110Z"
   },
   {
    "duration": 8,
    "start_time": "2022-05-19T18:12:45.250Z"
   },
   {
    "duration": 1219,
    "start_time": "2022-05-19T18:12:45.259Z"
   },
   {
    "duration": 4,
    "start_time": "2022-05-19T18:12:46.480Z"
   },
   {
    "duration": 15,
    "start_time": "2022-05-19T18:12:46.486Z"
   },
   {
    "duration": 10,
    "start_time": "2022-05-19T18:12:46.503Z"
   },
   {
    "duration": 3886,
    "start_time": "2022-05-19T18:12:46.515Z"
   },
   {
    "duration": 38333,
    "start_time": "2022-05-19T18:12:50.403Z"
   },
   {
    "duration": 66,
    "start_time": "2022-05-19T18:13:28.738Z"
   },
   {
    "duration": 5,
    "start_time": "2022-05-19T18:13:28.805Z"
   },
   {
    "duration": 13,
    "start_time": "2022-05-19T18:13:28.812Z"
   },
   {
    "duration": 84,
    "start_time": "2022-05-19T18:13:28.827Z"
   },
   {
    "duration": 5,
    "start_time": "2022-05-19T18:15:40.910Z"
   },
   {
    "duration": 4,
    "start_time": "2022-05-19T18:15:47.647Z"
   },
   {
    "duration": 4,
    "start_time": "2022-05-19T18:15:51.032Z"
   },
   {
    "duration": 4,
    "start_time": "2022-05-19T18:16:04.664Z"
   },
   {
    "duration": 4,
    "start_time": "2022-05-19T18:16:16.545Z"
   },
   {
    "duration": 4,
    "start_time": "2022-05-19T18:16:20.827Z"
   },
   {
    "duration": 4,
    "start_time": "2022-05-19T18:16:24.719Z"
   },
   {
    "duration": 5,
    "start_time": "2022-05-19T18:17:05.801Z"
   },
   {
    "duration": 4,
    "start_time": "2022-05-19T18:17:37.538Z"
   },
   {
    "duration": 3,
    "start_time": "2022-05-19T18:17:42.933Z"
   },
   {
    "duration": 4,
    "start_time": "2022-05-19T18:17:49.371Z"
   },
   {
    "duration": 4,
    "start_time": "2022-05-19T18:17:57.991Z"
   },
   {
    "duration": 4,
    "start_time": "2022-05-19T18:18:04.978Z"
   },
   {
    "duration": 4,
    "start_time": "2022-05-19T18:18:28.903Z"
   },
   {
    "duration": 766,
    "start_time": "2022-05-19T18:18:28.908Z"
   },
   {
    "duration": 72,
    "start_time": "2022-05-19T18:18:29.676Z"
   },
   {
    "duration": 68,
    "start_time": "2022-05-19T18:18:29.749Z"
   },
   {
    "duration": 3,
    "start_time": "2022-05-19T18:18:29.820Z"
   },
   {
    "duration": 12,
    "start_time": "2022-05-19T18:18:29.825Z"
   },
   {
    "duration": 8,
    "start_time": "2022-05-19T18:18:29.839Z"
   },
   {
    "duration": 12,
    "start_time": "2022-05-19T18:18:29.849Z"
   },
   {
    "duration": 34,
    "start_time": "2022-05-19T18:18:29.862Z"
   },
   {
    "duration": 6,
    "start_time": "2022-05-19T18:18:29.898Z"
   },
   {
    "duration": 8,
    "start_time": "2022-05-19T18:18:29.908Z"
   },
   {
    "duration": 12,
    "start_time": "2022-05-19T18:18:29.918Z"
   },
   {
    "duration": 16,
    "start_time": "2022-05-19T18:18:29.932Z"
   },
   {
    "duration": 6,
    "start_time": "2022-05-19T18:18:29.950Z"
   },
   {
    "duration": 40,
    "start_time": "2022-05-19T18:18:29.958Z"
   },
   {
    "duration": 45,
    "start_time": "2022-05-19T18:18:30.000Z"
   },
   {
    "duration": 15,
    "start_time": "2022-05-19T18:18:30.046Z"
   },
   {
    "duration": 88,
    "start_time": "2022-05-19T18:18:30.062Z"
   },
   {
    "duration": 45,
    "start_time": "2022-05-19T18:18:30.152Z"
   },
   {
    "duration": 17,
    "start_time": "2022-05-19T18:18:30.198Z"
   },
   {
    "duration": 6,
    "start_time": "2022-05-19T18:18:30.218Z"
   },
   {
    "duration": 730,
    "start_time": "2022-05-19T18:18:30.226Z"
   },
   {
    "duration": 16,
    "start_time": "2022-05-19T18:18:30.958Z"
   },
   {
    "duration": 718,
    "start_time": "2022-05-19T18:18:30.976Z"
   },
   {
    "duration": 14,
    "start_time": "2022-05-19T18:18:31.695Z"
   },
   {
    "duration": 758,
    "start_time": "2022-05-19T18:18:31.711Z"
   },
   {
    "duration": 4,
    "start_time": "2022-05-19T18:18:32.471Z"
   },
   {
    "duration": 645,
    "start_time": "2022-05-19T18:18:32.476Z"
   },
   {
    "duration": 19,
    "start_time": "2022-05-19T18:18:33.125Z"
   },
   {
    "duration": 724,
    "start_time": "2022-05-19T18:18:33.146Z"
   },
   {
    "duration": 27,
    "start_time": "2022-05-19T18:18:33.871Z"
   },
   {
    "duration": 131,
    "start_time": "2022-05-19T18:18:33.900Z"
   },
   {
    "duration": 7,
    "start_time": "2022-05-19T18:18:34.033Z"
   },
   {
    "duration": 731,
    "start_time": "2022-05-19T18:18:34.042Z"
   },
   {
    "duration": 4,
    "start_time": "2022-05-19T18:18:34.774Z"
   },
   {
    "duration": 8,
    "start_time": "2022-05-19T18:18:34.794Z"
   },
   {
    "duration": 10,
    "start_time": "2022-05-19T18:18:34.804Z"
   },
   {
    "duration": 3878,
    "start_time": "2022-05-19T18:18:34.816Z"
   },
   {
    "duration": 37947,
    "start_time": "2022-05-19T18:18:38.697Z"
   },
   {
    "duration": 1208951,
    "start_time": "2022-05-19T18:19:16.646Z"
   },
   {
    "duration": 4,
    "start_time": "2022-05-19T18:39:25.599Z"
   },
   {
    "duration": 10,
    "start_time": "2022-05-19T18:39:25.605Z"
   },
   {
    "duration": 12086,
    "start_time": "2022-05-19T18:39:25.617Z"
   },
   {
    "duration": 3,
    "start_time": "2022-05-19T18:40:04.052Z"
   },
   {
    "duration": 689,
    "start_time": "2022-05-19T18:40:04.057Z"
   },
   {
    "duration": 80,
    "start_time": "2022-05-19T18:40:04.748Z"
   },
   {
    "duration": 42,
    "start_time": "2022-05-19T18:40:04.829Z"
   },
   {
    "duration": 3,
    "start_time": "2022-05-19T18:40:04.894Z"
   },
   {
    "duration": 16,
    "start_time": "2022-05-19T18:40:04.899Z"
   },
   {
    "duration": 6,
    "start_time": "2022-05-19T18:40:04.917Z"
   },
   {
    "duration": 12,
    "start_time": "2022-05-19T18:40:04.924Z"
   },
   {
    "duration": 9,
    "start_time": "2022-05-19T18:40:04.938Z"
   },
   {
    "duration": 5,
    "start_time": "2022-05-19T18:40:04.949Z"
   },
   {
    "duration": 39,
    "start_time": "2022-05-19T18:40:04.957Z"
   },
   {
    "duration": 5,
    "start_time": "2022-05-19T18:40:04.998Z"
   },
   {
    "duration": 19,
    "start_time": "2022-05-19T18:40:05.005Z"
   },
   {
    "duration": 8,
    "start_time": "2022-05-19T18:40:05.026Z"
   },
   {
    "duration": 12,
    "start_time": "2022-05-19T18:40:05.036Z"
   },
   {
    "duration": 65,
    "start_time": "2022-05-19T18:40:05.051Z"
   },
   {
    "duration": 14,
    "start_time": "2022-05-19T18:40:05.118Z"
   },
   {
    "duration": 71,
    "start_time": "2022-05-19T18:40:05.134Z"
   },
   {
    "duration": 31,
    "start_time": "2022-05-19T18:40:05.206Z"
   },
   {
    "duration": 19,
    "start_time": "2022-05-19T18:40:05.238Z"
   },
   {
    "duration": 6,
    "start_time": "2022-05-19T18:40:05.258Z"
   },
   {
    "duration": 1281,
    "start_time": "2022-05-19T18:40:05.266Z"
   },
   {
    "duration": 15,
    "start_time": "2022-05-19T18:40:06.548Z"
   },
   {
    "duration": 707,
    "start_time": "2022-05-19T18:40:06.564Z"
   },
   {
    "duration": 23,
    "start_time": "2022-05-19T18:40:07.273Z"
   },
   {
    "duration": 724,
    "start_time": "2022-05-19T18:40:07.298Z"
   },
   {
    "duration": 3,
    "start_time": "2022-05-19T18:40:08.024Z"
   },
   {
    "duration": 644,
    "start_time": "2022-05-19T18:40:08.028Z"
   },
   {
    "duration": 28,
    "start_time": "2022-05-19T18:40:08.677Z"
   },
   {
    "duration": 644,
    "start_time": "2022-05-19T18:40:08.707Z"
   },
   {
    "duration": 17,
    "start_time": "2022-05-19T18:40:09.353Z"
   },
   {
    "duration": 139,
    "start_time": "2022-05-19T18:40:09.372Z"
   },
   {
    "duration": 7,
    "start_time": "2022-05-19T18:40:09.513Z"
   },
   {
    "duration": 723,
    "start_time": "2022-05-19T18:40:09.522Z"
   },
   {
    "duration": 5,
    "start_time": "2022-05-19T18:40:10.247Z"
   },
   {
    "duration": 8,
    "start_time": "2022-05-19T18:40:10.254Z"
   },
   {
    "duration": 10,
    "start_time": "2022-05-19T18:40:10.264Z"
   },
   {
    "duration": 3622,
    "start_time": "2022-05-19T18:40:10.275Z"
   },
   {
    "duration": 36318,
    "start_time": "2022-05-19T18:40:13.899Z"
   },
   {
    "duration": 592823,
    "start_time": "2022-05-19T18:40:50.220Z"
   },
   {
    "duration": 4,
    "start_time": "2022-05-19T18:50:43.045Z"
   },
   {
    "duration": 11,
    "start_time": "2022-05-19T18:50:43.052Z"
   },
   {
    "duration": 15620,
    "start_time": "2022-05-19T18:50:43.065Z"
   },
   {
    "duration": 1387,
    "start_time": "2022-05-19T18:53:18.159Z"
   },
   {
    "duration": 736,
    "start_time": "2022-05-19T18:53:19.548Z"
   },
   {
    "duration": 72,
    "start_time": "2022-05-19T18:53:20.286Z"
   },
   {
    "duration": 68,
    "start_time": "2022-05-19T18:53:20.361Z"
   },
   {
    "duration": 3,
    "start_time": "2022-05-19T18:53:20.431Z"
   },
   {
    "duration": 13,
    "start_time": "2022-05-19T18:53:20.436Z"
   },
   {
    "duration": 5,
    "start_time": "2022-05-19T18:53:20.451Z"
   },
   {
    "duration": 9,
    "start_time": "2022-05-19T18:53:20.458Z"
   },
   {
    "duration": 10,
    "start_time": "2022-05-19T18:53:20.495Z"
   },
   {
    "duration": 5,
    "start_time": "2022-05-19T18:53:20.509Z"
   },
   {
    "duration": 8,
    "start_time": "2022-05-19T18:53:20.515Z"
   },
   {
    "duration": 3,
    "start_time": "2022-05-19T18:53:20.525Z"
   },
   {
    "duration": 8,
    "start_time": "2022-05-19T18:53:20.530Z"
   },
   {
    "duration": 5,
    "start_time": "2022-05-19T18:53:20.540Z"
   },
   {
    "duration": 49,
    "start_time": "2022-05-19T18:53:20.547Z"
   },
   {
    "duration": 49,
    "start_time": "2022-05-19T18:53:20.597Z"
   },
   {
    "duration": 12,
    "start_time": "2022-05-19T18:53:20.648Z"
   },
   {
    "duration": 85,
    "start_time": "2022-05-19T18:53:20.661Z"
   },
   {
    "duration": 28,
    "start_time": "2022-05-19T18:53:20.747Z"
   },
   {
    "duration": 41,
    "start_time": "2022-05-19T18:53:20.777Z"
   },
   {
    "duration": 5,
    "start_time": "2022-05-19T18:53:20.820Z"
   },
   {
    "duration": 669,
    "start_time": "2022-05-19T18:53:20.827Z"
   },
   {
    "duration": 29,
    "start_time": "2022-05-19T18:53:21.497Z"
   },
   {
    "duration": 757,
    "start_time": "2022-05-19T18:53:21.528Z"
   },
   {
    "duration": 29,
    "start_time": "2022-05-19T18:53:22.287Z"
   },
   {
    "duration": 649,
    "start_time": "2022-05-19T18:53:22.318Z"
   },
   {
    "duration": 3,
    "start_time": "2022-05-19T18:53:22.970Z"
   },
   {
    "duration": 595,
    "start_time": "2022-05-19T18:53:22.976Z"
   },
   {
    "duration": 28,
    "start_time": "2022-05-19T18:53:23.573Z"
   },
   {
    "duration": 780,
    "start_time": "2022-05-19T18:53:23.603Z"
   },
   {
    "duration": 23,
    "start_time": "2022-05-19T18:53:24.384Z"
   },
   {
    "duration": 125,
    "start_time": "2022-05-19T18:53:24.408Z"
   },
   {
    "duration": 7,
    "start_time": "2022-05-19T18:53:24.535Z"
   },
   {
    "duration": 642,
    "start_time": "2022-05-19T18:53:24.543Z"
   },
   {
    "duration": 9,
    "start_time": "2022-05-19T18:53:25.187Z"
   },
   {
    "duration": 13,
    "start_time": "2022-05-19T18:53:25.198Z"
   },
   {
    "duration": 10,
    "start_time": "2022-05-19T18:53:25.213Z"
   },
   {
    "duration": 4074,
    "start_time": "2022-05-19T18:53:25.225Z"
   },
   {
    "duration": 2259,
    "start_time": "2022-05-19T18:53:29.301Z"
   },
   {
    "duration": 1371,
    "start_time": "2022-05-19T18:54:13.704Z"
   },
   {
    "duration": 760,
    "start_time": "2022-05-19T18:54:15.077Z"
   },
   {
    "duration": 75,
    "start_time": "2022-05-19T18:54:15.838Z"
   },
   {
    "duration": 42,
    "start_time": "2022-05-19T18:54:15.915Z"
   },
   {
    "duration": 3,
    "start_time": "2022-05-19T18:54:15.958Z"
   },
   {
    "duration": 33,
    "start_time": "2022-05-19T18:54:15.963Z"
   },
   {
    "duration": 6,
    "start_time": "2022-05-19T18:54:15.997Z"
   },
   {
    "duration": 12,
    "start_time": "2022-05-19T18:54:16.005Z"
   },
   {
    "duration": 8,
    "start_time": "2022-05-19T18:54:16.019Z"
   },
   {
    "duration": 4,
    "start_time": "2022-05-19T18:54:16.030Z"
   },
   {
    "duration": 11,
    "start_time": "2022-05-19T18:54:16.035Z"
   },
   {
    "duration": 4,
    "start_time": "2022-05-19T18:54:16.048Z"
   },
   {
    "duration": 9,
    "start_time": "2022-05-19T18:54:16.054Z"
   },
   {
    "duration": 9,
    "start_time": "2022-05-19T18:54:16.095Z"
   },
   {
    "duration": 9,
    "start_time": "2022-05-19T18:54:16.105Z"
   },
   {
    "duration": 47,
    "start_time": "2022-05-19T18:54:16.115Z"
   },
   {
    "duration": 39,
    "start_time": "2022-05-19T18:54:16.164Z"
   },
   {
    "duration": 65,
    "start_time": "2022-05-19T18:54:16.205Z"
   },
   {
    "duration": 42,
    "start_time": "2022-05-19T18:54:16.271Z"
   },
   {
    "duration": 27,
    "start_time": "2022-05-19T18:54:16.315Z"
   },
   {
    "duration": 5,
    "start_time": "2022-05-19T18:54:16.344Z"
   },
   {
    "duration": 688,
    "start_time": "2022-05-19T18:54:16.351Z"
   },
   {
    "duration": 28,
    "start_time": "2022-05-19T18:54:17.041Z"
   },
   {
    "duration": 816,
    "start_time": "2022-05-19T18:54:17.071Z"
   },
   {
    "duration": 27,
    "start_time": "2022-05-19T18:54:17.894Z"
   },
   {
    "duration": 645,
    "start_time": "2022-05-19T18:54:17.922Z"
   },
   {
    "duration": 3,
    "start_time": "2022-05-19T18:54:18.569Z"
   },
   {
    "duration": 587,
    "start_time": "2022-05-19T18:54:18.576Z"
   },
   {
    "duration": 29,
    "start_time": "2022-05-19T18:54:19.165Z"
   },
   {
    "duration": 773,
    "start_time": "2022-05-19T18:54:19.196Z"
   },
   {
    "duration": 28,
    "start_time": "2022-05-19T18:54:19.972Z"
   },
   {
    "duration": 124,
    "start_time": "2022-05-19T18:54:20.001Z"
   },
   {
    "duration": 6,
    "start_time": "2022-05-19T18:54:20.127Z"
   },
   {
    "duration": 662,
    "start_time": "2022-05-19T18:54:20.135Z"
   },
   {
    "duration": 3,
    "start_time": "2022-05-19T18:54:20.798Z"
   },
   {
    "duration": 13,
    "start_time": "2022-05-19T18:54:20.803Z"
   },
   {
    "duration": 12,
    "start_time": "2022-05-19T18:54:20.818Z"
   },
   {
    "duration": 3568,
    "start_time": "2022-05-19T18:54:20.832Z"
   },
   {
    "duration": 35598,
    "start_time": "2022-05-19T18:54:24.402Z"
   },
   {
    "duration": 589164,
    "start_time": "2022-05-19T18:55:00.001Z"
   },
   {
    "duration": 4,
    "start_time": "2022-05-19T19:04:49.167Z"
   },
   {
    "duration": 25,
    "start_time": "2022-05-19T19:04:49.173Z"
   },
   {
    "duration": 15285,
    "start_time": "2022-05-19T19:04:49.200Z"
   },
   {
    "duration": 1607,
    "start_time": "2022-05-21T06:27:14.014Z"
   },
   {
    "duration": 1986,
    "start_time": "2022-05-21T06:27:15.623Z"
   },
   {
    "duration": 78,
    "start_time": "2022-05-21T06:27:17.610Z"
   },
   {
    "duration": 43,
    "start_time": "2022-05-21T06:27:17.690Z"
   },
   {
    "duration": 6,
    "start_time": "2022-05-21T06:27:17.740Z"
   },
   {
    "duration": 20,
    "start_time": "2022-05-21T06:27:17.748Z"
   },
   {
    "duration": 8,
    "start_time": "2022-05-21T06:27:17.769Z"
   },
   {
    "duration": 11,
    "start_time": "2022-05-21T06:27:17.778Z"
   },
   {
    "duration": 8,
    "start_time": "2022-05-21T06:27:17.790Z"
   },
   {
    "duration": 3,
    "start_time": "2022-05-21T06:27:17.800Z"
   },
   {
    "duration": 11,
    "start_time": "2022-05-21T06:27:17.805Z"
   },
   {
    "duration": 16,
    "start_time": "2022-05-21T06:27:17.818Z"
   },
   {
    "duration": 31,
    "start_time": "2022-05-21T06:27:17.837Z"
   },
   {
    "duration": 7,
    "start_time": "2022-05-21T06:27:17.870Z"
   },
   {
    "duration": 13,
    "start_time": "2022-05-21T06:27:17.878Z"
   },
   {
    "duration": 64,
    "start_time": "2022-05-21T06:27:17.892Z"
   },
   {
    "duration": 11,
    "start_time": "2022-05-21T06:27:17.964Z"
   },
   {
    "duration": 71,
    "start_time": "2022-05-21T06:27:17.976Z"
   },
   {
    "duration": 7,
    "start_time": "2022-05-21T06:27:33.153Z"
   },
   {
    "duration": 5,
    "start_time": "2022-05-21T06:29:23.157Z"
   },
   {
    "duration": 149,
    "start_time": "2022-05-21T06:29:47.323Z"
   },
   {
    "duration": 24,
    "start_time": "2022-05-21T06:30:03.713Z"
   },
   {
    "duration": 7,
    "start_time": "2022-05-21T06:30:22.649Z"
   },
   {
    "duration": 4,
    "start_time": "2022-05-21T06:30:33.215Z"
   },
   {
    "duration": 4,
    "start_time": "2022-05-21T06:30:43.098Z"
   },
   {
    "duration": 26,
    "start_time": "2022-05-21T06:30:52.856Z"
   },
   {
    "duration": 38,
    "start_time": "2022-05-21T06:31:32.943Z"
   },
   {
    "duration": 26,
    "start_time": "2022-05-21T06:32:20.790Z"
   },
   {
    "duration": 5,
    "start_time": "2022-05-21T06:35:31.660Z"
   },
   {
    "duration": 16,
    "start_time": "2022-05-21T06:36:47.562Z"
   },
   {
    "duration": 16,
    "start_time": "2022-05-21T06:37:02.151Z"
   },
   {
    "duration": 13,
    "start_time": "2022-05-21T06:39:14.308Z"
   },
   {
    "duration": 3,
    "start_time": "2022-05-21T06:39:19.942Z"
   },
   {
    "duration": 7,
    "start_time": "2022-05-21T06:39:20.483Z"
   },
   {
    "duration": 8,
    "start_time": "2022-05-21T06:39:47.922Z"
   },
   {
    "duration": 5,
    "start_time": "2022-05-21T06:40:05.071Z"
   },
   {
    "duration": 4,
    "start_time": "2022-05-21T06:42:52.213Z"
   },
   {
    "duration": 801,
    "start_time": "2022-05-21T06:42:52.223Z"
   },
   {
    "duration": 74,
    "start_time": "2022-05-21T06:42:53.031Z"
   },
   {
    "duration": 59,
    "start_time": "2022-05-21T06:42:53.107Z"
   },
   {
    "duration": 4,
    "start_time": "2022-05-21T06:42:53.171Z"
   },
   {
    "duration": 16,
    "start_time": "2022-05-21T06:42:53.177Z"
   },
   {
    "duration": 16,
    "start_time": "2022-05-21T06:42:53.194Z"
   },
   {
    "duration": 35,
    "start_time": "2022-05-21T06:42:53.212Z"
   },
   {
    "duration": 15,
    "start_time": "2022-05-21T06:42:53.256Z"
   },
   {
    "duration": 23,
    "start_time": "2022-05-21T06:42:53.273Z"
   },
   {
    "duration": 22,
    "start_time": "2022-05-21T06:42:53.298Z"
   },
   {
    "duration": 66,
    "start_time": "2022-05-21T06:42:53.322Z"
   },
   {
    "duration": 18,
    "start_time": "2022-05-21T06:42:53.389Z"
   },
   {
    "duration": 12,
    "start_time": "2022-05-21T06:42:53.408Z"
   },
   {
    "duration": 28,
    "start_time": "2022-05-21T06:42:53.421Z"
   },
   {
    "duration": 82,
    "start_time": "2022-05-21T06:42:53.454Z"
   },
   {
    "duration": 25,
    "start_time": "2022-05-21T06:42:53.544Z"
   },
   {
    "duration": 125,
    "start_time": "2022-05-21T06:42:53.571Z"
   },
   {
    "duration": 15,
    "start_time": "2022-05-21T06:42:53.698Z"
   },
   {
    "duration": 43,
    "start_time": "2022-05-21T06:42:53.714Z"
   },
   {
    "duration": 23,
    "start_time": "2022-05-21T06:42:53.763Z"
   },
   {
    "duration": 57,
    "start_time": "2022-05-21T06:42:53.787Z"
   },
   {
    "duration": 25,
    "start_time": "2022-05-21T06:43:20.364Z"
   },
   {
    "duration": 439,
    "start_time": "2022-05-21T06:54:43.054Z"
   },
   {
    "duration": 10,
    "start_time": "2022-05-21T06:57:24.308Z"
   },
   {
    "duration": 4,
    "start_time": "2022-05-21T06:58:21.795Z"
   },
   {
    "duration": 812,
    "start_time": "2022-05-21T06:58:21.803Z"
   },
   {
    "duration": 87,
    "start_time": "2022-05-21T06:58:22.617Z"
   },
   {
    "duration": 51,
    "start_time": "2022-05-21T06:58:22.706Z"
   },
   {
    "duration": 7,
    "start_time": "2022-05-21T06:58:22.763Z"
   },
   {
    "duration": 14,
    "start_time": "2022-05-21T06:58:22.772Z"
   },
   {
    "duration": 8,
    "start_time": "2022-05-21T06:58:22.788Z"
   },
   {
    "duration": 13,
    "start_time": "2022-05-21T06:58:22.798Z"
   },
   {
    "duration": 13,
    "start_time": "2022-05-21T06:58:22.813Z"
   },
   {
    "duration": 46,
    "start_time": "2022-05-21T06:58:22.829Z"
   },
   {
    "duration": 8,
    "start_time": "2022-05-21T06:58:22.878Z"
   },
   {
    "duration": 5,
    "start_time": "2022-05-21T06:58:22.888Z"
   },
   {
    "duration": 11,
    "start_time": "2022-05-21T06:58:22.895Z"
   },
   {
    "duration": 6,
    "start_time": "2022-05-21T06:58:22.908Z"
   },
   {
    "duration": 12,
    "start_time": "2022-05-21T06:58:22.916Z"
   },
   {
    "duration": 57,
    "start_time": "2022-05-21T06:58:22.938Z"
   },
   {
    "duration": 14,
    "start_time": "2022-05-21T06:58:22.997Z"
   },
   {
    "duration": 72,
    "start_time": "2022-05-21T06:58:23.013Z"
   },
   {
    "duration": 3,
    "start_time": "2022-05-21T06:58:23.087Z"
   },
   {
    "duration": 8,
    "start_time": "2022-05-21T06:58:23.091Z"
   },
   {
    "duration": 7,
    "start_time": "2022-05-21T06:58:23.101Z"
   },
   {
    "duration": 49,
    "start_time": "2022-05-21T06:58:23.109Z"
   },
   {
    "duration": 18,
    "start_time": "2022-05-21T06:58:23.165Z"
   },
   {
    "duration": 6,
    "start_time": "2022-05-21T06:58:23.185Z"
   },
   {
    "duration": 1131,
    "start_time": "2022-05-21T06:58:23.193Z"
   },
   {
    "duration": 39,
    "start_time": "2022-05-21T06:58:24.326Z"
   },
   {
    "duration": 807,
    "start_time": "2022-05-21T06:58:24.368Z"
   },
   {
    "duration": 28,
    "start_time": "2022-05-21T06:58:25.177Z"
   },
   {
    "duration": 714,
    "start_time": "2022-05-21T06:58:25.209Z"
   },
   {
    "duration": 14,
    "start_time": "2022-05-21T06:58:25.925Z"
   },
   {
    "duration": 770,
    "start_time": "2022-05-21T06:58:25.946Z"
   },
   {
    "duration": 8,
    "start_time": "2022-05-21T06:58:29.754Z"
   },
   {
    "duration": 3,
    "start_time": "2022-05-21T07:00:51.278Z"
   },
   {
    "duration": 910,
    "start_time": "2022-05-21T07:00:51.292Z"
   },
   {
    "duration": 88,
    "start_time": "2022-05-21T07:00:52.204Z"
   },
   {
    "duration": 50,
    "start_time": "2022-05-21T07:00:52.294Z"
   },
   {
    "duration": 6,
    "start_time": "2022-05-21T07:00:52.350Z"
   },
   {
    "duration": 38,
    "start_time": "2022-05-21T07:00:52.357Z"
   },
   {
    "duration": 18,
    "start_time": "2022-05-21T07:00:52.396Z"
   },
   {
    "duration": 56,
    "start_time": "2022-05-21T07:00:52.416Z"
   },
   {
    "duration": 9,
    "start_time": "2022-05-21T07:00:52.475Z"
   },
   {
    "duration": 7,
    "start_time": "2022-05-21T07:00:52.487Z"
   },
   {
    "duration": 9,
    "start_time": "2022-05-21T07:00:52.496Z"
   },
   {
    "duration": 7,
    "start_time": "2022-05-21T07:00:52.507Z"
   },
   {
    "duration": 21,
    "start_time": "2022-05-21T07:00:52.515Z"
   },
   {
    "duration": 33,
    "start_time": "2022-05-21T07:00:52.542Z"
   },
   {
    "duration": 11,
    "start_time": "2022-05-21T07:00:52.578Z"
   },
   {
    "duration": 59,
    "start_time": "2022-05-21T07:00:52.590Z"
   },
   {
    "duration": 23,
    "start_time": "2022-05-21T07:00:52.650Z"
   },
   {
    "duration": 55,
    "start_time": "2022-05-21T07:00:52.675Z"
   },
   {
    "duration": 7,
    "start_time": "2022-05-21T07:00:52.738Z"
   },
   {
    "duration": 16,
    "start_time": "2022-05-21T07:00:52.751Z"
   },
   {
    "duration": 8,
    "start_time": "2022-05-21T07:00:52.769Z"
   },
   {
    "duration": 28,
    "start_time": "2022-05-21T07:00:52.779Z"
   },
   {
    "duration": 30,
    "start_time": "2022-05-21T07:00:52.809Z"
   },
   {
    "duration": 12,
    "start_time": "2022-05-21T07:00:52.846Z"
   },
   {
    "duration": 871,
    "start_time": "2022-05-21T07:00:52.859Z"
   },
   {
    "duration": 14,
    "start_time": "2022-05-21T07:00:53.736Z"
   },
   {
    "duration": 745,
    "start_time": "2022-05-21T07:00:53.752Z"
   },
   {
    "duration": 14,
    "start_time": "2022-05-21T07:00:54.499Z"
   },
   {
    "duration": 917,
    "start_time": "2022-05-21T07:00:54.515Z"
   },
   {
    "duration": 4,
    "start_time": "2022-05-21T07:00:55.434Z"
   },
   {
    "duration": 705,
    "start_time": "2022-05-21T07:00:55.440Z"
   },
   {
    "duration": 7,
    "start_time": "2022-05-21T07:00:56.148Z"
   },
   {
    "duration": 50,
    "start_time": "2022-05-21T07:00:56.157Z"
   },
   {
    "duration": 18,
    "start_time": "2022-05-21T07:01:06.152Z"
   },
   {
    "duration": 682,
    "start_time": "2022-05-21T07:01:18.081Z"
   },
   {
    "duration": 19,
    "start_time": "2022-05-21T07:01:53.823Z"
   },
   {
    "duration": 4,
    "start_time": "2022-05-21T07:09:26.019Z"
   },
   {
    "duration": 1041,
    "start_time": "2022-05-21T07:09:26.024Z"
   },
   {
    "duration": 97,
    "start_time": "2022-05-21T07:09:27.070Z"
   },
   {
    "duration": 43,
    "start_time": "2022-05-21T07:09:27.172Z"
   },
   {
    "duration": 3,
    "start_time": "2022-05-21T07:09:27.219Z"
   },
   {
    "duration": 52,
    "start_time": "2022-05-21T07:09:27.223Z"
   },
   {
    "duration": 22,
    "start_time": "2022-05-21T07:09:27.277Z"
   },
   {
    "duration": 23,
    "start_time": "2022-05-21T07:09:27.301Z"
   },
   {
    "duration": 61,
    "start_time": "2022-05-21T07:09:27.325Z"
   },
   {
    "duration": 7,
    "start_time": "2022-05-21T07:09:27.388Z"
   },
   {
    "duration": 7,
    "start_time": "2022-05-21T07:09:27.398Z"
   },
   {
    "duration": 7,
    "start_time": "2022-05-21T07:09:27.407Z"
   },
   {
    "duration": 19,
    "start_time": "2022-05-21T07:09:27.416Z"
   },
   {
    "duration": 17,
    "start_time": "2022-05-21T07:09:27.438Z"
   },
   {
    "duration": 21,
    "start_time": "2022-05-21T07:09:27.461Z"
   },
   {
    "duration": 65,
    "start_time": "2022-05-21T07:09:27.484Z"
   },
   {
    "duration": 16,
    "start_time": "2022-05-21T07:09:27.554Z"
   },
   {
    "duration": 88,
    "start_time": "2022-05-21T07:09:27.572Z"
   },
   {
    "duration": 5,
    "start_time": "2022-05-21T07:09:27.667Z"
   },
   {
    "duration": 5,
    "start_time": "2022-05-21T07:09:27.676Z"
   },
   {
    "duration": 12,
    "start_time": "2022-05-21T07:09:27.683Z"
   },
   {
    "duration": 26,
    "start_time": "2022-05-21T07:09:27.697Z"
   },
   {
    "duration": 23,
    "start_time": "2022-05-21T07:09:27.725Z"
   },
   {
    "duration": 20,
    "start_time": "2022-05-21T07:09:27.760Z"
   },
   {
    "duration": 911,
    "start_time": "2022-05-21T07:09:27.781Z"
   },
   {
    "duration": 15,
    "start_time": "2022-05-21T07:09:28.694Z"
   },
   {
    "duration": 790,
    "start_time": "2022-05-21T07:09:28.711Z"
   },
   {
    "duration": 15,
    "start_time": "2022-05-21T07:09:29.503Z"
   },
   {
    "duration": 945,
    "start_time": "2022-05-21T07:09:29.526Z"
   },
   {
    "duration": 4,
    "start_time": "2022-05-21T07:09:30.475Z"
   },
   {
    "duration": 788,
    "start_time": "2022-05-21T07:09:30.480Z"
   },
   {
    "duration": 5,
    "start_time": "2022-05-21T07:09:31.270Z"
   },
   {
    "duration": 70,
    "start_time": "2022-05-21T07:09:31.279Z"
   },
   {
    "duration": 70,
    "start_time": "2022-05-21T07:09:31.354Z"
   },
   {
    "duration": 891,
    "start_time": "2022-05-21T07:09:31.426Z"
   },
   {
    "duration": 34,
    "start_time": "2022-05-21T07:09:32.321Z"
   },
   {
    "duration": 145,
    "start_time": "2022-05-21T07:09:32.359Z"
   },
   {
    "duration": 0,
    "start_time": "2022-05-21T07:09:32.506Z"
   },
   {
    "duration": 0,
    "start_time": "2022-05-21T07:09:32.508Z"
   },
   {
    "duration": 6,
    "start_time": "2022-05-21T07:11:03.159Z"
   },
   {
    "duration": 1137,
    "start_time": "2022-05-21T07:11:03.167Z"
   },
   {
    "duration": 94,
    "start_time": "2022-05-21T07:11:04.307Z"
   },
   {
    "duration": 72,
    "start_time": "2022-05-21T07:11:04.403Z"
   },
   {
    "duration": 6,
    "start_time": "2022-05-21T07:11:04.478Z"
   },
   {
    "duration": 26,
    "start_time": "2022-05-21T07:11:04.489Z"
   },
   {
    "duration": 20,
    "start_time": "2022-05-21T07:11:04.517Z"
   },
   {
    "duration": 49,
    "start_time": "2022-05-21T07:11:04.539Z"
   },
   {
    "duration": 71,
    "start_time": "2022-05-21T07:11:04.590Z"
   },
   {
    "duration": 41,
    "start_time": "2022-05-21T07:11:04.669Z"
   },
   {
    "duration": 28,
    "start_time": "2022-05-21T07:11:04.716Z"
   },
   {
    "duration": 60,
    "start_time": "2022-05-21T07:11:04.749Z"
   },
   {
    "duration": 50,
    "start_time": "2022-05-21T07:11:04.815Z"
   },
   {
    "duration": 146,
    "start_time": "2022-05-21T07:11:04.867Z"
   },
   {
    "duration": 100,
    "start_time": "2022-05-21T07:11:05.015Z"
   },
   {
    "duration": 157,
    "start_time": "2022-05-21T07:11:05.117Z"
   },
   {
    "duration": 160,
    "start_time": "2022-05-21T07:11:05.276Z"
   },
   {
    "duration": 205,
    "start_time": "2022-05-21T07:11:05.438Z"
   },
   {
    "duration": 45,
    "start_time": "2022-05-21T07:11:05.647Z"
   },
   {
    "duration": 40,
    "start_time": "2022-05-21T07:11:05.699Z"
   },
   {
    "duration": 47,
    "start_time": "2022-05-21T07:11:05.747Z"
   },
   {
    "duration": 69,
    "start_time": "2022-05-21T07:11:05.797Z"
   },
   {
    "duration": 23,
    "start_time": "2022-05-21T07:11:05.869Z"
   },
   {
    "duration": 25,
    "start_time": "2022-05-21T07:11:05.894Z"
   },
   {
    "duration": 1296,
    "start_time": "2022-05-21T07:11:05.920Z"
   },
   {
    "duration": 35,
    "start_time": "2022-05-21T07:11:07.219Z"
   },
   {
    "duration": 1614,
    "start_time": "2022-05-21T07:11:07.259Z"
   },
   {
    "duration": 31,
    "start_time": "2022-05-21T07:11:08.878Z"
   },
   {
    "duration": 1225,
    "start_time": "2022-05-21T07:11:08.918Z"
   },
   {
    "duration": 6,
    "start_time": "2022-05-21T07:11:10.148Z"
   },
   {
    "duration": 961,
    "start_time": "2022-05-21T07:11:10.159Z"
   },
   {
    "duration": 7,
    "start_time": "2022-05-21T07:11:11.122Z"
   },
   {
    "duration": 39,
    "start_time": "2022-05-21T07:11:11.130Z"
   },
   {
    "duration": 26,
    "start_time": "2022-05-21T07:11:11.173Z"
   },
   {
    "duration": 1090,
    "start_time": "2022-05-21T07:11:11.201Z"
   },
   {
    "duration": 27,
    "start_time": "2022-05-21T07:11:12.296Z"
   },
   {
    "duration": 13,
    "start_time": "2022-05-21T07:11:18.867Z"
   },
   {
    "duration": 117,
    "start_time": "2022-05-21T07:12:58.984Z"
   },
   {
    "duration": 133,
    "start_time": "2022-05-21T07:13:33.112Z"
   },
   {
    "duration": 110,
    "start_time": "2022-05-21T07:13:46.683Z"
   },
   {
    "duration": 545,
    "start_time": "2022-05-21T07:14:26.759Z"
   },
   {
    "duration": 63,
    "start_time": "2022-05-21T07:17:03.021Z"
   },
   {
    "duration": 4,
    "start_time": "2022-05-21T07:17:36.194Z"
   },
   {
    "duration": 1371,
    "start_time": "2022-05-21T07:17:36.200Z"
   },
   {
    "duration": 76,
    "start_time": "2022-05-21T07:17:37.573Z"
   },
   {
    "duration": 110,
    "start_time": "2022-05-21T07:17:37.651Z"
   },
   {
    "duration": 5,
    "start_time": "2022-05-21T07:17:37.771Z"
   },
   {
    "duration": 42,
    "start_time": "2022-05-21T07:17:37.778Z"
   },
   {
    "duration": 95,
    "start_time": "2022-05-21T07:17:37.823Z"
   },
   {
    "duration": 93,
    "start_time": "2022-05-21T07:17:37.922Z"
   },
   {
    "duration": 79,
    "start_time": "2022-05-21T07:17:38.018Z"
   },
   {
    "duration": 28,
    "start_time": "2022-05-21T07:17:38.101Z"
   },
   {
    "duration": 66,
    "start_time": "2022-05-21T07:17:38.136Z"
   },
   {
    "duration": 32,
    "start_time": "2022-05-21T07:17:38.204Z"
   },
   {
    "duration": 88,
    "start_time": "2022-05-21T07:17:38.237Z"
   },
   {
    "duration": 145,
    "start_time": "2022-05-21T07:17:38.332Z"
   },
   {
    "duration": 58,
    "start_time": "2022-05-21T07:17:38.482Z"
   },
   {
    "duration": 154,
    "start_time": "2022-05-21T07:17:38.548Z"
   },
   {
    "duration": 35,
    "start_time": "2022-05-21T07:17:38.712Z"
   },
   {
    "duration": 135,
    "start_time": "2022-05-21T07:17:38.756Z"
   },
   {
    "duration": 9,
    "start_time": "2022-05-21T07:17:38.893Z"
   },
   {
    "duration": 58,
    "start_time": "2022-05-21T07:17:38.904Z"
   },
   {
    "duration": 123,
    "start_time": "2022-05-21T07:17:38.964Z"
   },
   {
    "duration": 151,
    "start_time": "2022-05-21T07:17:39.094Z"
   },
   {
    "duration": 54,
    "start_time": "2022-05-21T07:17:39.247Z"
   },
   {
    "duration": 152,
    "start_time": "2022-05-21T07:17:39.305Z"
   },
   {
    "duration": 1557,
    "start_time": "2022-05-21T07:17:39.460Z"
   },
   {
    "duration": 19,
    "start_time": "2022-05-21T07:17:41.019Z"
   },
   {
    "duration": 942,
    "start_time": "2022-05-21T07:17:41.046Z"
   },
   {
    "duration": 15,
    "start_time": "2022-05-21T07:17:41.992Z"
   },
   {
    "duration": 771,
    "start_time": "2022-05-21T07:17:42.011Z"
   },
   {
    "duration": 5,
    "start_time": "2022-05-21T07:17:42.784Z"
   },
   {
    "duration": 726,
    "start_time": "2022-05-21T07:17:42.791Z"
   },
   {
    "duration": 34,
    "start_time": "2022-05-21T07:17:43.519Z"
   },
   {
    "duration": 46,
    "start_time": "2022-05-21T07:17:43.562Z"
   },
   {
    "duration": 16,
    "start_time": "2022-05-21T07:17:43.610Z"
   },
   {
    "duration": 752,
    "start_time": "2022-05-21T07:17:43.642Z"
   },
   {
    "duration": 18,
    "start_time": "2022-05-21T07:17:44.396Z"
   },
   {
    "duration": 19,
    "start_time": "2022-05-21T07:17:44.416Z"
   },
   {
    "duration": 69,
    "start_time": "2022-05-21T07:17:51.380Z"
   },
   {
    "duration": 30,
    "start_time": "2022-05-21T07:18:03.485Z"
   },
   {
    "duration": 37,
    "start_time": "2022-05-21T07:18:19.583Z"
   },
   {
    "duration": 31,
    "start_time": "2022-05-21T07:18:51.517Z"
   },
   {
    "duration": 51,
    "start_time": "2022-05-21T07:19:10.017Z"
   },
   {
    "duration": 40,
    "start_time": "2022-05-21T07:21:08.654Z"
   },
   {
    "duration": 568,
    "start_time": "2022-05-21T07:21:30.772Z"
   },
   {
    "duration": 28,
    "start_time": "2022-05-21T07:21:42.588Z"
   },
   {
    "duration": 10,
    "start_time": "2022-05-21T07:22:32.101Z"
   },
   {
    "duration": 10,
    "start_time": "2022-05-21T07:22:42.356Z"
   },
   {
    "duration": 791,
    "start_time": "2022-05-21T07:22:43.503Z"
   },
   {
    "duration": 4,
    "start_time": "2022-05-21T07:23:45.976Z"
   },
   {
    "duration": 795,
    "start_time": "2022-05-21T07:23:45.982Z"
   },
   {
    "duration": 92,
    "start_time": "2022-05-21T07:23:46.781Z"
   },
   {
    "duration": 42,
    "start_time": "2022-05-21T07:23:46.876Z"
   },
   {
    "duration": 5,
    "start_time": "2022-05-21T07:23:46.921Z"
   },
   {
    "duration": 51,
    "start_time": "2022-05-21T07:23:46.932Z"
   },
   {
    "duration": 8,
    "start_time": "2022-05-21T07:23:46.985Z"
   },
   {
    "duration": 19,
    "start_time": "2022-05-21T07:23:46.995Z"
   },
   {
    "duration": 9,
    "start_time": "2022-05-21T07:23:47.016Z"
   },
   {
    "duration": 33,
    "start_time": "2022-05-21T07:23:47.029Z"
   },
   {
    "duration": 12,
    "start_time": "2022-05-21T07:23:47.065Z"
   },
   {
    "duration": 7,
    "start_time": "2022-05-21T07:23:47.079Z"
   },
   {
    "duration": 13,
    "start_time": "2022-05-21T07:23:47.087Z"
   },
   {
    "duration": 11,
    "start_time": "2022-05-21T07:23:47.101Z"
   },
   {
    "duration": 17,
    "start_time": "2022-05-21T07:23:47.114Z"
   },
   {
    "duration": 48,
    "start_time": "2022-05-21T07:23:47.132Z"
   },
   {
    "duration": 13,
    "start_time": "2022-05-21T07:23:47.182Z"
   },
   {
    "duration": 70,
    "start_time": "2022-05-21T07:23:47.197Z"
   },
   {
    "duration": 5,
    "start_time": "2022-05-21T07:23:47.272Z"
   },
   {
    "duration": 11,
    "start_time": "2022-05-21T07:23:47.279Z"
   },
   {
    "duration": 31,
    "start_time": "2022-05-21T07:23:47.291Z"
   },
   {
    "duration": 74,
    "start_time": "2022-05-21T07:23:47.324Z"
   },
   {
    "duration": 15,
    "start_time": "2022-05-21T07:23:47.400Z"
   },
   {
    "duration": 6,
    "start_time": "2022-05-21T07:23:47.417Z"
   },
   {
    "duration": 692,
    "start_time": "2022-05-21T07:23:47.424Z"
   },
   {
    "duration": 20,
    "start_time": "2022-05-21T07:23:48.118Z"
   },
   {
    "duration": 698,
    "start_time": "2022-05-21T07:23:48.139Z"
   },
   {
    "duration": 15,
    "start_time": "2022-05-21T07:23:48.838Z"
   },
   {
    "duration": 679,
    "start_time": "2022-05-21T07:23:48.856Z"
   },
   {
    "duration": 3,
    "start_time": "2022-05-21T07:23:49.537Z"
   },
   {
    "duration": 710,
    "start_time": "2022-05-21T07:23:49.549Z"
   },
   {
    "duration": 5,
    "start_time": "2022-05-21T07:23:50.260Z"
   },
   {
    "duration": 43,
    "start_time": "2022-05-21T07:23:50.275Z"
   },
   {
    "duration": 22,
    "start_time": "2022-05-21T07:23:50.320Z"
   },
   {
    "duration": 1189,
    "start_time": "2022-05-21T07:23:50.344Z"
   },
   {
    "duration": 31,
    "start_time": "2022-05-21T07:23:51.534Z"
   },
   {
    "duration": 38,
    "start_time": "2022-05-21T07:23:51.571Z"
   },
   {
    "duration": 71,
    "start_time": "2022-05-21T07:23:51.611Z"
   },
   {
    "duration": 9,
    "start_time": "2022-05-21T07:23:51.683Z"
   },
   {
    "duration": 27,
    "start_time": "2022-05-21T07:23:51.693Z"
   },
   {
    "duration": 775,
    "start_time": "2022-05-21T07:23:51.722Z"
   },
   {
    "duration": 4,
    "start_time": "2022-05-21T07:23:52.499Z"
   },
   {
    "duration": 20,
    "start_time": "2022-05-21T07:23:52.504Z"
   },
   {
    "duration": 66,
    "start_time": "2022-05-21T07:23:52.525Z"
   },
   {
    "duration": 5259,
    "start_time": "2022-05-21T07:23:52.593Z"
   },
   {
    "duration": 24907,
    "start_time": "2022-05-21T07:23:57.859Z"
   },
   {
    "duration": 417683,
    "start_time": "2022-05-21T07:24:22.769Z"
   },
   {
    "duration": 7,
    "start_time": "2022-05-21T07:31:20.453Z"
   },
   {
    "duration": 63,
    "start_time": "2022-05-21T07:31:20.461Z"
   },
   {
    "duration": 241,
    "start_time": "2022-05-21T07:31:20.539Z"
   },
   {
    "duration": 77,
    "start_time": "2022-05-21T07:34:18.008Z"
   },
   {
    "duration": 7,
    "start_time": "2022-05-21T07:34:30.806Z"
   },
   {
    "duration": 19,
    "start_time": "2022-05-21T07:34:37.779Z"
   },
   {
    "duration": 6,
    "start_time": "2022-05-21T07:34:52.956Z"
   },
   {
    "duration": 5,
    "start_time": "2022-05-21T07:35:17.016Z"
   },
   {
    "duration": 6,
    "start_time": "2022-05-21T07:36:36.568Z"
   },
   {
    "duration": 796,
    "start_time": "2022-05-21T07:36:36.576Z"
   },
   {
    "duration": 87,
    "start_time": "2022-05-21T07:36:37.378Z"
   },
   {
    "duration": 40,
    "start_time": "2022-05-21T07:36:37.471Z"
   },
   {
    "duration": 4,
    "start_time": "2022-05-21T07:36:37.512Z"
   },
   {
    "duration": 53,
    "start_time": "2022-05-21T07:36:37.517Z"
   },
   {
    "duration": 6,
    "start_time": "2022-05-21T07:36:37.572Z"
   },
   {
    "duration": 11,
    "start_time": "2022-05-21T07:36:37.580Z"
   },
   {
    "duration": 8,
    "start_time": "2022-05-21T07:36:37.594Z"
   },
   {
    "duration": 8,
    "start_time": "2022-05-21T07:36:37.604Z"
   },
   {
    "duration": 53,
    "start_time": "2022-05-21T07:36:37.614Z"
   },
   {
    "duration": 8,
    "start_time": "2022-05-21T07:36:37.670Z"
   },
   {
    "duration": 10,
    "start_time": "2022-05-21T07:36:37.680Z"
   },
   {
    "duration": 7,
    "start_time": "2022-05-21T07:36:37.693Z"
   },
   {
    "duration": 15,
    "start_time": "2022-05-21T07:36:37.702Z"
   },
   {
    "duration": 50,
    "start_time": "2022-05-21T07:36:37.718Z"
   },
   {
    "duration": 14,
    "start_time": "2022-05-21T07:36:37.776Z"
   },
   {
    "duration": 71,
    "start_time": "2022-05-21T07:36:37.792Z"
   },
   {
    "duration": 5,
    "start_time": "2022-05-21T07:36:37.867Z"
   },
   {
    "duration": 5,
    "start_time": "2022-05-21T07:36:37.874Z"
   },
   {
    "duration": 9,
    "start_time": "2022-05-21T07:36:37.881Z"
   },
   {
    "duration": 31,
    "start_time": "2022-05-21T07:36:37.892Z"
   },
   {
    "duration": 27,
    "start_time": "2022-05-21T07:36:37.925Z"
   },
   {
    "duration": 17,
    "start_time": "2022-05-21T07:36:37.958Z"
   },
   {
    "duration": 721,
    "start_time": "2022-05-21T07:36:37.977Z"
   },
   {
    "duration": 14,
    "start_time": "2022-05-21T07:36:38.700Z"
   },
   {
    "duration": 737,
    "start_time": "2022-05-21T07:36:38.716Z"
   },
   {
    "duration": 18,
    "start_time": "2022-05-21T07:36:39.454Z"
   },
   {
    "duration": 725,
    "start_time": "2022-05-21T07:36:39.474Z"
   },
   {
    "duration": 4,
    "start_time": "2022-05-21T07:36:40.201Z"
   },
   {
    "duration": 759,
    "start_time": "2022-05-21T07:36:40.207Z"
   },
   {
    "duration": 7,
    "start_time": "2022-05-21T07:36:40.971Z"
   },
   {
    "duration": 34,
    "start_time": "2022-05-21T07:36:40.980Z"
   },
   {
    "duration": 24,
    "start_time": "2022-05-21T07:36:41.017Z"
   },
   {
    "duration": 767,
    "start_time": "2022-05-21T07:36:41.046Z"
   },
   {
    "duration": 24,
    "start_time": "2022-05-21T07:36:41.815Z"
   },
   {
    "duration": 28,
    "start_time": "2022-05-21T07:36:41.840Z"
   },
   {
    "duration": 617,
    "start_time": "2022-05-21T07:36:41.870Z"
   },
   {
    "duration": 26,
    "start_time": "2022-05-21T07:36:44.715Z"
   },
   {
    "duration": 36,
    "start_time": "2022-05-21T07:36:52.895Z"
   },
   {
    "duration": 5,
    "start_time": "2022-05-21T07:37:10.297Z"
   },
   {
    "duration": 848,
    "start_time": "2022-05-21T07:37:10.304Z"
   },
   {
    "duration": 97,
    "start_time": "2022-05-21T07:37:11.153Z"
   },
   {
    "duration": 58,
    "start_time": "2022-05-21T07:37:11.252Z"
   },
   {
    "duration": 23,
    "start_time": "2022-05-21T07:37:11.312Z"
   },
   {
    "duration": 47,
    "start_time": "2022-05-21T07:37:11.340Z"
   },
   {
    "duration": 10,
    "start_time": "2022-05-21T07:37:11.389Z"
   },
   {
    "duration": 17,
    "start_time": "2022-05-21T07:37:11.401Z"
   },
   {
    "duration": 56,
    "start_time": "2022-05-21T07:37:11.421Z"
   },
   {
    "duration": 7,
    "start_time": "2022-05-21T07:37:11.479Z"
   },
   {
    "duration": 9,
    "start_time": "2022-05-21T07:37:11.490Z"
   },
   {
    "duration": 18,
    "start_time": "2022-05-21T07:37:11.501Z"
   },
   {
    "duration": 57,
    "start_time": "2022-05-21T07:37:11.520Z"
   },
   {
    "duration": 7,
    "start_time": "2022-05-21T07:37:11.578Z"
   },
   {
    "duration": 16,
    "start_time": "2022-05-21T07:37:11.587Z"
   },
   {
    "duration": 50,
    "start_time": "2022-05-21T07:37:11.605Z"
   },
   {
    "duration": 17,
    "start_time": "2022-05-21T07:37:11.659Z"
   },
   {
    "duration": 63,
    "start_time": "2022-05-21T07:37:11.678Z"
   },
   {
    "duration": 7,
    "start_time": "2022-05-21T07:37:11.748Z"
   },
   {
    "duration": 11,
    "start_time": "2022-05-21T07:37:11.760Z"
   },
   {
    "duration": 11,
    "start_time": "2022-05-21T07:37:11.773Z"
   },
   {
    "duration": 32,
    "start_time": "2022-05-21T07:37:11.786Z"
   },
   {
    "duration": 17,
    "start_time": "2022-05-21T07:37:11.820Z"
   },
   {
    "duration": 36,
    "start_time": "2022-05-21T07:37:11.838Z"
   },
   {
    "duration": 746,
    "start_time": "2022-05-21T07:37:11.876Z"
   },
   {
    "duration": 23,
    "start_time": "2022-05-21T07:37:12.624Z"
   },
   {
    "duration": 875,
    "start_time": "2022-05-21T07:37:12.649Z"
   },
   {
    "duration": 18,
    "start_time": "2022-05-21T07:37:13.526Z"
   },
   {
    "duration": 833,
    "start_time": "2022-05-21T07:37:13.549Z"
   },
   {
    "duration": 4,
    "start_time": "2022-05-21T07:37:14.383Z"
   },
   {
    "duration": 725,
    "start_time": "2022-05-21T07:37:14.389Z"
   },
   {
    "duration": 15,
    "start_time": "2022-05-21T07:37:15.116Z"
   },
   {
    "duration": 69,
    "start_time": "2022-05-21T07:37:15.136Z"
   },
   {
    "duration": 17,
    "start_time": "2022-05-21T07:37:15.208Z"
   },
   {
    "duration": 758,
    "start_time": "2022-05-21T07:37:15.231Z"
   },
   {
    "duration": 19,
    "start_time": "2022-05-21T07:37:15.992Z"
   },
   {
    "duration": 46,
    "start_time": "2022-05-21T07:37:16.013Z"
   },
   {
    "duration": 83,
    "start_time": "2022-05-21T07:37:16.066Z"
   },
   {
    "duration": 39,
    "start_time": "2022-05-21T07:37:22.380Z"
   },
   {
    "duration": 5,
    "start_time": "2022-05-21T07:38:27.456Z"
   },
   {
    "duration": 856,
    "start_time": "2022-05-21T07:38:27.466Z"
   },
   {
    "duration": 92,
    "start_time": "2022-05-21T07:38:28.324Z"
   },
   {
    "duration": 59,
    "start_time": "2022-05-21T07:38:28.418Z"
   },
   {
    "duration": 14,
    "start_time": "2022-05-21T07:38:28.480Z"
   },
   {
    "duration": 13,
    "start_time": "2022-05-21T07:38:28.496Z"
   },
   {
    "duration": 39,
    "start_time": "2022-05-21T07:38:28.511Z"
   },
   {
    "duration": 20,
    "start_time": "2022-05-21T07:38:28.556Z"
   },
   {
    "duration": 10,
    "start_time": "2022-05-21T07:38:28.578Z"
   },
   {
    "duration": 4,
    "start_time": "2022-05-21T07:38:28.590Z"
   },
   {
    "duration": 11,
    "start_time": "2022-05-21T07:38:28.597Z"
   },
   {
    "duration": 7,
    "start_time": "2022-05-21T07:38:28.610Z"
   },
   {
    "duration": 27,
    "start_time": "2022-05-21T07:38:28.619Z"
   },
   {
    "duration": 31,
    "start_time": "2022-05-21T07:38:28.652Z"
   },
   {
    "duration": 10,
    "start_time": "2022-05-21T07:38:28.686Z"
   },
   {
    "duration": 55,
    "start_time": "2022-05-21T07:38:28.698Z"
   },
   {
    "duration": 21,
    "start_time": "2022-05-21T07:38:28.755Z"
   },
   {
    "duration": 65,
    "start_time": "2022-05-21T07:38:28.778Z"
   },
   {
    "duration": 4,
    "start_time": "2022-05-21T07:38:28.847Z"
   },
   {
    "duration": 21,
    "start_time": "2022-05-21T07:38:28.857Z"
   },
   {
    "duration": 25,
    "start_time": "2022-05-21T07:38:28.880Z"
   },
   {
    "duration": 49,
    "start_time": "2022-05-21T07:38:28.915Z"
   },
   {
    "duration": 23,
    "start_time": "2022-05-21T07:38:28.966Z"
   },
   {
    "duration": 16,
    "start_time": "2022-05-21T07:38:28.991Z"
   },
   {
    "duration": 785,
    "start_time": "2022-05-21T07:38:29.009Z"
   },
   {
    "duration": 15,
    "start_time": "2022-05-21T07:38:29.795Z"
   },
   {
    "duration": 895,
    "start_time": "2022-05-21T07:38:29.812Z"
   },
   {
    "duration": 24,
    "start_time": "2022-05-21T07:38:30.709Z"
   },
   {
    "duration": 1707,
    "start_time": "2022-05-21T07:38:30.739Z"
   },
   {
    "duration": 6,
    "start_time": "2022-05-21T07:38:32.447Z"
   },
   {
    "duration": 730,
    "start_time": "2022-05-21T07:38:32.455Z"
   },
   {
    "duration": 8,
    "start_time": "2022-05-21T07:38:33.188Z"
   },
   {
    "duration": 73,
    "start_time": "2022-05-21T07:38:33.200Z"
   },
   {
    "duration": 22,
    "start_time": "2022-05-21T07:38:33.280Z"
   },
   {
    "duration": 798,
    "start_time": "2022-05-21T07:38:33.304Z"
   },
   {
    "duration": 32,
    "start_time": "2022-05-21T07:38:34.104Z"
   },
   {
    "duration": 16,
    "start_time": "2022-05-21T07:38:34.146Z"
   },
   {
    "duration": 69,
    "start_time": "2022-05-21T07:38:34.167Z"
   },
   {
    "duration": 29,
    "start_time": "2022-05-21T07:38:41.480Z"
   },
   {
    "duration": 41,
    "start_time": "2022-05-21T07:38:53.387Z"
   },
   {
    "duration": 23,
    "start_time": "2022-05-21T07:39:02.723Z"
   },
   {
    "duration": 9,
    "start_time": "2022-05-21T07:39:03.864Z"
   },
   {
    "duration": 797,
    "start_time": "2022-05-21T07:39:04.767Z"
   },
   {
    "duration": 3,
    "start_time": "2022-05-21T07:39:10.499Z"
   },
   {
    "duration": 846,
    "start_time": "2022-05-21T07:39:10.504Z"
   },
   {
    "duration": 71,
    "start_time": "2022-05-21T07:39:11.355Z"
   },
   {
    "duration": 52,
    "start_time": "2022-05-21T07:39:11.436Z"
   },
   {
    "duration": 3,
    "start_time": "2022-05-21T07:39:11.490Z"
   },
   {
    "duration": 14,
    "start_time": "2022-05-21T07:39:11.495Z"
   },
   {
    "duration": 5,
    "start_time": "2022-05-21T07:39:11.512Z"
   },
   {
    "duration": 21,
    "start_time": "2022-05-21T07:39:11.534Z"
   },
   {
    "duration": 19,
    "start_time": "2022-05-21T07:39:11.557Z"
   },
   {
    "duration": 6,
    "start_time": "2022-05-21T07:39:11.578Z"
   },
   {
    "duration": 9,
    "start_time": "2022-05-21T07:39:11.587Z"
   },
   {
    "duration": 11,
    "start_time": "2022-05-21T07:39:11.597Z"
   },
   {
    "duration": 13,
    "start_time": "2022-05-21T07:39:11.610Z"
   },
   {
    "duration": 43,
    "start_time": "2022-05-21T07:39:11.624Z"
   },
   {
    "duration": 11,
    "start_time": "2022-05-21T07:39:11.669Z"
   },
   {
    "duration": 44,
    "start_time": "2022-05-21T07:39:11.682Z"
   },
   {
    "duration": 18,
    "start_time": "2022-05-21T07:39:11.733Z"
   },
   {
    "duration": 83,
    "start_time": "2022-05-21T07:39:11.752Z"
   },
   {
    "duration": 12,
    "start_time": "2022-05-21T07:39:11.841Z"
   },
   {
    "duration": 13,
    "start_time": "2022-05-21T07:39:11.858Z"
   },
   {
    "duration": 9,
    "start_time": "2022-05-21T07:39:11.872Z"
   },
   {
    "duration": 30,
    "start_time": "2022-05-21T07:39:11.883Z"
   },
   {
    "duration": 16,
    "start_time": "2022-05-21T07:39:11.915Z"
   },
   {
    "duration": 13,
    "start_time": "2022-05-21T07:39:11.933Z"
   },
   {
    "duration": 772,
    "start_time": "2022-05-21T07:39:11.947Z"
   },
   {
    "duration": 26,
    "start_time": "2022-05-21T07:39:12.722Z"
   },
   {
    "duration": 775,
    "start_time": "2022-05-21T07:39:12.754Z"
   },
   {
    "duration": 16,
    "start_time": "2022-05-21T07:39:13.531Z"
   },
   {
    "duration": 825,
    "start_time": "2022-05-21T07:39:13.552Z"
   },
   {
    "duration": 4,
    "start_time": "2022-05-21T07:39:14.382Z"
   },
   {
    "duration": 766,
    "start_time": "2022-05-21T07:39:14.388Z"
   },
   {
    "duration": 6,
    "start_time": "2022-05-21T07:39:15.156Z"
   },
   {
    "duration": 49,
    "start_time": "2022-05-21T07:39:15.164Z"
   },
   {
    "duration": 29,
    "start_time": "2022-05-21T07:39:15.214Z"
   },
   {
    "duration": 774,
    "start_time": "2022-05-21T07:39:15.249Z"
   },
   {
    "duration": 23,
    "start_time": "2022-05-21T07:39:16.032Z"
   },
   {
    "duration": 28,
    "start_time": "2022-05-21T07:39:16.056Z"
   },
   {
    "duration": 56,
    "start_time": "2022-05-21T07:39:16.087Z"
   },
   {
    "duration": 11,
    "start_time": "2022-05-21T07:39:16.148Z"
   },
   {
    "duration": 13,
    "start_time": "2022-05-21T07:39:16.167Z"
   },
   {
    "duration": 1673,
    "start_time": "2022-05-21T07:39:16.182Z"
   },
   {
    "duration": 10,
    "start_time": "2022-05-21T07:39:17.857Z"
   },
   {
    "duration": 8,
    "start_time": "2022-05-21T07:39:17.871Z"
   },
   {
    "duration": 9,
    "start_time": "2022-05-21T07:39:17.880Z"
   },
   {
    "duration": 7179,
    "start_time": "2022-05-21T07:39:17.890Z"
   },
   {
    "duration": 24368,
    "start_time": "2022-05-21T07:39:25.126Z"
   },
   {
    "duration": 405021,
    "start_time": "2022-05-21T07:39:49.496Z"
   },
   {
    "duration": 4,
    "start_time": "2022-05-21T07:46:34.518Z"
   },
   {
    "duration": 69,
    "start_time": "2022-05-21T07:46:34.527Z"
   },
   {
    "duration": 7,
    "start_time": "2022-05-21T07:46:34.598Z"
   },
   {
    "duration": 13,
    "start_time": "2022-05-21T07:46:34.606Z"
   },
   {
    "duration": 6571,
    "start_time": "2022-05-21T07:46:34.621Z"
   },
   {
    "duration": 6936,
    "start_time": "2022-05-21T07:50:05.816Z"
   },
   {
    "duration": 6857,
    "start_time": "2022-05-21T07:51:22.368Z"
   },
   {
    "duration": 7203,
    "start_time": "2022-05-21T07:51:41.076Z"
   },
   {
    "duration": 9,
    "start_time": "2022-05-21T07:52:31.698Z"
   },
   {
    "duration": 7557,
    "start_time": "2022-05-21T07:52:50.284Z"
   },
   {
    "duration": 7731,
    "start_time": "2022-05-21T07:53:07.672Z"
   },
   {
    "duration": 1517,
    "start_time": "2022-05-21T07:53:58.980Z"
   },
   {
    "duration": 1402,
    "start_time": "2022-05-21T07:54:00.499Z"
   },
   {
    "duration": 98,
    "start_time": "2022-05-21T07:54:01.903Z"
   },
   {
    "duration": 71,
    "start_time": "2022-05-21T07:54:02.008Z"
   },
   {
    "duration": 5,
    "start_time": "2022-05-21T07:54:02.088Z"
   },
   {
    "duration": 23,
    "start_time": "2022-05-21T07:54:02.095Z"
   },
   {
    "duration": 55,
    "start_time": "2022-05-21T07:54:02.120Z"
   },
   {
    "duration": 38,
    "start_time": "2022-05-21T07:54:02.176Z"
   },
   {
    "duration": 28,
    "start_time": "2022-05-21T07:54:02.216Z"
   },
   {
    "duration": 40,
    "start_time": "2022-05-21T07:54:02.255Z"
   },
   {
    "duration": 13,
    "start_time": "2022-05-21T07:54:02.297Z"
   },
   {
    "duration": 61,
    "start_time": "2022-05-21T07:54:02.312Z"
   },
   {
    "duration": 19,
    "start_time": "2022-05-21T07:54:02.385Z"
   },
   {
    "duration": 15,
    "start_time": "2022-05-21T07:54:02.408Z"
   },
   {
    "duration": 48,
    "start_time": "2022-05-21T07:54:02.425Z"
   },
   {
    "duration": 99,
    "start_time": "2022-05-21T07:54:02.474Z"
   },
   {
    "duration": 18,
    "start_time": "2022-05-21T07:54:02.582Z"
   },
   {
    "duration": 92,
    "start_time": "2022-05-21T07:54:02.602Z"
   },
   {
    "duration": 2,
    "start_time": "2022-05-21T07:54:02.696Z"
   },
   {
    "duration": 6,
    "start_time": "2022-05-21T07:54:02.700Z"
   },
   {
    "duration": 41,
    "start_time": "2022-05-21T07:54:02.707Z"
   },
   {
    "duration": 98,
    "start_time": "2022-05-21T07:54:02.750Z"
   },
   {
    "duration": 45,
    "start_time": "2022-05-21T07:54:02.852Z"
   },
   {
    "duration": 16,
    "start_time": "2022-05-21T07:54:02.900Z"
   },
   {
    "duration": 927,
    "start_time": "2022-05-21T07:54:02.917Z"
   },
   {
    "duration": 27,
    "start_time": "2022-05-21T07:54:03.846Z"
   },
   {
    "duration": 987,
    "start_time": "2022-05-21T07:54:03.877Z"
   },
   {
    "duration": 32,
    "start_time": "2022-05-21T07:54:04.869Z"
   },
   {
    "duration": 1043,
    "start_time": "2022-05-21T07:54:04.905Z"
   },
   {
    "duration": 9,
    "start_time": "2022-05-21T07:54:05.958Z"
   },
   {
    "duration": 844,
    "start_time": "2022-05-21T07:54:05.978Z"
   },
   {
    "duration": 24,
    "start_time": "2022-05-21T07:54:06.825Z"
   },
   {
    "duration": 68,
    "start_time": "2022-05-21T07:54:06.852Z"
   },
   {
    "duration": 38,
    "start_time": "2022-05-21T07:54:06.923Z"
   },
   {
    "duration": 996,
    "start_time": "2022-05-21T07:54:06.973Z"
   },
   {
    "duration": 22,
    "start_time": "2022-05-21T07:54:07.980Z"
   },
   {
    "duration": 6,
    "start_time": "2022-05-21T07:54:08.003Z"
   },
   {
    "duration": 88,
    "start_time": "2022-05-21T07:54:08.011Z"
   },
   {
    "duration": 9,
    "start_time": "2022-05-21T07:54:08.101Z"
   },
   {
    "duration": 7,
    "start_time": "2022-05-21T07:54:08.112Z"
   },
   {
    "duration": 820,
    "start_time": "2022-05-21T07:54:08.123Z"
   },
   {
    "duration": 7,
    "start_time": "2022-05-21T07:54:08.947Z"
   },
   {
    "duration": 46,
    "start_time": "2022-05-21T07:54:08.957Z"
   },
   {
    "duration": 10,
    "start_time": "2022-05-21T07:54:09.005Z"
   },
   {
    "duration": 10151,
    "start_time": "2022-05-21T07:54:09.017Z"
   },
   {
    "duration": 27206,
    "start_time": "2022-05-21T07:54:19.182Z"
   },
   {
    "duration": 428530,
    "start_time": "2022-05-21T07:54:46.390Z"
   },
   {
    "duration": 14,
    "start_time": "2022-05-21T08:01:54.923Z"
   },
   {
    "duration": 71,
    "start_time": "2022-05-21T08:01:54.938Z"
   },
   {
    "duration": 8102,
    "start_time": "2022-05-21T08:01:55.010Z"
   }
  ],
  "kernelspec": {
   "display_name": "Python 3",
   "language": "python",
   "name": "python3"
  },
  "language_info": {
   "codemirror_mode": {
    "name": "ipython",
    "version": 3
   },
   "file_extension": ".py",
   "mimetype": "text/x-python",
   "name": "python",
   "nbconvert_exporter": "python",
   "pygments_lexer": "ipython3",
   "version": "3.7.6"
  },
  "toc": {
   "base_numbering": 1,
   "nav_menu": {},
   "number_sections": true,
   "sideBar": true,
   "skip_h1_title": true,
   "title_cell": "Содержание",
   "title_sidebar": "Contents",
   "toc_cell": true,
   "toc_position": {
    "height": "calc(100% - 180px)",
    "left": "10px",
    "top": "150px",
    "width": "370.797px"
   },
   "toc_section_display": true,
   "toc_window_display": true
  }
 },
 "nbformat": 4,
 "nbformat_minor": 2
}
