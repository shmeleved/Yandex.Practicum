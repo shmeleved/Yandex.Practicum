{
 "cells": [
  {
   "cell_type": "markdown",
   "metadata": {},
   "source": [
    "# Determination of a perspective tariff for a telecom company"
   ]
  },
  {
   "cell_type": "markdown",
   "metadata": {},
   "source": [
    "Customers are offered two tariff plans: \"Smart\" and \"Ultra\". To adjust the advertising budget, the commercial department wants to understand which tariff brings in more money."
   ]
  },
  {
   "cell_type": "markdown",
   "metadata": {},
   "source": [
    "The project conducted a preliminary analysis of tariffs on a small sample of customers. We have the data of 500 Megalyne users at our disposal: who they are, where they come from, what tariff they use, how many calls and messages each sent in 2018. An analysis of customer behavior will be conducted and a conclusion will be made — which tariff is better."
   ]
  },
  {
   "cell_type": "markdown",
   "metadata": {},
   "source": [
    "<font size=\"4\"><b>Description of tariffs</b></font>"
   ]
  },
  {
   "cell_type": "markdown",
   "metadata": {},
   "source": [
    "**\"Smart\" tariff**:\n",
    "\n",
    "1) Monthly fee: 550 rubles\n",
    "\n",
    "2) Included 500 minutes of conversation, 50 messages and 15 GB of Internet traffic\n",
    "\n",
    "3) The cost of services in excess of the tariff package:\n",
    "* a minute of conversation: 3 rubles\n",
    "* message: 3 rubles\n",
    "* 1 GB of Internet traffic: 200 rubles\n",
    "\n",
    "**\"Ultra\" tariff**\n",
    "\n",
    "1) Monthly fee: 1950 rubles\n",
    "\n",
    "2) 3000 minutes of conversation, 1000 messages and 30 GB of Internet traffic are included\n",
    "\n",
    "3) The cost of services in excess of the tariff package:\n",
    "* a minute of conversation: 1 ruble\n",
    "* message: 1 ruble\n",
    "* 1 GB of Internet traffic: 150 rubles"
   ]
  },
  {
   "cell_type": "markdown",
   "metadata": {},
   "source": [
    "<font size=\"3\"><b>Data description:</b></font>"
   ]
  },
  {
   "cell_type": "markdown",
   "metadata": {},
   "source": [
    "Users table (information about users):\n",
    "- `user_id` — unique user ID\n",
    "- `first_name` — user name\n",
    "- `last_name` — last name of the user\n",
    "- `age` — user's age (years)\n",
    "- `reg_date` — tariff activation date (day, month, year)\n",
    "- `churn_date` — date of termination of use of the tariff (if the value is omitted, the tariff was still valid at the time of data upload)\n",
    "- `city` — the user's city of residence\n",
    "- `tariff` — name of the tariff plan\n",
    "\n",
    "Calls table (information about calls):\n",
    "- `id` — unique call number\n",
    "- `call_date` — date of the call\n",
    "- `duration` — the duration of the call in minutes\n",
    "- `user_id` — id of the user who made the call\n",
    "\n",
    "Messages table (information about messages):\n",
    "- `id` — unique message number\n",
    "- `message_date` — date of the message\n",
    "- `user_id` — id of the user who sent the message\n",
    "\n",
    "Internet table (information about internet sessions):\n",
    "- `id` — unique session number\n",
    "- `mb_used` — the amount of Internet traffic spent per session (in megabytes)\n",
    "- `session_date` — date of the internet session\n",
    "- `user_id` — user ID\n",
    "\n",
    "Tariffs table (information about tariffs):\n",
    "- `tariff_name` — name of the tariff\n",
    "- `rub_monthly_fee` — monthly subscription fee in rubles\n",
    "- `minutes_included` — the number of minutes of conversation per month included in the subscription fee\n",
    "- `messages_included` — the number of messages per month included in the subscription fee\n",
    "- `mb_per_month_included` — the amount of Internet traffic included in the subscription fee (in megabytes)\n",
    "- `rub_per_minute` — the cost of a minute of conversation over the tariff package (for example, if the tariff has 100 minutes of conversation per month, then a fee will be charged from 101 minutes)\n",
    "- `rub_per_message` — the cost of sending a message over the tariff package\n",
    "- `rub_per_gb` — the cost of an additional gigabyte of Internet traffic over the tariff package (1 gigabyte = 1024 megabytes)"
   ]
  },
  {
   "cell_type": "markdown",
   "metadata": {},
   "source": [
    "## Step 1. Open the data files and study the general information"
   ]
  },
  {
   "cell_type": "code",
   "execution_count": 1,
   "metadata": {},
   "outputs": [],
   "source": [
    "import pandas as pd\n",
    "import numpy as np\n",
    "from scipy import stats as st\n",
    "import matplotlib.pyplot as plt"
   ]
  },
  {
   "cell_type": "code",
   "execution_count": 2,
   "metadata": {
    "scrolled": false
   },
   "outputs": [
    {
     "data": {
      "text/html": [
       "<div>\n",
       "<style scoped>\n",
       "    .dataframe tbody tr th:only-of-type {\n",
       "        vertical-align: middle;\n",
       "    }\n",
       "\n",
       "    .dataframe tbody tr th {\n",
       "        vertical-align: top;\n",
       "    }\n",
       "\n",
       "    .dataframe thead th {\n",
       "        text-align: right;\n",
       "    }\n",
       "</style>\n",
       "<table border=\"1\" class=\"dataframe\">\n",
       "  <thead>\n",
       "    <tr style=\"text-align: right;\">\n",
       "      <th></th>\n",
       "      <th>user_id</th>\n",
       "      <th>age</th>\n",
       "      <th>churn_date</th>\n",
       "      <th>city</th>\n",
       "      <th>first_name</th>\n",
       "      <th>last_name</th>\n",
       "      <th>reg_date</th>\n",
       "      <th>tariff</th>\n",
       "    </tr>\n",
       "  </thead>\n",
       "  <tbody>\n",
       "    <tr>\n",
       "      <th>0</th>\n",
       "      <td>1000</td>\n",
       "      <td>52</td>\n",
       "      <td>NaT</td>\n",
       "      <td>Краснодар</td>\n",
       "      <td>Рафаил</td>\n",
       "      <td>Верещагин</td>\n",
       "      <td>2018-05-25</td>\n",
       "      <td>ultra</td>\n",
       "    </tr>\n",
       "    <tr>\n",
       "      <th>1</th>\n",
       "      <td>1001</td>\n",
       "      <td>41</td>\n",
       "      <td>NaT</td>\n",
       "      <td>Москва</td>\n",
       "      <td>Иван</td>\n",
       "      <td>Ежов</td>\n",
       "      <td>2018-11-01</td>\n",
       "      <td>smart</td>\n",
       "    </tr>\n",
       "    <tr>\n",
       "      <th>2</th>\n",
       "      <td>1002</td>\n",
       "      <td>59</td>\n",
       "      <td>NaT</td>\n",
       "      <td>Стерлитамак</td>\n",
       "      <td>Евгений</td>\n",
       "      <td>Абрамович</td>\n",
       "      <td>2018-06-17</td>\n",
       "      <td>smart</td>\n",
       "    </tr>\n",
       "    <tr>\n",
       "      <th>3</th>\n",
       "      <td>1003</td>\n",
       "      <td>23</td>\n",
       "      <td>NaT</td>\n",
       "      <td>Москва</td>\n",
       "      <td>Белла</td>\n",
       "      <td>Белякова</td>\n",
       "      <td>2018-08-17</td>\n",
       "      <td>ultra</td>\n",
       "    </tr>\n",
       "    <tr>\n",
       "      <th>4</th>\n",
       "      <td>1004</td>\n",
       "      <td>68</td>\n",
       "      <td>NaT</td>\n",
       "      <td>Новокузнецк</td>\n",
       "      <td>Татьяна</td>\n",
       "      <td>Авдеенко</td>\n",
       "      <td>2018-05-14</td>\n",
       "      <td>ultra</td>\n",
       "    </tr>\n",
       "  </tbody>\n",
       "</table>\n",
       "</div>"
      ],
      "text/plain": [
       "   user_id  age churn_date         city first_name  last_name   reg_date  \\\n",
       "0     1000   52        NaT    Краснодар     Рафаил  Верещагин 2018-05-25   \n",
       "1     1001   41        NaT       Москва       Иван       Ежов 2018-11-01   \n",
       "2     1002   59        NaT  Стерлитамак    Евгений  Абрамович 2018-06-17   \n",
       "3     1003   23        NaT       Москва      Белла   Белякова 2018-08-17   \n",
       "4     1004   68        NaT  Новокузнецк    Татьяна   Авдеенко 2018-05-14   \n",
       "\n",
       "  tariff  \n",
       "0  ultra  \n",
       "1  smart  \n",
       "2  smart  \n",
       "3  ultra  \n",
       "4  ultra  "
      ]
     },
     "metadata": {},
     "output_type": "display_data"
    },
    {
     "name": "stdout",
     "output_type": "stream",
     "text": [
      "<class 'pandas.core.frame.DataFrame'>\n",
      "RangeIndex: 500 entries, 0 to 499\n",
      "Data columns (total 8 columns):\n",
      " #   Column      Non-Null Count  Dtype         \n",
      "---  ------      --------------  -----         \n",
      " 0   user_id     500 non-null    int64         \n",
      " 1   age         500 non-null    int64         \n",
      " 2   churn_date  38 non-null     datetime64[ns]\n",
      " 3   city        500 non-null    object        \n",
      " 4   first_name  500 non-null    object        \n",
      " 5   last_name   500 non-null    object        \n",
      " 6   reg_date    500 non-null    datetime64[ns]\n",
      " 7   tariff      500 non-null    object        \n",
      "dtypes: datetime64[ns](2), int64(2), object(4)\n",
      "memory usage: 31.4+ KB\n",
      "None\n"
     ]
    },
    {
     "data": {
      "text/html": [
       "<div>\n",
       "<style scoped>\n",
       "    .dataframe tbody tr th:only-of-type {\n",
       "        vertical-align: middle;\n",
       "    }\n",
       "\n",
       "    .dataframe tbody tr th {\n",
       "        vertical-align: top;\n",
       "    }\n",
       "\n",
       "    .dataframe thead th {\n",
       "        text-align: right;\n",
       "    }\n",
       "</style>\n",
       "<table border=\"1\" class=\"dataframe\">\n",
       "  <thead>\n",
       "    <tr style=\"text-align: right;\">\n",
       "      <th></th>\n",
       "      <th>id</th>\n",
       "      <th>call_date</th>\n",
       "      <th>duration</th>\n",
       "      <th>user_id</th>\n",
       "    </tr>\n",
       "  </thead>\n",
       "  <tbody>\n",
       "    <tr>\n",
       "      <th>0</th>\n",
       "      <td>1000_0</td>\n",
       "      <td>2018-07-25</td>\n",
       "      <td>0.00</td>\n",
       "      <td>1000</td>\n",
       "    </tr>\n",
       "    <tr>\n",
       "      <th>1</th>\n",
       "      <td>1000_1</td>\n",
       "      <td>2018-08-17</td>\n",
       "      <td>0.00</td>\n",
       "      <td>1000</td>\n",
       "    </tr>\n",
       "    <tr>\n",
       "      <th>2</th>\n",
       "      <td>1000_2</td>\n",
       "      <td>2018-06-11</td>\n",
       "      <td>2.85</td>\n",
       "      <td>1000</td>\n",
       "    </tr>\n",
       "    <tr>\n",
       "      <th>3</th>\n",
       "      <td>1000_3</td>\n",
       "      <td>2018-09-21</td>\n",
       "      <td>13.80</td>\n",
       "      <td>1000</td>\n",
       "    </tr>\n",
       "    <tr>\n",
       "      <th>4</th>\n",
       "      <td>1000_4</td>\n",
       "      <td>2018-12-15</td>\n",
       "      <td>5.18</td>\n",
       "      <td>1000</td>\n",
       "    </tr>\n",
       "  </tbody>\n",
       "</table>\n",
       "</div>"
      ],
      "text/plain": [
       "       id  call_date  duration  user_id\n",
       "0  1000_0 2018-07-25      0.00     1000\n",
       "1  1000_1 2018-08-17      0.00     1000\n",
       "2  1000_2 2018-06-11      2.85     1000\n",
       "3  1000_3 2018-09-21     13.80     1000\n",
       "4  1000_4 2018-12-15      5.18     1000"
      ]
     },
     "metadata": {},
     "output_type": "display_data"
    },
    {
     "name": "stdout",
     "output_type": "stream",
     "text": [
      "<class 'pandas.core.frame.DataFrame'>\n",
      "RangeIndex: 202607 entries, 0 to 202606\n",
      "Data columns (total 4 columns):\n",
      " #   Column     Non-Null Count   Dtype         \n",
      "---  ------     --------------   -----         \n",
      " 0   id         202607 non-null  object        \n",
      " 1   call_date  202607 non-null  datetime64[ns]\n",
      " 2   duration   202607 non-null  float64       \n",
      " 3   user_id    202607 non-null  int64         \n",
      "dtypes: datetime64[ns](1), float64(1), int64(1), object(1)\n",
      "memory usage: 6.2+ MB\n",
      "None\n"
     ]
    },
    {
     "data": {
      "text/html": [
       "<div>\n",
       "<style scoped>\n",
       "    .dataframe tbody tr th:only-of-type {\n",
       "        vertical-align: middle;\n",
       "    }\n",
       "\n",
       "    .dataframe tbody tr th {\n",
       "        vertical-align: top;\n",
       "    }\n",
       "\n",
       "    .dataframe thead th {\n",
       "        text-align: right;\n",
       "    }\n",
       "</style>\n",
       "<table border=\"1\" class=\"dataframe\">\n",
       "  <thead>\n",
       "    <tr style=\"text-align: right;\">\n",
       "      <th></th>\n",
       "      <th>id</th>\n",
       "      <th>message_date</th>\n",
       "      <th>user_id</th>\n",
       "    </tr>\n",
       "  </thead>\n",
       "  <tbody>\n",
       "    <tr>\n",
       "      <th>0</th>\n",
       "      <td>1000_0</td>\n",
       "      <td>2018-06-27</td>\n",
       "      <td>1000</td>\n",
       "    </tr>\n",
       "    <tr>\n",
       "      <th>1</th>\n",
       "      <td>1000_1</td>\n",
       "      <td>2018-10-08</td>\n",
       "      <td>1000</td>\n",
       "    </tr>\n",
       "    <tr>\n",
       "      <th>2</th>\n",
       "      <td>1000_2</td>\n",
       "      <td>2018-08-04</td>\n",
       "      <td>1000</td>\n",
       "    </tr>\n",
       "    <tr>\n",
       "      <th>3</th>\n",
       "      <td>1000_3</td>\n",
       "      <td>2018-06-16</td>\n",
       "      <td>1000</td>\n",
       "    </tr>\n",
       "    <tr>\n",
       "      <th>4</th>\n",
       "      <td>1000_4</td>\n",
       "      <td>2018-12-05</td>\n",
       "      <td>1000</td>\n",
       "    </tr>\n",
       "  </tbody>\n",
       "</table>\n",
       "</div>"
      ],
      "text/plain": [
       "       id message_date  user_id\n",
       "0  1000_0   2018-06-27     1000\n",
       "1  1000_1   2018-10-08     1000\n",
       "2  1000_2   2018-08-04     1000\n",
       "3  1000_3   2018-06-16     1000\n",
       "4  1000_4   2018-12-05     1000"
      ]
     },
     "metadata": {},
     "output_type": "display_data"
    },
    {
     "name": "stdout",
     "output_type": "stream",
     "text": [
      "<class 'pandas.core.frame.DataFrame'>\n",
      "RangeIndex: 123036 entries, 0 to 123035\n",
      "Data columns (total 3 columns):\n",
      " #   Column        Non-Null Count   Dtype         \n",
      "---  ------        --------------   -----         \n",
      " 0   id            123036 non-null  object        \n",
      " 1   message_date  123036 non-null  datetime64[ns]\n",
      " 2   user_id       123036 non-null  int64         \n",
      "dtypes: datetime64[ns](1), int64(1), object(1)\n",
      "memory usage: 2.8+ MB\n",
      "None\n"
     ]
    },
    {
     "data": {
      "text/html": [
       "<div>\n",
       "<style scoped>\n",
       "    .dataframe tbody tr th:only-of-type {\n",
       "        vertical-align: middle;\n",
       "    }\n",
       "\n",
       "    .dataframe tbody tr th {\n",
       "        vertical-align: top;\n",
       "    }\n",
       "\n",
       "    .dataframe thead th {\n",
       "        text-align: right;\n",
       "    }\n",
       "</style>\n",
       "<table border=\"1\" class=\"dataframe\">\n",
       "  <thead>\n",
       "    <tr style=\"text-align: right;\">\n",
       "      <th></th>\n",
       "      <th>id</th>\n",
       "      <th>mb_used</th>\n",
       "      <th>session_date</th>\n",
       "      <th>user_id</th>\n",
       "    </tr>\n",
       "  </thead>\n",
       "  <tbody>\n",
       "    <tr>\n",
       "      <th>0</th>\n",
       "      <td>1000_0</td>\n",
       "      <td>112.95</td>\n",
       "      <td>2018-11-25</td>\n",
       "      <td>1000</td>\n",
       "    </tr>\n",
       "    <tr>\n",
       "      <th>1</th>\n",
       "      <td>1000_1</td>\n",
       "      <td>1052.81</td>\n",
       "      <td>2018-09-07</td>\n",
       "      <td>1000</td>\n",
       "    </tr>\n",
       "    <tr>\n",
       "      <th>2</th>\n",
       "      <td>1000_2</td>\n",
       "      <td>1197.26</td>\n",
       "      <td>2018-06-25</td>\n",
       "      <td>1000</td>\n",
       "    </tr>\n",
       "    <tr>\n",
       "      <th>3</th>\n",
       "      <td>1000_3</td>\n",
       "      <td>550.27</td>\n",
       "      <td>2018-08-22</td>\n",
       "      <td>1000</td>\n",
       "    </tr>\n",
       "    <tr>\n",
       "      <th>4</th>\n",
       "      <td>1000_4</td>\n",
       "      <td>302.56</td>\n",
       "      <td>2018-09-24</td>\n",
       "      <td>1000</td>\n",
       "    </tr>\n",
       "  </tbody>\n",
       "</table>\n",
       "</div>"
      ],
      "text/plain": [
       "       id  mb_used session_date  user_id\n",
       "0  1000_0   112.95   2018-11-25     1000\n",
       "1  1000_1  1052.81   2018-09-07     1000\n",
       "2  1000_2  1197.26   2018-06-25     1000\n",
       "3  1000_3   550.27   2018-08-22     1000\n",
       "4  1000_4   302.56   2018-09-24     1000"
      ]
     },
     "metadata": {},
     "output_type": "display_data"
    },
    {
     "name": "stdout",
     "output_type": "stream",
     "text": [
      "<class 'pandas.core.frame.DataFrame'>\n",
      "Int64Index: 149396 entries, 0 to 149395\n",
      "Data columns (total 4 columns):\n",
      " #   Column        Non-Null Count   Dtype         \n",
      "---  ------        --------------   -----         \n",
      " 0   id            149396 non-null  object        \n",
      " 1   mb_used       149396 non-null  float64       \n",
      " 2   session_date  149396 non-null  datetime64[ns]\n",
      " 3   user_id       149396 non-null  int64         \n",
      "dtypes: datetime64[ns](1), float64(1), int64(1), object(1)\n",
      "memory usage: 5.7+ MB\n",
      "None\n"
     ]
    },
    {
     "data": {
      "text/html": [
       "<div>\n",
       "<style scoped>\n",
       "    .dataframe tbody tr th:only-of-type {\n",
       "        vertical-align: middle;\n",
       "    }\n",
       "\n",
       "    .dataframe tbody tr th {\n",
       "        vertical-align: top;\n",
       "    }\n",
       "\n",
       "    .dataframe thead th {\n",
       "        text-align: right;\n",
       "    }\n",
       "</style>\n",
       "<table border=\"1\" class=\"dataframe\">\n",
       "  <thead>\n",
       "    <tr style=\"text-align: right;\">\n",
       "      <th></th>\n",
       "      <th>messages_included</th>\n",
       "      <th>mb_per_month_included</th>\n",
       "      <th>minutes_included</th>\n",
       "      <th>rub_monthly_fee</th>\n",
       "      <th>rub_per_gb</th>\n",
       "      <th>rub_per_message</th>\n",
       "      <th>rub_per_minute</th>\n",
       "      <th>tariff_name</th>\n",
       "    </tr>\n",
       "  </thead>\n",
       "  <tbody>\n",
       "    <tr>\n",
       "      <th>0</th>\n",
       "      <td>50</td>\n",
       "      <td>15360</td>\n",
       "      <td>500</td>\n",
       "      <td>550</td>\n",
       "      <td>200</td>\n",
       "      <td>3</td>\n",
       "      <td>3</td>\n",
       "      <td>smart</td>\n",
       "    </tr>\n",
       "    <tr>\n",
       "      <th>1</th>\n",
       "      <td>1000</td>\n",
       "      <td>30720</td>\n",
       "      <td>3000</td>\n",
       "      <td>1950</td>\n",
       "      <td>150</td>\n",
       "      <td>1</td>\n",
       "      <td>1</td>\n",
       "      <td>ultra</td>\n",
       "    </tr>\n",
       "  </tbody>\n",
       "</table>\n",
       "</div>"
      ],
      "text/plain": [
       "   messages_included  mb_per_month_included  minutes_included  \\\n",
       "0                 50                  15360               500   \n",
       "1               1000                  30720              3000   \n",
       "\n",
       "   rub_monthly_fee  rub_per_gb  rub_per_message  rub_per_minute tariff_name  \n",
       "0              550         200                3               3       smart  \n",
       "1             1950         150                1               1       ultra  "
      ]
     },
     "metadata": {},
     "output_type": "display_data"
    },
    {
     "name": "stdout",
     "output_type": "stream",
     "text": [
      "<class 'pandas.core.frame.DataFrame'>\n",
      "RangeIndex: 2 entries, 0 to 1\n",
      "Data columns (total 8 columns):\n",
      " #   Column                 Non-Null Count  Dtype \n",
      "---  ------                 --------------  ----- \n",
      " 0   messages_included      2 non-null      int64 \n",
      " 1   mb_per_month_included  2 non-null      int64 \n",
      " 2   minutes_included       2 non-null      int64 \n",
      " 3   rub_monthly_fee        2 non-null      int64 \n",
      " 4   rub_per_gb             2 non-null      int64 \n",
      " 5   rub_per_message        2 non-null      int64 \n",
      " 6   rub_per_minute         2 non-null      int64 \n",
      " 7   tariff_name            2 non-null      object\n",
      "dtypes: int64(7), object(1)\n",
      "memory usage: 256.0+ bytes\n",
      "None\n"
     ]
    }
   ],
   "source": [
    "users = pd.read_csv('datasets/users.csv', parse_dates=['churn_date','reg_date'])\n",
    "display(users.head())\n",
    "print(users.info())\n",
    "\n",
    "calls = pd.read_csv('datasets/calls.csv', parse_dates=['call_date'])\n",
    "display(calls.head())\n",
    "print(calls.info())\n",
    "\n",
    "messages = pd.read_csv('datasets/messages.csv', parse_dates=['message_date'])\n",
    "display(messages.head())\n",
    "print(messages.info())\n",
    "\n",
    "internet = pd.read_csv('datasets/internet.csv', parse_dates=['session_date'], index_col=0)\n",
    "display(internet.head())\n",
    "print(internet.info())\n",
    "\n",
    "tariffs = pd.read_csv('datasets/tariffs.csv')\n",
    "display(tariffs.head())\n",
    "print(tariffs.info())"
   ]
  },
  {
   "cell_type": "markdown",
   "metadata": {},
   "source": [
    "We loaded the data of five tables:\n",
    "* in read_csv(), we set parse_dates, so that the columns with the date immediately took the desired format;\n",
    "* when reading the internet table, index_col=0 was specified"
   ]
  },
  {
   "cell_type": "markdown",
   "metadata": {},
   "source": [
    "## Step 2. Data preparation"
   ]
  },
  {
   "cell_type": "markdown",
   "metadata": {},
   "source": [
    "### Preparation of the table \"Calls\""
   ]
  },
  {
   "cell_type": "code",
   "execution_count": 3,
   "metadata": {},
   "outputs": [
    {
     "data": {
      "text/html": [
       "<div>\n",
       "<style scoped>\n",
       "    .dataframe tbody tr th:only-of-type {\n",
       "        vertical-align: middle;\n",
       "    }\n",
       "\n",
       "    .dataframe tbody tr th {\n",
       "        vertical-align: top;\n",
       "    }\n",
       "\n",
       "    .dataframe thead th {\n",
       "        text-align: right;\n",
       "    }\n",
       "</style>\n",
       "<table border=\"1\" class=\"dataframe\">\n",
       "  <thead>\n",
       "    <tr style=\"text-align: right;\">\n",
       "      <th></th>\n",
       "      <th>id</th>\n",
       "      <th>call_date</th>\n",
       "      <th>duration</th>\n",
       "      <th>user_id</th>\n",
       "    </tr>\n",
       "  </thead>\n",
       "  <tbody>\n",
       "    <tr>\n",
       "      <th>0</th>\n",
       "      <td>1000_0</td>\n",
       "      <td>2018-07-25</td>\n",
       "      <td>0.00</td>\n",
       "      <td>1000</td>\n",
       "    </tr>\n",
       "    <tr>\n",
       "      <th>1</th>\n",
       "      <td>1000_1</td>\n",
       "      <td>2018-08-17</td>\n",
       "      <td>0.00</td>\n",
       "      <td>1000</td>\n",
       "    </tr>\n",
       "    <tr>\n",
       "      <th>2</th>\n",
       "      <td>1000_2</td>\n",
       "      <td>2018-06-11</td>\n",
       "      <td>2.85</td>\n",
       "      <td>1000</td>\n",
       "    </tr>\n",
       "    <tr>\n",
       "      <th>3</th>\n",
       "      <td>1000_3</td>\n",
       "      <td>2018-09-21</td>\n",
       "      <td>13.80</td>\n",
       "      <td>1000</td>\n",
       "    </tr>\n",
       "    <tr>\n",
       "      <th>4</th>\n",
       "      <td>1000_4</td>\n",
       "      <td>2018-12-15</td>\n",
       "      <td>5.18</td>\n",
       "      <td>1000</td>\n",
       "    </tr>\n",
       "  </tbody>\n",
       "</table>\n",
       "</div>"
      ],
      "text/plain": [
       "       id  call_date  duration  user_id\n",
       "0  1000_0 2018-07-25      0.00     1000\n",
       "1  1000_1 2018-08-17      0.00     1000\n",
       "2  1000_2 2018-06-11      2.85     1000\n",
       "3  1000_3 2018-09-21     13.80     1000\n",
       "4  1000_4 2018-12-15      5.18     1000"
      ]
     },
     "execution_count": 3,
     "metadata": {},
     "output_type": "execute_result"
    }
   ],
   "source": [
    "calls.head()"
   ]
  },
  {
   "cell_type": "code",
   "execution_count": 4,
   "metadata": {},
   "outputs": [
    {
     "name": "stdout",
     "output_type": "stream",
     "text": [
      "<class 'pandas.core.frame.DataFrame'>\n",
      "RangeIndex: 202607 entries, 0 to 202606\n",
      "Data columns (total 4 columns):\n",
      " #   Column     Non-Null Count   Dtype         \n",
      "---  ------     --------------   -----         \n",
      " 0   id         202607 non-null  object        \n",
      " 1   call_date  202607 non-null  datetime64[ns]\n",
      " 2   duration   202607 non-null  float64       \n",
      " 3   user_id    202607 non-null  int64         \n",
      "dtypes: datetime64[ns](1), float64(1), int64(1), object(1)\n",
      "memory usage: 6.2+ MB\n"
     ]
    }
   ],
   "source": [
    "calls.info()"
   ]
  },
  {
   "cell_type": "code",
   "execution_count": 5,
   "metadata": {},
   "outputs": [],
   "source": [
    "calls['duration'] = np.ceil(calls['duration']).astype('int')"
   ]
  },
  {
   "cell_type": "markdown",
   "metadata": {},
   "source": [
    "*It is necessary to round up the duration before summing. This is consistent with how the operator fixes revenue.*"
   ]
  },
  {
   "cell_type": "code",
   "execution_count": 6,
   "metadata": {},
   "outputs": [
    {
     "data": {
      "text/html": [
       "<div>\n",
       "<style scoped>\n",
       "    .dataframe tbody tr th:only-of-type {\n",
       "        vertical-align: middle;\n",
       "    }\n",
       "\n",
       "    .dataframe tbody tr th {\n",
       "        vertical-align: top;\n",
       "    }\n",
       "\n",
       "    .dataframe thead th {\n",
       "        text-align: right;\n",
       "    }\n",
       "</style>\n",
       "<table border=\"1\" class=\"dataframe\">\n",
       "  <thead>\n",
       "    <tr style=\"text-align: right;\">\n",
       "      <th></th>\n",
       "      <th>id</th>\n",
       "      <th>call_date</th>\n",
       "      <th>duration</th>\n",
       "      <th>user_id</th>\n",
       "      <th>year</th>\n",
       "      <th>month</th>\n",
       "      <th>day</th>\n",
       "    </tr>\n",
       "  </thead>\n",
       "  <tbody>\n",
       "    <tr>\n",
       "      <th>0</th>\n",
       "      <td>1000_0</td>\n",
       "      <td>2018-07-25</td>\n",
       "      <td>0</td>\n",
       "      <td>1000</td>\n",
       "      <td>2018</td>\n",
       "      <td>7</td>\n",
       "      <td>25</td>\n",
       "    </tr>\n",
       "    <tr>\n",
       "      <th>1</th>\n",
       "      <td>1000_1</td>\n",
       "      <td>2018-08-17</td>\n",
       "      <td>0</td>\n",
       "      <td>1000</td>\n",
       "      <td>2018</td>\n",
       "      <td>8</td>\n",
       "      <td>17</td>\n",
       "    </tr>\n",
       "    <tr>\n",
       "      <th>2</th>\n",
       "      <td>1000_2</td>\n",
       "      <td>2018-06-11</td>\n",
       "      <td>3</td>\n",
       "      <td>1000</td>\n",
       "      <td>2018</td>\n",
       "      <td>6</td>\n",
       "      <td>11</td>\n",
       "    </tr>\n",
       "    <tr>\n",
       "      <th>3</th>\n",
       "      <td>1000_3</td>\n",
       "      <td>2018-09-21</td>\n",
       "      <td>14</td>\n",
       "      <td>1000</td>\n",
       "      <td>2018</td>\n",
       "      <td>9</td>\n",
       "      <td>21</td>\n",
       "    </tr>\n",
       "    <tr>\n",
       "      <th>4</th>\n",
       "      <td>1000_4</td>\n",
       "      <td>2018-12-15</td>\n",
       "      <td>6</td>\n",
       "      <td>1000</td>\n",
       "      <td>2018</td>\n",
       "      <td>12</td>\n",
       "      <td>15</td>\n",
       "    </tr>\n",
       "  </tbody>\n",
       "</table>\n",
       "</div>"
      ],
      "text/plain": [
       "       id  call_date  duration  user_id  year  month  day\n",
       "0  1000_0 2018-07-25         0     1000  2018      7   25\n",
       "1  1000_1 2018-08-17         0     1000  2018      8   17\n",
       "2  1000_2 2018-06-11         3     1000  2018      6   11\n",
       "3  1000_3 2018-09-21        14     1000  2018      9   21\n",
       "4  1000_4 2018-12-15         6     1000  2018     12   15"
      ]
     },
     "execution_count": 6,
     "metadata": {},
     "output_type": "execute_result"
    }
   ],
   "source": [
    "calls['year'] = pd.DatetimeIndex(calls['call_date']).year\n",
    "calls['month'] = pd.DatetimeIndex(calls['call_date']).month\n",
    "calls['day'] = pd.DatetimeIndex(calls['call_date']).day\n",
    "calls.head()"
   ]
  },
  {
   "cell_type": "markdown",
   "metadata": {},
   "source": [
    "Number and duration of calls of each user by month:"
   ]
  },
  {
   "cell_type": "code",
   "execution_count": 7,
   "metadata": {},
   "outputs": [
    {
     "data": {
      "text/html": [
       "<div>\n",
       "<style scoped>\n",
       "    .dataframe tbody tr th:only-of-type {\n",
       "        vertical-align: middle;\n",
       "    }\n",
       "\n",
       "    .dataframe tbody tr th {\n",
       "        vertical-align: top;\n",
       "    }\n",
       "\n",
       "    .dataframe thead th {\n",
       "        text-align: right;\n",
       "    }\n",
       "</style>\n",
       "<table border=\"1\" class=\"dataframe\">\n",
       "  <thead>\n",
       "    <tr style=\"text-align: right;\">\n",
       "      <th></th>\n",
       "      <th>user_id</th>\n",
       "      <th>month</th>\n",
       "      <th>sum_calls</th>\n",
       "      <th>count_calls</th>\n",
       "    </tr>\n",
       "  </thead>\n",
       "  <tbody>\n",
       "    <tr>\n",
       "      <th>0</th>\n",
       "      <td>1000</td>\n",
       "      <td>5</td>\n",
       "      <td>159</td>\n",
       "      <td>22</td>\n",
       "    </tr>\n",
       "    <tr>\n",
       "      <th>1</th>\n",
       "      <td>1000</td>\n",
       "      <td>6</td>\n",
       "      <td>172</td>\n",
       "      <td>43</td>\n",
       "    </tr>\n",
       "    <tr>\n",
       "      <th>2</th>\n",
       "      <td>1000</td>\n",
       "      <td>7</td>\n",
       "      <td>340</td>\n",
       "      <td>47</td>\n",
       "    </tr>\n",
       "    <tr>\n",
       "      <th>3</th>\n",
       "      <td>1000</td>\n",
       "      <td>8</td>\n",
       "      <td>408</td>\n",
       "      <td>52</td>\n",
       "    </tr>\n",
       "    <tr>\n",
       "      <th>4</th>\n",
       "      <td>1000</td>\n",
       "      <td>9</td>\n",
       "      <td>466</td>\n",
       "      <td>58</td>\n",
       "    </tr>\n",
       "    <tr>\n",
       "      <th>...</th>\n",
       "      <td>...</td>\n",
       "      <td>...</td>\n",
       "      <td>...</td>\n",
       "      <td>...</td>\n",
       "    </tr>\n",
       "    <tr>\n",
       "      <th>3169</th>\n",
       "      <td>1498</td>\n",
       "      <td>10</td>\n",
       "      <td>247</td>\n",
       "      <td>41</td>\n",
       "    </tr>\n",
       "    <tr>\n",
       "      <th>3170</th>\n",
       "      <td>1499</td>\n",
       "      <td>9</td>\n",
       "      <td>70</td>\n",
       "      <td>9</td>\n",
       "    </tr>\n",
       "    <tr>\n",
       "      <th>3171</th>\n",
       "      <td>1499</td>\n",
       "      <td>10</td>\n",
       "      <td>449</td>\n",
       "      <td>68</td>\n",
       "    </tr>\n",
       "    <tr>\n",
       "      <th>3172</th>\n",
       "      <td>1499</td>\n",
       "      <td>11</td>\n",
       "      <td>612</td>\n",
       "      <td>74</td>\n",
       "    </tr>\n",
       "    <tr>\n",
       "      <th>3173</th>\n",
       "      <td>1499</td>\n",
       "      <td>12</td>\n",
       "      <td>492</td>\n",
       "      <td>69</td>\n",
       "    </tr>\n",
       "  </tbody>\n",
       "</table>\n",
       "<p>3174 rows × 4 columns</p>\n",
       "</div>"
      ],
      "text/plain": [
       "      user_id  month  sum_calls  count_calls\n",
       "0        1000      5        159           22\n",
       "1        1000      6        172           43\n",
       "2        1000      7        340           47\n",
       "3        1000      8        408           52\n",
       "4        1000      9        466           58\n",
       "...       ...    ...        ...          ...\n",
       "3169     1498     10        247           41\n",
       "3170     1499      9         70            9\n",
       "3171     1499     10        449           68\n",
       "3172     1499     11        612           74\n",
       "3173     1499     12        492           69\n",
       "\n",
       "[3174 rows x 4 columns]"
      ]
     },
     "execution_count": 7,
     "metadata": {},
     "output_type": "execute_result"
    }
   ],
   "source": [
    "calls_pivot = pd.pivot_table(data = calls, index =['user_id','month'] , values = 'duration', aggfunc =['sum','count']).reset_index()\n",
    "calls_pivot.columns = ['user_id','month','sum_calls','count_calls']\n",
    "calls_pivot"
   ]
  },
  {
   "cell_type": "markdown",
   "metadata": {},
   "source": [
    "### Preparation of the table \"Messages\""
   ]
  },
  {
   "cell_type": "code",
   "execution_count": 8,
   "metadata": {},
   "outputs": [
    {
     "data": {
      "text/html": [
       "<div>\n",
       "<style scoped>\n",
       "    .dataframe tbody tr th:only-of-type {\n",
       "        vertical-align: middle;\n",
       "    }\n",
       "\n",
       "    .dataframe tbody tr th {\n",
       "        vertical-align: top;\n",
       "    }\n",
       "\n",
       "    .dataframe thead th {\n",
       "        text-align: right;\n",
       "    }\n",
       "</style>\n",
       "<table border=\"1\" class=\"dataframe\">\n",
       "  <thead>\n",
       "    <tr style=\"text-align: right;\">\n",
       "      <th></th>\n",
       "      <th>id</th>\n",
       "      <th>message_date</th>\n",
       "      <th>user_id</th>\n",
       "    </tr>\n",
       "  </thead>\n",
       "  <tbody>\n",
       "    <tr>\n",
       "      <th>0</th>\n",
       "      <td>1000_0</td>\n",
       "      <td>2018-06-27</td>\n",
       "      <td>1000</td>\n",
       "    </tr>\n",
       "    <tr>\n",
       "      <th>1</th>\n",
       "      <td>1000_1</td>\n",
       "      <td>2018-10-08</td>\n",
       "      <td>1000</td>\n",
       "    </tr>\n",
       "    <tr>\n",
       "      <th>2</th>\n",
       "      <td>1000_2</td>\n",
       "      <td>2018-08-04</td>\n",
       "      <td>1000</td>\n",
       "    </tr>\n",
       "    <tr>\n",
       "      <th>3</th>\n",
       "      <td>1000_3</td>\n",
       "      <td>2018-06-16</td>\n",
       "      <td>1000</td>\n",
       "    </tr>\n",
       "    <tr>\n",
       "      <th>4</th>\n",
       "      <td>1000_4</td>\n",
       "      <td>2018-12-05</td>\n",
       "      <td>1000</td>\n",
       "    </tr>\n",
       "  </tbody>\n",
       "</table>\n",
       "</div>"
      ],
      "text/plain": [
       "       id message_date  user_id\n",
       "0  1000_0   2018-06-27     1000\n",
       "1  1000_1   2018-10-08     1000\n",
       "2  1000_2   2018-08-04     1000\n",
       "3  1000_3   2018-06-16     1000\n",
       "4  1000_4   2018-12-05     1000"
      ]
     },
     "execution_count": 8,
     "metadata": {},
     "output_type": "execute_result"
    }
   ],
   "source": [
    "messages.head()"
   ]
  },
  {
   "cell_type": "code",
   "execution_count": 9,
   "metadata": {},
   "outputs": [
    {
     "name": "stdout",
     "output_type": "stream",
     "text": [
      "<class 'pandas.core.frame.DataFrame'>\n",
      "RangeIndex: 123036 entries, 0 to 123035\n",
      "Data columns (total 3 columns):\n",
      " #   Column        Non-Null Count   Dtype         \n",
      "---  ------        --------------   -----         \n",
      " 0   id            123036 non-null  object        \n",
      " 1   message_date  123036 non-null  datetime64[ns]\n",
      " 2   user_id       123036 non-null  int64         \n",
      "dtypes: datetime64[ns](1), int64(1), object(1)\n",
      "memory usage: 2.8+ MB\n"
     ]
    }
   ],
   "source": [
    "messages.info()"
   ]
  },
  {
   "cell_type": "code",
   "execution_count": 10,
   "metadata": {},
   "outputs": [
    {
     "data": {
      "text/html": [
       "<div>\n",
       "<style scoped>\n",
       "    .dataframe tbody tr th:only-of-type {\n",
       "        vertical-align: middle;\n",
       "    }\n",
       "\n",
       "    .dataframe tbody tr th {\n",
       "        vertical-align: top;\n",
       "    }\n",
       "\n",
       "    .dataframe thead th {\n",
       "        text-align: right;\n",
       "    }\n",
       "</style>\n",
       "<table border=\"1\" class=\"dataframe\">\n",
       "  <thead>\n",
       "    <tr style=\"text-align: right;\">\n",
       "      <th></th>\n",
       "      <th>id</th>\n",
       "      <th>message_date</th>\n",
       "      <th>user_id</th>\n",
       "      <th>year</th>\n",
       "      <th>month</th>\n",
       "      <th>day</th>\n",
       "    </tr>\n",
       "  </thead>\n",
       "  <tbody>\n",
       "    <tr>\n",
       "      <th>0</th>\n",
       "      <td>1000_0</td>\n",
       "      <td>2018-06-27</td>\n",
       "      <td>1000</td>\n",
       "      <td>2018</td>\n",
       "      <td>6</td>\n",
       "      <td>27</td>\n",
       "    </tr>\n",
       "    <tr>\n",
       "      <th>1</th>\n",
       "      <td>1000_1</td>\n",
       "      <td>2018-10-08</td>\n",
       "      <td>1000</td>\n",
       "      <td>2018</td>\n",
       "      <td>10</td>\n",
       "      <td>8</td>\n",
       "    </tr>\n",
       "    <tr>\n",
       "      <th>2</th>\n",
       "      <td>1000_2</td>\n",
       "      <td>2018-08-04</td>\n",
       "      <td>1000</td>\n",
       "      <td>2018</td>\n",
       "      <td>8</td>\n",
       "      <td>4</td>\n",
       "    </tr>\n",
       "    <tr>\n",
       "      <th>3</th>\n",
       "      <td>1000_3</td>\n",
       "      <td>2018-06-16</td>\n",
       "      <td>1000</td>\n",
       "      <td>2018</td>\n",
       "      <td>6</td>\n",
       "      <td>16</td>\n",
       "    </tr>\n",
       "    <tr>\n",
       "      <th>4</th>\n",
       "      <td>1000_4</td>\n",
       "      <td>2018-12-05</td>\n",
       "      <td>1000</td>\n",
       "      <td>2018</td>\n",
       "      <td>12</td>\n",
       "      <td>5</td>\n",
       "    </tr>\n",
       "  </tbody>\n",
       "</table>\n",
       "</div>"
      ],
      "text/plain": [
       "       id message_date  user_id  year  month  day\n",
       "0  1000_0   2018-06-27     1000  2018      6   27\n",
       "1  1000_1   2018-10-08     1000  2018     10    8\n",
       "2  1000_2   2018-08-04     1000  2018      8    4\n",
       "3  1000_3   2018-06-16     1000  2018      6   16\n",
       "4  1000_4   2018-12-05     1000  2018     12    5"
      ]
     },
     "execution_count": 10,
     "metadata": {},
     "output_type": "execute_result"
    }
   ],
   "source": [
    "messages['year'] = pd.DatetimeIndex(messages['message_date']).year\n",
    "messages['month'] = pd.DatetimeIndex(messages['message_date']).month\n",
    "messages['day'] = pd.DatetimeIndex(messages['message_date']).day\n",
    "messages.head()"
   ]
  },
  {
   "cell_type": "markdown",
   "metadata": {},
   "source": [
    "Number of messages of each user by month:"
   ]
  },
  {
   "cell_type": "code",
   "execution_count": 11,
   "metadata": {},
   "outputs": [
    {
     "data": {
      "text/html": [
       "<div>\n",
       "<style scoped>\n",
       "    .dataframe tbody tr th:only-of-type {\n",
       "        vertical-align: middle;\n",
       "    }\n",
       "\n",
       "    .dataframe tbody tr th {\n",
       "        vertical-align: top;\n",
       "    }\n",
       "\n",
       "    .dataframe thead th {\n",
       "        text-align: right;\n",
       "    }\n",
       "</style>\n",
       "<table border=\"1\" class=\"dataframe\">\n",
       "  <thead>\n",
       "    <tr style=\"text-align: right;\">\n",
       "      <th></th>\n",
       "      <th>user_id</th>\n",
       "      <th>month</th>\n",
       "      <th>count_messages</th>\n",
       "    </tr>\n",
       "  </thead>\n",
       "  <tbody>\n",
       "    <tr>\n",
       "      <th>0</th>\n",
       "      <td>1000</td>\n",
       "      <td>5</td>\n",
       "      <td>22</td>\n",
       "    </tr>\n",
       "    <tr>\n",
       "      <th>1</th>\n",
       "      <td>1000</td>\n",
       "      <td>6</td>\n",
       "      <td>60</td>\n",
       "    </tr>\n",
       "    <tr>\n",
       "      <th>2</th>\n",
       "      <td>1000</td>\n",
       "      <td>7</td>\n",
       "      <td>75</td>\n",
       "    </tr>\n",
       "    <tr>\n",
       "      <th>3</th>\n",
       "      <td>1000</td>\n",
       "      <td>8</td>\n",
       "      <td>81</td>\n",
       "    </tr>\n",
       "    <tr>\n",
       "      <th>4</th>\n",
       "      <td>1000</td>\n",
       "      <td>9</td>\n",
       "      <td>57</td>\n",
       "    </tr>\n",
       "    <tr>\n",
       "      <th>...</th>\n",
       "      <td>...</td>\n",
       "      <td>...</td>\n",
       "      <td>...</td>\n",
       "    </tr>\n",
       "    <tr>\n",
       "      <th>2712</th>\n",
       "      <td>1498</td>\n",
       "      <td>10</td>\n",
       "      <td>42</td>\n",
       "    </tr>\n",
       "    <tr>\n",
       "      <th>2713</th>\n",
       "      <td>1499</td>\n",
       "      <td>9</td>\n",
       "      <td>11</td>\n",
       "    </tr>\n",
       "    <tr>\n",
       "      <th>2714</th>\n",
       "      <td>1499</td>\n",
       "      <td>10</td>\n",
       "      <td>48</td>\n",
       "    </tr>\n",
       "    <tr>\n",
       "      <th>2715</th>\n",
       "      <td>1499</td>\n",
       "      <td>11</td>\n",
       "      <td>59</td>\n",
       "    </tr>\n",
       "    <tr>\n",
       "      <th>2716</th>\n",
       "      <td>1499</td>\n",
       "      <td>12</td>\n",
       "      <td>66</td>\n",
       "    </tr>\n",
       "  </tbody>\n",
       "</table>\n",
       "<p>2717 rows × 3 columns</p>\n",
       "</div>"
      ],
      "text/plain": [
       "      user_id  month  count_messages\n",
       "0        1000      5              22\n",
       "1        1000      6              60\n",
       "2        1000      7              75\n",
       "3        1000      8              81\n",
       "4        1000      9              57\n",
       "...       ...    ...             ...\n",
       "2712     1498     10              42\n",
       "2713     1499      9              11\n",
       "2714     1499     10              48\n",
       "2715     1499     11              59\n",
       "2716     1499     12              66\n",
       "\n",
       "[2717 rows x 3 columns]"
      ]
     },
     "execution_count": 11,
     "metadata": {},
     "output_type": "execute_result"
    }
   ],
   "source": [
    "messages_pivot = pd.pivot_table(data = messages, index =['user_id','month'] , values = 'year', aggfunc ='count').reset_index()\n",
    "messages_pivot.columns = ['user_id','month','count_messages']\n",
    "messages_pivot"
   ]
  },
  {
   "cell_type": "markdown",
   "metadata": {},
   "source": [
    "### Preparation of the table \"Internet\""
   ]
  },
  {
   "cell_type": "code",
   "execution_count": 12,
   "metadata": {},
   "outputs": [
    {
     "data": {
      "text/html": [
       "<div>\n",
       "<style scoped>\n",
       "    .dataframe tbody tr th:only-of-type {\n",
       "        vertical-align: middle;\n",
       "    }\n",
       "\n",
       "    .dataframe tbody tr th {\n",
       "        vertical-align: top;\n",
       "    }\n",
       "\n",
       "    .dataframe thead th {\n",
       "        text-align: right;\n",
       "    }\n",
       "</style>\n",
       "<table border=\"1\" class=\"dataframe\">\n",
       "  <thead>\n",
       "    <tr style=\"text-align: right;\">\n",
       "      <th></th>\n",
       "      <th>id</th>\n",
       "      <th>mb_used</th>\n",
       "      <th>session_date</th>\n",
       "      <th>user_id</th>\n",
       "    </tr>\n",
       "  </thead>\n",
       "  <tbody>\n",
       "    <tr>\n",
       "      <th>0</th>\n",
       "      <td>1000_0</td>\n",
       "      <td>112.95</td>\n",
       "      <td>2018-11-25</td>\n",
       "      <td>1000</td>\n",
       "    </tr>\n",
       "    <tr>\n",
       "      <th>1</th>\n",
       "      <td>1000_1</td>\n",
       "      <td>1052.81</td>\n",
       "      <td>2018-09-07</td>\n",
       "      <td>1000</td>\n",
       "    </tr>\n",
       "    <tr>\n",
       "      <th>2</th>\n",
       "      <td>1000_2</td>\n",
       "      <td>1197.26</td>\n",
       "      <td>2018-06-25</td>\n",
       "      <td>1000</td>\n",
       "    </tr>\n",
       "    <tr>\n",
       "      <th>3</th>\n",
       "      <td>1000_3</td>\n",
       "      <td>550.27</td>\n",
       "      <td>2018-08-22</td>\n",
       "      <td>1000</td>\n",
       "    </tr>\n",
       "    <tr>\n",
       "      <th>4</th>\n",
       "      <td>1000_4</td>\n",
       "      <td>302.56</td>\n",
       "      <td>2018-09-24</td>\n",
       "      <td>1000</td>\n",
       "    </tr>\n",
       "  </tbody>\n",
       "</table>\n",
       "</div>"
      ],
      "text/plain": [
       "       id  mb_used session_date  user_id\n",
       "0  1000_0   112.95   2018-11-25     1000\n",
       "1  1000_1  1052.81   2018-09-07     1000\n",
       "2  1000_2  1197.26   2018-06-25     1000\n",
       "3  1000_3   550.27   2018-08-22     1000\n",
       "4  1000_4   302.56   2018-09-24     1000"
      ]
     },
     "execution_count": 12,
     "metadata": {},
     "output_type": "execute_result"
    }
   ],
   "source": [
    "internet.head()"
   ]
  },
  {
   "cell_type": "code",
   "execution_count": 13,
   "metadata": {},
   "outputs": [
    {
     "data": {
      "text/plain": [
       "0.00      19598\n",
       "335.91        9\n",
       "447.30        9\n",
       "197.56        9\n",
       "199.11        8\n",
       "          ...  \n",
       "643.43        1\n",
       "973.04        1\n",
       "834.51        1\n",
       "777.30        1\n",
       "23.72         1\n",
       "Name: mb_used, Length: 70003, dtype: int64"
      ]
     },
     "execution_count": 13,
     "metadata": {},
     "output_type": "execute_result"
    }
   ],
   "source": [
    "internet['mb_used'].value_counts()"
   ]
  },
  {
   "cell_type": "markdown",
   "metadata": {},
   "source": [
    "*Zero values in the table with Internet traffic can be caused by both a technical failure and a situation when a person tried to access the Internet, but something happened with the connection and the Internet session was instantly interrupted.*"
   ]
  },
  {
   "cell_type": "code",
   "execution_count": 14,
   "metadata": {},
   "outputs": [
    {
     "data": {
      "text/html": [
       "<div>\n",
       "<style scoped>\n",
       "    .dataframe tbody tr th:only-of-type {\n",
       "        vertical-align: middle;\n",
       "    }\n",
       "\n",
       "    .dataframe tbody tr th {\n",
       "        vertical-align: top;\n",
       "    }\n",
       "\n",
       "    .dataframe thead th {\n",
       "        text-align: right;\n",
       "    }\n",
       "</style>\n",
       "<table border=\"1\" class=\"dataframe\">\n",
       "  <thead>\n",
       "    <tr style=\"text-align: right;\">\n",
       "      <th></th>\n",
       "      <th>id</th>\n",
       "      <th>mb_used</th>\n",
       "      <th>session_date</th>\n",
       "      <th>user_id</th>\n",
       "      <th>year</th>\n",
       "      <th>month</th>\n",
       "      <th>day</th>\n",
       "    </tr>\n",
       "  </thead>\n",
       "  <tbody>\n",
       "    <tr>\n",
       "      <th>0</th>\n",
       "      <td>1000_0</td>\n",
       "      <td>112.95</td>\n",
       "      <td>2018-11-25</td>\n",
       "      <td>1000</td>\n",
       "      <td>2018</td>\n",
       "      <td>11</td>\n",
       "      <td>25</td>\n",
       "    </tr>\n",
       "    <tr>\n",
       "      <th>1</th>\n",
       "      <td>1000_1</td>\n",
       "      <td>1052.81</td>\n",
       "      <td>2018-09-07</td>\n",
       "      <td>1000</td>\n",
       "      <td>2018</td>\n",
       "      <td>9</td>\n",
       "      <td>7</td>\n",
       "    </tr>\n",
       "    <tr>\n",
       "      <th>2</th>\n",
       "      <td>1000_2</td>\n",
       "      <td>1197.26</td>\n",
       "      <td>2018-06-25</td>\n",
       "      <td>1000</td>\n",
       "      <td>2018</td>\n",
       "      <td>6</td>\n",
       "      <td>25</td>\n",
       "    </tr>\n",
       "    <tr>\n",
       "      <th>3</th>\n",
       "      <td>1000_3</td>\n",
       "      <td>550.27</td>\n",
       "      <td>2018-08-22</td>\n",
       "      <td>1000</td>\n",
       "      <td>2018</td>\n",
       "      <td>8</td>\n",
       "      <td>22</td>\n",
       "    </tr>\n",
       "    <tr>\n",
       "      <th>4</th>\n",
       "      <td>1000_4</td>\n",
       "      <td>302.56</td>\n",
       "      <td>2018-09-24</td>\n",
       "      <td>1000</td>\n",
       "      <td>2018</td>\n",
       "      <td>9</td>\n",
       "      <td>24</td>\n",
       "    </tr>\n",
       "  </tbody>\n",
       "</table>\n",
       "</div>"
      ],
      "text/plain": [
       "       id  mb_used session_date  user_id  year  month  day\n",
       "0  1000_0   112.95   2018-11-25     1000  2018     11   25\n",
       "1  1000_1  1052.81   2018-09-07     1000  2018      9    7\n",
       "2  1000_2  1197.26   2018-06-25     1000  2018      6   25\n",
       "3  1000_3   550.27   2018-08-22     1000  2018      8   22\n",
       "4  1000_4   302.56   2018-09-24     1000  2018      9   24"
      ]
     },
     "execution_count": 14,
     "metadata": {},
     "output_type": "execute_result"
    }
   ],
   "source": [
    "internet['year'] = pd.DatetimeIndex(internet['session_date']).year\n",
    "internet['month'] = pd.DatetimeIndex(internet['session_date']).month\n",
    "internet['day'] = pd.DatetimeIndex(internet['session_date']).day\n",
    "internet.head()"
   ]
  },
  {
   "cell_type": "markdown",
   "metadata": {},
   "source": [
    "GB and MB of each user by month:"
   ]
  },
  {
   "cell_type": "code",
   "execution_count": 15,
   "metadata": {},
   "outputs": [
    {
     "data": {
      "text/html": [
       "<div>\n",
       "<style scoped>\n",
       "    .dataframe tbody tr th:only-of-type {\n",
       "        vertical-align: middle;\n",
       "    }\n",
       "\n",
       "    .dataframe tbody tr th {\n",
       "        vertical-align: top;\n",
       "    }\n",
       "\n",
       "    .dataframe thead th {\n",
       "        text-align: right;\n",
       "    }\n",
       "</style>\n",
       "<table border=\"1\" class=\"dataframe\">\n",
       "  <thead>\n",
       "    <tr style=\"text-align: right;\">\n",
       "      <th></th>\n",
       "      <th>user_id</th>\n",
       "      <th>month</th>\n",
       "      <th>sum_mb</th>\n",
       "      <th>sum_gb</th>\n",
       "    </tr>\n",
       "  </thead>\n",
       "  <tbody>\n",
       "    <tr>\n",
       "      <th>0</th>\n",
       "      <td>1000</td>\n",
       "      <td>5</td>\n",
       "      <td>2253.49</td>\n",
       "      <td>3.0</td>\n",
       "    </tr>\n",
       "    <tr>\n",
       "      <th>1</th>\n",
       "      <td>1000</td>\n",
       "      <td>6</td>\n",
       "      <td>23233.77</td>\n",
       "      <td>23.0</td>\n",
       "    </tr>\n",
       "    <tr>\n",
       "      <th>2</th>\n",
       "      <td>1000</td>\n",
       "      <td>7</td>\n",
       "      <td>14003.64</td>\n",
       "      <td>14.0</td>\n",
       "    </tr>\n",
       "    <tr>\n",
       "      <th>3</th>\n",
       "      <td>1000</td>\n",
       "      <td>8</td>\n",
       "      <td>14055.93</td>\n",
       "      <td>14.0</td>\n",
       "    </tr>\n",
       "    <tr>\n",
       "      <th>4</th>\n",
       "      <td>1000</td>\n",
       "      <td>9</td>\n",
       "      <td>14568.91</td>\n",
       "      <td>15.0</td>\n",
       "    </tr>\n",
       "    <tr>\n",
       "      <th>...</th>\n",
       "      <td>...</td>\n",
       "      <td>...</td>\n",
       "      <td>...</td>\n",
       "      <td>...</td>\n",
       "    </tr>\n",
       "    <tr>\n",
       "      <th>3198</th>\n",
       "      <td>1498</td>\n",
       "      <td>10</td>\n",
       "      <td>20579.36</td>\n",
       "      <td>21.0</td>\n",
       "    </tr>\n",
       "    <tr>\n",
       "      <th>3199</th>\n",
       "      <td>1499</td>\n",
       "      <td>9</td>\n",
       "      <td>1845.75</td>\n",
       "      <td>2.0</td>\n",
       "    </tr>\n",
       "    <tr>\n",
       "      <th>3200</th>\n",
       "      <td>1499</td>\n",
       "      <td>10</td>\n",
       "      <td>17788.51</td>\n",
       "      <td>18.0</td>\n",
       "    </tr>\n",
       "    <tr>\n",
       "      <th>3201</th>\n",
       "      <td>1499</td>\n",
       "      <td>11</td>\n",
       "      <td>17963.31</td>\n",
       "      <td>18.0</td>\n",
       "    </tr>\n",
       "    <tr>\n",
       "      <th>3202</th>\n",
       "      <td>1499</td>\n",
       "      <td>12</td>\n",
       "      <td>13055.58</td>\n",
       "      <td>13.0</td>\n",
       "    </tr>\n",
       "  </tbody>\n",
       "</table>\n",
       "<p>3203 rows × 4 columns</p>\n",
       "</div>"
      ],
      "text/plain": [
       "      user_id  month    sum_mb  sum_gb\n",
       "0        1000      5   2253.49     3.0\n",
       "1        1000      6  23233.77    23.0\n",
       "2        1000      7  14003.64    14.0\n",
       "3        1000      8  14055.93    14.0\n",
       "4        1000      9  14568.91    15.0\n",
       "...       ...    ...       ...     ...\n",
       "3198     1498     10  20579.36    21.0\n",
       "3199     1499      9   1845.75     2.0\n",
       "3200     1499     10  17788.51    18.0\n",
       "3201     1499     11  17963.31    18.0\n",
       "3202     1499     12  13055.58    13.0\n",
       "\n",
       "[3203 rows x 4 columns]"
      ]
     },
     "execution_count": 15,
     "metadata": {},
     "output_type": "execute_result"
    }
   ],
   "source": [
    "internet_pivot = pd.pivot_table(data = internet, index =['user_id','month'] , values = 'mb_used', aggfunc ='sum').reset_index()\n",
    "internet_pivot.columns = ['user_id','month','sum_mb']\n",
    "internet_pivot['sum_gb'] =np.ceil(internet_pivot['sum_mb']/1024)\n",
    "internet_pivot"
   ]
  },
  {
   "cell_type": "markdown",
   "metadata": {},
   "source": [
    "Monthly indicators are calculated. Traffic is also rounded correctly. The data is prepared for further calculations."
   ]
  },
  {
   "cell_type": "markdown",
   "metadata": {},
   "source": [
    "### Combine the prepared data"
   ]
  },
  {
   "cell_type": "code",
   "execution_count": 16,
   "metadata": {},
   "outputs": [
    {
     "data": {
      "text/html": [
       "<div>\n",
       "<style scoped>\n",
       "    .dataframe tbody tr th:only-of-type {\n",
       "        vertical-align: middle;\n",
       "    }\n",
       "\n",
       "    .dataframe tbody tr th {\n",
       "        vertical-align: top;\n",
       "    }\n",
       "\n",
       "    .dataframe thead th {\n",
       "        text-align: right;\n",
       "    }\n",
       "</style>\n",
       "<table border=\"1\" class=\"dataframe\">\n",
       "  <thead>\n",
       "    <tr style=\"text-align: right;\">\n",
       "      <th></th>\n",
       "      <th>user_id</th>\n",
       "      <th>month</th>\n",
       "      <th>sum_calls</th>\n",
       "      <th>count_calls</th>\n",
       "      <th>count_messages</th>\n",
       "      <th>sum_mb</th>\n",
       "      <th>sum_gb</th>\n",
       "    </tr>\n",
       "  </thead>\n",
       "  <tbody>\n",
       "    <tr>\n",
       "      <th>0</th>\n",
       "      <td>1000</td>\n",
       "      <td>5</td>\n",
       "      <td>159.0</td>\n",
       "      <td>22.0</td>\n",
       "      <td>22.0</td>\n",
       "      <td>2253.49</td>\n",
       "      <td>3.0</td>\n",
       "    </tr>\n",
       "    <tr>\n",
       "      <th>1</th>\n",
       "      <td>1000</td>\n",
       "      <td>6</td>\n",
       "      <td>172.0</td>\n",
       "      <td>43.0</td>\n",
       "      <td>60.0</td>\n",
       "      <td>23233.77</td>\n",
       "      <td>23.0</td>\n",
       "    </tr>\n",
       "    <tr>\n",
       "      <th>2</th>\n",
       "      <td>1000</td>\n",
       "      <td>7</td>\n",
       "      <td>340.0</td>\n",
       "      <td>47.0</td>\n",
       "      <td>75.0</td>\n",
       "      <td>14003.64</td>\n",
       "      <td>14.0</td>\n",
       "    </tr>\n",
       "    <tr>\n",
       "      <th>3</th>\n",
       "      <td>1000</td>\n",
       "      <td>8</td>\n",
       "      <td>408.0</td>\n",
       "      <td>52.0</td>\n",
       "      <td>81.0</td>\n",
       "      <td>14055.93</td>\n",
       "      <td>14.0</td>\n",
       "    </tr>\n",
       "    <tr>\n",
       "      <th>4</th>\n",
       "      <td>1000</td>\n",
       "      <td>9</td>\n",
       "      <td>466.0</td>\n",
       "      <td>58.0</td>\n",
       "      <td>57.0</td>\n",
       "      <td>14568.91</td>\n",
       "      <td>15.0</td>\n",
       "    </tr>\n",
       "    <tr>\n",
       "      <th>...</th>\n",
       "      <td>...</td>\n",
       "      <td>...</td>\n",
       "      <td>...</td>\n",
       "      <td>...</td>\n",
       "      <td>...</td>\n",
       "      <td>...</td>\n",
       "      <td>...</td>\n",
       "    </tr>\n",
       "    <tr>\n",
       "      <th>3209</th>\n",
       "      <td>1489</td>\n",
       "      <td>9</td>\n",
       "      <td>0.0</td>\n",
       "      <td>0.0</td>\n",
       "      <td>32.0</td>\n",
       "      <td>17206.30</td>\n",
       "      <td>17.0</td>\n",
       "    </tr>\n",
       "    <tr>\n",
       "      <th>3210</th>\n",
       "      <td>1489</td>\n",
       "      <td>10</td>\n",
       "      <td>0.0</td>\n",
       "      <td>0.0</td>\n",
       "      <td>21.0</td>\n",
       "      <td>19559.44</td>\n",
       "      <td>20.0</td>\n",
       "    </tr>\n",
       "    <tr>\n",
       "      <th>3211</th>\n",
       "      <td>1489</td>\n",
       "      <td>11</td>\n",
       "      <td>0.0</td>\n",
       "      <td>0.0</td>\n",
       "      <td>20.0</td>\n",
       "      <td>17491.56</td>\n",
       "      <td>18.0</td>\n",
       "    </tr>\n",
       "    <tr>\n",
       "      <th>3212</th>\n",
       "      <td>1489</td>\n",
       "      <td>12</td>\n",
       "      <td>0.0</td>\n",
       "      <td>0.0</td>\n",
       "      <td>35.0</td>\n",
       "      <td>17322.51</td>\n",
       "      <td>17.0</td>\n",
       "    </tr>\n",
       "    <tr>\n",
       "      <th>3213</th>\n",
       "      <td>1476</td>\n",
       "      <td>4</td>\n",
       "      <td>0.0</td>\n",
       "      <td>0.0</td>\n",
       "      <td>0.0</td>\n",
       "      <td>530.78</td>\n",
       "      <td>1.0</td>\n",
       "    </tr>\n",
       "  </tbody>\n",
       "</table>\n",
       "<p>3214 rows × 7 columns</p>\n",
       "</div>"
      ],
      "text/plain": [
       "      user_id  month  sum_calls  count_calls  count_messages    sum_mb  sum_gb\n",
       "0        1000      5      159.0         22.0            22.0   2253.49     3.0\n",
       "1        1000      6      172.0         43.0            60.0  23233.77    23.0\n",
       "2        1000      7      340.0         47.0            75.0  14003.64    14.0\n",
       "3        1000      8      408.0         52.0            81.0  14055.93    14.0\n",
       "4        1000      9      466.0         58.0            57.0  14568.91    15.0\n",
       "...       ...    ...        ...          ...             ...       ...     ...\n",
       "3209     1489      9        0.0          0.0            32.0  17206.30    17.0\n",
       "3210     1489     10        0.0          0.0            21.0  19559.44    20.0\n",
       "3211     1489     11        0.0          0.0            20.0  17491.56    18.0\n",
       "3212     1489     12        0.0          0.0            35.0  17322.51    17.0\n",
       "3213     1476      4        0.0          0.0             0.0    530.78     1.0\n",
       "\n",
       "[3214 rows x 7 columns]"
      ]
     },
     "execution_count": 16,
     "metadata": {},
     "output_type": "execute_result"
    }
   ],
   "source": [
    "total_info = calls_pivot.merge(messages_pivot, on=['user_id','month'], how='outer')\n",
    "total_info = total_info.merge(internet_pivot, on=['user_id','month'], how='outer')\n",
    "total_info = total_info.fillna(0)\n",
    "total_info"
   ]
  },
  {
   "cell_type": "markdown",
   "metadata": {},
   "source": [
    "It is the **outer** connection that we need in this case. Otherwise, customers who have not used one of the operator's services during a particular month will not be included in the table."
   ]
  },
  {
   "cell_type": "code",
   "execution_count": 17,
   "metadata": {},
   "outputs": [
    {
     "name": "stdout",
     "output_type": "stream",
     "text": [
      "<class 'pandas.core.frame.DataFrame'>\n",
      "Int64Index: 3214 entries, 0 to 3213\n",
      "Data columns (total 7 columns):\n",
      " #   Column          Non-Null Count  Dtype  \n",
      "---  ------          --------------  -----  \n",
      " 0   user_id         3214 non-null   int64  \n",
      " 1   month           3214 non-null   int64  \n",
      " 2   sum_calls       3214 non-null   float64\n",
      " 3   count_calls     3214 non-null   float64\n",
      " 4   count_messages  3214 non-null   float64\n",
      " 5   sum_mb          3214 non-null   float64\n",
      " 6   sum_gb          3214 non-null   float64\n",
      "dtypes: float64(5), int64(2)\n",
      "memory usage: 200.9 KB\n"
     ]
    }
   ],
   "source": [
    "total_info.info()"
   ]
  },
  {
   "cell_type": "code",
   "execution_count": 18,
   "metadata": {},
   "outputs": [
    {
     "data": {
      "text/html": [
       "<div>\n",
       "<style scoped>\n",
       "    .dataframe tbody tr th:only-of-type {\n",
       "        vertical-align: middle;\n",
       "    }\n",
       "\n",
       "    .dataframe tbody tr th {\n",
       "        vertical-align: top;\n",
       "    }\n",
       "\n",
       "    .dataframe thead th {\n",
       "        text-align: right;\n",
       "    }\n",
       "</style>\n",
       "<table border=\"1\" class=\"dataframe\">\n",
       "  <thead>\n",
       "    <tr style=\"text-align: right;\">\n",
       "      <th></th>\n",
       "      <th>user_id</th>\n",
       "      <th>month</th>\n",
       "      <th>sum_calls</th>\n",
       "      <th>count_calls</th>\n",
       "      <th>count_messages</th>\n",
       "      <th>sum_mb</th>\n",
       "      <th>sum_gb</th>\n",
       "      <th>tariff</th>\n",
       "      <th>city</th>\n",
       "    </tr>\n",
       "  </thead>\n",
       "  <tbody>\n",
       "    <tr>\n",
       "      <th>0</th>\n",
       "      <td>1000</td>\n",
       "      <td>5</td>\n",
       "      <td>159.0</td>\n",
       "      <td>22.0</td>\n",
       "      <td>22.0</td>\n",
       "      <td>2253.49</td>\n",
       "      <td>3.0</td>\n",
       "      <td>ultra</td>\n",
       "      <td>Краснодар</td>\n",
       "    </tr>\n",
       "    <tr>\n",
       "      <th>1</th>\n",
       "      <td>1000</td>\n",
       "      <td>6</td>\n",
       "      <td>172.0</td>\n",
       "      <td>43.0</td>\n",
       "      <td>60.0</td>\n",
       "      <td>23233.77</td>\n",
       "      <td>23.0</td>\n",
       "      <td>ultra</td>\n",
       "      <td>Краснодар</td>\n",
       "    </tr>\n",
       "    <tr>\n",
       "      <th>2</th>\n",
       "      <td>1000</td>\n",
       "      <td>7</td>\n",
       "      <td>340.0</td>\n",
       "      <td>47.0</td>\n",
       "      <td>75.0</td>\n",
       "      <td>14003.64</td>\n",
       "      <td>14.0</td>\n",
       "      <td>ultra</td>\n",
       "      <td>Краснодар</td>\n",
       "    </tr>\n",
       "    <tr>\n",
       "      <th>3</th>\n",
       "      <td>1000</td>\n",
       "      <td>8</td>\n",
       "      <td>408.0</td>\n",
       "      <td>52.0</td>\n",
       "      <td>81.0</td>\n",
       "      <td>14055.93</td>\n",
       "      <td>14.0</td>\n",
       "      <td>ultra</td>\n",
       "      <td>Краснодар</td>\n",
       "    </tr>\n",
       "    <tr>\n",
       "      <th>4</th>\n",
       "      <td>1000</td>\n",
       "      <td>9</td>\n",
       "      <td>466.0</td>\n",
       "      <td>58.0</td>\n",
       "      <td>57.0</td>\n",
       "      <td>14568.91</td>\n",
       "      <td>15.0</td>\n",
       "      <td>ultra</td>\n",
       "      <td>Краснодар</td>\n",
       "    </tr>\n",
       "    <tr>\n",
       "      <th>...</th>\n",
       "      <td>...</td>\n",
       "      <td>...</td>\n",
       "      <td>...</td>\n",
       "      <td>...</td>\n",
       "      <td>...</td>\n",
       "      <td>...</td>\n",
       "      <td>...</td>\n",
       "      <td>...</td>\n",
       "      <td>...</td>\n",
       "    </tr>\n",
       "    <tr>\n",
       "      <th>3209</th>\n",
       "      <td>1489</td>\n",
       "      <td>9</td>\n",
       "      <td>0.0</td>\n",
       "      <td>0.0</td>\n",
       "      <td>32.0</td>\n",
       "      <td>17206.30</td>\n",
       "      <td>17.0</td>\n",
       "      <td>smart</td>\n",
       "      <td>Санкт-Петербург</td>\n",
       "    </tr>\n",
       "    <tr>\n",
       "      <th>3210</th>\n",
       "      <td>1489</td>\n",
       "      <td>10</td>\n",
       "      <td>0.0</td>\n",
       "      <td>0.0</td>\n",
       "      <td>21.0</td>\n",
       "      <td>19559.44</td>\n",
       "      <td>20.0</td>\n",
       "      <td>smart</td>\n",
       "      <td>Санкт-Петербург</td>\n",
       "    </tr>\n",
       "    <tr>\n",
       "      <th>3211</th>\n",
       "      <td>1489</td>\n",
       "      <td>11</td>\n",
       "      <td>0.0</td>\n",
       "      <td>0.0</td>\n",
       "      <td>20.0</td>\n",
       "      <td>17491.56</td>\n",
       "      <td>18.0</td>\n",
       "      <td>smart</td>\n",
       "      <td>Санкт-Петербург</td>\n",
       "    </tr>\n",
       "    <tr>\n",
       "      <th>3212</th>\n",
       "      <td>1489</td>\n",
       "      <td>12</td>\n",
       "      <td>0.0</td>\n",
       "      <td>0.0</td>\n",
       "      <td>35.0</td>\n",
       "      <td>17322.51</td>\n",
       "      <td>17.0</td>\n",
       "      <td>smart</td>\n",
       "      <td>Санкт-Петербург</td>\n",
       "    </tr>\n",
       "    <tr>\n",
       "      <th>3213</th>\n",
       "      <td>1476</td>\n",
       "      <td>4</td>\n",
       "      <td>0.0</td>\n",
       "      <td>0.0</td>\n",
       "      <td>0.0</td>\n",
       "      <td>530.78</td>\n",
       "      <td>1.0</td>\n",
       "      <td>ultra</td>\n",
       "      <td>Москва</td>\n",
       "    </tr>\n",
       "  </tbody>\n",
       "</table>\n",
       "<p>3214 rows × 9 columns</p>\n",
       "</div>"
      ],
      "text/plain": [
       "      user_id  month  sum_calls  count_calls  count_messages    sum_mb  \\\n",
       "0        1000      5      159.0         22.0            22.0   2253.49   \n",
       "1        1000      6      172.0         43.0            60.0  23233.77   \n",
       "2        1000      7      340.0         47.0            75.0  14003.64   \n",
       "3        1000      8      408.0         52.0            81.0  14055.93   \n",
       "4        1000      9      466.0         58.0            57.0  14568.91   \n",
       "...       ...    ...        ...          ...             ...       ...   \n",
       "3209     1489      9        0.0          0.0            32.0  17206.30   \n",
       "3210     1489     10        0.0          0.0            21.0  19559.44   \n",
       "3211     1489     11        0.0          0.0            20.0  17491.56   \n",
       "3212     1489     12        0.0          0.0            35.0  17322.51   \n",
       "3213     1476      4        0.0          0.0             0.0    530.78   \n",
       "\n",
       "      sum_gb tariff             city  \n",
       "0        3.0  ultra        Краснодар  \n",
       "1       23.0  ultra        Краснодар  \n",
       "2       14.0  ultra        Краснодар  \n",
       "3       14.0  ultra        Краснодар  \n",
       "4       15.0  ultra        Краснодар  \n",
       "...      ...    ...              ...  \n",
       "3209    17.0  smart  Санкт-Петербург  \n",
       "3210    20.0  smart  Санкт-Петербург  \n",
       "3211    18.0  smart  Санкт-Петербург  \n",
       "3212    17.0  smart  Санкт-Петербург  \n",
       "3213     1.0  ultra           Москва  \n",
       "\n",
       "[3214 rows x 9 columns]"
      ]
     },
     "execution_count": 18,
     "metadata": {},
     "output_type": "execute_result"
    }
   ],
   "source": [
    "total_info = total_info.merge(users[['user_id', 'tariff', 'city']], on='user_id', how='left')\n",
    "total_info"
   ]
  },
  {
   "cell_type": "code",
   "execution_count": 19,
   "metadata": {},
   "outputs": [
    {
     "data": {
      "text/html": [
       "<div>\n",
       "<style scoped>\n",
       "    .dataframe tbody tr th:only-of-type {\n",
       "        vertical-align: middle;\n",
       "    }\n",
       "\n",
       "    .dataframe tbody tr th {\n",
       "        vertical-align: top;\n",
       "    }\n",
       "\n",
       "    .dataframe thead th {\n",
       "        text-align: right;\n",
       "    }\n",
       "</style>\n",
       "<table border=\"1\" class=\"dataframe\">\n",
       "  <thead>\n",
       "    <tr style=\"text-align: right;\">\n",
       "      <th></th>\n",
       "      <th>messages_included</th>\n",
       "      <th>mb_per_month_included</th>\n",
       "      <th>minutes_included</th>\n",
       "      <th>rub_monthly_fee</th>\n",
       "      <th>rub_per_gb</th>\n",
       "      <th>rub_per_message</th>\n",
       "      <th>rub_per_minute</th>\n",
       "      <th>tariff</th>\n",
       "    </tr>\n",
       "  </thead>\n",
       "  <tbody>\n",
       "    <tr>\n",
       "      <th>0</th>\n",
       "      <td>50</td>\n",
       "      <td>15360</td>\n",
       "      <td>500</td>\n",
       "      <td>550</td>\n",
       "      <td>200</td>\n",
       "      <td>3</td>\n",
       "      <td>3</td>\n",
       "      <td>smart</td>\n",
       "    </tr>\n",
       "    <tr>\n",
       "      <th>1</th>\n",
       "      <td>1000</td>\n",
       "      <td>30720</td>\n",
       "      <td>3000</td>\n",
       "      <td>1950</td>\n",
       "      <td>150</td>\n",
       "      <td>1</td>\n",
       "      <td>1</td>\n",
       "      <td>ultra</td>\n",
       "    </tr>\n",
       "  </tbody>\n",
       "</table>\n",
       "</div>"
      ],
      "text/plain": [
       "   messages_included  mb_per_month_included  minutes_included  \\\n",
       "0                 50                  15360               500   \n",
       "1               1000                  30720              3000   \n",
       "\n",
       "   rub_monthly_fee  rub_per_gb  rub_per_message  rub_per_minute tariff  \n",
       "0              550         200                3               3  smart  \n",
       "1             1950         150                1               1  ultra  "
      ]
     },
     "execution_count": 19,
     "metadata": {},
     "output_type": "execute_result"
    }
   ],
   "source": [
    "tariffs.rename(columns = {'tariff_name':'tariff'}, inplace = True)\n",
    "tariffs"
   ]
  },
  {
   "cell_type": "code",
   "execution_count": 20,
   "metadata": {},
   "outputs": [
    {
     "data": {
      "text/html": [
       "<div>\n",
       "<style scoped>\n",
       "    .dataframe tbody tr th:only-of-type {\n",
       "        vertical-align: middle;\n",
       "    }\n",
       "\n",
       "    .dataframe tbody tr th {\n",
       "        vertical-align: top;\n",
       "    }\n",
       "\n",
       "    .dataframe thead th {\n",
       "        text-align: right;\n",
       "    }\n",
       "</style>\n",
       "<table border=\"1\" class=\"dataframe\">\n",
       "  <thead>\n",
       "    <tr style=\"text-align: right;\">\n",
       "      <th></th>\n",
       "      <th>user_id</th>\n",
       "      <th>month</th>\n",
       "      <th>sum_calls</th>\n",
       "      <th>count_calls</th>\n",
       "      <th>count_messages</th>\n",
       "      <th>sum_mb</th>\n",
       "      <th>sum_gb</th>\n",
       "      <th>tariff</th>\n",
       "      <th>city</th>\n",
       "      <th>messages_included</th>\n",
       "      <th>mb_per_month_included</th>\n",
       "      <th>minutes_included</th>\n",
       "      <th>rub_monthly_fee</th>\n",
       "      <th>rub_per_gb</th>\n",
       "      <th>rub_per_message</th>\n",
       "      <th>rub_per_minute</th>\n",
       "    </tr>\n",
       "  </thead>\n",
       "  <tbody>\n",
       "    <tr>\n",
       "      <th>0</th>\n",
       "      <td>1000</td>\n",
       "      <td>5</td>\n",
       "      <td>159.0</td>\n",
       "      <td>22.0</td>\n",
       "      <td>22.0</td>\n",
       "      <td>2253.49</td>\n",
       "      <td>3.0</td>\n",
       "      <td>ultra</td>\n",
       "      <td>Краснодар</td>\n",
       "      <td>1000</td>\n",
       "      <td>30720</td>\n",
       "      <td>3000</td>\n",
       "      <td>1950</td>\n",
       "      <td>150</td>\n",
       "      <td>1</td>\n",
       "      <td>1</td>\n",
       "    </tr>\n",
       "    <tr>\n",
       "      <th>1</th>\n",
       "      <td>1000</td>\n",
       "      <td>6</td>\n",
       "      <td>172.0</td>\n",
       "      <td>43.0</td>\n",
       "      <td>60.0</td>\n",
       "      <td>23233.77</td>\n",
       "      <td>23.0</td>\n",
       "      <td>ultra</td>\n",
       "      <td>Краснодар</td>\n",
       "      <td>1000</td>\n",
       "      <td>30720</td>\n",
       "      <td>3000</td>\n",
       "      <td>1950</td>\n",
       "      <td>150</td>\n",
       "      <td>1</td>\n",
       "      <td>1</td>\n",
       "    </tr>\n",
       "    <tr>\n",
       "      <th>2</th>\n",
       "      <td>1000</td>\n",
       "      <td>7</td>\n",
       "      <td>340.0</td>\n",
       "      <td>47.0</td>\n",
       "      <td>75.0</td>\n",
       "      <td>14003.64</td>\n",
       "      <td>14.0</td>\n",
       "      <td>ultra</td>\n",
       "      <td>Краснодар</td>\n",
       "      <td>1000</td>\n",
       "      <td>30720</td>\n",
       "      <td>3000</td>\n",
       "      <td>1950</td>\n",
       "      <td>150</td>\n",
       "      <td>1</td>\n",
       "      <td>1</td>\n",
       "    </tr>\n",
       "    <tr>\n",
       "      <th>3</th>\n",
       "      <td>1000</td>\n",
       "      <td>8</td>\n",
       "      <td>408.0</td>\n",
       "      <td>52.0</td>\n",
       "      <td>81.0</td>\n",
       "      <td>14055.93</td>\n",
       "      <td>14.0</td>\n",
       "      <td>ultra</td>\n",
       "      <td>Краснодар</td>\n",
       "      <td>1000</td>\n",
       "      <td>30720</td>\n",
       "      <td>3000</td>\n",
       "      <td>1950</td>\n",
       "      <td>150</td>\n",
       "      <td>1</td>\n",
       "      <td>1</td>\n",
       "    </tr>\n",
       "    <tr>\n",
       "      <th>4</th>\n",
       "      <td>1000</td>\n",
       "      <td>9</td>\n",
       "      <td>466.0</td>\n",
       "      <td>58.0</td>\n",
       "      <td>57.0</td>\n",
       "      <td>14568.91</td>\n",
       "      <td>15.0</td>\n",
       "      <td>ultra</td>\n",
       "      <td>Краснодар</td>\n",
       "      <td>1000</td>\n",
       "      <td>30720</td>\n",
       "      <td>3000</td>\n",
       "      <td>1950</td>\n",
       "      <td>150</td>\n",
       "      <td>1</td>\n",
       "      <td>1</td>\n",
       "    </tr>\n",
       "    <tr>\n",
       "      <th>...</th>\n",
       "      <td>...</td>\n",
       "      <td>...</td>\n",
       "      <td>...</td>\n",
       "      <td>...</td>\n",
       "      <td>...</td>\n",
       "      <td>...</td>\n",
       "      <td>...</td>\n",
       "      <td>...</td>\n",
       "      <td>...</td>\n",
       "      <td>...</td>\n",
       "      <td>...</td>\n",
       "      <td>...</td>\n",
       "      <td>...</td>\n",
       "      <td>...</td>\n",
       "      <td>...</td>\n",
       "      <td>...</td>\n",
       "    </tr>\n",
       "    <tr>\n",
       "      <th>3209</th>\n",
       "      <td>1489</td>\n",
       "      <td>8</td>\n",
       "      <td>0.0</td>\n",
       "      <td>0.0</td>\n",
       "      <td>17.0</td>\n",
       "      <td>11050.56</td>\n",
       "      <td>11.0</td>\n",
       "      <td>smart</td>\n",
       "      <td>Санкт-Петербург</td>\n",
       "      <td>50</td>\n",
       "      <td>15360</td>\n",
       "      <td>500</td>\n",
       "      <td>550</td>\n",
       "      <td>200</td>\n",
       "      <td>3</td>\n",
       "      <td>3</td>\n",
       "    </tr>\n",
       "    <tr>\n",
       "      <th>3210</th>\n",
       "      <td>1489</td>\n",
       "      <td>9</td>\n",
       "      <td>0.0</td>\n",
       "      <td>0.0</td>\n",
       "      <td>32.0</td>\n",
       "      <td>17206.30</td>\n",
       "      <td>17.0</td>\n",
       "      <td>smart</td>\n",
       "      <td>Санкт-Петербург</td>\n",
       "      <td>50</td>\n",
       "      <td>15360</td>\n",
       "      <td>500</td>\n",
       "      <td>550</td>\n",
       "      <td>200</td>\n",
       "      <td>3</td>\n",
       "      <td>3</td>\n",
       "    </tr>\n",
       "    <tr>\n",
       "      <th>3211</th>\n",
       "      <td>1489</td>\n",
       "      <td>10</td>\n",
       "      <td>0.0</td>\n",
       "      <td>0.0</td>\n",
       "      <td>21.0</td>\n",
       "      <td>19559.44</td>\n",
       "      <td>20.0</td>\n",
       "      <td>smart</td>\n",
       "      <td>Санкт-Петербург</td>\n",
       "      <td>50</td>\n",
       "      <td>15360</td>\n",
       "      <td>500</td>\n",
       "      <td>550</td>\n",
       "      <td>200</td>\n",
       "      <td>3</td>\n",
       "      <td>3</td>\n",
       "    </tr>\n",
       "    <tr>\n",
       "      <th>3212</th>\n",
       "      <td>1489</td>\n",
       "      <td>11</td>\n",
       "      <td>0.0</td>\n",
       "      <td>0.0</td>\n",
       "      <td>20.0</td>\n",
       "      <td>17491.56</td>\n",
       "      <td>18.0</td>\n",
       "      <td>smart</td>\n",
       "      <td>Санкт-Петербург</td>\n",
       "      <td>50</td>\n",
       "      <td>15360</td>\n",
       "      <td>500</td>\n",
       "      <td>550</td>\n",
       "      <td>200</td>\n",
       "      <td>3</td>\n",
       "      <td>3</td>\n",
       "    </tr>\n",
       "    <tr>\n",
       "      <th>3213</th>\n",
       "      <td>1489</td>\n",
       "      <td>12</td>\n",
       "      <td>0.0</td>\n",
       "      <td>0.0</td>\n",
       "      <td>35.0</td>\n",
       "      <td>17322.51</td>\n",
       "      <td>17.0</td>\n",
       "      <td>smart</td>\n",
       "      <td>Санкт-Петербург</td>\n",
       "      <td>50</td>\n",
       "      <td>15360</td>\n",
       "      <td>500</td>\n",
       "      <td>550</td>\n",
       "      <td>200</td>\n",
       "      <td>3</td>\n",
       "      <td>3</td>\n",
       "    </tr>\n",
       "  </tbody>\n",
       "</table>\n",
       "<p>3214 rows × 16 columns</p>\n",
       "</div>"
      ],
      "text/plain": [
       "      user_id  month  sum_calls  count_calls  count_messages    sum_mb  \\\n",
       "0        1000      5      159.0         22.0            22.0   2253.49   \n",
       "1        1000      6      172.0         43.0            60.0  23233.77   \n",
       "2        1000      7      340.0         47.0            75.0  14003.64   \n",
       "3        1000      8      408.0         52.0            81.0  14055.93   \n",
       "4        1000      9      466.0         58.0            57.0  14568.91   \n",
       "...       ...    ...        ...          ...             ...       ...   \n",
       "3209     1489      8        0.0          0.0            17.0  11050.56   \n",
       "3210     1489      9        0.0          0.0            32.0  17206.30   \n",
       "3211     1489     10        0.0          0.0            21.0  19559.44   \n",
       "3212     1489     11        0.0          0.0            20.0  17491.56   \n",
       "3213     1489     12        0.0          0.0            35.0  17322.51   \n",
       "\n",
       "      sum_gb tariff             city  messages_included  \\\n",
       "0        3.0  ultra        Краснодар               1000   \n",
       "1       23.0  ultra        Краснодар               1000   \n",
       "2       14.0  ultra        Краснодар               1000   \n",
       "3       14.0  ultra        Краснодар               1000   \n",
       "4       15.0  ultra        Краснодар               1000   \n",
       "...      ...    ...              ...                ...   \n",
       "3209    11.0  smart  Санкт-Петербург                 50   \n",
       "3210    17.0  smart  Санкт-Петербург                 50   \n",
       "3211    20.0  smart  Санкт-Петербург                 50   \n",
       "3212    18.0  smart  Санкт-Петербург                 50   \n",
       "3213    17.0  smart  Санкт-Петербург                 50   \n",
       "\n",
       "      mb_per_month_included  minutes_included  rub_monthly_fee  rub_per_gb  \\\n",
       "0                     30720              3000             1950         150   \n",
       "1                     30720              3000             1950         150   \n",
       "2                     30720              3000             1950         150   \n",
       "3                     30720              3000             1950         150   \n",
       "4                     30720              3000             1950         150   \n",
       "...                     ...               ...              ...         ...   \n",
       "3209                  15360               500              550         200   \n",
       "3210                  15360               500              550         200   \n",
       "3211                  15360               500              550         200   \n",
       "3212                  15360               500              550         200   \n",
       "3213                  15360               500              550         200   \n",
       "\n",
       "      rub_per_message  rub_per_minute  \n",
       "0                   1               1  \n",
       "1                   1               1  \n",
       "2                   1               1  \n",
       "3                   1               1  \n",
       "4                   1               1  \n",
       "...               ...             ...  \n",
       "3209                3               3  \n",
       "3210                3               3  \n",
       "3211                3               3  \n",
       "3212                3               3  \n",
       "3213                3               3  \n",
       "\n",
       "[3214 rows x 16 columns]"
      ]
     },
     "execution_count": 20,
     "metadata": {},
     "output_type": "execute_result"
    }
   ],
   "source": [
    "total_info = total_info.merge(tariffs, on = 'tariff')\n",
    "total_info"
   ]
  },
  {
   "cell_type": "code",
   "execution_count": 21,
   "metadata": {},
   "outputs": [
    {
     "name": "stdout",
     "output_type": "stream",
     "text": [
      "<class 'pandas.core.frame.DataFrame'>\n",
      "Int64Index: 3214 entries, 0 to 3213\n",
      "Data columns (total 16 columns):\n",
      " #   Column                 Non-Null Count  Dtype  \n",
      "---  ------                 --------------  -----  \n",
      " 0   user_id                3214 non-null   int64  \n",
      " 1   month                  3214 non-null   int64  \n",
      " 2   sum_calls              3214 non-null   float64\n",
      " 3   count_calls            3214 non-null   float64\n",
      " 4   count_messages         3214 non-null   float64\n",
      " 5   sum_mb                 3214 non-null   float64\n",
      " 6   sum_gb                 3214 non-null   float64\n",
      " 7   tariff                 3214 non-null   object \n",
      " 8   city                   3214 non-null   object \n",
      " 9   messages_included      3214 non-null   int64  \n",
      " 10  mb_per_month_included  3214 non-null   int64  \n",
      " 11  minutes_included       3214 non-null   int64  \n",
      " 12  rub_monthly_fee        3214 non-null   int64  \n",
      " 13  rub_per_gb             3214 non-null   int64  \n",
      " 14  rub_per_message        3214 non-null   int64  \n",
      " 15  rub_per_minute         3214 non-null   int64  \n",
      "dtypes: float64(5), int64(9), object(2)\n",
      "memory usage: 426.9+ KB\n"
     ]
    }
   ],
   "source": [
    "total_info.info()"
   ]
  },
  {
   "cell_type": "markdown",
   "metadata": {},
   "source": [
    "Calculation of monthly revenue from each user:"
   ]
  },
  {
   "cell_type": "code",
   "execution_count": 22,
   "metadata": {},
   "outputs": [
    {
     "data": {
      "text/html": [
       "<div>\n",
       "<style scoped>\n",
       "    .dataframe tbody tr th:only-of-type {\n",
       "        vertical-align: middle;\n",
       "    }\n",
       "\n",
       "    .dataframe tbody tr th {\n",
       "        vertical-align: top;\n",
       "    }\n",
       "\n",
       "    .dataframe thead th {\n",
       "        text-align: right;\n",
       "    }\n",
       "</style>\n",
       "<table border=\"1\" class=\"dataframe\">\n",
       "  <thead>\n",
       "    <tr style=\"text-align: right;\">\n",
       "      <th></th>\n",
       "      <th>user_id</th>\n",
       "      <th>month</th>\n",
       "      <th>sum_calls</th>\n",
       "      <th>count_calls</th>\n",
       "      <th>count_messages</th>\n",
       "      <th>sum_mb</th>\n",
       "      <th>sum_gb</th>\n",
       "      <th>tariff</th>\n",
       "      <th>city</th>\n",
       "      <th>revenue</th>\n",
       "    </tr>\n",
       "  </thead>\n",
       "  <tbody>\n",
       "    <tr>\n",
       "      <th>0</th>\n",
       "      <td>1000</td>\n",
       "      <td>5</td>\n",
       "      <td>159.0</td>\n",
       "      <td>22.0</td>\n",
       "      <td>22.0</td>\n",
       "      <td>2253.49</td>\n",
       "      <td>3.0</td>\n",
       "      <td>ultra</td>\n",
       "      <td>Краснодар</td>\n",
       "      <td>1950</td>\n",
       "    </tr>\n",
       "    <tr>\n",
       "      <th>1</th>\n",
       "      <td>1000</td>\n",
       "      <td>6</td>\n",
       "      <td>172.0</td>\n",
       "      <td>43.0</td>\n",
       "      <td>60.0</td>\n",
       "      <td>23233.77</td>\n",
       "      <td>23.0</td>\n",
       "      <td>ultra</td>\n",
       "      <td>Краснодар</td>\n",
       "      <td>1950</td>\n",
       "    </tr>\n",
       "    <tr>\n",
       "      <th>2</th>\n",
       "      <td>1000</td>\n",
       "      <td>7</td>\n",
       "      <td>340.0</td>\n",
       "      <td>47.0</td>\n",
       "      <td>75.0</td>\n",
       "      <td>14003.64</td>\n",
       "      <td>14.0</td>\n",
       "      <td>ultra</td>\n",
       "      <td>Краснодар</td>\n",
       "      <td>1950</td>\n",
       "    </tr>\n",
       "    <tr>\n",
       "      <th>3</th>\n",
       "      <td>1000</td>\n",
       "      <td>8</td>\n",
       "      <td>408.0</td>\n",
       "      <td>52.0</td>\n",
       "      <td>81.0</td>\n",
       "      <td>14055.93</td>\n",
       "      <td>14.0</td>\n",
       "      <td>ultra</td>\n",
       "      <td>Краснодар</td>\n",
       "      <td>1950</td>\n",
       "    </tr>\n",
       "    <tr>\n",
       "      <th>4</th>\n",
       "      <td>1000</td>\n",
       "      <td>9</td>\n",
       "      <td>466.0</td>\n",
       "      <td>58.0</td>\n",
       "      <td>57.0</td>\n",
       "      <td>14568.91</td>\n",
       "      <td>15.0</td>\n",
       "      <td>ultra</td>\n",
       "      <td>Краснодар</td>\n",
       "      <td>1950</td>\n",
       "    </tr>\n",
       "    <tr>\n",
       "      <th>...</th>\n",
       "      <td>...</td>\n",
       "      <td>...</td>\n",
       "      <td>...</td>\n",
       "      <td>...</td>\n",
       "      <td>...</td>\n",
       "      <td>...</td>\n",
       "      <td>...</td>\n",
       "      <td>...</td>\n",
       "      <td>...</td>\n",
       "      <td>...</td>\n",
       "    </tr>\n",
       "    <tr>\n",
       "      <th>3209</th>\n",
       "      <td>1489</td>\n",
       "      <td>8</td>\n",
       "      <td>0.0</td>\n",
       "      <td>0.0</td>\n",
       "      <td>17.0</td>\n",
       "      <td>11050.56</td>\n",
       "      <td>11.0</td>\n",
       "      <td>smart</td>\n",
       "      <td>Санкт-Петербург</td>\n",
       "      <td>550</td>\n",
       "    </tr>\n",
       "    <tr>\n",
       "      <th>3210</th>\n",
       "      <td>1489</td>\n",
       "      <td>9</td>\n",
       "      <td>0.0</td>\n",
       "      <td>0.0</td>\n",
       "      <td>32.0</td>\n",
       "      <td>17206.30</td>\n",
       "      <td>17.0</td>\n",
       "      <td>smart</td>\n",
       "      <td>Санкт-Петербург</td>\n",
       "      <td>950</td>\n",
       "    </tr>\n",
       "    <tr>\n",
       "      <th>3211</th>\n",
       "      <td>1489</td>\n",
       "      <td>10</td>\n",
       "      <td>0.0</td>\n",
       "      <td>0.0</td>\n",
       "      <td>21.0</td>\n",
       "      <td>19559.44</td>\n",
       "      <td>20.0</td>\n",
       "      <td>smart</td>\n",
       "      <td>Санкт-Петербург</td>\n",
       "      <td>1550</td>\n",
       "    </tr>\n",
       "    <tr>\n",
       "      <th>3212</th>\n",
       "      <td>1489</td>\n",
       "      <td>11</td>\n",
       "      <td>0.0</td>\n",
       "      <td>0.0</td>\n",
       "      <td>20.0</td>\n",
       "      <td>17491.56</td>\n",
       "      <td>18.0</td>\n",
       "      <td>smart</td>\n",
       "      <td>Санкт-Петербург</td>\n",
       "      <td>1150</td>\n",
       "    </tr>\n",
       "    <tr>\n",
       "      <th>3213</th>\n",
       "      <td>1489</td>\n",
       "      <td>12</td>\n",
       "      <td>0.0</td>\n",
       "      <td>0.0</td>\n",
       "      <td>35.0</td>\n",
       "      <td>17322.51</td>\n",
       "      <td>17.0</td>\n",
       "      <td>smart</td>\n",
       "      <td>Санкт-Петербург</td>\n",
       "      <td>950</td>\n",
       "    </tr>\n",
       "  </tbody>\n",
       "</table>\n",
       "<p>3214 rows × 10 columns</p>\n",
       "</div>"
      ],
      "text/plain": [
       "      user_id  month  sum_calls  count_calls  count_messages    sum_mb  \\\n",
       "0        1000      5      159.0         22.0            22.0   2253.49   \n",
       "1        1000      6      172.0         43.0            60.0  23233.77   \n",
       "2        1000      7      340.0         47.0            75.0  14003.64   \n",
       "3        1000      8      408.0         52.0            81.0  14055.93   \n",
       "4        1000      9      466.0         58.0            57.0  14568.91   \n",
       "...       ...    ...        ...          ...             ...       ...   \n",
       "3209     1489      8        0.0          0.0            17.0  11050.56   \n",
       "3210     1489      9        0.0          0.0            32.0  17206.30   \n",
       "3211     1489     10        0.0          0.0            21.0  19559.44   \n",
       "3212     1489     11        0.0          0.0            20.0  17491.56   \n",
       "3213     1489     12        0.0          0.0            35.0  17322.51   \n",
       "\n",
       "      sum_gb tariff             city  revenue  \n",
       "0        3.0  ultra        Краснодар     1950  \n",
       "1       23.0  ultra        Краснодар     1950  \n",
       "2       14.0  ultra        Краснодар     1950  \n",
       "3       14.0  ultra        Краснодар     1950  \n",
       "4       15.0  ultra        Краснодар     1950  \n",
       "...      ...    ...              ...      ...  \n",
       "3209    11.0  smart  Санкт-Петербург      550  \n",
       "3210    17.0  smart  Санкт-Петербург      950  \n",
       "3211    20.0  smart  Санкт-Петербург     1550  \n",
       "3212    18.0  smart  Санкт-Петербург     1150  \n",
       "3213    17.0  smart  Санкт-Петербург      950  \n",
       "\n",
       "[3214 rows x 10 columns]"
      ]
     },
     "execution_count": 22,
     "metadata": {},
     "output_type": "execute_result"
    }
   ],
   "source": [
    "total_info['revenue'] = total_info['rub_monthly_fee']\n",
    "total_info['revenue'].where(total_info['messages_included'] - total_info['count_messages'] >= 0, \n",
    "                            other=total_info['revenue']+(total_info['count_messages']-total_info['messages_included'])*total_info['rub_per_message'], \n",
    "                            inplace=True)\n",
    "total_info['revenue'].where(total_info['mb_per_month_included']/1024 - total_info['sum_gb'] >= 0, \n",
    "                            other=total_info['revenue']+(total_info['sum_gb']-total_info['mb_per_month_included']/1024)*total_info['rub_per_gb'], \n",
    "                            inplace=True)\n",
    "total_info['revenue'].where(total_info['minutes_included'] - total_info['sum_calls'] >= 0, \n",
    "                            other=total_info['revenue']+(total_info['sum_calls']-total_info['minutes_included'])*total_info['rub_per_minute'], \n",
    "                            inplace=True)\n",
    "total_info.drop(columns=['messages_included','mb_per_month_included','minutes_included','rub_monthly_fee',\n",
    "                         'rub_per_gb','rub_per_message','rub_per_minute'], inplace=True)\n",
    "total_info"
   ]
  },
  {
   "cell_type": "markdown",
   "metadata": {},
   "source": [
    "## Step 3. Data Analysis"
   ]
  },
  {
   "cell_type": "markdown",
   "metadata": {},
   "source": [
    "Calculate the **mean, variance and standard deviation** for each tariff."
   ]
  },
  {
   "cell_type": "code",
   "execution_count": 23,
   "metadata": {},
   "outputs": [
    {
     "data": {
      "text/html": [
       "<div>\n",
       "<style scoped>\n",
       "    .dataframe tbody tr th:only-of-type {\n",
       "        vertical-align: middle;\n",
       "    }\n",
       "\n",
       "    .dataframe tbody tr th {\n",
       "        vertical-align: top;\n",
       "    }\n",
       "\n",
       "    .dataframe thead tr th {\n",
       "        text-align: left;\n",
       "    }\n",
       "</style>\n",
       "<table border=\"1\" class=\"dataframe\">\n",
       "  <thead>\n",
       "    <tr>\n",
       "      <th></th>\n",
       "      <th>tariff</th>\n",
       "      <th colspan=\"4\" halign=\"left\">mean</th>\n",
       "      <th colspan=\"4\" halign=\"left\">var</th>\n",
       "      <th colspan=\"4\" halign=\"left\">std</th>\n",
       "    </tr>\n",
       "    <tr>\n",
       "      <th></th>\n",
       "      <th></th>\n",
       "      <th>count_calls</th>\n",
       "      <th>count_messages</th>\n",
       "      <th>sum_calls</th>\n",
       "      <th>sum_gb</th>\n",
       "      <th>count_calls</th>\n",
       "      <th>count_messages</th>\n",
       "      <th>sum_calls</th>\n",
       "      <th>sum_gb</th>\n",
       "      <th>count_calls</th>\n",
       "      <th>count_messages</th>\n",
       "      <th>sum_calls</th>\n",
       "      <th>sum_gb</th>\n",
       "    </tr>\n",
       "  </thead>\n",
       "  <tbody>\n",
       "    <tr>\n",
       "      <th>0</th>\n",
       "      <td>smart</td>\n",
       "      <td>58.463437</td>\n",
       "      <td>33.384029</td>\n",
       "      <td>417.934948</td>\n",
       "      <td>16.328847</td>\n",
       "      <td>672.876243</td>\n",
       "      <td>796.812958</td>\n",
       "      <td>36219.315784</td>\n",
       "      <td>33.028705</td>\n",
       "      <td>25.939858</td>\n",
       "      <td>28.227876</td>\n",
       "      <td>190.313730</td>\n",
       "      <td>5.747061</td>\n",
       "    </tr>\n",
       "    <tr>\n",
       "      <th>1</th>\n",
       "      <td>ultra</td>\n",
       "      <td>73.392893</td>\n",
       "      <td>49.363452</td>\n",
       "      <td>526.623350</td>\n",
       "      <td>19.494416</td>\n",
       "      <td>1928.689990</td>\n",
       "      <td>2285.266143</td>\n",
       "      <td>100873.633397</td>\n",
       "      <td>97.091686</td>\n",
       "      <td>43.916853</td>\n",
       "      <td>47.804457</td>\n",
       "      <td>317.606098</td>\n",
       "      <td>9.853511</td>\n",
       "    </tr>\n",
       "  </tbody>\n",
       "</table>\n",
       "</div>"
      ],
      "text/plain": [
       "  tariff        mean                                                var  \\\n",
       "         count_calls count_messages   sum_calls     sum_gb  count_calls   \n",
       "0  smart   58.463437      33.384029  417.934948  16.328847   672.876243   \n",
       "1  ultra   73.392893      49.363452  526.623350  19.494416  1928.689990   \n",
       "\n",
       "                                                   std                 \\\n",
       "  count_messages      sum_calls     sum_gb count_calls count_messages   \n",
       "0     796.812958   36219.315784  33.028705   25.939858      28.227876   \n",
       "1    2285.266143  100873.633397  97.091686   43.916853      47.804457   \n",
       "\n",
       "                         \n",
       "    sum_calls    sum_gb  \n",
       "0  190.313730  5.747061  \n",
       "1  317.606098  9.853511  "
      ]
     },
     "execution_count": 23,
     "metadata": {},
     "output_type": "execute_result"
    }
   ],
   "source": [
    "total_info.pivot_table(index='tariff',values=['sum_calls','count_calls','count_messages','sum_gb'], \n",
    "                       aggfunc=['mean','var','std']).reset_index()"
   ]
  },
  {
   "cell_type": "code",
   "execution_count": 24,
   "metadata": {},
   "outputs": [
    {
     "data": {
      "image/png": "[encoded data removed]",
      "text/plain": [
       "<Figure size 720x576 with 1 Axes>"
      ]
     },
     "metadata": {
      "needs_background": "light"
     },
     "output_type": "display_data"
    }
   ],
   "source": [
    "total_info.query('tariff==\"smart\"')['count_calls'].hist(alpha=0.6,figsize=(10,8),bins=50)\n",
    "total_info.query('tariff==\"ultra\"')['count_calls'].hist(alpha=0.6,figsize=(10,8),bins=50)\n",
    "\n",
    "plt.legend(['smart','ultra'])\n",
    "plt.title('Call distribution histogram')\n",
    "plt.ylabel('Frequency')\n",
    "plt.xlabel('Number Of Calls');"
   ]
  },
  {
   "cell_type": "markdown",
   "metadata": {},
   "source": [
    "Both distributions can be called skewed to the right, the graph shows that the variance of the number of calls in the `ultra` tariff is greater than in `smart`."
   ]
  },
  {
   "cell_type": "code",
   "execution_count": 25,
   "metadata": {},
   "outputs": [
    {
     "data": {
      "image/png": "[encoded data removed]",
      "text/plain": [
       "<Figure size 720x576 with 1 Axes>"
      ]
     },
     "metadata": {
      "needs_background": "light"
     },
     "output_type": "display_data"
    }
   ],
   "source": [
    "total_info.query('tariff==\"smart\"')['count_messages'].hist(alpha=0.6,figsize=(10,8),bins=100)\n",
    "total_info.query('tariff==\"ultra\"')['count_messages'].hist(alpha=0.6,figsize=(10,8), bins=100)\n",
    "\n",
    "plt.legend(['smart','ultra'])\n",
    "plt.title('Messages distribution histogram')\n",
    "plt.ylabel('Frequency')\n",
    "plt.xlabel('Number Of Messages');"
   ]
  },
  {
   "cell_type": "markdown",
   "metadata": {},
   "source": [
    "Both distributions can be called skewed to the right. The average value of messages in the `ultra` tariff is higher than in the `smart` tariff"
   ]
  },
  {
   "cell_type": "code",
   "execution_count": 26,
   "metadata": {},
   "outputs": [
    {
     "data": {
      "image/png": "[encoded data removed]",
      "text/plain": [
       "<Figure size 720x576 with 1 Axes>"
      ]
     },
     "metadata": {
      "needs_background": "light"
     },
     "output_type": "display_data"
    }
   ],
   "source": [
    "total_info.query('tariff==\"smart\"')['sum_gb'].hist(alpha=0.6,figsize=(10,8),bins=30)\n",
    "total_info.query('tariff==\"ultra\"')['sum_gb'].hist(alpha=0.6,figsize=(10,8),bins=30)\n",
    "\n",
    "plt.legend(['smart','ultra'])\n",
    "plt.title('GB distribution histogram')\n",
    "plt.ylabel('Frequency')\n",
    "plt.xlabel('Sum Of GB');"
   ]
  },
  {
   "cell_type": "markdown",
   "metadata": {},
   "source": [
    "Based on these distributions, it can be concluded that there are more customers in the `ultra` tariff who spend a large amount of traffic."
   ]
  },
  {
   "cell_type": "code",
   "execution_count": 27,
   "metadata": {},
   "outputs": [
    {
     "data": {
      "image/png": "[encoded data removed]",
      "text/plain": [
       "<Figure size 720x576 with 1 Axes>"
      ]
     },
     "metadata": {
      "needs_background": "light"
     },
     "output_type": "display_data"
    }
   ],
   "source": [
    "total_info.query('tariff==\"smart\"')['sum_calls'].hist(alpha=0.6,figsize=(10,8),bins=100)\n",
    "total_info.query('tariff==\"ultra\"')['sum_calls'].hist(alpha=0.6,figsize=(10,8),bins=100)\n",
    "\n",
    "plt.legend(['smart','ultra'])\n",
    "plt.title('Calls distribution histogram')\n",
    "plt.ylabel('Frequency')\n",
    "plt.xlabel('Sum Of Calls');"
   ]
  },
  {
   "cell_type": "markdown",
   "metadata": {},
   "source": [
    "Based on these distributions, it can be concluded that there are more customers in the `ultra` tariff who spend a large number of minutes talking."
   ]
  },
  {
   "cell_type": "markdown",
   "metadata": {},
   "source": [
    "### Conclusion"
   ]
  },
  {
   "cell_type": "markdown",
   "metadata": {},
   "source": [
    "In general, based on these distributions, it can be concluded that customers with the `ultra` tariff use a larger number of calls, messages and traffic"
   ]
  },
  {
   "cell_type": "markdown",
   "metadata": {},
   "source": [
    "## Step 4. Hypothesis Testing"
   ]
  },
  {
   "cell_type": "markdown",
   "metadata": {},
   "source": [
    "### The first hypothesis"
   ]
  },
  {
   "cell_type": "markdown",
   "metadata": {},
   "source": [
    "Null hypothesis (H0) - The average revenue of users of the `Ultra` and `Smart` tariffs is the same\n",
    "\n",
    "Alternative hypothesis (H1) - The average revenue of users of the `Ultra` and `Smart` tariffs differs"
   ]
  },
  {
   "cell_type": "code",
   "execution_count": 28,
   "metadata": {},
   "outputs": [
    {
     "name": "stdout",
     "output_type": "stream",
     "text": [
      "p-value:  4.2606313931076085e-250\n",
      "We reject the null hypothesis\n"
     ]
    }
   ],
   "source": [
    "alpha = 0.05\n",
    "\n",
    "results = st.ttest_ind(total_info.query('tariff==\"smart\"')['revenue'], \n",
    "                       total_info.query('tariff==\"ultra\"')['revenue'],\n",
    "                       equal_var = False)\n",
    "\n",
    "print('p-value: ', results.pvalue)\n",
    "\n",
    "if results.pvalue < alpha:\n",
    "    print(\"We reject the null hypothesis\")\n",
    "else:\n",
    "    print(\"It was not possible to reject the null hypothesis\") "
   ]
  },
  {
   "cell_type": "markdown",
   "metadata": {},
   "source": [
    "The null hypothesis is **rejected**, the p-value is significantly less than the specified significance level"
   ]
  },
  {
   "cell_type": "markdown",
   "metadata": {},
   "source": [
    "### The second hypothesis"
   ]
  },
  {
   "cell_type": "markdown",
   "metadata": {},
   "source": [
    "Null hypothesis (H0) - the average revenue of users from Moscow is the same as the revenue of users from other regions\n",
    "\n",
    "Alternative hypothesis (H1) - the average revenue of users from Moscow differs from the revenue of users from other regions"
   ]
  },
  {
   "cell_type": "code",
   "execution_count": 29,
   "metadata": {},
   "outputs": [
    {
     "name": "stdout",
     "output_type": "stream",
     "text": [
      "p-значение:  0.5440152911670224\n",
      "Не получилось отвергнуть нулевую гипотезу\n"
     ]
    }
   ],
   "source": [
    "alpha = 0.05\n",
    "\n",
    "results = st.ttest_ind(total_info.query('city==\"Москва\"')['revenue'], \n",
    "                       total_info.query('city!=\"Москва\"')['revenue'])\n",
    "\n",
    "print('p-значение: ', results.pvalue)\n",
    "\n",
    "if results.pvalue < alpha:\n",
    "    print(\"Отвергаем нулевую гипотезу\")\n",
    "else:\n",
    "    print(\"Не получилось отвергнуть нулевую гипотезу\") "
   ]
  },
  {
   "cell_type": "markdown",
   "metadata": {},
   "source": [
    "The null hypothesis **cannot be rejected**, the p-value is significantly higher than the specified significance level"
   ]
  },
  {
   "cell_type": "code",
   "execution_count": 30,
   "metadata": {},
   "outputs": [
    {
     "data": {
      "text/plain": [
       "count    2229.000000\n",
       "mean     1289.973531\n",
       "std       818.404367\n",
       "min       550.000000\n",
       "25%       550.000000\n",
       "50%      1023.000000\n",
       "75%      1750.000000\n",
       "max      6770.000000\n",
       "Name: revenue, dtype: float64"
      ]
     },
     "execution_count": 30,
     "metadata": {},
     "output_type": "execute_result"
    }
   ],
   "source": [
    "total_info.query('tariff==\"smart\"')['revenue'].describe()"
   ]
  },
  {
   "cell_type": "code",
   "execution_count": 31,
   "metadata": {},
   "outputs": [
    {
     "data": {
      "text/plain": [
       "count     985.000000\n",
       "mean     2070.152284\n",
       "std       376.187114\n",
       "min      1950.000000\n",
       "25%      1950.000000\n",
       "50%      1950.000000\n",
       "75%      1950.000000\n",
       "max      4800.000000\n",
       "Name: revenue, dtype: float64"
      ]
     },
     "execution_count": 31,
     "metadata": {},
     "output_type": "execute_result"
    }
   ],
   "source": [
    "total_info.query('tariff==\"ultra\"')['revenue'].describe()"
   ]
  },
  {
   "cell_type": "markdown",
   "metadata": {},
   "source": [
    "## General conclusion"
   ]
  },
  {
   "cell_type": "markdown",
   "metadata": {},
   "source": [
    "A preliminary analysis of tariffs was carried out on a small sample of customers. The data of 500 Megalyne users were used at the disposal.\n",
    "\n",
    "After the analysis, it can be concluded that the ultra tariff is more suitable for people who make a large number of calls, send a large number of messages and spend a large amount of Internet traffic, but it also costs more than smart.\n",
    "\n",
    "The **most profitable tariff for the operator, of course, can be called the `ultra` tariff** - according to the results of the study, this tariff is more profitable for the company (both average and median revenue)."
   ]
  }
 ],
 "metadata": {
  "ExecuteTimeLog": [
   {
    "duration": 712,
    "start_time": "2022-03-12T07:26:33.338Z"
   },
   {
    "duration": 709,
    "start_time": "2022-03-12T07:27:43.363Z"
   },
   {
    "duration": 84,
    "start_time": "2022-03-12T07:27:50.391Z"
   },
   {
    "duration": 231,
    "start_time": "2022-03-12T07:27:53.927Z"
   },
   {
    "duration": 176,
    "start_time": "2022-03-12T07:27:59.223Z"
   },
   {
    "duration": 221,
    "start_time": "2022-03-12T07:28:44.770Z"
   },
   {
    "duration": 227,
    "start_time": "2022-03-12T07:28:51.533Z"
   },
   {
    "duration": 209,
    "start_time": "2022-03-12T07:28:56.132Z"
   },
   {
    "duration": 422,
    "start_time": "2022-03-12T07:29:28.553Z"
   },
   {
    "duration": 466,
    "start_time": "2022-03-12T07:30:01.749Z"
   },
   {
    "duration": 514,
    "start_time": "2022-03-12T07:31:21.532Z"
   },
   {
    "duration": 353,
    "start_time": "2022-03-12T07:32:17.504Z"
   },
   {
    "duration": 18,
    "start_time": "2022-03-12T07:32:21.739Z"
   },
   {
    "duration": 272,
    "start_time": "2022-03-12T07:33:04.669Z"
   },
   {
    "duration": 6,
    "start_time": "2022-03-12T07:33:08.009Z"
   },
   {
    "duration": 7,
    "start_time": "2022-03-12T07:33:18.344Z"
   },
   {
    "duration": 8,
    "start_time": "2022-03-12T07:33:24.793Z"
   },
   {
    "duration": 5,
    "start_time": "2022-03-12T07:33:44.285Z"
   },
   {
    "duration": 27,
    "start_time": "2022-03-12T07:35:06.264Z"
   },
   {
    "duration": 11,
    "start_time": "2022-03-12T07:35:21.711Z"
   },
   {
    "duration": 25,
    "start_time": "2022-03-12T07:35:33.770Z"
   },
   {
    "duration": 256,
    "start_time": "2022-03-12T07:37:55.991Z"
   },
   {
    "duration": 43,
    "start_time": "2022-03-12T07:39:53.534Z"
   },
   {
    "duration": 18,
    "start_time": "2022-03-12T07:40:00.250Z"
   },
   {
    "duration": 12,
    "start_time": "2022-03-12T07:40:35.420Z"
   },
   {
    "duration": 4,
    "start_time": "2022-03-12T07:41:10.978Z"
   },
   {
    "duration": 489,
    "start_time": "2022-03-12T07:41:10.985Z"
   },
   {
    "duration": 12,
    "start_time": "2022-03-12T07:41:11.483Z"
   },
   {
    "duration": 34,
    "start_time": "2022-03-12T07:41:11.498Z"
   },
   {
    "duration": 1797,
    "start_time": "2022-03-12T07:41:11.535Z"
   },
   {
    "duration": -62,
    "start_time": "2022-03-12T07:41:13.397Z"
   },
   {
    "duration": 40,
    "start_time": "2022-03-12T07:41:31.353Z"
   },
   {
    "duration": 12,
    "start_time": "2022-03-12T07:41:35.150Z"
   },
   {
    "duration": 19,
    "start_time": "2022-03-12T07:41:41.949Z"
   },
   {
    "duration": 261,
    "start_time": "2022-03-12T07:43:03.144Z"
   },
   {
    "duration": 254,
    "start_time": "2022-03-12T07:43:06.571Z"
   },
   {
    "duration": 313,
    "start_time": "2022-03-12T07:45:44.802Z"
   },
   {
    "duration": 31,
    "start_time": "2022-03-12T07:45:55.865Z"
   },
   {
    "duration": 79,
    "start_time": "2022-03-12T07:46:27.898Z"
   },
   {
    "duration": 92,
    "start_time": "2022-03-12T07:46:36.255Z"
   },
   {
    "duration": 304,
    "start_time": "2022-03-12T07:51:15.721Z"
   },
   {
    "duration": 25,
    "start_time": "2022-03-12T07:51:31.944Z"
   },
   {
    "duration": 40,
    "start_time": "2022-03-12T07:51:39.975Z"
   },
   {
    "duration": 41,
    "start_time": "2022-03-12T07:52:37.459Z"
   },
   {
    "duration": 31,
    "start_time": "2022-03-12T07:57:17.998Z"
   },
   {
    "duration": 48,
    "start_time": "2022-03-12T08:01:44.437Z"
   },
   {
    "duration": 40,
    "start_time": "2022-03-12T08:01:59.183Z"
   },
   {
    "duration": 58,
    "start_time": "2022-03-12T08:02:40.711Z"
   },
   {
    "duration": 50,
    "start_time": "2022-03-12T08:03:22.332Z"
   },
   {
    "duration": 61,
    "start_time": "2022-03-12T08:03:30.134Z"
   },
   {
    "duration": 50,
    "start_time": "2022-03-12T08:03:41.566Z"
   },
   {
    "duration": 61,
    "start_time": "2022-03-12T08:03:45.539Z"
   },
   {
    "duration": 455,
    "start_time": "2022-03-12T08:05:45.258Z"
   },
   {
    "duration": 64,
    "start_time": "2022-03-12T08:05:50.946Z"
   },
   {
    "duration": 293,
    "start_time": "2022-03-12T08:07:03.850Z"
   },
   {
    "duration": 60,
    "start_time": "2022-03-12T08:07:19.646Z"
   },
   {
    "duration": 69,
    "start_time": "2022-03-12T08:11:01.350Z"
   },
   {
    "duration": 48,
    "start_time": "2022-03-12T08:11:23.085Z"
   },
   {
    "duration": 394,
    "start_time": "2022-03-12T08:11:30.518Z"
   },
   {
    "duration": 57,
    "start_time": "2022-03-12T08:11:33.258Z"
   },
   {
    "duration": 1090,
    "start_time": "2022-03-12T08:13:16.578Z"
   },
   {
    "duration": 94,
    "start_time": "2022-03-12T08:13:40.315Z"
   },
   {
    "duration": 50,
    "start_time": "2022-03-12T08:14:23.985Z"
   },
   {
    "duration": 293,
    "start_time": "2022-03-12T08:14:49.741Z"
   },
   {
    "duration": 52,
    "start_time": "2022-03-12T08:14:59.266Z"
   },
   {
    "duration": 52,
    "start_time": "2022-03-12T08:15:32.182Z"
   },
   {
    "duration": 52,
    "start_time": "2022-03-12T08:15:37.234Z"
   },
   {
    "duration": 6280,
    "start_time": "2022-03-12T08:15:49.784Z"
   },
   {
    "duration": -42,
    "start_time": "2022-03-12T08:16:13.191Z"
   },
   {
    "duration": 5009,
    "start_time": "2022-03-12T08:16:15.510Z"
   },
   {
    "duration": 1116,
    "start_time": "2022-03-12T08:16:49.498Z"
   },
   {
    "duration": 1065,
    "start_time": "2022-03-12T08:17:25.483Z"
   },
   {
    "duration": 34,
    "start_time": "2022-03-12T08:17:33.861Z"
   },
   {
    "duration": 55,
    "start_time": "2022-03-12T08:17:40.302Z"
   },
   {
    "duration": 56,
    "start_time": "2022-03-12T08:18:07.986Z"
   },
   {
    "duration": 40,
    "start_time": "2022-03-12T08:18:16.940Z"
   },
   {
    "duration": 51,
    "start_time": "2022-03-12T08:18:24.910Z"
   },
   {
    "duration": 51,
    "start_time": "2022-03-12T08:19:37.111Z"
   },
   {
    "duration": 313,
    "start_time": "2022-03-12T08:20:18.874Z"
   },
   {
    "duration": 287,
    "start_time": "2022-03-12T08:20:36.326Z"
   },
   {
    "duration": 52,
    "start_time": "2022-03-12T08:20:58.832Z"
   },
   {
    "duration": 53,
    "start_time": "2022-03-12T08:21:11.522Z"
   },
   {
    "duration": 54,
    "start_time": "2022-03-12T08:22:04.635Z"
   },
   {
    "duration": 51,
    "start_time": "2022-03-12T08:22:38.511Z"
   },
   {
    "duration": 299,
    "start_time": "2022-03-12T08:25:13.713Z"
   },
   {
    "duration": 77,
    "start_time": "2022-03-12T08:25:19.342Z"
   },
   {
    "duration": 52,
    "start_time": "2022-03-12T08:25:36.925Z"
   },
   {
    "duration": 37,
    "start_time": "2022-03-12T08:28:15.618Z"
   },
   {
    "duration": 408,
    "start_time": "2022-03-12T08:28:22.375Z"
   },
   {
    "duration": 282,
    "start_time": "2022-03-12T08:28:29.720Z"
   },
   {
    "duration": 41,
    "start_time": "2022-03-12T08:28:34.473Z"
   },
   {
    "duration": 12,
    "start_time": "2022-03-12T08:30:31.751Z"
   },
   {
    "duration": 22,
    "start_time": "2022-03-12T08:30:36.062Z"
   },
   {
    "duration": 271,
    "start_time": "2022-03-12T08:30:49.186Z"
   },
   {
    "duration": 29,
    "start_time": "2022-03-12T08:31:03.794Z"
   },
   {
    "duration": 273,
    "start_time": "2022-03-12T08:31:25.100Z"
   },
   {
    "duration": 440,
    "start_time": "2022-03-12T08:32:11.182Z"
   },
   {
    "duration": 284,
    "start_time": "2022-03-12T08:32:17.764Z"
   },
   {
    "duration": 189,
    "start_time": "2022-03-12T08:32:49.837Z"
   },
   {
    "duration": 284,
    "start_time": "2022-03-12T08:33:21.989Z"
   },
   {
    "duration": 44,
    "start_time": "2022-03-12T08:33:30.815Z"
   },
   {
    "duration": 94,
    "start_time": "2022-03-12T08:34:19.136Z"
   },
   {
    "duration": 84,
    "start_time": "2022-03-12T08:34:30.658Z"
   },
   {
    "duration": 80,
    "start_time": "2022-03-12T08:34:49.904Z"
   },
   {
    "duration": 82,
    "start_time": "2022-03-12T08:36:58.314Z"
   },
   {
    "duration": 345,
    "start_time": "2022-03-12T08:38:21.004Z"
   },
   {
    "duration": 349,
    "start_time": "2022-03-12T08:38:32.027Z"
   },
   {
    "duration": 409,
    "start_time": "2022-03-12T08:38:38.919Z"
   },
   {
    "duration": 74,
    "start_time": "2022-03-12T08:38:47.766Z"
   },
   {
    "duration": 6818,
    "start_time": "2022-03-12T08:39:08.298Z"
   },
   {
    "duration": 7526,
    "start_time": "2022-03-12T08:39:29.709Z"
   },
   {
    "duration": 75,
    "start_time": "2022-03-12T08:39:45.837Z"
   },
   {
    "duration": 66,
    "start_time": "2022-03-12T08:44:49.842Z"
   },
   {
    "duration": 108,
    "start_time": "2022-03-12T08:45:01.935Z"
   },
   {
    "duration": 62,
    "start_time": "2022-03-12T08:45:41.538Z"
   },
   {
    "duration": 73,
    "start_time": "2022-03-12T08:46:05.288Z"
   },
   {
    "duration": 96,
    "start_time": "2022-03-12T08:48:23.159Z"
   },
   {
    "duration": 98,
    "start_time": "2022-03-12T08:51:24.721Z"
   },
   {
    "duration": 65,
    "start_time": "2022-03-12T08:51:40.018Z"
   },
   {
    "duration": 73,
    "start_time": "2022-03-12T08:51:48.234Z"
   },
   {
    "duration": 61,
    "start_time": "2022-03-12T08:52:05.289Z"
   },
   {
    "duration": 97,
    "start_time": "2022-03-12T08:52:18.445Z"
   },
   {
    "duration": 63,
    "start_time": "2022-03-12T08:53:10.950Z"
   },
   {
    "duration": 63,
    "start_time": "2022-03-12T08:58:03.712Z"
   },
   {
    "duration": 68,
    "start_time": "2022-03-12T08:58:21.521Z"
   },
   {
    "duration": 52,
    "start_time": "2022-03-12T08:59:43.950Z"
   },
   {
    "duration": 65,
    "start_time": "2022-03-12T08:59:51.115Z"
   },
   {
    "duration": 11,
    "start_time": "2022-03-12T09:01:23.540Z"
   },
   {
    "duration": 28,
    "start_time": "2022-03-12T09:01:37.682Z"
   },
   {
    "duration": 19,
    "start_time": "2022-03-12T09:01:47.002Z"
   },
   {
    "duration": 24,
    "start_time": "2022-03-12T09:02:18.202Z"
   },
   {
    "duration": 14,
    "start_time": "2022-03-12T09:02:19.223Z"
   },
   {
    "duration": 62,
    "start_time": "2022-03-12T09:02:38.568Z"
   },
   {
    "duration": 275,
    "start_time": "2022-03-12T09:04:05.842Z"
   },
   {
    "duration": 31,
    "start_time": "2022-03-12T09:04:24.549Z"
   },
   {
    "duration": 30,
    "start_time": "2022-03-12T09:04:47.413Z"
   },
   {
    "duration": 12,
    "start_time": "2022-03-12T09:06:43.675Z"
   },
   {
    "duration": 394,
    "start_time": "2022-03-12T09:07:19.621Z"
   },
   {
    "duration": 114,
    "start_time": "2022-03-12T09:07:44.885Z"
   },
   {
    "duration": 8,
    "start_time": "2022-03-12T09:07:49.754Z"
   },
   {
    "duration": 366,
    "start_time": "2022-03-12T09:09:10.843Z"
   },
   {
    "duration": 25,
    "start_time": "2022-03-12T09:09:17.324Z"
   },
   {
    "duration": 22,
    "start_time": "2022-03-12T09:09:27.864Z"
   },
   {
    "duration": 9,
    "start_time": "2022-03-12T09:09:36.759Z"
   },
   {
    "duration": 21,
    "start_time": "2022-03-12T09:09:37.706Z"
   },
   {
    "duration": 20,
    "start_time": "2022-03-12T09:09:51.990Z"
   },
   {
    "duration": 11,
    "start_time": "2022-03-12T09:09:55.468Z"
   },
   {
    "duration": 276,
    "start_time": "2022-03-12T09:09:58.766Z"
   },
   {
    "duration": 22,
    "start_time": "2022-03-12T09:10:09.363Z"
   },
   {
    "duration": 29,
    "start_time": "2022-03-12T09:10:47.959Z"
   },
   {
    "duration": 18,
    "start_time": "2022-03-12T09:10:52.204Z"
   },
   {
    "duration": 72,
    "start_time": "2022-03-12T09:11:29.964Z"
   },
   {
    "duration": 41,
    "start_time": "2022-03-12T09:12:36.878Z"
   },
   {
    "duration": 783,
    "start_time": "2022-03-13T07:59:39.169Z"
   },
   {
    "duration": 551,
    "start_time": "2022-03-13T07:59:39.955Z"
   },
   {
    "duration": 11,
    "start_time": "2022-03-13T07:59:40.509Z"
   },
   {
    "duration": 50,
    "start_time": "2022-03-13T07:59:40.522Z"
   },
   {
    "duration": 77,
    "start_time": "2022-03-13T07:59:40.574Z"
   },
   {
    "duration": 28,
    "start_time": "2022-03-13T07:59:40.654Z"
   },
   {
    "duration": 121,
    "start_time": "2022-03-13T07:59:40.685Z"
   },
   {
    "duration": 105,
    "start_time": "2022-03-13T07:59:40.810Z"
   },
   {
    "duration": 10,
    "start_time": "2022-03-13T07:59:40.918Z"
   },
   {
    "duration": 38,
    "start_time": "2022-03-13T07:59:40.931Z"
   },
   {
    "duration": 61,
    "start_time": "2022-03-13T07:59:40.973Z"
   },
   {
    "duration": 22,
    "start_time": "2022-03-13T07:59:41.036Z"
   },
   {
    "duration": 93,
    "start_time": "2022-03-13T07:59:41.061Z"
   },
   {
    "duration": 41,
    "start_time": "2022-03-13T07:59:41.157Z"
   },
   {
    "duration": 16,
    "start_time": "2022-03-13T07:59:41.202Z"
   },
   {
    "duration": 39,
    "start_time": "2022-03-13T07:59:41.221Z"
   },
   {
    "duration": 37,
    "start_time": "2022-03-13T07:59:41.263Z"
   },
   {
    "duration": 71,
    "start_time": "2022-03-13T07:59:41.303Z"
   },
   {
    "duration": 25,
    "start_time": "2022-03-13T07:59:41.377Z"
   },
   {
    "duration": 107,
    "start_time": "2022-03-13T07:59:41.404Z"
   },
   {
    "duration": 58,
    "start_time": "2022-03-13T07:59:41.514Z"
   },
   {
    "duration": 25,
    "start_time": "2022-03-13T08:11:56.798Z"
   },
   {
    "duration": 38,
    "start_time": "2022-03-13T08:12:40.339Z"
   },
   {
    "duration": 26,
    "start_time": "2022-03-13T08:12:59.323Z"
   },
   {
    "duration": 9,
    "start_time": "2022-03-13T08:13:16.180Z"
   },
   {
    "duration": 421,
    "start_time": "2022-03-13T08:14:30.832Z"
   },
   {
    "duration": 12,
    "start_time": "2022-03-13T08:14:40.828Z"
   },
   {
    "duration": 4,
    "start_time": "2022-03-13T08:15:26.159Z"
   },
   {
    "duration": 748,
    "start_time": "2022-03-13T08:15:26.167Z"
   },
   {
    "duration": 15,
    "start_time": "2022-03-13T08:15:26.919Z"
   },
   {
    "duration": 28,
    "start_time": "2022-03-13T08:15:26.952Z"
   },
   {
    "duration": 73,
    "start_time": "2022-03-13T08:15:26.983Z"
   },
   {
    "duration": 26,
    "start_time": "2022-03-13T08:15:27.059Z"
   },
   {
    "duration": 114,
    "start_time": "2022-03-13T08:15:27.087Z"
   },
   {
    "duration": 86,
    "start_time": "2022-03-13T08:15:27.204Z"
   },
   {
    "duration": 10,
    "start_time": "2022-03-13T08:15:27.293Z"
   },
   {
    "duration": 20,
    "start_time": "2022-03-13T08:15:27.306Z"
   },
   {
    "duration": 23,
    "start_time": "2022-03-13T08:15:27.352Z"
   },
   {
    "duration": 15,
    "start_time": "2022-03-13T08:15:27.377Z"
   },
   {
    "duration": 93,
    "start_time": "2022-03-13T08:15:27.395Z"
   },
   {
    "duration": 35,
    "start_time": "2022-03-13T08:15:27.490Z"
   },
   {
    "duration": 29,
    "start_time": "2022-03-13T08:15:27.528Z"
   },
   {
    "duration": 10,
    "start_time": "2022-03-13T08:15:27.560Z"
   },
   {
    "duration": 23,
    "start_time": "2022-03-13T08:15:27.573Z"
   },
   {
    "duration": 64,
    "start_time": "2022-03-13T08:15:27.598Z"
   },
   {
    "duration": 16,
    "start_time": "2022-03-13T08:15:27.664Z"
   },
   {
    "duration": 101,
    "start_time": "2022-03-13T08:15:27.682Z"
   },
   {
    "duration": 41,
    "start_time": "2022-03-13T08:15:27.785Z"
   },
   {
    "duration": 45,
    "start_time": "2022-03-13T08:15:27.828Z"
   },
   {
    "duration": 26,
    "start_time": "2022-03-13T08:15:27.878Z"
   },
   {
    "duration": 7,
    "start_time": "2022-03-13T08:15:27.907Z"
   },
   {
    "duration": 11,
    "start_time": "2022-03-13T08:15:27.951Z"
   },
   {
    "duration": 18,
    "start_time": "2022-03-13T08:15:54.707Z"
   },
   {
    "duration": 238,
    "start_time": "2022-03-13T08:19:23.343Z"
   },
   {
    "duration": 44,
    "start_time": "2022-03-13T08:19:28.933Z"
   },
   {
    "duration": 28,
    "start_time": "2022-03-13T08:19:50.345Z"
   },
   {
    "duration": 18,
    "start_time": "2022-03-13T08:20:29.677Z"
   },
   {
    "duration": 10,
    "start_time": "2022-03-13T08:20:40.175Z"
   },
   {
    "duration": 20,
    "start_time": "2022-03-13T08:20:40.991Z"
   },
   {
    "duration": 33,
    "start_time": "2022-03-13T08:20:55.394Z"
   },
   {
    "duration": 3,
    "start_time": "2022-03-13T08:21:04.691Z"
   },
   {
    "duration": 524,
    "start_time": "2022-03-13T08:21:04.697Z"
   },
   {
    "duration": 27,
    "start_time": "2022-03-13T08:21:05.224Z"
   },
   {
    "duration": 29,
    "start_time": "2022-03-13T08:21:05.254Z"
   },
   {
    "duration": 41,
    "start_time": "2022-03-13T08:21:05.286Z"
   },
   {
    "duration": 20,
    "start_time": "2022-03-13T08:21:05.351Z"
   },
   {
    "duration": 119,
    "start_time": "2022-03-13T08:21:05.374Z"
   },
   {
    "duration": 87,
    "start_time": "2022-03-13T08:21:05.497Z"
   },
   {
    "duration": 10,
    "start_time": "2022-03-13T08:21:05.587Z"
   },
   {
    "duration": 21,
    "start_time": "2022-03-13T08:21:05.600Z"
   },
   {
    "duration": 46,
    "start_time": "2022-03-13T08:21:05.623Z"
   },
   {
    "duration": 15,
    "start_time": "2022-03-13T08:21:05.672Z"
   },
   {
    "duration": 92,
    "start_time": "2022-03-13T08:21:05.689Z"
   },
   {
    "duration": 33,
    "start_time": "2022-03-13T08:21:05.784Z"
   },
   {
    "duration": 35,
    "start_time": "2022-03-13T08:21:05.819Z"
   },
   {
    "duration": 11,
    "start_time": "2022-03-13T08:21:05.858Z"
   },
   {
    "duration": 31,
    "start_time": "2022-03-13T08:21:05.872Z"
   },
   {
    "duration": 63,
    "start_time": "2022-03-13T08:21:05.905Z"
   },
   {
    "duration": 17,
    "start_time": "2022-03-13T08:21:05.970Z"
   },
   {
    "duration": 95,
    "start_time": "2022-03-13T08:21:05.989Z"
   },
   {
    "duration": 40,
    "start_time": "2022-03-13T08:21:06.086Z"
   },
   {
    "duration": 46,
    "start_time": "2022-03-13T08:21:06.128Z"
   },
   {
    "duration": 28,
    "start_time": "2022-03-13T08:21:06.180Z"
   },
   {
    "duration": 9,
    "start_time": "2022-03-13T08:21:06.210Z"
   },
   {
    "duration": 40,
    "start_time": "2022-03-13T08:21:06.221Z"
   },
   {
    "duration": 22,
    "start_time": "2022-03-13T08:21:06.263Z"
   },
   {
    "duration": 32,
    "start_time": "2022-03-13T08:21:06.288Z"
   },
   {
    "duration": 13,
    "start_time": "2022-03-13T08:21:14.235Z"
   },
   {
    "duration": 21,
    "start_time": "2022-03-13T08:25:24.524Z"
   },
   {
    "duration": 5,
    "start_time": "2022-03-13T08:26:18.002Z"
   },
   {
    "duration": 23,
    "start_time": "2022-03-13T08:26:22.324Z"
   },
   {
    "duration": 4,
    "start_time": "2022-03-13T08:26:58.963Z"
   },
   {
    "duration": 503,
    "start_time": "2022-03-13T08:26:58.969Z"
   },
   {
    "duration": 10,
    "start_time": "2022-03-13T08:26:59.475Z"
   },
   {
    "duration": 27,
    "start_time": "2022-03-13T08:26:59.488Z"
   },
   {
    "duration": 60,
    "start_time": "2022-03-13T08:26:59.517Z"
   },
   {
    "duration": 19,
    "start_time": "2022-03-13T08:26:59.579Z"
   },
   {
    "duration": 123,
    "start_time": "2022-03-13T08:26:59.601Z"
   },
   {
    "duration": 78,
    "start_time": "2022-03-13T08:26:59.730Z"
   },
   {
    "duration": 9,
    "start_time": "2022-03-13T08:26:59.812Z"
   },
   {
    "duration": 39,
    "start_time": "2022-03-13T08:26:59.824Z"
   },
   {
    "duration": 24,
    "start_time": "2022-03-13T08:26:59.866Z"
   },
   {
    "duration": 14,
    "start_time": "2022-03-13T08:26:59.892Z"
   },
   {
    "duration": 87,
    "start_time": "2022-03-13T08:26:59.908Z"
   },
   {
    "duration": 35,
    "start_time": "2022-03-13T08:26:59.997Z"
   },
   {
    "duration": 27,
    "start_time": "2022-03-13T08:27:00.035Z"
   },
   {
    "duration": 13,
    "start_time": "2022-03-13T08:27:00.064Z"
   },
   {
    "duration": 21,
    "start_time": "2022-03-13T08:27:00.079Z"
   },
   {
    "duration": 57,
    "start_time": "2022-03-13T08:27:00.103Z"
   },
   {
    "duration": 16,
    "start_time": "2022-03-13T08:27:00.163Z"
   },
   {
    "duration": 95,
    "start_time": "2022-03-13T08:27:00.181Z"
   },
   {
    "duration": 40,
    "start_time": "2022-03-13T08:27:00.278Z"
   },
   {
    "duration": 44,
    "start_time": "2022-03-13T08:27:00.320Z"
   },
   {
    "duration": 26,
    "start_time": "2022-03-13T08:27:00.368Z"
   },
   {
    "duration": 8,
    "start_time": "2022-03-13T08:27:00.397Z"
   },
   {
    "duration": 15,
    "start_time": "2022-03-13T08:27:00.407Z"
   },
   {
    "duration": 19,
    "start_time": "2022-03-13T08:27:00.451Z"
   },
   {
    "duration": 26,
    "start_time": "2022-03-13T08:27:00.472Z"
   },
   {
    "duration": 256,
    "start_time": "2022-03-13T08:27:17.384Z"
   },
   {
    "duration": 12,
    "start_time": "2022-03-13T08:27:20.001Z"
   },
   {
    "duration": 14,
    "start_time": "2022-03-13T08:27:31.798Z"
   },
   {
    "duration": 13,
    "start_time": "2022-03-13T08:27:43.087Z"
   },
   {
    "duration": 13,
    "start_time": "2022-03-13T08:27:55.750Z"
   },
   {
    "duration": 14,
    "start_time": "2022-03-13T08:28:05.604Z"
   },
   {
    "duration": 14,
    "start_time": "2022-03-13T08:28:21.049Z"
   },
   {
    "duration": 13,
    "start_time": "2022-03-13T08:28:55.763Z"
   },
   {
    "duration": 37,
    "start_time": "2022-03-13T08:29:52.168Z"
   },
   {
    "duration": 338,
    "start_time": "2022-03-13T08:36:49.563Z"
   },
   {
    "duration": 45,
    "start_time": "2022-03-13T08:38:04.240Z"
   },
   {
    "duration": 3,
    "start_time": "2022-03-13T08:38:11.089Z"
   },
   {
    "duration": 498,
    "start_time": "2022-03-13T08:38:11.094Z"
   },
   {
    "duration": 11,
    "start_time": "2022-03-13T08:38:11.595Z"
   },
   {
    "duration": 52,
    "start_time": "2022-03-13T08:38:11.610Z"
   },
   {
    "duration": 40,
    "start_time": "2022-03-13T08:38:11.665Z"
   },
   {
    "duration": 46,
    "start_time": "2022-03-13T08:38:11.708Z"
   },
   {
    "duration": 107,
    "start_time": "2022-03-13T08:38:11.759Z"
   },
   {
    "duration": 92,
    "start_time": "2022-03-13T08:38:11.870Z"
   },
   {
    "duration": 10,
    "start_time": "2022-03-13T08:38:11.965Z"
   },
   {
    "duration": 19,
    "start_time": "2022-03-13T08:38:11.977Z"
   },
   {
    "duration": 53,
    "start_time": "2022-03-13T08:38:11.998Z"
   },
   {
    "duration": 14,
    "start_time": "2022-03-13T08:38:12.053Z"
   },
   {
    "duration": 63,
    "start_time": "2022-03-13T08:38:12.069Z"
   },
   {
    "duration": 32,
    "start_time": "2022-03-13T08:38:12.152Z"
   },
   {
    "duration": 11,
    "start_time": "2022-03-13T08:38:12.186Z"
   },
   {
    "duration": 11,
    "start_time": "2022-03-13T08:38:12.199Z"
   },
   {
    "duration": 55,
    "start_time": "2022-03-13T08:38:12.212Z"
   },
   {
    "duration": 29,
    "start_time": "2022-03-13T08:38:12.269Z"
   },
   {
    "duration": 15,
    "start_time": "2022-03-13T08:38:12.302Z"
   },
   {
    "duration": 97,
    "start_time": "2022-03-13T08:38:12.320Z"
   },
   {
    "duration": 66,
    "start_time": "2022-03-13T08:38:12.419Z"
   },
   {
    "duration": 25,
    "start_time": "2022-03-13T08:38:12.487Z"
   },
   {
    "duration": 46,
    "start_time": "2022-03-13T08:38:12.515Z"
   },
   {
    "duration": 9,
    "start_time": "2022-03-13T08:38:12.564Z"
   },
   {
    "duration": 25,
    "start_time": "2022-03-13T08:38:12.576Z"
   },
   {
    "duration": 48,
    "start_time": "2022-03-13T08:38:12.603Z"
   },
   {
    "duration": 33,
    "start_time": "2022-03-13T08:38:15.416Z"
   },
   {
    "duration": 342,
    "start_time": "2022-03-13T08:38:30.388Z"
   },
   {
    "duration": 4,
    "start_time": "2022-03-13T08:39:32.702Z"
   },
   {
    "duration": 527,
    "start_time": "2022-03-13T08:39:32.708Z"
   },
   {
    "duration": 18,
    "start_time": "2022-03-13T08:39:33.238Z"
   },
   {
    "duration": 32,
    "start_time": "2022-03-13T08:39:33.259Z"
   },
   {
    "duration": 58,
    "start_time": "2022-03-13T08:39:33.293Z"
   },
   {
    "duration": 19,
    "start_time": "2022-03-13T08:39:33.353Z"
   },
   {
    "duration": 126,
    "start_time": "2022-03-13T08:39:33.374Z"
   },
   {
    "duration": 90,
    "start_time": "2022-03-13T08:39:33.502Z"
   },
   {
    "duration": 10,
    "start_time": "2022-03-13T08:39:33.596Z"
   },
   {
    "duration": 19,
    "start_time": "2022-03-13T08:39:33.609Z"
   },
   {
    "duration": 26,
    "start_time": "2022-03-13T08:39:33.651Z"
   },
   {
    "duration": 16,
    "start_time": "2022-03-13T08:39:33.680Z"
   },
   {
    "duration": 98,
    "start_time": "2022-03-13T08:39:33.699Z"
   },
   {
    "duration": 52,
    "start_time": "2022-03-13T08:39:33.800Z"
   },
   {
    "duration": 12,
    "start_time": "2022-03-13T08:39:33.855Z"
   },
   {
    "duration": 15,
    "start_time": "2022-03-13T08:39:33.869Z"
   },
   {
    "duration": 21,
    "start_time": "2022-03-13T08:39:33.886Z"
   },
   {
    "duration": 58,
    "start_time": "2022-03-13T08:39:33.909Z"
   },
   {
    "duration": 18,
    "start_time": "2022-03-13T08:39:33.970Z"
   },
   {
    "duration": 104,
    "start_time": "2022-03-13T08:39:33.991Z"
   },
   {
    "duration": 39,
    "start_time": "2022-03-13T08:39:34.097Z"
   },
   {
    "duration": 35,
    "start_time": "2022-03-13T08:39:34.138Z"
   },
   {
    "duration": 14,
    "start_time": "2022-03-13T08:39:34.176Z"
   },
   {
    "duration": 9,
    "start_time": "2022-03-13T08:39:34.193Z"
   },
   {
    "duration": 64,
    "start_time": "2022-03-13T08:39:34.204Z"
   },
   {
    "duration": 13,
    "start_time": "2022-03-13T08:39:34.272Z"
   },
   {
    "duration": 33,
    "start_time": "2022-03-13T08:39:38.120Z"
   },
   {
    "duration": 248,
    "start_time": "2022-03-13T08:39:45.866Z"
   },
   {
    "duration": 10,
    "start_time": "2022-03-13T08:40:16.872Z"
   },
   {
    "duration": 4,
    "start_time": "2022-03-13T08:41:15.078Z"
   },
   {
    "duration": 7,
    "start_time": "2022-03-13T08:41:18.170Z"
   },
   {
    "duration": 8,
    "start_time": "2022-03-13T08:41:56.179Z"
   },
   {
    "duration": 276,
    "start_time": "2022-03-13T08:42:19.059Z"
   },
   {
    "duration": 247,
    "start_time": "2022-03-13T08:42:40.239Z"
   },
   {
    "duration": 266,
    "start_time": "2022-03-13T08:42:47.849Z"
   },
   {
    "duration": 284,
    "start_time": "2022-03-13T08:43:25.595Z"
   },
   {
    "duration": 342,
    "start_time": "2022-03-13T08:43:33.634Z"
   },
   {
    "duration": 353,
    "start_time": "2022-03-13T08:45:59.304Z"
   },
   {
    "duration": 271,
    "start_time": "2022-03-13T08:47:31.616Z"
   },
   {
    "duration": 36,
    "start_time": "2022-03-13T08:49:00.525Z"
   },
   {
    "duration": 79,
    "start_time": "2022-03-13T08:50:16.064Z"
   },
   {
    "duration": 276,
    "start_time": "2022-03-13T08:50:34.128Z"
   },
   {
    "duration": 33,
    "start_time": "2022-03-13T08:51:27.727Z"
   },
   {
    "duration": 12,
    "start_time": "2022-03-13T08:51:46.159Z"
   },
   {
    "duration": 13,
    "start_time": "2022-03-13T08:52:01.551Z"
   },
   {
    "duration": 305,
    "start_time": "2022-03-13T08:59:38.352Z"
   },
   {
    "duration": 245,
    "start_time": "2022-03-13T08:59:58.408Z"
   },
   {
    "duration": 4,
    "start_time": "2022-03-13T09:00:04.286Z"
   },
   {
    "duration": 7,
    "start_time": "2022-03-13T09:00:08.967Z"
   },
   {
    "duration": 95,
    "start_time": "2022-03-13T09:00:12.772Z"
   },
   {
    "duration": 4,
    "start_time": "2022-03-13T09:00:30.071Z"
   },
   {
    "duration": 531,
    "start_time": "2022-03-13T09:00:30.078Z"
   },
   {
    "duration": 11,
    "start_time": "2022-03-13T09:00:30.613Z"
   },
   {
    "duration": 43,
    "start_time": "2022-03-13T09:00:30.627Z"
   },
   {
    "duration": 51,
    "start_time": "2022-03-13T09:00:30.673Z"
   },
   {
    "duration": 37,
    "start_time": "2022-03-13T09:00:30.727Z"
   },
   {
    "duration": 4,
    "start_time": "2022-03-13T09:00:30.768Z"
   },
   {
    "duration": 115,
    "start_time": "2022-03-13T09:00:30.774Z"
   },
   {
    "duration": 4,
    "start_time": "2022-03-13T09:00:41.762Z"
   },
   {
    "duration": 512,
    "start_time": "2022-03-13T09:00:41.769Z"
   },
   {
    "duration": 11,
    "start_time": "2022-03-13T09:00:42.284Z"
   },
   {
    "duration": 27,
    "start_time": "2022-03-13T09:00:42.298Z"
   },
   {
    "duration": 53,
    "start_time": "2022-03-13T09:00:42.327Z"
   },
   {
    "duration": 21,
    "start_time": "2022-03-13T09:00:42.383Z"
   },
   {
    "duration": 7,
    "start_time": "2022-03-13T09:00:42.407Z"
   },
   {
    "duration": 6,
    "start_time": "2022-03-13T09:00:48.058Z"
   },
   {
    "duration": 95,
    "start_time": "2022-03-13T09:00:48.677Z"
   },
   {
    "duration": 8,
    "start_time": "2022-03-13T09:08:59.277Z"
   },
   {
    "duration": 11,
    "start_time": "2022-03-13T09:09:11.904Z"
   },
   {
    "duration": 8,
    "start_time": "2022-03-13T09:09:15.912Z"
   },
   {
    "duration": 7,
    "start_time": "2022-03-13T09:09:32.077Z"
   },
   {
    "duration": 8,
    "start_time": "2022-03-13T09:09:35.904Z"
   },
   {
    "duration": 7,
    "start_time": "2022-03-13T09:09:46.325Z"
   },
   {
    "duration": 8,
    "start_time": "2022-03-13T09:11:38.252Z"
   },
   {
    "duration": 573,
    "start_time": "2022-03-13T09:14:29.440Z"
   },
   {
    "duration": 8,
    "start_time": "2022-03-13T09:14:50.311Z"
   },
   {
    "duration": 315,
    "start_time": "2022-03-13T09:24:49.700Z"
   },
   {
    "duration": 3,
    "start_time": "2022-03-13T09:25:06.140Z"
   },
   {
    "duration": 507,
    "start_time": "2022-03-13T09:25:06.150Z"
   },
   {
    "duration": 11,
    "start_time": "2022-03-13T09:25:06.659Z"
   },
   {
    "duration": 28,
    "start_time": "2022-03-13T09:25:06.672Z"
   },
   {
    "duration": 72,
    "start_time": "2022-03-13T09:25:06.703Z"
   },
   {
    "duration": 26,
    "start_time": "2022-03-13T09:25:06.778Z"
   },
   {
    "duration": 6,
    "start_time": "2022-03-13T09:25:06.807Z"
   },
   {
    "duration": 129,
    "start_time": "2022-03-13T09:25:06.816Z"
   },
   {
    "duration": 69,
    "start_time": "2022-03-13T09:25:06.951Z"
   },
   {
    "duration": 10,
    "start_time": "2022-03-13T09:25:07.024Z"
   },
   {
    "duration": 21,
    "start_time": "2022-03-13T09:25:07.051Z"
   },
   {
    "duration": 26,
    "start_time": "2022-03-13T09:25:07.075Z"
   },
   {
    "duration": 48,
    "start_time": "2022-03-13T09:25:07.104Z"
   },
   {
    "duration": 66,
    "start_time": "2022-03-13T09:25:07.155Z"
   },
   {
    "duration": 57,
    "start_time": "2022-03-13T09:25:07.224Z"
   },
   {
    "duration": 14,
    "start_time": "2022-03-13T09:25:07.284Z"
   },
   {
    "duration": 11,
    "start_time": "2022-03-13T09:25:07.301Z"
   },
   {
    "duration": 59,
    "start_time": "2022-03-13T09:25:07.314Z"
   },
   {
    "duration": 31,
    "start_time": "2022-03-13T09:25:07.376Z"
   },
   {
    "duration": 46,
    "start_time": "2022-03-13T09:25:07.409Z"
   },
   {
    "duration": 101,
    "start_time": "2022-03-13T09:25:07.458Z"
   },
   {
    "duration": 43,
    "start_time": "2022-03-13T09:25:22.153Z"
   },
   {
    "duration": 4,
    "start_time": "2022-03-13T09:26:58.654Z"
   },
   {
    "duration": 516,
    "start_time": "2022-03-13T09:26:58.666Z"
   },
   {
    "duration": 11,
    "start_time": "2022-03-13T09:26:59.185Z"
   },
   {
    "duration": 28,
    "start_time": "2022-03-13T09:26:59.200Z"
   },
   {
    "duration": 55,
    "start_time": "2022-03-13T09:26:59.251Z"
   },
   {
    "duration": 44,
    "start_time": "2022-03-13T09:26:59.309Z"
   },
   {
    "duration": 7,
    "start_time": "2022-03-13T09:26:59.356Z"
   },
   {
    "duration": 122,
    "start_time": "2022-03-13T09:26:59.365Z"
   },
   {
    "duration": 89,
    "start_time": "2022-03-13T09:26:59.490Z"
   },
   {
    "duration": 11,
    "start_time": "2022-03-13T09:26:59.583Z"
   },
   {
    "duration": 20,
    "start_time": "2022-03-13T09:26:59.597Z"
   },
   {
    "duration": 50,
    "start_time": "2022-03-13T09:26:59.620Z"
   },
   {
    "duration": 15,
    "start_time": "2022-03-13T09:26:59.672Z"
   },
   {
    "duration": 92,
    "start_time": "2022-03-13T09:26:59.689Z"
   },
   {
    "duration": 32,
    "start_time": "2022-03-13T09:26:59.784Z"
   },
   {
    "duration": 11,
    "start_time": "2022-03-13T09:26:59.818Z"
   },
   {
    "duration": 8,
    "start_time": "2022-03-13T09:26:59.851Z"
   },
   {
    "duration": 21,
    "start_time": "2022-03-13T09:26:59.862Z"
   },
   {
    "duration": 30,
    "start_time": "2022-03-13T09:26:59.886Z"
   },
   {
    "duration": 44,
    "start_time": "2022-03-13T09:26:59.919Z"
   },
   {
    "duration": 93,
    "start_time": "2022-03-13T09:26:59.966Z"
   },
   {
    "duration": 44,
    "start_time": "2022-03-13T09:27:00.061Z"
   },
   {
    "duration": 55,
    "start_time": "2022-03-13T09:27:00.108Z"
   },
   {
    "duration": 16,
    "start_time": "2022-03-13T09:27:00.166Z"
   },
   {
    "duration": 11,
    "start_time": "2022-03-13T09:27:00.185Z"
   },
   {
    "duration": 61,
    "start_time": "2022-03-13T09:27:00.198Z"
   },
   {
    "duration": 14,
    "start_time": "2022-03-13T09:27:00.262Z"
   },
   {
    "duration": 35,
    "start_time": "2022-03-13T09:27:00.282Z"
   },
   {
    "duration": 13,
    "start_time": "2022-03-13T09:27:37.533Z"
   },
   {
    "duration": 14,
    "start_time": "2022-03-13T09:34:21.597Z"
   },
   {
    "duration": 13,
    "start_time": "2022-03-13T09:34:55.025Z"
   },
   {
    "duration": 34,
    "start_time": "2022-03-13T09:36:06.354Z"
   },
   {
    "duration": 38,
    "start_time": "2022-03-13T09:40:38.316Z"
   },
   {
    "duration": 31,
    "start_time": "2022-03-13T09:41:58.215Z"
   },
   {
    "duration": 41,
    "start_time": "2022-03-13T09:44:32.126Z"
   },
   {
    "duration": 41,
    "start_time": "2022-03-13T09:44:53.300Z"
   },
   {
    "duration": 43,
    "start_time": "2022-03-13T09:47:00.195Z"
   },
   {
    "duration": 683,
    "start_time": "2022-03-13T09:49:54.741Z"
   },
   {
    "duration": 51,
    "start_time": "2022-03-13T09:50:13.133Z"
   },
   {
    "duration": 34,
    "start_time": "2022-03-13T09:50:39.047Z"
   },
   {
    "duration": 93,
    "start_time": "2022-03-13T09:53:13.561Z"
   },
   {
    "duration": 134,
    "start_time": "2022-03-13T09:56:18.644Z"
   },
   {
    "duration": 8,
    "start_time": "2022-03-13T09:56:46.593Z"
   },
   {
    "duration": 5,
    "start_time": "2022-03-13T09:56:53.420Z"
   },
   {
    "duration": 294,
    "start_time": "2022-03-13T09:57:12.914Z"
   },
   {
    "duration": 94,
    "start_time": "2022-03-13T09:57:21.129Z"
   },
   {
    "duration": 6,
    "start_time": "2022-03-13T09:58:25.046Z"
   },
   {
    "duration": 5,
    "start_time": "2022-03-13T09:58:58.465Z"
   },
   {
    "duration": 268,
    "start_time": "2022-03-13T10:05:06.520Z"
   },
   {
    "duration": 212,
    "start_time": "2022-03-13T10:05:12.077Z"
   },
   {
    "duration": 25,
    "start_time": "2022-03-13T10:06:05.311Z"
   },
   {
    "duration": 29,
    "start_time": "2022-03-13T10:06:18.019Z"
   },
   {
    "duration": 42,
    "start_time": "2022-03-13T10:06:37.240Z"
   },
   {
    "duration": 54,
    "start_time": "2022-03-13T10:06:43.047Z"
   },
   {
    "duration": 2842,
    "start_time": "2022-03-13T10:12:40.255Z"
   },
   {
    "duration": 325,
    "start_time": "2022-03-13T10:13:00.798Z"
   },
   {
    "duration": 312,
    "start_time": "2022-03-13T10:13:25.393Z"
   },
   {
    "duration": 321,
    "start_time": "2022-03-13T10:14:08.719Z"
   },
   {
    "duration": 321,
    "start_time": "2022-03-13T10:14:17.411Z"
   },
   {
    "duration": 320,
    "start_time": "2022-03-13T10:14:28.072Z"
   },
   {
    "duration": 450,
    "start_time": "2022-03-13T10:15:37.465Z"
   },
   {
    "duration": 384,
    "start_time": "2022-03-13T10:15:49.588Z"
   },
   {
    "duration": 418,
    "start_time": "2022-03-13T10:15:59.209Z"
   },
   {
    "duration": 694,
    "start_time": "2022-03-13T10:16:40.934Z"
   },
   {
    "duration": 846,
    "start_time": "2022-03-13T10:16:46.529Z"
   },
   {
    "duration": 703,
    "start_time": "2022-03-13T10:17:12.912Z"
   },
   {
    "duration": 690,
    "start_time": "2022-03-13T10:17:17.012Z"
   },
   {
    "duration": 427,
    "start_time": "2022-03-13T10:17:23.925Z"
   },
   {
    "duration": 636,
    "start_time": "2022-03-13T10:20:14.307Z"
   },
   {
    "duration": 644,
    "start_time": "2022-03-13T10:20:30.998Z"
   },
   {
    "duration": 586,
    "start_time": "2022-03-13T10:20:38.151Z"
   },
   {
    "duration": 474,
    "start_time": "2022-03-13T10:20:45.782Z"
   },
   {
    "duration": 391,
    "start_time": "2022-03-13T10:20:59.737Z"
   },
   {
    "duration": 424,
    "start_time": "2022-03-13T10:21:05.227Z"
   },
   {
    "duration": 104,
    "start_time": "2022-03-13T10:24:39.091Z"
   },
   {
    "duration": 428,
    "start_time": "2022-03-13T10:24:43.060Z"
   },
   {
    "duration": 732,
    "start_time": "2022-03-13T10:24:51.461Z"
   },
   {
    "duration": 522,
    "start_time": "2022-03-13T10:24:57.098Z"
   },
   {
    "duration": 658,
    "start_time": "2022-03-13T10:26:55.316Z"
   },
   {
    "duration": 659,
    "start_time": "2022-03-13T10:28:18.646Z"
   },
   {
    "duration": 411,
    "start_time": "2022-03-13T10:28:25.466Z"
   },
   {
    "duration": 289,
    "start_time": "2022-03-13T10:29:05.440Z"
   },
   {
    "duration": 314,
    "start_time": "2022-03-13T10:29:10.064Z"
   },
   {
    "duration": 331,
    "start_time": "2022-03-13T10:29:21.212Z"
   },
   {
    "duration": 348,
    "start_time": "2022-03-13T10:29:36.775Z"
   },
   {
    "duration": 330,
    "start_time": "2022-03-13T10:29:43.606Z"
   },
   {
    "duration": 431,
    "start_time": "2022-03-13T10:30:19.746Z"
   },
   {
    "duration": 431,
    "start_time": "2022-03-13T10:33:58.429Z"
   },
   {
    "duration": 538,
    "start_time": "2022-03-13T10:34:43.023Z"
   },
   {
    "duration": 750,
    "start_time": "2022-03-13T10:34:52.391Z"
   },
   {
    "duration": 946,
    "start_time": "2022-03-13T10:35:11.510Z"
   },
   {
    "duration": 697,
    "start_time": "2022-03-13T10:35:35.039Z"
   },
   {
    "duration": 519,
    "start_time": "2022-03-13T10:35:53.967Z"
   },
   {
    "duration": 651,
    "start_time": "2022-03-13T10:35:57.878Z"
   },
   {
    "duration": 771,
    "start_time": "2022-03-13T10:38:35.613Z"
   },
   {
    "duration": 521,
    "start_time": "2022-03-13T10:38:49.496Z"
   },
   {
    "duration": 489,
    "start_time": "2022-03-13T10:41:16.372Z"
   },
   {
    "duration": 658,
    "start_time": "2022-03-13T10:41:24.372Z"
   },
   {
    "duration": 491,
    "start_time": "2022-03-13T10:41:30.437Z"
   },
   {
    "duration": 698,
    "start_time": "2022-03-13T10:41:36.483Z"
   },
   {
    "duration": 447,
    "start_time": "2022-03-13T10:41:59.283Z"
   },
   {
    "duration": 575,
    "start_time": "2022-03-13T10:42:06.559Z"
   },
   {
    "duration": 557,
    "start_time": "2022-03-13T10:42:55.863Z"
   },
   {
    "duration": 1112,
    "start_time": "2022-03-13T10:43:09.644Z"
   },
   {
    "duration": 511,
    "start_time": "2022-03-13T10:47:09.450Z"
   },
   {
    "duration": 579,
    "start_time": "2022-03-13T10:47:39.201Z"
   },
   {
    "duration": 419,
    "start_time": "2022-03-13T10:52:51.563Z"
   },
   {
    "duration": 18,
    "start_time": "2022-03-13T10:57:18.512Z"
   },
   {
    "duration": 15,
    "start_time": "2022-03-13T10:58:59.128Z"
   },
   {
    "duration": 13,
    "start_time": "2022-03-13T10:59:17.569Z"
   },
   {
    "duration": 13,
    "start_time": "2022-03-13T11:00:23.545Z"
   },
   {
    "duration": 14,
    "start_time": "2022-03-13T11:01:54.933Z"
   },
   {
    "duration": 955,
    "start_time": "2022-03-13T11:02:17.540Z"
   },
   {
    "duration": 14,
    "start_time": "2022-03-13T11:03:10.794Z"
   },
   {
    "duration": 15,
    "start_time": "2022-03-13T11:09:13.750Z"
   },
   {
    "duration": 932,
    "start_time": "2022-03-13T11:10:14.368Z"
   },
   {
    "duration": 650,
    "start_time": "2022-03-13T11:10:24.223Z"
   },
   {
    "duration": 879,
    "start_time": "2022-03-13T11:10:34.795Z"
   },
   {
    "duration": 15,
    "start_time": "2022-03-13T11:11:06.269Z"
   },
   {
    "duration": 16,
    "start_time": "2022-03-13T11:11:12.218Z"
   },
   {
    "duration": 63,
    "start_time": "2022-03-13T11:19:30.116Z"
   },
   {
    "duration": 73,
    "start_time": "2022-03-13T11:19:52.930Z"
   },
   {
    "duration": 1289,
    "start_time": "2022-03-13T11:22:17.113Z"
   },
   {
    "duration": 626,
    "start_time": "2022-03-13T11:22:18.405Z"
   },
   {
    "duration": 21,
    "start_time": "2022-03-13T11:22:19.034Z"
   },
   {
    "duration": 30,
    "start_time": "2022-03-13T11:22:19.057Z"
   },
   {
    "duration": 70,
    "start_time": "2022-03-13T11:22:19.090Z"
   },
   {
    "duration": 19,
    "start_time": "2022-03-13T11:22:19.162Z"
   },
   {
    "duration": 8,
    "start_time": "2022-03-13T11:22:19.184Z"
   },
   {
    "duration": 132,
    "start_time": "2022-03-13T11:22:19.197Z"
   },
   {
    "duration": 102,
    "start_time": "2022-03-13T11:22:19.332Z"
   },
   {
    "duration": 22,
    "start_time": "2022-03-13T11:22:19.437Z"
   },
   {
    "duration": 18,
    "start_time": "2022-03-13T11:22:19.462Z"
   },
   {
    "duration": 26,
    "start_time": "2022-03-13T11:22:19.483Z"
   },
   {
    "duration": 47,
    "start_time": "2022-03-13T11:22:19.511Z"
   },
   {
    "duration": 69,
    "start_time": "2022-03-13T11:22:19.560Z"
   },
   {
    "duration": 58,
    "start_time": "2022-03-13T11:22:19.631Z"
   },
   {
    "duration": 12,
    "start_time": "2022-03-13T11:22:19.692Z"
   },
   {
    "duration": 11,
    "start_time": "2022-03-13T11:22:19.707Z"
   },
   {
    "duration": 31,
    "start_time": "2022-03-13T11:22:19.757Z"
   },
   {
    "duration": 32,
    "start_time": "2022-03-13T11:22:19.791Z"
   },
   {
    "duration": 43,
    "start_time": "2022-03-13T11:22:19.826Z"
   },
   {
    "duration": 94,
    "start_time": "2022-03-13T11:22:19.872Z"
   },
   {
    "duration": 59,
    "start_time": "2022-03-13T11:22:19.969Z"
   },
   {
    "duration": 42,
    "start_time": "2022-03-13T11:22:20.033Z"
   },
   {
    "duration": 13,
    "start_time": "2022-03-13T11:22:20.078Z"
   },
   {
    "duration": 16,
    "start_time": "2022-03-13T11:22:20.093Z"
   },
   {
    "duration": 55,
    "start_time": "2022-03-13T11:22:20.112Z"
   },
   {
    "duration": 13,
    "start_time": "2022-03-13T11:22:20.169Z"
   },
   {
    "duration": 35,
    "start_time": "2022-03-13T11:22:20.185Z"
   },
   {
    "duration": 39,
    "start_time": "2022-03-13T11:22:20.223Z"
   },
   {
    "duration": 45,
    "start_time": "2022-03-13T11:22:20.265Z"
   },
   {
    "duration": 68,
    "start_time": "2022-03-13T11:22:20.313Z"
   },
   {
    "duration": 33,
    "start_time": "2022-03-13T11:22:20.384Z"
   },
   {
    "duration": 56,
    "start_time": "2022-03-13T11:22:20.451Z"
   },
   {
    "duration": 858,
    "start_time": "2022-03-13T11:22:20.510Z"
   },
   {
    "duration": 967,
    "start_time": "2022-03-13T11:22:21.370Z"
   },
   {
    "duration": 590,
    "start_time": "2022-03-13T11:22:22.340Z"
   },
   {
    "duration": 1131,
    "start_time": "2022-03-13T11:22:22.933Z"
   },
   {
    "duration": 14,
    "start_time": "2022-03-13T11:22:24.067Z"
   },
   {
    "duration": 14,
    "start_time": "2022-03-13T11:22:24.083Z"
   },
   {
    "duration": 1201,
    "start_time": "2022-03-13T11:23:44.854Z"
   },
   {
    "duration": 625,
    "start_time": "2022-03-13T11:23:46.058Z"
   },
   {
    "duration": 11,
    "start_time": "2022-03-13T11:23:46.688Z"
   },
   {
    "duration": 57,
    "start_time": "2022-03-13T11:23:46.703Z"
   },
   {
    "duration": 44,
    "start_time": "2022-03-13T11:23:46.763Z"
   },
   {
    "duration": 43,
    "start_time": "2022-03-13T11:23:46.810Z"
   },
   {
    "duration": 7,
    "start_time": "2022-03-13T11:23:46.855Z"
   },
   {
    "duration": 118,
    "start_time": "2022-03-13T11:23:46.865Z"
   },
   {
    "duration": 101,
    "start_time": "2022-03-13T11:23:46.986Z"
   },
   {
    "duration": 11,
    "start_time": "2022-03-13T11:23:47.090Z"
   },
   {
    "duration": 47,
    "start_time": "2022-03-13T11:23:47.104Z"
   },
   {
    "duration": 28,
    "start_time": "2022-03-13T11:23:47.154Z"
   },
   {
    "duration": 16,
    "start_time": "2022-03-13T11:23:47.185Z"
   },
   {
    "duration": 93,
    "start_time": "2022-03-13T11:23:47.203Z"
   },
   {
    "duration": 53,
    "start_time": "2022-03-13T11:23:47.299Z"
   },
   {
    "duration": 13,
    "start_time": "2022-03-13T11:23:47.355Z"
   },
   {
    "duration": 11,
    "start_time": "2022-03-13T11:23:47.370Z"
   },
   {
    "duration": 20,
    "start_time": "2022-03-13T11:23:47.383Z"
   },
   {
    "duration": 61,
    "start_time": "2022-03-13T11:23:47.406Z"
   },
   {
    "duration": 16,
    "start_time": "2022-03-13T11:23:47.469Z"
   },
   {
    "duration": 100,
    "start_time": "2022-03-13T11:23:47.487Z"
   },
   {
    "duration": 71,
    "start_time": "2022-03-13T11:23:47.590Z"
   },
   {
    "duration": 26,
    "start_time": "2022-03-13T11:23:47.665Z"
   },
   {
    "duration": 13,
    "start_time": "2022-03-13T11:23:47.694Z"
   },
   {
    "duration": 43,
    "start_time": "2022-03-13T11:23:47.709Z"
   },
   {
    "duration": 30,
    "start_time": "2022-03-13T11:23:47.755Z"
   },
   {
    "duration": 12,
    "start_time": "2022-03-13T11:23:47.788Z"
   },
   {
    "duration": 67,
    "start_time": "2022-03-13T11:23:47.802Z"
   },
   {
    "duration": 10,
    "start_time": "2022-03-13T11:23:47.872Z"
   },
   {
    "duration": 41,
    "start_time": "2022-03-13T11:23:47.884Z"
   },
   {
    "duration": 52,
    "start_time": "2022-03-13T11:23:47.952Z"
   },
   {
    "duration": 799,
    "start_time": "2022-03-13T11:23:48.006Z"
   },
   {
    "duration": 910,
    "start_time": "2022-03-13T11:23:48.808Z"
   },
   {
    "duration": 549,
    "start_time": "2022-03-13T11:23:49.721Z"
   },
   {
    "duration": 1008,
    "start_time": "2022-03-13T11:23:50.273Z"
   },
   {
    "duration": 14,
    "start_time": "2022-03-13T11:23:51.284Z"
   },
   {
    "duration": 13,
    "start_time": "2022-03-13T11:23:51.302Z"
   },
   {
    "duration": 992,
    "start_time": "2022-03-22T12:44:56.648Z"
   },
   {
    "duration": 688,
    "start_time": "2022-03-22T12:44:57.643Z"
   },
   {
    "duration": 17,
    "start_time": "2022-03-22T12:44:58.334Z"
   },
   {
    "duration": 36,
    "start_time": "2022-03-22T12:44:58.356Z"
   },
   {
    "duration": 75,
    "start_time": "2022-03-22T12:44:58.395Z"
   },
   {
    "duration": 26,
    "start_time": "2022-03-22T12:44:58.472Z"
   },
   {
    "duration": 7,
    "start_time": "2022-03-22T12:44:58.500Z"
   },
   {
    "duration": 126,
    "start_time": "2022-03-22T12:44:58.509Z"
   },
   {
    "duration": 104,
    "start_time": "2022-03-22T12:44:58.643Z"
   },
   {
    "duration": 11,
    "start_time": "2022-03-22T12:44:58.751Z"
   },
   {
    "duration": 27,
    "start_time": "2022-03-22T12:44:58.764Z"
   },
   {
    "duration": 56,
    "start_time": "2022-03-22T12:44:58.793Z"
   },
   {
    "duration": 23,
    "start_time": "2022-03-22T12:44:58.852Z"
   },
   {
    "duration": 90,
    "start_time": "2022-03-22T12:44:58.878Z"
   },
   {
    "duration": 43,
    "start_time": "2022-03-22T12:44:58.971Z"
   },
   {
    "duration": 37,
    "start_time": "2022-03-22T12:44:59.016Z"
   },
   {
    "duration": 27,
    "start_time": "2022-03-22T12:44:59.055Z"
   },
   {
    "duration": 28,
    "start_time": "2022-03-22T12:44:59.084Z"
   },
   {
    "duration": 51,
    "start_time": "2022-03-22T12:44:59.115Z"
   },
   {
    "duration": 23,
    "start_time": "2022-03-22T12:44:59.168Z"
   },
   {
    "duration": 96,
    "start_time": "2022-03-22T12:44:59.193Z"
   },
   {
    "duration": 64,
    "start_time": "2022-03-22T12:44:59.292Z"
   },
   {
    "duration": 25,
    "start_time": "2022-03-22T12:44:59.358Z"
   },
   {
    "duration": 12,
    "start_time": "2022-03-22T12:44:59.386Z"
   },
   {
    "duration": 46,
    "start_time": "2022-03-22T12:44:59.401Z"
   },
   {
    "duration": 30,
    "start_time": "2022-03-22T12:44:59.449Z"
   },
   {
    "duration": 12,
    "start_time": "2022-03-22T12:44:59.481Z"
   },
   {
    "duration": 63,
    "start_time": "2022-03-22T12:44:59.497Z"
   },
   {
    "duration": 17,
    "start_time": "2022-03-22T12:44:59.562Z"
   },
   {
    "duration": 68,
    "start_time": "2022-03-22T12:44:59.581Z"
   },
   {
    "duration": 52,
    "start_time": "2022-03-22T12:44:59.651Z"
   },
   {
    "duration": 1349,
    "start_time": "2022-03-22T12:44:59.705Z"
   },
   {
    "duration": 658,
    "start_time": "2022-03-22T12:45:01.056Z"
   },
   {
    "duration": 396,
    "start_time": "2022-03-22T12:45:01.716Z"
   },
   {
    "duration": 677,
    "start_time": "2022-03-22T12:45:02.114Z"
   },
   {
    "duration": 17,
    "start_time": "2022-03-22T12:45:02.793Z"
   },
   {
    "duration": 39,
    "start_time": "2022-03-22T12:45:02.812Z"
   },
   {
    "duration": 785,
    "start_time": "2022-03-22T18:20:54.796Z"
   },
   {
    "duration": 1266,
    "start_time": "2022-03-22T18:20:55.582Z"
   },
   {
    "duration": 9,
    "start_time": "2022-03-22T18:20:56.849Z"
   },
   {
    "duration": 35,
    "start_time": "2022-03-22T18:20:56.860Z"
   },
   {
    "duration": 30,
    "start_time": "2022-03-22T18:20:56.899Z"
   },
   {
    "duration": 19,
    "start_time": "2022-03-22T18:20:56.930Z"
   },
   {
    "duration": 5,
    "start_time": "2022-03-22T18:20:56.950Z"
   },
   {
    "duration": 105,
    "start_time": "2022-03-22T18:20:56.956Z"
   },
   {
    "duration": 78,
    "start_time": "2022-03-22T18:20:57.063Z"
   },
   {
    "duration": 7,
    "start_time": "2022-03-22T18:20:57.143Z"
   },
   {
    "duration": 37,
    "start_time": "2022-03-22T18:20:57.152Z"
   },
   {
    "duration": 23,
    "start_time": "2022-03-22T18:20:57.191Z"
   },
   {
    "duration": 31,
    "start_time": "2022-03-22T18:20:57.217Z"
   },
   {
    "duration": 83,
    "start_time": "2022-03-22T18:20:57.250Z"
   },
   {
    "duration": 67,
    "start_time": "2022-03-22T18:20:57.336Z"
   },
   {
    "duration": 16,
    "start_time": "2022-03-22T18:20:57.405Z"
   },
   {
    "duration": 64,
    "start_time": "2022-03-22T18:21:36.883Z"
   },
   {
    "duration": 33,
    "start_time": "2022-03-22T18:22:16.212Z"
   },
   {
    "duration": 3,
    "start_time": "2022-03-22T18:30:17.463Z"
   },
   {
    "duration": 498,
    "start_time": "2022-03-22T18:30:17.469Z"
   },
   {
    "duration": 12,
    "start_time": "2022-03-22T18:30:17.969Z"
   },
   {
    "duration": 26,
    "start_time": "2022-03-22T18:30:17.982Z"
   },
   {
    "duration": 30,
    "start_time": "2022-03-22T18:30:18.010Z"
   },
   {
    "duration": 57,
    "start_time": "2022-03-22T18:30:18.042Z"
   },
   {
    "duration": 5,
    "start_time": "2022-03-22T18:30:18.102Z"
   },
   {
    "duration": 107,
    "start_time": "2022-03-22T18:30:18.109Z"
   },
   {
    "duration": 83,
    "start_time": "2022-03-22T18:30:18.218Z"
   },
   {
    "duration": 10,
    "start_time": "2022-03-22T18:30:18.303Z"
   },
   {
    "duration": 24,
    "start_time": "2022-03-22T18:30:18.315Z"
   },
   {
    "duration": 41,
    "start_time": "2022-03-22T18:30:18.340Z"
   },
   {
    "duration": 15,
    "start_time": "2022-03-22T18:30:18.384Z"
   },
   {
    "duration": 43,
    "start_time": "2022-03-22T18:30:18.401Z"
   },
   {
    "duration": 44,
    "start_time": "2022-03-22T18:30:18.446Z"
   },
   {
    "duration": 9,
    "start_time": "2022-03-22T18:30:18.491Z"
   },
   {
    "duration": 8,
    "start_time": "2022-03-22T18:30:18.502Z"
   },
   {
    "duration": 26,
    "start_time": "2022-03-22T18:30:18.512Z"
   },
   {
    "duration": 47,
    "start_time": "2022-03-22T18:30:18.540Z"
   },
   {
    "duration": 16,
    "start_time": "2022-03-22T18:30:18.590Z"
   },
   {
    "duration": 50,
    "start_time": "2022-03-22T18:30:18.608Z"
   },
   {
    "duration": 53,
    "start_time": "2022-03-22T18:30:18.661Z"
   },
   {
    "duration": 24,
    "start_time": "2022-03-22T18:30:18.716Z"
   },
   {
    "duration": 12,
    "start_time": "2022-03-22T18:30:18.742Z"
   },
   {
    "duration": 33,
    "start_time": "2022-03-22T18:30:18.756Z"
   },
   {
    "duration": 23,
    "start_time": "2022-03-22T18:30:18.791Z"
   },
   {
    "duration": 12,
    "start_time": "2022-03-22T18:30:18.816Z"
   },
   {
    "duration": 52,
    "start_time": "2022-03-22T18:30:18.831Z"
   },
   {
    "duration": 18,
    "start_time": "2022-03-22T18:30:18.885Z"
   },
   {
    "duration": 26,
    "start_time": "2022-03-22T18:30:18.905Z"
   },
   {
    "duration": 60,
    "start_time": "2022-03-22T18:30:18.932Z"
   },
   {
    "duration": 743,
    "start_time": "2022-03-22T18:30:18.994Z"
   },
   {
    "duration": 356,
    "start_time": "2022-03-22T18:30:19.739Z"
   },
   {
    "duration": 209,
    "start_time": "2022-03-22T18:30:20.097Z"
   },
   {
    "duration": 373,
    "start_time": "2022-03-22T18:30:20.308Z"
   },
   {
    "duration": 9,
    "start_time": "2022-03-22T18:30:33.904Z"
   },
   {
    "duration": 7,
    "start_time": "2022-03-22T18:30:45.132Z"
   },
   {
    "duration": 7,
    "start_time": "2022-03-22T18:30:51.978Z"
   },
   {
    "duration": 9,
    "start_time": "2022-03-22T18:30:55.245Z"
   },
   {
    "duration": 14,
    "start_time": "2022-03-22T18:34:45.577Z"
   },
   {
    "duration": 12,
    "start_time": "2022-03-22T18:34:52.575Z"
   },
   {
    "duration": 944,
    "start_time": "2022-03-22T18:37:16.337Z"
   },
   {
    "duration": 542,
    "start_time": "2022-03-22T18:37:17.283Z"
   },
   {
    "duration": 7,
    "start_time": "2022-03-22T18:37:17.827Z"
   },
   {
    "duration": 27,
    "start_time": "2022-03-22T18:37:17.836Z"
   },
   {
    "duration": 37,
    "start_time": "2022-03-22T18:37:17.865Z"
   },
   {
    "duration": 17,
    "start_time": "2022-03-22T18:37:17.903Z"
   },
   {
    "duration": 5,
    "start_time": "2022-03-22T18:37:17.922Z"
   },
   {
    "duration": 85,
    "start_time": "2022-03-22T18:37:17.928Z"
   },
   {
    "duration": 73,
    "start_time": "2022-03-22T18:37:18.014Z"
   },
   {
    "duration": 7,
    "start_time": "2022-03-22T18:37:18.090Z"
   },
   {
    "duration": 18,
    "start_time": "2022-03-22T18:37:18.099Z"
   },
   {
    "duration": 20,
    "start_time": "2022-03-22T18:37:18.119Z"
   },
   {
    "duration": 15,
    "start_time": "2022-03-22T18:37:18.140Z"
   },
   {
    "duration": 43,
    "start_time": "2022-03-22T18:37:18.182Z"
   },
   {
    "duration": 30,
    "start_time": "2022-03-22T18:37:18.226Z"
   },
   {
    "duration": 29,
    "start_time": "2022-03-22T18:37:18.258Z"
   },
   {
    "duration": 9,
    "start_time": "2022-03-22T18:37:18.289Z"
   },
   {
    "duration": 23,
    "start_time": "2022-03-22T18:37:18.299Z"
   },
   {
    "duration": 22,
    "start_time": "2022-03-22T18:37:18.323Z"
   },
   {
    "duration": 41,
    "start_time": "2022-03-22T18:37:18.346Z"
   },
   {
    "duration": 49,
    "start_time": "2022-03-22T18:37:18.388Z"
   },
   {
    "duration": 56,
    "start_time": "2022-03-22T18:37:18.438Z"
   },
   {
    "duration": 18,
    "start_time": "2022-03-22T18:37:18.496Z"
   },
   {
    "duration": 9,
    "start_time": "2022-03-22T18:37:18.515Z"
   },
   {
    "duration": 11,
    "start_time": "2022-03-22T18:37:18.526Z"
   },
   {
    "duration": 19,
    "start_time": "2022-03-22T18:37:18.539Z"
   },
   {
    "duration": 31,
    "start_time": "2022-03-22T18:37:18.559Z"
   },
   {
    "duration": 22,
    "start_time": "2022-03-22T18:37:18.593Z"
   },
   {
    "duration": 11,
    "start_time": "2022-03-22T18:37:18.617Z"
   },
   {
    "duration": 51,
    "start_time": "2022-03-22T18:37:18.630Z"
   },
   {
    "duration": 32,
    "start_time": "2022-03-22T18:37:18.683Z"
   },
   {
    "duration": 539,
    "start_time": "2022-03-22T18:37:18.717Z"
   },
   {
    "duration": 340,
    "start_time": "2022-03-22T18:37:19.258Z"
   },
   {
    "duration": 195,
    "start_time": "2022-03-22T18:37:19.600Z"
   },
   {
    "duration": 347,
    "start_time": "2022-03-22T18:37:19.796Z"
   },
   {
    "duration": 10,
    "start_time": "2022-03-22T18:37:20.145Z"
   },
   {
    "duration": 10,
    "start_time": "2022-03-22T18:37:20.156Z"
   },
   {
    "duration": 10,
    "start_time": "2022-03-22T18:37:20.180Z"
   },
   {
    "duration": 10,
    "start_time": "2022-03-22T18:37:20.191Z"
   }
  ],
  "kernelspec": {
   "display_name": "Python 3",
   "language": "python",
   "name": "python3"
  },
  "language_info": {
   "codemirror_mode": {
    "name": "ipython",
    "version": 3
   },
   "file_extension": ".py",
   "mimetype": "text/x-python",
   "name": "python",
   "nbconvert_exporter": "python",
   "pygments_lexer": "ipython3",
   "version": "3.7.6"
  },
  "toc": {
   "base_numbering": 1,
   "nav_menu": {},
   "number_sections": true,
   "sideBar": true,
   "skip_h1_title": true,
   "title_cell": "Table of Contents",
   "title_sidebar": "Contents",
   "toc_cell": false,
   "toc_position": {},
   "toc_section_display": true,
   "toc_window_display": false
  }
 },
 "nbformat": 4,
 "nbformat_minor": 2
}
