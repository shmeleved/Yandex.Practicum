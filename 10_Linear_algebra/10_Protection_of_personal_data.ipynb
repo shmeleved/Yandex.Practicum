{
 "cells": [
  {
   "cell_type": "markdown",
   "metadata": {},
   "source": [
    "# Protection of personal data of clients"
   ]
  },
  {
   "cell_type": "markdown",
   "metadata": {},
   "source": [
    "It is necessary to protect the customer data of the insurance company \"Though the flood\". Develop a method of data transformation so that it is difficult to recover personal information from them. Justify the correctness of his work.\n",
    "\n",
    "It is necessary to protect the data so that the quality of machine learning models does not deteriorate during the conversion. There is no need to select the best model."
   ]
  },
  {
   "cell_type": "markdown",
   "metadata": {},
   "source": [
    "## Data loading"
   ]
  },
  {
   "cell_type": "code",
   "execution_count": 1,
   "metadata": {},
   "outputs": [],
   "source": [
    "import pandas as pd\n",
    "import numpy as np\n",
    "from sklearn.linear_model import LinearRegression\n",
    "from sklearn.metrics import r2_score"
   ]
  },
  {
   "cell_type": "code",
   "execution_count": 2,
   "metadata": {
    "scrolled": false
   },
   "outputs": [
    {
     "data": {
      "text/html": [
       "<div>\n",
       "<style scoped>\n",
       "    .dataframe tbody tr th:only-of-type {\n",
       "        vertical-align: middle;\n",
       "    }\n",
       "\n",
       "    .dataframe tbody tr th {\n",
       "        vertical-align: top;\n",
       "    }\n",
       "\n",
       "    .dataframe thead th {\n",
       "        text-align: right;\n",
       "    }\n",
       "</style>\n",
       "<table border=\"1\" class=\"dataframe\">\n",
       "  <thead>\n",
       "    <tr style=\"text-align: right;\">\n",
       "      <th></th>\n",
       "      <th>Пол</th>\n",
       "      <th>Возраст</th>\n",
       "      <th>Зарплата</th>\n",
       "      <th>Члены семьи</th>\n",
       "      <th>Страховые выплаты</th>\n",
       "    </tr>\n",
       "  </thead>\n",
       "  <tbody>\n",
       "    <tr>\n",
       "      <th>0</th>\n",
       "      <td>1</td>\n",
       "      <td>41.0</td>\n",
       "      <td>49600.0</td>\n",
       "      <td>1</td>\n",
       "      <td>0</td>\n",
       "    </tr>\n",
       "    <tr>\n",
       "      <th>1</th>\n",
       "      <td>0</td>\n",
       "      <td>46.0</td>\n",
       "      <td>38000.0</td>\n",
       "      <td>1</td>\n",
       "      <td>1</td>\n",
       "    </tr>\n",
       "    <tr>\n",
       "      <th>2</th>\n",
       "      <td>0</td>\n",
       "      <td>29.0</td>\n",
       "      <td>21000.0</td>\n",
       "      <td>0</td>\n",
       "      <td>0</td>\n",
       "    </tr>\n",
       "    <tr>\n",
       "      <th>3</th>\n",
       "      <td>0</td>\n",
       "      <td>21.0</td>\n",
       "      <td>41700.0</td>\n",
       "      <td>2</td>\n",
       "      <td>0</td>\n",
       "    </tr>\n",
       "    <tr>\n",
       "      <th>4</th>\n",
       "      <td>1</td>\n",
       "      <td>28.0</td>\n",
       "      <td>26100.0</td>\n",
       "      <td>0</td>\n",
       "      <td>0</td>\n",
       "    </tr>\n",
       "    <tr>\n",
       "      <th>...</th>\n",
       "      <td>...</td>\n",
       "      <td>...</td>\n",
       "      <td>...</td>\n",
       "      <td>...</td>\n",
       "      <td>...</td>\n",
       "    </tr>\n",
       "    <tr>\n",
       "      <th>4995</th>\n",
       "      <td>0</td>\n",
       "      <td>28.0</td>\n",
       "      <td>35700.0</td>\n",
       "      <td>2</td>\n",
       "      <td>0</td>\n",
       "    </tr>\n",
       "    <tr>\n",
       "      <th>4996</th>\n",
       "      <td>0</td>\n",
       "      <td>34.0</td>\n",
       "      <td>52400.0</td>\n",
       "      <td>1</td>\n",
       "      <td>0</td>\n",
       "    </tr>\n",
       "    <tr>\n",
       "      <th>4997</th>\n",
       "      <td>0</td>\n",
       "      <td>20.0</td>\n",
       "      <td>33900.0</td>\n",
       "      <td>2</td>\n",
       "      <td>0</td>\n",
       "    </tr>\n",
       "    <tr>\n",
       "      <th>4998</th>\n",
       "      <td>1</td>\n",
       "      <td>22.0</td>\n",
       "      <td>32700.0</td>\n",
       "      <td>3</td>\n",
       "      <td>0</td>\n",
       "    </tr>\n",
       "    <tr>\n",
       "      <th>4999</th>\n",
       "      <td>1</td>\n",
       "      <td>28.0</td>\n",
       "      <td>40600.0</td>\n",
       "      <td>1</td>\n",
       "      <td>0</td>\n",
       "    </tr>\n",
       "  </tbody>\n",
       "</table>\n",
       "<p>5000 rows × 5 columns</p>\n",
       "</div>"
      ],
      "text/plain": [
       "      Пол  Возраст  Зарплата  Члены семьи  Страховые выплаты\n",
       "0       1     41.0   49600.0            1                  0\n",
       "1       0     46.0   38000.0            1                  1\n",
       "2       0     29.0   21000.0            0                  0\n",
       "3       0     21.0   41700.0            2                  0\n",
       "4       1     28.0   26100.0            0                  0\n",
       "...   ...      ...       ...          ...                ...\n",
       "4995    0     28.0   35700.0            2                  0\n",
       "4996    0     34.0   52400.0            1                  0\n",
       "4997    0     20.0   33900.0            2                  0\n",
       "4998    1     22.0   32700.0            3                  0\n",
       "4999    1     28.0   40600.0            1                  0\n",
       "\n",
       "[5000 rows x 5 columns]"
      ]
     },
     "execution_count": 2,
     "metadata": {},
     "output_type": "execute_result"
    }
   ],
   "source": [
    "df = pd.read_csv('datasets/insurance.csv')\n",
    "df"
   ]
  },
  {
   "cell_type": "code",
   "execution_count": 5,
   "metadata": {},
   "outputs": [
    {
     "data": {
      "text/html": [
       "<div>\n",
       "<style scoped>\n",
       "    .dataframe tbody tr th:only-of-type {\n",
       "        vertical-align: middle;\n",
       "    }\n",
       "\n",
       "    .dataframe tbody tr th {\n",
       "        vertical-align: top;\n",
       "    }\n",
       "\n",
       "    .dataframe thead th {\n",
       "        text-align: right;\n",
       "    }\n",
       "</style>\n",
       "<table border=\"1\" class=\"dataframe\">\n",
       "  <thead>\n",
       "    <tr style=\"text-align: right;\">\n",
       "      <th></th>\n",
       "      <th>Пол</th>\n",
       "      <th>Возраст</th>\n",
       "      <th>Зарплата</th>\n",
       "      <th>Члены семьи</th>\n",
       "      <th>Страховые выплаты</th>\n",
       "    </tr>\n",
       "  </thead>\n",
       "  <tbody>\n",
       "    <tr>\n",
       "      <th>count</th>\n",
       "      <td>5000.000000</td>\n",
       "      <td>5000.000000</td>\n",
       "      <td>5000.000000</td>\n",
       "      <td>5000.000000</td>\n",
       "      <td>5000.000000</td>\n",
       "    </tr>\n",
       "    <tr>\n",
       "      <th>mean</th>\n",
       "      <td>0.499000</td>\n",
       "      <td>30.952800</td>\n",
       "      <td>39916.360000</td>\n",
       "      <td>1.194200</td>\n",
       "      <td>0.148000</td>\n",
       "    </tr>\n",
       "    <tr>\n",
       "      <th>std</th>\n",
       "      <td>0.500049</td>\n",
       "      <td>8.440807</td>\n",
       "      <td>9900.083569</td>\n",
       "      <td>1.091387</td>\n",
       "      <td>0.463183</td>\n",
       "    </tr>\n",
       "    <tr>\n",
       "      <th>min</th>\n",
       "      <td>0.000000</td>\n",
       "      <td>18.000000</td>\n",
       "      <td>5300.000000</td>\n",
       "      <td>0.000000</td>\n",
       "      <td>0.000000</td>\n",
       "    </tr>\n",
       "    <tr>\n",
       "      <th>25%</th>\n",
       "      <td>0.000000</td>\n",
       "      <td>24.000000</td>\n",
       "      <td>33300.000000</td>\n",
       "      <td>0.000000</td>\n",
       "      <td>0.000000</td>\n",
       "    </tr>\n",
       "    <tr>\n",
       "      <th>50%</th>\n",
       "      <td>0.000000</td>\n",
       "      <td>30.000000</td>\n",
       "      <td>40200.000000</td>\n",
       "      <td>1.000000</td>\n",
       "      <td>0.000000</td>\n",
       "    </tr>\n",
       "    <tr>\n",
       "      <th>75%</th>\n",
       "      <td>1.000000</td>\n",
       "      <td>37.000000</td>\n",
       "      <td>46600.000000</td>\n",
       "      <td>2.000000</td>\n",
       "      <td>0.000000</td>\n",
       "    </tr>\n",
       "    <tr>\n",
       "      <th>max</th>\n",
       "      <td>1.000000</td>\n",
       "      <td>65.000000</td>\n",
       "      <td>79000.000000</td>\n",
       "      <td>6.000000</td>\n",
       "      <td>5.000000</td>\n",
       "    </tr>\n",
       "  </tbody>\n",
       "</table>\n",
       "</div>"
      ],
      "text/plain": [
       "               Пол      Возраст      Зарплата  Члены семьи  Страховые выплаты\n",
       "count  5000.000000  5000.000000   5000.000000  5000.000000        5000.000000\n",
       "mean      0.499000    30.952800  39916.360000     1.194200           0.148000\n",
       "std       0.500049     8.440807   9900.083569     1.091387           0.463183\n",
       "min       0.000000    18.000000   5300.000000     0.000000           0.000000\n",
       "25%       0.000000    24.000000  33300.000000     0.000000           0.000000\n",
       "50%       0.000000    30.000000  40200.000000     1.000000           0.000000\n",
       "75%       1.000000    37.000000  46600.000000     2.000000           0.000000\n",
       "max       1.000000    65.000000  79000.000000     6.000000           5.000000"
      ]
     },
     "execution_count": 5,
     "metadata": {},
     "output_type": "execute_result"
    }
   ],
   "source": [
    "df.describe()"
   ]
  },
  {
   "cell_type": "code",
   "execution_count": 3,
   "metadata": {},
   "outputs": [
    {
     "name": "stdout",
     "output_type": "stream",
     "text": [
      "<class 'pandas.core.frame.DataFrame'>\n",
      "RangeIndex: 5000 entries, 0 to 4999\n",
      "Data columns (total 5 columns):\n",
      " #   Column             Non-Null Count  Dtype  \n",
      "---  ------             --------------  -----  \n",
      " 0   Пол                5000 non-null   int64  \n",
      " 1   Возраст            5000 non-null   float64\n",
      " 2   Зарплата           5000 non-null   float64\n",
      " 3   Члены семьи        5000 non-null   int64  \n",
      " 4   Страховые выплаты  5000 non-null   int64  \n",
      "dtypes: float64(2), int64(3)\n",
      "memory usage: 195.4 KB\n"
     ]
    }
   ],
   "source": [
    "df.info()"
   ]
  },
  {
   "cell_type": "markdown",
   "metadata": {},
   "source": [
    "Features: `Gender` (Пол), `Age` (Возраст) and `Salary` (Зарплата) of the insured, the `Number of Family Members` (Члены семьи).\n",
    "\n",
    "Target: the `Number of Insurance Payments` (Страховые выплаты) to the client over the past 5 years."
   ]
  },
  {
   "cell_type": "markdown",
   "metadata": {},
   "source": [
    "### Conclusion"
   ]
  },
  {
   "cell_type": "markdown",
   "metadata": {},
   "source": [
    "The data consists of 5 columns and 5 thousand rows.\n",
    "\n",
    "There are no missing values in the data"
   ]
  },
  {
   "cell_type": "markdown",
   "metadata": {},
   "source": [
    "## Matrix multiplication"
   ]
  },
  {
   "cell_type": "markdown",
   "metadata": {},
   "source": [
    "Notation:\n",
    "\n",
    "- $X$ — feature matrix (the zero column consists of units)\n",
    "\n",
    "- $y$ — vector of the target feature\n",
    "\n",
    "- $P$ - the matrix by which the signs are multiplied\n",
    "\n",
    "- $w$ — vector of linear regression weights (the zero element is equal to the shift)"
   ]
  },
  {
   "cell_type": "markdown",
   "metadata": {},
   "source": [
    "Predictions:\n",
    "\n",
    "$$\n",
    "a = Xw\n",
    "$$\n",
    "\n",
    "The task of training:\n",
    "\n",
    "$$\n",
    "w = \\arg\\min_w MSE(Xw, y)\n",
    "$$\n",
    "\n",
    "Learning equation:\n",
    "\n",
    "$$\n",
    "w = (X^T X)^{-1} X^T y\n",
    "$$"
   ]
  },
  {
   "cell_type": "markdown",
   "metadata": {},
   "source": [
    "$$\n",
    "a = Xw = XEw = XPP^{-1}w = (XP)P^{-1}w = (XP)w'\n",
    "$$\n",
    "\n",
    "$$\n",
    "w' = ((XP)^T XP)^{-1} (XP)^T y\n",
    "$$\n",
    "$$\n",
    "w' = (P^T (X^T X) P)^{-1} (XP)^T y\n",
    "$$\n",
    "$$\n",
    "w' = (XP)^{-1}(P^T X^T)^{-1} P^T X^T y\n",
    "$$\n",
    "$$\n",
    "w' = P^{-1} (X^{-1} X^T)^{-1} (P^T)^{-1} P^T X^T y\n",
    "$$\n",
    "$$\n",
    "w' = P^{-1} X^{-1} (X^T)^{-1} X^T y\n",
    "$$\n",
    "$$\n",
    "w' = P^{-1} (X^T X)^{-1} X^T y\n",
    "$$\n",
    "$$\n",
    "w' = P^{-1}w\n",
    "$$"
   ]
  },
  {
   "cell_type": "markdown",
   "metadata": {},
   "source": [
    "$$\n",
    "a = Xw = XEw = XPP^{-1}w = (XP)P^{-1}w = (XP)w'\n",
    "$$\n",
    "\n",
    "$$\n",
    "w' = ((XP)^T XP)^{-1} (XP)^T y\n",
    "$$\n",
    "$$\n",
    "w' = (P^T (X^T X) P)^{-1} (XP)^T y\n",
    "$$\n",
    "$$\n",
    "w' = (P^T (X^T X) P)^{-1} P^T X^T y\n",
    "$$\n",
    "$$\n",
    "w' = P^{-1} (X^T X)^{-1} (P^T)^{-1} P^T X^T y\n",
    "$$\n",
    "$$\n",
    "w' = P^{-1} (X^T X)^{-1} E X^T y\n",
    "$$\n",
    "$$\n",
    "w' = P^{-1}w\n",
    "$$"
   ]
  },
  {
   "cell_type": "markdown",
   "metadata": {},
   "source": [
    "### Model Training:"
   ]
  },
  {
   "cell_type": "code",
   "execution_count": 6,
   "metadata": {},
   "outputs": [],
   "source": [
    "features = df.drop('Страховые выплаты',axis=1)\n",
    "target = df['Страховые выплаты']"
   ]
  },
  {
   "cell_type": "code",
   "execution_count": 9,
   "metadata": {},
   "outputs": [
    {
     "name": "stdout",
     "output_type": "stream",
     "text": [
      "R2 metric based on initial data: 0.4249\n"
     ]
    }
   ],
   "source": [
    "model = LinearRegression()\n",
    "model.fit(features,target)\n",
    "predictions = model.predict(features)\n",
    "r2_initial = r2_score(target,predictions)\n",
    "print(f'R2 metric based on initial data: {round(r2_initial,4)}')"
   ]
  },
  {
   "cell_type": "markdown",
   "metadata": {},
   "source": [
    "### Creating an inverse matrix:"
   ]
  },
  {
   "cell_type": "code",
   "execution_count": 12,
   "metadata": {},
   "outputs": [
    {
     "name": "stdout",
     "output_type": "stream",
     "text": [
      "Random matrix:\n",
      " [[59 25 19 30]\n",
      " [98 92 34 49]\n",
      " [44 91 76 96]\n",
      " [34 75 91 28]]\n",
      "\n",
      "The random matrix is reversible:\n",
      " [[ 2.13411316e-02  4.07944946e-05 -7.12028956e-03  1.47553291e-03]\n",
      " [-3.35938042e-02  2.03750678e-02  3.60747432e-04 -8.99855259e-04]\n",
      " [ 1.70873483e-02 -1.43564936e-02 -2.30172044e-03  1.47076035e-02]\n",
      " [ 8.53529084e-03 -7.96700636e-03  1.51603696e-02 -1.14668175e-02]]\n"
     ]
    }
   ],
   "source": [
    "array = np.random.randint(100, size=(features.shape[1],features.shape[1]))\n",
    "print('Random matrix:\\n',array)\n",
    "try:\n",
    "    inverse = np.linalg.inv(array)\n",
    "except numpy.linalg.LinAlgError:\n",
    "    print('The matrix is irreversible, restart the code!')\n",
    "\n",
    "print()    \n",
    "print('The random matrix is reversible:\\n',inverse)"
   ]
  },
  {
   "cell_type": "markdown",
   "metadata": {},
   "source": [
    "### We multiply the features by an invertible matrix and train the model:"
   ]
  },
  {
   "cell_type": "code",
   "execution_count": 13,
   "metadata": {},
   "outputs": [
    {
     "data": {
      "text/plain": [
       "array([[2186511., 4517472., 3771104., 4763667.],\n",
       "       [1676542., 3462307., 2889655., 3650282.],\n",
       "       [ 926842., 1913668., 1596986., 2017421.],\n",
       "       ...,\n",
       "       [1493628., 3086890., 2577262., 3255436.],\n",
       "       [1441117., 2977974., 2486240., 3140392.],\n",
       "       [1789237., 3697276., 3086662., 3899030.]])"
      ]
     },
     "execution_count": 13,
     "metadata": {},
     "output_type": "execute_result"
    }
   ],
   "source": [
    "features_reverse = np.dot(df.drop('Страховые выплаты',axis=1).values,array)\n",
    "features_reverse"
   ]
  },
  {
   "cell_type": "code",
   "execution_count": 14,
   "metadata": {},
   "outputs": [],
   "source": [
    "model = LinearRegression()\n",
    "model.fit(pd.DataFrame(features_reverse),target)\n",
    "predictions = model.predict(pd.DataFrame(features_reverse))\n",
    "r2_reverse = r2_score(target,predictions)"
   ]
  },
  {
   "cell_type": "code",
   "execution_count": 18,
   "metadata": {},
   "outputs": [
    {
     "name": "stdout",
     "output_type": "stream",
     "text": [
      "R2 metric based on initial data: 0.42495\n",
      "The metric is R2 if we multiply the data by an invertible matrix: 0.42495\n"
     ]
    }
   ],
   "source": [
    "print(f'R2 metric based on initial data: {round(r2_initial,5)}')\n",
    "print(f'The metric is R2 if we multiply the data by an invertible matrix: {round(r2_reverse,5)}')"
   ]
  },
  {
   "cell_type": "markdown",
   "metadata": {},
   "source": [
    "### Justification and response"
   ]
  },
  {
   "cell_type": "markdown",
   "metadata": {},
   "source": [
    "As can be seen, the multiplication of features by a reversible matrix had almost no effect on the accuracy of the model.\n",
    "\n",
    "R2 in both cases are identical"
   ]
  },
  {
   "cell_type": "markdown",
   "metadata": {},
   "source": [
    "## Conversion algorithm"
   ]
  },
  {
   "cell_type": "markdown",
   "metadata": {},
   "source": [
    "**Algorithm**"
   ]
  },
  {
   "cell_type": "code",
   "execution_count": 19,
   "metadata": {},
   "outputs": [],
   "source": [
    "def coding(df):\n",
    "    # Creating an invertible matrix\n",
    "    array = np.random.randint(100, size=(df.drop('Страховые выплаты',axis=1).shape[1],\n",
    "                                         df.drop('Страховые выплаты',axis=1).shape[1]))\n",
    "    try:\n",
    "        inverse = np.linalg.inv(array)\n",
    "    except numpy.linalg.LinAlgError:\n",
    "        print('The matrix is irreversible, restart the code!')\n",
    "\n",
    "    # We multiply the features by an invertible matrix and train the model\n",
    "    features_reverse = np.dot(df.drop('Страховые выплаты',axis=1).values,array)\n",
    "\n",
    "    model = LinearRegression()\n",
    "    model.fit(pd.DataFrame(features_reverse),df['Страховые выплаты'])\n",
    "    predictions = model.predict(pd.DataFrame(features_reverse))\n",
    "    return r2_score(target,predictions)"
   ]
  },
  {
   "cell_type": "markdown",
   "metadata": {},
   "source": [
    "**Justification**\n",
    "\n",
    "The conversion algorithm will consist in the fact that all the features will be multiplied by a random reversible matrix, which will allow converting all customer data into non-obvious numbers\n",
    "\n",
    "At the same time, as it was proved earlier, the quality of the model will not decrease"
   ]
  },
  {
   "cell_type": "markdown",
   "metadata": {},
   "source": [
    "## Checking the algorithm"
   ]
  },
  {
   "cell_type": "markdown",
   "metadata": {},
   "source": [
    "### Train the model before the transformation"
   ]
  },
  {
   "cell_type": "code",
   "execution_count": 20,
   "metadata": {},
   "outputs": [],
   "source": [
    "features = df.drop('Страховые выплаты',axis=1)\n",
    "target = df['Страховые выплаты']\n",
    "\n",
    "model = LinearRegression()\n",
    "model.fit(features,target)\n",
    "predictions = model.predict(features)\n",
    "r2_initial = r2_score(target,predictions)"
   ]
  },
  {
   "cell_type": "code",
   "execution_count": 23,
   "metadata": {},
   "outputs": [
    {
     "name": "stdout",
     "output_type": "stream",
     "text": [
      "R2 metric based on initial data: 0.4249\n",
      "The metric is R2 if we multiply the data by an invertible matrix: 0.4249\n"
     ]
    }
   ],
   "source": [
    "print(f'R2 metric based on initial data: {round(r2_initial,4)}')\n",
    "print(f'The metric is R2 if we multiply the data by an invertible matrix: {round(coding(df),4)}')"
   ]
  },
  {
   "cell_type": "markdown",
   "metadata": {},
   "source": [
    "### Conclusion"
   ]
  },
  {
   "cell_type": "markdown",
   "metadata": {},
   "source": [
    "The proposed conversion method allows you to hide the personal data of customers without losing the quality of the prediction of the model."
   ]
  },
  {
   "cell_type": "markdown",
   "metadata": {},
   "source": [
    "Example of features **before** conversion:"
   ]
  },
  {
   "cell_type": "code",
   "execution_count": 24,
   "metadata": {},
   "outputs": [
    {
     "data": {
      "text/html": [
       "<div>\n",
       "<style scoped>\n",
       "    .dataframe tbody tr th:only-of-type {\n",
       "        vertical-align: middle;\n",
       "    }\n",
       "\n",
       "    .dataframe tbody tr th {\n",
       "        vertical-align: top;\n",
       "    }\n",
       "\n",
       "    .dataframe thead th {\n",
       "        text-align: right;\n",
       "    }\n",
       "</style>\n",
       "<table border=\"1\" class=\"dataframe\">\n",
       "  <thead>\n",
       "    <tr style=\"text-align: right;\">\n",
       "      <th></th>\n",
       "      <th>Пол</th>\n",
       "      <th>Возраст</th>\n",
       "      <th>Зарплата</th>\n",
       "      <th>Члены семьи</th>\n",
       "    </tr>\n",
       "  </thead>\n",
       "  <tbody>\n",
       "    <tr>\n",
       "      <th>0</th>\n",
       "      <td>1</td>\n",
       "      <td>41.0</td>\n",
       "      <td>49600.0</td>\n",
       "      <td>1</td>\n",
       "    </tr>\n",
       "    <tr>\n",
       "      <th>1</th>\n",
       "      <td>0</td>\n",
       "      <td>46.0</td>\n",
       "      <td>38000.0</td>\n",
       "      <td>1</td>\n",
       "    </tr>\n",
       "    <tr>\n",
       "      <th>2</th>\n",
       "      <td>0</td>\n",
       "      <td>29.0</td>\n",
       "      <td>21000.0</td>\n",
       "      <td>0</td>\n",
       "    </tr>\n",
       "    <tr>\n",
       "      <th>3</th>\n",
       "      <td>0</td>\n",
       "      <td>21.0</td>\n",
       "      <td>41700.0</td>\n",
       "      <td>2</td>\n",
       "    </tr>\n",
       "    <tr>\n",
       "      <th>4</th>\n",
       "      <td>1</td>\n",
       "      <td>28.0</td>\n",
       "      <td>26100.0</td>\n",
       "      <td>0</td>\n",
       "    </tr>\n",
       "    <tr>\n",
       "      <th>...</th>\n",
       "      <td>...</td>\n",
       "      <td>...</td>\n",
       "      <td>...</td>\n",
       "      <td>...</td>\n",
       "    </tr>\n",
       "    <tr>\n",
       "      <th>4995</th>\n",
       "      <td>0</td>\n",
       "      <td>28.0</td>\n",
       "      <td>35700.0</td>\n",
       "      <td>2</td>\n",
       "    </tr>\n",
       "    <tr>\n",
       "      <th>4996</th>\n",
       "      <td>0</td>\n",
       "      <td>34.0</td>\n",
       "      <td>52400.0</td>\n",
       "      <td>1</td>\n",
       "    </tr>\n",
       "    <tr>\n",
       "      <th>4997</th>\n",
       "      <td>0</td>\n",
       "      <td>20.0</td>\n",
       "      <td>33900.0</td>\n",
       "      <td>2</td>\n",
       "    </tr>\n",
       "    <tr>\n",
       "      <th>4998</th>\n",
       "      <td>1</td>\n",
       "      <td>22.0</td>\n",
       "      <td>32700.0</td>\n",
       "      <td>3</td>\n",
       "    </tr>\n",
       "    <tr>\n",
       "      <th>4999</th>\n",
       "      <td>1</td>\n",
       "      <td>28.0</td>\n",
       "      <td>40600.0</td>\n",
       "      <td>1</td>\n",
       "    </tr>\n",
       "  </tbody>\n",
       "</table>\n",
       "<p>5000 rows × 4 columns</p>\n",
       "</div>"
      ],
      "text/plain": [
       "      Пол  Возраст  Зарплата  Члены семьи\n",
       "0       1     41.0   49600.0            1\n",
       "1       0     46.0   38000.0            1\n",
       "2       0     29.0   21000.0            0\n",
       "3       0     21.0   41700.0            2\n",
       "4       1     28.0   26100.0            0\n",
       "...   ...      ...       ...          ...\n",
       "4995    0     28.0   35700.0            2\n",
       "4996    0     34.0   52400.0            1\n",
       "4997    0     20.0   33900.0            2\n",
       "4998    1     22.0   32700.0            3\n",
       "4999    1     28.0   40600.0            1\n",
       "\n",
       "[5000 rows x 4 columns]"
      ]
     },
     "execution_count": 24,
     "metadata": {},
     "output_type": "execute_result"
    }
   ],
   "source": [
    "features"
   ]
  },
  {
   "cell_type": "markdown",
   "metadata": {},
   "source": [
    "Example of features **after** conversion:"
   ]
  },
  {
   "cell_type": "code",
   "execution_count": 25,
   "metadata": {},
   "outputs": [
    {
     "data": {
      "text/html": [
       "<div>\n",
       "<style scoped>\n",
       "    .dataframe tbody tr th:only-of-type {\n",
       "        vertical-align: middle;\n",
       "    }\n",
       "\n",
       "    .dataframe tbody tr th {\n",
       "        vertical-align: top;\n",
       "    }\n",
       "\n",
       "    .dataframe thead th {\n",
       "        text-align: right;\n",
       "    }\n",
       "</style>\n",
       "<table border=\"1\" class=\"dataframe\">\n",
       "  <thead>\n",
       "    <tr style=\"text-align: right;\">\n",
       "      <th></th>\n",
       "      <th>0</th>\n",
       "      <th>1</th>\n",
       "      <th>2</th>\n",
       "      <th>3</th>\n",
       "    </tr>\n",
       "  </thead>\n",
       "  <tbody>\n",
       "    <tr>\n",
       "      <th>0</th>\n",
       "      <td>2186511.0</td>\n",
       "      <td>4517472.0</td>\n",
       "      <td>3771104.0</td>\n",
       "      <td>4763667.0</td>\n",
       "    </tr>\n",
       "    <tr>\n",
       "      <th>1</th>\n",
       "      <td>1676542.0</td>\n",
       "      <td>3462307.0</td>\n",
       "      <td>2889655.0</td>\n",
       "      <td>3650282.0</td>\n",
       "    </tr>\n",
       "    <tr>\n",
       "      <th>2</th>\n",
       "      <td>926842.0</td>\n",
       "      <td>1913668.0</td>\n",
       "      <td>1596986.0</td>\n",
       "      <td>2017421.0</td>\n",
       "    </tr>\n",
       "    <tr>\n",
       "      <th>3</th>\n",
       "      <td>1836926.0</td>\n",
       "      <td>3796782.0</td>\n",
       "      <td>3170096.0</td>\n",
       "      <td>4004285.0</td>\n",
       "    </tr>\n",
       "    <tr>\n",
       "      <th>4</th>\n",
       "      <td>1151203.0</td>\n",
       "      <td>2377701.0</td>\n",
       "      <td>1984571.0</td>\n",
       "      <td>2507002.0</td>\n",
       "    </tr>\n",
       "    <tr>\n",
       "      <th>...</th>\n",
       "      <td>...</td>\n",
       "      <td>...</td>\n",
       "      <td>...</td>\n",
       "      <td>...</td>\n",
       "    </tr>\n",
       "    <tr>\n",
       "      <th>4995</th>\n",
       "      <td>1573612.0</td>\n",
       "      <td>3251426.0</td>\n",
       "      <td>2714334.0</td>\n",
       "      <td>3428628.0</td>\n",
       "    </tr>\n",
       "    <tr>\n",
       "      <th>4996</th>\n",
       "      <td>2308966.0</td>\n",
       "      <td>4771603.0</td>\n",
       "      <td>3983647.0</td>\n",
       "      <td>5032094.0</td>\n",
       "    </tr>\n",
       "    <tr>\n",
       "      <th>4997</th>\n",
       "      <td>1493628.0</td>\n",
       "      <td>3086890.0</td>\n",
       "      <td>2577262.0</td>\n",
       "      <td>3255436.0</td>\n",
       "    </tr>\n",
       "    <tr>\n",
       "      <th>4998</th>\n",
       "      <td>1441117.0</td>\n",
       "      <td>2977974.0</td>\n",
       "      <td>2486240.0</td>\n",
       "      <td>3140392.0</td>\n",
       "    </tr>\n",
       "    <tr>\n",
       "      <th>4999</th>\n",
       "      <td>1789237.0</td>\n",
       "      <td>3697276.0</td>\n",
       "      <td>3086662.0</td>\n",
       "      <td>3899030.0</td>\n",
       "    </tr>\n",
       "  </tbody>\n",
       "</table>\n",
       "<p>5000 rows × 4 columns</p>\n",
       "</div>"
      ],
      "text/plain": [
       "              0          1          2          3\n",
       "0     2186511.0  4517472.0  3771104.0  4763667.0\n",
       "1     1676542.0  3462307.0  2889655.0  3650282.0\n",
       "2      926842.0  1913668.0  1596986.0  2017421.0\n",
       "3     1836926.0  3796782.0  3170096.0  4004285.0\n",
       "4     1151203.0  2377701.0  1984571.0  2507002.0\n",
       "...         ...        ...        ...        ...\n",
       "4995  1573612.0  3251426.0  2714334.0  3428628.0\n",
       "4996  2308966.0  4771603.0  3983647.0  5032094.0\n",
       "4997  1493628.0  3086890.0  2577262.0  3255436.0\n",
       "4998  1441117.0  2977974.0  2486240.0  3140392.0\n",
       "4999  1789237.0  3697276.0  3086662.0  3899030.0\n",
       "\n",
       "[5000 rows x 4 columns]"
      ]
     },
     "execution_count": 25,
     "metadata": {},
     "output_type": "execute_result"
    }
   ],
   "source": [
    "pd.DataFrame(features_reverse)"
   ]
  }
 ],
 "metadata": {
  "ExecuteTimeLog": [
   {
    "duration": 375,
    "start_time": "2022-05-31T15:06:45.044Z"
   },
   {
    "duration": 86,
    "start_time": "2022-05-31T15:07:20.374Z"
   },
   {
    "duration": 11,
    "start_time": "2022-05-31T15:07:36.527Z"
   },
   {
    "duration": 5,
    "start_time": "2022-05-31T15:21:59.343Z"
   },
   {
    "duration": 2,
    "start_time": "2022-05-31T15:22:12.675Z"
   },
   {
    "duration": 4,
    "start_time": "2022-05-31T15:22:19.683Z"
   },
   {
    "duration": 66,
    "start_time": "2022-05-31T15:22:20.414Z"
   },
   {
    "duration": 2,
    "start_time": "2022-05-31T15:22:31.553Z"
   },
   {
    "duration": 34,
    "start_time": "2022-05-31T15:22:40.970Z"
   },
   {
    "duration": 7,
    "start_time": "2022-05-31T15:23:30.786Z"
   },
   {
    "duration": 29,
    "start_time": "2022-05-31T15:23:35.299Z"
   },
   {
    "duration": 6,
    "start_time": "2022-05-31T15:23:44.166Z"
   },
   {
    "duration": 11,
    "start_time": "2022-05-31T15:23:50.107Z"
   },
   {
    "duration": 3,
    "start_time": "2022-05-31T15:24:07.746Z"
   },
   {
    "duration": 25,
    "start_time": "2022-05-31T15:24:11.563Z"
   },
   {
    "duration": 4,
    "start_time": "2022-05-31T15:33:18.010Z"
   },
   {
    "duration": 4,
    "start_time": "2022-05-31T15:33:30.170Z"
   },
   {
    "duration": 4,
    "start_time": "2022-05-31T15:33:40.157Z"
   },
   {
    "duration": 4,
    "start_time": "2022-05-31T15:34:48.652Z"
   },
   {
    "duration": 4,
    "start_time": "2022-05-31T15:35:07.944Z"
   },
   {
    "duration": 5,
    "start_time": "2022-05-31T15:35:13.314Z"
   },
   {
    "duration": 4,
    "start_time": "2022-05-31T15:35:15.515Z"
   },
   {
    "duration": 4,
    "start_time": "2022-05-31T15:35:17.625Z"
   },
   {
    "duration": 5,
    "start_time": "2022-05-31T15:35:20.963Z"
   },
   {
    "duration": 4,
    "start_time": "2022-05-31T15:35:23.155Z"
   },
   {
    "duration": 8,
    "start_time": "2022-05-31T15:35:33.151Z"
   },
   {
    "duration": 4,
    "start_time": "2022-05-31T15:35:41.574Z"
   },
   {
    "duration": 4,
    "start_time": "2022-05-31T15:37:05.694Z"
   },
   {
    "duration": 5,
    "start_time": "2022-05-31T15:39:36.952Z"
   },
   {
    "duration": 4,
    "start_time": "2022-05-31T15:39:41.284Z"
   },
   {
    "duration": 3,
    "start_time": "2022-05-31T15:40:07.555Z"
   },
   {
    "duration": 33,
    "start_time": "2022-05-31T15:40:08.596Z"
   },
   {
    "duration": 6,
    "start_time": "2022-05-31T15:41:16.188Z"
   },
   {
    "duration": 4,
    "start_time": "2022-05-31T15:41:28.042Z"
   },
   {
    "duration": 8,
    "start_time": "2022-05-31T15:41:46.263Z"
   },
   {
    "duration": 6,
    "start_time": "2022-05-31T15:41:58.305Z"
   },
   {
    "duration": 4,
    "start_time": "2022-05-31T15:42:08.975Z"
   },
   {
    "duration": 4,
    "start_time": "2022-05-31T15:42:17.957Z"
   },
   {
    "duration": 26,
    "start_time": "2022-05-31T15:42:26.905Z"
   },
   {
    "duration": 13,
    "start_time": "2022-05-31T15:42:44.705Z"
   },
   {
    "duration": 4,
    "start_time": "2022-05-31T15:42:48.203Z"
   },
   {
    "duration": 32,
    "start_time": "2022-05-31T15:42:55.719Z"
   },
   {
    "duration": 30,
    "start_time": "2022-05-31T15:43:35.099Z"
   },
   {
    "duration": 4,
    "start_time": "2022-05-31T15:43:43.649Z"
   },
   {
    "duration": 9,
    "start_time": "2022-05-31T15:43:48.466Z"
   },
   {
    "duration": 4,
    "start_time": "2022-05-31T15:43:52.203Z"
   },
   {
    "duration": 4,
    "start_time": "2022-05-31T15:46:16.445Z"
   },
   {
    "duration": 5,
    "start_time": "2022-05-31T15:46:36.078Z"
   },
   {
    "duration": 37,
    "start_time": "2022-05-31T15:46:55.400Z"
   },
   {
    "duration": 48,
    "start_time": "2022-05-31T15:47:32.396Z"
   },
   {
    "duration": 3,
    "start_time": "2022-05-31T15:49:09.246Z"
   },
   {
    "duration": 3,
    "start_time": "2022-05-31T15:49:12.479Z"
   },
   {
    "duration": 3,
    "start_time": "2022-05-31T15:49:29.755Z"
   },
   {
    "duration": 4,
    "start_time": "2022-05-31T15:49:50.170Z"
   },
   {
    "duration": 4,
    "start_time": "2022-05-31T15:49:52.330Z"
   },
   {
    "duration": 4,
    "start_time": "2022-05-31T15:49:54.120Z"
   },
   {
    "duration": 7,
    "start_time": "2022-05-31T15:53:05.244Z"
   },
   {
    "duration": 4,
    "start_time": "2022-05-31T15:53:10.180Z"
   },
   {
    "duration": 5,
    "start_time": "2022-05-31T15:53:12.075Z"
   },
   {
    "duration": 5,
    "start_time": "2022-05-31T15:53:14.014Z"
   },
   {
    "duration": 4,
    "start_time": "2022-05-31T15:53:19.684Z"
   },
   {
    "duration": 5,
    "start_time": "2022-05-31T15:54:12.825Z"
   },
   {
    "duration": 5,
    "start_time": "2022-05-31T15:54:44.540Z"
   },
   {
    "duration": 5,
    "start_time": "2022-05-31T15:55:04.018Z"
   },
   {
    "duration": 4,
    "start_time": "2022-05-31T15:55:12.066Z"
   },
   {
    "duration": 5,
    "start_time": "2022-05-31T15:55:35.752Z"
   },
   {
    "duration": 5,
    "start_time": "2022-05-31T15:55:52.431Z"
   },
   {
    "duration": 5,
    "start_time": "2022-05-31T15:56:59.554Z"
   },
   {
    "duration": 8,
    "start_time": "2022-05-31T15:57:11.735Z"
   },
   {
    "duration": 4,
    "start_time": "2022-05-31T15:57:16.720Z"
   },
   {
    "duration": 3,
    "start_time": "2022-05-31T15:57:20.222Z"
   },
   {
    "duration": 4,
    "start_time": "2022-05-31T15:57:26.788Z"
   },
   {
    "duration": 5,
    "start_time": "2022-05-31T15:57:33.614Z"
   },
   {
    "duration": 5,
    "start_time": "2022-05-31T15:57:50.505Z"
   },
   {
    "duration": 4,
    "start_time": "2022-05-31T15:58:06.285Z"
   },
   {
    "duration": 876,
    "start_time": "2022-05-31T16:01:01.034Z"
   },
   {
    "duration": 4,
    "start_time": "2022-05-31T16:02:57.835Z"
   },
   {
    "duration": 7,
    "start_time": "2022-05-31T16:03:12.130Z"
   },
   {
    "duration": 11,
    "start_time": "2022-05-31T16:03:53.167Z"
   },
   {
    "duration": 9,
    "start_time": "2022-05-31T16:04:02.190Z"
   },
   {
    "duration": 11,
    "start_time": "2022-05-31T16:04:06.907Z"
   },
   {
    "duration": 95,
    "start_time": "2022-05-31T16:08:58.123Z"
   },
   {
    "duration": 2,
    "start_time": "2022-05-31T16:09:22.299Z"
   },
   {
    "duration": 35,
    "start_time": "2022-05-31T16:09:22.305Z"
   },
   {
    "duration": 9,
    "start_time": "2022-05-31T16:09:22.341Z"
   },
   {
    "duration": 3,
    "start_time": "2022-05-31T16:09:22.351Z"
   },
   {
    "duration": 12,
    "start_time": "2022-05-31T16:09:22.355Z"
   },
   {
    "duration": 103,
    "start_time": "2022-05-31T16:09:22.394Z"
   },
   {
    "duration": 10,
    "start_time": "2022-05-31T16:09:22.498Z"
   },
   {
    "duration": 97,
    "start_time": "2022-05-31T16:09:22.510Z"
   },
   {
    "duration": 4,
    "start_time": "2022-05-31T16:09:45.207Z"
   },
   {
    "duration": 11,
    "start_time": "2022-05-31T16:10:11.564Z"
   },
   {
    "duration": 75,
    "start_time": "2022-05-31T16:11:12.917Z"
   },
   {
    "duration": 2,
    "start_time": "2022-05-31T16:14:07.445Z"
   },
   {
    "duration": 34,
    "start_time": "2022-05-31T16:14:07.458Z"
   },
   {
    "duration": 9,
    "start_time": "2022-05-31T16:14:07.494Z"
   },
   {
    "duration": 6,
    "start_time": "2022-05-31T16:14:07.504Z"
   },
   {
    "duration": 81,
    "start_time": "2022-05-31T16:14:07.511Z"
   },
   {
    "duration": 100,
    "start_time": "2022-05-31T16:14:07.595Z"
   },
   {
    "duration": 10,
    "start_time": "2022-05-31T16:14:07.697Z"
   },
   {
    "duration": 184,
    "start_time": "2022-05-31T16:14:07.708Z"
   },
   {
    "duration": 104,
    "start_time": "2022-05-31T16:14:07.894Z"
   },
   {
    "duration": 2,
    "start_time": "2022-05-31T16:15:35.671Z"
   },
   {
    "duration": 38,
    "start_time": "2022-05-31T16:15:35.675Z"
   },
   {
    "duration": 9,
    "start_time": "2022-05-31T16:15:35.714Z"
   },
   {
    "duration": 4,
    "start_time": "2022-05-31T16:15:35.725Z"
   },
   {
    "duration": 9,
    "start_time": "2022-05-31T16:15:35.730Z"
   },
   {
    "duration": 156,
    "start_time": "2022-05-31T16:15:35.740Z"
   },
   {
    "duration": 8,
    "start_time": "2022-05-31T16:15:35.898Z"
   },
   {
    "duration": 183,
    "start_time": "2022-05-31T16:15:35.908Z"
   },
   {
    "duration": 3,
    "start_time": "2022-05-31T16:15:36.094Z"
   },
   {
    "duration": 5,
    "start_time": "2022-05-31T16:16:01.593Z"
   },
   {
    "duration": 3,
    "start_time": "2022-05-31T16:24:17.501Z"
   },
   {
    "duration": 44,
    "start_time": "2022-05-31T16:24:17.506Z"
   },
   {
    "duration": 14,
    "start_time": "2022-05-31T16:24:17.551Z"
   },
   {
    "duration": 5,
    "start_time": "2022-05-31T16:24:17.567Z"
   },
   {
    "duration": 26,
    "start_time": "2022-05-31T16:24:17.574Z"
   },
   {
    "duration": 95,
    "start_time": "2022-05-31T16:24:17.601Z"
   },
   {
    "duration": 106,
    "start_time": "2022-05-31T16:24:17.698Z"
   },
   {
    "duration": 94,
    "start_time": "2022-05-31T16:24:17.807Z"
   },
   {
    "duration": 91,
    "start_time": "2022-05-31T16:24:17.905Z"
   },
   {
    "duration": 5,
    "start_time": "2022-05-31T16:33:00.756Z"
   },
   {
    "duration": 14,
    "start_time": "2022-05-31T16:34:34.346Z"
   },
   {
    "duration": 9,
    "start_time": "2022-05-31T16:34:49.881Z"
   },
   {
    "duration": 18,
    "start_time": "2022-05-31T16:35:01.978Z"
   },
   {
    "duration": 5,
    "start_time": "2022-05-31T16:35:35.212Z"
   },
   {
    "duration": 13,
    "start_time": "2022-05-31T16:35:38.129Z"
   },
   {
    "duration": 18,
    "start_time": "2022-05-31T16:35:38.950Z"
   },
   {
    "duration": 14,
    "start_time": "2022-05-31T16:36:12.763Z"
   },
   {
    "duration": 3,
    "start_time": "2022-05-31T16:36:47.834Z"
   },
   {
    "duration": 38,
    "start_time": "2022-05-31T16:36:47.839Z"
   },
   {
    "duration": 9,
    "start_time": "2022-05-31T16:36:47.879Z"
   },
   {
    "duration": 4,
    "start_time": "2022-05-31T16:36:47.890Z"
   },
   {
    "duration": 17,
    "start_time": "2022-05-31T16:36:47.896Z"
   },
   {
    "duration": 184,
    "start_time": "2022-05-31T16:36:47.914Z"
   },
   {
    "duration": 14,
    "start_time": "2022-05-31T16:36:48.101Z"
   },
   {
    "duration": 12,
    "start_time": "2022-05-31T16:36:48.191Z"
   },
   {
    "duration": 97,
    "start_time": "2022-05-31T16:36:48.204Z"
   },
   {
    "duration": 95,
    "start_time": "2022-05-31T16:36:48.303Z"
   },
   {
    "duration": 26,
    "start_time": "2022-05-31T16:36:48.400Z"
   },
   {
    "duration": 179,
    "start_time": "2022-05-31T16:36:48.427Z"
   },
   {
    "duration": 12,
    "start_time": "2022-05-31T16:38:19.750Z"
   },
   {
    "duration": 5,
    "start_time": "2022-05-31T16:38:29.565Z"
   },
   {
    "duration": 12,
    "start_time": "2022-05-31T16:38:39.363Z"
   },
   {
    "duration": 915,
    "start_time": "2022-05-31T16:43:17.591Z"
   },
   {
    "duration": 95,
    "start_time": "2022-05-31T16:43:18.508Z"
   },
   {
    "duration": 13,
    "start_time": "2022-05-31T16:43:18.605Z"
   },
   {
    "duration": 3,
    "start_time": "2022-05-31T16:43:18.621Z"
   },
   {
    "duration": 14,
    "start_time": "2022-05-31T16:43:18.627Z"
   },
   {
    "duration": 7,
    "start_time": "2022-05-31T16:43:18.693Z"
   },
   {
    "duration": 99,
    "start_time": "2022-05-31T16:43:18.701Z"
   },
   {
    "duration": 189,
    "start_time": "2022-05-31T16:43:18.802Z"
   },
   {
    "duration": 5,
    "start_time": "2022-05-31T16:43:18.994Z"
   },
   {
    "duration": 12,
    "start_time": "2022-05-31T16:43:19.091Z"
   },
   {
    "duration": 14,
    "start_time": "2022-05-31T16:43:19.105Z"
   },
   {
    "duration": 184,
    "start_time": "2022-05-31T16:43:19.121Z"
   },
   {
    "duration": 186,
    "start_time": "2022-05-31T16:43:19.307Z"
   },
   {
    "duration": 14,
    "start_time": "2022-05-31T16:43:19.495Z"
   },
   {
    "duration": 1909,
    "start_time": "2022-06-01T06:43:34.300Z"
   },
   {
    "duration": 120,
    "start_time": "2022-06-01T06:43:36.211Z"
   },
   {
    "duration": 19,
    "start_time": "2022-06-01T06:43:36.333Z"
   },
   {
    "duration": 5,
    "start_time": "2022-06-01T06:43:49.229Z"
   },
   {
    "duration": 10,
    "start_time": "2022-06-01T06:43:49.619Z"
   },
   {
    "duration": 9,
    "start_time": "2022-06-01T06:43:52.010Z"
   },
   {
    "duration": 7,
    "start_time": "2022-06-01T06:46:39.038Z"
   },
   {
    "duration": 90,
    "start_time": "2022-06-01T06:46:39.461Z"
   },
   {
    "duration": 4,
    "start_time": "2022-06-01T06:46:39.873Z"
   },
   {
    "duration": 5,
    "start_time": "2022-06-01T06:46:44.423Z"
   },
   {
    "duration": 11,
    "start_time": "2022-06-01T06:46:45.817Z"
   },
   {
    "duration": 13,
    "start_time": "2022-06-01T06:46:46.147Z"
   },
   {
    "duration": 11,
    "start_time": "2022-06-01T06:46:47.575Z"
   },
   {
    "duration": 12,
    "start_time": "2022-06-01T06:46:47.931Z"
   }
  ],
  "kernelspec": {
   "display_name": "Python 3",
   "language": "python",
   "name": "python3"
  },
  "language_info": {
   "codemirror_mode": {
    "name": "ipython",
    "version": 3
   },
   "file_extension": ".py",
   "mimetype": "text/x-python",
   "name": "python",
   "nbconvert_exporter": "python",
   "pygments_lexer": "ipython3",
   "version": "3.7.6"
  },
  "toc": {
   "base_numbering": 1,
   "nav_menu": {},
   "number_sections": true,
   "sideBar": true,
   "skip_h1_title": true,
   "title_cell": "Содержание",
   "title_sidebar": "Contents",
   "toc_cell": true,
   "toc_position": {},
   "toc_section_display": true,
   "toc_window_display": true
  }
 },
 "nbformat": 4,
 "nbformat_minor": 2
}
