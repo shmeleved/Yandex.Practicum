{
 "cells": [
  {
   "cell_type": "markdown",
   "metadata": {
    "toc": true
   },
   "source": [
    "<h1>Table of Contents<span class=\"tocSkip\"></span></h1>\n",
    "<div class=\"toc\"><ul class=\"toc-item\"><li><span><a href=\"#Data-Overview\" data-toc-modified-id=\"Data-Overview-1\">Data Overview</a></span></li><li><span><a href=\"#Data-preprocessing\" data-toc-modified-id=\"Data-preprocessing-2\">Data preprocessing</a></span><ul class=\"toc-item\"><li><span><a href=\"#Header-style\" data-toc-modified-id=\"Header-style-2.1\">Header style</a></span></li><li><span><a href=\"#Missing-values\" data-toc-modified-id=\"Missing-values-2.2\">Missing values</a></span></li><li><span><a href=\"#Duplicates\" data-toc-modified-id=\"Duplicates-2.3\">Duplicates</a></span></li></ul></li><li><span><a href=\"#Hypothesis-testing\" data-toc-modified-id=\"Hypothesis-testing-3\">Hypothesis testing</a></span><ul class=\"toc-item\"><li><span><a href=\"#Comparison-of-user-behavior-of-two-capitals\" data-toc-modified-id=\"Comparison-of-user-behavior-of-two-capitals-3.1\">Comparison of user behavior of two capitals</a></span></li><li><span><a href=\"#Music-at-the-beginning-and-end-of-the-week\" data-toc-modified-id=\"Music-at-the-beginning-and-end-of-the-week-3.2\">Music at the beginning and end of the week</a></span></li><li><span><a href=\"#Genre-preferences-in-Moscow-and-St.-Petersburg\" data-toc-modified-id=\"Genre-preferences-in-Moscow-and-St.-Petersburg-3.3\">Genre preferences in Moscow and St. Petersburg</a></span></li></ul></li><li><span><a href=\"#Results-of-the-research\" data-toc-modified-id=\"Results-of-the-research-4\">Results of the research</a></span></li></ul></div>"
   ]
  },
  {
   "cell_type": "markdown",
   "metadata": {
    "id": "E0vqbgi9ay0H"
   },
   "source": [
    "# Yandex.Music"
   ]
  },
  {
   "cell_type": "markdown",
   "metadata": {
    "id": "VUC88oWjTJw2"
   },
   "source": [
    "The comparison of Moscow and St. Petersburg is surrounded by myths. For example:\n",
    " * Moscow is a megapolis subject to the rigid rhythm of the working week;\n",
    " * St. Petersburg is a cultural capital, with its own tastes.\n",
    "\n",
    "Using Yandex.Music data, we will compare the behavior of users of the two capitals.\n",
    "\n",
    "**Research objective** — test three hypotheses:\n",
    "1. User activity depends on the day of the week. Moreover, in Moscow and St. Petersburg, this manifests itself in different ways.\n",
    "2. On Monday morning, some genres prevail in Moscow, and others in St. Petersburg. Similarly, on Friday evening, different genres prevail — depending on the city.\n",
    "3. Moscow and St. Petersburg prefer different genres of music. In Moscow, pop music is more often listened to, in St. Petersburg - Russian rap.\n",
    "\n",
    "**Research progress**\n",
    "\n",
    "We will get data about user behavior from the file `yandex_music_project.csv`. Nothing is known about the quality of the data. Therefore, a review of the data will be needed before testing hypotheses.\n",
    "\n",
    "We will check the data for errors and evaluate their impact on the study. Then, at the preprocessing stage, we will look for an opportunity to correct the most critical data errors.\n",
    "\n",
    "Thus, the study will take place in three stages:\n",
    "1. Data overview.\n",
    "2. Data preprocessing.\n",
    "3. Hypothesis testing.\n",
    "\n"
   ]
  },
  {
   "cell_type": "markdown",
   "metadata": {
    "id": "Ml1hmfXC_Zcs"
   },
   "source": [
    "## Data Overview"
   ]
  },
  {
   "cell_type": "code",
   "execution_count": 1,
   "metadata": {
    "id": "AXN7PHPN_Zcs"
   },
   "outputs": [],
   "source": [
    "import pandas as pd"
   ]
  },
  {
   "cell_type": "code",
   "execution_count": 2,
   "metadata": {
    "id": "fFVu7vqh_Zct"
   },
   "outputs": [],
   "source": [
    "df=pd.read_csv('datasets/yandex_music_project.csv')"
   ]
  },
  {
   "cell_type": "code",
   "execution_count": 3,
   "metadata": {
    "id": "oWTVX3gW_Zct",
    "scrolled": true
   },
   "outputs": [
    {
     "data": {
      "text/html": [
       "<div>\n",
       "<style scoped>\n",
       "    .dataframe tbody tr th:only-of-type {\n",
       "        vertical-align: middle;\n",
       "    }\n",
       "\n",
       "    .dataframe tbody tr th {\n",
       "        vertical-align: top;\n",
       "    }\n",
       "\n",
       "    .dataframe thead th {\n",
       "        text-align: right;\n",
       "    }\n",
       "</style>\n",
       "<table border=\"1\" class=\"dataframe\">\n",
       "  <thead>\n",
       "    <tr style=\"text-align: right;\">\n",
       "      <th></th>\n",
       "      <th>userID</th>\n",
       "      <th>Track</th>\n",
       "      <th>artist</th>\n",
       "      <th>genre</th>\n",
       "      <th>City</th>\n",
       "      <th>time</th>\n",
       "      <th>Day</th>\n",
       "    </tr>\n",
       "  </thead>\n",
       "  <tbody>\n",
       "    <tr>\n",
       "      <th>0</th>\n",
       "      <td>FFB692EC</td>\n",
       "      <td>Kamigata To Boots</td>\n",
       "      <td>The Mass Missile</td>\n",
       "      <td>rock</td>\n",
       "      <td>Saint-Petersburg</td>\n",
       "      <td>20:28:33</td>\n",
       "      <td>Wednesday</td>\n",
       "    </tr>\n",
       "    <tr>\n",
       "      <th>1</th>\n",
       "      <td>55204538</td>\n",
       "      <td>Delayed Because of Accident</td>\n",
       "      <td>Andreas Rönnberg</td>\n",
       "      <td>rock</td>\n",
       "      <td>Moscow</td>\n",
       "      <td>14:07:09</td>\n",
       "      <td>Friday</td>\n",
       "    </tr>\n",
       "    <tr>\n",
       "      <th>2</th>\n",
       "      <td>20EC38</td>\n",
       "      <td>Funiculì funiculà</td>\n",
       "      <td>Mario Lanza</td>\n",
       "      <td>pop</td>\n",
       "      <td>Saint-Petersburg</td>\n",
       "      <td>20:58:07</td>\n",
       "      <td>Wednesday</td>\n",
       "    </tr>\n",
       "    <tr>\n",
       "      <th>3</th>\n",
       "      <td>A3DD03C9</td>\n",
       "      <td>Dragons in the Sunset</td>\n",
       "      <td>Fire + Ice</td>\n",
       "      <td>folk</td>\n",
       "      <td>Saint-Petersburg</td>\n",
       "      <td>08:37:09</td>\n",
       "      <td>Monday</td>\n",
       "    </tr>\n",
       "    <tr>\n",
       "      <th>4</th>\n",
       "      <td>E2DC1FAE</td>\n",
       "      <td>Soul People</td>\n",
       "      <td>Space Echo</td>\n",
       "      <td>dance</td>\n",
       "      <td>Moscow</td>\n",
       "      <td>08:34:34</td>\n",
       "      <td>Monday</td>\n",
       "    </tr>\n",
       "    <tr>\n",
       "      <th>5</th>\n",
       "      <td>842029A1</td>\n",
       "      <td>Преданная</td>\n",
       "      <td>IMPERVTOR</td>\n",
       "      <td>rusrap</td>\n",
       "      <td>Saint-Petersburg</td>\n",
       "      <td>13:09:41</td>\n",
       "      <td>Friday</td>\n",
       "    </tr>\n",
       "    <tr>\n",
       "      <th>6</th>\n",
       "      <td>4CB90AA5</td>\n",
       "      <td>True</td>\n",
       "      <td>Roman Messer</td>\n",
       "      <td>dance</td>\n",
       "      <td>Moscow</td>\n",
       "      <td>13:00:07</td>\n",
       "      <td>Wednesday</td>\n",
       "    </tr>\n",
       "    <tr>\n",
       "      <th>7</th>\n",
       "      <td>F03E1C1F</td>\n",
       "      <td>Feeling This Way</td>\n",
       "      <td>Polina Griffith</td>\n",
       "      <td>dance</td>\n",
       "      <td>Moscow</td>\n",
       "      <td>20:47:49</td>\n",
       "      <td>Wednesday</td>\n",
       "    </tr>\n",
       "    <tr>\n",
       "      <th>8</th>\n",
       "      <td>8FA1D3BE</td>\n",
       "      <td>И вновь продолжается бой</td>\n",
       "      <td>NaN</td>\n",
       "      <td>ruspop</td>\n",
       "      <td>Moscow</td>\n",
       "      <td>09:17:40</td>\n",
       "      <td>Friday</td>\n",
       "    </tr>\n",
       "    <tr>\n",
       "      <th>9</th>\n",
       "      <td>E772D5C0</td>\n",
       "      <td>Pessimist</td>\n",
       "      <td>NaN</td>\n",
       "      <td>dance</td>\n",
       "      <td>Saint-Petersburg</td>\n",
       "      <td>21:20:49</td>\n",
       "      <td>Wednesday</td>\n",
       "    </tr>\n",
       "  </tbody>\n",
       "</table>\n",
       "</div>"
      ],
      "text/plain": [
       "     userID                        Track            artist   genre  \\\n",
       "0  FFB692EC            Kamigata To Boots  The Mass Missile    rock   \n",
       "1  55204538  Delayed Because of Accident  Andreas Rönnberg    rock   \n",
       "2    20EC38            Funiculì funiculà       Mario Lanza     pop   \n",
       "3  A3DD03C9        Dragons in the Sunset        Fire + Ice    folk   \n",
       "4  E2DC1FAE                  Soul People        Space Echo   dance   \n",
       "5  842029A1                    Преданная         IMPERVTOR  rusrap   \n",
       "6  4CB90AA5                         True      Roman Messer   dance   \n",
       "7  F03E1C1F             Feeling This Way   Polina Griffith   dance   \n",
       "8  8FA1D3BE     И вновь продолжается бой               NaN  ruspop   \n",
       "9  E772D5C0                    Pessimist               NaN   dance   \n",
       "\n",
       "             City        time        Day  \n",
       "0  Saint-Petersburg  20:28:33  Wednesday  \n",
       "1            Moscow  14:07:09     Friday  \n",
       "2  Saint-Petersburg  20:58:07  Wednesday  \n",
       "3  Saint-Petersburg  08:37:09     Monday  \n",
       "4            Moscow  08:34:34     Monday  \n",
       "5  Saint-Petersburg  13:09:41     Friday  \n",
       "6            Moscow  13:00:07  Wednesday  \n",
       "7            Moscow  20:47:49  Wednesday  \n",
       "8            Moscow  09:17:40     Friday  \n",
       "9  Saint-Petersburg  21:20:49  Wednesday  "
      ]
     },
     "execution_count": 3,
     "metadata": {},
     "output_type": "execute_result"
    }
   ],
   "source": [
    "# getting the first 10 rows of the df table\n",
    "df.head(10)"
   ]
  },
  {
   "cell_type": "code",
   "execution_count": 4,
   "metadata": {
    "id": "DSf2kIb-_Zct"
   },
   "outputs": [
    {
     "name": "stdout",
     "output_type": "stream",
     "text": [
      "<class 'pandas.core.frame.DataFrame'>\n",
      "RangeIndex: 65079 entries, 0 to 65078\n",
      "Data columns (total 7 columns):\n",
      " #   Column    Non-Null Count  Dtype \n",
      "---  ------    --------------  ----- \n",
      " 0     userID  65079 non-null  object\n",
      " 1   Track     63848 non-null  object\n",
      " 2   artist    57876 non-null  object\n",
      " 3   genre     63881 non-null  object\n",
      " 4     City    65079 non-null  object\n",
      " 5   time      65079 non-null  object\n",
      " 6   Day       65079 non-null  object\n",
      "dtypes: object(7)\n",
      "memory usage: 3.5+ MB\n"
     ]
    }
   ],
   "source": [
    "# getting general information about the data in the df table\n",
    "df.info()"
   ]
  },
  {
   "cell_type": "markdown",
   "metadata": {
    "id": "TaQ2Iwbr_Zct"
   },
   "source": [
    "So, there are seven columns in the table. The data type in all columns is `object`.\n",
    "\n",
    "According to the data documentation:\n",
    "* `userID` is the user ID;\n",
    "* `Track` — the name of the track;\n",
    "* `artist` — artist's name;\n",
    "* `genre` — the name of the genre;\n",
    "* `City` — the user's city;\n",
    "* `time` — the start time of listening;\n",
    "* `Day` — the day of the week.\n",
    "\n",
    "Three style violations are visible in the column names:\n",
    "1. Lowercase letters are combined with uppercase.\n",
    "2. There are gaps.\n",
    "3. It is necessary to use the \"snake\" style, for example, in the case of 'userID' it would be better to write 'user_id'\n"
   ]
  },
  {
   "cell_type": "markdown",
   "metadata": {
    "id": "MCB6-dXG_Zct"
   },
   "source": [
    "**Conclusions**\n",
    "\n",
    "Each row of the table contains data about the listened track. Part of the columns describes the composition itself: name, artist and genre. The rest of the data tells about the user: what city he is from, when he listened to music.\n",
    "\n",
    "Previously, it can be argued that there is enough data to test hypotheses. But there are gaps in the data, and in the column names there are discrepancies with good style.\n",
    "\n",
    "To move forward, we need to fix the data problems."
   ]
  },
  {
   "cell_type": "markdown",
   "metadata": {
    "id": "SjYF6Ub9_Zct"
   },
   "source": [
    "## Data preprocessing\n",
    "Let's fix the style in the column headers, eliminate omissions. Then we will check the data for duplicates."
   ]
  },
  {
   "cell_type": "markdown",
   "metadata": {
    "id": "dIaKXr29_Zct"
   },
   "source": [
    "### Header style"
   ]
  },
  {
   "cell_type": "code",
   "execution_count": 5,
   "metadata": {
    "id": "oKOTdF_Q_Zct"
   },
   "outputs": [
    {
     "data": {
      "text/plain": [
       "Index(['  userID', 'Track', 'artist', 'genre', '  City  ', 'time', 'Day'], dtype='object')"
      ]
     },
     "execution_count": 5,
     "metadata": {},
     "output_type": "execute_result"
    }
   ],
   "source": [
    "# list of column names of the df table\n",
    "df.columns"
   ]
  },
  {
   "cell_type": "markdown",
   "metadata": {
    "id": "zj5534cv_Zct"
   },
   "source": [
    "Rename columns:\n",
    "* `'  userID'` → `'user_id'`;\n",
    "* `'Track'` → `'track'`;\n",
    "* `'  City  '` → `'city'`;\n",
    "* `'Day'` → `'day'`."
   ]
  },
  {
   "cell_type": "code",
   "execution_count": 6,
   "metadata": {
    "id": "ISlFqs5y_Zct"
   },
   "outputs": [],
   "source": [
    "df  =df.rename(columns = {'  userID' : 'user_id','Track' : 'track','  City  ' : 'city','Day' : 'day'})"
   ]
  },
  {
   "cell_type": "code",
   "execution_count": 7,
   "metadata": {
    "id": "d4NOAmTW_Zct"
   },
   "outputs": [
    {
     "data": {
      "text/plain": [
       "Index(['user_id', 'track', 'artist', 'genre', 'city', 'time', 'day'], dtype='object')"
      ]
     },
     "execution_count": 7,
     "metadata": {},
     "output_type": "execute_result"
    }
   ],
   "source": [
    "df.columns"
   ]
  },
  {
   "cell_type": "markdown",
   "metadata": {
    "id": "5ISfbcfY_Zct"
   },
   "source": [
    "### Missing values\n",
    "First, let's calculate how many missing values are in the table. Two `pandas` methods are enough for this:"
   ]
  },
  {
   "cell_type": "code",
   "execution_count": 8,
   "metadata": {
    "id": "RskX29qr_Zct"
   },
   "outputs": [
    {
     "data": {
      "text/plain": [
       "user_id       0\n",
       "track      1231\n",
       "artist     7203\n",
       "genre      1198\n",
       "city          0\n",
       "time          0\n",
       "day           0\n",
       "dtype: int64"
      ]
     },
     "execution_count": 8,
     "metadata": {},
     "output_type": "execute_result"
    }
   ],
   "source": [
    "df.isna().sum()"
   ]
  },
  {
   "cell_type": "markdown",
   "metadata": {
    "id": "qubhgnlO_Zct"
   },
   "source": [
    "Not all missing values affect the research. So in `track` and `artist` omissions are not important for our work. It is enough to replace them with explicit designations.\n",
    "\n",
    "But missing values in `genre` may interfere with the comparison of musical tastes in Moscow and St. Petersburg. In practice, it would be correct to establish the reason for the missing values and restore the data. There is no such possibility in this project, so we will have to:\n",
    "* fill in these gaps with explicit notation,\n",
    "* assess how much they will distort the calculations."
   ]
  },
  {
   "cell_type": "markdown",
   "metadata": {
    "id": "fSv2laPA_Zct"
   },
   "source": [
    "Replace the missing values in the columns `track`, `artist` and `genre` with the string 'unknown':"
   ]
  },
  {
   "cell_type": "code",
   "execution_count": 9,
   "metadata": {
    "id": "KplB5qWs_Zct"
   },
   "outputs": [],
   "source": [
    "columns_to_replace=['track','artist','genre']\n",
    "for col in columns_to_replace:\n",
    "    df[col]=df[col].fillna('unknown')"
   ]
  },
  {
   "cell_type": "code",
   "execution_count": 10,
   "metadata": {
    "id": "Tq4nYRX4_Zct"
   },
   "outputs": [
    {
     "data": {
      "text/plain": [
       "user_id    0\n",
       "track      0\n",
       "artist     0\n",
       "genre      0\n",
       "city       0\n",
       "time       0\n",
       "day        0\n",
       "dtype: int64"
      ]
     },
     "execution_count": 10,
     "metadata": {},
     "output_type": "execute_result"
    }
   ],
   "source": [
    "# missing values counting\n",
    "df.isna().sum()"
   ]
  },
  {
   "cell_type": "markdown",
   "metadata": {
    "id": "BWKRtBJ3_Zct"
   },
   "source": [
    "### Duplicates"
   ]
  },
  {
   "cell_type": "code",
   "execution_count": 11,
   "metadata": {
    "id": "36eES_S0_Zct"
   },
   "outputs": [
    {
     "data": {
      "text/plain": [
       "3826"
      ]
     },
     "execution_count": 11,
     "metadata": {},
     "output_type": "execute_result"
    }
   ],
   "source": [
    "# counting obvious duplicates\n",
    "df.duplicated().sum()"
   ]
  },
  {
   "cell_type": "code",
   "execution_count": 12,
   "metadata": {
    "id": "exFHq6tt_Zct"
   },
   "outputs": [],
   "source": [
    "# removing obvious duplicates (with the elimination of old indexes and the formation of new ones)\n",
    "df=df.drop_duplicates().reset_index(drop=True)"
   ]
  },
  {
   "cell_type": "code",
   "execution_count": 13,
   "metadata": {
    "id": "-8PuNWQ0_Zct"
   },
   "outputs": [
    {
     "data": {
      "text/plain": [
       "0"
      ]
     },
     "execution_count": 13,
     "metadata": {},
     "output_type": "execute_result"
    }
   ],
   "source": [
    "# checking for the absence of duplicates\n",
    "df.duplicated().sum()"
   ]
  },
  {
   "cell_type": "markdown",
   "metadata": {
    "id": "QlFBsxAr_Zct"
   },
   "source": [
    "Now let's get rid of other duplicates in the `genre` column. For example, the name of the same genre may be written a little differently. Such errors will also affect the result of the research."
   ]
  },
  {
   "cell_type": "code",
   "execution_count": 14,
   "metadata": {
    "id": "JIUcqzZN_Zct"
   },
   "outputs": [
    {
     "data": {
      "text/plain": [
       "array(['acid', 'acoustic', 'action', 'adult', 'africa', 'afrikaans',\n",
       "       'alternative', 'alternativepunk', 'ambient', 'americana',\n",
       "       'animated', 'anime', 'arabesk', 'arabic', 'arena',\n",
       "       'argentinetango', 'art', 'audiobook', 'author', 'avantgarde',\n",
       "       'axé', 'baile', 'balkan', 'beats', 'bigroom', 'black', 'bluegrass',\n",
       "       'blues', 'bollywood', 'bossa', 'brazilian', 'breakbeat', 'breaks',\n",
       "       'broadway', 'cantautori', 'cantopop', 'canzone', 'caribbean',\n",
       "       'caucasian', 'celtic', 'chamber', 'chanson', 'children', 'chill',\n",
       "       'chinese', 'choral', 'christian', 'christmas', 'classical',\n",
       "       'classicmetal', 'club', 'colombian', 'comedy', 'conjazz',\n",
       "       'contemporary', 'country', 'cuban', 'dance', 'dancehall',\n",
       "       'dancepop', 'dark', 'death', 'deep', 'deutschrock', 'deutschspr',\n",
       "       'dirty', 'disco', 'dnb', 'documentary', 'downbeat', 'downtempo',\n",
       "       'drum', 'dub', 'dubstep', 'eastern', 'easy', 'electronic',\n",
       "       'electropop', 'emo', 'entehno', 'epicmetal', 'estrada', 'ethnic',\n",
       "       'eurofolk', 'european', 'experimental', 'extrememetal', 'fado',\n",
       "       'fairytail', 'film', 'fitness', 'flamenco', 'folk', 'folklore',\n",
       "       'folkmetal', 'folkrock', 'folktronica', 'forró', 'frankreich',\n",
       "       'französisch', 'french', 'funk', 'future', 'gangsta', 'garage',\n",
       "       'german', 'ghazal', 'gitarre', 'glitch', 'gospel', 'gothic',\n",
       "       'grime', 'grunge', 'gypsy', 'handsup', \"hard'n'heavy\", 'hardcore',\n",
       "       'hardstyle', 'hardtechno', 'hip', 'hip-hop', 'hiphop',\n",
       "       'historisch', 'holiday', 'hop', 'horror', 'house', 'hymn', 'idm',\n",
       "       'independent', 'indian', 'indie', 'indipop', 'industrial',\n",
       "       'inspirational', 'instrumental', 'international', 'irish', 'jam',\n",
       "       'japanese', 'jazz', 'jewish', 'jpop', 'jungle', 'k-pop',\n",
       "       'karadeniz', 'karaoke', 'kayokyoku', 'korean', 'laiko', 'latin',\n",
       "       'latino', 'leftfield', 'local', 'lounge', 'loungeelectronic',\n",
       "       'lovers', 'malaysian', 'mandopop', 'marschmusik', 'meditative',\n",
       "       'mediterranean', 'melodic', 'metal', 'metalcore', 'mexican',\n",
       "       'middle', 'minimal', 'miscellaneous', 'modern', 'mood', 'mpb',\n",
       "       'muslim', 'native', 'neoklassik', 'neue', 'new', 'newage',\n",
       "       'newwave', 'nu', 'nujazz', 'numetal', 'oceania', 'old', 'opera',\n",
       "       'orchestral', 'other', 'piano', 'podcasts', 'pop', 'popdance',\n",
       "       'popelectronic', 'popeurodance', 'poprussian', 'post',\n",
       "       'posthardcore', 'postrock', 'power', 'progmetal', 'progressive',\n",
       "       'psychedelic', 'punjabi', 'punk', 'quebecois', 'ragga', 'ram',\n",
       "       'rancheras', 'rap', 'rave', 'reggae', 'reggaeton', 'regional',\n",
       "       'relax', 'religious', 'retro', 'rhythm', 'rnb', 'rnr', 'rock',\n",
       "       'rockabilly', 'rockalternative', 'rockindie', 'rockother',\n",
       "       'romance', 'roots', 'ruspop', 'rusrap', 'rusrock', 'russian',\n",
       "       'salsa', 'samba', 'scenic', 'schlager', 'self', 'sertanejo',\n",
       "       'shanson', 'shoegazing', 'showtunes', 'singer', 'ska', 'skarock',\n",
       "       'slow', 'smooth', 'soft', 'soul', 'soulful', 'sound', 'soundtrack',\n",
       "       'southern', 'specialty', 'speech', 'spiritual', 'sport',\n",
       "       'stonerrock', 'surf', 'swing', 'synthpop', 'synthrock',\n",
       "       'sängerportrait', 'tango', 'tanzorchester', 'taraftar', 'tatar',\n",
       "       'tech', 'techno', 'teen', 'thrash', 'top', 'traditional',\n",
       "       'tradjazz', 'trance', 'tribal', 'trip', 'triphop', 'tropical',\n",
       "       'türk', 'türkçe', 'ukrrock', 'unknown', 'urban', 'uzbek',\n",
       "       'variété', 'vi', 'videogame', 'vocal', 'western', 'world',\n",
       "       'worldbeat', 'ïîï', 'электроника'], dtype=object)"
      ]
     },
     "execution_count": 14,
     "metadata": {},
     "output_type": "execute_result"
    }
   ],
   "source": [
    "# Unique genre titles\n",
    "all_genres=df['genre'].sort_values().unique()\n",
    "all_genres"
   ]
  },
  {
   "cell_type": "markdown",
   "metadata": {
    "id": "qej-Qmuo_Zct"
   },
   "source": [
    "The following other duplicates:\n",
    "* *hip*,\n",
    "* *hop*,\n",
    "* *hip-hop*,\n",
    "\n",
    "\n",
    "* *електроника*,\n",
    "* *electronic*.\n",
    "\n",
    "Let's write the function `replace_wrong_genres()` with two parameters:\n",
    "* `wrong_genres` — list of duplicates,\n",
    "* `correct_genre` is a string with the correct value."
   ]
  },
  {
   "cell_type": "code",
   "execution_count": 15,
   "metadata": {
    "id": "ErNDkmns_Zct"
   },
   "outputs": [],
   "source": [
    "# Function for replacing duplicates\n",
    "def replace_wrong_genres(wrong_genres,correct_genre):\n",
    "    df['genre'] = df['genre'].replace(wrong_genres, correct_genre)\n",
    "    return df['genre']"
   ]
  },
  {
   "cell_type": "code",
   "execution_count": 16,
   "metadata": {
    "id": "YN5i2hpmSo09"
   },
   "outputs": [
    {
     "data": {
      "text/plain": [
       "0              rock\n",
       "1              rock\n",
       "2               pop\n",
       "3              folk\n",
       "4             dance\n",
       "            ...    \n",
       "61248           rnb\n",
       "61249    electronic\n",
       "61250    industrial\n",
       "61251          rock\n",
       "61252       country\n",
       "Name: genre, Length: 61253, dtype: object"
      ]
     },
     "execution_count": 16,
     "metadata": {},
     "output_type": "execute_result"
    }
   ],
   "source": [
    "# Eliminate duplicates\n",
    "wrong_genres_1 = ['hip','hop','hip-hop']\n",
    "correct_genre_1 = 'hiphop'\n",
    "\n",
    "wrong_genres_2 = 'электроника'\n",
    "correct_genre_2 = 'electronic'\n",
    "\n",
    "replace_wrong_genres(wrong_genres_1,correct_genre_2)\n",
    "replace_wrong_genres(wrong_genres_2,correct_genre_2)"
   ]
  },
  {
   "cell_type": "code",
   "execution_count": 17,
   "metadata": {
    "id": "wvixALnFG15m"
   },
   "outputs": [
    {
     "data": {
      "text/plain": [
       "array(['acid', 'acoustic', 'action', 'adult', 'africa', 'afrikaans',\n",
       "       'alternative', 'alternativepunk', 'ambient', 'americana',\n",
       "       'animated', 'anime', 'arabesk', 'arabic', 'arena',\n",
       "       'argentinetango', 'art', 'audiobook', 'author', 'avantgarde',\n",
       "       'axé', 'baile', 'balkan', 'beats', 'bigroom', 'black', 'bluegrass',\n",
       "       'blues', 'bollywood', 'bossa', 'brazilian', 'breakbeat', 'breaks',\n",
       "       'broadway', 'cantautori', 'cantopop', 'canzone', 'caribbean',\n",
       "       'caucasian', 'celtic', 'chamber', 'chanson', 'children', 'chill',\n",
       "       'chinese', 'choral', 'christian', 'christmas', 'classical',\n",
       "       'classicmetal', 'club', 'colombian', 'comedy', 'conjazz',\n",
       "       'contemporary', 'country', 'cuban', 'dance', 'dancehall',\n",
       "       'dancepop', 'dark', 'death', 'deep', 'deutschrock', 'deutschspr',\n",
       "       'dirty', 'disco', 'dnb', 'documentary', 'downbeat', 'downtempo',\n",
       "       'drum', 'dub', 'dubstep', 'eastern', 'easy', 'electronic',\n",
       "       'electropop', 'emo', 'entehno', 'epicmetal', 'estrada', 'ethnic',\n",
       "       'eurofolk', 'european', 'experimental', 'extrememetal', 'fado',\n",
       "       'fairytail', 'film', 'fitness', 'flamenco', 'folk', 'folklore',\n",
       "       'folkmetal', 'folkrock', 'folktronica', 'forró', 'frankreich',\n",
       "       'französisch', 'french', 'funk', 'future', 'gangsta', 'garage',\n",
       "       'german', 'ghazal', 'gitarre', 'glitch', 'gospel', 'gothic',\n",
       "       'grime', 'grunge', 'gypsy', 'handsup', \"hard'n'heavy\", 'hardcore',\n",
       "       'hardstyle', 'hardtechno', 'hiphop', 'historisch', 'holiday',\n",
       "       'horror', 'house', 'hymn', 'idm', 'independent', 'indian', 'indie',\n",
       "       'indipop', 'industrial', 'inspirational', 'instrumental',\n",
       "       'international', 'irish', 'jam', 'japanese', 'jazz', 'jewish',\n",
       "       'jpop', 'jungle', 'k-pop', 'karadeniz', 'karaoke', 'kayokyoku',\n",
       "       'korean', 'laiko', 'latin', 'latino', 'leftfield', 'local',\n",
       "       'lounge', 'loungeelectronic', 'lovers', 'malaysian', 'mandopop',\n",
       "       'marschmusik', 'meditative', 'mediterranean', 'melodic', 'metal',\n",
       "       'metalcore', 'mexican', 'middle', 'minimal', 'miscellaneous',\n",
       "       'modern', 'mood', 'mpb', 'muslim', 'native', 'neoklassik', 'neue',\n",
       "       'new', 'newage', 'newwave', 'nu', 'nujazz', 'numetal', 'oceania',\n",
       "       'old', 'opera', 'orchestral', 'other', 'piano', 'podcasts', 'pop',\n",
       "       'popdance', 'popelectronic', 'popeurodance', 'poprussian', 'post',\n",
       "       'posthardcore', 'postrock', 'power', 'progmetal', 'progressive',\n",
       "       'psychedelic', 'punjabi', 'punk', 'quebecois', 'ragga', 'ram',\n",
       "       'rancheras', 'rap', 'rave', 'reggae', 'reggaeton', 'regional',\n",
       "       'relax', 'religious', 'retro', 'rhythm', 'rnb', 'rnr', 'rock',\n",
       "       'rockabilly', 'rockalternative', 'rockindie', 'rockother',\n",
       "       'romance', 'roots', 'ruspop', 'rusrap', 'rusrock', 'russian',\n",
       "       'salsa', 'samba', 'scenic', 'schlager', 'self', 'sertanejo',\n",
       "       'shanson', 'shoegazing', 'showtunes', 'singer', 'ska', 'skarock',\n",
       "       'slow', 'smooth', 'soft', 'soul', 'soulful', 'sound', 'soundtrack',\n",
       "       'southern', 'specialty', 'speech', 'spiritual', 'sport',\n",
       "       'stonerrock', 'surf', 'swing', 'synthpop', 'synthrock',\n",
       "       'sängerportrait', 'tango', 'tanzorchester', 'taraftar', 'tatar',\n",
       "       'tech', 'techno', 'teen', 'thrash', 'top', 'traditional',\n",
       "       'tradjazz', 'trance', 'tribal', 'trip', 'triphop', 'tropical',\n",
       "       'türk', 'türkçe', 'ukrrock', 'unknown', 'urban', 'uzbek',\n",
       "       'variété', 'vi', 'videogame', 'vocal', 'western', 'world',\n",
       "       'worldbeat', 'ïîï'], dtype=object)"
      ]
     },
     "execution_count": 17,
     "metadata": {},
     "output_type": "execute_result"
    }
   ],
   "source": [
    "# Checking for duplicates\n",
    "all_genres=df['genre'].sort_values().unique()\n",
    "all_genres"
   ]
  },
  {
   "cell_type": "markdown",
   "metadata": {
    "id": "jz6a9-7HQUDd"
   },
   "source": [
    "**Conclusions**\n",
    "\n",
    "Preprocessing found three problems in the data:\n",
    "\n",
    "- violations in the style of headlines,\n",
    "- missing values,\n",
    "- duplicates — obvious and other.\n",
    "\n",
    "We have corrected the headers to simplify working with the table. Without duplicates, the study will become more accurate.\n",
    "\n",
    "We replaced the missing values with `'unknown'`. It remains to be seen whether omissions in the `genre` column will damage the research.\n",
    "\n",
    "Now we can proceed to hypothesis testing."
   ]
  },
  {
   "cell_type": "markdown",
   "metadata": {
    "id": "WttZHXH0SqKk"
   },
   "source": [
    "## Hypothesis testing"
   ]
  },
  {
   "cell_type": "markdown",
   "metadata": {
    "id": "Im936VVi_Zcu"
   },
   "source": [
    "### Comparison of user behavior of two capitals"
   ]
  },
  {
   "cell_type": "markdown",
   "metadata": {
    "id": "nwt_MuaL_Zcu"
   },
   "source": [
    "The first hypothesis states that users listen to music differently in Moscow and St. Petersburg. Let's check this assumption based on data on three days of the week — Monday, Wednesday and Friday. For this:\n",
    "\n",
    "* We will divide the users of Moscow and St. Petersburg\n",
    "* Compare how many tracks each user group listened to on Monday, Wednesday and Friday."
   ]
  },
  {
   "cell_type": "code",
   "execution_count": 18,
   "metadata": {
    "id": "0_Qs96oh_Zcu"
   },
   "outputs": [
    {
     "data": {
      "text/plain": [
       "city\n",
       "Moscow              42741\n",
       "Saint-Petersburg    18512\n",
       "Name: city, dtype: int64"
      ]
     },
     "execution_count": 18,
     "metadata": {},
     "output_type": "execute_result"
    }
   ],
   "source": [
    "# Counting auditions in each city\n",
    "df.groupby('city')['city'].count()"
   ]
  },
  {
   "cell_type": "markdown",
   "metadata": {
    "id": "dzli3w8o_Zcu"
   },
   "source": [
    "There are more auditions in Moscow than in St. Petersburg. This does not mean that Moscow users listen to music more often. It's just that there are more users in Moscow.\n",
    "\n",
    "Now let's group the data by day of the week and count the auditions on Monday, Wednesday and Friday. Please note that the data contains information only about the auditions for these days only."
   ]
  },
  {
   "cell_type": "code",
   "execution_count": 19,
   "metadata": {
    "id": "uZMKjiJz_Zcu"
   },
   "outputs": [
    {
     "data": {
      "text/plain": [
       "day\n",
       "Friday       21840\n",
       "Monday       21354\n",
       "Wednesday    18059\n",
       "Name: day, dtype: int64"
      ]
     },
     "execution_count": 19,
     "metadata": {},
     "output_type": "execute_result"
    }
   ],
   "source": [
    "# Counting auditions on each of the three days\n",
    "df.groupby('day')['day'].count()"
   ]
  },
  {
   "cell_type": "markdown",
   "metadata": {
    "id": "cC2tNrlL_Zcu"
   },
   "source": [
    "On average, users from two cities are less active on Wednesdays. But the picture may change if we consider each city separately."
   ]
  },
  {
   "cell_type": "markdown",
   "metadata": {
    "id": "POzs8bGa_Zcu"
   },
   "source": [
    "Let's create a function `number_tracks()`, which will count auditions for a given day and city. We will need two parameters:\n",
    "* day of the week,\n",
    "* name of the city."
   ]
  },
  {
   "cell_type": "code",
   "execution_count": 20,
   "metadata": {
    "id": "Nz3GdQB1_Zcu"
   },
   "outputs": [],
   "source": [
    "def number_tracks(day,city):\n",
    "    track_list=df[df['day']==day]\n",
    "    track_list=track_list[track_list['city']==city]\n",
    "    track_list_count=track_list['user_id'].count()\n",
    "    return track_list_count"
   ]
  },
  {
   "cell_type": "code",
   "execution_count": 21,
   "metadata": {
    "id": "rJcRATNQ_Zcu"
   },
   "outputs": [
    {
     "data": {
      "text/plain": [
       "15740"
      ]
     },
     "execution_count": 21,
     "metadata": {},
     "output_type": "execute_result"
    }
   ],
   "source": [
    "# number of auditions in Moscow on Mondays\n",
    "number_tracks('Monday','Moscow')"
   ]
  },
  {
   "cell_type": "code",
   "execution_count": 22,
   "metadata": {
    "id": "hq_ncZ5T_Zcu"
   },
   "outputs": [
    {
     "data": {
      "text/plain": [
       "5614"
      ]
     },
     "execution_count": 22,
     "metadata": {},
     "output_type": "execute_result"
    }
   ],
   "source": [
    "# number of auditions in St. Petersburg on Mondays\n",
    "number_tracks('Monday','Saint-Petersburg')"
   ]
  },
  {
   "cell_type": "code",
   "execution_count": 23,
   "metadata": {
    "id": "_NTy2VPU_Zcu"
   },
   "outputs": [
    {
     "data": {
      "text/plain": [
       "11056"
      ]
     },
     "execution_count": 23,
     "metadata": {},
     "output_type": "execute_result"
    }
   ],
   "source": [
    "# number of auditions in Moscow on Wednesdays\n",
    "number_tracks('Wednesday','Moscow')"
   ]
  },
  {
   "cell_type": "code",
   "execution_count": 24,
   "metadata": {
    "id": "j2y3TAwo_Zcu"
   },
   "outputs": [
    {
     "data": {
      "text/plain": [
       "7003"
      ]
     },
     "execution_count": 24,
     "metadata": {},
     "output_type": "execute_result"
    }
   ],
   "source": [
    "# number of auditions in St. Petersburg on Wednesdays\n",
    "number_tracks('Wednesday','Saint-Petersburg')"
   ]
  },
  {
   "cell_type": "code",
   "execution_count": 25,
   "metadata": {
    "id": "vYDw5u_K_Zcu"
   },
   "outputs": [
    {
     "data": {
      "text/plain": [
       "15945"
      ]
     },
     "execution_count": 25,
     "metadata": {},
     "output_type": "execute_result"
    }
   ],
   "source": [
    "# number of auditions in Moscow on Fridays\n",
    "number_tracks('Friday','Moscow')"
   ]
  },
  {
   "cell_type": "code",
   "execution_count": 26,
   "metadata": {
    "id": "8_yzFtW3_Zcu"
   },
   "outputs": [
    {
     "data": {
      "text/plain": [
       "5895"
      ]
     },
     "execution_count": 26,
     "metadata": {},
     "output_type": "execute_result"
    }
   ],
   "source": [
    "# number of auditions in St. Petersburg on Fridays\n",
    "number_tracks('Friday','Saint-Petersburg')"
   ]
  },
  {
   "cell_type": "code",
   "execution_count": 27,
   "metadata": {
    "id": "APAcLpOr_Zcu"
   },
   "outputs": [
    {
     "data": {
      "text/html": [
       "<div>\n",
       "<style scoped>\n",
       "    .dataframe tbody tr th:only-of-type {\n",
       "        vertical-align: middle;\n",
       "    }\n",
       "\n",
       "    .dataframe tbody tr th {\n",
       "        vertical-align: top;\n",
       "    }\n",
       "\n",
       "    .dataframe thead th {\n",
       "        text-align: right;\n",
       "    }\n",
       "</style>\n",
       "<table border=\"1\" class=\"dataframe\">\n",
       "  <thead>\n",
       "    <tr style=\"text-align: right;\">\n",
       "      <th></th>\n",
       "      <th>city</th>\n",
       "      <th>monday</th>\n",
       "      <th>wednesday</th>\n",
       "      <th>friday</th>\n",
       "    </tr>\n",
       "  </thead>\n",
       "  <tbody>\n",
       "    <tr>\n",
       "      <th>0</th>\n",
       "      <td>Moscow</td>\n",
       "      <td>15740</td>\n",
       "      <td>11056</td>\n",
       "      <td>15945</td>\n",
       "    </tr>\n",
       "    <tr>\n",
       "      <th>1</th>\n",
       "      <td>Saint-Petersburg</td>\n",
       "      <td>5614</td>\n",
       "      <td>7003</td>\n",
       "      <td>5895</td>\n",
       "    </tr>\n",
       "  </tbody>\n",
       "</table>\n",
       "</div>"
      ],
      "text/plain": [
       "               city  monday  wednesday  friday\n",
       "0            Moscow   15740      11056   15945\n",
       "1  Saint-Petersburg    5614       7003    5895"
      ]
     },
     "execution_count": 27,
     "metadata": {},
     "output_type": "execute_result"
    }
   ],
   "source": [
    "# Таблица с результатами\n",
    "columns_names = ['city', 'monday', 'wednesday', 'friday']\n",
    "counts = [\n",
    "    ['Moscow', 15740, 11056, 15945],\n",
    "    ['Saint-Petersburg', 5614, 7003, 5895]\n",
    "]\n",
    "\n",
    "table = pd.DataFrame(data = counts, columns = columns_names)\n",
    "table"
   ]
  },
  {
   "cell_type": "markdown",
   "metadata": {
    "id": "-EgPIHYu_Zcu"
   },
   "source": [
    "**Conclusions**\n",
    "\n",
    "The data shows the difference in user behavior:\n",
    "\n",
    "- In Moscow, the peak of auditions falls on Monday and Friday, and on Wednesday there is a noticeable decline.\n",
    "- In St. Petersburg, on the contrary, they listen to music more on Wednesdays. Activity on Monday and Friday here is almost equally inferior to Wednesday.\n",
    "\n",
    "So, the data indicate theсvalidity of the first hypothesis."
   ]
  },
  {
   "cell_type": "markdown",
   "metadata": {
    "id": "atZAxtq4_Zcu"
   },
   "source": [
    "### Music at the beginning and end of the week"
   ]
  },
  {
   "cell_type": "markdown",
   "metadata": {
    "id": "eXrQqXFH_Zcu"
   },
   "source": [
    "According to the second hypothesis, some genres prevail in Moscow on Monday morning, and others in St. Petersburg. Similarly, on Friday evening, different genres prevail — depending on the city."
   ]
  },
  {
   "cell_type": "code",
   "execution_count": 28,
   "metadata": {
    "id": "qeaFfM_P_Zcu"
   },
   "outputs": [],
   "source": [
    "# getting the moscow_general table from the rows of the df table\n",
    "moscow_general = df[df['city'] == 'Moscow']"
   ]
  },
  {
   "cell_type": "code",
   "execution_count": 29,
   "metadata": {
    "id": "ORaVRKto_Zcu"
   },
   "outputs": [],
   "source": [
    "# getting the spb_general table from the rows of the df table\n",
    "spb_general = df[df['city'] == 'Saint-Petersburg']"
   ]
  },
  {
   "cell_type": "markdown",
   "metadata": {
    "id": "MEJV-CX2_Zcu"
   },
   "source": [
    "Let's create the `genre_weekday()` function with four parameters:\n",
    "* table (dataframe) with data,\n",
    "* day of the week,\n",
    "* initial timestamp in the format 'hh:mm',\n",
    "* the last timestamp in the format 'hh:mm'.\n",
    "\n",
    "The function will return information about the top 10 genres of those tracks that were listened to on the specified day, in the interval between two timestamps."
   ]
  },
  {
   "cell_type": "code",
   "execution_count": 30,
   "metadata": {
    "id": "laJT9BYl_Zcu"
   },
   "outputs": [],
   "source": [
    "def genre_weekday(table, day, time1, time2):\n",
    "    genre_df = table[table['day'] == day]\n",
    "    genre_df = genre_df[genre_df['time'] > time1]\n",
    "    genre_df = genre_df[genre_df['time'] < time2]\n",
    "    genre_df_count = genre_df.groupby('genre')['genre'].count()\n",
    "    genre_df_sorted = genre_df_count.sort_values(ascending=False)\n",
    "    return genre_df_sorted.head(10)"
   ]
  },
  {
   "cell_type": "markdown",
   "metadata": {
    "id": "la2s2_PF_Zcu"
   },
   "source": [
    "Let's compare the results of the `genre_weekday()` function for Moscow and St. Petersburg on Monday morning (from 7:00 to 11:00) and Friday evening (from 17:00 to 23:00):"
   ]
  },
  {
   "cell_type": "code",
   "execution_count": 31,
   "metadata": {
    "id": "yz7itPUQ_Zcu"
   },
   "outputs": [
    {
     "data": {
      "text/plain": [
       "genre\n",
       "pop            781\n",
       "electronic     762\n",
       "dance          549\n",
       "rock           474\n",
       "ruspop         186\n",
       "world          181\n",
       "rusrap         175\n",
       "alternative    164\n",
       "unknown        161\n",
       "classical      157\n",
       "Name: genre, dtype: int64"
      ]
     },
     "execution_count": 31,
     "metadata": {},
     "output_type": "execute_result"
    }
   ],
   "source": [
    "genre_weekday(moscow_general, 'Monday', '07:00', '11:00')"
   ]
  },
  {
   "cell_type": "code",
   "execution_count": 32,
   "metadata": {
    "id": "kwUcHPdy_Zcu"
   },
   "outputs": [
    {
     "data": {
      "text/plain": [
       "genre\n",
       "electronic     226\n",
       "pop            218\n",
       "dance          182\n",
       "rock           162\n",
       "ruspop          64\n",
       "alternative     58\n",
       "rusrap          55\n",
       "jazz            44\n",
       "classical       40\n",
       "world           36\n",
       "Name: genre, dtype: int64"
      ]
     },
     "execution_count": 32,
     "metadata": {},
     "output_type": "execute_result"
    }
   ],
   "source": [
    "genre_weekday(spb_general, 'Monday', '07:00', '11:00')"
   ]
  },
  {
   "cell_type": "code",
   "execution_count": 33,
   "metadata": {
    "id": "EzXVRE1o_Zcu"
   },
   "outputs": [
    {
     "data": {
      "text/plain": [
       "genre\n",
       "electronic     749\n",
       "pop            713\n",
       "rock           517\n",
       "dance          495\n",
       "world          208\n",
       "ruspop         170\n",
       "alternative    163\n",
       "classical      163\n",
       "rusrap         142\n",
       "jazz           111\n",
       "Name: genre, dtype: int64"
      ]
     },
     "execution_count": 33,
     "metadata": {},
     "output_type": "execute_result"
    }
   ],
   "source": [
    "genre_weekday(moscow_general, 'Friday', '17:00', '23:00')"
   ]
  },
  {
   "cell_type": "code",
   "execution_count": 34,
   "metadata": {
    "id": "JZaEKu5v_Zcu"
   },
   "outputs": [
    {
     "data": {
      "text/plain": [
       "genre\n",
       "electronic     310\n",
       "pop            256\n",
       "rock           216\n",
       "dance          210\n",
       "alternative     63\n",
       "jazz            61\n",
       "classical       60\n",
       "rusrap          59\n",
       "world           54\n",
       "ruspop          47\n",
       "Name: genre, dtype: int64"
      ]
     },
     "execution_count": 34,
     "metadata": {},
     "output_type": "execute_result"
    }
   ],
   "source": [
    "genre_weekday(spb_general, 'Friday', '17:00', '23:00')"
   ]
  },
  {
   "cell_type": "markdown",
   "metadata": {
    "id": "wrCe4MNX_Zcu"
   },
   "source": [
    "**Conclusions**\n",
    "\n",
    "If we compare the top 10 genres on Monday morning, we can make the following conclusions:\n",
    "\n",
    "1. In Moscow and St. Petersburg, people listen to similar music. The only difference is that the jazz entered the St. Petersburg rating.\n",
    "\n",
    "\n",
    "2. In Moscow, there were so many missing values that the value `'unknown'` took the ninth place among the most popular genres. This means that the missing values take up a significant part of the data and threaten the validity of the research.\n",
    "\n",
    "Friday night doesn't change that picture. Some genres rise a little higher, others go down, but overall the top 10 remains the same.\n",
    "\n",
    "Thus, the second hypothesis was only partially confirmed:\n",
    "* Users listen to similar music at the beginning of the week and at the end.\n",
    "* The difference between Moscow and St. Petersburg is not too obvious.\n",
    "\n",
    "However, omissions in the data cast doubt on this result. There are so many of them in Moscow that the top-10 rating could look different if not for the lost data on genres."
   ]
  },
  {
   "cell_type": "markdown",
   "metadata": {
    "id": "JolODAqr_Zcu"
   },
   "source": [
    "### Genre preferences in Moscow and St. Petersburg\n",
    "\n",
    "Hypothesis: St. Petersburg is the capital of rap, music of this genre is listened to more often than in Moscow. And Moscow is a city of contrasts, in which, nevertheless, pop music prevails."
   ]
  },
  {
   "cell_type": "code",
   "execution_count": 35,
   "metadata": {
    "id": "r19lIPke_Zcu"
   },
   "outputs": [],
   "source": [
    "moscow_genres = moscow_general.groupby('genre')['genre'].count().sort_values(ascending=False)"
   ]
  },
  {
   "cell_type": "code",
   "execution_count": 36,
   "metadata": {
    "id": "WhCSooF8_Zcv"
   },
   "outputs": [
    {
     "data": {
      "text/plain": [
       "genre\n",
       "pop            5892\n",
       "electronic     5829\n",
       "dance          4435\n",
       "rock           3965\n",
       "classical      1616\n",
       "world          1432\n",
       "alternative    1379\n",
       "ruspop         1372\n",
       "rusrap         1161\n",
       "jazz            980\n",
       "Name: genre, dtype: int64"
      ]
     },
     "execution_count": 36,
     "metadata": {},
     "output_type": "execute_result"
    }
   ],
   "source": [
    "# first 10 lines of moscow_genres\n",
    "moscow_genres.head(10)"
   ]
  },
  {
   "cell_type": "code",
   "execution_count": 37,
   "metadata": {
    "id": "gluLIpE7_Zcv"
   },
   "outputs": [],
   "source": [
    "spb_genres = spb_general.groupby('genre')['genre'].count().sort_values(ascending=False)"
   ]
  },
  {
   "cell_type": "code",
   "execution_count": 38,
   "metadata": {
    "id": "uaGJHjVU_Zcv"
   },
   "outputs": [
    {
     "data": {
      "text/plain": [
       "genre\n",
       "electronic     2671\n",
       "pop            2431\n",
       "dance          1932\n",
       "rock           1879\n",
       "alternative     649\n",
       "classical       646\n",
       "rusrap          564\n",
       "ruspop          538\n",
       "world           515\n",
       "jazz            486\n",
       "Name: genre, dtype: int64"
      ]
     },
     "execution_count": 38,
     "metadata": {},
     "output_type": "execute_result"
    }
   ],
   "source": [
    "# first 10 lines of spb_genres\n",
    "spb_genres.head(10)"
   ]
  },
  {
   "cell_type": "markdown",
   "metadata": {
    "id": "RY51YJYu_Zcv"
   },
   "source": [
    "**Conclusions**"
   ]
  },
  {
   "cell_type": "markdown",
   "metadata": {
    "id": "nVhnJEm__Zcv"
   },
   "source": [
    "The hypothesis was partially confirmed:\n",
    "* Pop music is the most popular genre in Moscow, as the hypothesis suggested. Moreover, in the top 10 genres there is a similar genre - Russian popular music.\n",
    "* Contrary to expectations, rap is about equally popular in Moscow and St. Petersburg."
   ]
  },
  {
   "cell_type": "markdown",
   "metadata": {
    "id": "ykKQ0N65_Zcv"
   },
   "source": [
    "## Results of the research"
   ]
  },
  {
   "cell_type": "markdown",
   "metadata": {
    "id": "tjUwbHb3_Zcv"
   },
   "source": [
    "We tested three hypotheses and established:\n",
    "\n",
    "1. The day of the week has different effects on user activity in Moscow and St. Petersburg.\n",
    "\n",
    "The first hypothesis was fully confirmed.\n",
    "\n",
    "2. Musical preferences do not change much during the week — be it Moscow or St. Petersburg. Small differences are noticeable at the beginning of the week, on Mondays.\n",
    "\n",
    "Thus, the second hypothesis was only partially confirmed. This result could have been different if not for the omissions in the data.\n",
    "\n",
    "3. There are more similarities than differences in the tastes of users in Moscow and St. Petersburg. Contrary to expectations, genre preferences in St. Petersburg resemble those in Moscow.\n",
    "\n",
    "The third hypothesis was not confirmed. If there are differences in preferences, they are invisible to the majority of users."
   ]
  }
 ],
 "metadata": {
  "ExecuteTimeLog": [
   {
    "duration": 603,
    "start_time": "2022-01-23T11:02:31.913Z"
   },
   {
    "duration": 153,
    "start_time": "2022-01-23T11:03:01.078Z"
   },
   {
    "duration": 17,
    "start_time": "2022-01-23T11:03:12.241Z"
   },
   {
    "duration": 11,
    "start_time": "2022-01-23T11:03:24.862Z"
   },
   {
    "duration": 7,
    "start_time": "2022-01-23T11:03:30.084Z"
   },
   {
    "duration": 10,
    "start_time": "2022-01-23T11:03:34.808Z"
   },
   {
    "duration": 24,
    "start_time": "2022-01-23T11:04:08.292Z"
   },
   {
    "duration": 25,
    "start_time": "2022-01-23T11:04:23.611Z"
   },
   {
    "duration": 24,
    "start_time": "2022-01-23T11:04:28.479Z"
   },
   {
    "duration": 4,
    "start_time": "2022-01-23T11:07:35.678Z"
   },
   {
    "duration": 4,
    "start_time": "2022-01-23T11:08:14.924Z"
   },
   {
    "duration": 23,
    "start_time": "2022-01-23T11:11:00.346Z"
   },
   {
    "duration": 4,
    "start_time": "2022-01-23T11:11:06.376Z"
   },
   {
    "duration": 29,
    "start_time": "2022-01-23T11:12:09.136Z"
   },
   {
    "duration": 25,
    "start_time": "2022-01-23T11:12:15.087Z"
   },
   {
    "duration": 29,
    "start_time": "2022-01-23T11:12:39.190Z"
   },
   {
    "duration": 22,
    "start_time": "2022-01-23T11:13:31.133Z"
   },
   {
    "duration": 22,
    "start_time": "2022-01-23T11:13:45.568Z"
   },
   {
    "duration": 24,
    "start_time": "2022-01-23T11:13:49.160Z"
   },
   {
    "duration": 19,
    "start_time": "2022-01-23T11:16:30.470Z"
   },
   {
    "duration": 24,
    "start_time": "2022-01-23T11:16:47.775Z"
   },
   {
    "duration": 59,
    "start_time": "2022-01-23T11:17:22.393Z"
   },
   {
    "duration": 72,
    "start_time": "2022-01-23T11:18:57.385Z"
   },
   {
    "duration": 55,
    "start_time": "2022-01-23T11:19:15.538Z"
   },
   {
    "duration": 50,
    "start_time": "2022-01-23T11:19:21.459Z"
   },
   {
    "duration": 3,
    "start_time": "2022-01-23T11:19:40.957Z"
   },
   {
    "duration": 63,
    "start_time": "2022-01-23T11:21:16.831Z"
   },
   {
    "duration": 242,
    "start_time": "2022-01-23T11:21:21.877Z"
   },
   {
    "duration": 197,
    "start_time": "2022-01-23T11:21:27.885Z"
   },
   {
    "duration": 39,
    "start_time": "2022-01-23T11:21:50.110Z"
   },
   {
    "duration": 42,
    "start_time": "2022-01-23T11:22:03.143Z"
   },
   {
    "duration": 39,
    "start_time": "2022-01-23T11:22:25.857Z"
   },
   {
    "duration": 38,
    "start_time": "2022-01-23T11:22:42.162Z"
   },
   {
    "duration": 38,
    "start_time": "2022-01-23T11:22:49.034Z"
   },
   {
    "duration": 5,
    "start_time": "2022-01-23T11:22:54.667Z"
   },
   {
    "duration": 38,
    "start_time": "2022-01-23T11:23:05.177Z"
   },
   {
    "duration": 40,
    "start_time": "2022-01-23T11:23:13.715Z"
   },
   {
    "duration": 59,
    "start_time": "2022-01-23T11:28:38.707Z"
   },
   {
    "duration": 77,
    "start_time": "2022-01-23T11:31:57.885Z"
   },
   {
    "duration": 3,
    "start_time": "2022-01-23T11:32:04.738Z"
   },
   {
    "duration": 12,
    "start_time": "2022-01-23T11:34:50.896Z"
   },
   {
    "duration": 184,
    "start_time": "2022-01-23T11:35:17.583Z"
   },
   {
    "duration": 3,
    "start_time": "2022-01-23T11:38:00.612Z"
   },
   {
    "duration": 153,
    "start_time": "2022-01-23T11:38:00.616Z"
   },
   {
    "duration": 11,
    "start_time": "2022-01-23T11:38:00.771Z"
   },
   {
    "duration": 33,
    "start_time": "2022-01-23T11:38:00.784Z"
   },
   {
    "duration": 17,
    "start_time": "2022-01-23T11:38:00.819Z"
   },
   {
    "duration": 33,
    "start_time": "2022-01-23T11:38:00.838Z"
   },
   {
    "duration": 7,
    "start_time": "2022-01-23T11:38:00.873Z"
   },
   {
    "duration": 33,
    "start_time": "2022-01-23T11:38:00.882Z"
   },
   {
    "duration": 25,
    "start_time": "2022-01-23T11:38:00.917Z"
   },
   {
    "duration": 25,
    "start_time": "2022-01-23T11:38:00.945Z"
   },
   {
    "duration": 96,
    "start_time": "2022-01-23T11:38:00.972Z"
   },
   {
    "duration": 86,
    "start_time": "2022-01-23T11:38:01.070Z"
   },
   {
    "duration": 63,
    "start_time": "2022-01-23T11:38:01.158Z"
   },
   {
    "duration": 45,
    "start_time": "2022-01-23T11:38:01.224Z"
   },
   {
    "duration": 5,
    "start_time": "2022-01-23T11:38:01.271Z"
   },
   {
    "duration": 357,
    "start_time": "2022-01-23T11:38:04.240Z"
   },
   {
    "duration": 347,
    "start_time": "2022-01-23T11:38:39.782Z"
   },
   {
    "duration": 2,
    "start_time": "2022-01-23T11:40:22.351Z"
   },
   {
    "duration": 156,
    "start_time": "2022-01-23T11:40:22.355Z"
   },
   {
    "duration": 10,
    "start_time": "2022-01-23T11:40:22.513Z"
   },
   {
    "duration": 34,
    "start_time": "2022-01-23T11:40:22.526Z"
   },
   {
    "duration": 4,
    "start_time": "2022-01-23T11:40:22.561Z"
   },
   {
    "duration": 36,
    "start_time": "2022-01-23T11:40:22.567Z"
   },
   {
    "duration": 4,
    "start_time": "2022-01-23T11:40:22.604Z"
   },
   {
    "duration": 34,
    "start_time": "2022-01-23T11:40:22.611Z"
   },
   {
    "duration": 17,
    "start_time": "2022-01-23T11:40:22.647Z"
   },
   {
    "duration": 44,
    "start_time": "2022-01-23T11:40:22.666Z"
   },
   {
    "duration": 53,
    "start_time": "2022-01-23T11:40:22.712Z"
   },
   {
    "duration": 83,
    "start_time": "2022-01-23T11:40:22.767Z"
   },
   {
    "duration": 56,
    "start_time": "2022-01-23T11:40:22.851Z"
   },
   {
    "duration": 38,
    "start_time": "2022-01-23T11:40:22.908Z"
   },
   {
    "duration": 4,
    "start_time": "2022-01-23T11:40:29.170Z"
   },
   {
    "duration": 3,
    "start_time": "2022-01-23T11:40:34.860Z"
   },
   {
    "duration": 153,
    "start_time": "2022-01-23T11:40:34.865Z"
   },
   {
    "duration": 10,
    "start_time": "2022-01-23T11:40:35.020Z"
   },
   {
    "duration": 26,
    "start_time": "2022-01-23T11:40:35.032Z"
   },
   {
    "duration": 4,
    "start_time": "2022-01-23T11:40:35.060Z"
   },
   {
    "duration": 36,
    "start_time": "2022-01-23T11:40:35.065Z"
   },
   {
    "duration": 4,
    "start_time": "2022-01-23T11:40:35.102Z"
   },
   {
    "duration": 28,
    "start_time": "2022-01-23T11:40:35.108Z"
   },
   {
    "duration": 17,
    "start_time": "2022-01-23T11:40:35.137Z"
   },
   {
    "duration": 21,
    "start_time": "2022-01-23T11:40:35.156Z"
   },
   {
    "duration": 73,
    "start_time": "2022-01-23T11:40:35.179Z"
   },
   {
    "duration": 74,
    "start_time": "2022-01-23T11:40:35.254Z"
   },
   {
    "duration": 50,
    "start_time": "2022-01-23T11:40:35.330Z"
   },
   {
    "duration": 74,
    "start_time": "2022-01-23T11:40:35.382Z"
   },
   {
    "duration": 3,
    "start_time": "2022-01-23T11:40:35.458Z"
   },
   {
    "duration": 12,
    "start_time": "2022-01-23T11:40:44.415Z"
   },
   {
    "duration": 366,
    "start_time": "2022-01-23T11:41:10.915Z"
   },
   {
    "duration": 42,
    "start_time": "2022-01-23T11:41:46.759Z"
   },
   {
    "duration": 22,
    "start_time": "2022-01-23T11:45:38.074Z"
   },
   {
    "duration": 10,
    "start_time": "2022-01-23T11:45:56.979Z"
   },
   {
    "duration": 4,
    "start_time": "2022-01-23T11:48:40.363Z"
   },
   {
    "duration": 12,
    "start_time": "2022-01-23T11:48:53.214Z"
   },
   {
    "duration": 10,
    "start_time": "2022-01-23T11:50:04.460Z"
   },
   {
    "duration": 10,
    "start_time": "2022-01-23T11:50:39.436Z"
   },
   {
    "duration": 4,
    "start_time": "2022-01-23T11:55:52.892Z"
   },
   {
    "duration": 181,
    "start_time": "2022-01-23T11:56:37.560Z"
   },
   {
    "duration": 174,
    "start_time": "2022-01-23T11:56:44.423Z"
   },
   {
    "duration": 9,
    "start_time": "2022-01-23T11:56:56.855Z"
   },
   {
    "duration": 9,
    "start_time": "2022-01-23T11:57:02.354Z"
   },
   {
    "duration": 15,
    "start_time": "2022-01-23T11:57:18.707Z"
   },
   {
    "duration": 16,
    "start_time": "2022-01-23T11:57:51.926Z"
   },
   {
    "duration": 23,
    "start_time": "2022-01-23T11:58:03.743Z"
   },
   {
    "duration": 23,
    "start_time": "2022-01-23T11:58:15.783Z"
   },
   {
    "duration": 16,
    "start_time": "2022-01-23T11:58:30.407Z"
   },
   {
    "duration": 3,
    "start_time": "2022-01-23T11:58:32.944Z"
   },
   {
    "duration": 3,
    "start_time": "2022-01-23T11:58:34.742Z"
   },
   {
    "duration": 15,
    "start_time": "2022-01-23T11:58:54.039Z"
   },
   {
    "duration": 17,
    "start_time": "2022-01-23T11:59:19.026Z"
   },
   {
    "duration": 19,
    "start_time": "2022-01-23T11:59:29.008Z"
   },
   {
    "duration": 17,
    "start_time": "2022-01-23T11:59:37.814Z"
   },
   {
    "duration": 267,
    "start_time": "2022-01-23T12:04:38.695Z"
   },
   {
    "duration": 5,
    "start_time": "2022-01-23T12:04:47.881Z"
   },
   {
    "duration": 9,
    "start_time": "2022-01-23T12:04:57.822Z"
   },
   {
    "duration": 9,
    "start_time": "2022-01-23T12:05:15.152Z"
   },
   {
    "duration": 11,
    "start_time": "2022-01-23T12:06:55.583Z"
   },
   {
    "duration": 9,
    "start_time": "2022-01-23T12:07:18.859Z"
   },
   {
    "duration": 4,
    "start_time": "2022-01-23T12:15:55.741Z"
   },
   {
    "duration": 1001,
    "start_time": "2022-01-23T12:17:26.311Z"
   },
   {
    "duration": 3,
    "start_time": "2022-01-23T12:17:44.850Z"
   },
   {
    "duration": 31,
    "start_time": "2022-01-23T12:17:47.306Z"
   },
   {
    "duration": 19,
    "start_time": "2022-01-23T12:18:16.882Z"
   },
   {
    "duration": 29,
    "start_time": "2022-01-23T12:18:59.357Z"
   },
   {
    "duration": 19,
    "start_time": "2022-01-23T12:19:15.552Z"
   },
   {
    "duration": 14,
    "start_time": "2022-01-23T12:22:29.432Z"
   },
   {
    "duration": 16,
    "start_time": "2022-01-23T12:23:10.454Z"
   },
   {
    "duration": 10,
    "start_time": "2022-01-23T12:25:52.810Z"
   },
   {
    "duration": 10,
    "start_time": "2022-01-23T12:26:30.511Z"
   },
   {
    "duration": 8,
    "start_time": "2022-01-23T12:26:51.409Z"
   },
   {
    "duration": 14,
    "start_time": "2022-01-23T12:27:13.691Z"
   },
   {
    "duration": 12,
    "start_time": "2022-01-23T12:27:39.420Z"
   },
   {
    "duration": 6,
    "start_time": "2022-01-23T12:27:54.011Z"
   },
   {
    "duration": 8,
    "start_time": "2022-01-23T12:27:57.369Z"
   },
   {
    "duration": 5,
    "start_time": "2022-01-23T12:27:59.727Z"
   },
   {
    "duration": 6,
    "start_time": "2022-01-23T12:28:41.424Z"
   },
   {
    "duration": 5,
    "start_time": "2022-01-23T12:28:54.077Z"
   },
   {
    "duration": 517,
    "start_time": "2022-01-29T15:46:34.814Z"
   },
   {
    "duration": 120,
    "start_time": "2022-01-29T15:46:35.332Z"
   },
   {
    "duration": 19,
    "start_time": "2022-01-29T15:46:35.454Z"
   },
   {
    "duration": 22,
    "start_time": "2022-01-29T15:46:35.475Z"
   },
   {
    "duration": 3,
    "start_time": "2022-01-29T15:46:35.499Z"
   },
   {
    "duration": 18,
    "start_time": "2022-01-29T15:46:35.503Z"
   },
   {
    "duration": 3,
    "start_time": "2022-01-29T15:46:35.523Z"
   },
   {
    "duration": 45,
    "start_time": "2022-01-29T15:46:35.529Z"
   },
   {
    "duration": 14,
    "start_time": "2022-01-29T15:46:35.577Z"
   },
   {
    "duration": 24,
    "start_time": "2022-01-29T15:46:35.593Z"
   },
   {
    "duration": 63,
    "start_time": "2022-01-29T15:46:35.618Z"
   },
   {
    "duration": 51,
    "start_time": "2022-01-29T15:46:35.682Z"
   },
   {
    "duration": 54,
    "start_time": "2022-01-29T15:46:35.734Z"
   },
   {
    "duration": 38,
    "start_time": "2022-01-29T15:46:35.790Z"
   },
   {
    "duration": 2,
    "start_time": "2022-01-29T15:46:35.830Z"
   },
   {
    "duration": 17,
    "start_time": "2022-01-29T15:46:35.833Z"
   },
   {
    "duration": 48,
    "start_time": "2022-01-29T15:46:35.852Z"
   },
   {
    "duration": 8,
    "start_time": "2022-01-29T15:46:35.902Z"
   },
   {
    "duration": 8,
    "start_time": "2022-01-29T15:46:35.912Z"
   },
   {
    "duration": 3,
    "start_time": "2022-01-29T15:46:35.921Z"
   },
   {
    "duration": 18,
    "start_time": "2022-01-29T15:46:35.926Z"
   },
   {
    "duration": 37,
    "start_time": "2022-01-29T15:46:35.945Z"
   },
   {
    "duration": 13,
    "start_time": "2022-01-29T15:46:35.985Z"
   },
   {
    "duration": 12,
    "start_time": "2022-01-29T15:46:36.000Z"
   },
   {
    "duration": 14,
    "start_time": "2022-01-29T15:46:36.014Z"
   },
   {
    "duration": 43,
    "start_time": "2022-01-29T15:46:36.030Z"
   },
   {
    "duration": 8,
    "start_time": "2022-01-29T15:46:36.074Z"
   },
   {
    "duration": 22,
    "start_time": "2022-01-29T15:46:36.083Z"
   },
   {
    "duration": 23,
    "start_time": "2022-01-29T15:46:36.107Z"
   },
   {
    "duration": 4,
    "start_time": "2022-01-29T15:46:36.131Z"
   },
   {
    "duration": 48,
    "start_time": "2022-01-29T15:46:36.136Z"
   },
   {
    "duration": 13,
    "start_time": "2022-01-29T15:46:36.186Z"
   },
   {
    "duration": 45,
    "start_time": "2022-01-29T15:46:36.200Z"
   },
   {
    "duration": 16,
    "start_time": "2022-01-29T15:46:36.247Z"
   },
   {
    "duration": 12,
    "start_time": "2022-01-29T15:46:36.264Z"
   },
   {
    "duration": 19,
    "start_time": "2022-01-29T15:46:36.278Z"
   },
   {
    "duration": 12,
    "start_time": "2022-01-29T15:46:36.299Z"
   },
   {
    "duration": 23,
    "start_time": "2022-01-29T15:46:36.313Z"
   },
   {
    "duration": 5,
    "start_time": "2022-01-29T15:51:24.976Z"
   },
   {
    "duration": 24,
    "start_time": "2022-01-29T15:51:25.980Z"
   },
   {
    "duration": 568,
    "start_time": "2022-01-29T15:57:02.561Z"
   },
   {
    "duration": 114,
    "start_time": "2022-01-29T15:57:03.131Z"
   },
   {
    "duration": 15,
    "start_time": "2022-01-29T15:57:03.247Z"
   },
   {
    "duration": 22,
    "start_time": "2022-01-29T15:57:03.272Z"
   },
   {
    "duration": 14,
    "start_time": "2022-01-29T15:57:03.296Z"
   },
   {
    "duration": 31,
    "start_time": "2022-01-29T15:57:03.311Z"
   },
   {
    "duration": 4,
    "start_time": "2022-01-29T15:57:03.344Z"
   },
   {
    "duration": 30,
    "start_time": "2022-01-29T15:57:03.350Z"
   },
   {
    "duration": 22,
    "start_time": "2022-01-29T15:57:03.383Z"
   },
   {
    "duration": 26,
    "start_time": "2022-01-29T15:57:03.407Z"
   },
   {
    "duration": 67,
    "start_time": "2022-01-29T15:57:03.435Z"
   },
   {
    "duration": 57,
    "start_time": "2022-01-29T15:57:03.504Z"
   },
   {
    "duration": 43,
    "start_time": "2022-01-29T15:57:03.562Z"
   },
   {
    "duration": 39,
    "start_time": "2022-01-29T15:57:03.606Z"
   },
   {
    "duration": 25,
    "start_time": "2022-01-29T15:57:03.647Z"
   },
   {
    "duration": 32,
    "start_time": "2022-01-29T15:57:03.674Z"
   },
   {
    "duration": 35,
    "start_time": "2022-01-29T15:57:03.708Z"
   },
   {
    "duration": 16,
    "start_time": "2022-01-29T15:57:03.744Z"
   },
   {
    "duration": 17,
    "start_time": "2022-01-29T15:57:03.761Z"
   },
   {
    "duration": 3,
    "start_time": "2022-01-29T15:57:03.780Z"
   },
   {
    "duration": 28,
    "start_time": "2022-01-29T15:57:03.784Z"
   },
   {
    "duration": 19,
    "start_time": "2022-01-29T15:57:03.813Z"
   },
   {
    "duration": 13,
    "start_time": "2022-01-29T15:57:03.833Z"
   },
   {
    "duration": 12,
    "start_time": "2022-01-29T15:57:03.847Z"
   },
   {
    "duration": 23,
    "start_time": "2022-01-29T15:57:03.861Z"
   },
   {
    "duration": 13,
    "start_time": "2022-01-29T15:57:03.885Z"
   },
   {
    "duration": 8,
    "start_time": "2022-01-29T15:57:03.902Z"
   },
   {
    "duration": 11,
    "start_time": "2022-01-29T15:57:03.912Z"
   },
   {
    "duration": 10,
    "start_time": "2022-01-29T15:57:03.924Z"
   },
   {
    "duration": 8,
    "start_time": "2022-01-29T15:57:03.936Z"
   },
   {
    "duration": 45,
    "start_time": "2022-01-29T15:57:03.945Z"
   },
   {
    "duration": 14,
    "start_time": "2022-01-29T15:57:03.992Z"
   },
   {
    "duration": 28,
    "start_time": "2022-01-29T15:57:04.008Z"
   },
   {
    "duration": 40,
    "start_time": "2022-01-29T15:57:04.038Z"
   },
   {
    "duration": 8,
    "start_time": "2022-01-29T15:57:04.080Z"
   },
   {
    "duration": 12,
    "start_time": "2022-01-29T15:57:04.089Z"
   },
   {
    "duration": 10,
    "start_time": "2022-01-29T15:57:04.103Z"
   },
   {
    "duration": 27,
    "start_time": "2022-01-29T15:57:04.115Z"
   },
   {
    "duration": 659,
    "start_time": "2022-01-30T05:40:21.225Z"
   },
   {
    "duration": 144,
    "start_time": "2022-01-30T05:40:21.885Z"
   },
   {
    "duration": 17,
    "start_time": "2022-01-30T05:40:22.031Z"
   },
   {
    "duration": 32,
    "start_time": "2022-01-30T05:40:22.049Z"
   },
   {
    "duration": 5,
    "start_time": "2022-01-30T05:40:22.083Z"
   },
   {
    "duration": 23,
    "start_time": "2022-01-30T05:40:22.090Z"
   },
   {
    "duration": 4,
    "start_time": "2022-01-30T05:40:22.115Z"
   },
   {
    "duration": 44,
    "start_time": "2022-01-30T05:40:22.122Z"
   },
   {
    "duration": 17,
    "start_time": "2022-01-30T05:40:22.169Z"
   },
   {
    "duration": 23,
    "start_time": "2022-01-30T05:40:22.188Z"
   },
   {
    "duration": 87,
    "start_time": "2022-01-30T05:40:22.213Z"
   },
   {
    "duration": 82,
    "start_time": "2022-01-30T05:40:22.301Z"
   },
   {
    "duration": 52,
    "start_time": "2022-01-30T05:40:22.385Z"
   },
   {
    "duration": 54,
    "start_time": "2022-01-30T05:40:22.439Z"
   },
   {
    "duration": 3,
    "start_time": "2022-01-30T05:40:22.495Z"
   },
   {
    "duration": 16,
    "start_time": "2022-01-30T05:40:22.499Z"
   },
   {
    "duration": 72,
    "start_time": "2022-01-30T05:40:22.517Z"
   },
   {
    "duration": 11,
    "start_time": "2022-01-30T05:40:22.590Z"
   },
   {
    "duration": 11,
    "start_time": "2022-01-30T05:40:22.603Z"
   },
   {
    "duration": 3,
    "start_time": "2022-01-30T05:40:22.616Z"
   },
   {
    "duration": 48,
    "start_time": "2022-01-30T05:40:22.621Z"
   },
   {
    "duration": 15,
    "start_time": "2022-01-30T05:40:22.670Z"
   },
   {
    "duration": 14,
    "start_time": "2022-01-30T05:40:22.688Z"
   },
   {
    "duration": 13,
    "start_time": "2022-01-30T05:40:22.704Z"
   },
   {
    "duration": 50,
    "start_time": "2022-01-30T05:40:22.718Z"
   },
   {
    "duration": 14,
    "start_time": "2022-01-30T05:40:22.770Z"
   },
   {
    "duration": 8,
    "start_time": "2022-01-30T05:40:22.786Z"
   },
   {
    "duration": 14,
    "start_time": "2022-01-30T05:40:22.795Z"
   },
   {
    "duration": 9,
    "start_time": "2022-01-30T05:40:22.811Z"
   },
   {
    "duration": 18,
    "start_time": "2022-01-30T05:42:56.201Z"
   },
   {
    "duration": 306,
    "start_time": "2022-01-30T05:43:03.777Z"
   },
   {
    "duration": 11,
    "start_time": "2022-01-30T05:43:08.285Z"
   },
   {
    "duration": 2,
    "start_time": "2022-01-30T05:45:50.142Z"
   },
   {
    "duration": 159,
    "start_time": "2022-01-30T05:45:50.146Z"
   },
   {
    "duration": 10,
    "start_time": "2022-01-30T05:45:50.307Z"
   },
   {
    "duration": 41,
    "start_time": "2022-01-30T05:45:50.319Z"
   },
   {
    "duration": 4,
    "start_time": "2022-01-30T05:45:50.362Z"
   },
   {
    "duration": 21,
    "start_time": "2022-01-30T05:45:50.367Z"
   },
   {
    "duration": 4,
    "start_time": "2022-01-30T05:45:50.390Z"
   },
   {
    "duration": 26,
    "start_time": "2022-01-30T05:45:50.396Z"
   },
   {
    "duration": 37,
    "start_time": "2022-01-30T05:45:50.424Z"
   },
   {
    "duration": 24,
    "start_time": "2022-01-30T05:45:50.462Z"
   },
   {
    "duration": 55,
    "start_time": "2022-01-30T05:45:50.488Z"
   },
   {
    "duration": 74,
    "start_time": "2022-01-30T05:45:50.545Z"
   },
   {
    "duration": 62,
    "start_time": "2022-01-30T05:45:50.621Z"
   },
   {
    "duration": 39,
    "start_time": "2022-01-30T05:45:50.684Z"
   },
   {
    "duration": 2,
    "start_time": "2022-01-30T05:45:50.725Z"
   },
   {
    "duration": 13,
    "start_time": "2022-01-30T05:45:50.729Z"
   },
   {
    "duration": 43,
    "start_time": "2022-01-30T05:45:50.761Z"
   },
   {
    "duration": 9,
    "start_time": "2022-01-30T05:45:50.806Z"
   },
   {
    "duration": 10,
    "start_time": "2022-01-30T05:45:50.818Z"
   },
   {
    "duration": 30,
    "start_time": "2022-01-30T05:45:50.830Z"
   },
   {
    "duration": 16,
    "start_time": "2022-01-30T05:45:50.862Z"
   },
   {
    "duration": 12,
    "start_time": "2022-01-30T05:45:50.880Z"
   },
   {
    "duration": 12,
    "start_time": "2022-01-30T05:45:50.894Z"
   },
   {
    "duration": 12,
    "start_time": "2022-01-30T05:45:50.908Z"
   },
   {
    "duration": 45,
    "start_time": "2022-01-30T05:45:50.922Z"
   },
   {
    "duration": 16,
    "start_time": "2022-01-30T05:45:50.969Z"
   },
   {
    "duration": 10,
    "start_time": "2022-01-30T05:45:50.987Z"
   },
   {
    "duration": 14,
    "start_time": "2022-01-30T05:45:50.999Z"
   },
   {
    "duration": 46,
    "start_time": "2022-01-30T05:45:51.015Z"
   },
   {
    "duration": 5,
    "start_time": "2022-01-30T05:45:51.063Z"
   },
   {
    "duration": 19,
    "start_time": "2022-01-30T05:46:06.445Z"
   },
   {
    "duration": 14,
    "start_time": "2022-01-30T05:46:18.412Z"
   },
   {
    "duration": 20,
    "start_time": "2022-01-30T05:46:31.038Z"
   },
   {
    "duration": 14,
    "start_time": "2022-01-30T05:46:34.925Z"
   },
   {
    "duration": 88,
    "start_time": "2022-01-30T05:49:02.421Z"
   },
   {
    "duration": 77,
    "start_time": "2022-01-30T05:49:06.238Z"
   },
   {
    "duration": 82,
    "start_time": "2022-01-30T05:49:37.095Z"
   },
   {
    "duration": 81,
    "start_time": "2022-01-30T05:49:46.541Z"
   },
   {
    "duration": 616,
    "start_time": "2022-01-31T03:12:57.920Z"
   },
   {
    "duration": 153,
    "start_time": "2022-01-31T03:12:58.538Z"
   },
   {
    "duration": 22,
    "start_time": "2022-01-31T03:12:58.693Z"
   },
   {
    "duration": 26,
    "start_time": "2022-01-31T03:12:58.717Z"
   },
   {
    "duration": 4,
    "start_time": "2022-01-31T03:12:58.745Z"
   },
   {
    "duration": 32,
    "start_time": "2022-01-31T03:12:58.751Z"
   },
   {
    "duration": 5,
    "start_time": "2022-01-31T03:12:58.807Z"
   },
   {
    "duration": 25,
    "start_time": "2022-01-31T03:12:58.815Z"
   },
   {
    "duration": 22,
    "start_time": "2022-01-31T03:12:58.842Z"
   },
   {
    "duration": 45,
    "start_time": "2022-01-31T03:12:58.866Z"
   },
   {
    "duration": 66,
    "start_time": "2022-01-31T03:12:58.913Z"
   },
   {
    "duration": 98,
    "start_time": "2022-01-31T03:12:58.981Z"
   },
   {
    "duration": 67,
    "start_time": "2022-01-31T03:12:59.081Z"
   },
   {
    "duration": 43,
    "start_time": "2022-01-31T03:12:59.149Z"
   },
   {
    "duration": 14,
    "start_time": "2022-01-31T03:12:59.193Z"
   },
   {
    "duration": 24,
    "start_time": "2022-01-31T03:12:59.210Z"
   },
   {
    "duration": 44,
    "start_time": "2022-01-31T03:12:59.236Z"
   },
   {
    "duration": 29,
    "start_time": "2022-01-31T03:12:59.283Z"
   },
   {
    "duration": 12,
    "start_time": "2022-01-31T03:12:59.315Z"
   },
   {
    "duration": 4,
    "start_time": "2022-01-31T03:12:59.330Z"
   },
   {
    "duration": 26,
    "start_time": "2022-01-31T03:12:59.336Z"
   },
   {
    "duration": 51,
    "start_time": "2022-01-31T03:12:59.364Z"
   },
   {
    "duration": 18,
    "start_time": "2022-01-31T03:12:59.419Z"
   },
   {
    "duration": 17,
    "start_time": "2022-01-31T03:12:59.439Z"
   },
   {
    "duration": 54,
    "start_time": "2022-01-31T03:12:59.458Z"
   },
   {
    "duration": 18,
    "start_time": "2022-01-31T03:12:59.514Z"
   },
   {
    "duration": 11,
    "start_time": "2022-01-31T03:12:59.534Z"
   },
   {
    "duration": 14,
    "start_time": "2022-01-31T03:12:59.547Z"
   },
   {
    "duration": 12,
    "start_time": "2022-01-31T03:12:59.563Z"
   },
   {
    "duration": 5,
    "start_time": "2022-01-31T03:12:59.607Z"
   },
   {
    "duration": 27,
    "start_time": "2022-01-31T03:12:59.614Z"
   },
   {
    "duration": 15,
    "start_time": "2022-01-31T03:12:59.643Z"
   },
   {
    "duration": 20,
    "start_time": "2022-01-31T03:12:59.659Z"
   },
   {
    "duration": 15,
    "start_time": "2022-01-31T03:12:59.708Z"
   },
   {
    "duration": 8,
    "start_time": "2022-01-31T03:12:59.725Z"
   },
   {
    "duration": 5,
    "start_time": "2022-01-31T03:12:59.735Z"
   },
   {
    "duration": 9,
    "start_time": "2022-01-31T03:12:59.742Z"
   },
   {
    "duration": 26,
    "start_time": "2022-01-31T03:12:59.752Z"
   }
  ],
  "colab": {
   "collapsed_sections": [
    "E0vqbgi9ay0H",
    "VUC88oWjTJw2"
   ],
   "name": "yandex_music_project_2021.2.ipynb",
   "provenance": []
  },
  "kernelspec": {
   "display_name": "Python 3",
   "language": "python",
   "name": "python3"
  },
  "language_info": {
   "codemirror_mode": {
    "name": "ipython",
    "version": 3
   },
   "file_extension": ".py",
   "mimetype": "text/x-python",
   "name": "python",
   "nbconvert_exporter": "python",
   "pygments_lexer": "ipython3",
   "version": "3.7.6"
  },
  "toc": {
   "base_numbering": 1,
   "nav_menu": {},
   "number_sections": false,
   "sideBar": true,
   "skip_h1_title": true,
   "title_cell": "Table of Contents",
   "title_sidebar": "Contents",
   "toc_cell": true,
   "toc_position": {},
   "toc_section_display": true,
   "toc_window_display": true
  }
 },
 "nbformat": 4,
 "nbformat_minor": 4
}
